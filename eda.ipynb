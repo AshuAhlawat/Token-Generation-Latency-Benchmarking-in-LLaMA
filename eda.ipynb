{
 "cells": [
  {
   "cell_type": "code",
   "id": "initial_id",
   "metadata": {
    "collapsed": true,
    "ExecuteTime": {
     "end_time": "2025-10-11T19:37:14.203619Z",
     "start_time": "2025-10-11T19:37:14.188250Z"
    }
   },
   "source": [
    "from asyncio import new_event_loop\n",
    "\n",
    "import pandas as pd\n",
    "import plotly.express as px\n",
    "import plotly.graph_objects as go"
   ],
   "outputs": [],
   "execution_count": 177
  },
  {
   "metadata": {
    "ExecuteTime": {
     "end_time": "2025-10-11T20:21:15.618662Z",
     "start_time": "2025-10-11T20:21:15.593684Z"
    }
   },
   "cell_type": "code",
   "source": [
    "def process(device):\n",
    "    df = pd.read_csv(f\"./data/{device}_outputs.csv\")\n",
    "\n",
    "    df[\"input_tokens_per_prompt\"] = df[\"input_tokens\"] / df[\"prompts\"]\n",
    "    df[\"output_tokens_per_prompt\"] = df[\"output_tokens\"] / df[\"prompts\"]\n",
    "    df[\"prompts\"] = df[\"prompts\"].astype(str)\n",
    "\n",
    "    df[\"load_time\"] = df[\"load_time\"]/1000\n",
    "    df[\"prompt_eval_time\"] = df[\"prompt_eval_time\"]/1000\n",
    "    df[\"output_eval_time\"] = df[\"output_eval_time\"]/1000\n",
    "    df[\"total_time\"] = df[\"total_time\"]/1000\n",
    "\n",
    "    df[\"load_time_per_input_token\"] = df[\"load_time\"] / df[\"input_tokens\"]\n",
    "    df[\"prompt_eval_time_per_input_token\"] = df[\"prompt_eval_time\"] / df[\"input_tokens\"]\n",
    "    df[\"output_eval_time_per_output_token\"] = df[\"output_eval_time\"] / df[\"output_tokens\"]\n",
    "    df[\"total_time_per_input_token\"] = df[\"total_time\"] / df[\"input_tokens\"]\n",
    "    df[\"total_time_per_output_token\"] = df[\"total_time\"] / df[\"output_tokens\"]\n",
    "\n",
    "\n",
    "    return df\n",
    "\n",
    "data_df = process(\"RTX4060\")"
   ],
   "id": "caca6fe54cffec14",
   "outputs": [],
   "execution_count": 276
  },
  {
   "metadata": {
    "ExecuteTime": {
     "end_time": "2025-10-11T19:37:14.705988Z",
     "start_time": "2025-10-11T19:37:14.250137Z"
    }
   },
   "cell_type": "code",
   "source": [
    "# remove color from the fig below and run again\n",
    "fig = px.scatter(data_df, x= range(len(data_df)), y= \"load_time\", marginal_y=\"histogram\")\n",
    "fig.show()\n",
    "fig = px.scatter(data_df, x= range(len(data_df)), y= \"total_time\", color = 'prompts', marginal_y=\"violin\")\n",
    "fig.show()\n",
    "fig = px.scatter(data_df, x= range(len(data_df)), y= \"load_time_per_input_token\", color=\"prompts\", size=\"input_tokens\", marginal_y=\"box\")\n",
    "fig.show()\n",
    "fig = px.scatter(data_df, x= range(len(data_df)), y= \"total_time_per_output_token\", color = 'prompts', marginal_y=\"violin\")\n",
    "fig.show()"
   ],
   "id": "63a990aae41df126",
   "outputs": [
    {
     "data": {
      "application/vnd.plotly.v1+json": {
       "data": [
        {
         "hovertemplate": "x=%{x}<br>load_time=%{y}<extra></extra>",
         "legendgroup": "",
         "marker": {
          "color": "#636efa",
          "symbol": "circle"
         },
         "mode": "markers",
         "name": "",
         "orientation": "v",
         "showlegend": false,
         "x": {
          "dtype": "i2",
          "bdata": "AAABAAIAAwAEAAUABgAHAAgACQAKAAsADAANAA4ADwAQABEAEgATABQAFQAWABcAGAAZABoAGwAcAB0AHgAfACAAIQAiACMAJAAlACYAJwAoACkAKgArACwALQAuAC8AMAAxADIAMwA0ADUANgA3ADgAOQA6ADsAPAA9AD4APwBAAEEAQgBDAEQARQBGAEcASABJAEoASwBMAE0ATgBPAFAAUQBSAFMAVABVAFYAVwBYAFkAWgBbAFwAXQBeAF8AYABhAGIAYwBkAGUAZgBnAGgAaQBqAGsAbABtAG4AbwBwAHEAcgBzAHQAdQB2AHcAeAB5AHoAewB8AH0AfgB/AIAAgQCCAIMAhACFAIYAhwCIAIkAigCLAIwAjQCOAI8AkACRAJIAkwCUAJUAlgCXAJgAmQCaAJsAnACdAJ4AnwCgAKEAogCjAKQApQCmAKcAqACpAKoAqwCsAK0ArgCvALAAsQCyALMAtAC1ALYAtwC4ALkAugC7ALwAvQC+AL8AwADBAMIAwwDEAMUAxgDHAMgAyQDKAMsAzADNAM4AzwDQANEA0gDTANQA1QDWANcA2ADZANoA2wDcAN0A3gDfAOAA4QDiAOMA5ADlAOYA5wDoAOkA6gDrAOwA7QDuAO8A8ADxAPIA8wD0APUA9gD3APgA+QD6APsA/AD9AP4A/wAAAQEBAgEDAQQBBQEGAQcBCAEJAQoBCwEMAQ0BDgEPARABEQESARMBFAEVARYBFwEYARkBGgEbARwBHQEeAR8BIAEhASIBIwEkASUBJgEnASgBKQEqASsBLAEtAS4BLwEwATEBMgEzATQBNQE2ATcBOAE5AToBOwE8AT0BPgE/AUABQQFCAUMBRAFFAUYBRwFIAUkBSgFLAUwBTQFOAU8BUAFRAVIBUwFUAVUBVgFXAVgBWQFaAVsBXAFdAV4BXwFgAWEBYgFjAWQBZQFmAWcBaAFpAWoBawFsAW0BbgFvAXABcQFyAXMBdAF1AXYBdwF4AXkBegF7AXwBfQF+AX8BgAGBAYIBgwGEAYUBhgGHAYgBiQGKAYsBjAGNAY4BjwGQAZEBkgGTAZQBlQGWAZcBmAGZAZoBmwGcAZ0BngGfAaABoQGiAaMBpAGlAaYBpwE="
         },
         "xaxis": "x",
         "y": {
          "dtype": "f8",
          "bdata": "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"
         },
         "yaxis": "y",
         "type": "scatter"
        },
        {
         "bingroup": "y",
         "hovertemplate": "load_time=%{y}<br>count=%{x}<extra></extra>",
         "legendgroup": "",
         "marker": {
          "color": "#636efa"
         },
         "name": "",
         "opacity": 0.5,
         "showlegend": false,
         "xaxis": "x2",
         "y": {
          "dtype": "f8",
          "bdata": "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"
         },
         "yaxis": "y2",
         "type": "histogram"
        }
       ],
       "layout": {
        "template": {
         "data": {
          "histogram2dcontour": [
           {
            "type": "histogram2dcontour",
            "colorbar": {
             "outlinewidth": 0,
             "ticks": ""
            },
            "colorscale": [
             [
              0.0,
              "#0d0887"
             ],
             [
              0.1111111111111111,
              "#46039f"
             ],
             [
              0.2222222222222222,
              "#7201a8"
             ],
             [
              0.3333333333333333,
              "#9c179e"
             ],
             [
              0.4444444444444444,
              "#bd3786"
             ],
             [
              0.5555555555555556,
              "#d8576b"
             ],
             [
              0.6666666666666666,
              "#ed7953"
             ],
             [
              0.7777777777777778,
              "#fb9f3a"
             ],
             [
              0.8888888888888888,
              "#fdca26"
             ],
             [
              1.0,
              "#f0f921"
             ]
            ]
           }
          ],
          "choropleth": [
           {
            "type": "choropleth",
            "colorbar": {
             "outlinewidth": 0,
             "ticks": ""
            }
           }
          ],
          "histogram2d": [
           {
            "type": "histogram2d",
            "colorbar": {
             "outlinewidth": 0,
             "ticks": ""
            },
            "colorscale": [
             [
              0.0,
              "#0d0887"
             ],
             [
              0.1111111111111111,
              "#46039f"
             ],
             [
              0.2222222222222222,
              "#7201a8"
             ],
             [
              0.3333333333333333,
              "#9c179e"
             ],
             [
              0.4444444444444444,
              "#bd3786"
             ],
             [
              0.5555555555555556,
              "#d8576b"
             ],
             [
              0.6666666666666666,
              "#ed7953"
             ],
             [
              0.7777777777777778,
              "#fb9f3a"
             ],
             [
              0.8888888888888888,
              "#fdca26"
             ],
             [
              1.0,
              "#f0f921"
             ]
            ]
           }
          ],
          "heatmap": [
           {
            "type": "heatmap",
            "colorbar": {
             "outlinewidth": 0,
             "ticks": ""
            },
            "colorscale": [
             [
              0.0,
              "#0d0887"
             ],
             [
              0.1111111111111111,
              "#46039f"
             ],
             [
              0.2222222222222222,
              "#7201a8"
             ],
             [
              0.3333333333333333,
              "#9c179e"
             ],
             [
              0.4444444444444444,
              "#bd3786"
             ],
             [
              0.5555555555555556,
              "#d8576b"
             ],
             [
              0.6666666666666666,
              "#ed7953"
             ],
             [
              0.7777777777777778,
              "#fb9f3a"
             ],
             [
              0.8888888888888888,
              "#fdca26"
             ],
             [
              1.0,
              "#f0f921"
             ]
            ]
           }
          ],
          "contourcarpet": [
           {
            "type": "contourcarpet",
            "colorbar": {
             "outlinewidth": 0,
             "ticks": ""
            }
           }
          ],
          "contour": [
           {
            "type": "contour",
            "colorbar": {
             "outlinewidth": 0,
             "ticks": ""
            },
            "colorscale": [
             [
              0.0,
              "#0d0887"
             ],
             [
              0.1111111111111111,
              "#46039f"
             ],
             [
              0.2222222222222222,
              "#7201a8"
             ],
             [
              0.3333333333333333,
              "#9c179e"
             ],
             [
              0.4444444444444444,
              "#bd3786"
             ],
             [
              0.5555555555555556,
              "#d8576b"
             ],
             [
              0.6666666666666666,
              "#ed7953"
             ],
             [
              0.7777777777777778,
              "#fb9f3a"
             ],
             [
              0.8888888888888888,
              "#fdca26"
             ],
             [
              1.0,
              "#f0f921"
             ]
            ]
           }
          ],
          "surface": [
           {
            "type": "surface",
            "colorbar": {
             "outlinewidth": 0,
             "ticks": ""
            },
            "colorscale": [
             [
              0.0,
              "#0d0887"
             ],
             [
              0.1111111111111111,
              "#46039f"
             ],
             [
              0.2222222222222222,
              "#7201a8"
             ],
             [
              0.3333333333333333,
              "#9c179e"
             ],
             [
              0.4444444444444444,
              "#bd3786"
             ],
             [
              0.5555555555555556,
              "#d8576b"
             ],
             [
              0.6666666666666666,
              "#ed7953"
             ],
             [
              0.7777777777777778,
              "#fb9f3a"
             ],
             [
              0.8888888888888888,
              "#fdca26"
             ],
             [
              1.0,
              "#f0f921"
             ]
            ]
           }
          ],
          "mesh3d": [
           {
            "type": "mesh3d",
            "colorbar": {
             "outlinewidth": 0,
             "ticks": ""
            }
           }
          ],
          "scatter": [
           {
            "marker": {
             "line": {
              "color": "#283442"
             }
            },
            "type": "scatter"
           }
          ],
          "parcoords": [
           {
            "type": "parcoords",
            "line": {
             "colorbar": {
              "outlinewidth": 0,
              "ticks": ""
             }
            }
           }
          ],
          "scatterpolargl": [
           {
            "type": "scatterpolargl",
            "marker": {
             "colorbar": {
              "outlinewidth": 0,
              "ticks": ""
             }
            }
           }
          ],
          "bar": [
           {
            "error_x": {
             "color": "#f2f5fa"
            },
            "error_y": {
             "color": "#f2f5fa"
            },
            "marker": {
             "line": {
              "color": "rgb(17,17,17)",
              "width": 0.5
             },
             "pattern": {
              "fillmode": "overlay",
              "size": 10,
              "solidity": 0.2
             }
            },
            "type": "bar"
           }
          ],
          "scattergeo": [
           {
            "type": "scattergeo",
            "marker": {
             "colorbar": {
              "outlinewidth": 0,
              "ticks": ""
             }
            }
           }
          ],
          "scatterpolar": [
           {
            "type": "scatterpolar",
            "marker": {
             "colorbar": {
              "outlinewidth": 0,
              "ticks": ""
             }
            }
           }
          ],
          "histogram": [
           {
            "marker": {
             "pattern": {
              "fillmode": "overlay",
              "size": 10,
              "solidity": 0.2
             }
            },
            "type": "histogram"
           }
          ],
          "scattergl": [
           {
            "marker": {
             "line": {
              "color": "#283442"
             }
            },
            "type": "scattergl"
           }
          ],
          "scatter3d": [
           {
            "type": "scatter3d",
            "line": {
             "colorbar": {
              "outlinewidth": 0,
              "ticks": ""
             }
            },
            "marker": {
             "colorbar": {
              "outlinewidth": 0,
              "ticks": ""
             }
            }
           }
          ],
          "scattermap": [
           {
            "type": "scattermap",
            "marker": {
             "colorbar": {
              "outlinewidth": 0,
              "ticks": ""
             }
            }
           }
          ],
          "scattermapbox": [
           {
            "type": "scattermapbox",
            "marker": {
             "colorbar": {
              "outlinewidth": 0,
              "ticks": ""
             }
            }
           }
          ],
          "scatterternary": [
           {
            "type": "scatterternary",
            "marker": {
             "colorbar": {
              "outlinewidth": 0,
              "ticks": ""
             }
            }
           }
          ],
          "scattercarpet": [
           {
            "type": "scattercarpet",
            "marker": {
             "colorbar": {
              "outlinewidth": 0,
              "ticks": ""
             }
            }
           }
          ],
          "carpet": [
           {
            "aaxis": {
             "endlinecolor": "#A2B1C6",
             "gridcolor": "#506784",
             "linecolor": "#506784",
             "minorgridcolor": "#506784",
             "startlinecolor": "#A2B1C6"
            },
            "baxis": {
             "endlinecolor": "#A2B1C6",
             "gridcolor": "#506784",
             "linecolor": "#506784",
             "minorgridcolor": "#506784",
             "startlinecolor": "#A2B1C6"
            },
            "type": "carpet"
           }
          ],
          "table": [
           {
            "cells": {
             "fill": {
              "color": "#506784"
             },
             "line": {
              "color": "rgb(17,17,17)"
             }
            },
            "header": {
             "fill": {
              "color": "#2a3f5f"
             },
             "line": {
              "color": "rgb(17,17,17)"
             }
            },
            "type": "table"
           }
          ],
          "barpolar": [
           {
            "marker": {
             "line": {
              "color": "rgb(17,17,17)",
              "width": 0.5
             },
             "pattern": {
              "fillmode": "overlay",
              "size": 10,
              "solidity": 0.2
             }
            },
            "type": "barpolar"
           }
          ],
          "pie": [
           {
            "automargin": true,
            "type": "pie"
           }
          ]
         },
         "layout": {
          "autotypenumbers": "strict",
          "colorway": [
           "#636efa",
           "#EF553B",
           "#00cc96",
           "#ab63fa",
           "#FFA15A",
           "#19d3f3",
           "#FF6692",
           "#B6E880",
           "#FF97FF",
           "#FECB52"
          ],
          "font": {
           "color": "#f2f5fa"
          },
          "hovermode": "closest",
          "hoverlabel": {
           "align": "left"
          },
          "paper_bgcolor": "rgb(17,17,17)",
          "plot_bgcolor": "rgb(17,17,17)",
          "polar": {
           "bgcolor": "rgb(17,17,17)",
           "angularaxis": {
            "gridcolor": "#506784",
            "linecolor": "#506784",
            "ticks": ""
           },
           "radialaxis": {
            "gridcolor": "#506784",
            "linecolor": "#506784",
            "ticks": ""
           }
          },
          "ternary": {
           "bgcolor": "rgb(17,17,17)",
           "aaxis": {
            "gridcolor": "#506784",
            "linecolor": "#506784",
            "ticks": ""
           },
           "baxis": {
            "gridcolor": "#506784",
            "linecolor": "#506784",
            "ticks": ""
           },
           "caxis": {
            "gridcolor": "#506784",
            "linecolor": "#506784",
            "ticks": ""
           }
          },
          "coloraxis": {
           "colorbar": {
            "outlinewidth": 0,
            "ticks": ""
           }
          },
          "colorscale": {
           "sequential": [
            [
             0.0,
             "#0d0887"
            ],
            [
             0.1111111111111111,
             "#46039f"
            ],
            [
             0.2222222222222222,
             "#7201a8"
            ],
            [
             0.3333333333333333,
             "#9c179e"
            ],
            [
             0.4444444444444444,
             "#bd3786"
            ],
            [
             0.5555555555555556,
             "#d8576b"
            ],
            [
             0.6666666666666666,
             "#ed7953"
            ],
            [
             0.7777777777777778,
             "#fb9f3a"
            ],
            [
             0.8888888888888888,
             "#fdca26"
            ],
            [
             1.0,
             "#f0f921"
            ]
           ],
           "sequentialminus": [
            [
             0.0,
             "#0d0887"
            ],
            [
             0.1111111111111111,
             "#46039f"
            ],
            [
             0.2222222222222222,
             "#7201a8"
            ],
            [
             0.3333333333333333,
             "#9c179e"
            ],
            [
             0.4444444444444444,
             "#bd3786"
            ],
            [
             0.5555555555555556,
             "#d8576b"
            ],
            [
             0.6666666666666666,
             "#ed7953"
            ],
            [
             0.7777777777777778,
             "#fb9f3a"
            ],
            [
             0.8888888888888888,
             "#fdca26"
            ],
            [
             1.0,
             "#f0f921"
            ]
           ],
           "diverging": [
            [
             0,
             "#8e0152"
            ],
            [
             0.1,
             "#c51b7d"
            ],
            [
             0.2,
             "#de77ae"
            ],
            [
             0.3,
             "#f1b6da"
            ],
            [
             0.4,
             "#fde0ef"
            ],
            [
             0.5,
             "#f7f7f7"
            ],
            [
             0.6,
             "#e6f5d0"
            ],
            [
             0.7,
             "#b8e186"
            ],
            [
             0.8,
             "#7fbc41"
            ],
            [
             0.9,
             "#4d9221"
            ],
            [
             1,
             "#276419"
            ]
           ]
          },
          "xaxis": {
           "gridcolor": "#283442",
           "linecolor": "#506784",
           "ticks": "",
           "title": {
            "standoff": 15
           },
           "zerolinecolor": "#283442",
           "automargin": true,
           "zerolinewidth": 2
          },
          "yaxis": {
           "gridcolor": "#283442",
           "linecolor": "#506784",
           "ticks": "",
           "title": {
            "standoff": 15
           },
           "zerolinecolor": "#283442",
           "automargin": true,
           "zerolinewidth": 2
          },
          "scene": {
           "xaxis": {
            "backgroundcolor": "rgb(17,17,17)",
            "gridcolor": "#506784",
            "linecolor": "#506784",
            "showbackground": true,
            "ticks": "",
            "zerolinecolor": "#C8D4E3",
            "gridwidth": 2
           },
           "yaxis": {
            "backgroundcolor": "rgb(17,17,17)",
            "gridcolor": "#506784",
            "linecolor": "#506784",
            "showbackground": true,
            "ticks": "",
            "zerolinecolor": "#C8D4E3",
            "gridwidth": 2
           },
           "zaxis": {
            "backgroundcolor": "rgb(17,17,17)",
            "gridcolor": "#506784",
            "linecolor": "#506784",
            "showbackground": true,
            "ticks": "",
            "zerolinecolor": "#C8D4E3",
            "gridwidth": 2
           }
          },
          "shapedefaults": {
           "line": {
            "color": "#f2f5fa"
           }
          },
          "annotationdefaults": {
           "arrowcolor": "#f2f5fa",
           "arrowhead": 0,
           "arrowwidth": 1
          },
          "geo": {
           "bgcolor": "rgb(17,17,17)",
           "landcolor": "rgb(17,17,17)",
           "subunitcolor": "#506784",
           "showland": true,
           "showlakes": true,
           "lakecolor": "rgb(17,17,17)"
          },
          "title": {
           "x": 0.05
          },
          "updatemenudefaults": {
           "bgcolor": "#506784",
           "borderwidth": 0
          },
          "sliderdefaults": {
           "bgcolor": "#C8D4E3",
           "borderwidth": 1,
           "bordercolor": "rgb(17,17,17)",
           "tickwidth": 0
          },
          "mapbox": {
           "style": "dark"
          }
         }
        },
        "xaxis": {
         "anchor": "y",
         "domain": [
          0.0,
          0.7363
         ],
         "title": {
          "text": "x"
         }
        },
        "yaxis": {
         "anchor": "x",
         "domain": [
          0.0,
          1.0
         ],
         "title": {
          "text": "load_time"
         }
        },
        "xaxis2": {
         "anchor": "y2",
         "domain": [
          0.7413,
          1.0
         ],
         "matches": "x2",
         "showticklabels": false,
         "showline": false,
         "ticks": "",
         "showgrid": true
        },
        "yaxis2": {
         "anchor": "x2",
         "domain": [
          0.0,
          1.0
         ],
         "matches": "y",
         "showticklabels": false,
         "showgrid": true
        },
        "legend": {
         "tracegroupgap": 0
        },
        "margin": {
         "t": 60
        },
        "barmode": "overlay"
       },
       "config": {
        "plotlyServerURL": "https://plot.ly"
       }
      }
     },
     "metadata": {},
     "output_type": "display_data",
     "jetTransient": {
      "display_id": null
     }
    },
    {
     "data": {
      "application/vnd.plotly.v1+json": {
       "data": [
        {
         "hovertemplate": "prompts=1<br>x=%{x}<br>total_time=%{y}<extra></extra>",
         "legendgroup": "1",
         "marker": {
          "color": "#636efa",
          "symbol": "circle"
         },
         "mode": "markers",
         "name": "1",
         "orientation": "v",
         "showlegend": true,
         "x": {
          "dtype": "i2",
          "bdata": "AAABAAIAAwAEAAUABgAHAAgACQAKAAsADAANAA4ADwAQABEAEgATABQAFQAWABcAGAAZABoAGwAcAB0AHgAfACAAIQAiACMAJAAlACYAJwAoACkAKgArACwALQAuAC8AMAAxADIAMwA0ADUANgA3ADgAOQA6ADsAPAA9AD4APwBqAGsAbABtAG4AbwBwAHEAcgBzAHQAdQB2AHcAeAB5AHoAewB8AH0AfgB/AIAAgQCCAIMAhACFAIYAhwCIAIkAigCLAIwAjQCOAI8AkACRAJIAkwCUAJUAlgCXAJgAmQCaAJsAnACdAJ4AnwCgAKEAogCjAKQApQCmAKcAqACpANQA1QDWANcA2ADZANoA2wDcAN0A3gDfAOAA4QDiAOMA5ADlAOYA5wDoAOkA6gDrAOwA7QDuAO8A8ADxAPIA8wD0APUA9gD3APgA+QD6APsA/AD9AP4A/wAAAQEBAgEDAQQBBQEGAQcBCAEJAQoBCwEMAQ0BDgEPARABEQESARMBPgE/AUABQQFCAUMBRAFFAUYBRwFIAUkBSgFLAUwBTQFOAU8BUAFRAVIBUwFUAVUBVgFXAVgBWQFaAVsBXAFdAV4BXwFgAWEBYgFjAWQBZQFmAWcBaAFpAWoBawFsAW0BbgFvAXABcQFyAXMBdAF1AXYBdwF4AXkBegF7AXwBfQE="
         },
         "xaxis": "x",
         "y": {
          "dtype": "f8",
          "bdata": "CQMqd/qc7j+v+m2ZHdMYQCwyldl7jPU/F0eKbffzI0CCInHqXkL0P7RWtDnOCS9AMzvmlxxS7j/l7nN8tOASQIQM5Nnlm/A/3H2OjxbHHkAHV+XnK63pPxuTtNHvyRRA5hHtdDHX8z99Gdaeo3sgQHne15KfntY/fqWYKOfwCECD/p1Ii47lP1R4K6YtsRZAeuerPx3q1T/59xkXDmQcQEW6n1OQX+w/5cXTPJEBF0BXtDnObYL7P6MCzCFOeCBAS/swjAVP5D+SSmcWV6saQNxkVBnGnec/0luXdVpSAUCXDoxyH4/wP5jBGJEo5B5AcbmwJC/B9T+0z75N2sshQHT0U3fAkPE/et+dIcGhI0CSqpJthXX4P7pL4qyI/iZARkzk3eyK8j+IhEq3gOssQLa3W5IDNuY/bLmOzH4gGkATpAhfTr/OP3wkyoOZiwhAarnYWZnV6j+KbmLtlDPbP5Jb7ie+Nd8/43lfS36yGUCm1ZC4x1LbPxGu2/uvVh5A4KtnUlTn9z+lngWhvCMgQEM8Ei9PZ/U/8oCyKVfEJ0A+9y9akQL0P6/e8qLAUCBAd7temiLA7z9Bo8+i0hMgQOO6zitDQdg/cqsgBrrmGkCaCvFIvLz4P8oPpnIkgSZAC+Hi8mlf8T/hkR3Ax8kqQNWoLK8BduI//cXHgh06H0A0eKkiJvLYP1aCIJs/Adc/r2mU5G+x8j+h9IWQ85YsQI+JlGbzOMk/w3esY6b+H0DF35tLFrzyP31WPnA6EiZA5X6HokCfzD/cirPY3J8aQAoHjD+bZsg/LFVYXxOI1D8PGaB+YWPxP/v3KkNm5CpA2xZlNsik5j+3bL5bap4OQH0cctgizvE/gcWGEz1FEkBKin4jcJryPzUHCObokSlA4RgTrLtD8T8NqJJcWf0KQNBb4QJ179g/fI9EeTDz0j/f1bz0QDXzPzb0BeOWfSVAZoUi3c8pyz+hJ6/fXSAXQGC6/37nzc8/UBX4L7UaEUDTizW3nZHkP662Yn/Z7SBAW7QAbavZ1z/UcxyJ4YwYQOmqirogbNU/zvv/OGGCAkD9FwgCZEj2P7N78rBQwyBAe+C+aVWm8D9jKlg+Ji0XQCuDD8qgH/U/jpSIS+n8JUCv6xfshk3yP3iOEgVEfiBAcyGgDJ8e9D9BRuXLsNIlQLpaOFofIO4/NN93wgEjCEDn85vTdt3WP7oX8878VRJAE0sll1pK8j+8UGW9vYQgQJ5c+GZA4to/cjYdAdw0GkAd9FsqJTrjP20jnuxmlhhAit5OxwhN8j8kxiHRuiwnQDwGddvPU/U/v8nbtpSEJ0AdFN4vsFj1P9X71wP39SRA6U/RR8+j7D8nKVVHM9MeQBSVaCSdHPY/lNi1vd3CK0Dw/nivWkkCQP6Hqk69LCdA2osNgjPd+z8UoFwJk6wsQFA0tKYebvc/ZUaJp2hqK0Cs2RTZGAX4P4qYyLvZISRA8IdERqwK9z/37X/bbtEoQB5nP/eK8/Y/dB30tuOzMECO/6eHDRv0PyYRK+0eUi1AZnrTPmd89j834iQo2RUtQGjWCLO/QvY/AKq4cYuNKUBbV3FP/J3+Pyyvpvy1CjBAFyb4SzAhAEA7dNWXAD8lQOn++503n/Q/Vih3RCpZIkBI/8u1aIH8P5YZgFcVsy1AXEx9agYi+z/Zoyaw750oQG+e6pCbAfc/vzT78rhCKUBUvgxrz+EDQFwIzQk1aiRAWvfqPlsi+j+LTGX2HucpQO1GxDmP7/w/8HRCQ1riKED3Z/XEKenzPx+CTxg5lCpAIZc48kAk+j9UMqWa/mUpQB3g7lEkxPM/eeFzzB4JLkAY2SmxxrT4P6DPNu0Y/SpAo4RPKWUo9D9SV4hYDnopQFbRxOAGgfM/oNZ+fFPGIkBselBQijYBQLTTxVwIBCdA7Wu4I/cv/D/XvbrPllQvQN1CVyJQHfU/XlJrUOrxJkA8k0eBTx34P632sBcKNCZA21g/7Du1+z9YuQZsvfUpQBZajHBJZPw/Bhz4B4DEJ0DHrv4Z7zj0P2QW62UlUydApj3KLVLN+T9k9VhEXlwnQCgmFMcmHvk/NEqX/iWBJECo7RXMTtX4P3hgAOFD/StAyOByBpCL+z/2JcBVQ5MlQNq8u9+yNPc/jcWANoNBLUAMUwAxrv33P+KGKdvR3SNAndGgsqsa9T/ig+haxXgoQDfzUIDNXvM/AsOoWsFlIkD6EK9G0T73P3i++tOhHiNAU/7/SY2a/j86zV2mgcYkQLTWYZaH9vg/ndA13fxIJUDuYvWi0Rj1P5ks7j8yzSRAOwlbomk/+z8d6+I2GkApQMu/lleul/E/KPOPvkmjKUBgoouXuN/7P5OzZhoDtShAhDth05Tu8D/G1+jmLM0iQPfvVYbMsO8/0AAokCN3G0D6/Oa0XZfyP6WqZFthnSlAE5oklpQb9j921U1zPBApQE3/7Q0Zqu8/R3lBnyPJLUD+pDVhViPzPyFNq9fjCCtAS5Uoe0tZ9T/Ps6OC1GslQID/nDhv8vI/oWQXsfTCJ0Bo1DIIYk/1P785bdeVbCJAjzEcdK6N+T969gHts6cnQMwgiD3+vPE/SGBi4kXtJkDyNRXzvRD2P7gehetRpCZApzAAnv4d8j/qsYi8QIwbQK3oxT8iHPA/CPU+nxJVI0Age7374/31PwKetHBZRSxAY+E1+Xen+z8Hb1nPWtsdQM464/viEvM/AgLn1rU7KkA="
         },
         "yaxis": "y",
         "type": "scatter"
        },
        {
         "alignmentgroup": "True",
         "hovertemplate": "prompts=1<br>total_time=%{y}<extra></extra>",
         "legendgroup": "1",
         "marker": {
          "color": "#636efa",
          "symbol": "circle"
         },
         "name": "1",
         "offsetgroup": "1",
         "scalegroup": "y",
         "showlegend": false,
         "xaxis": "x2",
         "y": {
          "dtype": "f8",
          "bdata": "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"
         },
         "yaxis": "y2",
         "type": "violin"
        },
        {
         "hovertemplate": "prompts=8<br>x=%{x}<br>total_time=%{y}<extra></extra>",
         "legendgroup": "8",
         "marker": {
          "color": "#EF553B",
          "symbol": "circle"
         },
         "mode": "markers",
         "name": "8",
         "orientation": "v",
         "showlegend": true,
         "x": {
          "dtype": "i2",
          "bdata": "QABBAEIAQwBEAEUARgBHAEgASQBKAEsATABNAE4ATwBQAFEAUgBTAFQAVQBWAFcAWABZAFoAWwBcAF0AXgBfAKoAqwCsAK0ArgCvALAAsQCyALMAtAC1ALYAtwC4ALkAugC7ALwAvQC+AL8AwADBAMIAwwDEAMUAxgDHAMgAyQAUARUBFgEXARgBGQEaARsBHAEdAR4BHwEgASEBIgEjASQBJQEmAScBKAEpASoBKwEsAS0BLgEvATABMQEyATMBfgF/AYABgQGCAYMBhAGFAYYBhwGIAYkBigGLAYwBjQGOAY8BkAGRAZIBkwGUAZUBlgGXAZgBmQGaAZsBnAGdAQ=="
         },
         "xaxis": "x",
         "y": {
          "dtype": "f8",
          "bdata": "qIsUysLvEUCHZG34gqMnQHosx3WdlwpAuUmxSLiZK0A3kInvH+4ZQETMgA5OWyNAFJFhFW/UFkB5micyzioxQJAYmHBDRxhAfqmfNxX9KUDFP2zp0WQJQGB561eVpCxARctw8hGHE0CRnKeVnY0nQBlRJKmW3hVAmBb1Se5UL0D0+/7Ni4MTQC2tKwvLlCVA96PywBG+C0Cv5qUHqhkxQGkKU0q+GA9AUyunmN6JJkDGcxE6Q5wXQLO7mwL0EDNAKFXseUjiEUBUymsldJMpQPLwngPLQQJAm0ZJ/hYXIEBc6ntoemQPQMbf9gSJdSZAtUE3RZH3FkBPOjanN8gzQHFGKBE86Q1A9nsH5LfhK0C7okqDkS0MQAcn/RjOYChAwkDGkiiqBUCFOHsM+z4kQPDP+7Wr9gpAjR/P0yU4KEB7mt2ks10KQE38rI0MCSVAF3+AWrFMEEDN1xtrNf4wQCqQ2Vn0bghAUpVb/1MIMUAlP+JXrOEQQMXEiypoITFALy/APjplDkAKqCZ3jpMlQAmlL4Sclw9ArW+7KxZMNkDonEQpxkYQQFqGk484pzdAVF0bhX+MCkDizuBK0ZsxQKjmzTwU4AVAeK3Oe61NFUCpXsg05AkEQKrSux2GDyhAo1huaTV8EkAr4s9LIGwvQHZTymsl5ARAUWnEzD7fDkDkiBCyh+UhQELQ0aqWg0NAtSj9zkCmGkBCKsWOxg8+QD0sL1RZ5xtAwZTcvMxRMUBC9P8F3akaQAVXL3VGfEFAZGaw84DrIECfOZCaG1xDQIcmmlE9wxhA5AS3/xKGO0AywKofQPMjQFL5jWWwZDpAdFB4v8BaHkDVqgJaXwdFQKF3dG25fCFAi+Kwj6kqSED2HQ3xWZgbQPCTWXM2ZUBArn0BvXAfI0BqSIGqdu46QAg4KXHCsRlAg6xdyUQgP0AeMLTff0gcQGfuIeF7FUJAVDiCVIqtGEAiaBayBCM6QBRowdVLxR1AvazkvjC+PUDpzrgVZ/EeQI5QfTGlUEBAWWTgJd1LHkAyryMO2XI9QA5QdSOHoyBAx7yOOGTIQUDOxd/2BDkgQM21w7pMoD9AHCYapOBJHUDMjTOXZbtAQD/A//v4QCFARyRl5l00PUBFdYQdEDIgQLXFkPcF3T1ACg4viEiZIUC2ix8ZYeQ9QOELk6mCSR9A5fPlYJFOOkB6UbtfBXAWQCvssxTagTZASN3OvvJMIECgo/pzdjRCQH63L1aKqx5AZCGVvQBKQUCc6+pEOOQeQOy+CL95vUJAoWu6+aGRIEAEQkabPgw+QH0mVqHc8R5AGxb+ZyhpQ0C7LIHvkTgUQHcJmAo7+jNA3kKy28L2FECbt0X0xtI8QA=="
         },
         "yaxis": "y",
         "type": "scatter"
        },
        {
         "alignmentgroup": "True",
         "hovertemplate": "prompts=8<br>total_time=%{y}<extra></extra>",
         "legendgroup": "8",
         "marker": {
          "color": "#EF553B",
          "symbol": "circle"
         },
         "name": "8",
         "offsetgroup": "8",
         "scalegroup": "y",
         "showlegend": false,
         "xaxis": "x2",
         "y": {
          "dtype": "f8",
          "bdata": "qIsUysLvEUCHZG34gqMnQHosx3WdlwpAuUmxSLiZK0A3kInvH+4ZQETMgA5OWyNAFJFhFW/UFkB5micyzioxQJAYmHBDRxhAfqmfNxX9KUDFP2zp0WQJQGB561eVpCxARctw8hGHE0CRnKeVnY0nQBlRJKmW3hVAmBb1Se5UL0D0+/7Ni4MTQC2tKwvLlCVA96PywBG+C0Cv5qUHqhkxQGkKU0q+GA9AUyunmN6JJkDGcxE6Q5wXQLO7mwL0EDNAKFXseUjiEUBUymsldJMpQPLwngPLQQJAm0ZJ/hYXIEBc6ntoemQPQMbf9gSJdSZAtUE3RZH3FkBPOjanN8gzQHFGKBE86Q1A9nsH5LfhK0C7okqDkS0MQAcn/RjOYChAwkDGkiiqBUCFOHsM+z4kQPDP+7Wr9gpAjR/P0yU4KEB7mt2ks10KQE38rI0MCSVAF3+AWrFMEEDN1xtrNf4wQCqQ2Vn0bghAUpVb/1MIMUAlP+JXrOEQQMXEiypoITFALy/APjplDkAKqCZ3jpMlQAmlL4Sclw9ArW+7KxZMNkDonEQpxkYQQFqGk484pzdAVF0bhX+MCkDizuBK0ZsxQKjmzTwU4AVAeK3Oe61NFUCpXsg05AkEQKrSux2GDyhAo1huaTV8EkAr4s9LIGwvQHZTymsl5ARAUWnEzD7fDkDkiBCyh+UhQELQ0aqWg0NAtSj9zkCmGkBCKsWOxg8+QD0sL1RZ5xtAwZTcvMxRMUBC9P8F3akaQAVXL3VGfEFAZGaw84DrIECfOZCaG1xDQIcmmlE9wxhA5AS3/xKGO0AywKofQPMjQFL5jWWwZDpAdFB4v8BaHkDVqgJaXwdFQKF3dG25fCFAi+Kwj6kqSED2HQ3xWZgbQPCTWXM2ZUBArn0BvXAfI0BqSIGqdu46QAg4KXHCsRlAg6xdyUQgP0AeMLTff0gcQGfuIeF7FUJAVDiCVIqtGEAiaBayBCM6QBRowdVLxR1AvazkvjC+PUDpzrgVZ/EeQI5QfTGlUEBAWWTgJd1LHkAyryMO2XI9QA5QdSOHoyBAx7yOOGTIQUDOxd/2BDkgQM21w7pMoD9AHCYapOBJHUDMjTOXZbtAQD/A//v4QCFARyRl5l00PUBFdYQdEDIgQLXFkPcF3T1ACg4viEiZIUC2ix8ZYeQ9QOELk6mCSR9A5fPlYJFOOkB6UbtfBXAWQCvssxTagTZASN3OvvJMIECgo/pzdjRCQH63L1aKqx5AZCGVvQBKQUCc6+pEOOQeQOy+CL95vUJAoWu6+aGRIEAEQkabPgw+QH0mVqHc8R5AGxb+ZyhpQ0C7LIHvkTgUQHcJmAo7+jNA3kKy28L2FECbt0X0xtI8QA=="
         },
         "yaxis": "y2",
         "type": "violin"
        },
        {
         "hovertemplate": "prompts=32<br>x=%{x}<br>total_time=%{y}<extra></extra>",
         "legendgroup": "32",
         "marker": {
          "color": "#00cc96",
          "symbol": "circle"
         },
         "mode": "markers",
         "name": "32",
         "orientation": "v",
         "showlegend": true,
         "x": {
          "dtype": "i2",
          "bdata": "YABhAGIAYwBkAGUAZgBnAMoAywDMAM0AzgDPANAA0QA0ATUBNgE3ATgBOQE6ATsBngGfAaABoQGiAaMBpAGlAQ=="
         },
         "xaxis": "x",
         "y": {
          "dtype": "f8",
          "bdata": "n2P2aGAMNEC8yAT8GgxAQABV3LjF5DRAXcKht3gVRkDLqVPUTxQ3QHpJrUGpVzVAsCTUZ2LBMkCnIhXGFuI8QInW5e85FylAlw6Mch+BOUAbGxWTkukQQDUlWYejbzFAWbGuwEY0JEBmHUQhuCxBQGakOQ2s6iFArzztlR76KED06Weg6FQ+QJ0fNdy2jFlAgdXs3A/CQECIoTCDjGJXQKPqVzofPDxAQmrJmdyaUUDiUjr9RcNBQJRhgVQvJ11AOVc5WQ9gNUA2n4TjQzxNQKhSswdaoTpAaqOV1rrxUECd+TDWklkyQDuGbMWjlU5AqoKsAhB6NEAyAFRxY4dXQA=="
         },
         "yaxis": "y",
         "type": "scatter"
        },
        {
         "alignmentgroup": "True",
         "hovertemplate": "prompts=32<br>total_time=%{y}<extra></extra>",
         "legendgroup": "32",
         "marker": {
          "color": "#00cc96",
          "symbol": "circle"
         },
         "name": "32",
         "offsetgroup": "32",
         "scalegroup": "y",
         "showlegend": false,
         "xaxis": "x2",
         "y": {
          "dtype": "f8",
          "bdata": "n2P2aGAMNEC8yAT8GgxAQABV3LjF5DRAXcKht3gVRkDLqVPUTxQ3QHpJrUGpVzVAsCTUZ2LBMkCnIhXGFuI8QInW5e85FylAlw6Mch+BOUAbGxWTkukQQDUlWYejbzFAWbGuwEY0JEBmHUQhuCxBQGakOQ2s6iFArzztlR76KED06Weg6FQ+QJ0fNdy2jFlAgdXs3A/CQECIoTCDjGJXQKPqVzofPDxAQmrJmdyaUUDiUjr9RcNBQJRhgVQvJ11AOVc5WQ9gNUA2n4TjQzxNQKhSswdaoTpAaqOV1rrxUECd+TDWklkyQDuGbMWjlU5AqoKsAhB6NEAyAFRxY4dXQA=="
         },
         "yaxis": "y2",
         "type": "violin"
        },
        {
         "hovertemplate": "prompts=128<br>x=%{x}<br>total_time=%{y}<extra></extra>",
         "legendgroup": "128",
         "marker": {
          "color": "#ab63fa",
          "symbol": "circle"
         },
         "mode": "markers",
         "name": "128",
         "orientation": "v",
         "showlegend": true,
         "x": {
          "dtype": "i2",
          "bdata": "aABpANIA0wA8AT0BpgGnAQ=="
         },
         "xaxis": "x",
         "y": {
          "dtype": "f8",
          "bdata": "/wAQHDz4I0AKwzaYPBQkQEYNpmH40CBA/zyyXrHTIkBopO9/kdEpQOGlipjIay5AbhVph2SVEkA5YR0iyXtBQA=="
         },
         "yaxis": "y",
         "type": "scatter"
        },
        {
         "alignmentgroup": "True",
         "hovertemplate": "prompts=128<br>total_time=%{y}<extra></extra>",
         "legendgroup": "128",
         "marker": {
          "color": "#ab63fa",
          "symbol": "circle"
         },
         "name": "128",
         "offsetgroup": "128",
         "scalegroup": "y",
         "showlegend": false,
         "xaxis": "x2",
         "y": {
          "dtype": "f8",
          "bdata": "/wAQHDz4I0AKwzaYPBQkQEYNpmH40CBA/zyyXrHTIkBopO9/kdEpQOGlipjIay5AbhVph2SVEkA5YR0iyXtBQA=="
         },
         "yaxis": "y2",
         "type": "violin"
        }
       ],
       "layout": {
        "template": {
         "data": {
          "histogram2dcontour": [
           {
            "type": "histogram2dcontour",
            "colorbar": {
             "outlinewidth": 0,
             "ticks": ""
            },
            "colorscale": [
             [
              0.0,
              "#0d0887"
             ],
             [
              0.1111111111111111,
              "#46039f"
             ],
             [
              0.2222222222222222,
              "#7201a8"
             ],
             [
              0.3333333333333333,
              "#9c179e"
             ],
             [
              0.4444444444444444,
              "#bd3786"
             ],
             [
              0.5555555555555556,
              "#d8576b"
             ],
             [
              0.6666666666666666,
              "#ed7953"
             ],
             [
              0.7777777777777778,
              "#fb9f3a"
             ],
             [
              0.8888888888888888,
              "#fdca26"
             ],
             [
              1.0,
              "#f0f921"
             ]
            ]
           }
          ],
          "choropleth": [
           {
            "type": "choropleth",
            "colorbar": {
             "outlinewidth": 0,
             "ticks": ""
            }
           }
          ],
          "histogram2d": [
           {
            "type": "histogram2d",
            "colorbar": {
             "outlinewidth": 0,
             "ticks": ""
            },
            "colorscale": [
             [
              0.0,
              "#0d0887"
             ],
             [
              0.1111111111111111,
              "#46039f"
             ],
             [
              0.2222222222222222,
              "#7201a8"
             ],
             [
              0.3333333333333333,
              "#9c179e"
             ],
             [
              0.4444444444444444,
              "#bd3786"
             ],
             [
              0.5555555555555556,
              "#d8576b"
             ],
             [
              0.6666666666666666,
              "#ed7953"
             ],
             [
              0.7777777777777778,
              "#fb9f3a"
             ],
             [
              0.8888888888888888,
              "#fdca26"
             ],
             [
              1.0,
              "#f0f921"
             ]
            ]
           }
          ],
          "heatmap": [
           {
            "type": "heatmap",
            "colorbar": {
             "outlinewidth": 0,
             "ticks": ""
            },
            "colorscale": [
             [
              0.0,
              "#0d0887"
             ],
             [
              0.1111111111111111,
              "#46039f"
             ],
             [
              0.2222222222222222,
              "#7201a8"
             ],
             [
              0.3333333333333333,
              "#9c179e"
             ],
             [
              0.4444444444444444,
              "#bd3786"
             ],
             [
              0.5555555555555556,
              "#d8576b"
             ],
             [
              0.6666666666666666,
              "#ed7953"
             ],
             [
              0.7777777777777778,
              "#fb9f3a"
             ],
             [
              0.8888888888888888,
              "#fdca26"
             ],
             [
              1.0,
              "#f0f921"
             ]
            ]
           }
          ],
          "contourcarpet": [
           {
            "type": "contourcarpet",
            "colorbar": {
             "outlinewidth": 0,
             "ticks": ""
            }
           }
          ],
          "contour": [
           {
            "type": "contour",
            "colorbar": {
             "outlinewidth": 0,
             "ticks": ""
            },
            "colorscale": [
             [
              0.0,
              "#0d0887"
             ],
             [
              0.1111111111111111,
              "#46039f"
             ],
             [
              0.2222222222222222,
              "#7201a8"
             ],
             [
              0.3333333333333333,
              "#9c179e"
             ],
             [
              0.4444444444444444,
              "#bd3786"
             ],
             [
              0.5555555555555556,
              "#d8576b"
             ],
             [
              0.6666666666666666,
              "#ed7953"
             ],
             [
              0.7777777777777778,
              "#fb9f3a"
             ],
             [
              0.8888888888888888,
              "#fdca26"
             ],
             [
              1.0,
              "#f0f921"
             ]
            ]
           }
          ],
          "surface": [
           {
            "type": "surface",
            "colorbar": {
             "outlinewidth": 0,
             "ticks": ""
            },
            "colorscale": [
             [
              0.0,
              "#0d0887"
             ],
             [
              0.1111111111111111,
              "#46039f"
             ],
             [
              0.2222222222222222,
              "#7201a8"
             ],
             [
              0.3333333333333333,
              "#9c179e"
             ],
             [
              0.4444444444444444,
              "#bd3786"
             ],
             [
              0.5555555555555556,
              "#d8576b"
             ],
             [
              0.6666666666666666,
              "#ed7953"
             ],
             [
              0.7777777777777778,
              "#fb9f3a"
             ],
             [
              0.8888888888888888,
              "#fdca26"
             ],
             [
              1.0,
              "#f0f921"
             ]
            ]
           }
          ],
          "mesh3d": [
           {
            "type": "mesh3d",
            "colorbar": {
             "outlinewidth": 0,
             "ticks": ""
            }
           }
          ],
          "scatter": [
           {
            "marker": {
             "line": {
              "color": "#283442"
             }
            },
            "type": "scatter"
           }
          ],
          "parcoords": [
           {
            "type": "parcoords",
            "line": {
             "colorbar": {
              "outlinewidth": 0,
              "ticks": ""
             }
            }
           }
          ],
          "scatterpolargl": [
           {
            "type": "scatterpolargl",
            "marker": {
             "colorbar": {
              "outlinewidth": 0,
              "ticks": ""
             }
            }
           }
          ],
          "bar": [
           {
            "error_x": {
             "color": "#f2f5fa"
            },
            "error_y": {
             "color": "#f2f5fa"
            },
            "marker": {
             "line": {
              "color": "rgb(17,17,17)",
              "width": 0.5
             },
             "pattern": {
              "fillmode": "overlay",
              "size": 10,
              "solidity": 0.2
             }
            },
            "type": "bar"
           }
          ],
          "scattergeo": [
           {
            "type": "scattergeo",
            "marker": {
             "colorbar": {
              "outlinewidth": 0,
              "ticks": ""
             }
            }
           }
          ],
          "scatterpolar": [
           {
            "type": "scatterpolar",
            "marker": {
             "colorbar": {
              "outlinewidth": 0,
              "ticks": ""
             }
            }
           }
          ],
          "histogram": [
           {
            "marker": {
             "pattern": {
              "fillmode": "overlay",
              "size": 10,
              "solidity": 0.2
             }
            },
            "type": "histogram"
           }
          ],
          "scattergl": [
           {
            "marker": {
             "line": {
              "color": "#283442"
             }
            },
            "type": "scattergl"
           }
          ],
          "scatter3d": [
           {
            "type": "scatter3d",
            "line": {
             "colorbar": {
              "outlinewidth": 0,
              "ticks": ""
             }
            },
            "marker": {
             "colorbar": {
              "outlinewidth": 0,
              "ticks": ""
             }
            }
           }
          ],
          "scattermap": [
           {
            "type": "scattermap",
            "marker": {
             "colorbar": {
              "outlinewidth": 0,
              "ticks": ""
             }
            }
           }
          ],
          "scattermapbox": [
           {
            "type": "scattermapbox",
            "marker": {
             "colorbar": {
              "outlinewidth": 0,
              "ticks": ""
             }
            }
           }
          ],
          "scatterternary": [
           {
            "type": "scatterternary",
            "marker": {
             "colorbar": {
              "outlinewidth": 0,
              "ticks": ""
             }
            }
           }
          ],
          "scattercarpet": [
           {
            "type": "scattercarpet",
            "marker": {
             "colorbar": {
              "outlinewidth": 0,
              "ticks": ""
             }
            }
           }
          ],
          "carpet": [
           {
            "aaxis": {
             "endlinecolor": "#A2B1C6",
             "gridcolor": "#506784",
             "linecolor": "#506784",
             "minorgridcolor": "#506784",
             "startlinecolor": "#A2B1C6"
            },
            "baxis": {
             "endlinecolor": "#A2B1C6",
             "gridcolor": "#506784",
             "linecolor": "#506784",
             "minorgridcolor": "#506784",
             "startlinecolor": "#A2B1C6"
            },
            "type": "carpet"
           }
          ],
          "table": [
           {
            "cells": {
             "fill": {
              "color": "#506784"
             },
             "line": {
              "color": "rgb(17,17,17)"
             }
            },
            "header": {
             "fill": {
              "color": "#2a3f5f"
             },
             "line": {
              "color": "rgb(17,17,17)"
             }
            },
            "type": "table"
           }
          ],
          "barpolar": [
           {
            "marker": {
             "line": {
              "color": "rgb(17,17,17)",
              "width": 0.5
             },
             "pattern": {
              "fillmode": "overlay",
              "size": 10,
              "solidity": 0.2
             }
            },
            "type": "barpolar"
           }
          ],
          "pie": [
           {
            "automargin": true,
            "type": "pie"
           }
          ]
         },
         "layout": {
          "autotypenumbers": "strict",
          "colorway": [
           "#636efa",
           "#EF553B",
           "#00cc96",
           "#ab63fa",
           "#FFA15A",
           "#19d3f3",
           "#FF6692",
           "#B6E880",
           "#FF97FF",
           "#FECB52"
          ],
          "font": {
           "color": "#f2f5fa"
          },
          "hovermode": "closest",
          "hoverlabel": {
           "align": "left"
          },
          "paper_bgcolor": "rgb(17,17,17)",
          "plot_bgcolor": "rgb(17,17,17)",
          "polar": {
           "bgcolor": "rgb(17,17,17)",
           "angularaxis": {
            "gridcolor": "#506784",
            "linecolor": "#506784",
            "ticks": ""
           },
           "radialaxis": {
            "gridcolor": "#506784",
            "linecolor": "#506784",
            "ticks": ""
           }
          },
          "ternary": {
           "bgcolor": "rgb(17,17,17)",
           "aaxis": {
            "gridcolor": "#506784",
            "linecolor": "#506784",
            "ticks": ""
           },
           "baxis": {
            "gridcolor": "#506784",
            "linecolor": "#506784",
            "ticks": ""
           },
           "caxis": {
            "gridcolor": "#506784",
            "linecolor": "#506784",
            "ticks": ""
           }
          },
          "coloraxis": {
           "colorbar": {
            "outlinewidth": 0,
            "ticks": ""
           }
          },
          "colorscale": {
           "sequential": [
            [
             0.0,
             "#0d0887"
            ],
            [
             0.1111111111111111,
             "#46039f"
            ],
            [
             0.2222222222222222,
             "#7201a8"
            ],
            [
             0.3333333333333333,
             "#9c179e"
            ],
            [
             0.4444444444444444,
             "#bd3786"
            ],
            [
             0.5555555555555556,
             "#d8576b"
            ],
            [
             0.6666666666666666,
             "#ed7953"
            ],
            [
             0.7777777777777778,
             "#fb9f3a"
            ],
            [
             0.8888888888888888,
             "#fdca26"
            ],
            [
             1.0,
             "#f0f921"
            ]
           ],
           "sequentialminus": [
            [
             0.0,
             "#0d0887"
            ],
            [
             0.1111111111111111,
             "#46039f"
            ],
            [
             0.2222222222222222,
             "#7201a8"
            ],
            [
             0.3333333333333333,
             "#9c179e"
            ],
            [
             0.4444444444444444,
             "#bd3786"
            ],
            [
             0.5555555555555556,
             "#d8576b"
            ],
            [
             0.6666666666666666,
             "#ed7953"
            ],
            [
             0.7777777777777778,
             "#fb9f3a"
            ],
            [
             0.8888888888888888,
             "#fdca26"
            ],
            [
             1.0,
             "#f0f921"
            ]
           ],
           "diverging": [
            [
             0,
             "#8e0152"
            ],
            [
             0.1,
             "#c51b7d"
            ],
            [
             0.2,
             "#de77ae"
            ],
            [
             0.3,
             "#f1b6da"
            ],
            [
             0.4,
             "#fde0ef"
            ],
            [
             0.5,
             "#f7f7f7"
            ],
            [
             0.6,
             "#e6f5d0"
            ],
            [
             0.7,
             "#b8e186"
            ],
            [
             0.8,
             "#7fbc41"
            ],
            [
             0.9,
             "#4d9221"
            ],
            [
             1,
             "#276419"
            ]
           ]
          },
          "xaxis": {
           "gridcolor": "#283442",
           "linecolor": "#506784",
           "ticks": "",
           "title": {
            "standoff": 15
           },
           "zerolinecolor": "#283442",
           "automargin": true,
           "zerolinewidth": 2
          },
          "yaxis": {
           "gridcolor": "#283442",
           "linecolor": "#506784",
           "ticks": "",
           "title": {
            "standoff": 15
           },
           "zerolinecolor": "#283442",
           "automargin": true,
           "zerolinewidth": 2
          },
          "scene": {
           "xaxis": {
            "backgroundcolor": "rgb(17,17,17)",
            "gridcolor": "#506784",
            "linecolor": "#506784",
            "showbackground": true,
            "ticks": "",
            "zerolinecolor": "#C8D4E3",
            "gridwidth": 2
           },
           "yaxis": {
            "backgroundcolor": "rgb(17,17,17)",
            "gridcolor": "#506784",
            "linecolor": "#506784",
            "showbackground": true,
            "ticks": "",
            "zerolinecolor": "#C8D4E3",
            "gridwidth": 2
           },
           "zaxis": {
            "backgroundcolor": "rgb(17,17,17)",
            "gridcolor": "#506784",
            "linecolor": "#506784",
            "showbackground": true,
            "ticks": "",
            "zerolinecolor": "#C8D4E3",
            "gridwidth": 2
           }
          },
          "shapedefaults": {
           "line": {
            "color": "#f2f5fa"
           }
          },
          "annotationdefaults": {
           "arrowcolor": "#f2f5fa",
           "arrowhead": 0,
           "arrowwidth": 1
          },
          "geo": {
           "bgcolor": "rgb(17,17,17)",
           "landcolor": "rgb(17,17,17)",
           "subunitcolor": "#506784",
           "showland": true,
           "showlakes": true,
           "lakecolor": "rgb(17,17,17)"
          },
          "title": {
           "x": 0.05
          },
          "updatemenudefaults": {
           "bgcolor": "#506784",
           "borderwidth": 0
          },
          "sliderdefaults": {
           "bgcolor": "#C8D4E3",
           "borderwidth": 1,
           "bordercolor": "rgb(17,17,17)",
           "tickwidth": 0
          },
          "mapbox": {
           "style": "dark"
          }
         }
        },
        "xaxis": {
         "anchor": "y",
         "domain": [
          0.0,
          0.7363
         ],
         "title": {
          "text": "x"
         }
        },
        "yaxis": {
         "anchor": "x",
         "domain": [
          0.0,
          1.0
         ],
         "title": {
          "text": "total_time"
         }
        },
        "xaxis2": {
         "anchor": "y2",
         "domain": [
          0.7413,
          1.0
         ],
         "matches": "x2",
         "showticklabels": false,
         "showline": false,
         "ticks": "",
         "showgrid": false
        },
        "yaxis2": {
         "anchor": "x2",
         "domain": [
          0.0,
          1.0
         ],
         "matches": "y",
         "showticklabels": false,
         "showgrid": true
        },
        "legend": {
         "title": {
          "text": "prompts"
         },
         "tracegroupgap": 0
        },
        "margin": {
         "t": 60
        }
       },
       "config": {
        "plotlyServerURL": "https://plot.ly"
       }
      }
     },
     "metadata": {},
     "output_type": "display_data",
     "jetTransient": {
      "display_id": null
     }
    },
    {
     "data": {
      "application/vnd.plotly.v1+json": {
       "data": [
        {
         "hovertemplate": "prompts=1<br>x=%{x}<br>load_time_per_input_token=%{y}<br>input_tokens=%{marker.size}<extra></extra>",
         "legendgroup": "1",
         "marker": {
          "color": "#636efa",
          "size": {
           "dtype": "i1",
           "bdata": "WFtXWkxPWVxNUFRXUFNXWlZZUlVZXE5RS05YW1FUUVROUU9SUFNWWVFUUVRbXlRXT1JSVVFUUlVUV05RVFdUVyIlICMgIyEkISQhJCAjIyYkJyAjIyYjJiEkICMgIyIlISQjJh8iISQgIx8iICMiJSUoICMjJiEkICMgIyAjHyJnalRXXWBWWVNWU1ZPUlZZWFtPUlRXU1ZXWlBTTlFLTlJVTVBUV1JVW15PUk1QS05IS1FUUFNOUUtOTE9KTUtOJikhJCUoIiUiJSQnISQhJCIlISQkJyQnIyYkJyMmLTAkJyIlIiUhJCIlIyYhJCQnJSgiJSQnIyYjJiQnJyojJg=="
          },
          "sizemode": "area",
          "sizeref": 19.125,
          "symbol": "circle"
         },
         "mode": "markers",
         "name": "1",
         "orientation": "v",
         "showlegend": true,
         "x": {
          "dtype": "i2",
          "bdata": "AAABAAIAAwAEAAUABgAHAAgACQAKAAsADAANAA4ADwAQABEAEgATABQAFQAWABcAGAAZABoAGwAcAB0AHgAfACAAIQAiACMAJAAlACYAJwAoACkAKgArACwALQAuAC8AMAAxADIAMwA0ADUANgA3ADgAOQA6ADsAPAA9AD4APwBqAGsAbABtAG4AbwBwAHEAcgBzAHQAdQB2AHcAeAB5AHoAewB8AH0AfgB/AIAAgQCCAIMAhACFAIYAhwCIAIkAigCLAIwAjQCOAI8AkACRAJIAkwCUAJUAlgCXAJgAmQCaAJsAnACdAJ4AnwCgAKEAogCjAKQApQCmAKcAqACpANQA1QDWANcA2ADZANoA2wDcAN0A3gDfAOAA4QDiAOMA5ADlAOYA5wDoAOkA6gDrAOwA7QDuAO8A8ADxAPIA8wD0APUA9gD3APgA+QD6APsA/AD9AP4A/wAAAQEBAgEDAQQBBQEGAQcBCAEJAQoBCwEMAQ0BDgEPARABEQESARMBPgE/AUABQQFCAUMBRAFFAUYBRwFIAUkBSgFLAUwBTQFOAU8BUAFRAVIBUwFUAVUBVgFXAVgBWQFaAVsBXAFdAV4BXwFgAWEBYgFjAWQBZQFmAWcBaAFpAWoBawFsAW0BbgFvAXABcQFyAXMBdAF1AXYBdwF4AXkBegF7AXwBfQE="
         },
         "xaxis": "x",
         "y": {
          "dtype": "f8",
          "bdata": "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"
         },
         "yaxis": "y",
         "type": "scatter"
        },
        {
         "alignmentgroup": "True",
         "hovertemplate": "prompts=1<br>load_time_per_input_token=%{y}<extra></extra>",
         "legendgroup": "1",
         "marker": {
          "color": "#636efa",
          "symbol": "circle"
         },
         "name": "1",
         "notched": true,
         "offsetgroup": "1",
         "showlegend": false,
         "xaxis": "x2",
         "y": {
          "dtype": "f8",
          "bdata": "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"
         },
         "yaxis": "y2",
         "type": "box"
        },
        {
         "hovertemplate": "prompts=8<br>x=%{x}<br>load_time_per_input_token=%{y}<br>input_tokens=%{marker.size}<extra></extra>",
         "legendgroup": "8",
         "marker": {
          "color": "#EF553B",
          "size": {
           "dtype": "i2",
           "bdata": "+wH+AfMB9gHzAfYB7QHwAfsB/gHzAfYB8wH2Ae0B8AH7Af4B8wH2AfMB9gHtAfAB+wH+AfMB9gHzAfYB7QHwAWcAagBsAG8AZABnAGcAagBpAGwAZQBoAGMAZgBnAGoAZQBoAGQAZwBnAGoAYABjAGUAaABoAGsAYQBkAGoAbQAYAhsC7QHwAeYB6QHCAcUBGAIbAu0B8AHmAekBwgHFARgCGwLtAfAB5gHpAcIBxQEYAhsC7QHwAeYB6QHCAcUBdQB4AIEAhAByAHUAfgCBAHsAfgB3AHoAdAB3AHoAfQB5AHwAdgB5AHIAdQB9AIAAdQB4AG4AcQB1AHgAeAB7AA=="
          },
          "sizemode": "area",
          "sizeref": 19.125,
          "symbol": "circle"
         },
         "mode": "markers",
         "name": "8",
         "orientation": "v",
         "showlegend": true,
         "x": {
          "dtype": "i2",
          "bdata": "QABBAEIAQwBEAEUARgBHAEgASQBKAEsATABNAE4ATwBQAFEAUgBTAFQAVQBWAFcAWABZAFoAWwBcAF0AXgBfAKoAqwCsAK0ArgCvALAAsQCyALMAtAC1ALYAtwC4ALkAugC7ALwAvQC+AL8AwADBAMIAwwDEAMUAxgDHAMgAyQAUARUBFgEXARgBGQEaARsBHAEdAR4BHwEgASEBIgEjASQBJQEmAScBKAEpASoBKwEsAS0BLgEvATABMQEyATMBfgF/AYABgQGCAYMBhAGFAYYBhwGIAYkBigGLAYwBjQGOAY8BkAGRAZIBkwGUAZUBlgGXAZgBmQGaAZsBnAGdAQ=="
         },
         "xaxis": "x",
         "y": {
          "dtype": "f8",
          "bdata": "1TNUOPLiLz+0B+m4qRAuP/NRojTK0i0/veGqss4PMj/uB3E4ldsvPyd3Z5EHFS4/vO1EGd+1Lj+5dDkjU3MwP6Z8T6yuXC4/dm4adg7vLj9bIOlAUsswPwdZiU7UkS4/NnoAKg4XMD/ERWs1K/IsP7/plu59EzA/R7zfFgYoLz/ElnJn8fwtP98mdNSzpzA/6tCDfFx+Lj8i9LRaAbwwP/pRQ/G0PTA/u8GEGkQDLz9S8pfDm+IuPxmlM6hgfy0/X3B9D4RyLj8C88Pg3h4yP0TFpqKMHjM/jhdH8XxVNj8L+b7rTwEwP6KKUbq7KS8/31MxwjyNMD/1tqv6CqwvPwhipecCKVI/nyXRt2bOUT99EC7n4NhQP5ZBQWJlY1A/zGcW9CA1VD8GJINwOvtRP9NgQ5cwGk8//3KAlllxUj+FOzDAJ6VWP2vjSiUR3FA/bC8IfKHLUj/I58+svQlTP0gR1zptAFM/qJwl92p2Uz+G0BEGGp5SPx5zhCU+plE/xtte6EQrVT9H2x/Qb4ZTP2UiW0wisVM/uiacoN7WVD83fuosVf1SP0iWxININFI/2484iPqBUz+/DgkUzbtSPzqYLjErnFI/yWvDXX5FUz+h4rZ6He9SPxCwr8qf4VE/4RxIpSdIVD99PmKllm5RP3CUgKVKhFI/kqUIbeOUUT91OgVPaT8uP7javrJO2y0/U61c4WbFMD+d3NRobdMuP25YtdIUADA/nr9YxYu9MD8wZXL84uQwP8/j6R159jA/Y9BEuSbXLj+TYEPykygrPyR/4uT9zjA/ZEBGbyqXMD8le8XWRREwP/jAKyQ0FS8/uJ14thyqMT+rBFU/ZRQwP3Wp8VjK0TI/J/OlU67TND81gHHH7ygvP9ywTAKn/DE/pie+c412Mj/y8hFfJAIwP/87Cw5v1DA/4BHoeYbsMD9El4qRzGctP7lYm1e45C0/C8hxVH/LMT/sf2or69ItP5PY3gZclDA/xkIJ81vxLz8FKQ5rY5MxP392jjoPFS8/9Y4Oh5YwUj8vjPeLJglQP+d+LbeLPE4/Ob8/RQslTT/aoeKA3pxSP4FKibrgAFA/WNJo4fdNUD8shgI4xvdOP9MG8D4BzVY/kWCcGFqPSz/xbwLAoo1QP8pIquLwYE4//ThbNwNQUT84AXwnWBJQP8fxP/zcJk0/fKXc1yLdTz94q8UYtTRQPwqs/BOWFkw/3C5ZzlP/UD+6sk3di/NOP7B86VgZ71Q/khKf0bZ+UD8/XStBSfhTP6LzdXS3Rk8/U8Xy4/DnUD/5P5fbgzFOP1sSIKWhLlE/um1gMK16UT+xFASUD3xRP8m2nrOX/1I/VGRF74AoTz+f5M+zouJNPw=="
         },
         "yaxis": "y",
         "type": "scatter"
        },
        {
         "alignmentgroup": "True",
         "hovertemplate": "prompts=8<br>load_time_per_input_token=%{y}<extra></extra>",
         "legendgroup": "8",
         "marker": {
          "color": "#EF553B",
          "symbol": "circle"
         },
         "name": "8",
         "notched": true,
         "offsetgroup": "8",
         "showlegend": false,
         "xaxis": "x2",
         "y": {
          "dtype": "f8",
          "bdata": "1TNUOPLiLz+0B+m4qRAuP/NRojTK0i0/veGqss4PMj/uB3E4ldsvPyd3Z5EHFS4/vO1EGd+1Lj+5dDkjU3MwP6Z8T6yuXC4/dm4adg7vLj9bIOlAUsswPwdZiU7UkS4/NnoAKg4XMD/ERWs1K/IsP7/plu59EzA/R7zfFgYoLz/ElnJn8fwtP98mdNSzpzA/6tCDfFx+Lj8i9LRaAbwwP/pRQ/G0PTA/u8GEGkQDLz9S8pfDm+IuPxmlM6hgfy0/X3B9D4RyLj8C88Pg3h4yP0TFpqKMHjM/jhdH8XxVNj8L+b7rTwEwP6KKUbq7KS8/31MxwjyNMD/1tqv6CqwvPwhipecCKVI/nyXRt2bOUT99EC7n4NhQP5ZBQWJlY1A/zGcW9CA1VD8GJINwOvtRP9NgQ5cwGk8//3KAlllxUj+FOzDAJ6VWP2vjSiUR3FA/bC8IfKHLUj/I58+svQlTP0gR1zptAFM/qJwl92p2Uz+G0BEGGp5SPx5zhCU+plE/xtte6EQrVT9H2x/Qb4ZTP2UiW0wisVM/uiacoN7WVD83fuosVf1SP0iWxININFI/2484iPqBUz+/DgkUzbtSPzqYLjErnFI/yWvDXX5FUz+h4rZ6He9SPxCwr8qf4VE/4RxIpSdIVD99PmKllm5RP3CUgKVKhFI/kqUIbeOUUT91OgVPaT8uP7javrJO2y0/U61c4WbFMD+d3NRobdMuP25YtdIUADA/nr9YxYu9MD8wZXL84uQwP8/j6R159jA/Y9BEuSbXLj+TYEPykygrPyR/4uT9zjA/ZEBGbyqXMD8le8XWRREwP/jAKyQ0FS8/uJ14thyqMT+rBFU/ZRQwP3Wp8VjK0TI/J/OlU67TND81gHHH7ygvP9ywTAKn/DE/pie+c412Mj/y8hFfJAIwP/87Cw5v1DA/4BHoeYbsMD9El4qRzGctP7lYm1e45C0/C8hxVH/LMT/sf2or69ItP5PY3gZclDA/xkIJ81vxLz8FKQ5rY5MxP392jjoPFS8/9Y4Oh5YwUj8vjPeLJglQP+d+LbeLPE4/Ob8/RQslTT/aoeKA3pxSP4FKibrgAFA/WNJo4fdNUD8shgI4xvdOP9MG8D4BzVY/kWCcGFqPSz/xbwLAoo1QP8pIquLwYE4//ThbNwNQUT84AXwnWBJQP8fxP/zcJk0/fKXc1yLdTz94q8UYtTRQPwqs/BOWFkw/3C5ZzlP/UD+6sk3di/NOP7B86VgZ71Q/khKf0bZ+UD8/XStBSfhTP6LzdXS3Rk8/U8Xy4/DnUD/5P5fbgzFOP1sSIKWhLlE/um1gMK16UT+xFASUD3xRP8m2nrOX/1I/VGRF74AoTz+f5M+zouJNPw=="
         },
         "yaxis": "y2",
         "type": "box"
        },
        {
         "hovertemplate": "prompts=32<br>x=%{x}<br>load_time_per_input_token=%{y}<br>input_tokens=%{marker.size}<extra></extra>",
         "legendgroup": "32",
         "marker": {
          "color": "#00cc96",
          "size": {
           "dtype": "i2",
           "bdata": "iQeMB4kHjAeJB4wHiQeMB1kBXAFTAVYBSwFOAVMBVgFoB2sHaAdrB2gHawdoB2sHoQGkAZsBngGZAZwBiwGOAQ=="
          },
          "sizemode": "area",
          "sizeref": 19.125,
          "symbol": "circle"
         },
         "mode": "markers",
         "name": "32",
         "orientation": "v",
         "showlegend": true,
         "x": {
          "dtype": "i2",
          "bdata": "YABhAGIAYwBkAGUAZgBnAMoAywDMAM0AzgDPANAA0QA0ATUBNgE3ATgBOQE6ATsBngGfAaABoQGiAaMBpAGlAQ=="
         },
         "xaxis": "x",
         "y": {
          "dtype": "f8",
          "bdata": "PBqbXHMPDz8OZUQEFM8RPyU+SjTLWA8/qjxMMfPJDj8MpoTSE7IPP+sk6CvULBA/s4gZHfHMDz/RdyfCkjAQP9/cSNdkAzY/sioDE5AGND/lG0tOazk0P/x0HZ4sljY/JPGYouS8Nj81+Y7enqc3P9YyzKDfQzY/zK/KYk00Nj80fmOd1QsPP5VgMYD7PBA/zfQeXsQvED8dg5WuXC8SP3SYflH+VA0/Y27p9aS4ED+/S3BO+j4NP9dZvQnJuxI/mRtdTHntMT/pJ/aS7CEyP3O5BuHpEDE/29FTiuvaMT95tUqTR4IyP8bAJyV6dTM/uuweqdvyMj9veGMBe6E3Pw=="
         },
         "yaxis": "y",
         "type": "scatter"
        },
        {
         "alignmentgroup": "True",
         "hovertemplate": "prompts=32<br>load_time_per_input_token=%{y}<extra></extra>",
         "legendgroup": "32",
         "marker": {
          "color": "#00cc96",
          "symbol": "circle"
         },
         "name": "32",
         "notched": true,
         "offsetgroup": "32",
         "showlegend": false,
         "xaxis": "x2",
         "y": {
          "dtype": "f8",
          "bdata": "PBqbXHMPDz8OZUQEFM8RPyU+SjTLWA8/qjxMMfPJDj8MpoTSE7IPP+sk6CvULBA/s4gZHfHMDz/RdyfCkjAQP9/cSNdkAzY/sioDE5AGND/lG0tOazk0P/x0HZ4sljY/JPGYouS8Nj81+Y7enqc3P9YyzKDfQzY/zK/KYk00Nj80fmOd1QsPP5VgMYD7PBA/zfQeXsQvED8dg5WuXC8SP3SYflH+VA0/Y27p9aS4ED+/S3BO+j4NP9dZvQnJuxI/mRtdTHntMT/pJ/aS7CEyP3O5BuHpEDE/29FTiuvaMT95tUqTR4IyP8bAJyV6dTM/uuweqdvyMj9veGMBe6E3Pw=="
         },
         "yaxis": "y2",
         "type": "box"
        },
        {
         "hovertemplate": "prompts=128<br>x=%{x}<br>load_time_per_input_token=%{y}<br>input_tokens=%{marker.size}<extra></extra>",
         "legendgroup": "128",
         "marker": {
          "color": "#ab63fa",
          "size": {
           "dtype": "i2",
           "bdata": "3x3iHQUFCAVbHV4dGwYeBg=="
          },
          "sizemode": "area",
          "sizeref": 19.125,
          "symbol": "circle"
         },
         "mode": "markers",
         "name": "128",
         "orientation": "v",
         "showlegend": true,
         "x": {
          "dtype": "i2",
          "bdata": "aABpANIA0wA8AT0BpgGnAQ=="
         },
         "xaxis": "x",
         "y": {
          "dtype": "f8",
          "bdata": "Z3E8kFu+7j562lKnwcbxPu1sEZXq2hY/TP9392TeGT85HOitlejxPvEnXCswcPA+1u/rhwc3FD+CCw5llokXPw=="
         },
         "yaxis": "y",
         "type": "scatter"
        },
        {
         "alignmentgroup": "True",
         "hovertemplate": "prompts=128<br>load_time_per_input_token=%{y}<extra></extra>",
         "legendgroup": "128",
         "marker": {
          "color": "#ab63fa",
          "symbol": "circle"
         },
         "name": "128",
         "notched": true,
         "offsetgroup": "128",
         "showlegend": false,
         "xaxis": "x2",
         "y": {
          "dtype": "f8",
          "bdata": "Z3E8kFu+7j562lKnwcbxPu1sEZXq2hY/TP9392TeGT85HOitlejxPvEnXCswcPA+1u/rhwc3FD+CCw5llokXPw=="
         },
         "yaxis": "y2",
         "type": "box"
        }
       ],
       "layout": {
        "template": {
         "data": {
          "histogram2dcontour": [
           {
            "type": "histogram2dcontour",
            "colorbar": {
             "outlinewidth": 0,
             "ticks": ""
            },
            "colorscale": [
             [
              0.0,
              "#0d0887"
             ],
             [
              0.1111111111111111,
              "#46039f"
             ],
             [
              0.2222222222222222,
              "#7201a8"
             ],
             [
              0.3333333333333333,
              "#9c179e"
             ],
             [
              0.4444444444444444,
              "#bd3786"
             ],
             [
              0.5555555555555556,
              "#d8576b"
             ],
             [
              0.6666666666666666,
              "#ed7953"
             ],
             [
              0.7777777777777778,
              "#fb9f3a"
             ],
             [
              0.8888888888888888,
              "#fdca26"
             ],
             [
              1.0,
              "#f0f921"
             ]
            ]
           }
          ],
          "choropleth": [
           {
            "type": "choropleth",
            "colorbar": {
             "outlinewidth": 0,
             "ticks": ""
            }
           }
          ],
          "histogram2d": [
           {
            "type": "histogram2d",
            "colorbar": {
             "outlinewidth": 0,
             "ticks": ""
            },
            "colorscale": [
             [
              0.0,
              "#0d0887"
             ],
             [
              0.1111111111111111,
              "#46039f"
             ],
             [
              0.2222222222222222,
              "#7201a8"
             ],
             [
              0.3333333333333333,
              "#9c179e"
             ],
             [
              0.4444444444444444,
              "#bd3786"
             ],
             [
              0.5555555555555556,
              "#d8576b"
             ],
             [
              0.6666666666666666,
              "#ed7953"
             ],
             [
              0.7777777777777778,
              "#fb9f3a"
             ],
             [
              0.8888888888888888,
              "#fdca26"
             ],
             [
              1.0,
              "#f0f921"
             ]
            ]
           }
          ],
          "heatmap": [
           {
            "type": "heatmap",
            "colorbar": {
             "outlinewidth": 0,
             "ticks": ""
            },
            "colorscale": [
             [
              0.0,
              "#0d0887"
             ],
             [
              0.1111111111111111,
              "#46039f"
             ],
             [
              0.2222222222222222,
              "#7201a8"
             ],
             [
              0.3333333333333333,
              "#9c179e"
             ],
             [
              0.4444444444444444,
              "#bd3786"
             ],
             [
              0.5555555555555556,
              "#d8576b"
             ],
             [
              0.6666666666666666,
              "#ed7953"
             ],
             [
              0.7777777777777778,
              "#fb9f3a"
             ],
             [
              0.8888888888888888,
              "#fdca26"
             ],
             [
              1.0,
              "#f0f921"
             ]
            ]
           }
          ],
          "contourcarpet": [
           {
            "type": "contourcarpet",
            "colorbar": {
             "outlinewidth": 0,
             "ticks": ""
            }
           }
          ],
          "contour": [
           {
            "type": "contour",
            "colorbar": {
             "outlinewidth": 0,
             "ticks": ""
            },
            "colorscale": [
             [
              0.0,
              "#0d0887"
             ],
             [
              0.1111111111111111,
              "#46039f"
             ],
             [
              0.2222222222222222,
              "#7201a8"
             ],
             [
              0.3333333333333333,
              "#9c179e"
             ],
             [
              0.4444444444444444,
              "#bd3786"
             ],
             [
              0.5555555555555556,
              "#d8576b"
             ],
             [
              0.6666666666666666,
              "#ed7953"
             ],
             [
              0.7777777777777778,
              "#fb9f3a"
             ],
             [
              0.8888888888888888,
              "#fdca26"
             ],
             [
              1.0,
              "#f0f921"
             ]
            ]
           }
          ],
          "surface": [
           {
            "type": "surface",
            "colorbar": {
             "outlinewidth": 0,
             "ticks": ""
            },
            "colorscale": [
             [
              0.0,
              "#0d0887"
             ],
             [
              0.1111111111111111,
              "#46039f"
             ],
             [
              0.2222222222222222,
              "#7201a8"
             ],
             [
              0.3333333333333333,
              "#9c179e"
             ],
             [
              0.4444444444444444,
              "#bd3786"
             ],
             [
              0.5555555555555556,
              "#d8576b"
             ],
             [
              0.6666666666666666,
              "#ed7953"
             ],
             [
              0.7777777777777778,
              "#fb9f3a"
             ],
             [
              0.8888888888888888,
              "#fdca26"
             ],
             [
              1.0,
              "#f0f921"
             ]
            ]
           }
          ],
          "mesh3d": [
           {
            "type": "mesh3d",
            "colorbar": {
             "outlinewidth": 0,
             "ticks": ""
            }
           }
          ],
          "scatter": [
           {
            "marker": {
             "line": {
              "color": "#283442"
             }
            },
            "type": "scatter"
           }
          ],
          "parcoords": [
           {
            "type": "parcoords",
            "line": {
             "colorbar": {
              "outlinewidth": 0,
              "ticks": ""
             }
            }
           }
          ],
          "scatterpolargl": [
           {
            "type": "scatterpolargl",
            "marker": {
             "colorbar": {
              "outlinewidth": 0,
              "ticks": ""
             }
            }
           }
          ],
          "bar": [
           {
            "error_x": {
             "color": "#f2f5fa"
            },
            "error_y": {
             "color": "#f2f5fa"
            },
            "marker": {
             "line": {
              "color": "rgb(17,17,17)",
              "width": 0.5
             },
             "pattern": {
              "fillmode": "overlay",
              "size": 10,
              "solidity": 0.2
             }
            },
            "type": "bar"
           }
          ],
          "scattergeo": [
           {
            "type": "scattergeo",
            "marker": {
             "colorbar": {
              "outlinewidth": 0,
              "ticks": ""
             }
            }
           }
          ],
          "scatterpolar": [
           {
            "type": "scatterpolar",
            "marker": {
             "colorbar": {
              "outlinewidth": 0,
              "ticks": ""
             }
            }
           }
          ],
          "histogram": [
           {
            "marker": {
             "pattern": {
              "fillmode": "overlay",
              "size": 10,
              "solidity": 0.2
             }
            },
            "type": "histogram"
           }
          ],
          "scattergl": [
           {
            "marker": {
             "line": {
              "color": "#283442"
             }
            },
            "type": "scattergl"
           }
          ],
          "scatter3d": [
           {
            "type": "scatter3d",
            "line": {
             "colorbar": {
              "outlinewidth": 0,
              "ticks": ""
             }
            },
            "marker": {
             "colorbar": {
              "outlinewidth": 0,
              "ticks": ""
             }
            }
           }
          ],
          "scattermap": [
           {
            "type": "scattermap",
            "marker": {
             "colorbar": {
              "outlinewidth": 0,
              "ticks": ""
             }
            }
           }
          ],
          "scattermapbox": [
           {
            "type": "scattermapbox",
            "marker": {
             "colorbar": {
              "outlinewidth": 0,
              "ticks": ""
             }
            }
           }
          ],
          "scatterternary": [
           {
            "type": "scatterternary",
            "marker": {
             "colorbar": {
              "outlinewidth": 0,
              "ticks": ""
             }
            }
           }
          ],
          "scattercarpet": [
           {
            "type": "scattercarpet",
            "marker": {
             "colorbar": {
              "outlinewidth": 0,
              "ticks": ""
             }
            }
           }
          ],
          "carpet": [
           {
            "aaxis": {
             "endlinecolor": "#A2B1C6",
             "gridcolor": "#506784",
             "linecolor": "#506784",
             "minorgridcolor": "#506784",
             "startlinecolor": "#A2B1C6"
            },
            "baxis": {
             "endlinecolor": "#A2B1C6",
             "gridcolor": "#506784",
             "linecolor": "#506784",
             "minorgridcolor": "#506784",
             "startlinecolor": "#A2B1C6"
            },
            "type": "carpet"
           }
          ],
          "table": [
           {
            "cells": {
             "fill": {
              "color": "#506784"
             },
             "line": {
              "color": "rgb(17,17,17)"
             }
            },
            "header": {
             "fill": {
              "color": "#2a3f5f"
             },
             "line": {
              "color": "rgb(17,17,17)"
             }
            },
            "type": "table"
           }
          ],
          "barpolar": [
           {
            "marker": {
             "line": {
              "color": "rgb(17,17,17)",
              "width": 0.5
             },
             "pattern": {
              "fillmode": "overlay",
              "size": 10,
              "solidity": 0.2
             }
            },
            "type": "barpolar"
           }
          ],
          "pie": [
           {
            "automargin": true,
            "type": "pie"
           }
          ]
         },
         "layout": {
          "autotypenumbers": "strict",
          "colorway": [
           "#636efa",
           "#EF553B",
           "#00cc96",
           "#ab63fa",
           "#FFA15A",
           "#19d3f3",
           "#FF6692",
           "#B6E880",
           "#FF97FF",
           "#FECB52"
          ],
          "font": {
           "color": "#f2f5fa"
          },
          "hovermode": "closest",
          "hoverlabel": {
           "align": "left"
          },
          "paper_bgcolor": "rgb(17,17,17)",
          "plot_bgcolor": "rgb(17,17,17)",
          "polar": {
           "bgcolor": "rgb(17,17,17)",
           "angularaxis": {
            "gridcolor": "#506784",
            "linecolor": "#506784",
            "ticks": ""
           },
           "radialaxis": {
            "gridcolor": "#506784",
            "linecolor": "#506784",
            "ticks": ""
           }
          },
          "ternary": {
           "bgcolor": "rgb(17,17,17)",
           "aaxis": {
            "gridcolor": "#506784",
            "linecolor": "#506784",
            "ticks": ""
           },
           "baxis": {
            "gridcolor": "#506784",
            "linecolor": "#506784",
            "ticks": ""
           },
           "caxis": {
            "gridcolor": "#506784",
            "linecolor": "#506784",
            "ticks": ""
           }
          },
          "coloraxis": {
           "colorbar": {
            "outlinewidth": 0,
            "ticks": ""
           }
          },
          "colorscale": {
           "sequential": [
            [
             0.0,
             "#0d0887"
            ],
            [
             0.1111111111111111,
             "#46039f"
            ],
            [
             0.2222222222222222,
             "#7201a8"
            ],
            [
             0.3333333333333333,
             "#9c179e"
            ],
            [
             0.4444444444444444,
             "#bd3786"
            ],
            [
             0.5555555555555556,
             "#d8576b"
            ],
            [
             0.6666666666666666,
             "#ed7953"
            ],
            [
             0.7777777777777778,
             "#fb9f3a"
            ],
            [
             0.8888888888888888,
             "#fdca26"
            ],
            [
             1.0,
             "#f0f921"
            ]
           ],
           "sequentialminus": [
            [
             0.0,
             "#0d0887"
            ],
            [
             0.1111111111111111,
             "#46039f"
            ],
            [
             0.2222222222222222,
             "#7201a8"
            ],
            [
             0.3333333333333333,
             "#9c179e"
            ],
            [
             0.4444444444444444,
             "#bd3786"
            ],
            [
             0.5555555555555556,
             "#d8576b"
            ],
            [
             0.6666666666666666,
             "#ed7953"
            ],
            [
             0.7777777777777778,
             "#fb9f3a"
            ],
            [
             0.8888888888888888,
             "#fdca26"
            ],
            [
             1.0,
             "#f0f921"
            ]
           ],
           "diverging": [
            [
             0,
             "#8e0152"
            ],
            [
             0.1,
             "#c51b7d"
            ],
            [
             0.2,
             "#de77ae"
            ],
            [
             0.3,
             "#f1b6da"
            ],
            [
             0.4,
             "#fde0ef"
            ],
            [
             0.5,
             "#f7f7f7"
            ],
            [
             0.6,
             "#e6f5d0"
            ],
            [
             0.7,
             "#b8e186"
            ],
            [
             0.8,
             "#7fbc41"
            ],
            [
             0.9,
             "#4d9221"
            ],
            [
             1,
             "#276419"
            ]
           ]
          },
          "xaxis": {
           "gridcolor": "#283442",
           "linecolor": "#506784",
           "ticks": "",
           "title": {
            "standoff": 15
           },
           "zerolinecolor": "#283442",
           "automargin": true,
           "zerolinewidth": 2
          },
          "yaxis": {
           "gridcolor": "#283442",
           "linecolor": "#506784",
           "ticks": "",
           "title": {
            "standoff": 15
           },
           "zerolinecolor": "#283442",
           "automargin": true,
           "zerolinewidth": 2
          },
          "scene": {
           "xaxis": {
            "backgroundcolor": "rgb(17,17,17)",
            "gridcolor": "#506784",
            "linecolor": "#506784",
            "showbackground": true,
            "ticks": "",
            "zerolinecolor": "#C8D4E3",
            "gridwidth": 2
           },
           "yaxis": {
            "backgroundcolor": "rgb(17,17,17)",
            "gridcolor": "#506784",
            "linecolor": "#506784",
            "showbackground": true,
            "ticks": "",
            "zerolinecolor": "#C8D4E3",
            "gridwidth": 2
           },
           "zaxis": {
            "backgroundcolor": "rgb(17,17,17)",
            "gridcolor": "#506784",
            "linecolor": "#506784",
            "showbackground": true,
            "ticks": "",
            "zerolinecolor": "#C8D4E3",
            "gridwidth": 2
           }
          },
          "shapedefaults": {
           "line": {
            "color": "#f2f5fa"
           }
          },
          "annotationdefaults": {
           "arrowcolor": "#f2f5fa",
           "arrowhead": 0,
           "arrowwidth": 1
          },
          "geo": {
           "bgcolor": "rgb(17,17,17)",
           "landcolor": "rgb(17,17,17)",
           "subunitcolor": "#506784",
           "showland": true,
           "showlakes": true,
           "lakecolor": "rgb(17,17,17)"
          },
          "title": {
           "x": 0.05
          },
          "updatemenudefaults": {
           "bgcolor": "#506784",
           "borderwidth": 0
          },
          "sliderdefaults": {
           "bgcolor": "#C8D4E3",
           "borderwidth": 1,
           "bordercolor": "rgb(17,17,17)",
           "tickwidth": 0
          },
          "mapbox": {
           "style": "dark"
          }
         }
        },
        "xaxis": {
         "anchor": "y",
         "domain": [
          0.0,
          0.7363
         ],
         "title": {
          "text": "x"
         }
        },
        "yaxis": {
         "anchor": "x",
         "domain": [
          0.0,
          1.0
         ],
         "title": {
          "text": "load_time_per_input_token"
         }
        },
        "xaxis2": {
         "anchor": "y2",
         "domain": [
          0.7413,
          1.0
         ],
         "matches": "x2",
         "showticklabels": false,
         "showline": false,
         "ticks": "",
         "showgrid": false
        },
        "yaxis2": {
         "anchor": "x2",
         "domain": [
          0.0,
          1.0
         ],
         "matches": "y",
         "showticklabels": false,
         "showgrid": true
        },
        "legend": {
         "title": {
          "text": "prompts"
         },
         "tracegroupgap": 0,
         "itemsizing": "constant"
        },
        "margin": {
         "t": 60
        }
       },
       "config": {
        "plotlyServerURL": "https://plot.ly"
       }
      }
     },
     "metadata": {},
     "output_type": "display_data",
     "jetTransient": {
      "display_id": null
     }
    },
    {
     "data": {
      "application/vnd.plotly.v1+json": {
       "data": [
        {
         "hovertemplate": "prompts=1<br>x=%{x}<br>total_time_per_output_token=%{y}<extra></extra>",
         "legendgroup": "1",
         "marker": {
          "color": "#636efa",
          "symbol": "circle"
         },
         "mode": "markers",
         "name": "1",
         "orientation": "v",
         "showlegend": true,
         "x": {
          "dtype": "i2",
          "bdata": "AAABAAIAAwAEAAUABgAHAAgACQAKAAsADAANAA4ADwAQABEAEgATABQAFQAWABcAGAAZABoAGwAcAB0AHgAfACAAIQAiACMAJAAlACYAJwAoACkAKgArACwALQAuAC8AMAAxADIAMwA0ADUANgA3ADgAOQA6ADsAPAA9AD4APwBqAGsAbABtAG4AbwBwAHEAcgBzAHQAdQB2AHcAeAB5AHoAewB8AH0AfgB/AIAAgQCCAIMAhACFAIYAhwCIAIkAigCLAIwAjQCOAI8AkACRAJIAkwCUAJUAlgCXAJgAmQCaAJsAnACdAJ4AnwCgAKEAogCjAKQApQCmAKcAqACpANQA1QDWANcA2ADZANoA2wDcAN0A3gDfAOAA4QDiAOMA5ADlAOYA5wDoAOkA6gDrAOwA7QDuAO8A8ADxAPIA8wD0APUA9gD3APgA+QD6APsA/AD9AP4A/wAAAQEBAgEDAQQBBQEGAQcBCAEJAQoBCwEMAQ0BDgEPARABEQESARMBPgE/AUABQQFCAUMBRAFFAUYBRwFIAUkBSgFLAUwBTQFOAU8BUAFRAVIBUwFUAVUBVgFXAVgBWQFaAVsBXAFdAV4BXwFgAWEBYgFjAWQBZQFmAWcBaAFpAWoBawFsAW0BbgFvAXABcQFyAXMBdAF1AXYBdwF4AXkBegF7AXwBfQE="
         },
         "xaxis": "x",
         "y": {
          "dtype": "f8",
          "bdata": "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"
         },
         "yaxis": "y",
         "type": "scatter"
        },
        {
         "alignmentgroup": "True",
         "hovertemplate": "prompts=1<br>total_time_per_output_token=%{y}<extra></extra>",
         "legendgroup": "1",
         "marker": {
          "color": "#636efa",
          "symbol": "circle"
         },
         "name": "1",
         "offsetgroup": "1",
         "scalegroup": "y",
         "showlegend": false,
         "xaxis": "x2",
         "y": {
          "dtype": "f8",
          "bdata": "4Ck2W1cemT8BuQq/fjiWP+rn/I4nx5c/juarWw4plj9++b5OzwKYP/Q4fYiDCpY/wQ8zg+ngmD9yCt9nGiuWP1H0fN0b7Zk/e2nWI99Blj8opImUNYGaP4M2Woq7LJY/yBBdiF31lz/Gj2F3fCaWP6T+hoI4G6Q/yUHyayhTlj/b8+iFvJebP/RfGBOTmpY/NOpfqsR6oz9Exz+1/VyWPz/A//v48Jk/kGoLeRhPlj9kiktqdyqXP4hBt57qMJY/yoRenTaKnT+gODnDDwaWP6woKN4yD5o/HR+h986flj/n/QtjZKWYP1Mmovn+FpY/lwHDgE4BmD8yqIwSMmOWP87kJrFZcJg/MBP5p1Iwlj/gTrKSJ12XP7BuLU6bFpY/CLuF0ju5mD/7/HDsYQCWP0JY08crVps/2ten7CqFlj/cHDp/C5moP1VoCTBExJY/arnYWZnVmj+xSexIYyKiP7QObjcypaA/VNslPjZglj9vjmDQLzeiPz3XbHEbg5Y/z/sTK3ZImD+Y0QfggHSWP7r7XVoRdpg/Q3Ej5Ugqlj9jL6QCvimYPwE8TRRoKJY/2mxWDunHmD//FFLSySCWPwLlxMLTo6E/c6LiVAhclj9LcXcfLqGXP6QMATdpPpY/lQxdzLQrmD8nm3H+Mh+WP76faKmIIZw/BZmoWnZUlj/D+e1O6/SjP3ibsxVmZ6I/ln+i5l1qmD/2SZ8olByWP18GY0Si0LA/1ZCX8mYylj/dW2vR/fqXP6Ua2LuHM5Y/5X6HokCfrD/mWR1YlfyVP1yvsn9nRLA/mYROOBFAoj+pfrBN2rqYPzqzo+e19ZU/1odz0OTgmT9WkJEFnQSWP6fQQsuDvZc/EK7OhzPblT/PfY2y68+XP6+OiM7X0ZU/cb5+oTEFmD9FjJaRGQGWP+DnQFejn6A/RTYFZjeopT8s1cndqxqYP2/UDCOiI5Y/ZoUi3c8pqz9GcuSQRheWP4D7Mv+Fcak/aAAR7xg6lj+VGykVE56cP3q6qloxSJY/SZAAJIkUoz/C2qZsQzWWPwhfQsLHCqM/VfME0ngAlz/epKBH0CuYPzj6/4jOhpY/nwwiPvDHmD8jeuFntjiWP4oMzga5t5c/TpVVRKg/lj894NA+3+eXP2LwoTcMV5Y/T9KqpnDYlz9cv6mRTXuWP8efVTblt5g/V6HITQU6lj+oyOWZEKGgP5hzths2JJY/lXO5TJRymT829tMcrEGWP2uOiSxuuZ4/ckcpRwpwlj/IuSyqbsOeP984reBmZpY/Mul7fDrnlz+tWHHesU2WP5quMb2eiJc/pkN8UN0slj/rvdE0AI6XP6mkCx4lOJY/CEzzSwbFmD/XWwktheuVP7ahAK5T/Jc/3z3L98cjlj9BlVb/o/KWP6ackywYI5Y/abNh/uQolz/bDWH5TvqVP1A0tKYebpc/qUWg/+8alj8rYJ7dfqaXP481sekBN5Y/Zl01fE1olz9VEQtZURmWP7Fk/y/OUJc/cky0x/fXlT9AcRz2NdSXP25E3vcXA5Y/Ao2BToGXlz9PPKeBYG2WP2hmepKxJZg/Lob535qOlj+sBdx3v5uXPxo/sXKMiJY/W8yswJsylz+TFAOvoCeWP2h8w9MW/5c/rBgcIO5Clj+eRwMfnmOXPysBaqQS2ZU/DlkLVEYnlz/tAzkpozqWP75TrfAXX5c/2pyAwczrlT+46XjhcoWWP8MeASkbJZY/CYwxa76Olz8iq+LS/TaWPzDsl/Hi3JY/kenIPyJGlj8Ju0F8boGYP8DjyznhKZY/5Gn5gas8lz8hzEsM/ROWP9bP+Shc3pc/QbslZhbYlT/aUxgBu0CXPyMMMq1RZZY/y23/HQbklz99bmhw0RuWP3vMIsJQjZc/a8nN4BkZlj87o8AVY/OWP+b4jOM1Z5Y/Jcj5x8oglz848d1CYOKVP9m/1pYftZc/rB3e7GVrlj8//6QoVr6XPzxxhSvsHZY/CQSp0awHlz8l2oSTeQGWP3ll2GosmZc/EfiiXC4/lj/TLlpZZGuYP8Xjp+YoPZY/ONYMmRdClz++LihByxuWP5zg6c4yTJc/p+tJFvQxlj9kg3ghogiXPzBe1bqbQJY/fp4zHjEmmD/JDMHYJyOWP+mhHIxV9Jc/olYuuyYglj/GSOGjkUOXP1OtpT4SKZY/lXbqFCiylz+VQSZcMQWWP86NKE8k15c/zP6rmTRSlj/ROsWCx/6XP4/KICWoMpY/2fIFPV3Glj9wH+gVv1iWP3rv/fJi2Jc/EKX7xn0mlj/rP43ZloyYP/yBExjvU5Y/nVjuHAjylj+A76UB0Q+WPxpyVQqs9Jc/ILmIlR16lj/HzNcq/SqXP9zIXMMCAJY/bMZc6LwUmD9mqqsRgUiWPx5JNR0uJZg/pgAgQOn4lT8s04MQ/cuXP/6UuT6nCpY/4SxJwuKUlz+VNLwmxSmWP0+VaOW1tpg/fKvnYl7xlT/+j98o9I2XP8gWD7ocSpY/row2rnj4lz84lXH7CmKWP+Hq8VyOQJg/vS8cra1nlj/umh2fu4OXP1zemfQG8JU/sLVWGboIlz+E0cboE/uVP2XWClKoppc/+MnyjWo7lj9G9WslU4mXP14Q1KtoKpY/I5Pw8smplz/Rms/6fBuWP+O3dvNkjJg/atREXXIxlj8RP+xyN3WXP/vP10zv5ZU/NO110jv8lj989qs7luaVP60rIkaL75c/ipvSeQwOlj8="
         },
         "yaxis": "y2",
         "type": "violin"
        },
        {
         "hovertemplate": "prompts=8<br>x=%{x}<br>total_time_per_output_token=%{y}<extra></extra>",
         "legendgroup": "8",
         "marker": {
          "color": "#EF553B",
          "symbol": "circle"
         },
         "mode": "markers",
         "name": "8",
         "orientation": "v",
         "showlegend": true,
         "x": {
          "dtype": "i2",
          "bdata": "QABBAEIAQwBEAEUARgBHAEgASQBKAEsATABNAE4ATwBQAFEAUgBTAFQAVQBWAFcAWABZAFoAWwBcAF0AXgBfAKoAqwCsAK0ArgCvALAAsQCyALMAtAC1ALYAtwC4ALkAugC7ALwAvQC+AL8AwADBAMIAwwDEAMUAxgDHAMgAyQAUARUBFgEXARgBGQEaARsBHAEdAR4BHwEgASEBIgEjASQBJQEmAScBKAEpASoBKwEsAS0BLgEvATABMQEyATMBfgF/AYABgQGCAYMBhAGFAYYBhwGIAYkBigGLAYwBjQGOAY8BkAGRAZIBkwGUAZUBlgGXAZgBmQGaAZsBnAGdAQ=="
         },
         "xaxis": "x",
         "y": {
          "dtype": "f8",
          "bdata": "BTmY6GZtlz8mIR+tH1+WP/DdjG72I5g/2bJp6VfUlj/TVdBgHSGXPxW8WspOk5Y/ClJASrwZlz98PUj2ULaWP4kAlJL9BJc/TSUMl9NJlj/oWMeLvROYP/yc6sqZqpY/29MvpUV4lz/mZ6AAZoqWP0TI4foZCpc/FV8qMrR3lj8+6MWxpSCXP2Ko/8Vo1JY/Urcyi1T+lz8Z84UAd3qWP8q+3QdUsZc/30UNM023lj9Ofad4QFaXP5qaOoiMd5Y/5n6NYMxblz9xixLJPNCWP6x0HV8grpk/3ScNgAjSlj9kwVwAnH+XP3IMn1Q7xZY/E14c5Z8Olz9j8I9wyY6WP2eSXX9yhZY/MrLYkXSWlj8K9/bKAmeWP+Fl2n55K5Y/F4cwnuu6lj/Tfdb4mj6WP8DMBCFFRJY/9d4C+DxDlj+pK+lylM2WP/wMYNTVNJY/uDtPvuYTlj+VP8E8WOqVP+Tr2EX1f5Y/PrpOkzYilj+jagjS4r6WP8+LsvbeHpY/l9BHgWk7lj+RnjnvdCOWP57hR3FqV5Y/pAKEc4cElj9zfKYxP0iWPzc5qrIgD5Y/uvMlj/U1lj8PD2NkKNuVP6Ipix97ZpY/cv/UM18rlj+M3XW6F4iXP9sJqG6OPJY/lM0YpcmIlj87FyaJMAKWP/xqyLigeJY/gn+eijszlj+OC4DWqUGXPyIGGkFKwpY/bV8q7HX4lj+TpZUlj7OWP1w1Q8V70pY/wCtyOxpzlj/RohsMcw+XP6tHk9Qpn5Y/yyCJFag5lz/UuqawBbKWPyvJUAR9OJc/YY20RlOjlj8W/+CF6rKWP5riIUWGX5Y/qVEVe+valj8P+aZbF72WPz536dixIpc/ukuNEE/vlj/quqxs7TyXPznDMOHtjJY/nM2XTv3Elj8mEfBak5+WP3uAng4zPpc/SyxAqGLIlj/KE0U07DSXP3LzuOhmw5Y/ZV1cRQ75lj/DyPCg05qWP7VMrvl40ZY/jhdtGHttlj+XFIktCNSWP3VEfnEqp5Y/xuWti3ZJlj+H8Y5eYBOWP5rDAQgXXJY/jHk7ZzyClj8Bm2E2sLGWP2SmvG5yaZY/YZm5TOBylj8NfJ6GG16WPyfa8VCZtZY/Hrr3ikdAlj/SA0dWylmWP14hjxfoSZY/hPvIeMLPlj/y8J+ISS6WP6EAr7ODb5Y/dFBJZ6E+lj8wSge0q1mWP7lA4WOdRJY/eWC2xANglj/+C09TgmSWP7+IhMZ6XpY/9lEbQIJalj9Y4fpI8FaWPwOlFjX+VpY/be7WFj6flj9MKchn4iaWP0/wQ6fEkZY/19xV6k5Flj/TaQ6SQR+WPxQEC9gL7ZU/dWkClYtclj80PNFsJFyWPw=="
         },
         "yaxis": "y",
         "type": "scatter"
        },
        {
         "alignmentgroup": "True",
         "hovertemplate": "prompts=8<br>total_time_per_output_token=%{y}<extra></extra>",
         "legendgroup": "8",
         "marker": {
          "color": "#EF553B",
          "symbol": "circle"
         },
         "name": "8",
         "offsetgroup": "8",
         "scalegroup": "y",
         "showlegend": false,
         "xaxis": "x2",
         "y": {
          "dtype": "f8",
          "bdata": "BTmY6GZtlz8mIR+tH1+WP/DdjG72I5g/2bJp6VfUlj/TVdBgHSGXPxW8WspOk5Y/ClJASrwZlz98PUj2ULaWP4kAlJL9BJc/TSUMl9NJlj/oWMeLvROYP/yc6sqZqpY/29MvpUV4lz/mZ6AAZoqWP0TI4foZCpc/FV8qMrR3lj8+6MWxpSCXP2Ko/8Vo1JY/Urcyi1T+lz8Z84UAd3qWP8q+3QdUsZc/30UNM023lj9Ofad4QFaXP5qaOoiMd5Y/5n6NYMxblz9xixLJPNCWP6x0HV8grpk/3ScNgAjSlj9kwVwAnH+XP3IMn1Q7xZY/E14c5Z8Olz9j8I9wyY6WP2eSXX9yhZY/MrLYkXSWlj8K9/bKAmeWP+Fl2n55K5Y/F4cwnuu6lj/Tfdb4mj6WP8DMBCFFRJY/9d4C+DxDlj+pK+lylM2WP/wMYNTVNJY/uDtPvuYTlj+VP8E8WOqVP+Tr2EX1f5Y/PrpOkzYilj+jagjS4r6WP8+LsvbeHpY/l9BHgWk7lj+RnjnvdCOWP57hR3FqV5Y/pAKEc4cElj9zfKYxP0iWPzc5qrIgD5Y/uvMlj/U1lj8PD2NkKNuVP6Ipix97ZpY/cv/UM18rlj+M3XW6F4iXP9sJqG6OPJY/lM0YpcmIlj87FyaJMAKWP/xqyLigeJY/gn+eijszlj+OC4DWqUGXPyIGGkFKwpY/bV8q7HX4lj+TpZUlj7OWP1w1Q8V70pY/wCtyOxpzlj/RohsMcw+XP6tHk9Qpn5Y/yyCJFag5lz/UuqawBbKWPyvJUAR9OJc/YY20RlOjlj8W/+CF6rKWP5riIUWGX5Y/qVEVe+valj8P+aZbF72WPz536dixIpc/ukuNEE/vlj/quqxs7TyXPznDMOHtjJY/nM2XTv3Elj8mEfBak5+WP3uAng4zPpc/SyxAqGLIlj/KE0U07DSXP3LzuOhmw5Y/ZV1cRQ75lj/DyPCg05qWP7VMrvl40ZY/jhdtGHttlj+XFIktCNSWP3VEfnEqp5Y/xuWti3ZJlj+H8Y5eYBOWP5rDAQgXXJY/jHk7ZzyClj8Bm2E2sLGWP2SmvG5yaZY/YZm5TOBylj8NfJ6GG16WPyfa8VCZtZY/Hrr3ikdAlj/SA0dWylmWP14hjxfoSZY/hPvIeMLPlj/y8J+ISS6WP6EAr7ODb5Y/dFBJZ6E+lj8wSge0q1mWP7lA4WOdRJY/eWC2xANglj/+C09TgmSWP7+IhMZ6XpY/9lEbQIJalj9Y4fpI8FaWPwOlFjX+VpY/be7WFj6flj9MKchn4iaWP0/wQ6fEkZY/19xV6k5Flj/TaQ6SQR+WPxQEC9gL7ZU/dWkClYtclj80PNFsJFyWPw=="
         },
         "yaxis": "y2",
         "type": "violin"
        },
        {
         "hovertemplate": "prompts=32<br>x=%{x}<br>total_time_per_output_token=%{y}<extra></extra>",
         "legendgroup": "32",
         "marker": {
          "color": "#00cc96",
          "symbol": "circle"
         },
         "mode": "markers",
         "name": "32",
         "orientation": "v",
         "showlegend": true,
         "x": {
          "dtype": "i2",
          "bdata": "YABhAGIAYwBkAGUAZgBnAMoAywDMAM0AzgDPANAA0QA0ATUBNgE3ATgBOQE6ATsBngGfAaABoQGiAaMBpAGlAQ=="
         },
         "xaxis": "x",
         "y": {
          "dtype": "f8",
          "bdata": "dFPmCsBhmD/55gQ1N/SXP2bhqQiRl5g/xSngt2YLmD8mfcH0ZFCYP54VvYqKo5g/gVPk+EiXmD/mgYfyvBCYP7ax+Bh2dZY/rUEwn8V0lj8t3Wt4q6iXP6AvICh1UZY/dhzW3Hevlj8eqSCHUXKWP/AUqKxM4JY/bfSE7OCNlj9y0PeseAWYPx+PzuilpZg/UXz3CVAemD88VCzjuHWYPxpDVVf/F5g/tIwf2BM9mD/w5hyYWBOYPwxYJgdC35g/H6dJqr2Klj9W+I7CPeOWPwkGybZidpY/ES5zN0f5lj/3DyK0wVeWP8FKKKJwz5Y/aLwso1h5lj8XDFDl6FKXPw=="
         },
         "yaxis": "y",
         "type": "scatter"
        },
        {
         "alignmentgroup": "True",
         "hovertemplate": "prompts=32<br>total_time_per_output_token=%{y}<extra></extra>",
         "legendgroup": "32",
         "marker": {
          "color": "#00cc96",
          "symbol": "circle"
         },
         "name": "32",
         "offsetgroup": "32",
         "scalegroup": "y",
         "showlegend": false,
         "xaxis": "x2",
         "y": {
          "dtype": "f8",
          "bdata": "dFPmCsBhmD/55gQ1N/SXP2bhqQiRl5g/xSngt2YLmD8mfcH0ZFCYP54VvYqKo5g/gVPk+EiXmD/mgYfyvBCYP7ax+Bh2dZY/rUEwn8V0lj8t3Wt4q6iXP6AvICh1UZY/dhzW3Hevlj8eqSCHUXKWP/AUqKxM4JY/bfSE7OCNlj9y0PeseAWYPx+PzuilpZg/UXz3CVAemD88VCzjuHWYPxpDVVf/F5g/tIwf2BM9mD/w5hyYWBOYPwxYJgdC35g/H6dJqr2Klj9W+I7CPeOWPwkGybZidpY/ES5zN0f5lj/3DyK0wVeWP8FKKKJwz5Y/aLwso1h5lj8XDFDl6FKXPw=="
         },
         "yaxis": "y2",
         "type": "violin"
        },
        {
         "hovertemplate": "prompts=128<br>x=%{x}<br>total_time_per_output_token=%{y}<extra></extra>",
         "legendgroup": "128",
         "marker": {
          "color": "#ab63fa",
          "symbol": "circle"
         },
         "mode": "markers",
         "name": "128",
         "orientation": "v",
         "showlegend": true,
         "x": {
          "dtype": "i2",
          "bdata": "aABpANIA0wA8AT0BpgGnAQ=="
         },
         "xaxis": "x",
         "y": {
          "dtype": "f8",
          "bdata": "NN4kru1ytD94G9bn02W0P8u7FJAA0Jg/qEDGzgHYmD/HVZ8T+z6sP/G9XmOP46c/fVXbC9S7nT/8851eR++XPw=="
         },
         "yaxis": "y",
         "type": "scatter"
        },
        {
         "alignmentgroup": "True",
         "hovertemplate": "prompts=128<br>total_time_per_output_token=%{y}<extra></extra>",
         "legendgroup": "128",
         "marker": {
          "color": "#ab63fa",
          "symbol": "circle"
         },
         "name": "128",
         "offsetgroup": "128",
         "scalegroup": "y",
         "showlegend": false,
         "xaxis": "x2",
         "y": {
          "dtype": "f8",
          "bdata": "NN4kru1ytD94G9bn02W0P8u7FJAA0Jg/qEDGzgHYmD/HVZ8T+z6sP/G9XmOP46c/fVXbC9S7nT/8851eR++XPw=="
         },
         "yaxis": "y2",
         "type": "violin"
        }
       ],
       "layout": {
        "template": {
         "data": {
          "histogram2dcontour": [
           {
            "type": "histogram2dcontour",
            "colorbar": {
             "outlinewidth": 0,
             "ticks": ""
            },
            "colorscale": [
             [
              0.0,
              "#0d0887"
             ],
             [
              0.1111111111111111,
              "#46039f"
             ],
             [
              0.2222222222222222,
              "#7201a8"
             ],
             [
              0.3333333333333333,
              "#9c179e"
             ],
             [
              0.4444444444444444,
              "#bd3786"
             ],
             [
              0.5555555555555556,
              "#d8576b"
             ],
             [
              0.6666666666666666,
              "#ed7953"
             ],
             [
              0.7777777777777778,
              "#fb9f3a"
             ],
             [
              0.8888888888888888,
              "#fdca26"
             ],
             [
              1.0,
              "#f0f921"
             ]
            ]
           }
          ],
          "choropleth": [
           {
            "type": "choropleth",
            "colorbar": {
             "outlinewidth": 0,
             "ticks": ""
            }
           }
          ],
          "histogram2d": [
           {
            "type": "histogram2d",
            "colorbar": {
             "outlinewidth": 0,
             "ticks": ""
            },
            "colorscale": [
             [
              0.0,
              "#0d0887"
             ],
             [
              0.1111111111111111,
              "#46039f"
             ],
             [
              0.2222222222222222,
              "#7201a8"
             ],
             [
              0.3333333333333333,
              "#9c179e"
             ],
             [
              0.4444444444444444,
              "#bd3786"
             ],
             [
              0.5555555555555556,
              "#d8576b"
             ],
             [
              0.6666666666666666,
              "#ed7953"
             ],
             [
              0.7777777777777778,
              "#fb9f3a"
             ],
             [
              0.8888888888888888,
              "#fdca26"
             ],
             [
              1.0,
              "#f0f921"
             ]
            ]
           }
          ],
          "heatmap": [
           {
            "type": "heatmap",
            "colorbar": {
             "outlinewidth": 0,
             "ticks": ""
            },
            "colorscale": [
             [
              0.0,
              "#0d0887"
             ],
             [
              0.1111111111111111,
              "#46039f"
             ],
             [
              0.2222222222222222,
              "#7201a8"
             ],
             [
              0.3333333333333333,
              "#9c179e"
             ],
             [
              0.4444444444444444,
              "#bd3786"
             ],
             [
              0.5555555555555556,
              "#d8576b"
             ],
             [
              0.6666666666666666,
              "#ed7953"
             ],
             [
              0.7777777777777778,
              "#fb9f3a"
             ],
             [
              0.8888888888888888,
              "#fdca26"
             ],
             [
              1.0,
              "#f0f921"
             ]
            ]
           }
          ],
          "contourcarpet": [
           {
            "type": "contourcarpet",
            "colorbar": {
             "outlinewidth": 0,
             "ticks": ""
            }
           }
          ],
          "contour": [
           {
            "type": "contour",
            "colorbar": {
             "outlinewidth": 0,
             "ticks": ""
            },
            "colorscale": [
             [
              0.0,
              "#0d0887"
             ],
             [
              0.1111111111111111,
              "#46039f"
             ],
             [
              0.2222222222222222,
              "#7201a8"
             ],
             [
              0.3333333333333333,
              "#9c179e"
             ],
             [
              0.4444444444444444,
              "#bd3786"
             ],
             [
              0.5555555555555556,
              "#d8576b"
             ],
             [
              0.6666666666666666,
              "#ed7953"
             ],
             [
              0.7777777777777778,
              "#fb9f3a"
             ],
             [
              0.8888888888888888,
              "#fdca26"
             ],
             [
              1.0,
              "#f0f921"
             ]
            ]
           }
          ],
          "surface": [
           {
            "type": "surface",
            "colorbar": {
             "outlinewidth": 0,
             "ticks": ""
            },
            "colorscale": [
             [
              0.0,
              "#0d0887"
             ],
             [
              0.1111111111111111,
              "#46039f"
             ],
             [
              0.2222222222222222,
              "#7201a8"
             ],
             [
              0.3333333333333333,
              "#9c179e"
             ],
             [
              0.4444444444444444,
              "#bd3786"
             ],
             [
              0.5555555555555556,
              "#d8576b"
             ],
             [
              0.6666666666666666,
              "#ed7953"
             ],
             [
              0.7777777777777778,
              "#fb9f3a"
             ],
             [
              0.8888888888888888,
              "#fdca26"
             ],
             [
              1.0,
              "#f0f921"
             ]
            ]
           }
          ],
          "mesh3d": [
           {
            "type": "mesh3d",
            "colorbar": {
             "outlinewidth": 0,
             "ticks": ""
            }
           }
          ],
          "scatter": [
           {
            "marker": {
             "line": {
              "color": "#283442"
             }
            },
            "type": "scatter"
           }
          ],
          "parcoords": [
           {
            "type": "parcoords",
            "line": {
             "colorbar": {
              "outlinewidth": 0,
              "ticks": ""
             }
            }
           }
          ],
          "scatterpolargl": [
           {
            "type": "scatterpolargl",
            "marker": {
             "colorbar": {
              "outlinewidth": 0,
              "ticks": ""
             }
            }
           }
          ],
          "bar": [
           {
            "error_x": {
             "color": "#f2f5fa"
            },
            "error_y": {
             "color": "#f2f5fa"
            },
            "marker": {
             "line": {
              "color": "rgb(17,17,17)",
              "width": 0.5
             },
             "pattern": {
              "fillmode": "overlay",
              "size": 10,
              "solidity": 0.2
             }
            },
            "type": "bar"
           }
          ],
          "scattergeo": [
           {
            "type": "scattergeo",
            "marker": {
             "colorbar": {
              "outlinewidth": 0,
              "ticks": ""
             }
            }
           }
          ],
          "scatterpolar": [
           {
            "type": "scatterpolar",
            "marker": {
             "colorbar": {
              "outlinewidth": 0,
              "ticks": ""
             }
            }
           }
          ],
          "histogram": [
           {
            "marker": {
             "pattern": {
              "fillmode": "overlay",
              "size": 10,
              "solidity": 0.2
             }
            },
            "type": "histogram"
           }
          ],
          "scattergl": [
           {
            "marker": {
             "line": {
              "color": "#283442"
             }
            },
            "type": "scattergl"
           }
          ],
          "scatter3d": [
           {
            "type": "scatter3d",
            "line": {
             "colorbar": {
              "outlinewidth": 0,
              "ticks": ""
             }
            },
            "marker": {
             "colorbar": {
              "outlinewidth": 0,
              "ticks": ""
             }
            }
           }
          ],
          "scattermap": [
           {
            "type": "scattermap",
            "marker": {
             "colorbar": {
              "outlinewidth": 0,
              "ticks": ""
             }
            }
           }
          ],
          "scattermapbox": [
           {
            "type": "scattermapbox",
            "marker": {
             "colorbar": {
              "outlinewidth": 0,
              "ticks": ""
             }
            }
           }
          ],
          "scatterternary": [
           {
            "type": "scatterternary",
            "marker": {
             "colorbar": {
              "outlinewidth": 0,
              "ticks": ""
             }
            }
           }
          ],
          "scattercarpet": [
           {
            "type": "scattercarpet",
            "marker": {
             "colorbar": {
              "outlinewidth": 0,
              "ticks": ""
             }
            }
           }
          ],
          "carpet": [
           {
            "aaxis": {
             "endlinecolor": "#A2B1C6",
             "gridcolor": "#506784",
             "linecolor": "#506784",
             "minorgridcolor": "#506784",
             "startlinecolor": "#A2B1C6"
            },
            "baxis": {
             "endlinecolor": "#A2B1C6",
             "gridcolor": "#506784",
             "linecolor": "#506784",
             "minorgridcolor": "#506784",
             "startlinecolor": "#A2B1C6"
            },
            "type": "carpet"
           }
          ],
          "table": [
           {
            "cells": {
             "fill": {
              "color": "#506784"
             },
             "line": {
              "color": "rgb(17,17,17)"
             }
            },
            "header": {
             "fill": {
              "color": "#2a3f5f"
             },
             "line": {
              "color": "rgb(17,17,17)"
             }
            },
            "type": "table"
           }
          ],
          "barpolar": [
           {
            "marker": {
             "line": {
              "color": "rgb(17,17,17)",
              "width": 0.5
             },
             "pattern": {
              "fillmode": "overlay",
              "size": 10,
              "solidity": 0.2
             }
            },
            "type": "barpolar"
           }
          ],
          "pie": [
           {
            "automargin": true,
            "type": "pie"
           }
          ]
         },
         "layout": {
          "autotypenumbers": "strict",
          "colorway": [
           "#636efa",
           "#EF553B",
           "#00cc96",
           "#ab63fa",
           "#FFA15A",
           "#19d3f3",
           "#FF6692",
           "#B6E880",
           "#FF97FF",
           "#FECB52"
          ],
          "font": {
           "color": "#f2f5fa"
          },
          "hovermode": "closest",
          "hoverlabel": {
           "align": "left"
          },
          "paper_bgcolor": "rgb(17,17,17)",
          "plot_bgcolor": "rgb(17,17,17)",
          "polar": {
           "bgcolor": "rgb(17,17,17)",
           "angularaxis": {
            "gridcolor": "#506784",
            "linecolor": "#506784",
            "ticks": ""
           },
           "radialaxis": {
            "gridcolor": "#506784",
            "linecolor": "#506784",
            "ticks": ""
           }
          },
          "ternary": {
           "bgcolor": "rgb(17,17,17)",
           "aaxis": {
            "gridcolor": "#506784",
            "linecolor": "#506784",
            "ticks": ""
           },
           "baxis": {
            "gridcolor": "#506784",
            "linecolor": "#506784",
            "ticks": ""
           },
           "caxis": {
            "gridcolor": "#506784",
            "linecolor": "#506784",
            "ticks": ""
           }
          },
          "coloraxis": {
           "colorbar": {
            "outlinewidth": 0,
            "ticks": ""
           }
          },
          "colorscale": {
           "sequential": [
            [
             0.0,
             "#0d0887"
            ],
            [
             0.1111111111111111,
             "#46039f"
            ],
            [
             0.2222222222222222,
             "#7201a8"
            ],
            [
             0.3333333333333333,
             "#9c179e"
            ],
            [
             0.4444444444444444,
             "#bd3786"
            ],
            [
             0.5555555555555556,
             "#d8576b"
            ],
            [
             0.6666666666666666,
             "#ed7953"
            ],
            [
             0.7777777777777778,
             "#fb9f3a"
            ],
            [
             0.8888888888888888,
             "#fdca26"
            ],
            [
             1.0,
             "#f0f921"
            ]
           ],
           "sequentialminus": [
            [
             0.0,
             "#0d0887"
            ],
            [
             0.1111111111111111,
             "#46039f"
            ],
            [
             0.2222222222222222,
             "#7201a8"
            ],
            [
             0.3333333333333333,
             "#9c179e"
            ],
            [
             0.4444444444444444,
             "#bd3786"
            ],
            [
             0.5555555555555556,
             "#d8576b"
            ],
            [
             0.6666666666666666,
             "#ed7953"
            ],
            [
             0.7777777777777778,
             "#fb9f3a"
            ],
            [
             0.8888888888888888,
             "#fdca26"
            ],
            [
             1.0,
             "#f0f921"
            ]
           ],
           "diverging": [
            [
             0,
             "#8e0152"
            ],
            [
             0.1,
             "#c51b7d"
            ],
            [
             0.2,
             "#de77ae"
            ],
            [
             0.3,
             "#f1b6da"
            ],
            [
             0.4,
             "#fde0ef"
            ],
            [
             0.5,
             "#f7f7f7"
            ],
            [
             0.6,
             "#e6f5d0"
            ],
            [
             0.7,
             "#b8e186"
            ],
            [
             0.8,
             "#7fbc41"
            ],
            [
             0.9,
             "#4d9221"
            ],
            [
             1,
             "#276419"
            ]
           ]
          },
          "xaxis": {
           "gridcolor": "#283442",
           "linecolor": "#506784",
           "ticks": "",
           "title": {
            "standoff": 15
           },
           "zerolinecolor": "#283442",
           "automargin": true,
           "zerolinewidth": 2
          },
          "yaxis": {
           "gridcolor": "#283442",
           "linecolor": "#506784",
           "ticks": "",
           "title": {
            "standoff": 15
           },
           "zerolinecolor": "#283442",
           "automargin": true,
           "zerolinewidth": 2
          },
          "scene": {
           "xaxis": {
            "backgroundcolor": "rgb(17,17,17)",
            "gridcolor": "#506784",
            "linecolor": "#506784",
            "showbackground": true,
            "ticks": "",
            "zerolinecolor": "#C8D4E3",
            "gridwidth": 2
           },
           "yaxis": {
            "backgroundcolor": "rgb(17,17,17)",
            "gridcolor": "#506784",
            "linecolor": "#506784",
            "showbackground": true,
            "ticks": "",
            "zerolinecolor": "#C8D4E3",
            "gridwidth": 2
           },
           "zaxis": {
            "backgroundcolor": "rgb(17,17,17)",
            "gridcolor": "#506784",
            "linecolor": "#506784",
            "showbackground": true,
            "ticks": "",
            "zerolinecolor": "#C8D4E3",
            "gridwidth": 2
           }
          },
          "shapedefaults": {
           "line": {
            "color": "#f2f5fa"
           }
          },
          "annotationdefaults": {
           "arrowcolor": "#f2f5fa",
           "arrowhead": 0,
           "arrowwidth": 1
          },
          "geo": {
           "bgcolor": "rgb(17,17,17)",
           "landcolor": "rgb(17,17,17)",
           "subunitcolor": "#506784",
           "showland": true,
           "showlakes": true,
           "lakecolor": "rgb(17,17,17)"
          },
          "title": {
           "x": 0.05
          },
          "updatemenudefaults": {
           "bgcolor": "#506784",
           "borderwidth": 0
          },
          "sliderdefaults": {
           "bgcolor": "#C8D4E3",
           "borderwidth": 1,
           "bordercolor": "rgb(17,17,17)",
           "tickwidth": 0
          },
          "mapbox": {
           "style": "dark"
          }
         }
        },
        "xaxis": {
         "anchor": "y",
         "domain": [
          0.0,
          0.7363
         ],
         "title": {
          "text": "x"
         }
        },
        "yaxis": {
         "anchor": "x",
         "domain": [
          0.0,
          1.0
         ],
         "title": {
          "text": "total_time_per_output_token"
         }
        },
        "xaxis2": {
         "anchor": "y2",
         "domain": [
          0.7413,
          1.0
         ],
         "matches": "x2",
         "showticklabels": false,
         "showline": false,
         "ticks": "",
         "showgrid": false
        },
        "yaxis2": {
         "anchor": "x2",
         "domain": [
          0.0,
          1.0
         ],
         "matches": "y",
         "showticklabels": false,
         "showgrid": true
        },
        "legend": {
         "title": {
          "text": "prompts"
         },
         "tracegroupgap": 0
        },
        "margin": {
         "t": 60
        }
       },
       "config": {
        "plotlyServerURL": "https://plot.ly"
       }
      }
     },
     "metadata": {},
     "output_type": "display_data",
     "jetTransient": {
      "display_id": null
     }
    }
   ],
   "execution_count": 179
  },
  {
   "metadata": {
    "ExecuteTime": {
     "end_time": "2025-10-11T19:37:14.997962Z",
     "start_time": "2025-10-11T19:37:14.722544Z"
    }
   },
   "cell_type": "code",
   "source": [
    "fig = px.scatter(data_df, x= range(len(data_df)), y= \"total_time_per_output_token\", color = 'prompt_length', marginal_y=\"violin\")\n",
    "fig.show()\n",
    "fig = px.scatter(data_df, x= range(len(data_df)), y= \"output_tokens_per_prompt\", color = 'prompt_length', marginal_y=\"violin\")\n",
    "fig.show()\n",
    "fig = px.scatter(data_df, x= range(len(data_df)), y= \"output_tokens_per_prompt\", color = 'output_length', marginal_y=\"box\")\n",
    "fig.show()"
   ],
   "id": "7d42c6f3437acf0b",
   "outputs": [
    {
     "data": {
      "application/vnd.plotly.v1+json": {
       "data": [
        {
         "hovertemplate": "prompt_length=long<br>x=%{x}<br>total_time_per_output_token=%{y}<extra></extra>",
         "legendgroup": "long",
         "marker": {
          "color": "#636efa",
          "symbol": "circle"
         },
         "mode": "markers",
         "name": "long",
         "orientation": "v",
         "showlegend": true,
         "x": {
          "dtype": "i2",
          "bdata": "AAABAAIAAwAEAAUABgAHAAgACQAKAAsADAANAA4ADwAQABEAEgATABQAFQAWABcAGAAZABoAGwAcAB0AHgAfACAAIQAiACMAJAAlACYAJwAoACkAKgArACwALQAuAC8AMAAxADIAMwA0ADUANgA3ADgAOQA6ADsAPAA9AD4APwBAAEEAQgBDAEQARQBGAEcASABJAEoASwBMAE0ATgBPAFAAUQBSAFMAVABVAFYAVwBYAFkAWgBbAFwAXQBeAF8AYABhAGIAYwBkAGUAZgBnAGgAaQDUANUA1gDXANgA2QDaANsA3ADdAN4A3wDgAOEA4gDjAOQA5QDmAOcA6ADpAOoA6wDsAO0A7gDvAPAA8QDyAPMA9AD1APYA9wD4APkA+gD7APwA/QD+AP8AAAEBAQIBAwEEAQUBBgEHAQgBCQEKAQsBDAENAQ4BDwEQAREBEgETARQBFQEWARcBGAEZARoBGwEcAR0BHgEfASABIQEiASMBJAElASYBJwEoASkBKgErASwBLQEuAS8BMAExATIBMwE0ATUBNgE3ATgBOQE6ATsBPAE9AQ=="
         },
         "xaxis": "x",
         "y": {
          "dtype": "f8",
          "bdata": "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"
         },
         "yaxis": "y",
         "type": "scatter"
        },
        {
         "alignmentgroup": "True",
         "hovertemplate": "prompt_length=long<br>total_time_per_output_token=%{y}<extra></extra>",
         "legendgroup": "long",
         "marker": {
          "color": "#636efa",
          "symbol": "circle"
         },
         "name": "long",
         "offsetgroup": "long",
         "scalegroup": "y",
         "showlegend": false,
         "xaxis": "x2",
         "y": {
          "dtype": "f8",
          "bdata": "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"
         },
         "yaxis": "y2",
         "type": "violin"
        },
        {
         "hovertemplate": "prompt_length=short<br>x=%{x}<br>total_time_per_output_token=%{y}<extra></extra>",
         "legendgroup": "short",
         "marker": {
          "color": "#EF553B",
          "symbol": "circle"
         },
         "mode": "markers",
         "name": "short",
         "orientation": "v",
         "showlegend": true,
         "x": {
          "dtype": "i2",
          "bdata": "agBrAGwAbQBuAG8AcABxAHIAcwB0AHUAdgB3AHgAeQB6AHsAfAB9AH4AfwCAAIEAggCDAIQAhQCGAIcAiACJAIoAiwCMAI0AjgCPAJAAkQCSAJMAlACVAJYAlwCYAJkAmgCbAJwAnQCeAJ8AoAChAKIAowCkAKUApgCnAKgAqQCqAKsArACtAK4ArwCwALEAsgCzALQAtQC2ALcAuAC5ALoAuwC8AL0AvgC/AMAAwQDCAMMAxADFAMYAxwDIAMkAygDLAMwAzQDOAM8A0ADRANIA0wA+AT8BQAFBAUIBQwFEAUUBRgFHAUgBSQFKAUsBTAFNAU4BTwFQAVEBUgFTAVQBVQFWAVcBWAFZAVoBWwFcAV0BXgFfAWABYQFiAWMBZAFlAWYBZwFoAWkBagFrAWwBbQFuAW8BcAFxAXIBcwF0AXUBdgF3AXgBeQF6AXsBfAF9AX4BfwGAAYEBggGDAYQBhQGGAYcBiAGJAYoBiwGMAY0BjgGPAZABkQGSAZMBlAGVAZYBlwGYAZkBmgGbAZwBnQGeAZ8BoAGhAaIBowGkAaUBpgGnAQ=="
         },
         "xaxis": "x",
         "y": {
          "dtype": "f8",
          "bdata": "w/ntTuv0oz94m7MVZmeiP5Z/ouZdapg/9kmfKJQclj9fBmNEotCwP9WQl/JmMpY/3Vtr0f36lz+lGti7hzOWP+V+h6JAn6w/5lkdWJX8lT9cr7J/Z0SwP5mETjgRQKI/qX6wTdq6mD86s6PntfWVP9aHc9Dk4Jk/VpCRBZ0Elj+n0ELLg72XPxCuzocz25U/z32NsuvPlz+vjojO19GVP3G+fqExBZg/RYyWkRkBlj/g50BXo5+gP0U2BWY3qKU/LNXJ3asamD9v1AwjoiOWP2aFIt3PKas/RnLkkEYXlj+A+zL/hXGpP2gAEe8YOpY/lRspFROenD96uqpaMUiWP0mQACSJFKM/wtqmbEM1lj8IX0LCxwqjP1XzBNJ4AJc/3qSgR9ArmD84+v+IzoaWP58MIj7wx5g/I3rhZ7Y4lj+KDM4GubeXP06VVUSoP5Y/PeDQPt/nlz9i8KE3DFeWP0/SqqZw2Jc/XL+pkU17lj/Hn1U25beYP1ehyE0FOpY/qMjlmRChoD+Yc7YbNiSWP5VzuUyUcpk/NvbTHKxBlj9rjoksbrmeP3JHKUcKcJY/yLksqm7Dnj/fOK3gZmaWPzLpe3w655c/rVhx3rFNlj+arjG9noiXP6ZDfFDdLJY/673RNACOlz+ppAseJTiWPwhM80sGxZg/11sJLYXrlT9nkl1/coWWPzKy2JF0lpY/Cvf2ygJnlj/hZdp+eSuWPxeHMJ7rupY/033W+Jo+lj/AzAQhRUSWP/XeAvg8Q5Y/qSvpcpTNlj/8DGDU1TSWP7g7T77mE5Y/lT/BPFjqlT/k69hF9X+WPz66TpM2IpY/o2oI0uK+lj/Pi7L23h6WP5fQR4FpO5Y/kZ4573Qjlj+e4UdxaleWP6QChHOHBJY/c3ymMT9Ilj83OaqyIA+WP7rzJY/1NZY/Dw9jZCjblT+iKYsfe2aWP3L/1DNfK5Y/jN11uheIlz/bCahujjyWP5TNGKXJiJY/OxcmiTAClj/8asi4oHiWP4J/noo7M5Y/trH4GHZ1lj+tQTCfxXSWPy3da3irqJc/oC8gKHVRlj92HNbcd6+WPx6pIIdRcpY/8BSorEzglj9t9ITs4I2WP8u7FJAA0Jg/qEDGzgHYmD841gyZF0KXP74uKEHLG5Y/nODpzjJMlz+n60kW9DGWP2SDeCGiCJc/MF7VuptAlj9+njMeMSaYP8kMwdgnI5Y/6aEcjFX0lz+iVi67JiCWP8ZI4aORQ5c/U62lPhIplj+VduoUKLKXP5VBJlwxBZY/zo0oTyTXlz/M/quZNFKWP9E6xYLH/pc/j8ogJagylj/Z8gU9XcaWP3Af6BW/WJY/eu/98mLYlz8QpfvGfSaWP+s/jdmWjJg//IETGO9Tlj+dWO4cCPKWP4DvpQHRD5Y/GnJVCqz0lz8guYiVHXqWP8fM1yr9Kpc/3MhcwwIAlj9sxlzovBSYP2aqqxGBSJY/Hkk1HS4lmD+mACBA6fiVPyzTgxD9y5c//pS5PqcKlj/hLEnC4pSXP5U0vCbFKZY/T5Vo5bW2mD98q+diXvGVP/6P3yj0jZc/yBYPuhxKlj+ujDauePiXPziVcfsKYpY/4erxXI5AmD+9LxytrWeWP+6aHZ+7g5c/XN6Z9AbwlT+wtVYZugiXP4TRxugT+5U/ZdYKUqimlz/4yfKNajuWP0b1ayVTiZc/XhDUq2gqlj8jk/DyyamXP9Gaz/p8G5Y/47d282SMmD9q1ERdcjGWPxE/7HI3dZc/+8/XTO/llT807XXSO/yWP3z2qzuW5pU/rSsiRovvlz+Km9J5DA6WP8blrYt2SZY/h/GOXmATlj+awwEIF1yWP4x5O2c8gpY/AZthNrCxlj9kprxucmmWP2GZuUzgcpY/DXyehhtelj8n2vFQmbWWPx6694pHQJY/0gNHVspZlj9eIY8X6EmWP4T7yHjCz5Y/8vCfiEkulj+hAK+zg2+WP3RQSWehPpY/MEoHtKtZlj+5QOFjnUSWP3lgtsQDYJY//gtPU4Jklj+/iITGel6WP/ZRG0CCWpY/WOH6SPBWlj8DpRY1/laWP23u1hY+n5Y/TCnIZ+Imlj9P8EOnxJGWP9fcVepORZY/02kOkkEflj8UBAvYC+2VP3VpApWLXJY/NDzRbCRclj8fp0mqvYqWP1b4jsI945Y/CQbJtmJ2lj8RLnM3R/mWP/cPIrTBV5Y/wUooonDPlj9ovCyjWHmWPxcMUOXoUpc/fVXbC9S7nT/8851eR++XPw=="
         },
         "yaxis": "y",
         "type": "scatter"
        },
        {
         "alignmentgroup": "True",
         "hovertemplate": "prompt_length=short<br>total_time_per_output_token=%{y}<extra></extra>",
         "legendgroup": "short",
         "marker": {
          "color": "#EF553B",
          "symbol": "circle"
         },
         "name": "short",
         "offsetgroup": "short",
         "scalegroup": "y",
         "showlegend": false,
         "xaxis": "x2",
         "y": {
          "dtype": "f8",
          "bdata": "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"
         },
         "yaxis": "y2",
         "type": "violin"
        }
       ],
       "layout": {
        "template": {
         "data": {
          "histogram2dcontour": [
           {
            "type": "histogram2dcontour",
            "colorbar": {
             "outlinewidth": 0,
             "ticks": ""
            },
            "colorscale": [
             [
              0.0,
              "#0d0887"
             ],
             [
              0.1111111111111111,
              "#46039f"
             ],
             [
              0.2222222222222222,
              "#7201a8"
             ],
             [
              0.3333333333333333,
              "#9c179e"
             ],
             [
              0.4444444444444444,
              "#bd3786"
             ],
             [
              0.5555555555555556,
              "#d8576b"
             ],
             [
              0.6666666666666666,
              "#ed7953"
             ],
             [
              0.7777777777777778,
              "#fb9f3a"
             ],
             [
              0.8888888888888888,
              "#fdca26"
             ],
             [
              1.0,
              "#f0f921"
             ]
            ]
           }
          ],
          "choropleth": [
           {
            "type": "choropleth",
            "colorbar": {
             "outlinewidth": 0,
             "ticks": ""
            }
           }
          ],
          "histogram2d": [
           {
            "type": "histogram2d",
            "colorbar": {
             "outlinewidth": 0,
             "ticks": ""
            },
            "colorscale": [
             [
              0.0,
              "#0d0887"
             ],
             [
              0.1111111111111111,
              "#46039f"
             ],
             [
              0.2222222222222222,
              "#7201a8"
             ],
             [
              0.3333333333333333,
              "#9c179e"
             ],
             [
              0.4444444444444444,
              "#bd3786"
             ],
             [
              0.5555555555555556,
              "#d8576b"
             ],
             [
              0.6666666666666666,
              "#ed7953"
             ],
             [
              0.7777777777777778,
              "#fb9f3a"
             ],
             [
              0.8888888888888888,
              "#fdca26"
             ],
             [
              1.0,
              "#f0f921"
             ]
            ]
           }
          ],
          "heatmap": [
           {
            "type": "heatmap",
            "colorbar": {
             "outlinewidth": 0,
             "ticks": ""
            },
            "colorscale": [
             [
              0.0,
              "#0d0887"
             ],
             [
              0.1111111111111111,
              "#46039f"
             ],
             [
              0.2222222222222222,
              "#7201a8"
             ],
             [
              0.3333333333333333,
              "#9c179e"
             ],
             [
              0.4444444444444444,
              "#bd3786"
             ],
             [
              0.5555555555555556,
              "#d8576b"
             ],
             [
              0.6666666666666666,
              "#ed7953"
             ],
             [
              0.7777777777777778,
              "#fb9f3a"
             ],
             [
              0.8888888888888888,
              "#fdca26"
             ],
             [
              1.0,
              "#f0f921"
             ]
            ]
           }
          ],
          "contourcarpet": [
           {
            "type": "contourcarpet",
            "colorbar": {
             "outlinewidth": 0,
             "ticks": ""
            }
           }
          ],
          "contour": [
           {
            "type": "contour",
            "colorbar": {
             "outlinewidth": 0,
             "ticks": ""
            },
            "colorscale": [
             [
              0.0,
              "#0d0887"
             ],
             [
              0.1111111111111111,
              "#46039f"
             ],
             [
              0.2222222222222222,
              "#7201a8"
             ],
             [
              0.3333333333333333,
              "#9c179e"
             ],
             [
              0.4444444444444444,
              "#bd3786"
             ],
             [
              0.5555555555555556,
              "#d8576b"
             ],
             [
              0.6666666666666666,
              "#ed7953"
             ],
             [
              0.7777777777777778,
              "#fb9f3a"
             ],
             [
              0.8888888888888888,
              "#fdca26"
             ],
             [
              1.0,
              "#f0f921"
             ]
            ]
           }
          ],
          "surface": [
           {
            "type": "surface",
            "colorbar": {
             "outlinewidth": 0,
             "ticks": ""
            },
            "colorscale": [
             [
              0.0,
              "#0d0887"
             ],
             [
              0.1111111111111111,
              "#46039f"
             ],
             [
              0.2222222222222222,
              "#7201a8"
             ],
             [
              0.3333333333333333,
              "#9c179e"
             ],
             [
              0.4444444444444444,
              "#bd3786"
             ],
             [
              0.5555555555555556,
              "#d8576b"
             ],
             [
              0.6666666666666666,
              "#ed7953"
             ],
             [
              0.7777777777777778,
              "#fb9f3a"
             ],
             [
              0.8888888888888888,
              "#fdca26"
             ],
             [
              1.0,
              "#f0f921"
             ]
            ]
           }
          ],
          "mesh3d": [
           {
            "type": "mesh3d",
            "colorbar": {
             "outlinewidth": 0,
             "ticks": ""
            }
           }
          ],
          "scatter": [
           {
            "marker": {
             "line": {
              "color": "#283442"
             }
            },
            "type": "scatter"
           }
          ],
          "parcoords": [
           {
            "type": "parcoords",
            "line": {
             "colorbar": {
              "outlinewidth": 0,
              "ticks": ""
             }
            }
           }
          ],
          "scatterpolargl": [
           {
            "type": "scatterpolargl",
            "marker": {
             "colorbar": {
              "outlinewidth": 0,
              "ticks": ""
             }
            }
           }
          ],
          "bar": [
           {
            "error_x": {
             "color": "#f2f5fa"
            },
            "error_y": {
             "color": "#f2f5fa"
            },
            "marker": {
             "line": {
              "color": "rgb(17,17,17)",
              "width": 0.5
             },
             "pattern": {
              "fillmode": "overlay",
              "size": 10,
              "solidity": 0.2
             }
            },
            "type": "bar"
           }
          ],
          "scattergeo": [
           {
            "type": "scattergeo",
            "marker": {
             "colorbar": {
              "outlinewidth": 0,
              "ticks": ""
             }
            }
           }
          ],
          "scatterpolar": [
           {
            "type": "scatterpolar",
            "marker": {
             "colorbar": {
              "outlinewidth": 0,
              "ticks": ""
             }
            }
           }
          ],
          "histogram": [
           {
            "marker": {
             "pattern": {
              "fillmode": "overlay",
              "size": 10,
              "solidity": 0.2
             }
            },
            "type": "histogram"
           }
          ],
          "scattergl": [
           {
            "marker": {
             "line": {
              "color": "#283442"
             }
            },
            "type": "scattergl"
           }
          ],
          "scatter3d": [
           {
            "type": "scatter3d",
            "line": {
             "colorbar": {
              "outlinewidth": 0,
              "ticks": ""
             }
            },
            "marker": {
             "colorbar": {
              "outlinewidth": 0,
              "ticks": ""
             }
            }
           }
          ],
          "scattermap": [
           {
            "type": "scattermap",
            "marker": {
             "colorbar": {
              "outlinewidth": 0,
              "ticks": ""
             }
            }
           }
          ],
          "scattermapbox": [
           {
            "type": "scattermapbox",
            "marker": {
             "colorbar": {
              "outlinewidth": 0,
              "ticks": ""
             }
            }
           }
          ],
          "scatterternary": [
           {
            "type": "scatterternary",
            "marker": {
             "colorbar": {
              "outlinewidth": 0,
              "ticks": ""
             }
            }
           }
          ],
          "scattercarpet": [
           {
            "type": "scattercarpet",
            "marker": {
             "colorbar": {
              "outlinewidth": 0,
              "ticks": ""
             }
            }
           }
          ],
          "carpet": [
           {
            "aaxis": {
             "endlinecolor": "#A2B1C6",
             "gridcolor": "#506784",
             "linecolor": "#506784",
             "minorgridcolor": "#506784",
             "startlinecolor": "#A2B1C6"
            },
            "baxis": {
             "endlinecolor": "#A2B1C6",
             "gridcolor": "#506784",
             "linecolor": "#506784",
             "minorgridcolor": "#506784",
             "startlinecolor": "#A2B1C6"
            },
            "type": "carpet"
           }
          ],
          "table": [
           {
            "cells": {
             "fill": {
              "color": "#506784"
             },
             "line": {
              "color": "rgb(17,17,17)"
             }
            },
            "header": {
             "fill": {
              "color": "#2a3f5f"
             },
             "line": {
              "color": "rgb(17,17,17)"
             }
            },
            "type": "table"
           }
          ],
          "barpolar": [
           {
            "marker": {
             "line": {
              "color": "rgb(17,17,17)",
              "width": 0.5
             },
             "pattern": {
              "fillmode": "overlay",
              "size": 10,
              "solidity": 0.2
             }
            },
            "type": "barpolar"
           }
          ],
          "pie": [
           {
            "automargin": true,
            "type": "pie"
           }
          ]
         },
         "layout": {
          "autotypenumbers": "strict",
          "colorway": [
           "#636efa",
           "#EF553B",
           "#00cc96",
           "#ab63fa",
           "#FFA15A",
           "#19d3f3",
           "#FF6692",
           "#B6E880",
           "#FF97FF",
           "#FECB52"
          ],
          "font": {
           "color": "#f2f5fa"
          },
          "hovermode": "closest",
          "hoverlabel": {
           "align": "left"
          },
          "paper_bgcolor": "rgb(17,17,17)",
          "plot_bgcolor": "rgb(17,17,17)",
          "polar": {
           "bgcolor": "rgb(17,17,17)",
           "angularaxis": {
            "gridcolor": "#506784",
            "linecolor": "#506784",
            "ticks": ""
           },
           "radialaxis": {
            "gridcolor": "#506784",
            "linecolor": "#506784",
            "ticks": ""
           }
          },
          "ternary": {
           "bgcolor": "rgb(17,17,17)",
           "aaxis": {
            "gridcolor": "#506784",
            "linecolor": "#506784",
            "ticks": ""
           },
           "baxis": {
            "gridcolor": "#506784",
            "linecolor": "#506784",
            "ticks": ""
           },
           "caxis": {
            "gridcolor": "#506784",
            "linecolor": "#506784",
            "ticks": ""
           }
          },
          "coloraxis": {
           "colorbar": {
            "outlinewidth": 0,
            "ticks": ""
           }
          },
          "colorscale": {
           "sequential": [
            [
             0.0,
             "#0d0887"
            ],
            [
             0.1111111111111111,
             "#46039f"
            ],
            [
             0.2222222222222222,
             "#7201a8"
            ],
            [
             0.3333333333333333,
             "#9c179e"
            ],
            [
             0.4444444444444444,
             "#bd3786"
            ],
            [
             0.5555555555555556,
             "#d8576b"
            ],
            [
             0.6666666666666666,
             "#ed7953"
            ],
            [
             0.7777777777777778,
             "#fb9f3a"
            ],
            [
             0.8888888888888888,
             "#fdca26"
            ],
            [
             1.0,
             "#f0f921"
            ]
           ],
           "sequentialminus": [
            [
             0.0,
             "#0d0887"
            ],
            [
             0.1111111111111111,
             "#46039f"
            ],
            [
             0.2222222222222222,
             "#7201a8"
            ],
            [
             0.3333333333333333,
             "#9c179e"
            ],
            [
             0.4444444444444444,
             "#bd3786"
            ],
            [
             0.5555555555555556,
             "#d8576b"
            ],
            [
             0.6666666666666666,
             "#ed7953"
            ],
            [
             0.7777777777777778,
             "#fb9f3a"
            ],
            [
             0.8888888888888888,
             "#fdca26"
            ],
            [
             1.0,
             "#f0f921"
            ]
           ],
           "diverging": [
            [
             0,
             "#8e0152"
            ],
            [
             0.1,
             "#c51b7d"
            ],
            [
             0.2,
             "#de77ae"
            ],
            [
             0.3,
             "#f1b6da"
            ],
            [
             0.4,
             "#fde0ef"
            ],
            [
             0.5,
             "#f7f7f7"
            ],
            [
             0.6,
             "#e6f5d0"
            ],
            [
             0.7,
             "#b8e186"
            ],
            [
             0.8,
             "#7fbc41"
            ],
            [
             0.9,
             "#4d9221"
            ],
            [
             1,
             "#276419"
            ]
           ]
          },
          "xaxis": {
           "gridcolor": "#283442",
           "linecolor": "#506784",
           "ticks": "",
           "title": {
            "standoff": 15
           },
           "zerolinecolor": "#283442",
           "automargin": true,
           "zerolinewidth": 2
          },
          "yaxis": {
           "gridcolor": "#283442",
           "linecolor": "#506784",
           "ticks": "",
           "title": {
            "standoff": 15
           },
           "zerolinecolor": "#283442",
           "automargin": true,
           "zerolinewidth": 2
          },
          "scene": {
           "xaxis": {
            "backgroundcolor": "rgb(17,17,17)",
            "gridcolor": "#506784",
            "linecolor": "#506784",
            "showbackground": true,
            "ticks": "",
            "zerolinecolor": "#C8D4E3",
            "gridwidth": 2
           },
           "yaxis": {
            "backgroundcolor": "rgb(17,17,17)",
            "gridcolor": "#506784",
            "linecolor": "#506784",
            "showbackground": true,
            "ticks": "",
            "zerolinecolor": "#C8D4E3",
            "gridwidth": 2
           },
           "zaxis": {
            "backgroundcolor": "rgb(17,17,17)",
            "gridcolor": "#506784",
            "linecolor": "#506784",
            "showbackground": true,
            "ticks": "",
            "zerolinecolor": "#C8D4E3",
            "gridwidth": 2
           }
          },
          "shapedefaults": {
           "line": {
            "color": "#f2f5fa"
           }
          },
          "annotationdefaults": {
           "arrowcolor": "#f2f5fa",
           "arrowhead": 0,
           "arrowwidth": 1
          },
          "geo": {
           "bgcolor": "rgb(17,17,17)",
           "landcolor": "rgb(17,17,17)",
           "subunitcolor": "#506784",
           "showland": true,
           "showlakes": true,
           "lakecolor": "rgb(17,17,17)"
          },
          "title": {
           "x": 0.05
          },
          "updatemenudefaults": {
           "bgcolor": "#506784",
           "borderwidth": 0
          },
          "sliderdefaults": {
           "bgcolor": "#C8D4E3",
           "borderwidth": 1,
           "bordercolor": "rgb(17,17,17)",
           "tickwidth": 0
          },
          "mapbox": {
           "style": "dark"
          }
         }
        },
        "xaxis": {
         "anchor": "y",
         "domain": [
          0.0,
          0.7363
         ],
         "title": {
          "text": "x"
         }
        },
        "yaxis": {
         "anchor": "x",
         "domain": [
          0.0,
          1.0
         ],
         "title": {
          "text": "total_time_per_output_token"
         }
        },
        "xaxis2": {
         "anchor": "y2",
         "domain": [
          0.7413,
          1.0
         ],
         "matches": "x2",
         "showticklabels": false,
         "showline": false,
         "ticks": "",
         "showgrid": false
        },
        "yaxis2": {
         "anchor": "x2",
         "domain": [
          0.0,
          1.0
         ],
         "matches": "y",
         "showticklabels": false,
         "showgrid": true
        },
        "legend": {
         "title": {
          "text": "prompt_length"
         },
         "tracegroupgap": 0
        },
        "margin": {
         "t": 60
        }
       },
       "config": {
        "plotlyServerURL": "https://plot.ly"
       }
      }
     },
     "metadata": {},
     "output_type": "display_data",
     "jetTransient": {
      "display_id": null
     }
    },
    {
     "data": {
      "application/vnd.plotly.v1+json": {
       "data": [
        {
         "hovertemplate": "prompt_length=long<br>x=%{x}<br>output_tokens_per_prompt=%{y}<extra></extra>",
         "legendgroup": "long",
         "marker": {
          "color": "#636efa",
          "symbol": "circle"
         },
         "mode": "markers",
         "name": "long",
         "orientation": "v",
         "showlegend": true,
         "x": {
          "dtype": "i2",
          "bdata": "AAABAAIAAwAEAAUABgAHAAgACQAKAAsADAANAA4ADwAQABEAEgATABQAFQAWABcAGAAZABoAGwAcAB0AHgAfACAAIQAiACMAJAAlACYAJwAoACkAKgArACwALQAuAC8AMAAxADIAMwA0ADUANgA3ADgAOQA6ADsAPAA9AD4APwBAAEEAQgBDAEQARQBGAEcASABJAEoASwBMAE0ATgBPAFAAUQBSAFMAVABVAFYAVwBYAFkAWgBbAFwAXQBeAF8AYABhAGIAYwBkAGUAZgBnAGgAaQDUANUA1gDXANgA2QDaANsA3ADdAN4A3wDgAOEA4gDjAOQA5QDmAOcA6ADpAOoA6wDsAO0A7gDvAPAA8QDyAPMA9AD1APYA9wD4APkA+gD7APwA/QD+AP8AAAEBAQIBAwEEAQUBBgEHAQgBCQEKAQsBDAENAQ4BDwEQAREBEgETARQBFQEWARcBGAEZARoBGwEcAR0BHgEfASABIQEiASMBJAElASYBJwEoASkBKgErASwBLQEuAS8BMAExATIBMwE0ATUBNgE3ATgBOQE6ATsBPAE9AQ=="
         },
         "xaxis": "x",
         "y": {
          "dtype": "f8",
          "bdata": "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"
         },
         "yaxis": "y",
         "type": "scatter"
        },
        {
         "alignmentgroup": "True",
         "hovertemplate": "prompt_length=long<br>output_tokens_per_prompt=%{y}<extra></extra>",
         "legendgroup": "long",
         "marker": {
          "color": "#636efa",
          "symbol": "circle"
         },
         "name": "long",
         "offsetgroup": "long",
         "scalegroup": "y",
         "showlegend": false,
         "xaxis": "x2",
         "y": {
          "dtype": "f8",
          "bdata": "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"
         },
         "yaxis": "y2",
         "type": "violin"
        },
        {
         "hovertemplate": "prompt_length=short<br>x=%{x}<br>output_tokens_per_prompt=%{y}<extra></extra>",
         "legendgroup": "short",
         "marker": {
          "color": "#EF553B",
          "symbol": "circle"
         },
         "mode": "markers",
         "name": "short",
         "orientation": "v",
         "showlegend": true,
         "x": {
          "dtype": "i2",
          "bdata": "agBrAGwAbQBuAG8AcABxAHIAcwB0AHUAdgB3AHgAeQB6AHsAfAB9AH4AfwCAAIEAggCDAIQAhQCGAIcAiACJAIoAiwCMAI0AjgCPAJAAkQCSAJMAlACVAJYAlwCYAJkAmgCbAJwAnQCeAJ8AoAChAKIAowCkAKUApgCnAKgAqQCqAKsArACtAK4ArwCwALEAsgCzALQAtQC2ALcAuAC5ALoAuwC8AL0AvgC/AMAAwQDCAMMAxADFAMYAxwDIAMkAygDLAMwAzQDOAM8A0ADRANIA0wA+AT8BQAFBAUIBQwFEAUUBRgFHAUgBSQFKAUsBTAFNAU4BTwFQAVEBUgFTAVQBVQFWAVcBWAFZAVoBWwFcAV0BXgFfAWABYQFiAWMBZAFlAWYBZwFoAWkBagFrAWwBbQFuAW8BcAFxAXIBcwF0AXUBdgF3AXgBeQF6AXsBfAF9AX4BfwGAAYEBggGDAYQBhQGGAYcBiAGJAYoBiwGMAY0BjgGPAZABkQGSAZMBlAGVAZYBlwGYAZkBmgGbAZwBnQGeAZ8BoAGhAaIBowGkAaUBpgGnAQ=="
         },
         "xaxis": "x",
         "y": {
          "dtype": "f8",
          "bdata": "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"
         },
         "yaxis": "y",
         "type": "scatter"
        },
        {
         "alignmentgroup": "True",
         "hovertemplate": "prompt_length=short<br>output_tokens_per_prompt=%{y}<extra></extra>",
         "legendgroup": "short",
         "marker": {
          "color": "#EF553B",
          "symbol": "circle"
         },
         "name": "short",
         "offsetgroup": "short",
         "scalegroup": "y",
         "showlegend": false,
         "xaxis": "x2",
         "y": {
          "dtype": "f8",
          "bdata": "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"
         },
         "yaxis": "y2",
         "type": "violin"
        }
       ],
       "layout": {
        "template": {
         "data": {
          "histogram2dcontour": [
           {
            "type": "histogram2dcontour",
            "colorbar": {
             "outlinewidth": 0,
             "ticks": ""
            },
            "colorscale": [
             [
              0.0,
              "#0d0887"
             ],
             [
              0.1111111111111111,
              "#46039f"
             ],
             [
              0.2222222222222222,
              "#7201a8"
             ],
             [
              0.3333333333333333,
              "#9c179e"
             ],
             [
              0.4444444444444444,
              "#bd3786"
             ],
             [
              0.5555555555555556,
              "#d8576b"
             ],
             [
              0.6666666666666666,
              "#ed7953"
             ],
             [
              0.7777777777777778,
              "#fb9f3a"
             ],
             [
              0.8888888888888888,
              "#fdca26"
             ],
             [
              1.0,
              "#f0f921"
             ]
            ]
           }
          ],
          "choropleth": [
           {
            "type": "choropleth",
            "colorbar": {
             "outlinewidth": 0,
             "ticks": ""
            }
           }
          ],
          "histogram2d": [
           {
            "type": "histogram2d",
            "colorbar": {
             "outlinewidth": 0,
             "ticks": ""
            },
            "colorscale": [
             [
              0.0,
              "#0d0887"
             ],
             [
              0.1111111111111111,
              "#46039f"
             ],
             [
              0.2222222222222222,
              "#7201a8"
             ],
             [
              0.3333333333333333,
              "#9c179e"
             ],
             [
              0.4444444444444444,
              "#bd3786"
             ],
             [
              0.5555555555555556,
              "#d8576b"
             ],
             [
              0.6666666666666666,
              "#ed7953"
             ],
             [
              0.7777777777777778,
              "#fb9f3a"
             ],
             [
              0.8888888888888888,
              "#fdca26"
             ],
             [
              1.0,
              "#f0f921"
             ]
            ]
           }
          ],
          "heatmap": [
           {
            "type": "heatmap",
            "colorbar": {
             "outlinewidth": 0,
             "ticks": ""
            },
            "colorscale": [
             [
              0.0,
              "#0d0887"
             ],
             [
              0.1111111111111111,
              "#46039f"
             ],
             [
              0.2222222222222222,
              "#7201a8"
             ],
             [
              0.3333333333333333,
              "#9c179e"
             ],
             [
              0.4444444444444444,
              "#bd3786"
             ],
             [
              0.5555555555555556,
              "#d8576b"
             ],
             [
              0.6666666666666666,
              "#ed7953"
             ],
             [
              0.7777777777777778,
              "#fb9f3a"
             ],
             [
              0.8888888888888888,
              "#fdca26"
             ],
             [
              1.0,
              "#f0f921"
             ]
            ]
           }
          ],
          "contourcarpet": [
           {
            "type": "contourcarpet",
            "colorbar": {
             "outlinewidth": 0,
             "ticks": ""
            }
           }
          ],
          "contour": [
           {
            "type": "contour",
            "colorbar": {
             "outlinewidth": 0,
             "ticks": ""
            },
            "colorscale": [
             [
              0.0,
              "#0d0887"
             ],
             [
              0.1111111111111111,
              "#46039f"
             ],
             [
              0.2222222222222222,
              "#7201a8"
             ],
             [
              0.3333333333333333,
              "#9c179e"
             ],
             [
              0.4444444444444444,
              "#bd3786"
             ],
             [
              0.5555555555555556,
              "#d8576b"
             ],
             [
              0.6666666666666666,
              "#ed7953"
             ],
             [
              0.7777777777777778,
              "#fb9f3a"
             ],
             [
              0.8888888888888888,
              "#fdca26"
             ],
             [
              1.0,
              "#f0f921"
             ]
            ]
           }
          ],
          "surface": [
           {
            "type": "surface",
            "colorbar": {
             "outlinewidth": 0,
             "ticks": ""
            },
            "colorscale": [
             [
              0.0,
              "#0d0887"
             ],
             [
              0.1111111111111111,
              "#46039f"
             ],
             [
              0.2222222222222222,
              "#7201a8"
             ],
             [
              0.3333333333333333,
              "#9c179e"
             ],
             [
              0.4444444444444444,
              "#bd3786"
             ],
             [
              0.5555555555555556,
              "#d8576b"
             ],
             [
              0.6666666666666666,
              "#ed7953"
             ],
             [
              0.7777777777777778,
              "#fb9f3a"
             ],
             [
              0.8888888888888888,
              "#fdca26"
             ],
             [
              1.0,
              "#f0f921"
             ]
            ]
           }
          ],
          "mesh3d": [
           {
            "type": "mesh3d",
            "colorbar": {
             "outlinewidth": 0,
             "ticks": ""
            }
           }
          ],
          "scatter": [
           {
            "marker": {
             "line": {
              "color": "#283442"
             }
            },
            "type": "scatter"
           }
          ],
          "parcoords": [
           {
            "type": "parcoords",
            "line": {
             "colorbar": {
              "outlinewidth": 0,
              "ticks": ""
             }
            }
           }
          ],
          "scatterpolargl": [
           {
            "type": "scatterpolargl",
            "marker": {
             "colorbar": {
              "outlinewidth": 0,
              "ticks": ""
             }
            }
           }
          ],
          "bar": [
           {
            "error_x": {
             "color": "#f2f5fa"
            },
            "error_y": {
             "color": "#f2f5fa"
            },
            "marker": {
             "line": {
              "color": "rgb(17,17,17)",
              "width": 0.5
             },
             "pattern": {
              "fillmode": "overlay",
              "size": 10,
              "solidity": 0.2
             }
            },
            "type": "bar"
           }
          ],
          "scattergeo": [
           {
            "type": "scattergeo",
            "marker": {
             "colorbar": {
              "outlinewidth": 0,
              "ticks": ""
             }
            }
           }
          ],
          "scatterpolar": [
           {
            "type": "scatterpolar",
            "marker": {
             "colorbar": {
              "outlinewidth": 0,
              "ticks": ""
             }
            }
           }
          ],
          "histogram": [
           {
            "marker": {
             "pattern": {
              "fillmode": "overlay",
              "size": 10,
              "solidity": 0.2
             }
            },
            "type": "histogram"
           }
          ],
          "scattergl": [
           {
            "marker": {
             "line": {
              "color": "#283442"
             }
            },
            "type": "scattergl"
           }
          ],
          "scatter3d": [
           {
            "type": "scatter3d",
            "line": {
             "colorbar": {
              "outlinewidth": 0,
              "ticks": ""
             }
            },
            "marker": {
             "colorbar": {
              "outlinewidth": 0,
              "ticks": ""
             }
            }
           }
          ],
          "scattermap": [
           {
            "type": "scattermap",
            "marker": {
             "colorbar": {
              "outlinewidth": 0,
              "ticks": ""
             }
            }
           }
          ],
          "scattermapbox": [
           {
            "type": "scattermapbox",
            "marker": {
             "colorbar": {
              "outlinewidth": 0,
              "ticks": ""
             }
            }
           }
          ],
          "scatterternary": [
           {
            "type": "scatterternary",
            "marker": {
             "colorbar": {
              "outlinewidth": 0,
              "ticks": ""
             }
            }
           }
          ],
          "scattercarpet": [
           {
            "type": "scattercarpet",
            "marker": {
             "colorbar": {
              "outlinewidth": 0,
              "ticks": ""
             }
            }
           }
          ],
          "carpet": [
           {
            "aaxis": {
             "endlinecolor": "#A2B1C6",
             "gridcolor": "#506784",
             "linecolor": "#506784",
             "minorgridcolor": "#506784",
             "startlinecolor": "#A2B1C6"
            },
            "baxis": {
             "endlinecolor": "#A2B1C6",
             "gridcolor": "#506784",
             "linecolor": "#506784",
             "minorgridcolor": "#506784",
             "startlinecolor": "#A2B1C6"
            },
            "type": "carpet"
           }
          ],
          "table": [
           {
            "cells": {
             "fill": {
              "color": "#506784"
             },
             "line": {
              "color": "rgb(17,17,17)"
             }
            },
            "header": {
             "fill": {
              "color": "#2a3f5f"
             },
             "line": {
              "color": "rgb(17,17,17)"
             }
            },
            "type": "table"
           }
          ],
          "barpolar": [
           {
            "marker": {
             "line": {
              "color": "rgb(17,17,17)",
              "width": 0.5
             },
             "pattern": {
              "fillmode": "overlay",
              "size": 10,
              "solidity": 0.2
             }
            },
            "type": "barpolar"
           }
          ],
          "pie": [
           {
            "automargin": true,
            "type": "pie"
           }
          ]
         },
         "layout": {
          "autotypenumbers": "strict",
          "colorway": [
           "#636efa",
           "#EF553B",
           "#00cc96",
           "#ab63fa",
           "#FFA15A",
           "#19d3f3",
           "#FF6692",
           "#B6E880",
           "#FF97FF",
           "#FECB52"
          ],
          "font": {
           "color": "#f2f5fa"
          },
          "hovermode": "closest",
          "hoverlabel": {
           "align": "left"
          },
          "paper_bgcolor": "rgb(17,17,17)",
          "plot_bgcolor": "rgb(17,17,17)",
          "polar": {
           "bgcolor": "rgb(17,17,17)",
           "angularaxis": {
            "gridcolor": "#506784",
            "linecolor": "#506784",
            "ticks": ""
           },
           "radialaxis": {
            "gridcolor": "#506784",
            "linecolor": "#506784",
            "ticks": ""
           }
          },
          "ternary": {
           "bgcolor": "rgb(17,17,17)",
           "aaxis": {
            "gridcolor": "#506784",
            "linecolor": "#506784",
            "ticks": ""
           },
           "baxis": {
            "gridcolor": "#506784",
            "linecolor": "#506784",
            "ticks": ""
           },
           "caxis": {
            "gridcolor": "#506784",
            "linecolor": "#506784",
            "ticks": ""
           }
          },
          "coloraxis": {
           "colorbar": {
            "outlinewidth": 0,
            "ticks": ""
           }
          },
          "colorscale": {
           "sequential": [
            [
             0.0,
             "#0d0887"
            ],
            [
             0.1111111111111111,
             "#46039f"
            ],
            [
             0.2222222222222222,
             "#7201a8"
            ],
            [
             0.3333333333333333,
             "#9c179e"
            ],
            [
             0.4444444444444444,
             "#bd3786"
            ],
            [
             0.5555555555555556,
             "#d8576b"
            ],
            [
             0.6666666666666666,
             "#ed7953"
            ],
            [
             0.7777777777777778,
             "#fb9f3a"
            ],
            [
             0.8888888888888888,
             "#fdca26"
            ],
            [
             1.0,
             "#f0f921"
            ]
           ],
           "sequentialminus": [
            [
             0.0,
             "#0d0887"
            ],
            [
             0.1111111111111111,
             "#46039f"
            ],
            [
             0.2222222222222222,
             "#7201a8"
            ],
            [
             0.3333333333333333,
             "#9c179e"
            ],
            [
             0.4444444444444444,
             "#bd3786"
            ],
            [
             0.5555555555555556,
             "#d8576b"
            ],
            [
             0.6666666666666666,
             "#ed7953"
            ],
            [
             0.7777777777777778,
             "#fb9f3a"
            ],
            [
             0.8888888888888888,
             "#fdca26"
            ],
            [
             1.0,
             "#f0f921"
            ]
           ],
           "diverging": [
            [
             0,
             "#8e0152"
            ],
            [
             0.1,
             "#c51b7d"
            ],
            [
             0.2,
             "#de77ae"
            ],
            [
             0.3,
             "#f1b6da"
            ],
            [
             0.4,
             "#fde0ef"
            ],
            [
             0.5,
             "#f7f7f7"
            ],
            [
             0.6,
             "#e6f5d0"
            ],
            [
             0.7,
             "#b8e186"
            ],
            [
             0.8,
             "#7fbc41"
            ],
            [
             0.9,
             "#4d9221"
            ],
            [
             1,
             "#276419"
            ]
           ]
          },
          "xaxis": {
           "gridcolor": "#283442",
           "linecolor": "#506784",
           "ticks": "",
           "title": {
            "standoff": 15
           },
           "zerolinecolor": "#283442",
           "automargin": true,
           "zerolinewidth": 2
          },
          "yaxis": {
           "gridcolor": "#283442",
           "linecolor": "#506784",
           "ticks": "",
           "title": {
            "standoff": 15
           },
           "zerolinecolor": "#283442",
           "automargin": true,
           "zerolinewidth": 2
          },
          "scene": {
           "xaxis": {
            "backgroundcolor": "rgb(17,17,17)",
            "gridcolor": "#506784",
            "linecolor": "#506784",
            "showbackground": true,
            "ticks": "",
            "zerolinecolor": "#C8D4E3",
            "gridwidth": 2
           },
           "yaxis": {
            "backgroundcolor": "rgb(17,17,17)",
            "gridcolor": "#506784",
            "linecolor": "#506784",
            "showbackground": true,
            "ticks": "",
            "zerolinecolor": "#C8D4E3",
            "gridwidth": 2
           },
           "zaxis": {
            "backgroundcolor": "rgb(17,17,17)",
            "gridcolor": "#506784",
            "linecolor": "#506784",
            "showbackground": true,
            "ticks": "",
            "zerolinecolor": "#C8D4E3",
            "gridwidth": 2
           }
          },
          "shapedefaults": {
           "line": {
            "color": "#f2f5fa"
           }
          },
          "annotationdefaults": {
           "arrowcolor": "#f2f5fa",
           "arrowhead": 0,
           "arrowwidth": 1
          },
          "geo": {
           "bgcolor": "rgb(17,17,17)",
           "landcolor": "rgb(17,17,17)",
           "subunitcolor": "#506784",
           "showland": true,
           "showlakes": true,
           "lakecolor": "rgb(17,17,17)"
          },
          "title": {
           "x": 0.05
          },
          "updatemenudefaults": {
           "bgcolor": "#506784",
           "borderwidth": 0
          },
          "sliderdefaults": {
           "bgcolor": "#C8D4E3",
           "borderwidth": 1,
           "bordercolor": "rgb(17,17,17)",
           "tickwidth": 0
          },
          "mapbox": {
           "style": "dark"
          }
         }
        },
        "xaxis": {
         "anchor": "y",
         "domain": [
          0.0,
          0.7363
         ],
         "title": {
          "text": "x"
         }
        },
        "yaxis": {
         "anchor": "x",
         "domain": [
          0.0,
          1.0
         ],
         "title": {
          "text": "output_tokens_per_prompt"
         }
        },
        "xaxis2": {
         "anchor": "y2",
         "domain": [
          0.7413,
          1.0
         ],
         "matches": "x2",
         "showticklabels": false,
         "showline": false,
         "ticks": "",
         "showgrid": false
        },
        "yaxis2": {
         "anchor": "x2",
         "domain": [
          0.0,
          1.0
         ],
         "matches": "y",
         "showticklabels": false,
         "showgrid": true
        },
        "legend": {
         "title": {
          "text": "prompt_length"
         },
         "tracegroupgap": 0
        },
        "margin": {
         "t": 60
        }
       },
       "config": {
        "plotlyServerURL": "https://plot.ly"
       }
      }
     },
     "metadata": {},
     "output_type": "display_data",
     "jetTransient": {
      "display_id": null
     }
    },
    {
     "data": {
      "application/vnd.plotly.v1+json": {
       "data": [
        {
         "hovertemplate": "output_length=short<br>x=%{x}<br>output_tokens_per_prompt=%{y}<extra></extra>",
         "legendgroup": "short",
         "marker": {
          "color": "#636efa",
          "symbol": "circle"
         },
         "mode": "markers",
         "name": "short",
         "orientation": "v",
         "showlegend": true,
         "x": {
          "dtype": "i2",
          "bdata": "AAACAAQABgAIAAoADAAOABAAEgAUABYAGAAaABwAHgAgACIAJAAmACgAKgAsAC4AMAAyADQANgA4ADoAPAA+AEAAQgBEAEYASABKAEwATgBQAFIAVABWAFgAWgBcAF4AYABiAGQAZgBoAGoAbABuAHAAcgB0AHYAeAB6AHwAfgCAAIIAhACGAIgAigCMAI4AkACSAJQAlgCYAJoAnACeAKAAogCkAKYAqACqAKwArgCwALIAtAC2ALgAugC8AL4AwADCAMQAxgDIAMoAzADOANAA0gDUANYA2ADaANwA3gDgAOIA5ADmAOgA6gDsAO4A8ADyAPQA9gD4APoA/AD+AAABAgEEAQYBCAEKAQwBDgEQARIBFAEWARgBGgEcAR4BIAEiASQBJgEoASoBLAEuATABMgE0ATYBOAE6ATwBPgFAAUIBRAFGAUgBSgFMAU4BUAFSAVQBVgFYAVoBXAFeAWABYgFkAWYBaAFqAWwBbgFwAXIBdAF2AXgBegF8AX4BgAGCAYQBhgGIAYoBjAGOAZABkgGUAZYBmAGaAZwBngGgAaIBpAGmAQ=="
         },
         "xaxis": "x",
         "y": {
          "dtype": "f8",
          "bdata": "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"
         },
         "yaxis": "y",
         "type": "scatter"
        },
        {
         "alignmentgroup": "True",
         "hovertemplate": "output_length=short<br>output_tokens_per_prompt=%{y}<extra></extra>",
         "legendgroup": "short",
         "marker": {
          "color": "#636efa",
          "symbol": "circle"
         },
         "name": "short",
         "notched": true,
         "offsetgroup": "short",
         "showlegend": false,
         "xaxis": "x2",
         "y": {
          "dtype": "f8",
          "bdata": "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"
         },
         "yaxis": "y2",
         "type": "box"
        },
        {
         "hovertemplate": "output_length=long<br>x=%{x}<br>output_tokens_per_prompt=%{y}<extra></extra>",
         "legendgroup": "long",
         "marker": {
          "color": "#EF553B",
          "symbol": "circle"
         },
         "mode": "markers",
         "name": "long",
         "orientation": "v",
         "showlegend": true,
         "x": {
          "dtype": "i2",
          "bdata": "AQADAAUABwAJAAsADQAPABEAEwAVABcAGQAbAB0AHwAhACMAJQAnACkAKwAtAC8AMQAzADUANwA5ADsAPQA/AEEAQwBFAEcASQBLAE0ATwBRAFMAVQBXAFkAWwBdAF8AYQBjAGUAZwBpAGsAbQBvAHEAcwB1AHcAeQB7AH0AfwCBAIMAhQCHAIkAiwCNAI8AkQCTAJUAlwCZAJsAnQCfAKEAowClAKcAqQCrAK0ArwCxALMAtQC3ALkAuwC9AL8AwQDDAMUAxwDJAMsAzQDPANEA0wDVANcA2QDbAN0A3wDhAOMA5QDnAOkA6wDtAO8A8QDzAPUA9wD5APsA/QD/AAEBAwEFAQcBCQELAQ0BDwERARMBFQEXARkBGwEdAR8BIQEjASUBJwEpASsBLQEvATEBMwE1ATcBOQE7AT0BPwFBAUMBRQFHAUkBSwFNAU8BUQFTAVUBVwFZAVsBXQFfAWEBYwFlAWcBaQFrAW0BbwFxAXMBdQF3AXkBewF9AX8BgQGDAYUBhwGJAYsBjQGPAZEBkwGVAZcBmQGbAZ0BnwGhAaMBpQGnAQ=="
         },
         "xaxis": "x",
         "y": {
          "dtype": "f8",
          "bdata": "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"
         },
         "yaxis": "y",
         "type": "scatter"
        },
        {
         "alignmentgroup": "True",
         "hovertemplate": "output_length=long<br>output_tokens_per_prompt=%{y}<extra></extra>",
         "legendgroup": "long",
         "marker": {
          "color": "#EF553B",
          "symbol": "circle"
         },
         "name": "long",
         "notched": true,
         "offsetgroup": "long",
         "showlegend": false,
         "xaxis": "x2",
         "y": {
          "dtype": "f8",
          "bdata": "AAAAAADgcUAAAAAAANB8QAAAAAAAiIZAAAAAAABAa0AAAAAAACB2QAAAAAAAAG5AAAAAAADQd0AAAAAAAOBhQAAAAAAAEHBAAAAAAABQdEAAAAAAAIBwQAAAAAAAwHdAAAAAAABgc0AAAAAAAIBYQAAAAAAAYHZAAAAAAABweUAAAAAAAFB8QAAAAAAAqIBAAAAAAAAIhUAAAAAAAJByQAAAAAAAQGFAAAAAAAAAKEAAAAAAAGByQAAAAAAAkHVAAAAAAAAAd0AAAAAAACiBQAAAAAAAkHdAAAAAAABAd0AAAAAAAEBzQAAAAAAAMIBAAAAAAABgg0AAAAAAAGB2QAAAAAAA6FBAAAAAAABYU0AAAAAAAHBLQAAAAAAAMFhAAAAAAACoUkAAAAAAADhUQAAAAAAAuFBAAAAAAABQVkAAAAAAAEBOQAAAAAAAWFhAAAAAAADAT0AAAAAAAChbQAAAAAAA8FFAAAAAAACQRkAAAAAAAJBPQAAAAAAAEFxAAAAAAABwRUAAAAAAAGRNQAAAAAAAuDtAAAAAAAA0Q0AAAAAAAIDvPwAAAAAAACRAAAAAAACwhEAAAAAAABB3QAAAAAAA0H9AAAAAAABgc0AAAAAAAAAiQAAAAAAAmINAAAAAAABAZkAAAAAAAMBqQAAAAAAAwIJAAAAAAACgY0AAAAAAAAAcQAAAAAAAEH9AAAAAAADAcEAAAAAAAKBoQAAAAAAAUHhAAAAAAACwcUAAAAAAAMBZQAAAAAAA0HdAAAAAAACwcEAAAAAAAKB/QAAAAAAAoHdAAAAAAAAQf0AAAAAAAGBhQAAAAAAAgGpAAAAAAADAd0AAAAAAALByQAAAAAAAkHFAAAAAAACggEAAAAAAAPiAQAAAAAAAMH5AAAAAAACAdkAAAAAAAMBTQAAAAAAAmFFAAAAAAAAgTUAAAAAAAGhRQAAAAAAAUE5AAAAAAADQWEAAAAAAAKBYQAAAAAAAyFhAAAAAAAAwT0AAAAAAADRgQAAAAAAAKGFAAAAAAADIWUAAAAAAAMA+QAAAAAAAUFFAAAAAAADYVkAAAAAAAEA2QAAAAAAALEJAAAAAAAAAOUAAAAAAAHxIQAAAAAAAuDFAAAAAAABACEAAAAAAABCEQAAAAAAAwIBAAAAAAADghEAAAAAAANiDQAAAAAAAAH1AAAAAAAD4gUAAAAAAAHiIQAAAAAAAUIVAAAAAAADAhEAAAAAAACCCQAAAAAAAyIZAAAAAAACwfkAAAAAAAGB6QAAAAAAAwIVAAAAAAAC4gUAAAAAAAHCCQAAAAAAAgH1AAAAAAACogkAAAAAAAOCBQAAAAAAAMINAAAAAAABogkAAAAAAAACGQAAAAAAASINAAAAAAABwgkAAAAAAADB7QAAAAAAAcIBAAAAAAADohkAAAAAAAGCAQAAAAAAAEIBAAAAAAADggkAAAAAAABiBQAAAAAAAyIBAAAAAAABwa0AAAAAAADBlQAAAAAAAsFhAAAAAAAC8aEAAAAAAAExrQAAAAAAAdGNAAAAAAADgYkAAAAAAAJhtQAAAAAAA3HBAAAAAAABEZ0AAAAAAAAxjQAAAAAAA3GVAAAAAAABsaUAAAAAAAIBiQAAAAAAAOGVAAAAAAAAMZ0AAAAAAAJZgQAAAAAAAmF5AAAAAAAA+V0AAAAAAAMFiQAAAAAAAYARAAAAAAADogEAAAAAAAJB9QAAAAAAAIIRAAAAAAAAwf0AAAAAAACiFQAAAAAAAsHxAAAAAAADIgUAAAAAAAGB6QAAAAAAAkHtAAAAAAADAfUAAAAAAAMB+QAAAAAAA0H1AAAAAAABQgkAAAAAAAECCQAAAAAAA+IFAAAAAAAAAe0AAAAAAAAB0QAAAAAAAmIJAAAAAAAAYgkAAAAAAALiFQAAAAAAAaINAAAAAAACgfkAAAAAAAPiAQAAAAAAA4HpAAAAAAAA4gUAAAAAAAICAQAAAAAAAWIBAAAAAAADwc0AAAAAAAOB7QAAAAAAAqIRAAAAAAADQdUAAAAAAAAiDQAAAAAAAWGVAAAAAAABIaUAAAAAAAJRmQAAAAAAA8GdAAAAAAAAAZUAAAAAAAHBlQAAAAAAAkGVAAAAAAADsYkAAAAAAACxgQAAAAAAABGpAAAAAAADAaEAAAAAAANhqQAAAAAAAtGVAAAAAAADka0AAAAAAAChdQAAAAAAAoGRAAAAAAABwVEAAAAAAAJpXQAAAAAAAdFVAAAAAAAAkYEAAAAAAAGAnQA=="
         },
         "yaxis": "y2",
         "type": "box"
        }
       ],
       "layout": {
        "template": {
         "data": {
          "histogram2dcontour": [
           {
            "type": "histogram2dcontour",
            "colorbar": {
             "outlinewidth": 0,
             "ticks": ""
            },
            "colorscale": [
             [
              0.0,
              "#0d0887"
             ],
             [
              0.1111111111111111,
              "#46039f"
             ],
             [
              0.2222222222222222,
              "#7201a8"
             ],
             [
              0.3333333333333333,
              "#9c179e"
             ],
             [
              0.4444444444444444,
              "#bd3786"
             ],
             [
              0.5555555555555556,
              "#d8576b"
             ],
             [
              0.6666666666666666,
              "#ed7953"
             ],
             [
              0.7777777777777778,
              "#fb9f3a"
             ],
             [
              0.8888888888888888,
              "#fdca26"
             ],
             [
              1.0,
              "#f0f921"
             ]
            ]
           }
          ],
          "choropleth": [
           {
            "type": "choropleth",
            "colorbar": {
             "outlinewidth": 0,
             "ticks": ""
            }
           }
          ],
          "histogram2d": [
           {
            "type": "histogram2d",
            "colorbar": {
             "outlinewidth": 0,
             "ticks": ""
            },
            "colorscale": [
             [
              0.0,
              "#0d0887"
             ],
             [
              0.1111111111111111,
              "#46039f"
             ],
             [
              0.2222222222222222,
              "#7201a8"
             ],
             [
              0.3333333333333333,
              "#9c179e"
             ],
             [
              0.4444444444444444,
              "#bd3786"
             ],
             [
              0.5555555555555556,
              "#d8576b"
             ],
             [
              0.6666666666666666,
              "#ed7953"
             ],
             [
              0.7777777777777778,
              "#fb9f3a"
             ],
             [
              0.8888888888888888,
              "#fdca26"
             ],
             [
              1.0,
              "#f0f921"
             ]
            ]
           }
          ],
          "heatmap": [
           {
            "type": "heatmap",
            "colorbar": {
             "outlinewidth": 0,
             "ticks": ""
            },
            "colorscale": [
             [
              0.0,
              "#0d0887"
             ],
             [
              0.1111111111111111,
              "#46039f"
             ],
             [
              0.2222222222222222,
              "#7201a8"
             ],
             [
              0.3333333333333333,
              "#9c179e"
             ],
             [
              0.4444444444444444,
              "#bd3786"
             ],
             [
              0.5555555555555556,
              "#d8576b"
             ],
             [
              0.6666666666666666,
              "#ed7953"
             ],
             [
              0.7777777777777778,
              "#fb9f3a"
             ],
             [
              0.8888888888888888,
              "#fdca26"
             ],
             [
              1.0,
              "#f0f921"
             ]
            ]
           }
          ],
          "contourcarpet": [
           {
            "type": "contourcarpet",
            "colorbar": {
             "outlinewidth": 0,
             "ticks": ""
            }
           }
          ],
          "contour": [
           {
            "type": "contour",
            "colorbar": {
             "outlinewidth": 0,
             "ticks": ""
            },
            "colorscale": [
             [
              0.0,
              "#0d0887"
             ],
             [
              0.1111111111111111,
              "#46039f"
             ],
             [
              0.2222222222222222,
              "#7201a8"
             ],
             [
              0.3333333333333333,
              "#9c179e"
             ],
             [
              0.4444444444444444,
              "#bd3786"
             ],
             [
              0.5555555555555556,
              "#d8576b"
             ],
             [
              0.6666666666666666,
              "#ed7953"
             ],
             [
              0.7777777777777778,
              "#fb9f3a"
             ],
             [
              0.8888888888888888,
              "#fdca26"
             ],
             [
              1.0,
              "#f0f921"
             ]
            ]
           }
          ],
          "surface": [
           {
            "type": "surface",
            "colorbar": {
             "outlinewidth": 0,
             "ticks": ""
            },
            "colorscale": [
             [
              0.0,
              "#0d0887"
             ],
             [
              0.1111111111111111,
              "#46039f"
             ],
             [
              0.2222222222222222,
              "#7201a8"
             ],
             [
              0.3333333333333333,
              "#9c179e"
             ],
             [
              0.4444444444444444,
              "#bd3786"
             ],
             [
              0.5555555555555556,
              "#d8576b"
             ],
             [
              0.6666666666666666,
              "#ed7953"
             ],
             [
              0.7777777777777778,
              "#fb9f3a"
             ],
             [
              0.8888888888888888,
              "#fdca26"
             ],
             [
              1.0,
              "#f0f921"
             ]
            ]
           }
          ],
          "mesh3d": [
           {
            "type": "mesh3d",
            "colorbar": {
             "outlinewidth": 0,
             "ticks": ""
            }
           }
          ],
          "scatter": [
           {
            "marker": {
             "line": {
              "color": "#283442"
             }
            },
            "type": "scatter"
           }
          ],
          "parcoords": [
           {
            "type": "parcoords",
            "line": {
             "colorbar": {
              "outlinewidth": 0,
              "ticks": ""
             }
            }
           }
          ],
          "scatterpolargl": [
           {
            "type": "scatterpolargl",
            "marker": {
             "colorbar": {
              "outlinewidth": 0,
              "ticks": ""
             }
            }
           }
          ],
          "bar": [
           {
            "error_x": {
             "color": "#f2f5fa"
            },
            "error_y": {
             "color": "#f2f5fa"
            },
            "marker": {
             "line": {
              "color": "rgb(17,17,17)",
              "width": 0.5
             },
             "pattern": {
              "fillmode": "overlay",
              "size": 10,
              "solidity": 0.2
             }
            },
            "type": "bar"
           }
          ],
          "scattergeo": [
           {
            "type": "scattergeo",
            "marker": {
             "colorbar": {
              "outlinewidth": 0,
              "ticks": ""
             }
            }
           }
          ],
          "scatterpolar": [
           {
            "type": "scatterpolar",
            "marker": {
             "colorbar": {
              "outlinewidth": 0,
              "ticks": ""
             }
            }
           }
          ],
          "histogram": [
           {
            "marker": {
             "pattern": {
              "fillmode": "overlay",
              "size": 10,
              "solidity": 0.2
             }
            },
            "type": "histogram"
           }
          ],
          "scattergl": [
           {
            "marker": {
             "line": {
              "color": "#283442"
             }
            },
            "type": "scattergl"
           }
          ],
          "scatter3d": [
           {
            "type": "scatter3d",
            "line": {
             "colorbar": {
              "outlinewidth": 0,
              "ticks": ""
             }
            },
            "marker": {
             "colorbar": {
              "outlinewidth": 0,
              "ticks": ""
             }
            }
           }
          ],
          "scattermap": [
           {
            "type": "scattermap",
            "marker": {
             "colorbar": {
              "outlinewidth": 0,
              "ticks": ""
             }
            }
           }
          ],
          "scattermapbox": [
           {
            "type": "scattermapbox",
            "marker": {
             "colorbar": {
              "outlinewidth": 0,
              "ticks": ""
             }
            }
           }
          ],
          "scatterternary": [
           {
            "type": "scatterternary",
            "marker": {
             "colorbar": {
              "outlinewidth": 0,
              "ticks": ""
             }
            }
           }
          ],
          "scattercarpet": [
           {
            "type": "scattercarpet",
            "marker": {
             "colorbar": {
              "outlinewidth": 0,
              "ticks": ""
             }
            }
           }
          ],
          "carpet": [
           {
            "aaxis": {
             "endlinecolor": "#A2B1C6",
             "gridcolor": "#506784",
             "linecolor": "#506784",
             "minorgridcolor": "#506784",
             "startlinecolor": "#A2B1C6"
            },
            "baxis": {
             "endlinecolor": "#A2B1C6",
             "gridcolor": "#506784",
             "linecolor": "#506784",
             "minorgridcolor": "#506784",
             "startlinecolor": "#A2B1C6"
            },
            "type": "carpet"
           }
          ],
          "table": [
           {
            "cells": {
             "fill": {
              "color": "#506784"
             },
             "line": {
              "color": "rgb(17,17,17)"
             }
            },
            "header": {
             "fill": {
              "color": "#2a3f5f"
             },
             "line": {
              "color": "rgb(17,17,17)"
             }
            },
            "type": "table"
           }
          ],
          "barpolar": [
           {
            "marker": {
             "line": {
              "color": "rgb(17,17,17)",
              "width": 0.5
             },
             "pattern": {
              "fillmode": "overlay",
              "size": 10,
              "solidity": 0.2
             }
            },
            "type": "barpolar"
           }
          ],
          "pie": [
           {
            "automargin": true,
            "type": "pie"
           }
          ]
         },
         "layout": {
          "autotypenumbers": "strict",
          "colorway": [
           "#636efa",
           "#EF553B",
           "#00cc96",
           "#ab63fa",
           "#FFA15A",
           "#19d3f3",
           "#FF6692",
           "#B6E880",
           "#FF97FF",
           "#FECB52"
          ],
          "font": {
           "color": "#f2f5fa"
          },
          "hovermode": "closest",
          "hoverlabel": {
           "align": "left"
          },
          "paper_bgcolor": "rgb(17,17,17)",
          "plot_bgcolor": "rgb(17,17,17)",
          "polar": {
           "bgcolor": "rgb(17,17,17)",
           "angularaxis": {
            "gridcolor": "#506784",
            "linecolor": "#506784",
            "ticks": ""
           },
           "radialaxis": {
            "gridcolor": "#506784",
            "linecolor": "#506784",
            "ticks": ""
           }
          },
          "ternary": {
           "bgcolor": "rgb(17,17,17)",
           "aaxis": {
            "gridcolor": "#506784",
            "linecolor": "#506784",
            "ticks": ""
           },
           "baxis": {
            "gridcolor": "#506784",
            "linecolor": "#506784",
            "ticks": ""
           },
           "caxis": {
            "gridcolor": "#506784",
            "linecolor": "#506784",
            "ticks": ""
           }
          },
          "coloraxis": {
           "colorbar": {
            "outlinewidth": 0,
            "ticks": ""
           }
          },
          "colorscale": {
           "sequential": [
            [
             0.0,
             "#0d0887"
            ],
            [
             0.1111111111111111,
             "#46039f"
            ],
            [
             0.2222222222222222,
             "#7201a8"
            ],
            [
             0.3333333333333333,
             "#9c179e"
            ],
            [
             0.4444444444444444,
             "#bd3786"
            ],
            [
             0.5555555555555556,
             "#d8576b"
            ],
            [
             0.6666666666666666,
             "#ed7953"
            ],
            [
             0.7777777777777778,
             "#fb9f3a"
            ],
            [
             0.8888888888888888,
             "#fdca26"
            ],
            [
             1.0,
             "#f0f921"
            ]
           ],
           "sequentialminus": [
            [
             0.0,
             "#0d0887"
            ],
            [
             0.1111111111111111,
             "#46039f"
            ],
            [
             0.2222222222222222,
             "#7201a8"
            ],
            [
             0.3333333333333333,
             "#9c179e"
            ],
            [
             0.4444444444444444,
             "#bd3786"
            ],
            [
             0.5555555555555556,
             "#d8576b"
            ],
            [
             0.6666666666666666,
             "#ed7953"
            ],
            [
             0.7777777777777778,
             "#fb9f3a"
            ],
            [
             0.8888888888888888,
             "#fdca26"
            ],
            [
             1.0,
             "#f0f921"
            ]
           ],
           "diverging": [
            [
             0,
             "#8e0152"
            ],
            [
             0.1,
             "#c51b7d"
            ],
            [
             0.2,
             "#de77ae"
            ],
            [
             0.3,
             "#f1b6da"
            ],
            [
             0.4,
             "#fde0ef"
            ],
            [
             0.5,
             "#f7f7f7"
            ],
            [
             0.6,
             "#e6f5d0"
            ],
            [
             0.7,
             "#b8e186"
            ],
            [
             0.8,
             "#7fbc41"
            ],
            [
             0.9,
             "#4d9221"
            ],
            [
             1,
             "#276419"
            ]
           ]
          },
          "xaxis": {
           "gridcolor": "#283442",
           "linecolor": "#506784",
           "ticks": "",
           "title": {
            "standoff": 15
           },
           "zerolinecolor": "#283442",
           "automargin": true,
           "zerolinewidth": 2
          },
          "yaxis": {
           "gridcolor": "#283442",
           "linecolor": "#506784",
           "ticks": "",
           "title": {
            "standoff": 15
           },
           "zerolinecolor": "#283442",
           "automargin": true,
           "zerolinewidth": 2
          },
          "scene": {
           "xaxis": {
            "backgroundcolor": "rgb(17,17,17)",
            "gridcolor": "#506784",
            "linecolor": "#506784",
            "showbackground": true,
            "ticks": "",
            "zerolinecolor": "#C8D4E3",
            "gridwidth": 2
           },
           "yaxis": {
            "backgroundcolor": "rgb(17,17,17)",
            "gridcolor": "#506784",
            "linecolor": "#506784",
            "showbackground": true,
            "ticks": "",
            "zerolinecolor": "#C8D4E3",
            "gridwidth": 2
           },
           "zaxis": {
            "backgroundcolor": "rgb(17,17,17)",
            "gridcolor": "#506784",
            "linecolor": "#506784",
            "showbackground": true,
            "ticks": "",
            "zerolinecolor": "#C8D4E3",
            "gridwidth": 2
           }
          },
          "shapedefaults": {
           "line": {
            "color": "#f2f5fa"
           }
          },
          "annotationdefaults": {
           "arrowcolor": "#f2f5fa",
           "arrowhead": 0,
           "arrowwidth": 1
          },
          "geo": {
           "bgcolor": "rgb(17,17,17)",
           "landcolor": "rgb(17,17,17)",
           "subunitcolor": "#506784",
           "showland": true,
           "showlakes": true,
           "lakecolor": "rgb(17,17,17)"
          },
          "title": {
           "x": 0.05
          },
          "updatemenudefaults": {
           "bgcolor": "#506784",
           "borderwidth": 0
          },
          "sliderdefaults": {
           "bgcolor": "#C8D4E3",
           "borderwidth": 1,
           "bordercolor": "rgb(17,17,17)",
           "tickwidth": 0
          },
          "mapbox": {
           "style": "dark"
          }
         }
        },
        "xaxis": {
         "anchor": "y",
         "domain": [
          0.0,
          0.7363
         ],
         "title": {
          "text": "x"
         }
        },
        "yaxis": {
         "anchor": "x",
         "domain": [
          0.0,
          1.0
         ],
         "title": {
          "text": "output_tokens_per_prompt"
         }
        },
        "xaxis2": {
         "anchor": "y2",
         "domain": [
          0.7413,
          1.0
         ],
         "matches": "x2",
         "showticklabels": false,
         "showline": false,
         "ticks": "",
         "showgrid": false
        },
        "yaxis2": {
         "anchor": "x2",
         "domain": [
          0.0,
          1.0
         ],
         "matches": "y",
         "showticklabels": false,
         "showgrid": true
        },
        "legend": {
         "title": {
          "text": "output_length"
         },
         "tracegroupgap": 0
        },
        "margin": {
         "t": 60
        }
       },
       "config": {
        "plotlyServerURL": "https://plot.ly"
       }
      }
     },
     "metadata": {},
     "output_type": "display_data",
     "jetTransient": {
      "display_id": null
     }
    }
   ],
   "execution_count": 180
  },
  {
   "metadata": {
    "ExecuteTime": {
     "end_time": "2025-10-11T19:37:15.541827Z",
     "start_time": "2025-10-11T19:37:15.014751Z"
    }
   },
   "cell_type": "code",
   "source": [
    "fig = px.scatter(data_df, x= range(len(data_df)), y= \"total_time\", size=\"output_tokens\", color = 'output_length', marginal_y=\"violin\")\n",
    "fig.show()\n",
    "fig = px.scatter(data_df, x= \"output_tokens\" , y= [\"total_time\", \"load_time\", \"prompt_eval_time\", \"output_eval_time\"], trendline=\"lowess\")\n",
    "fig.show()\n",
    "fig = px.scatter(data_df, x= \"input_tokens\", y= [\"total_time\", \"load_time\", \"prompt_eval_time\", \"output_eval_time\"], trendline=\"lowess\")\n",
    "fig.show()"
   ],
   "id": "3eb523479d415acf",
   "outputs": [
    {
     "data": {
      "application/vnd.plotly.v1+json": {
       "data": [
        {
         "hovertemplate": "output_length=short<br>x=%{x}<br>total_time=%{y}<br>output_tokens=%{marker.size}<extra></extra>",
         "legendgroup": "short",
         "marker": {
          "color": "#636efa",
          "size": {
           "dtype": "i2",
           "bdata": "JwA6ADYAJwApAB8ANQAJABkACQAjAEwAFgAdACsAOgAuAEMAMAAaAAUAIAAPAAwAPwA4ADUAKQALAEMALgAVAMQAjQAfAf0ADgGHANUA8wDYAJQAqAADAcQAWwCrAP8ASgNmA8wDDQN9AAoAMQADADIABAADAC0AHAAwADIALgAMADMABAAFABcACgAJADsAKwA5ADEANgAnAAsALgAOABQAMQA6ADoAJQCqAKEAegCbAJQAvQCLAL4ArwC1ALsAmQB9AG0A0gB3ADwCtwDIAZEBWwE7AGYATQBAAEEAPwA/ADYAPQA7AFMAWQA3AE4ASwA/AHEARwBRADQASAA1AEQANgA1AGAATgA5AEEATQBNADUAigEpATkBKAF1AREBwgFUAYMBMAGuARsBOAETAU4BWwENBY8FsATnBeoARwBFAEUASQA+AEIAOQA0AD4AVgBDADcATAAvAE0ALQAqADIAPAApADQAOQAyADoARwAwADwAMQAqADwATQAzAFwBfQFuAU4BhQFzAYsBZQEBAXUBXwFiAXcBXwHqAPAAywO+BEkDpQOgAA=="
          },
          "sizemode": "area",
          "sizeref": 12.0025,
          "symbol": "circle"
         },
         "mode": "markers",
         "name": "short",
         "orientation": "v",
         "showlegend": true,
         "x": {
          "dtype": "i2",
          "bdata": "AAACAAQABgAIAAoADAAOABAAEgAUABYAGAAaABwAHgAgACIAJAAmACgAKgAsAC4AMAAyADQANgA4ADoAPAA+AEAAQgBEAEYASABKAEwATgBQAFIAVABWAFgAWgBcAF4AYABiAGQAZgBoAGoAbABuAHAAcgB0AHYAeAB6AHwAfgCAAIIAhACGAIgAigCMAI4AkACSAJQAlgCYAJoAnACeAKAAogCkAKYAqACqAKwArgCwALIAtAC2ALgAugC8AL4AwADCAMQAxgDIAMoAzADOANAA0gDUANYA2ADaANwA3gDgAOIA5ADmAOgA6gDsAO4A8ADyAPQA9gD4APoA/AD+AAABAgEEAQYBCAEKAQwBDgEQARIBFAEWARgBGgEcAR4BIAEiASQBJgEoASoBLAEuATABMgE0ATYBOAE6ATwBPgFAAUIBRAFGAUgBSgFMAU4BUAFSAVQBVgFYAVoBXAFeAWABYgFkAWYBaAFqAWwBbgFwAXIBdAF2AXgBegF8AX4BgAGCAYQBhgGIAYoBjAGOAZABkgGUAZYBmAGaAZwBngGgAaIBpAGmAQ=="
         },
         "xaxis": "x",
         "y": {
          "dtype": "f8",
          "bdata": "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"
         },
         "yaxis": "y",
         "type": "scatter"
        },
        {
         "alignmentgroup": "True",
         "hovertemplate": "output_length=short<br>total_time=%{y}<extra></extra>",
         "legendgroup": "short",
         "marker": {
          "color": "#636efa",
          "symbol": "circle"
         },
         "name": "short",
         "offsetgroup": "short",
         "scalegroup": "y",
         "showlegend": false,
         "xaxis": "x2",
         "y": {
          "dtype": "f8",
          "bdata": "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"
         },
         "yaxis": "y2",
         "type": "violin"
        },
        {
         "hovertemplate": "output_length=long<br>x=%{x}<br>total_time=%{y}<br>output_tokens=%{marker.size}<extra></extra>",
         "legendgroup": "long",
         "marker": {
          "color": "#EF553B",
          "size": {
           "dtype": "i2",
           "bdata": "HgHNAdEC2gBiAfAAfQGPAAEBRQEIAXwBNgFiAGYBlwHFARUCoQIpAYoADAAmAVkBcAElAnkBdAE0AQYCbAJmAR0CawK3AQYDVQKHAhcCygLkAQsD/AFlAz4CaQH5AYIDXAVZB3cDzQR+AAoAlgJxAf0BNgEJAHMCsgDWAFgCnQAHAPEBDAHFAIUBGwFnAH0BCwH6AXoB8QGLANQAfAErARkBFAIfAuMBaAF4AjMC0gEtAuUBGgMUAxkD8wENBEoEOQP2ACoC2wKyAIsEIAMfBjcChAGCAhgCnAJ7AtABPwIPA6oCmAJEAtkC6wGmAbgCNwJOAtgBVQI8AmYCTQLAAmkCTgKzAQ4C3QIMAgICXAIjAhkC3AZMBRYDLwbTBt0EuARmB24I0QXDBHcFWwagBE4FwwWWEEwPnwvBEkYBHQLZAYQC8wGlAssBOQKmAbkB3AHsAd0BSgJIAj8CsAFAAVMCQwK3Am0C6gEfAq4BJwIQAgsCPwG+AZUCXQFhAlYFUgalBfwFQAVcBWQFuwQLBIEGMAa2Bm0F+QalAygFOArNC7oKJBDYBQ=="
          },
          "sizemode": "area",
          "sizeref": 12.0025,
          "symbol": "circle"
         },
         "mode": "markers",
         "name": "long",
         "orientation": "v",
         "showlegend": true,
         "x": {
          "dtype": "i2",
          "bdata": "AQADAAUABwAJAAsADQAPABEAEwAVABcAGQAbAB0AHwAhACMAJQAnACkAKwAtAC8AMQAzADUANwA5ADsAPQA/AEEAQwBFAEcASQBLAE0ATwBRAFMAVQBXAFkAWwBdAF8AYQBjAGUAZwBpAGsAbQBvAHEAcwB1AHcAeQB7AH0AfwCBAIMAhQCHAIkAiwCNAI8AkQCTAJUAlwCZAJsAnQCfAKEAowClAKcAqQCrAK0ArwCxALMAtQC3ALkAuwC9AL8AwQDDAMUAxwDJAMsAzQDPANEA0wDVANcA2QDbAN0A3wDhAOMA5QDnAOkA6wDtAO8A8QDzAPUA9wD5APsA/QD/AAEBAwEFAQcBCQELAQ0BDwERARMBFQEXARkBGwEdAR8BIQEjASUBJwEpASsBLQEvATEBMwE1ATcBOQE7AT0BPwFBAUMBRQFHAUkBSwFNAU8BUQFTAVUBVwFZAVsBXQFfAWEBYwFlAWcBaQFrAW0BbwFxAXMBdQF3AXkBewF9AX8BgQGDAYUBhwGJAYsBjQGPAZEBkwGVAZcBmQGbAZ0BnwGhAaMBpQGnAQ=="
         },
         "xaxis": "x",
         "y": {
          "dtype": "f8",
          "bdata": "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"
         },
         "yaxis": "y",
         "type": "scatter"
        },
        {
         "alignmentgroup": "True",
         "hovertemplate": "output_length=long<br>total_time=%{y}<extra></extra>",
         "legendgroup": "long",
         "marker": {
          "color": "#EF553B",
          "symbol": "circle"
         },
         "name": "long",
         "offsetgroup": "long",
         "scalegroup": "y",
         "showlegend": false,
         "xaxis": "x2",
         "y": {
          "dtype": "f8",
          "bdata": "r/ptmR3TGEAXR4pt9/MjQLRWtDnOCS9A5e5zfLTgEkDcfY6PFsceQBuTtNHvyRRAfRnWnqN7IEB+pZgo5/AIQFR4K6YtsRZA+fcZFw5kHEDlxdM8kQEXQKMCzCFOeCBAkkpnFlerGkDSW5d1WlIBQJjBGJEo5B5AtM++TdrLIUB6350hwaEjQLpL4qyI/iZAiIRKt4DrLEBsuY7MfiAaQHwkyoOZiwhAim5i7ZQz2z/jeV9LfrIZQBGu2/uvVh5ApZ4FobwjIEDygLIpV8QnQK/e8qLAUCBAQaPPotITIEByqyAGuuYaQMoPpnIkgSZA4ZEdwMfJKkD9xceCHTofQIdkbfiCoydAuUmxSLiZK0BEzIAOTlsjQHmaJzLOKjFAfqmfNxX9KUBgeetXlaQsQJGcp5WdjSdAmBb1Se5UL0AtrSsLy5QlQK/mpQeqGTFAUyunmN6JJkCzu5sC9BAzQFTKayV0kylAm0ZJ/hYXIEDG3/YEiXUmQE86Nqc3yDNAvMgE/BoMQEBdwqG3eBVGQHpJrUGpVzVApyIVxhbiPEAKwzaYPBQkQFaCIJs/Adc/ofSFkPOWLEDDd6xjpv4fQH1WPnA6EiZA3Iqz2NyfGkAsVVhfE4jUP/v3KkNm5CpAt2y+W2qeDkCBxYYTPUUSQDUHCObokSlADaiSXFn9CkB8j0R5MPPSPzb0BeOWfSVAoSev310gF0BQFfgvtRoRQK62Yn/Z7SBA1HMcieGMGEDO+/84YYICQLN78rBQwyBAYypYPiYtF0COlIhL6fwlQHiOEgVEfiBAQUbly7DSJUA033fCASMIQLoX8878VRJAvFBlvb2EIEByNh0B3DQaQG0jnuxmlhhAJMYh0bosJ0C/ydu2lIQnQNX71wP39SRAJylVRzPTHkD2ewfkt+ErQAcn/RjOYChAhTh7DPs+JECNH8/TJTgoQE38rI0MCSVAzdcbazX+MEBSlVv/UwgxQMXEiypoITFACqgmd46TJUCtb7srFkw2QFqGk484pzdA4s7gStGbMUB4rc57rU0VQKrSux2GDyhAK+LPSyBsL0BRacTMPt8OQJcOjHIfgTlANSVZh6NvMUBmHUQhuCxBQK887ZUe+ihA/zyyXrHTIkCU2LW93cIrQP6Hqk69LCdAFKBcCZOsLEBlRomnaGorQIqYyLvZISRA9+1/227RKEB0HfS247MwQCYRK+0eUi1AN+IkKNkVLUAAqrhxi40pQCyvpvy1CjBAO3TVlwA/JUBWKHdEKlkiQJYZgFcVsy1A2aMmsO+dKEC/NPvyuEIpQFwIzQk1aiRAi0xl9h7nKUDwdEJDWuIoQB+CTxg5lCpAVDKlmv5lKUB54XPMHgkuQKDPNu0Y/SpAUleIWA56KUCg1n58U8YiQLTTxVwIBCdA1726z5ZUL0BeUmtQ6vEmQK32sBcKNCZAWLkGbL31KUAGHPgHgMQnQGQW62UlUydAQtDRqpaDQ0BCKsWOxg8+QMGU3LzMUTFABVcvdUZ8QUCfOZCaG1xDQOQEt/8ShjtAUvmNZbBkOkDVqgJaXwdFQIvisI+pKkhA8JNZczZlQEBqSIGqdu46QIOsXclEID9AZ+4h4XsVQkAiaBayBCM6QL2s5L4wvj1AjlB9MaVQQECdHzXctoxZQIihMIOMYldAQmrJmdyaUUCUYYFULyddQOGlipjIay5AZPVYRF5cJ0A0Spf+JYEkQHhgAOFD/StA9iXAVUOTJUCNxYA2g0EtQOKGKdvR3SNA4oPoWsV4KEACw6hawWUiQHi++tOhHiNAOs1dpoHGJECd0DXd/EglQJks7j8yzSRAHeviNhpAKUAo84++SaMpQJOzZhoDtShAxtfo5izNIkDQACiQI3cbQKWqZFthnSlAdtVNczwQKUBHeUGfI8ktQCFNq9fjCCtAz7OjgtRrJUChZBex9MInQL85bdeVbCJAevYB7bOnJ0BIYGLiRe0mQLgehetRpCZA6rGIvECMG0AI9T6fElUjQAKetHBZRSxAB29Zz1rbHUACAufWtTsqQDKvIw7Zcj1Ax7yOOGTIQUDNtcO6TKA/QMyNM5dlu0BARyRl5l00PUC1xZD3Bd09QLaLHxlh5D1A5fPlYJFOOkAr7LMU2oE2QKCj+nN2NEJAZCGVvQBKQUDsvgi/eb1CQARCRps+DD5AGxb+ZyhpQ0B3CZgKO/ozQJu3RfTG0jxANp+E40M8TUBqo5XWuvFQQDuGbMWjlU5AMgBUcWOHV0A5YR0iyXtBQA=="
         },
         "yaxis": "y2",
         "type": "violin"
        }
       ],
       "layout": {
        "template": {
         "data": {
          "histogram2dcontour": [
           {
            "type": "histogram2dcontour",
            "colorbar": {
             "outlinewidth": 0,
             "ticks": ""
            },
            "colorscale": [
             [
              0.0,
              "#0d0887"
             ],
             [
              0.1111111111111111,
              "#46039f"
             ],
             [
              0.2222222222222222,
              "#7201a8"
             ],
             [
              0.3333333333333333,
              "#9c179e"
             ],
             [
              0.4444444444444444,
              "#bd3786"
             ],
             [
              0.5555555555555556,
              "#d8576b"
             ],
             [
              0.6666666666666666,
              "#ed7953"
             ],
             [
              0.7777777777777778,
              "#fb9f3a"
             ],
             [
              0.8888888888888888,
              "#fdca26"
             ],
             [
              1.0,
              "#f0f921"
             ]
            ]
           }
          ],
          "choropleth": [
           {
            "type": "choropleth",
            "colorbar": {
             "outlinewidth": 0,
             "ticks": ""
            }
           }
          ],
          "histogram2d": [
           {
            "type": "histogram2d",
            "colorbar": {
             "outlinewidth": 0,
             "ticks": ""
            },
            "colorscale": [
             [
              0.0,
              "#0d0887"
             ],
             [
              0.1111111111111111,
              "#46039f"
             ],
             [
              0.2222222222222222,
              "#7201a8"
             ],
             [
              0.3333333333333333,
              "#9c179e"
             ],
             [
              0.4444444444444444,
              "#bd3786"
             ],
             [
              0.5555555555555556,
              "#d8576b"
             ],
             [
              0.6666666666666666,
              "#ed7953"
             ],
             [
              0.7777777777777778,
              "#fb9f3a"
             ],
             [
              0.8888888888888888,
              "#fdca26"
             ],
             [
              1.0,
              "#f0f921"
             ]
            ]
           }
          ],
          "heatmap": [
           {
            "type": "heatmap",
            "colorbar": {
             "outlinewidth": 0,
             "ticks": ""
            },
            "colorscale": [
             [
              0.0,
              "#0d0887"
             ],
             [
              0.1111111111111111,
              "#46039f"
             ],
             [
              0.2222222222222222,
              "#7201a8"
             ],
             [
              0.3333333333333333,
              "#9c179e"
             ],
             [
              0.4444444444444444,
              "#bd3786"
             ],
             [
              0.5555555555555556,
              "#d8576b"
             ],
             [
              0.6666666666666666,
              "#ed7953"
             ],
             [
              0.7777777777777778,
              "#fb9f3a"
             ],
             [
              0.8888888888888888,
              "#fdca26"
             ],
             [
              1.0,
              "#f0f921"
             ]
            ]
           }
          ],
          "contourcarpet": [
           {
            "type": "contourcarpet",
            "colorbar": {
             "outlinewidth": 0,
             "ticks": ""
            }
           }
          ],
          "contour": [
           {
            "type": "contour",
            "colorbar": {
             "outlinewidth": 0,
             "ticks": ""
            },
            "colorscale": [
             [
              0.0,
              "#0d0887"
             ],
             [
              0.1111111111111111,
              "#46039f"
             ],
             [
              0.2222222222222222,
              "#7201a8"
             ],
             [
              0.3333333333333333,
              "#9c179e"
             ],
             [
              0.4444444444444444,
              "#bd3786"
             ],
             [
              0.5555555555555556,
              "#d8576b"
             ],
             [
              0.6666666666666666,
              "#ed7953"
             ],
             [
              0.7777777777777778,
              "#fb9f3a"
             ],
             [
              0.8888888888888888,
              "#fdca26"
             ],
             [
              1.0,
              "#f0f921"
             ]
            ]
           }
          ],
          "surface": [
           {
            "type": "surface",
            "colorbar": {
             "outlinewidth": 0,
             "ticks": ""
            },
            "colorscale": [
             [
              0.0,
              "#0d0887"
             ],
             [
              0.1111111111111111,
              "#46039f"
             ],
             [
              0.2222222222222222,
              "#7201a8"
             ],
             [
              0.3333333333333333,
              "#9c179e"
             ],
             [
              0.4444444444444444,
              "#bd3786"
             ],
             [
              0.5555555555555556,
              "#d8576b"
             ],
             [
              0.6666666666666666,
              "#ed7953"
             ],
             [
              0.7777777777777778,
              "#fb9f3a"
             ],
             [
              0.8888888888888888,
              "#fdca26"
             ],
             [
              1.0,
              "#f0f921"
             ]
            ]
           }
          ],
          "mesh3d": [
           {
            "type": "mesh3d",
            "colorbar": {
             "outlinewidth": 0,
             "ticks": ""
            }
           }
          ],
          "scatter": [
           {
            "marker": {
             "line": {
              "color": "#283442"
             }
            },
            "type": "scatter"
           }
          ],
          "parcoords": [
           {
            "type": "parcoords",
            "line": {
             "colorbar": {
              "outlinewidth": 0,
              "ticks": ""
             }
            }
           }
          ],
          "scatterpolargl": [
           {
            "type": "scatterpolargl",
            "marker": {
             "colorbar": {
              "outlinewidth": 0,
              "ticks": ""
             }
            }
           }
          ],
          "bar": [
           {
            "error_x": {
             "color": "#f2f5fa"
            },
            "error_y": {
             "color": "#f2f5fa"
            },
            "marker": {
             "line": {
              "color": "rgb(17,17,17)",
              "width": 0.5
             },
             "pattern": {
              "fillmode": "overlay",
              "size": 10,
              "solidity": 0.2
             }
            },
            "type": "bar"
           }
          ],
          "scattergeo": [
           {
            "type": "scattergeo",
            "marker": {
             "colorbar": {
              "outlinewidth": 0,
              "ticks": ""
             }
            }
           }
          ],
          "scatterpolar": [
           {
            "type": "scatterpolar",
            "marker": {
             "colorbar": {
              "outlinewidth": 0,
              "ticks": ""
             }
            }
           }
          ],
          "histogram": [
           {
            "marker": {
             "pattern": {
              "fillmode": "overlay",
              "size": 10,
              "solidity": 0.2
             }
            },
            "type": "histogram"
           }
          ],
          "scattergl": [
           {
            "marker": {
             "line": {
              "color": "#283442"
             }
            },
            "type": "scattergl"
           }
          ],
          "scatter3d": [
           {
            "type": "scatter3d",
            "line": {
             "colorbar": {
              "outlinewidth": 0,
              "ticks": ""
             }
            },
            "marker": {
             "colorbar": {
              "outlinewidth": 0,
              "ticks": ""
             }
            }
           }
          ],
          "scattermap": [
           {
            "type": "scattermap",
            "marker": {
             "colorbar": {
              "outlinewidth": 0,
              "ticks": ""
             }
            }
           }
          ],
          "scattermapbox": [
           {
            "type": "scattermapbox",
            "marker": {
             "colorbar": {
              "outlinewidth": 0,
              "ticks": ""
             }
            }
           }
          ],
          "scatterternary": [
           {
            "type": "scatterternary",
            "marker": {
             "colorbar": {
              "outlinewidth": 0,
              "ticks": ""
             }
            }
           }
          ],
          "scattercarpet": [
           {
            "type": "scattercarpet",
            "marker": {
             "colorbar": {
              "outlinewidth": 0,
              "ticks": ""
             }
            }
           }
          ],
          "carpet": [
           {
            "aaxis": {
             "endlinecolor": "#A2B1C6",
             "gridcolor": "#506784",
             "linecolor": "#506784",
             "minorgridcolor": "#506784",
             "startlinecolor": "#A2B1C6"
            },
            "baxis": {
             "endlinecolor": "#A2B1C6",
             "gridcolor": "#506784",
             "linecolor": "#506784",
             "minorgridcolor": "#506784",
             "startlinecolor": "#A2B1C6"
            },
            "type": "carpet"
           }
          ],
          "table": [
           {
            "cells": {
             "fill": {
              "color": "#506784"
             },
             "line": {
              "color": "rgb(17,17,17)"
             }
            },
            "header": {
             "fill": {
              "color": "#2a3f5f"
             },
             "line": {
              "color": "rgb(17,17,17)"
             }
            },
            "type": "table"
           }
          ],
          "barpolar": [
           {
            "marker": {
             "line": {
              "color": "rgb(17,17,17)",
              "width": 0.5
             },
             "pattern": {
              "fillmode": "overlay",
              "size": 10,
              "solidity": 0.2
             }
            },
            "type": "barpolar"
           }
          ],
          "pie": [
           {
            "automargin": true,
            "type": "pie"
           }
          ]
         },
         "layout": {
          "autotypenumbers": "strict",
          "colorway": [
           "#636efa",
           "#EF553B",
           "#00cc96",
           "#ab63fa",
           "#FFA15A",
           "#19d3f3",
           "#FF6692",
           "#B6E880",
           "#FF97FF",
           "#FECB52"
          ],
          "font": {
           "color": "#f2f5fa"
          },
          "hovermode": "closest",
          "hoverlabel": {
           "align": "left"
          },
          "paper_bgcolor": "rgb(17,17,17)",
          "plot_bgcolor": "rgb(17,17,17)",
          "polar": {
           "bgcolor": "rgb(17,17,17)",
           "angularaxis": {
            "gridcolor": "#506784",
            "linecolor": "#506784",
            "ticks": ""
           },
           "radialaxis": {
            "gridcolor": "#506784",
            "linecolor": "#506784",
            "ticks": ""
           }
          },
          "ternary": {
           "bgcolor": "rgb(17,17,17)",
           "aaxis": {
            "gridcolor": "#506784",
            "linecolor": "#506784",
            "ticks": ""
           },
           "baxis": {
            "gridcolor": "#506784",
            "linecolor": "#506784",
            "ticks": ""
           },
           "caxis": {
            "gridcolor": "#506784",
            "linecolor": "#506784",
            "ticks": ""
           }
          },
          "coloraxis": {
           "colorbar": {
            "outlinewidth": 0,
            "ticks": ""
           }
          },
          "colorscale": {
           "sequential": [
            [
             0.0,
             "#0d0887"
            ],
            [
             0.1111111111111111,
             "#46039f"
            ],
            [
             0.2222222222222222,
             "#7201a8"
            ],
            [
             0.3333333333333333,
             "#9c179e"
            ],
            [
             0.4444444444444444,
             "#bd3786"
            ],
            [
             0.5555555555555556,
             "#d8576b"
            ],
            [
             0.6666666666666666,
             "#ed7953"
            ],
            [
             0.7777777777777778,
             "#fb9f3a"
            ],
            [
             0.8888888888888888,
             "#fdca26"
            ],
            [
             1.0,
             "#f0f921"
            ]
           ],
           "sequentialminus": [
            [
             0.0,
             "#0d0887"
            ],
            [
             0.1111111111111111,
             "#46039f"
            ],
            [
             0.2222222222222222,
             "#7201a8"
            ],
            [
             0.3333333333333333,
             "#9c179e"
            ],
            [
             0.4444444444444444,
             "#bd3786"
            ],
            [
             0.5555555555555556,
             "#d8576b"
            ],
            [
             0.6666666666666666,
             "#ed7953"
            ],
            [
             0.7777777777777778,
             "#fb9f3a"
            ],
            [
             0.8888888888888888,
             "#fdca26"
            ],
            [
             1.0,
             "#f0f921"
            ]
           ],
           "diverging": [
            [
             0,
             "#8e0152"
            ],
            [
             0.1,
             "#c51b7d"
            ],
            [
             0.2,
             "#de77ae"
            ],
            [
             0.3,
             "#f1b6da"
            ],
            [
             0.4,
             "#fde0ef"
            ],
            [
             0.5,
             "#f7f7f7"
            ],
            [
             0.6,
             "#e6f5d0"
            ],
            [
             0.7,
             "#b8e186"
            ],
            [
             0.8,
             "#7fbc41"
            ],
            [
             0.9,
             "#4d9221"
            ],
            [
             1,
             "#276419"
            ]
           ]
          },
          "xaxis": {
           "gridcolor": "#283442",
           "linecolor": "#506784",
           "ticks": "",
           "title": {
            "standoff": 15
           },
           "zerolinecolor": "#283442",
           "automargin": true,
           "zerolinewidth": 2
          },
          "yaxis": {
           "gridcolor": "#283442",
           "linecolor": "#506784",
           "ticks": "",
           "title": {
            "standoff": 15
           },
           "zerolinecolor": "#283442",
           "automargin": true,
           "zerolinewidth": 2
          },
          "scene": {
           "xaxis": {
            "backgroundcolor": "rgb(17,17,17)",
            "gridcolor": "#506784",
            "linecolor": "#506784",
            "showbackground": true,
            "ticks": "",
            "zerolinecolor": "#C8D4E3",
            "gridwidth": 2
           },
           "yaxis": {
            "backgroundcolor": "rgb(17,17,17)",
            "gridcolor": "#506784",
            "linecolor": "#506784",
            "showbackground": true,
            "ticks": "",
            "zerolinecolor": "#C8D4E3",
            "gridwidth": 2
           },
           "zaxis": {
            "backgroundcolor": "rgb(17,17,17)",
            "gridcolor": "#506784",
            "linecolor": "#506784",
            "showbackground": true,
            "ticks": "",
            "zerolinecolor": "#C8D4E3",
            "gridwidth": 2
           }
          },
          "shapedefaults": {
           "line": {
            "color": "#f2f5fa"
           }
          },
          "annotationdefaults": {
           "arrowcolor": "#f2f5fa",
           "arrowhead": 0,
           "arrowwidth": 1
          },
          "geo": {
           "bgcolor": "rgb(17,17,17)",
           "landcolor": "rgb(17,17,17)",
           "subunitcolor": "#506784",
           "showland": true,
           "showlakes": true,
           "lakecolor": "rgb(17,17,17)"
          },
          "title": {
           "x": 0.05
          },
          "updatemenudefaults": {
           "bgcolor": "#506784",
           "borderwidth": 0
          },
          "sliderdefaults": {
           "bgcolor": "#C8D4E3",
           "borderwidth": 1,
           "bordercolor": "rgb(17,17,17)",
           "tickwidth": 0
          },
          "mapbox": {
           "style": "dark"
          }
         }
        },
        "xaxis": {
         "anchor": "y",
         "domain": [
          0.0,
          0.7363
         ],
         "title": {
          "text": "x"
         }
        },
        "yaxis": {
         "anchor": "x",
         "domain": [
          0.0,
          1.0
         ],
         "title": {
          "text": "total_time"
         }
        },
        "xaxis2": {
         "anchor": "y2",
         "domain": [
          0.7413,
          1.0
         ],
         "matches": "x2",
         "showticklabels": false,
         "showline": false,
         "ticks": "",
         "showgrid": false
        },
        "yaxis2": {
         "anchor": "x2",
         "domain": [
          0.0,
          1.0
         ],
         "matches": "y",
         "showticklabels": false,
         "showgrid": true
        },
        "legend": {
         "title": {
          "text": "output_length"
         },
         "tracegroupgap": 0,
         "itemsizing": "constant"
        },
        "margin": {
         "t": 60
        }
       },
       "config": {
        "plotlyServerURL": "https://plot.ly"
       }
      }
     },
     "metadata": {},
     "output_type": "display_data",
     "jetTransient": {
      "display_id": null
     }
    },
    {
     "data": {
      "application/vnd.plotly.v1+json": {
       "data": [
        {
         "hovertemplate": "variable=total_time<br>output_tokens=%{x}<br>value=%{y}<extra></extra>",
         "legendgroup": "total_time",
         "marker": {
          "color": "#636efa",
          "symbol": "circle"
         },
         "mode": "markers",
         "name": "total_time",
         "showlegend": true,
         "x": {
          "dtype": "i2",
          "bdata": "JwAeAToAzQE2ANECJwDaACkAYgEfAPAANQB9AQkAjwAZAAEBCQBFASMACAFMAHwBFgA2AR0AYgArAGYBOgCXAS4AxQFDABUCMAChAhoAKQEFAIoAIAAMAA8AJgEMAFkBPwBwATgAJQI1AHkBKQB0AQsANAFDAAYCLgBsAhUAZgHEAB0CjQBrAh8BtwH9AAYDDgFVAocAhwLVABcC8wDKAtgA5AGUAAsDqAD8AQMBZQPEAD4CWwBpAasA+QH/AIIDSgNcBWYDWQfMA3cDDQPNBH0AfgAKAAoAMQCWAgMAcQEyAP0BBAA2AQMACQAtAHMCHACyADAA1gAyAFgCLgCdAAwABwAzAPEBBAAMAQUAxQAXAIUBCgAbAQkAZwA7AH0BKwALATkA+gExAHoBNgDxAScAiwALANQALgB8AQ4AKwEUABkBMQAUAjoAHwI6AOMBJQBoAaoAeAKhADMCegDSAZsALQKUAOUBvQAaA4sAFAO+ABkDrwDzAbUADQS7AEoEmQA5A30A9gBtACoC0gDbAncAsgA8AosEtwAgA8gBHwaRATcCWwGEATsAggJmABgCTQCcAkAAewJBANABPwA/Aj8ADwM2AKoCPQCYAjsARAJTANkCWQDrATcApgFOALgCSwA3Aj8ATgJxANgBRwBVAlEAPAI0AGYCSABNAjUAwAJEAGkCNgBOAjUAswFgAA4CTgDdAjkADAJBAAICTQBcAk0AIwI1ABkCigHcBikBTAU5ARYDKAEvBnUB0wYRAd0EwgG4BFQBZgeDAW4IMAHRBa4BwwQbAXcFOAFbBhMBoAROAU4FWwHDBQ0FlhCPBUwPsASfC+cFwRLqAEYBRwAdAkUA2QFFAIQCSQDzAT4ApQJCAMsBOQA5AjQApgE+ALkBVgDcAUMA7AE3AN0BTABKAi8ASAJNAD8CLQCwASoAQAEyAFMCPABDAikAtwI0AG0COQDqATIAHwI6AK4BRwAnAjAAEAI8AAsCMQA/ASoAvgE8AJUCTQBdATMAYQJcAVYFfQFSBm4BpQVOAfwFhQFABXMBXAWLAWQFZQG7BAEBCwR1AYEGXwEwBmIBtgZ3AW0FXwH5BuoApQPwACgFywM4Cr4EzQtJA7oKpQMkEKAA2AU="
         },
         "xaxis": "x",
         "y": {
          "dtype": "f8",
          "bdata": "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"
         },
         "yaxis": "y",
         "type": "scattergl"
        },
        {
         "hovertemplate": "<b>LOWESS trendline</b><br><br>variable=total_time<br>output_tokens=%{x}<br>value=%{y} <b>(trend)</b><extra></extra>",
         "legendgroup": "total_time",
         "marker": {
          "color": "#636efa",
          "symbol": "circle"
         },
         "mode": "lines",
         "name": "total_time",
         "showlegend": false,
         "x": {
          "dtype": "i2",
          "bdata": "AwADAAQABAAFAAUABwAJAAkACQAJAAoACgAKAAsACwAMAAwADAAOAA8AFAAVABYAFwAZABoAHAAdAB8AIAAjACUAJwAnACcAKQApACkAKgAqACsAKwAtAC0ALgAuAC4ALgAvADAAMAAwADEAMQAxADEAMgAyADIAMgAzADMANAA0ADQANQA1ADUANQA1ADYANgA2ADYANwA3ADgAOQA5ADkAOQA6ADoAOgA6ADoAOwA7ADsAPAA8ADwAPQA+AD4APwA/AD8APwBAAEEAQQBCAEMAQwBDAEQARQBFAEcARwBHAEgASQBLAEwATABNAE0ATQBNAE0ATgBOAFEAUwBWAFkAWwBgAGIAZgBnAG0AcQB3AHoAfQB9AH4AhwCKAIsAiwCNAI8AlACUAJkAmwCdAKAAoQCoAKoAqwCvALIAsgC1ALcAuwC9AL4AxADEAMUA0gDUANUA1gDYANoA6gDqAPAA8ADzAPYA/QD/AAEBAQEDAQgBCwEMAQ4BEQETARkBGwEbAR4BHwEmASgBKQEpASsBMAE0ATYBNgE4ATkBPwFAAUUBRgFOAU4BVAFZAVsBWwFcAV0BXwFfAWIBYgFlAWYBZgFoAWkBbgFwAXEBcwF0AXUBdQF3AXkBegF8AXwBfQF9AX0BgwGEAYUBhQGKAYsBkQGXAaYBpgGuAa4BsAGzAbcBuQG+AcIBxQHIAcsBzQHQAdIB2AHZAdwB3QHjAeQB5QHqAesB7AHxAfEB8wHzAfkB+gH8Af0BAgIGAgsCDAIOAhACFAIVAhcCGAIZAh0CHQIfAh8CIwIlAicCKgItAjMCNwI3AjkCPAI8Aj4CPwI/AkMCRAJIAkoCTQJOAk4CUwJVAlUCWAJcAmECZgJpAmsCbAJtAnMCeAJ7AoIChAKHApUClgKYApwCoQKlAqoCtwK4AsACygLRAtkC2wLdAgYDCwMNAw8DFAMWAxkDGgMgAzkDSQNKA2UDZgN3A4IDpQOlA8sDzAMLBA0ESgSLBKAEsAS4BLsEvgTDBM0E3QQNBSgFQAVMBU4FVgVcBVwFZAVtBXcFjwWlBcMF0QXYBecF/AUfBi8GMAZSBlsGgQa2BtMG3Ab5BlkHZgduCDgKugqfC80LTA8kEJYQwRI="
         },
         "xaxis": "x",
         "y": {
          "dtype": "f8",
          "bdata": "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"
         },
         "yaxis": "y",
         "type": "scattergl"
        },
        {
         "hovertemplate": "variable=load_time<br>output_tokens=%{x}<br>value=%{y}<extra></extra>",
         "legendgroup": "load_time",
         "marker": {
          "color": "#EF553B",
          "symbol": "circle"
         },
         "mode": "markers",
         "name": "load_time",
         "showlegend": true,
         "x": {
          "dtype": "i2",
          "bdata": "JwAeAToAzQE2ANECJwDaACkAYgEfAPAANQB9AQkAjwAZAAEBCQBFASMACAFMAHwBFgA2AR0AYgArAGYBOgCXAS4AxQFDABUCMAChAhoAKQEFAIoAIAAMAA8AJgEMAFkBPwBwATgAJQI1AHkBKQB0AQsANAFDAAYCLgBsAhUAZgHEAB0CjQBrAh8BtwH9AAYDDgFVAocAhwLVABcC8wDKAtgA5AGUAAsDqAD8AQMBZQPEAD4CWwBpAasA+QH/AIIDSgNcBWYDWQfMA3cDDQPNBH0AfgAKAAoAMQCWAgMAcQEyAP0BBAA2AQMACQAtAHMCHACyADAA1gAyAFgCLgCdAAwABwAzAPEBBAAMAQUAxQAXAIUBCgAbAQkAZwA7AH0BKwALATkA+gExAHoBNgDxAScAiwALANQALgB8AQ4AKwEUABkBMQAUAjoAHwI6AOMBJQBoAaoAeAKhADMCegDSAZsALQKUAOUBvQAaA4sAFAO+ABkDrwDzAbUADQS7AEoEmQA5A30A9gBtACoC0gDbAncAsgA8AosEtwAgA8gBHwaRATcCWwGEATsAggJmABgCTQCcAkAAewJBANABPwA/Aj8ADwM2AKoCPQCYAjsARAJTANkCWQDrATcApgFOALgCSwA3Aj8ATgJxANgBRwBVAlEAPAI0AGYCSABNAjUAwAJEAGkCNgBOAjUAswFgAA4CTgDdAjkADAJBAAICTQBcAk0AIwI1ABkCigHcBikBTAU5ARYDKAEvBnUB0wYRAd0EwgG4BFQBZgeDAW4IMAHRBa4BwwQbAXcFOAFbBhMBoAROAU4FWwHDBQ0FlhCPBUwPsASfC+cFwRLqAEYBRwAdAkUA2QFFAIQCSQDzAT4ApQJCAMsBOQA5AjQApgE+ALkBVgDcAUMA7AE3AN0BTABKAi8ASAJNAD8CLQCwASoAQAEyAFMCPABDAikAtwI0AG0COQDqATIAHwI6AK4BRwAnAjAAEAI8AAsCMQA/ASoAvgE8AJUCTQBdATMAYQJcAVYFfQFSBm4BpQVOAfwFhQFABXMBXAWLAWQFZQG7BAEBCwR1AYEGXwEwBmIBtgZ3AW0FXwH5BuoApQPwACgFywM4Cr4EzQtJA7oKpQMkEKAA2AU="
         },
         "xaxis": "x",
         "y": {
          "dtype": "f8",
          "bdata": "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"
         },
         "yaxis": "y",
         "type": "scattergl"
        },
        {
         "hovertemplate": "<b>LOWESS trendline</b><br><br>variable=load_time<br>output_tokens=%{x}<br>value=%{y} <b>(trend)</b><extra></extra>",
         "legendgroup": "load_time",
         "marker": {
          "color": "#EF553B",
          "symbol": "circle"
         },
         "mode": "lines",
         "name": "load_time",
         "showlegend": false,
         "x": {
          "dtype": "i2",
          "bdata": "AwADAAQABAAFAAUABwAJAAkACQAJAAoACgAKAAsACwAMAAwADAAOAA8AFAAVABYAFwAZABoAHAAdAB8AIAAjACUAJwAnACcAKQApACkAKgAqACsAKwAtAC0ALgAuAC4ALgAvADAAMAAwADEAMQAxADEAMgAyADIAMgAzADMANAA0ADQANQA1ADUANQA1ADYANgA2ADYANwA3ADgAOQA5ADkAOQA6ADoAOgA6ADoAOwA7ADsAPAA8ADwAPQA+AD4APwA/AD8APwBAAEEAQQBCAEMAQwBDAEQARQBFAEcARwBHAEgASQBLAEwATABNAE0ATQBNAE0ATgBOAFEAUwBWAFkAWwBgAGIAZgBnAG0AcQB3AHoAfQB9AH4AhwCKAIsAiwCNAI8AlACUAJkAmwCdAKAAoQCoAKoAqwCvALIAsgC1ALcAuwC9AL4AxADEAMUA0gDUANUA1gDYANoA6gDqAPAA8ADzAPYA/QD/AAEBAQEDAQgBCwEMAQ4BEQETARkBGwEbAR4BHwEmASgBKQEpASsBMAE0ATYBNgE4ATkBPwFAAUUBRgFOAU4BVAFZAVsBWwFcAV0BXwFfAWIBYgFlAWYBZgFoAWkBbgFwAXEBcwF0AXUBdQF3AXkBegF8AXwBfQF9AX0BgwGEAYUBhQGKAYsBkQGXAaYBpgGuAa4BsAGzAbcBuQG+AcIBxQHIAcsBzQHQAdIB2AHZAdwB3QHjAeQB5QHqAesB7AHxAfEB8wHzAfkB+gH8Af0BAgIGAgsCDAIOAhACFAIVAhcCGAIZAh0CHQIfAh8CIwIlAicCKgItAjMCNwI3AjkCPAI8Aj4CPwI/AkMCRAJIAkoCTQJOAk4CUwJVAlUCWAJcAmECZgJpAmsCbAJtAnMCeAJ7AoIChAKHApUClgKYApwCoQKlAqoCtwK4AsACygLRAtkC2wLdAgYDCwMNAw8DFAMWAxkDGgMgAzkDSQNKA2UDZgN3A4IDpQOlA8sDzAMLBA0ESgSLBKAEsAS4BLsEvgTDBM0E3QQNBSgFQAVMBU4FVgVcBVwFZAVtBXcFjwWlBcMF0QXYBecF/AUfBi8GMAZSBlsGgQa2BtMG3Ab5BlkHZgduCDgKugqfC80LTA8kEJYQwRI="
         },
         "xaxis": "x",
         "y": {
          "dtype": "f8",
          "bdata": "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"
         },
         "yaxis": "y",
         "type": "scattergl"
        },
        {
         "hovertemplate": "variable=prompt_eval_time<br>output_tokens=%{x}<br>value=%{y}<extra></extra>",
         "legendgroup": "prompt_eval_time",
         "marker": {
          "color": "#00cc96",
          "symbol": "circle"
         },
         "mode": "markers",
         "name": "prompt_eval_time",
         "showlegend": true,
         "x": {
          "dtype": "i2",
          "bdata": "JwAeAToAzQE2ANECJwDaACkAYgEfAPAANQB9AQkAjwAZAAEBCQBFASMACAFMAHwBFgA2AR0AYgArAGYBOgCXAS4AxQFDABUCMAChAhoAKQEFAIoAIAAMAA8AJgEMAFkBPwBwATgAJQI1AHkBKQB0AQsANAFDAAYCLgBsAhUAZgHEAB0CjQBrAh8BtwH9AAYDDgFVAocAhwLVABcC8wDKAtgA5AGUAAsDqAD8AQMBZQPEAD4CWwBpAasA+QH/AIIDSgNcBWYDWQfMA3cDDQPNBH0AfgAKAAoAMQCWAgMAcQEyAP0BBAA2AQMACQAtAHMCHACyADAA1gAyAFgCLgCdAAwABwAzAPEBBAAMAQUAxQAXAIUBCgAbAQkAZwA7AH0BKwALATkA+gExAHoBNgDxAScAiwALANQALgB8AQ4AKwEUABkBMQAUAjoAHwI6AOMBJQBoAaoAeAKhADMCegDSAZsALQKUAOUBvQAaA4sAFAO+ABkDrwDzAbUADQS7AEoEmQA5A30A9gBtACoC0gDbAncAsgA8AosEtwAgA8gBHwaRATcCWwGEATsAggJmABgCTQCcAkAAewJBANABPwA/Aj8ADwM2AKoCPQCYAjsARAJTANkCWQDrATcApgFOALgCSwA3Aj8ATgJxANgBRwBVAlEAPAI0AGYCSABNAjUAwAJEAGkCNgBOAjUAswFgAA4CTgDdAjkADAJBAAICTQBcAk0AIwI1ABkCigHcBikBTAU5ARYDKAEvBnUB0wYRAd0EwgG4BFQBZgeDAW4IMAHRBa4BwwQbAXcFOAFbBhMBoAROAU4FWwHDBQ0FlhCPBUwPsASfC+cFwRLqAEYBRwAdAkUA2QFFAIQCSQDzAT4ApQJCAMsBOQA5AjQApgE+ALkBVgDcAUMA7AE3AN0BTABKAi8ASAJNAD8CLQCwASoAQAEyAFMCPABDAikAtwI0AG0COQDqATIAHwI6AK4BRwAnAjAAEAI8AAsCMQA/ASoAvgE8AJUCTQBdATMAYQJcAVYFfQFSBm4BpQVOAfwFhQFABXMBXAWLAWQFZQG7BAEBCwR1AYEGXwEwBmIBtgZ3AW0FXwH5BuoApQPwACgFywM4Cr4EzQtJA7oKpQMkEKAA2AU="
         },
         "xaxis": "x",
         "y": {
          "dtype": "f8",
          "bdata": "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"
         },
         "yaxis": "y",
         "type": "scattergl"
        },
        {
         "hovertemplate": "<b>LOWESS trendline</b><br><br>variable=prompt_eval_time<br>output_tokens=%{x}<br>value=%{y} <b>(trend)</b><extra></extra>",
         "legendgroup": "prompt_eval_time",
         "marker": {
          "color": "#00cc96",
          "symbol": "circle"
         },
         "mode": "lines",
         "name": "prompt_eval_time",
         "showlegend": false,
         "x": {
          "dtype": "i2",
          "bdata": "AwADAAQABAAFAAUABwAJAAkACQAJAAoACgAKAAsACwAMAAwADAAOAA8AFAAVABYAFwAZABoAHAAdAB8AIAAjACUAJwAnACcAKQApACkAKgAqACsAKwAtAC0ALgAuAC4ALgAvADAAMAAwADEAMQAxADEAMgAyADIAMgAzADMANAA0ADQANQA1ADUANQA1ADYANgA2ADYANwA3ADgAOQA5ADkAOQA6ADoAOgA6ADoAOwA7ADsAPAA8ADwAPQA+AD4APwA/AD8APwBAAEEAQQBCAEMAQwBDAEQARQBFAEcARwBHAEgASQBLAEwATABNAE0ATQBNAE0ATgBOAFEAUwBWAFkAWwBgAGIAZgBnAG0AcQB3AHoAfQB9AH4AhwCKAIsAiwCNAI8AlACUAJkAmwCdAKAAoQCoAKoAqwCvALIAsgC1ALcAuwC9AL4AxADEAMUA0gDUANUA1gDYANoA6gDqAPAA8ADzAPYA/QD/AAEBAQEDAQgBCwEMAQ4BEQETARkBGwEbAR4BHwEmASgBKQEpASsBMAE0ATYBNgE4ATkBPwFAAUUBRgFOAU4BVAFZAVsBWwFcAV0BXwFfAWIBYgFlAWYBZgFoAWkBbgFwAXEBcwF0AXUBdQF3AXkBegF8AXwBfQF9AX0BgwGEAYUBhQGKAYsBkQGXAaYBpgGuAa4BsAGzAbcBuQG+AcIBxQHIAcsBzQHQAdIB2AHZAdwB3QHjAeQB5QHqAesB7AHxAfEB8wHzAfkB+gH8Af0BAgIGAgsCDAIOAhACFAIVAhcCGAIZAh0CHQIfAh8CIwIlAicCKgItAjMCNwI3AjkCPAI8Aj4CPwI/AkMCRAJIAkoCTQJOAk4CUwJVAlUCWAJcAmECZgJpAmsCbAJtAnMCeAJ7AoIChAKHApUClgKYApwCoQKlAqoCtwK4AsACygLRAtkC2wLdAgYDCwMNAw8DFAMWAxkDGgMgAzkDSQNKA2UDZgN3A4IDpQOlA8sDzAMLBA0ESgSLBKAEsAS4BLsEvgTDBM0E3QQNBSgFQAVMBU4FVgVcBVwFZAVtBXcFjwWlBcMF0QXYBecF/AUfBi8GMAZSBlsGgQa2BtMG3Ab5BlkHZgduCDgKugqfC80LTA8kEJYQwRI="
         },
         "xaxis": "x",
         "y": {
          "dtype": "f8",
          "bdata": "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"
         },
         "yaxis": "y",
         "type": "scattergl"
        },
        {
         "hovertemplate": "variable=output_eval_time<br>output_tokens=%{x}<br>value=%{y}<extra></extra>",
         "legendgroup": "output_eval_time",
         "marker": {
          "color": "#ab63fa",
          "symbol": "circle"
         },
         "mode": "markers",
         "name": "output_eval_time",
         "showlegend": true,
         "x": {
          "dtype": "i2",
          "bdata": "JwAeAToAzQE2ANECJwDaACkAYgEfAPAANQB9AQkAjwAZAAEBCQBFASMACAFMAHwBFgA2AR0AYgArAGYBOgCXAS4AxQFDABUCMAChAhoAKQEFAIoAIAAMAA8AJgEMAFkBPwBwATgAJQI1AHkBKQB0AQsANAFDAAYCLgBsAhUAZgHEAB0CjQBrAh8BtwH9AAYDDgFVAocAhwLVABcC8wDKAtgA5AGUAAsDqAD8AQMBZQPEAD4CWwBpAasA+QH/AIIDSgNcBWYDWQfMA3cDDQPNBH0AfgAKAAoAMQCWAgMAcQEyAP0BBAA2AQMACQAtAHMCHACyADAA1gAyAFgCLgCdAAwABwAzAPEBBAAMAQUAxQAXAIUBCgAbAQkAZwA7AH0BKwALATkA+gExAHoBNgDxAScAiwALANQALgB8AQ4AKwEUABkBMQAUAjoAHwI6AOMBJQBoAaoAeAKhADMCegDSAZsALQKUAOUBvQAaA4sAFAO+ABkDrwDzAbUADQS7AEoEmQA5A30A9gBtACoC0gDbAncAsgA8AosEtwAgA8gBHwaRATcCWwGEATsAggJmABgCTQCcAkAAewJBANABPwA/Aj8ADwM2AKoCPQCYAjsARAJTANkCWQDrATcApgFOALgCSwA3Aj8ATgJxANgBRwBVAlEAPAI0AGYCSABNAjUAwAJEAGkCNgBOAjUAswFgAA4CTgDdAjkADAJBAAICTQBcAk0AIwI1ABkCigHcBikBTAU5ARYDKAEvBnUB0wYRAd0EwgG4BFQBZgeDAW4IMAHRBa4BwwQbAXcFOAFbBhMBoAROAU4FWwHDBQ0FlhCPBUwPsASfC+cFwRLqAEYBRwAdAkUA2QFFAIQCSQDzAT4ApQJCAMsBOQA5AjQApgE+ALkBVgDcAUMA7AE3AN0BTABKAi8ASAJNAD8CLQCwASoAQAEyAFMCPABDAikAtwI0AG0COQDqATIAHwI6AK4BRwAnAjAAEAI8AAsCMQA/ASoAvgE8AJUCTQBdATMAYQJcAVYFfQFSBm4BpQVOAfwFhQFABXMBXAWLAWQFZQG7BAEBCwR1AYEGXwEwBmIBtgZ3AW0FXwH5BuoApQPwACgFywM4Cr4EzQtJA7oKpQMkEKAA2AU="
         },
         "xaxis": "x",
         "y": {
          "dtype": "f8",
          "bdata": "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"
         },
         "yaxis": "y",
         "type": "scattergl"
        },
        {
         "hovertemplate": "<b>LOWESS trendline</b><br><br>variable=output_eval_time<br>output_tokens=%{x}<br>value=%{y} <b>(trend)</b><extra></extra>",
         "legendgroup": "output_eval_time",
         "marker": {
          "color": "#ab63fa",
          "symbol": "circle"
         },
         "mode": "lines",
         "name": "output_eval_time",
         "showlegend": false,
         "x": {
          "dtype": "i2",
          "bdata": "AwADAAQABAAFAAUABwAJAAkACQAJAAoACgAKAAsACwAMAAwADAAOAA8AFAAVABYAFwAZABoAHAAdAB8AIAAjACUAJwAnACcAKQApACkAKgAqACsAKwAtAC0ALgAuAC4ALgAvADAAMAAwADEAMQAxADEAMgAyADIAMgAzADMANAA0ADQANQA1ADUANQA1ADYANgA2ADYANwA3ADgAOQA5ADkAOQA6ADoAOgA6ADoAOwA7ADsAPAA8ADwAPQA+AD4APwA/AD8APwBAAEEAQQBCAEMAQwBDAEQARQBFAEcARwBHAEgASQBLAEwATABNAE0ATQBNAE0ATgBOAFEAUwBWAFkAWwBgAGIAZgBnAG0AcQB3AHoAfQB9AH4AhwCKAIsAiwCNAI8AlACUAJkAmwCdAKAAoQCoAKoAqwCvALIAsgC1ALcAuwC9AL4AxADEAMUA0gDUANUA1gDYANoA6gDqAPAA8ADzAPYA/QD/AAEBAQEDAQgBCwEMAQ4BEQETARkBGwEbAR4BHwEmASgBKQEpASsBMAE0ATYBNgE4ATkBPwFAAUUBRgFOAU4BVAFZAVsBWwFcAV0BXwFfAWIBYgFlAWYBZgFoAWkBbgFwAXEBcwF0AXUBdQF3AXkBegF8AXwBfQF9AX0BgwGEAYUBhQGKAYsBkQGXAaYBpgGuAa4BsAGzAbcBuQG+AcIBxQHIAcsBzQHQAdIB2AHZAdwB3QHjAeQB5QHqAesB7AHxAfEB8wHzAfkB+gH8Af0BAgIGAgsCDAIOAhACFAIVAhcCGAIZAh0CHQIfAh8CIwIlAicCKgItAjMCNwI3AjkCPAI8Aj4CPwI/AkMCRAJIAkoCTQJOAk4CUwJVAlUCWAJcAmECZgJpAmsCbAJtAnMCeAJ7AoIChAKHApUClgKYApwCoQKlAqoCtwK4AsACygLRAtkC2wLdAgYDCwMNAw8DFAMWAxkDGgMgAzkDSQNKA2UDZgN3A4IDpQOlA8sDzAMLBA0ESgSLBKAEsAS4BLsEvgTDBM0E3QQNBSgFQAVMBU4FVgVcBVwFZAVtBXcFjwWlBcMF0QXYBecF/AUfBi8GMAZSBlsGgQa2BtMG3Ab5BlkHZgduCDgKugqfC80LTA8kEJYQwRI="
         },
         "xaxis": "x",
         "y": {
          "dtype": "f8",
          "bdata": "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"
         },
         "yaxis": "y",
         "type": "scattergl"
        }
       ],
       "layout": {
        "template": {
         "data": {
          "histogram2dcontour": [
           {
            "type": "histogram2dcontour",
            "colorbar": {
             "outlinewidth": 0,
             "ticks": ""
            },
            "colorscale": [
             [
              0.0,
              "#0d0887"
             ],
             [
              0.1111111111111111,
              "#46039f"
             ],
             [
              0.2222222222222222,
              "#7201a8"
             ],
             [
              0.3333333333333333,
              "#9c179e"
             ],
             [
              0.4444444444444444,
              "#bd3786"
             ],
             [
              0.5555555555555556,
              "#d8576b"
             ],
             [
              0.6666666666666666,
              "#ed7953"
             ],
             [
              0.7777777777777778,
              "#fb9f3a"
             ],
             [
              0.8888888888888888,
              "#fdca26"
             ],
             [
              1.0,
              "#f0f921"
             ]
            ]
           }
          ],
          "choropleth": [
           {
            "type": "choropleth",
            "colorbar": {
             "outlinewidth": 0,
             "ticks": ""
            }
           }
          ],
          "histogram2d": [
           {
            "type": "histogram2d",
            "colorbar": {
             "outlinewidth": 0,
             "ticks": ""
            },
            "colorscale": [
             [
              0.0,
              "#0d0887"
             ],
             [
              0.1111111111111111,
              "#46039f"
             ],
             [
              0.2222222222222222,
              "#7201a8"
             ],
             [
              0.3333333333333333,
              "#9c179e"
             ],
             [
              0.4444444444444444,
              "#bd3786"
             ],
             [
              0.5555555555555556,
              "#d8576b"
             ],
             [
              0.6666666666666666,
              "#ed7953"
             ],
             [
              0.7777777777777778,
              "#fb9f3a"
             ],
             [
              0.8888888888888888,
              "#fdca26"
             ],
             [
              1.0,
              "#f0f921"
             ]
            ]
           }
          ],
          "heatmap": [
           {
            "type": "heatmap",
            "colorbar": {
             "outlinewidth": 0,
             "ticks": ""
            },
            "colorscale": [
             [
              0.0,
              "#0d0887"
             ],
             [
              0.1111111111111111,
              "#46039f"
             ],
             [
              0.2222222222222222,
              "#7201a8"
             ],
             [
              0.3333333333333333,
              "#9c179e"
             ],
             [
              0.4444444444444444,
              "#bd3786"
             ],
             [
              0.5555555555555556,
              "#d8576b"
             ],
             [
              0.6666666666666666,
              "#ed7953"
             ],
             [
              0.7777777777777778,
              "#fb9f3a"
             ],
             [
              0.8888888888888888,
              "#fdca26"
             ],
             [
              1.0,
              "#f0f921"
             ]
            ]
           }
          ],
          "contourcarpet": [
           {
            "type": "contourcarpet",
            "colorbar": {
             "outlinewidth": 0,
             "ticks": ""
            }
           }
          ],
          "contour": [
           {
            "type": "contour",
            "colorbar": {
             "outlinewidth": 0,
             "ticks": ""
            },
            "colorscale": [
             [
              0.0,
              "#0d0887"
             ],
             [
              0.1111111111111111,
              "#46039f"
             ],
             [
              0.2222222222222222,
              "#7201a8"
             ],
             [
              0.3333333333333333,
              "#9c179e"
             ],
             [
              0.4444444444444444,
              "#bd3786"
             ],
             [
              0.5555555555555556,
              "#d8576b"
             ],
             [
              0.6666666666666666,
              "#ed7953"
             ],
             [
              0.7777777777777778,
              "#fb9f3a"
             ],
             [
              0.8888888888888888,
              "#fdca26"
             ],
             [
              1.0,
              "#f0f921"
             ]
            ]
           }
          ],
          "surface": [
           {
            "type": "surface",
            "colorbar": {
             "outlinewidth": 0,
             "ticks": ""
            },
            "colorscale": [
             [
              0.0,
              "#0d0887"
             ],
             [
              0.1111111111111111,
              "#46039f"
             ],
             [
              0.2222222222222222,
              "#7201a8"
             ],
             [
              0.3333333333333333,
              "#9c179e"
             ],
             [
              0.4444444444444444,
              "#bd3786"
             ],
             [
              0.5555555555555556,
              "#d8576b"
             ],
             [
              0.6666666666666666,
              "#ed7953"
             ],
             [
              0.7777777777777778,
              "#fb9f3a"
             ],
             [
              0.8888888888888888,
              "#fdca26"
             ],
             [
              1.0,
              "#f0f921"
             ]
            ]
           }
          ],
          "mesh3d": [
           {
            "type": "mesh3d",
            "colorbar": {
             "outlinewidth": 0,
             "ticks": ""
            }
           }
          ],
          "scatter": [
           {
            "marker": {
             "line": {
              "color": "#283442"
             }
            },
            "type": "scatter"
           }
          ],
          "parcoords": [
           {
            "type": "parcoords",
            "line": {
             "colorbar": {
              "outlinewidth": 0,
              "ticks": ""
             }
            }
           }
          ],
          "scatterpolargl": [
           {
            "type": "scatterpolargl",
            "marker": {
             "colorbar": {
              "outlinewidth": 0,
              "ticks": ""
             }
            }
           }
          ],
          "bar": [
           {
            "error_x": {
             "color": "#f2f5fa"
            },
            "error_y": {
             "color": "#f2f5fa"
            },
            "marker": {
             "line": {
              "color": "rgb(17,17,17)",
              "width": 0.5
             },
             "pattern": {
              "fillmode": "overlay",
              "size": 10,
              "solidity": 0.2
             }
            },
            "type": "bar"
           }
          ],
          "scattergeo": [
           {
            "type": "scattergeo",
            "marker": {
             "colorbar": {
              "outlinewidth": 0,
              "ticks": ""
             }
            }
           }
          ],
          "scatterpolar": [
           {
            "type": "scatterpolar",
            "marker": {
             "colorbar": {
              "outlinewidth": 0,
              "ticks": ""
             }
            }
           }
          ],
          "histogram": [
           {
            "marker": {
             "pattern": {
              "fillmode": "overlay",
              "size": 10,
              "solidity": 0.2
             }
            },
            "type": "histogram"
           }
          ],
          "scattergl": [
           {
            "marker": {
             "line": {
              "color": "#283442"
             }
            },
            "type": "scattergl"
           }
          ],
          "scatter3d": [
           {
            "type": "scatter3d",
            "line": {
             "colorbar": {
              "outlinewidth": 0,
              "ticks": ""
             }
            },
            "marker": {
             "colorbar": {
              "outlinewidth": 0,
              "ticks": ""
             }
            }
           }
          ],
          "scattermap": [
           {
            "type": "scattermap",
            "marker": {
             "colorbar": {
              "outlinewidth": 0,
              "ticks": ""
             }
            }
           }
          ],
          "scattermapbox": [
           {
            "type": "scattermapbox",
            "marker": {
             "colorbar": {
              "outlinewidth": 0,
              "ticks": ""
             }
            }
           }
          ],
          "scatterternary": [
           {
            "type": "scatterternary",
            "marker": {
             "colorbar": {
              "outlinewidth": 0,
              "ticks": ""
             }
            }
           }
          ],
          "scattercarpet": [
           {
            "type": "scattercarpet",
            "marker": {
             "colorbar": {
              "outlinewidth": 0,
              "ticks": ""
             }
            }
           }
          ],
          "carpet": [
           {
            "aaxis": {
             "endlinecolor": "#A2B1C6",
             "gridcolor": "#506784",
             "linecolor": "#506784",
             "minorgridcolor": "#506784",
             "startlinecolor": "#A2B1C6"
            },
            "baxis": {
             "endlinecolor": "#A2B1C6",
             "gridcolor": "#506784",
             "linecolor": "#506784",
             "minorgridcolor": "#506784",
             "startlinecolor": "#A2B1C6"
            },
            "type": "carpet"
           }
          ],
          "table": [
           {
            "cells": {
             "fill": {
              "color": "#506784"
             },
             "line": {
              "color": "rgb(17,17,17)"
             }
            },
            "header": {
             "fill": {
              "color": "#2a3f5f"
             },
             "line": {
              "color": "rgb(17,17,17)"
             }
            },
            "type": "table"
           }
          ],
          "barpolar": [
           {
            "marker": {
             "line": {
              "color": "rgb(17,17,17)",
              "width": 0.5
             },
             "pattern": {
              "fillmode": "overlay",
              "size": 10,
              "solidity": 0.2
             }
            },
            "type": "barpolar"
           }
          ],
          "pie": [
           {
            "automargin": true,
            "type": "pie"
           }
          ]
         },
         "layout": {
          "autotypenumbers": "strict",
          "colorway": [
           "#636efa",
           "#EF553B",
           "#00cc96",
           "#ab63fa",
           "#FFA15A",
           "#19d3f3",
           "#FF6692",
           "#B6E880",
           "#FF97FF",
           "#FECB52"
          ],
          "font": {
           "color": "#f2f5fa"
          },
          "hovermode": "closest",
          "hoverlabel": {
           "align": "left"
          },
          "paper_bgcolor": "rgb(17,17,17)",
          "plot_bgcolor": "rgb(17,17,17)",
          "polar": {
           "bgcolor": "rgb(17,17,17)",
           "angularaxis": {
            "gridcolor": "#506784",
            "linecolor": "#506784",
            "ticks": ""
           },
           "radialaxis": {
            "gridcolor": "#506784",
            "linecolor": "#506784",
            "ticks": ""
           }
          },
          "ternary": {
           "bgcolor": "rgb(17,17,17)",
           "aaxis": {
            "gridcolor": "#506784",
            "linecolor": "#506784",
            "ticks": ""
           },
           "baxis": {
            "gridcolor": "#506784",
            "linecolor": "#506784",
            "ticks": ""
           },
           "caxis": {
            "gridcolor": "#506784",
            "linecolor": "#506784",
            "ticks": ""
           }
          },
          "coloraxis": {
           "colorbar": {
            "outlinewidth": 0,
            "ticks": ""
           }
          },
          "colorscale": {
           "sequential": [
            [
             0.0,
             "#0d0887"
            ],
            [
             0.1111111111111111,
             "#46039f"
            ],
            [
             0.2222222222222222,
             "#7201a8"
            ],
            [
             0.3333333333333333,
             "#9c179e"
            ],
            [
             0.4444444444444444,
             "#bd3786"
            ],
            [
             0.5555555555555556,
             "#d8576b"
            ],
            [
             0.6666666666666666,
             "#ed7953"
            ],
            [
             0.7777777777777778,
             "#fb9f3a"
            ],
            [
             0.8888888888888888,
             "#fdca26"
            ],
            [
             1.0,
             "#f0f921"
            ]
           ],
           "sequentialminus": [
            [
             0.0,
             "#0d0887"
            ],
            [
             0.1111111111111111,
             "#46039f"
            ],
            [
             0.2222222222222222,
             "#7201a8"
            ],
            [
             0.3333333333333333,
             "#9c179e"
            ],
            [
             0.4444444444444444,
             "#bd3786"
            ],
            [
             0.5555555555555556,
             "#d8576b"
            ],
            [
             0.6666666666666666,
             "#ed7953"
            ],
            [
             0.7777777777777778,
             "#fb9f3a"
            ],
            [
             0.8888888888888888,
             "#fdca26"
            ],
            [
             1.0,
             "#f0f921"
            ]
           ],
           "diverging": [
            [
             0,
             "#8e0152"
            ],
            [
             0.1,
             "#c51b7d"
            ],
            [
             0.2,
             "#de77ae"
            ],
            [
             0.3,
             "#f1b6da"
            ],
            [
             0.4,
             "#fde0ef"
            ],
            [
             0.5,
             "#f7f7f7"
            ],
            [
             0.6,
             "#e6f5d0"
            ],
            [
             0.7,
             "#b8e186"
            ],
            [
             0.8,
             "#7fbc41"
            ],
            [
             0.9,
             "#4d9221"
            ],
            [
             1,
             "#276419"
            ]
           ]
          },
          "xaxis": {
           "gridcolor": "#283442",
           "linecolor": "#506784",
           "ticks": "",
           "title": {
            "standoff": 15
           },
           "zerolinecolor": "#283442",
           "automargin": true,
           "zerolinewidth": 2
          },
          "yaxis": {
           "gridcolor": "#283442",
           "linecolor": "#506784",
           "ticks": "",
           "title": {
            "standoff": 15
           },
           "zerolinecolor": "#283442",
           "automargin": true,
           "zerolinewidth": 2
          },
          "scene": {
           "xaxis": {
            "backgroundcolor": "rgb(17,17,17)",
            "gridcolor": "#506784",
            "linecolor": "#506784",
            "showbackground": true,
            "ticks": "",
            "zerolinecolor": "#C8D4E3",
            "gridwidth": 2
           },
           "yaxis": {
            "backgroundcolor": "rgb(17,17,17)",
            "gridcolor": "#506784",
            "linecolor": "#506784",
            "showbackground": true,
            "ticks": "",
            "zerolinecolor": "#C8D4E3",
            "gridwidth": 2
           },
           "zaxis": {
            "backgroundcolor": "rgb(17,17,17)",
            "gridcolor": "#506784",
            "linecolor": "#506784",
            "showbackground": true,
            "ticks": "",
            "zerolinecolor": "#C8D4E3",
            "gridwidth": 2
           }
          },
          "shapedefaults": {
           "line": {
            "color": "#f2f5fa"
           }
          },
          "annotationdefaults": {
           "arrowcolor": "#f2f5fa",
           "arrowhead": 0,
           "arrowwidth": 1
          },
          "geo": {
           "bgcolor": "rgb(17,17,17)",
           "landcolor": "rgb(17,17,17)",
           "subunitcolor": "#506784",
           "showland": true,
           "showlakes": true,
           "lakecolor": "rgb(17,17,17)"
          },
          "title": {
           "x": 0.05
          },
          "updatemenudefaults": {
           "bgcolor": "#506784",
           "borderwidth": 0
          },
          "sliderdefaults": {
           "bgcolor": "#C8D4E3",
           "borderwidth": 1,
           "bordercolor": "rgb(17,17,17)",
           "tickwidth": 0
          },
          "mapbox": {
           "style": "dark"
          }
         }
        },
        "xaxis": {
         "anchor": "y",
         "domain": [
          0.0,
          1.0
         ],
         "title": {
          "text": "output_tokens"
         }
        },
        "yaxis": {
         "anchor": "x",
         "domain": [
          0.0,
          1.0
         ],
         "title": {
          "text": "value"
         }
        },
        "legend": {
         "title": {
          "text": "variable"
         },
         "tracegroupgap": 0
        },
        "margin": {
         "t": 60
        }
       },
       "config": {
        "plotlyServerURL": "https://plot.ly"
       }
      }
     },
     "metadata": {},
     "output_type": "display_data",
     "jetTransient": {
      "display_id": null
     }
    },
    {
     "data": {
      "application/vnd.plotly.v1+json": {
       "data": [
        {
         "hovertemplate": "variable=total_time<br>input_tokens=%{x}<br>value=%{y}<extra></extra>",
         "legendgroup": "total_time",
         "marker": {
          "color": "#636efa",
          "symbol": "circle"
         },
         "mode": "markers",
         "name": "total_time",
         "showlegend": true,
         "x": {
          "dtype": "i2",
          "bdata": "WABbAFcAWgBMAE8AWQBcAE0AUABUAFcAUABTAFcAWgBWAFkAUgBVAFkAXABOAFEASwBOAFgAWwBRAFQAUQBUAE4AUQBPAFIAUABTAFYAWQBRAFQAUQBUAFsAXgBUAFcATwBSAFIAVQBRAFQAUgBVAFQAVwBOAFEAVABXAFQAVwD7Af4B8wH2AfMB9gHtAfAB+wH+AfMB9gHzAfYB7QHwAfsB/gHzAfYB8wH2Ae0B8AH7Af4B8wH2AfMB9gHtAfABiQeMB4kHjAeJB4wHiQeMB98d4h0iACUAIAAjACAAIwAhACQAIQAkACEAJAAgACMAIwAmACQAJwAgACMAIwAmACMAJgAhACQAIAAjACAAIwAiACUAIQAkACMAJgAfACIAIQAkACAAIwAfACIAIAAjACIAJQAlACgAIAAjACMAJgAhACQAIAAjACAAIwAgACMAHwAiAGcAagBsAG8AZABnAGcAagBpAGwAZQBoAGMAZgBnAGoAZQBoAGQAZwBnAGoAYABjAGUAaABoAGsAYQBkAGoAbQBZAVwBUwFWAUsBTgFTAVYBBQUIBWcAagBUAFcAXQBgAFYAWQBTAFYAUwBWAE8AUgBWAFkAWABbAE8AUgBUAFcAUwBWAFcAWgBQAFMATgBRAEsATgBSAFUATQBQAFQAVwBSAFUAWwBeAE8AUgBNAFAASwBOAEgASwBRAFQAUABTAE4AUQBLAE4ATABPAEoATQBLAE4AGAIbAu0B8AHmAekBwgHFARgCGwLtAfAB5gHpAcIBxQEYAhsC7QHwAeYB6QHCAcUBGAIbAu0B8AHmAekBwgHFAWgHawdoB2sHaAdrB2gHawdbHV4dJgApACEAJAAlACgAIgAlACIAJQAkACcAIQAkACEAJAAiACUAIQAkACQAJwAkACcAIwAmACQAJwAjACYALQAwACQAJwAiACUAIgAlACEAJAAiACUAIwAmACEAJAAkACcAJQAoACIAJQAkACcAIwAmACMAJgAkACcAJwAqACMAJgB1AHgAgQCEAHIAdQB+AIEAewB+AHcAegB0AHcAegB9AHkAfAB2AHkAcgB1AH0AgAB1AHgAbgBxAHUAeAB4AHsAoQGkAZsBngGZAZwBiwGOARsGHgY="
         },
         "xaxis": "x",
         "y": {
          "dtype": "f8",
          "bdata": "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"
         },
         "yaxis": "y",
         "type": "scattergl"
        },
        {
         "hovertemplate": "<b>LOWESS trendline</b><br><br>variable=total_time<br>input_tokens=%{x}<br>value=%{y} <b>(trend)</b><extra></extra>",
         "legendgroup": "total_time",
         "marker": {
          "color": "#636efa",
          "symbol": "circle"
         },
         "mode": "lines",
         "name": "total_time",
         "showlegend": false,
         "x": {
          "dtype": "i2",
          "bdata": "HwAfAB8AIAAgACAAIAAgACAAIAAgACAAIAAgACAAIQAhACEAIQAhACEAIQAhACEAIQAhACEAIQAiACIAIgAiACIAIgAiACIAIgAiACIAIgAiACMAIwAjACMAIwAjACMAIwAjACMAIwAjACMAIwAjACMAIwAjACMAIwAjACMAIwAkACQAJAAkACQAJAAkACQAJAAkACQAJAAkACQAJAAkACQAJAAkACQAJAAkACUAJQAlACUAJQAlACUAJQAlACUAJQAlACUAJgAmACYAJgAmACYAJgAmACYAJgAmACYAJwAnACcAJwAnACcAJwAnACcAJwAoACgAKAApACoALQAwAEgASgBLAEsASwBLAEsASwBMAEwATQBNAE0ATQBOAE4ATgBOAE4ATgBOAE4ATgBOAE8ATwBPAE8ATwBPAE8AUABQAFAAUABQAFAAUABRAFEAUQBRAFEAUQBRAFEAUQBRAFEAUgBSAFIAUgBSAFIAUgBSAFIAUgBTAFMAUwBTAFMAUwBTAFQAVABUAFQAVABUAFQAVABUAFQAVABUAFQAVABVAFUAVQBVAFUAVgBWAFYAVgBWAFYAVgBXAFcAVwBXAFcAVwBXAFcAVwBXAFcAWABYAFgAWQBZAFkAWQBZAFkAWgBaAFoAWwBbAFsAWwBbAFwAXABdAF4AXgBgAGAAYQBjAGMAZABkAGQAZQBlAGUAZgBnAGcAZwBnAGcAZwBnAGgAaABoAGgAaQBqAGoAagBqAGoAagBrAGwAbABtAG4AbwBxAHIAcgB0AHUAdQB1AHUAdQB2AHcAdwB4AHgAeAB4AHkAeQB6AHoAewB7AHwAfQB9AH4AfgCAAIEAgQCEAEsBTgFTAVMBVgFWAVkBXAGLAY4BmQGbAZwBngGhAaQBwgHCAcIBwgHFAcUBxQHFAeYB5gHmAeYB6QHpAekB6QHtAe0B7QHtAe0B7QHtAe0B8AHwAfAB8AHwAfAB8AHwAfMB8wHzAfMB8wHzAfMB8wH2AfYB9gH2AfYB9gH2AfYB+wH7AfsB+wH+Af4B/gH+ARgCGAIYAhgCGwIbAhsCGwIFBQgFGwYeBmgHaAdoB2gHawdrB2sHaweJB4kHiQeJB4wHjAeMB4wHWx1eHd8d4h0="
         },
         "xaxis": "x",
         "y": {
          "dtype": "f8",
          "bdata": "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"
         },
         "yaxis": "y",
         "type": "scattergl"
        },
        {
         "hovertemplate": "variable=load_time<br>input_tokens=%{x}<br>value=%{y}<extra></extra>",
         "legendgroup": "load_time",
         "marker": {
          "color": "#EF553B",
          "symbol": "circle"
         },
         "mode": "markers",
         "name": "load_time",
         "showlegend": true,
         "x": {
          "dtype": "i2",
          "bdata": "WABbAFcAWgBMAE8AWQBcAE0AUABUAFcAUABTAFcAWgBWAFkAUgBVAFkAXABOAFEASwBOAFgAWwBRAFQAUQBUAE4AUQBPAFIAUABTAFYAWQBRAFQAUQBUAFsAXgBUAFcATwBSAFIAVQBRAFQAUgBVAFQAVwBOAFEAVABXAFQAVwD7Af4B8wH2AfMB9gHtAfAB+wH+AfMB9gHzAfYB7QHwAfsB/gHzAfYB8wH2Ae0B8AH7Af4B8wH2AfMB9gHtAfABiQeMB4kHjAeJB4wHiQeMB98d4h0iACUAIAAjACAAIwAhACQAIQAkACEAJAAgACMAIwAmACQAJwAgACMAIwAmACMAJgAhACQAIAAjACAAIwAiACUAIQAkACMAJgAfACIAIQAkACAAIwAfACIAIAAjACIAJQAlACgAIAAjACMAJgAhACQAIAAjACAAIwAgACMAHwAiAGcAagBsAG8AZABnAGcAagBpAGwAZQBoAGMAZgBnAGoAZQBoAGQAZwBnAGoAYABjAGUAaABoAGsAYQBkAGoAbQBZAVwBUwFWAUsBTgFTAVYBBQUIBWcAagBUAFcAXQBgAFYAWQBTAFYAUwBWAE8AUgBWAFkAWABbAE8AUgBUAFcAUwBWAFcAWgBQAFMATgBRAEsATgBSAFUATQBQAFQAVwBSAFUAWwBeAE8AUgBNAFAASwBOAEgASwBRAFQAUABTAE4AUQBLAE4ATABPAEoATQBLAE4AGAIbAu0B8AHmAekBwgHFARgCGwLtAfAB5gHpAcIBxQEYAhsC7QHwAeYB6QHCAcUBGAIbAu0B8AHmAekBwgHFAWgHawdoB2sHaAdrB2gHawdbHV4dJgApACEAJAAlACgAIgAlACIAJQAkACcAIQAkACEAJAAiACUAIQAkACQAJwAkACcAIwAmACQAJwAjACYALQAwACQAJwAiACUAIgAlACEAJAAiACUAIwAmACEAJAAkACcAJQAoACIAJQAkACcAIwAmACMAJgAkACcAJwAqACMAJgB1AHgAgQCEAHIAdQB+AIEAewB+AHcAegB0AHcAegB9AHkAfAB2AHkAcgB1AH0AgAB1AHgAbgBxAHUAeAB4AHsAoQGkAZsBngGZAZwBiwGOARsGHgY="
         },
         "xaxis": "x",
         "y": {
          "dtype": "f8",
          "bdata": "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"
         },
         "yaxis": "y",
         "type": "scattergl"
        },
        {
         "hovertemplate": "<b>LOWESS trendline</b><br><br>variable=load_time<br>input_tokens=%{x}<br>value=%{y} <b>(trend)</b><extra></extra>",
         "legendgroup": "load_time",
         "marker": {
          "color": "#EF553B",
          "symbol": "circle"
         },
         "mode": "lines",
         "name": "load_time",
         "showlegend": false,
         "x": {
          "dtype": "i2",
          "bdata": "HwAfAB8AIAAgACAAIAAgACAAIAAgACAAIAAgACAAIQAhACEAIQAhACEAIQAhACEAIQAhACEAIQAiACIAIgAiACIAIgAiACIAIgAiACIAIgAiACMAIwAjACMAIwAjACMAIwAjACMAIwAjACMAIwAjACMAIwAjACMAIwAjACMAIwAkACQAJAAkACQAJAAkACQAJAAkACQAJAAkACQAJAAkACQAJAAkACQAJAAkACUAJQAlACUAJQAlACUAJQAlACUAJQAlACUAJgAmACYAJgAmACYAJgAmACYAJgAmACYAJwAnACcAJwAnACcAJwAnACcAJwAoACgAKAApACoALQAwAEgASgBLAEsASwBLAEsASwBMAEwATQBNAE0ATQBOAE4ATgBOAE4ATgBOAE4ATgBOAE8ATwBPAE8ATwBPAE8AUABQAFAAUABQAFAAUABRAFEAUQBRAFEAUQBRAFEAUQBRAFEAUgBSAFIAUgBSAFIAUgBSAFIAUgBTAFMAUwBTAFMAUwBTAFQAVABUAFQAVABUAFQAVABUAFQAVABUAFQAVABVAFUAVQBVAFUAVgBWAFYAVgBWAFYAVgBXAFcAVwBXAFcAVwBXAFcAVwBXAFcAWABYAFgAWQBZAFkAWQBZAFkAWgBaAFoAWwBbAFsAWwBbAFwAXABdAF4AXgBgAGAAYQBjAGMAZABkAGQAZQBlAGUAZgBnAGcAZwBnAGcAZwBnAGgAaABoAGgAaQBqAGoAagBqAGoAagBrAGwAbABtAG4AbwBxAHIAcgB0AHUAdQB1AHUAdQB2AHcAdwB4AHgAeAB4AHkAeQB6AHoAewB7AHwAfQB9AH4AfgCAAIEAgQCEAEsBTgFTAVMBVgFWAVkBXAGLAY4BmQGbAZwBngGhAaQBwgHCAcIBwgHFAcUBxQHFAeYB5gHmAeYB6QHpAekB6QHtAe0B7QHtAe0B7QHtAe0B8AHwAfAB8AHwAfAB8AHwAfMB8wHzAfMB8wHzAfMB8wH2AfYB9gH2AfYB9gH2AfYB+wH7AfsB+wH+Af4B/gH+ARgCGAIYAhgCGwIbAhsCGwIFBQgFGwYeBmgHaAdoB2gHawdrB2sHaweJB4kHiQeJB4wHjAeMB4wHWx1eHd8d4h0="
         },
         "xaxis": "x",
         "y": {
          "dtype": "f8",
          "bdata": "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"
         },
         "yaxis": "y",
         "type": "scattergl"
        },
        {
         "hovertemplate": "variable=prompt_eval_time<br>input_tokens=%{x}<br>value=%{y}<extra></extra>",
         "legendgroup": "prompt_eval_time",
         "marker": {
          "color": "#00cc96",
          "symbol": "circle"
         },
         "mode": "markers",
         "name": "prompt_eval_time",
         "showlegend": true,
         "x": {
          "dtype": "i2",
          "bdata": "WABbAFcAWgBMAE8AWQBcAE0AUABUAFcAUABTAFcAWgBWAFkAUgBVAFkAXABOAFEASwBOAFgAWwBRAFQAUQBUAE4AUQBPAFIAUABTAFYAWQBRAFQAUQBUAFsAXgBUAFcATwBSAFIAVQBRAFQAUgBVAFQAVwBOAFEAVABXAFQAVwD7Af4B8wH2AfMB9gHtAfAB+wH+AfMB9gHzAfYB7QHwAfsB/gHzAfYB8wH2Ae0B8AH7Af4B8wH2AfMB9gHtAfABiQeMB4kHjAeJB4wHiQeMB98d4h0iACUAIAAjACAAIwAhACQAIQAkACEAJAAgACMAIwAmACQAJwAgACMAIwAmACMAJgAhACQAIAAjACAAIwAiACUAIQAkACMAJgAfACIAIQAkACAAIwAfACIAIAAjACIAJQAlACgAIAAjACMAJgAhACQAIAAjACAAIwAgACMAHwAiAGcAagBsAG8AZABnAGcAagBpAGwAZQBoAGMAZgBnAGoAZQBoAGQAZwBnAGoAYABjAGUAaABoAGsAYQBkAGoAbQBZAVwBUwFWAUsBTgFTAVYBBQUIBWcAagBUAFcAXQBgAFYAWQBTAFYAUwBWAE8AUgBWAFkAWABbAE8AUgBUAFcAUwBWAFcAWgBQAFMATgBRAEsATgBSAFUATQBQAFQAVwBSAFUAWwBeAE8AUgBNAFAASwBOAEgASwBRAFQAUABTAE4AUQBLAE4ATABPAEoATQBLAE4AGAIbAu0B8AHmAekBwgHFARgCGwLtAfAB5gHpAcIBxQEYAhsC7QHwAeYB6QHCAcUBGAIbAu0B8AHmAekBwgHFAWgHawdoB2sHaAdrB2gHawdbHV4dJgApACEAJAAlACgAIgAlACIAJQAkACcAIQAkACEAJAAiACUAIQAkACQAJwAkACcAIwAmACQAJwAjACYALQAwACQAJwAiACUAIgAlACEAJAAiACUAIwAmACEAJAAkACcAJQAoACIAJQAkACcAIwAmACMAJgAkACcAJwAqACMAJgB1AHgAgQCEAHIAdQB+AIEAewB+AHcAegB0AHcAegB9AHkAfAB2AHkAcgB1AH0AgAB1AHgAbgBxAHUAeAB4AHsAoQGkAZsBngGZAZwBiwGOARsGHgY="
         },
         "xaxis": "x",
         "y": {
          "dtype": "f8",
          "bdata": "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"
         },
         "yaxis": "y",
         "type": "scattergl"
        },
        {
         "hovertemplate": "<b>LOWESS trendline</b><br><br>variable=prompt_eval_time<br>input_tokens=%{x}<br>value=%{y} <b>(trend)</b><extra></extra>",
         "legendgroup": "prompt_eval_time",
         "marker": {
          "color": "#00cc96",
          "symbol": "circle"
         },
         "mode": "lines",
         "name": "prompt_eval_time",
         "showlegend": false,
         "x": {
          "dtype": "i2",
          "bdata": "HwAfAB8AIAAgACAAIAAgACAAIAAgACAAIAAgACAAIQAhACEAIQAhACEAIQAhACEAIQAhACEAIQAiACIAIgAiACIAIgAiACIAIgAiACIAIgAiACMAIwAjACMAIwAjACMAIwAjACMAIwAjACMAIwAjACMAIwAjACMAIwAjACMAIwAkACQAJAAkACQAJAAkACQAJAAkACQAJAAkACQAJAAkACQAJAAkACQAJAAkACUAJQAlACUAJQAlACUAJQAlACUAJQAlACUAJgAmACYAJgAmACYAJgAmACYAJgAmACYAJwAnACcAJwAnACcAJwAnACcAJwAoACgAKAApACoALQAwAEgASgBLAEsASwBLAEsASwBMAEwATQBNAE0ATQBOAE4ATgBOAE4ATgBOAE4ATgBOAE8ATwBPAE8ATwBPAE8AUABQAFAAUABQAFAAUABRAFEAUQBRAFEAUQBRAFEAUQBRAFEAUgBSAFIAUgBSAFIAUgBSAFIAUgBTAFMAUwBTAFMAUwBTAFQAVABUAFQAVABUAFQAVABUAFQAVABUAFQAVABVAFUAVQBVAFUAVgBWAFYAVgBWAFYAVgBXAFcAVwBXAFcAVwBXAFcAVwBXAFcAWABYAFgAWQBZAFkAWQBZAFkAWgBaAFoAWwBbAFsAWwBbAFwAXABdAF4AXgBgAGAAYQBjAGMAZABkAGQAZQBlAGUAZgBnAGcAZwBnAGcAZwBnAGgAaABoAGgAaQBqAGoAagBqAGoAagBrAGwAbABtAG4AbwBxAHIAcgB0AHUAdQB1AHUAdQB2AHcAdwB4AHgAeAB4AHkAeQB6AHoAewB7AHwAfQB9AH4AfgCAAIEAgQCEAEsBTgFTAVMBVgFWAVkBXAGLAY4BmQGbAZwBngGhAaQBwgHCAcIBwgHFAcUBxQHFAeYB5gHmAeYB6QHpAekB6QHtAe0B7QHtAe0B7QHtAe0B8AHwAfAB8AHwAfAB8AHwAfMB8wHzAfMB8wHzAfMB8wH2AfYB9gH2AfYB9gH2AfYB+wH7AfsB+wH+Af4B/gH+ARgCGAIYAhgCGwIbAhsCGwIFBQgFGwYeBmgHaAdoB2gHawdrB2sHaweJB4kHiQeJB4wHjAeMB4wHWx1eHd8d4h0="
         },
         "xaxis": "x",
         "y": {
          "dtype": "f8",
          "bdata": "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"
         },
         "yaxis": "y",
         "type": "scattergl"
        },
        {
         "hovertemplate": "variable=output_eval_time<br>input_tokens=%{x}<br>value=%{y}<extra></extra>",
         "legendgroup": "output_eval_time",
         "marker": {
          "color": "#ab63fa",
          "symbol": "circle"
         },
         "mode": "markers",
         "name": "output_eval_time",
         "showlegend": true,
         "x": {
          "dtype": "i2",
          "bdata": "WABbAFcAWgBMAE8AWQBcAE0AUABUAFcAUABTAFcAWgBWAFkAUgBVAFkAXABOAFEASwBOAFgAWwBRAFQAUQBUAE4AUQBPAFIAUABTAFYAWQBRAFQAUQBUAFsAXgBUAFcATwBSAFIAVQBRAFQAUgBVAFQAVwBOAFEAVABXAFQAVwD7Af4B8wH2AfMB9gHtAfAB+wH+AfMB9gHzAfYB7QHwAfsB/gHzAfYB8wH2Ae0B8AH7Af4B8wH2AfMB9gHtAfABiQeMB4kHjAeJB4wHiQeMB98d4h0iACUAIAAjACAAIwAhACQAIQAkACEAJAAgACMAIwAmACQAJwAgACMAIwAmACMAJgAhACQAIAAjACAAIwAiACUAIQAkACMAJgAfACIAIQAkACAAIwAfACIAIAAjACIAJQAlACgAIAAjACMAJgAhACQAIAAjACAAIwAgACMAHwAiAGcAagBsAG8AZABnAGcAagBpAGwAZQBoAGMAZgBnAGoAZQBoAGQAZwBnAGoAYABjAGUAaABoAGsAYQBkAGoAbQBZAVwBUwFWAUsBTgFTAVYBBQUIBWcAagBUAFcAXQBgAFYAWQBTAFYAUwBWAE8AUgBWAFkAWABbAE8AUgBUAFcAUwBWAFcAWgBQAFMATgBRAEsATgBSAFUATQBQAFQAVwBSAFUAWwBeAE8AUgBNAFAASwBOAEgASwBRAFQAUABTAE4AUQBLAE4ATABPAEoATQBLAE4AGAIbAu0B8AHmAekBwgHFARgCGwLtAfAB5gHpAcIBxQEYAhsC7QHwAeYB6QHCAcUBGAIbAu0B8AHmAekBwgHFAWgHawdoB2sHaAdrB2gHawdbHV4dJgApACEAJAAlACgAIgAlACIAJQAkACcAIQAkACEAJAAiACUAIQAkACQAJwAkACcAIwAmACQAJwAjACYALQAwACQAJwAiACUAIgAlACEAJAAiACUAIwAmACEAJAAkACcAJQAoACIAJQAkACcAIwAmACMAJgAkACcAJwAqACMAJgB1AHgAgQCEAHIAdQB+AIEAewB+AHcAegB0AHcAegB9AHkAfAB2AHkAcgB1AH0AgAB1AHgAbgBxAHUAeAB4AHsAoQGkAZsBngGZAZwBiwGOARsGHgY="
         },
         "xaxis": "x",
         "y": {
          "dtype": "f8",
          "bdata": "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"
         },
         "yaxis": "y",
         "type": "scattergl"
        },
        {
         "hovertemplate": "<b>LOWESS trendline</b><br><br>variable=output_eval_time<br>input_tokens=%{x}<br>value=%{y} <b>(trend)</b><extra></extra>",
         "legendgroup": "output_eval_time",
         "marker": {
          "color": "#ab63fa",
          "symbol": "circle"
         },
         "mode": "lines",
         "name": "output_eval_time",
         "showlegend": false,
         "x": {
          "dtype": "i2",
          "bdata": "HwAfAB8AIAAgACAAIAAgACAAIAAgACAAIAAgACAAIQAhACEAIQAhACEAIQAhACEAIQAhACEAIQAiACIAIgAiACIAIgAiACIAIgAiACIAIgAiACMAIwAjACMAIwAjACMAIwAjACMAIwAjACMAIwAjACMAIwAjACMAIwAjACMAIwAkACQAJAAkACQAJAAkACQAJAAkACQAJAAkACQAJAAkACQAJAAkACQAJAAkACUAJQAlACUAJQAlACUAJQAlACUAJQAlACUAJgAmACYAJgAmACYAJgAmACYAJgAmACYAJwAnACcAJwAnACcAJwAnACcAJwAoACgAKAApACoALQAwAEgASgBLAEsASwBLAEsASwBMAEwATQBNAE0ATQBOAE4ATgBOAE4ATgBOAE4ATgBOAE8ATwBPAE8ATwBPAE8AUABQAFAAUABQAFAAUABRAFEAUQBRAFEAUQBRAFEAUQBRAFEAUgBSAFIAUgBSAFIAUgBSAFIAUgBTAFMAUwBTAFMAUwBTAFQAVABUAFQAVABUAFQAVABUAFQAVABUAFQAVABVAFUAVQBVAFUAVgBWAFYAVgBWAFYAVgBXAFcAVwBXAFcAVwBXAFcAVwBXAFcAWABYAFgAWQBZAFkAWQBZAFkAWgBaAFoAWwBbAFsAWwBbAFwAXABdAF4AXgBgAGAAYQBjAGMAZABkAGQAZQBlAGUAZgBnAGcAZwBnAGcAZwBnAGgAaABoAGgAaQBqAGoAagBqAGoAagBrAGwAbABtAG4AbwBxAHIAcgB0AHUAdQB1AHUAdQB2AHcAdwB4AHgAeAB4AHkAeQB6AHoAewB7AHwAfQB9AH4AfgCAAIEAgQCEAEsBTgFTAVMBVgFWAVkBXAGLAY4BmQGbAZwBngGhAaQBwgHCAcIBwgHFAcUBxQHFAeYB5gHmAeYB6QHpAekB6QHtAe0B7QHtAe0B7QHtAe0B8AHwAfAB8AHwAfAB8AHwAfMB8wHzAfMB8wHzAfMB8wH2AfYB9gH2AfYB9gH2AfYB+wH7AfsB+wH+Af4B/gH+ARgCGAIYAhgCGwIbAhsCGwIFBQgFGwYeBmgHaAdoB2gHawdrB2sHaweJB4kHiQeJB4wHjAeMB4wHWx1eHd8d4h0="
         },
         "xaxis": "x",
         "y": {
          "dtype": "f8",
          "bdata": "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"
         },
         "yaxis": "y",
         "type": "scattergl"
        }
       ],
       "layout": {
        "template": {
         "data": {
          "histogram2dcontour": [
           {
            "type": "histogram2dcontour",
            "colorbar": {
             "outlinewidth": 0,
             "ticks": ""
            },
            "colorscale": [
             [
              0.0,
              "#0d0887"
             ],
             [
              0.1111111111111111,
              "#46039f"
             ],
             [
              0.2222222222222222,
              "#7201a8"
             ],
             [
              0.3333333333333333,
              "#9c179e"
             ],
             [
              0.4444444444444444,
              "#bd3786"
             ],
             [
              0.5555555555555556,
              "#d8576b"
             ],
             [
              0.6666666666666666,
              "#ed7953"
             ],
             [
              0.7777777777777778,
              "#fb9f3a"
             ],
             [
              0.8888888888888888,
              "#fdca26"
             ],
             [
              1.0,
              "#f0f921"
             ]
            ]
           }
          ],
          "choropleth": [
           {
            "type": "choropleth",
            "colorbar": {
             "outlinewidth": 0,
             "ticks": ""
            }
           }
          ],
          "histogram2d": [
           {
            "type": "histogram2d",
            "colorbar": {
             "outlinewidth": 0,
             "ticks": ""
            },
            "colorscale": [
             [
              0.0,
              "#0d0887"
             ],
             [
              0.1111111111111111,
              "#46039f"
             ],
             [
              0.2222222222222222,
              "#7201a8"
             ],
             [
              0.3333333333333333,
              "#9c179e"
             ],
             [
              0.4444444444444444,
              "#bd3786"
             ],
             [
              0.5555555555555556,
              "#d8576b"
             ],
             [
              0.6666666666666666,
              "#ed7953"
             ],
             [
              0.7777777777777778,
              "#fb9f3a"
             ],
             [
              0.8888888888888888,
              "#fdca26"
             ],
             [
              1.0,
              "#f0f921"
             ]
            ]
           }
          ],
          "heatmap": [
           {
            "type": "heatmap",
            "colorbar": {
             "outlinewidth": 0,
             "ticks": ""
            },
            "colorscale": [
             [
              0.0,
              "#0d0887"
             ],
             [
              0.1111111111111111,
              "#46039f"
             ],
             [
              0.2222222222222222,
              "#7201a8"
             ],
             [
              0.3333333333333333,
              "#9c179e"
             ],
             [
              0.4444444444444444,
              "#bd3786"
             ],
             [
              0.5555555555555556,
              "#d8576b"
             ],
             [
              0.6666666666666666,
              "#ed7953"
             ],
             [
              0.7777777777777778,
              "#fb9f3a"
             ],
             [
              0.8888888888888888,
              "#fdca26"
             ],
             [
              1.0,
              "#f0f921"
             ]
            ]
           }
          ],
          "contourcarpet": [
           {
            "type": "contourcarpet",
            "colorbar": {
             "outlinewidth": 0,
             "ticks": ""
            }
           }
          ],
          "contour": [
           {
            "type": "contour",
            "colorbar": {
             "outlinewidth": 0,
             "ticks": ""
            },
            "colorscale": [
             [
              0.0,
              "#0d0887"
             ],
             [
              0.1111111111111111,
              "#46039f"
             ],
             [
              0.2222222222222222,
              "#7201a8"
             ],
             [
              0.3333333333333333,
              "#9c179e"
             ],
             [
              0.4444444444444444,
              "#bd3786"
             ],
             [
              0.5555555555555556,
              "#d8576b"
             ],
             [
              0.6666666666666666,
              "#ed7953"
             ],
             [
              0.7777777777777778,
              "#fb9f3a"
             ],
             [
              0.8888888888888888,
              "#fdca26"
             ],
             [
              1.0,
              "#f0f921"
             ]
            ]
           }
          ],
          "surface": [
           {
            "type": "surface",
            "colorbar": {
             "outlinewidth": 0,
             "ticks": ""
            },
            "colorscale": [
             [
              0.0,
              "#0d0887"
             ],
             [
              0.1111111111111111,
              "#46039f"
             ],
             [
              0.2222222222222222,
              "#7201a8"
             ],
             [
              0.3333333333333333,
              "#9c179e"
             ],
             [
              0.4444444444444444,
              "#bd3786"
             ],
             [
              0.5555555555555556,
              "#d8576b"
             ],
             [
              0.6666666666666666,
              "#ed7953"
             ],
             [
              0.7777777777777778,
              "#fb9f3a"
             ],
             [
              0.8888888888888888,
              "#fdca26"
             ],
             [
              1.0,
              "#f0f921"
             ]
            ]
           }
          ],
          "mesh3d": [
           {
            "type": "mesh3d",
            "colorbar": {
             "outlinewidth": 0,
             "ticks": ""
            }
           }
          ],
          "scatter": [
           {
            "marker": {
             "line": {
              "color": "#283442"
             }
            },
            "type": "scatter"
           }
          ],
          "parcoords": [
           {
            "type": "parcoords",
            "line": {
             "colorbar": {
              "outlinewidth": 0,
              "ticks": ""
             }
            }
           }
          ],
          "scatterpolargl": [
           {
            "type": "scatterpolargl",
            "marker": {
             "colorbar": {
              "outlinewidth": 0,
              "ticks": ""
             }
            }
           }
          ],
          "bar": [
           {
            "error_x": {
             "color": "#f2f5fa"
            },
            "error_y": {
             "color": "#f2f5fa"
            },
            "marker": {
             "line": {
              "color": "rgb(17,17,17)",
              "width": 0.5
             },
             "pattern": {
              "fillmode": "overlay",
              "size": 10,
              "solidity": 0.2
             }
            },
            "type": "bar"
           }
          ],
          "scattergeo": [
           {
            "type": "scattergeo",
            "marker": {
             "colorbar": {
              "outlinewidth": 0,
              "ticks": ""
             }
            }
           }
          ],
          "scatterpolar": [
           {
            "type": "scatterpolar",
            "marker": {
             "colorbar": {
              "outlinewidth": 0,
              "ticks": ""
             }
            }
           }
          ],
          "histogram": [
           {
            "marker": {
             "pattern": {
              "fillmode": "overlay",
              "size": 10,
              "solidity": 0.2
             }
            },
            "type": "histogram"
           }
          ],
          "scattergl": [
           {
            "marker": {
             "line": {
              "color": "#283442"
             }
            },
            "type": "scattergl"
           }
          ],
          "scatter3d": [
           {
            "type": "scatter3d",
            "line": {
             "colorbar": {
              "outlinewidth": 0,
              "ticks": ""
             }
            },
            "marker": {
             "colorbar": {
              "outlinewidth": 0,
              "ticks": ""
             }
            }
           }
          ],
          "scattermap": [
           {
            "type": "scattermap",
            "marker": {
             "colorbar": {
              "outlinewidth": 0,
              "ticks": ""
             }
            }
           }
          ],
          "scattermapbox": [
           {
            "type": "scattermapbox",
            "marker": {
             "colorbar": {
              "outlinewidth": 0,
              "ticks": ""
             }
            }
           }
          ],
          "scatterternary": [
           {
            "type": "scatterternary",
            "marker": {
             "colorbar": {
              "outlinewidth": 0,
              "ticks": ""
             }
            }
           }
          ],
          "scattercarpet": [
           {
            "type": "scattercarpet",
            "marker": {
             "colorbar": {
              "outlinewidth": 0,
              "ticks": ""
             }
            }
           }
          ],
          "carpet": [
           {
            "aaxis": {
             "endlinecolor": "#A2B1C6",
             "gridcolor": "#506784",
             "linecolor": "#506784",
             "minorgridcolor": "#506784",
             "startlinecolor": "#A2B1C6"
            },
            "baxis": {
             "endlinecolor": "#A2B1C6",
             "gridcolor": "#506784",
             "linecolor": "#506784",
             "minorgridcolor": "#506784",
             "startlinecolor": "#A2B1C6"
            },
            "type": "carpet"
           }
          ],
          "table": [
           {
            "cells": {
             "fill": {
              "color": "#506784"
             },
             "line": {
              "color": "rgb(17,17,17)"
             }
            },
            "header": {
             "fill": {
              "color": "#2a3f5f"
             },
             "line": {
              "color": "rgb(17,17,17)"
             }
            },
            "type": "table"
           }
          ],
          "barpolar": [
           {
            "marker": {
             "line": {
              "color": "rgb(17,17,17)",
              "width": 0.5
             },
             "pattern": {
              "fillmode": "overlay",
              "size": 10,
              "solidity": 0.2
             }
            },
            "type": "barpolar"
           }
          ],
          "pie": [
           {
            "automargin": true,
            "type": "pie"
           }
          ]
         },
         "layout": {
          "autotypenumbers": "strict",
          "colorway": [
           "#636efa",
           "#EF553B",
           "#00cc96",
           "#ab63fa",
           "#FFA15A",
           "#19d3f3",
           "#FF6692",
           "#B6E880",
           "#FF97FF",
           "#FECB52"
          ],
          "font": {
           "color": "#f2f5fa"
          },
          "hovermode": "closest",
          "hoverlabel": {
           "align": "left"
          },
          "paper_bgcolor": "rgb(17,17,17)",
          "plot_bgcolor": "rgb(17,17,17)",
          "polar": {
           "bgcolor": "rgb(17,17,17)",
           "angularaxis": {
            "gridcolor": "#506784",
            "linecolor": "#506784",
            "ticks": ""
           },
           "radialaxis": {
            "gridcolor": "#506784",
            "linecolor": "#506784",
            "ticks": ""
           }
          },
          "ternary": {
           "bgcolor": "rgb(17,17,17)",
           "aaxis": {
            "gridcolor": "#506784",
            "linecolor": "#506784",
            "ticks": ""
           },
           "baxis": {
            "gridcolor": "#506784",
            "linecolor": "#506784",
            "ticks": ""
           },
           "caxis": {
            "gridcolor": "#506784",
            "linecolor": "#506784",
            "ticks": ""
           }
          },
          "coloraxis": {
           "colorbar": {
            "outlinewidth": 0,
            "ticks": ""
           }
          },
          "colorscale": {
           "sequential": [
            [
             0.0,
             "#0d0887"
            ],
            [
             0.1111111111111111,
             "#46039f"
            ],
            [
             0.2222222222222222,
             "#7201a8"
            ],
            [
             0.3333333333333333,
             "#9c179e"
            ],
            [
             0.4444444444444444,
             "#bd3786"
            ],
            [
             0.5555555555555556,
             "#d8576b"
            ],
            [
             0.6666666666666666,
             "#ed7953"
            ],
            [
             0.7777777777777778,
             "#fb9f3a"
            ],
            [
             0.8888888888888888,
             "#fdca26"
            ],
            [
             1.0,
             "#f0f921"
            ]
           ],
           "sequentialminus": [
            [
             0.0,
             "#0d0887"
            ],
            [
             0.1111111111111111,
             "#46039f"
            ],
            [
             0.2222222222222222,
             "#7201a8"
            ],
            [
             0.3333333333333333,
             "#9c179e"
            ],
            [
             0.4444444444444444,
             "#bd3786"
            ],
            [
             0.5555555555555556,
             "#d8576b"
            ],
            [
             0.6666666666666666,
             "#ed7953"
            ],
            [
             0.7777777777777778,
             "#fb9f3a"
            ],
            [
             0.8888888888888888,
             "#fdca26"
            ],
            [
             1.0,
             "#f0f921"
            ]
           ],
           "diverging": [
            [
             0,
             "#8e0152"
            ],
            [
             0.1,
             "#c51b7d"
            ],
            [
             0.2,
             "#de77ae"
            ],
            [
             0.3,
             "#f1b6da"
            ],
            [
             0.4,
             "#fde0ef"
            ],
            [
             0.5,
             "#f7f7f7"
            ],
            [
             0.6,
             "#e6f5d0"
            ],
            [
             0.7,
             "#b8e186"
            ],
            [
             0.8,
             "#7fbc41"
            ],
            [
             0.9,
             "#4d9221"
            ],
            [
             1,
             "#276419"
            ]
           ]
          },
          "xaxis": {
           "gridcolor": "#283442",
           "linecolor": "#506784",
           "ticks": "",
           "title": {
            "standoff": 15
           },
           "zerolinecolor": "#283442",
           "automargin": true,
           "zerolinewidth": 2
          },
          "yaxis": {
           "gridcolor": "#283442",
           "linecolor": "#506784",
           "ticks": "",
           "title": {
            "standoff": 15
           },
           "zerolinecolor": "#283442",
           "automargin": true,
           "zerolinewidth": 2
          },
          "scene": {
           "xaxis": {
            "backgroundcolor": "rgb(17,17,17)",
            "gridcolor": "#506784",
            "linecolor": "#506784",
            "showbackground": true,
            "ticks": "",
            "zerolinecolor": "#C8D4E3",
            "gridwidth": 2
           },
           "yaxis": {
            "backgroundcolor": "rgb(17,17,17)",
            "gridcolor": "#506784",
            "linecolor": "#506784",
            "showbackground": true,
            "ticks": "",
            "zerolinecolor": "#C8D4E3",
            "gridwidth": 2
           },
           "zaxis": {
            "backgroundcolor": "rgb(17,17,17)",
            "gridcolor": "#506784",
            "linecolor": "#506784",
            "showbackground": true,
            "ticks": "",
            "zerolinecolor": "#C8D4E3",
            "gridwidth": 2
           }
          },
          "shapedefaults": {
           "line": {
            "color": "#f2f5fa"
           }
          },
          "annotationdefaults": {
           "arrowcolor": "#f2f5fa",
           "arrowhead": 0,
           "arrowwidth": 1
          },
          "geo": {
           "bgcolor": "rgb(17,17,17)",
           "landcolor": "rgb(17,17,17)",
           "subunitcolor": "#506784",
           "showland": true,
           "showlakes": true,
           "lakecolor": "rgb(17,17,17)"
          },
          "title": {
           "x": 0.05
          },
          "updatemenudefaults": {
           "bgcolor": "#506784",
           "borderwidth": 0
          },
          "sliderdefaults": {
           "bgcolor": "#C8D4E3",
           "borderwidth": 1,
           "bordercolor": "rgb(17,17,17)",
           "tickwidth": 0
          },
          "mapbox": {
           "style": "dark"
          }
         }
        },
        "xaxis": {
         "anchor": "y",
         "domain": [
          0.0,
          1.0
         ],
         "title": {
          "text": "input_tokens"
         }
        },
        "yaxis": {
         "anchor": "x",
         "domain": [
          0.0,
          1.0
         ],
         "title": {
          "text": "value"
         }
        },
        "legend": {
         "title": {
          "text": "variable"
         },
         "tracegroupgap": 0
        },
        "margin": {
         "t": 60
        }
       },
       "config": {
        "plotlyServerURL": "https://plot.ly"
       }
      }
     },
     "metadata": {},
     "output_type": "display_data",
     "jetTransient": {
      "display_id": null
     }
    }
   ],
   "execution_count": 181
  },
  {
   "metadata": {
    "ExecuteTime": {
     "end_time": "2025-10-11T19:37:15.697900Z",
     "start_time": "2025-10-11T19:37:15.555403Z"
    }
   },
   "cell_type": "code",
   "source": [
    "fig = px.scatter(data_df, y= \"output_eval_time_per_output_token\" , x= \"output_tokens\", trendline=\"lowess\", marginal_y=\"histogram\")\n",
    "# ['lowess', 'rolling', 'ewm', 'expanding', 'ols']\n",
    "fig.show()"
   ],
   "id": "bfe115dfd78604f6",
   "outputs": [
    {
     "data": {
      "application/vnd.plotly.v1+json": {
       "data": [
        {
         "hovertemplate": "output_tokens=%{x}<br>output_eval_time_per_output_token=%{y}<extra></extra>",
         "legendgroup": "",
         "marker": {
          "color": "#636efa",
          "symbol": "circle"
         },
         "mode": "markers",
         "name": "",
         "orientation": "v",
         "showlegend": false,
         "x": {
          "dtype": "i2",
          "bdata": "JwAeAToAzQE2ANECJwDaACkAYgEfAPAANQB9AQkAjwAZAAEBCQBFASMACAFMAHwBFgA2AR0AYgArAGYBOgCXAS4AxQFDABUCMAChAhoAKQEFAIoAIAAMAA8AJgEMAFkBPwBwATgAJQI1AHkBKQB0AQsANAFDAAYCLgBsAhUAZgHEAB0CjQBrAh8BtwH9AAYDDgFVAocAhwLVABcC8wDKAtgA5AGUAAsDqAD8AQMBZQPEAD4CWwBpAasA+QH/AIIDSgNcBWYDWQfMA3cDDQPNBH0AfgAKAAoAMQCWAgMAcQEyAP0BBAA2AQMACQAtAHMCHACyADAA1gAyAFgCLgCdAAwABwAzAPEBBAAMAQUAxQAXAIUBCgAbAQkAZwA7AH0BKwALATkA+gExAHoBNgDxAScAiwALANQALgB8AQ4AKwEUABkBMQAUAjoAHwI6AOMBJQBoAaoAeAKhADMCegDSAZsALQKUAOUBvQAaA4sAFAO+ABkDrwDzAbUADQS7AEoEmQA5A30A9gBtACoC0gDbAncAsgA8AosEtwAgA8gBHwaRATcCWwGEATsAggJmABgCTQCcAkAAewJBANABPwA/Aj8ADwM2AKoCPQCYAjsARAJTANkCWQDrATcApgFOALgCSwA3Aj8ATgJxANgBRwBVAlEAPAI0AGYCSABNAjUAwAJEAGkCNgBOAjUAswFgAA4CTgDdAjkADAJBAAICTQBcAk0AIwI1ABkCigHcBikBTAU5ARYDKAEvBnUB0wYRAd0EwgG4BFQBZgeDAW4IMAHRBa4BwwQbAXcFOAFbBhMBoAROAU4FWwHDBQ0FlhCPBUwPsASfC+cFwRLqAEYBRwAdAkUA2QFFAIQCSQDzAT4ApQJCAMsBOQA5AjQApgE+ALkBVgDcAUMA7AE3AN0BTABKAi8ASAJNAD8CLQCwASoAQAEyAFMCPABDAikAtwI0AG0COQDqATIAHwI6AK4BRwAnAjAAEAI8AAsCMQA/ASoAvgE8AJUCTQBdATMAYQJcAVYFfQFSBm4BpQVOAfwFhQFABXMBXAWLAWQFZQG7BAEBCwR1AYEGXwEwBmIBtgZ3AW0FXwH5BuoApQPwACgFywM4Cr4EzQtJA7oKpQMkEKAA2AU="
         },
         "xaxis": "x",
         "y": {
          "dtype": "f8",
          "bdata": "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"
         },
         "yaxis": "y",
         "type": "scatter"
        },
        {
         "bingroup": "y",
         "hovertemplate": "output_eval_time_per_output_token=%{y}<br>count=%{x}<extra></extra>",
         "legendgroup": "",
         "marker": {
          "color": "#636efa"
         },
         "name": "",
         "opacity": 0.5,
         "showlegend": false,
         "xaxis": "x2",
         "y": {
          "dtype": "f8",
          "bdata": "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"
         },
         "yaxis": "y2",
         "type": "histogram"
        },
        {
         "hovertemplate": "<b>LOWESS trendline</b><br><br>output_tokens=%{x}<br>output_eval_time_per_output_token=%{y} <b>(trend)</b><extra></extra>",
         "legendgroup": "",
         "marker": {
          "color": "#636efa",
          "symbol": "circle"
         },
         "mode": "lines",
         "name": "",
         "showlegend": false,
         "x": {
          "dtype": "i2",
          "bdata": "AwADAAQABAAFAAUABwAJAAkACQAJAAoACgAKAAsACwAMAAwADAAOAA8AFAAVABYAFwAZABoAHAAdAB8AIAAjACUAJwAnACcAKQApACkAKgAqACsAKwAtAC0ALgAuAC4ALgAvADAAMAAwADEAMQAxADEAMgAyADIAMgAzADMANAA0ADQANQA1ADUANQA1ADYANgA2ADYANwA3ADgAOQA5ADkAOQA6ADoAOgA6ADoAOwA7ADsAPAA8ADwAPQA+AD4APwA/AD8APwBAAEEAQQBCAEMAQwBDAEQARQBFAEcARwBHAEgASQBLAEwATABNAE0ATQBNAE0ATgBOAFEAUwBWAFkAWwBgAGIAZgBnAG0AcQB3AHoAfQB9AH4AhwCKAIsAiwCNAI8AlACUAJkAmwCdAKAAoQCoAKoAqwCvALIAsgC1ALcAuwC9AL4AxADEAMUA0gDUANUA1gDYANoA6gDqAPAA8ADzAPYA/QD/AAEBAQEDAQgBCwEMAQ4BEQETARkBGwEbAR4BHwEmASgBKQEpASsBMAE0ATYBNgE4ATkBPwFAAUUBRgFOAU4BVAFZAVsBWwFcAV0BXwFfAWIBYgFlAWYBZgFoAWkBbgFwAXEBcwF0AXUBdQF3AXkBegF8AXwBfQF9AX0BgwGEAYUBhQGKAYsBkQGXAaYBpgGuAa4BsAGzAbcBuQG+AcIBxQHIAcsBzQHQAdIB2AHZAdwB3QHjAeQB5QHqAesB7AHxAfEB8wHzAfkB+gH8Af0BAgIGAgsCDAIOAhACFAIVAhcCGAIZAh0CHQIfAh8CIwIlAicCKgItAjMCNwI3AjkCPAI8Aj4CPwI/AkMCRAJIAkoCTQJOAk4CUwJVAlUCWAJcAmECZgJpAmsCbAJtAnMCeAJ7AoIChAKHApUClgKYApwCoQKlAqoCtwK4AsACygLRAtkC2wLdAgYDCwMNAw8DFAMWAxkDGgMgAzkDSQNKA2UDZgN3A4IDpQOlA8sDzAMLBA0ESgSLBKAEsAS4BLsEvgTDBM0E3QQNBSgFQAVMBU4FVgVcBVwFZAVtBXcFjwWlBcMF0QXYBecF/AUfBi8GMAZSBlsGgQa2BtMG3Ab5BlkHZgduCDgKugqfC80LTA8kEJYQwRI="
         },
         "xaxis": "x",
         "y": {
          "dtype": "f8",
          "bdata": "ZAJNco5ElT9kAk1yjkSVP5YFCKUSRZU/lgUIpRJFlT/YtCnklkWVP9i0KeSWRZU/zRiAh59GlT80QOtbqEeVPzRA61uoR5U/NEDrW6hHlT80QOtbqEeVP5qYW9gsSJU/mphb2CxIlT+amFvYLEiVP+UQ0WCxSJU/5RDRYLFIlT8NaCb1NUmVPw1oJvU1SZU/DWgm9TVJlT94UMNAP0qVP8LLqffDSpU/D1vVLVxNlT/QT+4k4U2VP+YyFiZmTpU/PEocMetOlT+xS/Vj9U+VPzQKXot6UJU/ni0F9YRRlT+0isY2ClKVPxXR8dIUU5U/mffeLJpTlT8MKeBmKlWVP4SKRlo1VpU/T1Y1ZkBXlT9PVjVmQFeVP09WNWZAV5U/6X5XiEtYlT/pfleIS1iVP+l+V4hLWJU/3/z/INFYlT/f/P8g0ViVP0ODVr5WWZU/Q4NWvlZZlT97ovoFYlqVP3ui+gViWpU/k0PBr+dalT+TQ8Gv51qVP5NDwa/nWpU/k0PBr+dalT+C1SldbVuVP0RF9g3zW5U/REX2DfNblT9ERfYN81uVP7jf68F4XJU/uN/rwXhclT+43+vBeFyVP7jf68F4XJU/jOzUeP5clT+M7NR4/lyVP4zs1Hj+XJU/jOzUeP5clT9Gq4QyhF2VP0arhDKEXZU/mVrX7glelT+ZWtfuCV6VP5la1+4JXpU/D9isrY9elT8P2Kytj16VPw/YrK2PXpU/D9isrY9elT8P2Kytj16VP2Vb6G4VX5U/ZVvobhVflT9lW+huFV+VP2Vb6G4VX5U/2fJuMptflT/Z8m4ym1+VP8oDI/ggYJU/ymXkv6ZglT/KZeS/pmCVP8pl5L+mYJU/ymXkv6ZglT+b35GJLGGVP5vfkYksYZU/m9+RiSxhlT+b35GJLGGVP5vfkYksYZU/7cwKVbJhlT/tzApVsmGVP+3MClWyYZU/NTgsIjhilT81OCwiOGKVPzU4LCI4YpU/ZZnN8L1ilT9418jAQ2OVP3jXyMBDY5U/35b3kcljlT/flveRyWOVP9+W95HJY5U/35b3kcljlT86gi9kT2SVP+R9RjfVZJU/5H1GN9VklT92PBILW2WVP8N8Z9/gZZU/w3xn3+BllT/DfGff4GWVP3slHLRmZpU/R0YHiexmlT9HRgeJ7GaVP/Ma6zL4Z5U/8xrrMvhnlT/zGusy+GeVP6ZloAd+aJU/qhQD3ANplT+7Uk6DD2qVPw5E8FWVapU/DkTwVZVqlT85+bQnG2uVPzn5tCcba5U/Ofm0JxtrlT85+bQnG2uVPzn5tCcba5U/U3p6+KBrlT9Tenr4oGuVP+gbtWMybZU/gC+f+T1ulT+YVEROz2+VP10b4pFgcZU/iyWhCWxylT9/mwyKCHWVP3vkZd0TdpU/KjYsXyp4lT+L5nj3r3iVP8bYvj7Re5U/fIE/Ied9lT/4redzB4GVP15D0F6XgpU/0/vtHSeElT/T++0dJ4SVP0hqqVOshJU/mm3JT1qJlT+ejhNF6YqVP5y6yDZui5U/nLrINm6LlT+1zwYKeIyVP6WHsseBjZU/fVkExBmQlT99WQTEGZCVP2KCdTyxkpU/0vmNe7qTlT/VP1emw5SVPwq0bEFRlpU/xD7ewNWWlT/Ez6+/dJqVP4XwRXV9m5U/0xJKygGclT8F6ov5Ep6VP8FqBrifn5U/wWoGuJ+flT/C8U5ZLKGVPyG7UrY0opU/ZJ/wUkWklT+s3yGVTaWVPwHi1rPRpZU/Y9EOWOqolT9j0Q5Y6qiVPzAeJHJuqZU/AJnEOySwlT8VlQSzLLGVP0jSwPewsZU/6jqZQzWylT/rrkz0PbOVP+6kuM1GtJU/XKYEI5u8lT9cpgQjm7yVPwOuSd/Jv5U/A65J38m/lT8C3LruZ8GVP/PLj2sMw5U/ZgaknQTHlT9AzAZTAciVPz0A0yPlyJU/PQDTI+XIlT9UbOyxrMmVPxpzwmWsy5U/m7d3M0DNlT8ird3xnc2VP5T67vFWzpU/f2AtSIjPlT/jaYkWXdCVPyvJSofT0pU/aF8/v6LTlT9oXz+/otOVPxU8BJNj1ZU/rju/jLbVlT9fb3neZNiVP3uNBVdW2ZU/lKeJpM7ZlT+Up4mkztmVP2Wd8By+2pU/qIhXaQvdlT8N7m8z1d6VP7C2Zle035U/sLZmV7TflT/6DtN1OuCVPz0m5wqn4JU/1ffjXnfilT+Ko5W03eKVP7X5fnhU5JU/JEEL74zklT/CI+fShuaVP8Ij59KG5pU/GP189NHnlT8KzqrC2+iVP+OskoEz6ZU/46ySgTPplT/Is7O2XumVP0Y0u36J6ZU/y+9/193plT/L73/X3emVP/zstpBZ6pU//Oy2kFnqlT/NBeon9eqVP+96S5Mc65U/73pLkxzrlT8EoVSGauuVP7yGpBCR65U/6/5/EG7slT8N6AzN1uyVPyZLr6n67JU/HVH9iEHtlT/62KyLZO2VP0U9EkaH7ZU/RT0SRoftlT+zvDvjy+2VP4bKh1sP7pU/blMkpzDulT8MpuRaj+6VPwym5FqP7pU/wK9Bj6/ulT/Ar0GPr+6VP8CvQY+v7pU/8VIuPWrvlT8OFkdBiO+VP5U+MfWl75U/lT4x9aXvlT9Ehg0EUPCVP1CX2K1r8JU/IbiMHgvxlT8r1TiEn/GVP+/W8fj78pU/79bx+PvylT+ABMVVuvOVP4AExVW685U/9QsZi93zlT93dOfsEPSVP/cn/+dS9JU/2JSA4XL0lT8I5ooMwPSVP0d1z00K9ZU/wMvYgDT1lT8FtpuBXfWVP5LgEmeF9ZU/782zbZ/1lT9AEDasxfWVPxGC663e9ZU/C+gvvif2lT/998+tM/aVP8qNAiZX9pU/3W+03mL2lT8zXc2wsfaVP22KHwK99pU/vMgJUMj2lT8hQpbFAPeVP6iJSBMM95U//0DHYxf3lT+CCiw2UPeVP4IKLDZQ95U/zLQwGGf3lT/MtDAYZ/eVP4owNGus95U/2OoOFbj3lT8dHYiCz/eVPx72Z0bb95U/rsgToBb4lT/H4kwOSviVP0Z1HXmG+JU/nPLtt5L4lT9O+BJjq/iVPzWAeE3E+JU/XbMw6fb4lT9nfLq6A/mVP6FLy5Ed+ZU/Z8Rylyr5lT9EaoyuN/mVP6cp7Lhs+ZU/pynsuGz5lT+RZI6lh/mVP5FkjqWH+ZU/kmfwSL75lT9+RSzs2PmVP8ykp6L0+ZU/NftRpx76lT9SwJQqSfqVP3E6Nnuf+pU/vRVX1Nn6lT+9FVfU2fqVP3i5fzT3+pU/qVL+eyP7lT+pUv57I/uVP0tCPiFB+5U/8MVi/E/7lT/wxWL8T/uVP4uu9JiL+5U/zLedk5b7lT+AVl4u0vuVPyoz9APw+5U/5qRGwBz8lT94hlKmK/yVP3iGUqYr/JU/BNow9HX8lT8vkguOk/yVPy+SC46T/JU/qzHuyb/8lT8Dx45m+vyVP5oCTvtC/ZU/HX78tYr9lT+CetdZtf2VP4dIfaXR/ZU/JCDawt/9lT+UXTjb7f2VP92GbSQ8/pU/19fZR4L+lT9so7SrrP6VP6DnyacD/5U/KbHnwiD/lT+0JDIxTf+VP6ZQA64mAJY/wlnQPDgAlj/ohngUXACWP3wXisymAJY/jQdWHwoBlj+juv1mXgGWP0MhEd/CAZY/D3gm0wADlj8bC4T0GgOWP+jw1c7zA5Y/yq1+jPsElj/Vs278wgWWP4PLh1ayBpY/xhXkauYGlj+PtkZ4JweWPxVzxux/DJY/nKAiCzENlj+uXcXNdw2WPz34B6S0DZY/CTzJemUOlj9BurofrA6WP5NmvAoWD5Y/Dz1jVzkPlj92M88oDRCWP6v8YO2AE5Y/ukwI/6wVlj994SwR0BWWP/qfYnJdGZY/kAkO/H8Zlj/4eacSuBuWP9CaZIwsHZY/KzU/fIkhlj8rNT98iSGWPy6UTdYhJpY/tNHbwj8mlj+W7GMSQS2WP6KJp3Z4LZY/PNkQ5As0lj/wFD54GzuWPwHk9G1qPZY/NX9yui8/lj8MeblXE0CWP+BiwNtoQJY/YE2xdb5Alj9/xslQTUGWP4xMpLRrQpY/qDzhrzdElj8s1cdApkmWP+DYMqe5TJY/nqNrtHdPlj9h7GFO11CWP/HjIfARUZY/4W3SAgFSlj+b6JszsVKWP5vomzOxUpY/Gq1CMJxTlj+pHXuXpFSWPwdlel7KVZY/ZEyGHItYlj8fabC4GluWP8rDnNaGXpY/1Y/5aRxglj+vj3lH5mCWPwC906qUYpY/hGWrGupklj8XLVDOymiWP9MfcvmUapY/NvOzJbFqlj8l5e/fd26WP6SmDjd7b5Y/Ki8r79Nzlj8BYBEHEHqWP6rlL3uKfZY/U7/6tKB+lj9COsz3JYKWP5OagJHrjZY/cgFKT4WPlj+jPYoCCbGWP+QRDKsOAZc/DP7Shioalz+/OItCIUWXPzsCyGV6TZc/dxF7svHmlz9TPi55YguYP1QOlk+qHpg/xaZgeUB9mD8="
         },
         "yaxis": "y",
         "type": "scatter"
        }
       ],
       "layout": {
        "template": {
         "data": {
          "histogram2dcontour": [
           {
            "type": "histogram2dcontour",
            "colorbar": {
             "outlinewidth": 0,
             "ticks": ""
            },
            "colorscale": [
             [
              0.0,
              "#0d0887"
             ],
             [
              0.1111111111111111,
              "#46039f"
             ],
             [
              0.2222222222222222,
              "#7201a8"
             ],
             [
              0.3333333333333333,
              "#9c179e"
             ],
             [
              0.4444444444444444,
              "#bd3786"
             ],
             [
              0.5555555555555556,
              "#d8576b"
             ],
             [
              0.6666666666666666,
              "#ed7953"
             ],
             [
              0.7777777777777778,
              "#fb9f3a"
             ],
             [
              0.8888888888888888,
              "#fdca26"
             ],
             [
              1.0,
              "#f0f921"
             ]
            ]
           }
          ],
          "choropleth": [
           {
            "type": "choropleth",
            "colorbar": {
             "outlinewidth": 0,
             "ticks": ""
            }
           }
          ],
          "histogram2d": [
           {
            "type": "histogram2d",
            "colorbar": {
             "outlinewidth": 0,
             "ticks": ""
            },
            "colorscale": [
             [
              0.0,
              "#0d0887"
             ],
             [
              0.1111111111111111,
              "#46039f"
             ],
             [
              0.2222222222222222,
              "#7201a8"
             ],
             [
              0.3333333333333333,
              "#9c179e"
             ],
             [
              0.4444444444444444,
              "#bd3786"
             ],
             [
              0.5555555555555556,
              "#d8576b"
             ],
             [
              0.6666666666666666,
              "#ed7953"
             ],
             [
              0.7777777777777778,
              "#fb9f3a"
             ],
             [
              0.8888888888888888,
              "#fdca26"
             ],
             [
              1.0,
              "#f0f921"
             ]
            ]
           }
          ],
          "heatmap": [
           {
            "type": "heatmap",
            "colorbar": {
             "outlinewidth": 0,
             "ticks": ""
            },
            "colorscale": [
             [
              0.0,
              "#0d0887"
             ],
             [
              0.1111111111111111,
              "#46039f"
             ],
             [
              0.2222222222222222,
              "#7201a8"
             ],
             [
              0.3333333333333333,
              "#9c179e"
             ],
             [
              0.4444444444444444,
              "#bd3786"
             ],
             [
              0.5555555555555556,
              "#d8576b"
             ],
             [
              0.6666666666666666,
              "#ed7953"
             ],
             [
              0.7777777777777778,
              "#fb9f3a"
             ],
             [
              0.8888888888888888,
              "#fdca26"
             ],
             [
              1.0,
              "#f0f921"
             ]
            ]
           }
          ],
          "contourcarpet": [
           {
            "type": "contourcarpet",
            "colorbar": {
             "outlinewidth": 0,
             "ticks": ""
            }
           }
          ],
          "contour": [
           {
            "type": "contour",
            "colorbar": {
             "outlinewidth": 0,
             "ticks": ""
            },
            "colorscale": [
             [
              0.0,
              "#0d0887"
             ],
             [
              0.1111111111111111,
              "#46039f"
             ],
             [
              0.2222222222222222,
              "#7201a8"
             ],
             [
              0.3333333333333333,
              "#9c179e"
             ],
             [
              0.4444444444444444,
              "#bd3786"
             ],
             [
              0.5555555555555556,
              "#d8576b"
             ],
             [
              0.6666666666666666,
              "#ed7953"
             ],
             [
              0.7777777777777778,
              "#fb9f3a"
             ],
             [
              0.8888888888888888,
              "#fdca26"
             ],
             [
              1.0,
              "#f0f921"
             ]
            ]
           }
          ],
          "surface": [
           {
            "type": "surface",
            "colorbar": {
             "outlinewidth": 0,
             "ticks": ""
            },
            "colorscale": [
             [
              0.0,
              "#0d0887"
             ],
             [
              0.1111111111111111,
              "#46039f"
             ],
             [
              0.2222222222222222,
              "#7201a8"
             ],
             [
              0.3333333333333333,
              "#9c179e"
             ],
             [
              0.4444444444444444,
              "#bd3786"
             ],
             [
              0.5555555555555556,
              "#d8576b"
             ],
             [
              0.6666666666666666,
              "#ed7953"
             ],
             [
              0.7777777777777778,
              "#fb9f3a"
             ],
             [
              0.8888888888888888,
              "#fdca26"
             ],
             [
              1.0,
              "#f0f921"
             ]
            ]
           }
          ],
          "mesh3d": [
           {
            "type": "mesh3d",
            "colorbar": {
             "outlinewidth": 0,
             "ticks": ""
            }
           }
          ],
          "scatter": [
           {
            "marker": {
             "line": {
              "color": "#283442"
             }
            },
            "type": "scatter"
           }
          ],
          "parcoords": [
           {
            "type": "parcoords",
            "line": {
             "colorbar": {
              "outlinewidth": 0,
              "ticks": ""
             }
            }
           }
          ],
          "scatterpolargl": [
           {
            "type": "scatterpolargl",
            "marker": {
             "colorbar": {
              "outlinewidth": 0,
              "ticks": ""
             }
            }
           }
          ],
          "bar": [
           {
            "error_x": {
             "color": "#f2f5fa"
            },
            "error_y": {
             "color": "#f2f5fa"
            },
            "marker": {
             "line": {
              "color": "rgb(17,17,17)",
              "width": 0.5
             },
             "pattern": {
              "fillmode": "overlay",
              "size": 10,
              "solidity": 0.2
             }
            },
            "type": "bar"
           }
          ],
          "scattergeo": [
           {
            "type": "scattergeo",
            "marker": {
             "colorbar": {
              "outlinewidth": 0,
              "ticks": ""
             }
            }
           }
          ],
          "scatterpolar": [
           {
            "type": "scatterpolar",
            "marker": {
             "colorbar": {
              "outlinewidth": 0,
              "ticks": ""
             }
            }
           }
          ],
          "histogram": [
           {
            "marker": {
             "pattern": {
              "fillmode": "overlay",
              "size": 10,
              "solidity": 0.2
             }
            },
            "type": "histogram"
           }
          ],
          "scattergl": [
           {
            "marker": {
             "line": {
              "color": "#283442"
             }
            },
            "type": "scattergl"
           }
          ],
          "scatter3d": [
           {
            "type": "scatter3d",
            "line": {
             "colorbar": {
              "outlinewidth": 0,
              "ticks": ""
             }
            },
            "marker": {
             "colorbar": {
              "outlinewidth": 0,
              "ticks": ""
             }
            }
           }
          ],
          "scattermap": [
           {
            "type": "scattermap",
            "marker": {
             "colorbar": {
              "outlinewidth": 0,
              "ticks": ""
             }
            }
           }
          ],
          "scattermapbox": [
           {
            "type": "scattermapbox",
            "marker": {
             "colorbar": {
              "outlinewidth": 0,
              "ticks": ""
             }
            }
           }
          ],
          "scatterternary": [
           {
            "type": "scatterternary",
            "marker": {
             "colorbar": {
              "outlinewidth": 0,
              "ticks": ""
             }
            }
           }
          ],
          "scattercarpet": [
           {
            "type": "scattercarpet",
            "marker": {
             "colorbar": {
              "outlinewidth": 0,
              "ticks": ""
             }
            }
           }
          ],
          "carpet": [
           {
            "aaxis": {
             "endlinecolor": "#A2B1C6",
             "gridcolor": "#506784",
             "linecolor": "#506784",
             "minorgridcolor": "#506784",
             "startlinecolor": "#A2B1C6"
            },
            "baxis": {
             "endlinecolor": "#A2B1C6",
             "gridcolor": "#506784",
             "linecolor": "#506784",
             "minorgridcolor": "#506784",
             "startlinecolor": "#A2B1C6"
            },
            "type": "carpet"
           }
          ],
          "table": [
           {
            "cells": {
             "fill": {
              "color": "#506784"
             },
             "line": {
              "color": "rgb(17,17,17)"
             }
            },
            "header": {
             "fill": {
              "color": "#2a3f5f"
             },
             "line": {
              "color": "rgb(17,17,17)"
             }
            },
            "type": "table"
           }
          ],
          "barpolar": [
           {
            "marker": {
             "line": {
              "color": "rgb(17,17,17)",
              "width": 0.5
             },
             "pattern": {
              "fillmode": "overlay",
              "size": 10,
              "solidity": 0.2
             }
            },
            "type": "barpolar"
           }
          ],
          "pie": [
           {
            "automargin": true,
            "type": "pie"
           }
          ]
         },
         "layout": {
          "autotypenumbers": "strict",
          "colorway": [
           "#636efa",
           "#EF553B",
           "#00cc96",
           "#ab63fa",
           "#FFA15A",
           "#19d3f3",
           "#FF6692",
           "#B6E880",
           "#FF97FF",
           "#FECB52"
          ],
          "font": {
           "color": "#f2f5fa"
          },
          "hovermode": "closest",
          "hoverlabel": {
           "align": "left"
          },
          "paper_bgcolor": "rgb(17,17,17)",
          "plot_bgcolor": "rgb(17,17,17)",
          "polar": {
           "bgcolor": "rgb(17,17,17)",
           "angularaxis": {
            "gridcolor": "#506784",
            "linecolor": "#506784",
            "ticks": ""
           },
           "radialaxis": {
            "gridcolor": "#506784",
            "linecolor": "#506784",
            "ticks": ""
           }
          },
          "ternary": {
           "bgcolor": "rgb(17,17,17)",
           "aaxis": {
            "gridcolor": "#506784",
            "linecolor": "#506784",
            "ticks": ""
           },
           "baxis": {
            "gridcolor": "#506784",
            "linecolor": "#506784",
            "ticks": ""
           },
           "caxis": {
            "gridcolor": "#506784",
            "linecolor": "#506784",
            "ticks": ""
           }
          },
          "coloraxis": {
           "colorbar": {
            "outlinewidth": 0,
            "ticks": ""
           }
          },
          "colorscale": {
           "sequential": [
            [
             0.0,
             "#0d0887"
            ],
            [
             0.1111111111111111,
             "#46039f"
            ],
            [
             0.2222222222222222,
             "#7201a8"
            ],
            [
             0.3333333333333333,
             "#9c179e"
            ],
            [
             0.4444444444444444,
             "#bd3786"
            ],
            [
             0.5555555555555556,
             "#d8576b"
            ],
            [
             0.6666666666666666,
             "#ed7953"
            ],
            [
             0.7777777777777778,
             "#fb9f3a"
            ],
            [
             0.8888888888888888,
             "#fdca26"
            ],
            [
             1.0,
             "#f0f921"
            ]
           ],
           "sequentialminus": [
            [
             0.0,
             "#0d0887"
            ],
            [
             0.1111111111111111,
             "#46039f"
            ],
            [
             0.2222222222222222,
             "#7201a8"
            ],
            [
             0.3333333333333333,
             "#9c179e"
            ],
            [
             0.4444444444444444,
             "#bd3786"
            ],
            [
             0.5555555555555556,
             "#d8576b"
            ],
            [
             0.6666666666666666,
             "#ed7953"
            ],
            [
             0.7777777777777778,
             "#fb9f3a"
            ],
            [
             0.8888888888888888,
             "#fdca26"
            ],
            [
             1.0,
             "#f0f921"
            ]
           ],
           "diverging": [
            [
             0,
             "#8e0152"
            ],
            [
             0.1,
             "#c51b7d"
            ],
            [
             0.2,
             "#de77ae"
            ],
            [
             0.3,
             "#f1b6da"
            ],
            [
             0.4,
             "#fde0ef"
            ],
            [
             0.5,
             "#f7f7f7"
            ],
            [
             0.6,
             "#e6f5d0"
            ],
            [
             0.7,
             "#b8e186"
            ],
            [
             0.8,
             "#7fbc41"
            ],
            [
             0.9,
             "#4d9221"
            ],
            [
             1,
             "#276419"
            ]
           ]
          },
          "xaxis": {
           "gridcolor": "#283442",
           "linecolor": "#506784",
           "ticks": "",
           "title": {
            "standoff": 15
           },
           "zerolinecolor": "#283442",
           "automargin": true,
           "zerolinewidth": 2
          },
          "yaxis": {
           "gridcolor": "#283442",
           "linecolor": "#506784",
           "ticks": "",
           "title": {
            "standoff": 15
           },
           "zerolinecolor": "#283442",
           "automargin": true,
           "zerolinewidth": 2
          },
          "scene": {
           "xaxis": {
            "backgroundcolor": "rgb(17,17,17)",
            "gridcolor": "#506784",
            "linecolor": "#506784",
            "showbackground": true,
            "ticks": "",
            "zerolinecolor": "#C8D4E3",
            "gridwidth": 2
           },
           "yaxis": {
            "backgroundcolor": "rgb(17,17,17)",
            "gridcolor": "#506784",
            "linecolor": "#506784",
            "showbackground": true,
            "ticks": "",
            "zerolinecolor": "#C8D4E3",
            "gridwidth": 2
           },
           "zaxis": {
            "backgroundcolor": "rgb(17,17,17)",
            "gridcolor": "#506784",
            "linecolor": "#506784",
            "showbackground": true,
            "ticks": "",
            "zerolinecolor": "#C8D4E3",
            "gridwidth": 2
           }
          },
          "shapedefaults": {
           "line": {
            "color": "#f2f5fa"
           }
          },
          "annotationdefaults": {
           "arrowcolor": "#f2f5fa",
           "arrowhead": 0,
           "arrowwidth": 1
          },
          "geo": {
           "bgcolor": "rgb(17,17,17)",
           "landcolor": "rgb(17,17,17)",
           "subunitcolor": "#506784",
           "showland": true,
           "showlakes": true,
           "lakecolor": "rgb(17,17,17)"
          },
          "title": {
           "x": 0.05
          },
          "updatemenudefaults": {
           "bgcolor": "#506784",
           "borderwidth": 0
          },
          "sliderdefaults": {
           "bgcolor": "#C8D4E3",
           "borderwidth": 1,
           "bordercolor": "rgb(17,17,17)",
           "tickwidth": 0
          },
          "mapbox": {
           "style": "dark"
          }
         }
        },
        "xaxis": {
         "anchor": "y",
         "domain": [
          0.0,
          0.7363
         ],
         "title": {
          "text": "output_tokens"
         }
        },
        "yaxis": {
         "anchor": "x",
         "domain": [
          0.0,
          1.0
         ],
         "title": {
          "text": "output_eval_time_per_output_token"
         }
        },
        "xaxis2": {
         "anchor": "y2",
         "domain": [
          0.7413,
          1.0
         ],
         "matches": "x2",
         "showticklabels": false,
         "showline": false,
         "ticks": "",
         "showgrid": true
        },
        "yaxis2": {
         "anchor": "x2",
         "domain": [
          0.0,
          1.0
         ],
         "matches": "y",
         "showticklabels": false,
         "showgrid": true
        },
        "legend": {
         "tracegroupgap": 0
        },
        "margin": {
         "t": 60
        },
        "barmode": "overlay"
       },
       "config": {
        "plotlyServerURL": "https://plot.ly"
       }
      }
     },
     "metadata": {},
     "output_type": "display_data",
     "jetTransient": {
      "display_id": null
     }
    }
   ],
   "execution_count": 182
  },
  {
   "metadata": {
    "ExecuteTime": {
     "end_time": "2025-10-11T19:37:15.992303Z",
     "start_time": "2025-10-11T19:37:15.711868Z"
    }
   },
   "cell_type": "code",
   "source": [
    "fig = px.scatter(data_df, x= range(len(data_df)), y= \"total_time_per_input_token\", size= \"input_tokens\", color = 'prompt_complexity', marginal_y=\"violin\")\n",
    "fig.show()\n",
    "fig = px.scatter(data_df, x= range(len(data_df)), y= \"total_time_per_output_token\", size= \"output_tokens\", color = 'prompt_complexity', marginal_y=\"violin\")\n",
    "fig.show()\n",
    "fig = px.scatter(data_df, x= range(len(data_df)), y= \"output_tokens\", color = 'prompt_complexity', marginal_y=\"violin\")\n",
    "fig.show()\n",
    "# prompt complexity has no effect on latency, ignore the outliers"
   ],
   "id": "ac36b35d42304b8d",
   "outputs": [
    {
     "data": {
      "application/vnd.plotly.v1+json": {
       "data": [
        {
         "hovertemplate": "prompt_complexity=easy<br>x=%{x}<br>total_time_per_input_token=%{y}<br>input_tokens=%{marker.size}<extra></extra>",
         "legendgroup": "easy",
         "marker": {
          "color": "#636efa",
          "size": {
           "dtype": "i2",
           "bdata": "WABbAFcAWgBMAE8AWQBcAE0AUABUAFcAUABTAFcAWgBWAFkAUgBVAFkAXABOAFEASwBOAFgAWwBRAFQAUQBUAE4AUQBPAFIAUABTAFYAWQBRAFQAUQBUAFsAXgBUAFcATwBSAFIAVQBRAFQAUgBVAFQAVwBOAFEAVABXAFQAVwD7Af4B8wH2AfMB9gHtAfAB+wH+AfMB9gHzAfYB7QHwAfsB/gHzAfYB8wH2Ae0B8AH7Af4B8wH2AfMB9gHtAfABiQeMB4kHjAeJB4wHiQeMB98d4h0iACUAIAAjACAAIwAhACQAIQAkACEAJAAgACMAIwAmACQAJwAgACMAIwAmACMAJgAhACQAIAAjACAAIwAiACUAIQAkACMAJgAfACIAIQAkACAAIwAfACIAIAAjACIAJQAlACgAIAAjACMAJgAhACQAIAAjACAAIwAgACMAHwAiAGcAagBsAG8AZABnAGcAagBpAGwAZQBoAGMAZgBnAGoAZQBoAGQAZwBnAGoAYABjAGUAaABoAGsAYQBkAGoAbQBZAVwBUwFWAUsBTgFTAVYBBQUIBQ=="
          },
          "sizemode": "area",
          "sizeref": 19.125,
          "symbol": "circle"
         },
         "mode": "markers",
         "name": "easy",
         "orientation": "v",
         "showlegend": true,
         "x": {
          "dtype": "i2",
          "bdata": "AAABAAIAAwAEAAUABgAHAAgACQAKAAsADAANAA4ADwAQABEAEgATABQAFQAWABcAGAAZABoAGwAcAB0AHgAfACAAIQAiACMAJAAlACYAJwAoACkAKgArACwALQAuAC8AMAAxADIAMwA0ADUANgA3ADgAOQA6ADsAPAA9AD4APwBAAEEAQgBDAEQARQBGAEcASABJAEoASwBMAE0ATgBPAFAAUQBSAFMAVABVAFYAVwBYAFkAWgBbAFwAXQBeAF8AYABhAGIAYwBkAGUAZgBnAGgAaQBqAGsAbABtAG4AbwBwAHEAcgBzAHQAdQB2AHcAeAB5AHoAewB8AH0AfgB/AIAAgQCCAIMAhACFAIYAhwCIAIkAigCLAIwAjQCOAI8AkACRAJIAkwCUAJUAlgCXAJgAmQCaAJsAnACdAJ4AnwCgAKEAogCjAKQApQCmAKcAqACpAKoAqwCsAK0ArgCvALAAsQCyALMAtAC1ALYAtwC4ALkAugC7ALwAvQC+AL8AwADBAMIAwwDEAMUAxgDHAMgAyQDKAMsAzADNAM4AzwDQANEA0gDTAA=="
         },
         "xaxis": "x",
         "y": {
          "dtype": "f8",
          "bdata": "exlN4p5Dhj+B2mMoiHWxP42Kpr40tI8/+UJe2qlgvD/Mo6JZeA+RPzr1FrobJck/UBn2RL7NhT8z6H91w0OqPwPFdwYXnIs/fTGlP0WfuD/57LpzIZCDPzFLUNn5la4/Pbbhh7W+jz+Zn6MyZWu5PzAi9NXEo3A/jVPeHGC8oT841dTQ0gqAP1O4zvtiUbA/X+CxMaAacT/FyU/8amC1P8pDr6M8Z4Q/fiUvHxcBsD/e7545Z5KWP1dWBqTNBro/AzYtnX9UgT/HrBmP6+G1P7e9sSntLIE/+IOtClVdmD+v1IRc3CqKP0+HvXpDibc/eVYj0VcwkT/uF3h2QB67P2JCVfhI04w/pLkl0+4Fvz/RXBLxn9CTP+/phC9e8sE/oxM6lhSrjT+XK8GcuUzGPxZZOMZzh4A/f8eRWbTJsj+Rp7S5TUtoPyJxdSeBs6I/2DYN0tQzhT9dnTIKlrl0P4MCouYo83U/0cpWZPl+sT9ax0k3W9F0P2LVldxsUbY/iyMgcG5dkz9AhwJZijG5Py6Zl7qItJA/YqzLhSblwT9c4nQD7J6PP2AWckGT3Lg/2mxWDunHiD90kh3m8TW4Pxv8O9jdenI/VEBzBxnKsz9DD0k1F0yUP69LrIMDyME/KSY1+AJ5ij+ClB7LzbTDP76faKmIIXw/Iayhfbr4tj8oAJVmCx2CP5AIpDY+u5c/vTEowPdIez+BweSjeCacP0u0e9YPm4o/BMAwIwS+kz+MQuoArbWHPwnyasiSuKE/T0yu1Y6EiD8rrQNkLBeaP7x09BQuDno/ZwHomKY2nT/CsEpwTgmEP7Ztwzi6BZg/0nEDClu2hj94RZfT1SugP03wlNXPtIM/h1msgHWqlT+X3QjcF3d8Pwd4g1/ecKE/sqgELyPofz+CPNChzvyWP0yii640hYg/f7l/PGeuoz9VRZMPbw+CP9F8skYhrZk/gClrH467cj/udta1JGmQP+8JjTPsGoA/DqjBWxHolj/WRofSKdqHP7VMgkmUa6Q/8NPgLf5IhT/SWfgHwwKRP9GKgvO8LoY/toEw+Ololz9xudGpy4CIP1C/TgK1n4Y/ha0675Tpgz+HpU9cCp6OP2YvaCiVZFU/Z/a/uGuAVT9Pnr0+fnqHP185aHFn5YM/r2mU5G+xoj8eMOjbnCPaP4+JlGbzOHk/U6+dIJhAzT8cVVFJwCqiP6i+jNVsntM/cQ4u6zbBez+LQkpri6rHP1cWvrlQqXc/mYROOBFAgj8PGaB+YWOhP94rU95Oltg/q2xcQOqzlD8TTrtaxci5PzQWWWRap58/hdSH63f7vT9Kin4jcJqiP7tPku/UYNc/3R5WM8yRnz+tPAIzZrq2P8WVfblNzIY/3oVYlmzqfz+5JNb8PqCiP76DkztNGtM/ZoUi3c8pez+46fcc6CTFP2C6/37nzX8/twksqMdGvz/HsH2731uTP3kSj3RjSM0/lngnO6Yghz8SLlKWj9LFP7B3d0sPloM/QFdD2W0srz+SUuc7ZwCnP29/1xDFjc8/SUZzCSwloD88Cfka6ZnEPyuDD8qgH6U/XTf55W4a1D8gToxOrOSiP8Si11TLC88/cyGgDJ8epD8IDa3X1PPTP1VGcdx3Wpw//RqYhQHgtD8UclabdMaDP12MHkthVr0/E0sll1pKoj+SqR8njjTOP7w+oSNYlIg/vmOE2JARxj/HKllA/aSSPwwDqScG28U/it5OxwhNoj9xR4XGNTDVPzwGddvPU6U/r2Ck94eA1T8dFN4vsFilP9EK6mkGKtM/x3uF1lGQnT9hzPUVAwPNP4eqq7PklaI/OQf21pDVwD9SmW4LtbKgP7zulKKaHLw/5FLANhW7mz8YXxpV/Ci5P9u8GMMJwaA/vkzYi/g+vT8urCCaGhKgP/w9W8RH7rg/Kl8SRSqopD+aCXFcGurEP+nJvsE2l58/HHX6x8hfxT+Z45x+n/qkP5ztwO+Vr8Q/Gy1yx61Coz++ky8wOY66Pxp+HkASOKQ/r/CRZYu1yz/TidGCIDqkPxaKUQT3j8w/OD4Srv+yoT8FhTwTSsTGP925YkAhuZs/4vzW+jc4qj8LEllotqmYPxFqdwRnyLw/rRDmYJBkqD+r4iihPRzEP4X6/YYjOpk/NxF/B3Agoj+ut/dYOJ6iP9kEzmsIw7I/RVlANw+LiT+yOvoWaBqqP7VY0PCeQJ8/zDdfiuFTuj/j4IX2XA+bP+8oidE9sqI/703HqCbNej9vGQ1qnO99Pw=="
         },
         "yaxis": "y",
         "type": "scatter"
        },
        {
         "alignmentgroup": "True",
         "hovertemplate": "prompt_complexity=easy<br>total_time_per_input_token=%{y}<extra></extra>",
         "legendgroup": "easy",
         "marker": {
          "color": "#636efa",
          "symbol": "circle"
         },
         "name": "easy",
         "offsetgroup": "easy",
         "scalegroup": "y",
         "showlegend": false,
         "xaxis": "x2",
         "y": {
          "dtype": "f8",
          "bdata": "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"
         },
         "yaxis": "y2",
         "type": "violin"
        },
        {
         "hovertemplate": "prompt_complexity=hard<br>x=%{x}<br>total_time_per_input_token=%{y}<br>input_tokens=%{marker.size}<extra></extra>",
         "legendgroup": "hard",
         "marker": {
          "color": "#EF553B",
          "size": {
           "dtype": "i2",
           "bdata": "ZwBqAFQAVwBdAGAAVgBZAFMAVgBTAFYATwBSAFYAWQBYAFsATwBSAFQAVwBTAFYAVwBaAFAAUwBOAFEASwBOAFIAVQBNAFAAVABXAFIAVQBbAF4ATwBSAE0AUABLAE4ASABLAFEAVABQAFMATgBRAEsATgBMAE8ASgBNAEsATgAYAhsC7QHwAeYB6QHCAcUBGAIbAu0B8AHmAekBwgHFARgCGwLtAfAB5gHpAcIBxQEYAhsC7QHwAeYB6QHCAcUBaAdrB2gHawdoB2sHaAdrB1sdXh0mACkAIQAkACUAKAAiACUAIgAlACQAJwAhACQAIQAkACIAJQAhACQAJAAnACQAJwAjACYAJAAnACMAJgAtADAAJAAnACIAJQAiACUAIQAkACIAJQAjACYAIQAkACQAJwAlACgAIgAlACQAJwAjACYAIwAmACQAJwAnACoAIwAmAHUAeACBAIQAcgB1AH4AgQB7AH4AdwB6AHQAdwB6AH0AeQB8AHYAeQByAHUAfQCAAHUAeABuAHEAdQB4AHgAewChAaQBmwGeAZkBnAGLAY4BGwYeBg=="
          },
          "sizemode": "area",
          "sizeref": 19.125,
          "symbol": "circle"
         },
         "mode": "markers",
         "name": "hard",
         "orientation": "v",
         "showlegend": true,
         "x": {
          "dtype": "i2",
          "bdata": "1ADVANYA1wDYANkA2gDbANwA3QDeAN8A4ADhAOIA4wDkAOUA5gDnAOgA6QDqAOsA7ADtAO4A7wDwAPEA8gDzAPQA9QD2APcA+AD5APoA+wD8AP0A/gD/AAABAQECAQMBBAEFAQYBBwEIAQkBCgELAQwBDQEOAQ8BEAERARIBEwEUARUBFgEXARgBGQEaARsBHAEdAR4BHwEgASEBIgEjASQBJQEmAScBKAEpASoBKwEsAS0BLgEvATABMQEyATMBNAE1ATYBNwE4ATkBOgE7ATwBPQE+AT8BQAFBAUIBQwFEAUUBRgFHAUgBSQFKAUsBTAFNAU4BTwFQAVEBUgFTAVQBVQFWAVcBWAFZAVoBWwFcAV0BXgFfAWABYQFiAWMBZAFlAWYBZwFoAWkBagFrAWwBbQFuAW8BcAFxAXIBcwF0AXUBdgF3AXgBeQF6AXsBfAF9AX4BfwGAAYEBggGDAYQBhQGGAYcBiAGJAYoBiwGMAY0BjgGPAZABkQGSAZMBlAGVAZYBlwGYAZkBmgGbAZwBnQGeAZ8BoAGhAaIBowGkAaUBpgGnAQ=="
         },
         "xaxis": "x",
         "y": {
          "dtype": "f8",
          "bdata": "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"
         },
         "yaxis": "y",
         "type": "scatter"
        },
        {
         "alignmentgroup": "True",
         "hovertemplate": "prompt_complexity=hard<br>total_time_per_input_token=%{y}<extra></extra>",
         "legendgroup": "hard",
         "marker": {
          "color": "#EF553B",
          "symbol": "circle"
         },
         "name": "hard",
         "offsetgroup": "hard",
         "scalegroup": "y",
         "showlegend": false,
         "xaxis": "x2",
         "y": {
          "dtype": "f8",
          "bdata": "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"
         },
         "yaxis": "y2",
         "type": "violin"
        }
       ],
       "layout": {
        "template": {
         "data": {
          "histogram2dcontour": [
           {
            "type": "histogram2dcontour",
            "colorbar": {
             "outlinewidth": 0,
             "ticks": ""
            },
            "colorscale": [
             [
              0.0,
              "#0d0887"
             ],
             [
              0.1111111111111111,
              "#46039f"
             ],
             [
              0.2222222222222222,
              "#7201a8"
             ],
             [
              0.3333333333333333,
              "#9c179e"
             ],
             [
              0.4444444444444444,
              "#bd3786"
             ],
             [
              0.5555555555555556,
              "#d8576b"
             ],
             [
              0.6666666666666666,
              "#ed7953"
             ],
             [
              0.7777777777777778,
              "#fb9f3a"
             ],
             [
              0.8888888888888888,
              "#fdca26"
             ],
             [
              1.0,
              "#f0f921"
             ]
            ]
           }
          ],
          "choropleth": [
           {
            "type": "choropleth",
            "colorbar": {
             "outlinewidth": 0,
             "ticks": ""
            }
           }
          ],
          "histogram2d": [
           {
            "type": "histogram2d",
            "colorbar": {
             "outlinewidth": 0,
             "ticks": ""
            },
            "colorscale": [
             [
              0.0,
              "#0d0887"
             ],
             [
              0.1111111111111111,
              "#46039f"
             ],
             [
              0.2222222222222222,
              "#7201a8"
             ],
             [
              0.3333333333333333,
              "#9c179e"
             ],
             [
              0.4444444444444444,
              "#bd3786"
             ],
             [
              0.5555555555555556,
              "#d8576b"
             ],
             [
              0.6666666666666666,
              "#ed7953"
             ],
             [
              0.7777777777777778,
              "#fb9f3a"
             ],
             [
              0.8888888888888888,
              "#fdca26"
             ],
             [
              1.0,
              "#f0f921"
             ]
            ]
           }
          ],
          "heatmap": [
           {
            "type": "heatmap",
            "colorbar": {
             "outlinewidth": 0,
             "ticks": ""
            },
            "colorscale": [
             [
              0.0,
              "#0d0887"
             ],
             [
              0.1111111111111111,
              "#46039f"
             ],
             [
              0.2222222222222222,
              "#7201a8"
             ],
             [
              0.3333333333333333,
              "#9c179e"
             ],
             [
              0.4444444444444444,
              "#bd3786"
             ],
             [
              0.5555555555555556,
              "#d8576b"
             ],
             [
              0.6666666666666666,
              "#ed7953"
             ],
             [
              0.7777777777777778,
              "#fb9f3a"
             ],
             [
              0.8888888888888888,
              "#fdca26"
             ],
             [
              1.0,
              "#f0f921"
             ]
            ]
           }
          ],
          "contourcarpet": [
           {
            "type": "contourcarpet",
            "colorbar": {
             "outlinewidth": 0,
             "ticks": ""
            }
           }
          ],
          "contour": [
           {
            "type": "contour",
            "colorbar": {
             "outlinewidth": 0,
             "ticks": ""
            },
            "colorscale": [
             [
              0.0,
              "#0d0887"
             ],
             [
              0.1111111111111111,
              "#46039f"
             ],
             [
              0.2222222222222222,
              "#7201a8"
             ],
             [
              0.3333333333333333,
              "#9c179e"
             ],
             [
              0.4444444444444444,
              "#bd3786"
             ],
             [
              0.5555555555555556,
              "#d8576b"
             ],
             [
              0.6666666666666666,
              "#ed7953"
             ],
             [
              0.7777777777777778,
              "#fb9f3a"
             ],
             [
              0.8888888888888888,
              "#fdca26"
             ],
             [
              1.0,
              "#f0f921"
             ]
            ]
           }
          ],
          "surface": [
           {
            "type": "surface",
            "colorbar": {
             "outlinewidth": 0,
             "ticks": ""
            },
            "colorscale": [
             [
              0.0,
              "#0d0887"
             ],
             [
              0.1111111111111111,
              "#46039f"
             ],
             [
              0.2222222222222222,
              "#7201a8"
             ],
             [
              0.3333333333333333,
              "#9c179e"
             ],
             [
              0.4444444444444444,
              "#bd3786"
             ],
             [
              0.5555555555555556,
              "#d8576b"
             ],
             [
              0.6666666666666666,
              "#ed7953"
             ],
             [
              0.7777777777777778,
              "#fb9f3a"
             ],
             [
              0.8888888888888888,
              "#fdca26"
             ],
             [
              1.0,
              "#f0f921"
             ]
            ]
           }
          ],
          "mesh3d": [
           {
            "type": "mesh3d",
            "colorbar": {
             "outlinewidth": 0,
             "ticks": ""
            }
           }
          ],
          "scatter": [
           {
            "marker": {
             "line": {
              "color": "#283442"
             }
            },
            "type": "scatter"
           }
          ],
          "parcoords": [
           {
            "type": "parcoords",
            "line": {
             "colorbar": {
              "outlinewidth": 0,
              "ticks": ""
             }
            }
           }
          ],
          "scatterpolargl": [
           {
            "type": "scatterpolargl",
            "marker": {
             "colorbar": {
              "outlinewidth": 0,
              "ticks": ""
             }
            }
           }
          ],
          "bar": [
           {
            "error_x": {
             "color": "#f2f5fa"
            },
            "error_y": {
             "color": "#f2f5fa"
            },
            "marker": {
             "line": {
              "color": "rgb(17,17,17)",
              "width": 0.5
             },
             "pattern": {
              "fillmode": "overlay",
              "size": 10,
              "solidity": 0.2
             }
            },
            "type": "bar"
           }
          ],
          "scattergeo": [
           {
            "type": "scattergeo",
            "marker": {
             "colorbar": {
              "outlinewidth": 0,
              "ticks": ""
             }
            }
           }
          ],
          "scatterpolar": [
           {
            "type": "scatterpolar",
            "marker": {
             "colorbar": {
              "outlinewidth": 0,
              "ticks": ""
             }
            }
           }
          ],
          "histogram": [
           {
            "marker": {
             "pattern": {
              "fillmode": "overlay",
              "size": 10,
              "solidity": 0.2
             }
            },
            "type": "histogram"
           }
          ],
          "scattergl": [
           {
            "marker": {
             "line": {
              "color": "#283442"
             }
            },
            "type": "scattergl"
           }
          ],
          "scatter3d": [
           {
            "type": "scatter3d",
            "line": {
             "colorbar": {
              "outlinewidth": 0,
              "ticks": ""
             }
            },
            "marker": {
             "colorbar": {
              "outlinewidth": 0,
              "ticks": ""
             }
            }
           }
          ],
          "scattermap": [
           {
            "type": "scattermap",
            "marker": {
             "colorbar": {
              "outlinewidth": 0,
              "ticks": ""
             }
            }
           }
          ],
          "scattermapbox": [
           {
            "type": "scattermapbox",
            "marker": {
             "colorbar": {
              "outlinewidth": 0,
              "ticks": ""
             }
            }
           }
          ],
          "scatterternary": [
           {
            "type": "scatterternary",
            "marker": {
             "colorbar": {
              "outlinewidth": 0,
              "ticks": ""
             }
            }
           }
          ],
          "scattercarpet": [
           {
            "type": "scattercarpet",
            "marker": {
             "colorbar": {
              "outlinewidth": 0,
              "ticks": ""
             }
            }
           }
          ],
          "carpet": [
           {
            "aaxis": {
             "endlinecolor": "#A2B1C6",
             "gridcolor": "#506784",
             "linecolor": "#506784",
             "minorgridcolor": "#506784",
             "startlinecolor": "#A2B1C6"
            },
            "baxis": {
             "endlinecolor": "#A2B1C6",
             "gridcolor": "#506784",
             "linecolor": "#506784",
             "minorgridcolor": "#506784",
             "startlinecolor": "#A2B1C6"
            },
            "type": "carpet"
           }
          ],
          "table": [
           {
            "cells": {
             "fill": {
              "color": "#506784"
             },
             "line": {
              "color": "rgb(17,17,17)"
             }
            },
            "header": {
             "fill": {
              "color": "#2a3f5f"
             },
             "line": {
              "color": "rgb(17,17,17)"
             }
            },
            "type": "table"
           }
          ],
          "barpolar": [
           {
            "marker": {
             "line": {
              "color": "rgb(17,17,17)",
              "width": 0.5
             },
             "pattern": {
              "fillmode": "overlay",
              "size": 10,
              "solidity": 0.2
             }
            },
            "type": "barpolar"
           }
          ],
          "pie": [
           {
            "automargin": true,
            "type": "pie"
           }
          ]
         },
         "layout": {
          "autotypenumbers": "strict",
          "colorway": [
           "#636efa",
           "#EF553B",
           "#00cc96",
           "#ab63fa",
           "#FFA15A",
           "#19d3f3",
           "#FF6692",
           "#B6E880",
           "#FF97FF",
           "#FECB52"
          ],
          "font": {
           "color": "#f2f5fa"
          },
          "hovermode": "closest",
          "hoverlabel": {
           "align": "left"
          },
          "paper_bgcolor": "rgb(17,17,17)",
          "plot_bgcolor": "rgb(17,17,17)",
          "polar": {
           "bgcolor": "rgb(17,17,17)",
           "angularaxis": {
            "gridcolor": "#506784",
            "linecolor": "#506784",
            "ticks": ""
           },
           "radialaxis": {
            "gridcolor": "#506784",
            "linecolor": "#506784",
            "ticks": ""
           }
          },
          "ternary": {
           "bgcolor": "rgb(17,17,17)",
           "aaxis": {
            "gridcolor": "#506784",
            "linecolor": "#506784",
            "ticks": ""
           },
           "baxis": {
            "gridcolor": "#506784",
            "linecolor": "#506784",
            "ticks": ""
           },
           "caxis": {
            "gridcolor": "#506784",
            "linecolor": "#506784",
            "ticks": ""
           }
          },
          "coloraxis": {
           "colorbar": {
            "outlinewidth": 0,
            "ticks": ""
           }
          },
          "colorscale": {
           "sequential": [
            [
             0.0,
             "#0d0887"
            ],
            [
             0.1111111111111111,
             "#46039f"
            ],
            [
             0.2222222222222222,
             "#7201a8"
            ],
            [
             0.3333333333333333,
             "#9c179e"
            ],
            [
             0.4444444444444444,
             "#bd3786"
            ],
            [
             0.5555555555555556,
             "#d8576b"
            ],
            [
             0.6666666666666666,
             "#ed7953"
            ],
            [
             0.7777777777777778,
             "#fb9f3a"
            ],
            [
             0.8888888888888888,
             "#fdca26"
            ],
            [
             1.0,
             "#f0f921"
            ]
           ],
           "sequentialminus": [
            [
             0.0,
             "#0d0887"
            ],
            [
             0.1111111111111111,
             "#46039f"
            ],
            [
             0.2222222222222222,
             "#7201a8"
            ],
            [
             0.3333333333333333,
             "#9c179e"
            ],
            [
             0.4444444444444444,
             "#bd3786"
            ],
            [
             0.5555555555555556,
             "#d8576b"
            ],
            [
             0.6666666666666666,
             "#ed7953"
            ],
            [
             0.7777777777777778,
             "#fb9f3a"
            ],
            [
             0.8888888888888888,
             "#fdca26"
            ],
            [
             1.0,
             "#f0f921"
            ]
           ],
           "diverging": [
            [
             0,
             "#8e0152"
            ],
            [
             0.1,
             "#c51b7d"
            ],
            [
             0.2,
             "#de77ae"
            ],
            [
             0.3,
             "#f1b6da"
            ],
            [
             0.4,
             "#fde0ef"
            ],
            [
             0.5,
             "#f7f7f7"
            ],
            [
             0.6,
             "#e6f5d0"
            ],
            [
             0.7,
             "#b8e186"
            ],
            [
             0.8,
             "#7fbc41"
            ],
            [
             0.9,
             "#4d9221"
            ],
            [
             1,
             "#276419"
            ]
           ]
          },
          "xaxis": {
           "gridcolor": "#283442",
           "linecolor": "#506784",
           "ticks": "",
           "title": {
            "standoff": 15
           },
           "zerolinecolor": "#283442",
           "automargin": true,
           "zerolinewidth": 2
          },
          "yaxis": {
           "gridcolor": "#283442",
           "linecolor": "#506784",
           "ticks": "",
           "title": {
            "standoff": 15
           },
           "zerolinecolor": "#283442",
           "automargin": true,
           "zerolinewidth": 2
          },
          "scene": {
           "xaxis": {
            "backgroundcolor": "rgb(17,17,17)",
            "gridcolor": "#506784",
            "linecolor": "#506784",
            "showbackground": true,
            "ticks": "",
            "zerolinecolor": "#C8D4E3",
            "gridwidth": 2
           },
           "yaxis": {
            "backgroundcolor": "rgb(17,17,17)",
            "gridcolor": "#506784",
            "linecolor": "#506784",
            "showbackground": true,
            "ticks": "",
            "zerolinecolor": "#C8D4E3",
            "gridwidth": 2
           },
           "zaxis": {
            "backgroundcolor": "rgb(17,17,17)",
            "gridcolor": "#506784",
            "linecolor": "#506784",
            "showbackground": true,
            "ticks": "",
            "zerolinecolor": "#C8D4E3",
            "gridwidth": 2
           }
          },
          "shapedefaults": {
           "line": {
            "color": "#f2f5fa"
           }
          },
          "annotationdefaults": {
           "arrowcolor": "#f2f5fa",
           "arrowhead": 0,
           "arrowwidth": 1
          },
          "geo": {
           "bgcolor": "rgb(17,17,17)",
           "landcolor": "rgb(17,17,17)",
           "subunitcolor": "#506784",
           "showland": true,
           "showlakes": true,
           "lakecolor": "rgb(17,17,17)"
          },
          "title": {
           "x": 0.05
          },
          "updatemenudefaults": {
           "bgcolor": "#506784",
           "borderwidth": 0
          },
          "sliderdefaults": {
           "bgcolor": "#C8D4E3",
           "borderwidth": 1,
           "bordercolor": "rgb(17,17,17)",
           "tickwidth": 0
          },
          "mapbox": {
           "style": "dark"
          }
         }
        },
        "xaxis": {
         "anchor": "y",
         "domain": [
          0.0,
          0.7363
         ],
         "title": {
          "text": "x"
         }
        },
        "yaxis": {
         "anchor": "x",
         "domain": [
          0.0,
          1.0
         ],
         "title": {
          "text": "total_time_per_input_token"
         }
        },
        "xaxis2": {
         "anchor": "y2",
         "domain": [
          0.7413,
          1.0
         ],
         "matches": "x2",
         "showticklabels": false,
         "showline": false,
         "ticks": "",
         "showgrid": false
        },
        "yaxis2": {
         "anchor": "x2",
         "domain": [
          0.0,
          1.0
         ],
         "matches": "y",
         "showticklabels": false,
         "showgrid": true
        },
        "legend": {
         "title": {
          "text": "prompt_complexity"
         },
         "tracegroupgap": 0,
         "itemsizing": "constant"
        },
        "margin": {
         "t": 60
        }
       },
       "config": {
        "plotlyServerURL": "https://plot.ly"
       }
      }
     },
     "metadata": {},
     "output_type": "display_data",
     "jetTransient": {
      "display_id": null
     }
    },
    {
     "data": {
      "application/vnd.plotly.v1+json": {
       "data": [
        {
         "hovertemplate": "prompt_complexity=easy<br>x=%{x}<br>total_time_per_output_token=%{y}<br>output_tokens=%{marker.size}<extra></extra>",
         "legendgroup": "easy",
         "marker": {
          "color": "#636efa",
          "size": {
           "dtype": "i2",
           "bdata": "JwAeAToAzQE2ANECJwDaACkAYgEfAPAANQB9AQkAjwAZAAEBCQBFASMACAFMAHwBFgA2AR0AYgArAGYBOgCXAS4AxQFDABUCMAChAhoAKQEFAIoAIAAMAA8AJgEMAFkBPwBwATgAJQI1AHkBKQB0AQsANAFDAAYCLgBsAhUAZgHEAB0CjQBrAh8BtwH9AAYDDgFVAocAhwLVABcC8wDKAtgA5AGUAAsDqAD8AQMBZQPEAD4CWwBpAasA+QH/AIIDSgNcBWYDWQfMA3cDDQPNBH0AfgAKAAoAMQCWAgMAcQEyAP0BBAA2AQMACQAtAHMCHACyADAA1gAyAFgCLgCdAAwABwAzAPEBBAAMAQUAxQAXAIUBCgAbAQkAZwA7AH0BKwALATkA+gExAHoBNgDxAScAiwALANQALgB8AQ4AKwEUABkBMQAUAjoAHwI6AOMBJQBoAaoAeAKhADMCegDSAZsALQKUAOUBvQAaA4sAFAO+ABkDrwDzAbUADQS7AEoEmQA5A30A9gBtACoC0gDbAncAsgA8AosEtwAgA8gBHwaRATcCWwGEAQ=="
          },
          "sizemode": "area",
          "sizeref": 12.0025,
          "symbol": "circle"
         },
         "mode": "markers",
         "name": "easy",
         "orientation": "v",
         "showlegend": true,
         "x": {
          "dtype": "i2",
          "bdata": "AAABAAIAAwAEAAUABgAHAAgACQAKAAsADAANAA4ADwAQABEAEgATABQAFQAWABcAGAAZABoAGwAcAB0AHgAfACAAIQAiACMAJAAlACYAJwAoACkAKgArACwALQAuAC8AMAAxADIAMwA0ADUANgA3ADgAOQA6ADsAPAA9AD4APwBAAEEAQgBDAEQARQBGAEcASABJAEoASwBMAE0ATgBPAFAAUQBSAFMAVABVAFYAVwBYAFkAWgBbAFwAXQBeAF8AYABhAGIAYwBkAGUAZgBnAGgAaQBqAGsAbABtAG4AbwBwAHEAcgBzAHQAdQB2AHcAeAB5AHoAewB8AH0AfgB/AIAAgQCCAIMAhACFAIYAhwCIAIkAigCLAIwAjQCOAI8AkACRAJIAkwCUAJUAlgCXAJgAmQCaAJsAnACdAJ4AnwCgAKEAogCjAKQApQCmAKcAqACpAKoAqwCsAK0ArgCvALAAsQCyALMAtAC1ALYAtwC4ALkAugC7ALwAvQC+AL8AwADBAMIAwwDEAMUAxgDHAMgAyQDKAMsAzADNAM4AzwDQANEA0gDTAA=="
         },
         "xaxis": "x",
         "y": {
          "dtype": "f8",
          "bdata": "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"
         },
         "yaxis": "y",
         "type": "scatter"
        },
        {
         "alignmentgroup": "True",
         "hovertemplate": "prompt_complexity=easy<br>total_time_per_output_token=%{y}<extra></extra>",
         "legendgroup": "easy",
         "marker": {
          "color": "#636efa",
          "symbol": "circle"
         },
         "name": "easy",
         "offsetgroup": "easy",
         "scalegroup": "y",
         "showlegend": false,
         "xaxis": "x2",
         "y": {
          "dtype": "f8",
          "bdata": "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"
         },
         "yaxis": "y2",
         "type": "violin"
        },
        {
         "hovertemplate": "prompt_complexity=hard<br>x=%{x}<br>total_time_per_output_token=%{y}<br>output_tokens=%{marker.size}<extra></extra>",
         "legendgroup": "hard",
         "marker": {
          "color": "#EF553B",
          "size": {
           "dtype": "i2",
           "bdata": "OwCCAmYAGAJNAJwCQAB7AkEA0AE/AD8CPwAPAzYAqgI9AJgCOwBEAlMA2QJZAOsBNwCmAU4AuAJLADcCPwBOAnEA2AFHAFUCUQA8AjQAZgJIAE0CNQDAAkQAaQI2AE4CNQCzAWAADgJOAN0COQAMAkEAAgJNAFwCTQAjAjUAGQKKAdwGKQFMBTkBFgMoAS8GdQHTBhEB3QTCAbgEVAFmB4MBbggwAdEFrgHDBBsBdwU4AVsGEwGgBE4BTgVbAcMFDQWWEI8FTA+wBJ8L5wXBEuoARgFHAB0CRQDZAUUAhAJJAPMBPgClAkIAywE5ADkCNACmAT4AuQFWANwBQwDsATcA3QFMAEoCLwBIAk0APwItALABKgBAATIAUwI8AEMCKQC3AjQAbQI5AOoBMgAfAjoArgFHACcCMAAQAjwACwIxAD8BKgC+ATwAlQJNAF0BMwBhAlwBVgV9AVIGbgGlBU4B/AWFAUAFcwFcBYsBZAVlAbsEAQELBHUBgQZfATAGYgG2BncBbQVfAfkG6gClA/AAKAXLAzgKvgTNC0kDugqlAyQQoADYBQ=="
          },
          "sizemode": "area",
          "sizeref": 12.0025,
          "symbol": "circle"
         },
         "mode": "markers",
         "name": "hard",
         "orientation": "v",
         "showlegend": true,
         "x": {
          "dtype": "i2",
          "bdata": "1ADVANYA1wDYANkA2gDbANwA3QDeAN8A4ADhAOIA4wDkAOUA5gDnAOgA6QDqAOsA7ADtAO4A7wDwAPEA8gDzAPQA9QD2APcA+AD5APoA+wD8AP0A/gD/AAABAQECAQMBBAEFAQYBBwEIAQkBCgELAQwBDQEOAQ8BEAERARIBEwEUARUBFgEXARgBGQEaARsBHAEdAR4BHwEgASEBIgEjASQBJQEmAScBKAEpASoBKwEsAS0BLgEvATABMQEyATMBNAE1ATYBNwE4ATkBOgE7ATwBPQE+AT8BQAFBAUIBQwFEAUUBRgFHAUgBSQFKAUsBTAFNAU4BTwFQAVEBUgFTAVQBVQFWAVcBWAFZAVoBWwFcAV0BXgFfAWABYQFiAWMBZAFlAWYBZwFoAWkBagFrAWwBbQFuAW8BcAFxAXIBcwF0AXUBdgF3AXgBeQF6AXsBfAF9AX4BfwGAAYEBggGDAYQBhQGGAYcBiAGJAYoBiwGMAY0BjgGPAZABkQGSAZMBlAGVAZYBlwGYAZkBmgGbAZwBnQGeAZ8BoAGhAaIBowGkAaUBpgGnAQ=="
         },
         "xaxis": "x",
         "y": {
          "dtype": "f8",
          "bdata": "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"
         },
         "yaxis": "y",
         "type": "scatter"
        },
        {
         "alignmentgroup": "True",
         "hovertemplate": "prompt_complexity=hard<br>total_time_per_output_token=%{y}<extra></extra>",
         "legendgroup": "hard",
         "marker": {
          "color": "#EF553B",
          "symbol": "circle"
         },
         "name": "hard",
         "offsetgroup": "hard",
         "scalegroup": "y",
         "showlegend": false,
         "xaxis": "x2",
         "y": {
          "dtype": "f8",
          "bdata": "tqEArlP8lz/fPcv3xyOWP0GVVv+j8pY/ppyTLBgjlj9ps2H+5CiXP9sNYflO+pU/UDS0ph5ulz+pRaD/7xqWPytgnt1+ppc/jzWx6QE3lj9mXTV8TWiXP1URC1lRGZY/sWT/L85Qlz9yTLTH99eVP0BxHPY11Jc/bkTe9xcDlj8CjYFOgZeXP088p4FgbZY/aGZ6krElmD8uhvnfmo6WP6wF3He/m5c/Gj+xcoyIlj9bzKzAmzKXP5MUA6+gJ5Y/aHzD0xb/lz+sGBwg7kKWP55HAx+eY5c/KwFqpBLZlT8OWQtURieXP+0DOSmjOpY/vlOt8Bdflz/anIDBzOuVP7jpeOFyhZY/wx4BKRsllj8JjDFrvo6XPyKr4tL9NpY/MOyX8eLclj+R6cg/IkaWPwm7QXxugZg/wOPLOeEplj/kafmBqzyXPyHMSwz9E5Y/1s/5KFzelz9BuyVmFtiVP9pTGAG7QJc/IwwyrVFllj/Lbf8dBuSXP31uaHDRG5Y/e8wiwlCNlz9ryc3gGRmWPzujwBVj85Y/5viM4zVnlj8lyPnHyiCXPzjx3UJg4pU/2b/Wlh+1lz+sHd7sZWuWPz//pChWvpc/PHGFK+wdlj8JBKnRrAeXPyXahJN5AZY/eWXYaiyZlz8R+KJcLj+WP9MuWllka5g/xeOn5ig9lj+OC4DWqUGXPyIGGkFKwpY/bV8q7HX4lj+TpZUlj7OWP1w1Q8V70pY/wCtyOxpzlj/RohsMcw+XP6tHk9Qpn5Y/yyCJFag5lz/UuqawBbKWPyvJUAR9OJc/YY20RlOjlj8W/+CF6rKWP5riIUWGX5Y/qVEVe+valj8P+aZbF72WPz536dixIpc/ukuNEE/vlj/quqxs7TyXPznDMOHtjJY/nM2XTv3Elj8mEfBak5+WP3uAng4zPpc/SyxAqGLIlj/KE0U07DSXP3LzuOhmw5Y/ZV1cRQ75lj/DyPCg05qWP7VMrvl40ZY/jhdtGHttlj+XFIktCNSWP3VEfnEqp5Y/ctD3rHgFmD8fj87opaWYP1F89wlQHpg/PFQs47h1mD8aQ1VX/xeYP7SMH9gTPZg/8OYcmFgTmD8MWCYHQt+YP8dVnxP7Pqw/8b1eY4/jpz841gyZF0KXP74uKEHLG5Y/nODpzjJMlz+n60kW9DGWP2SDeCGiCJc/MF7VuptAlj9+njMeMSaYP8kMwdgnI5Y/6aEcjFX0lz+iVi67JiCWP8ZI4aORQ5c/U62lPhIplj+VduoUKLKXP5VBJlwxBZY/zo0oTyTXlz/M/quZNFKWP9E6xYLH/pc/j8ogJagylj/Z8gU9XcaWP3Af6BW/WJY/eu/98mLYlz8QpfvGfSaWP+s/jdmWjJg//IETGO9Tlj+dWO4cCPKWP4DvpQHRD5Y/GnJVCqz0lz8guYiVHXqWP8fM1yr9Kpc/3MhcwwIAlj9sxlzovBSYP2aqqxGBSJY/Hkk1HS4lmD+mACBA6fiVPyzTgxD9y5c//pS5PqcKlj/hLEnC4pSXP5U0vCbFKZY/T5Vo5bW2mD98q+diXvGVP/6P3yj0jZc/yBYPuhxKlj+ujDauePiXPziVcfsKYpY/4erxXI5AmD+9LxytrWeWP+6aHZ+7g5c/XN6Z9AbwlT+wtVYZugiXP4TRxugT+5U/ZdYKUqimlz/4yfKNajuWP0b1ayVTiZc/XhDUq2gqlj8jk/DyyamXP9Gaz/p8G5Y/47d282SMmD9q1ERdcjGWPxE/7HI3dZc/+8/XTO/llT807XXSO/yWP3z2qzuW5pU/rSsiRovvlz+Km9J5DA6WP8blrYt2SZY/h/GOXmATlj+awwEIF1yWP4x5O2c8gpY/AZthNrCxlj9kprxucmmWP2GZuUzgcpY/DXyehhtelj8n2vFQmbWWPx6694pHQJY/0gNHVspZlj9eIY8X6EmWP4T7yHjCz5Y/8vCfiEkulj+hAK+zg2+WP3RQSWehPpY/MEoHtKtZlj+5QOFjnUSWP3lgtsQDYJY//gtPU4Jklj+/iITGel6WP/ZRG0CCWpY/WOH6SPBWlj8DpRY1/laWP23u1hY+n5Y/TCnIZ+Imlj9P8EOnxJGWP9fcVepORZY/02kOkkEflj8UBAvYC+2VP3VpApWLXJY/NDzRbCRclj8fp0mqvYqWP1b4jsI945Y/CQbJtmJ2lj8RLnM3R/mWP/cPIrTBV5Y/wUooonDPlj9ovCyjWHmWPxcMUOXoUpc/fVXbC9S7nT/8851eR++XPw=="
         },
         "yaxis": "y2",
         "type": "violin"
        }
       ],
       "layout": {
        "template": {
         "data": {
          "histogram2dcontour": [
           {
            "type": "histogram2dcontour",
            "colorbar": {
             "outlinewidth": 0,
             "ticks": ""
            },
            "colorscale": [
             [
              0.0,
              "#0d0887"
             ],
             [
              0.1111111111111111,
              "#46039f"
             ],
             [
              0.2222222222222222,
              "#7201a8"
             ],
             [
              0.3333333333333333,
              "#9c179e"
             ],
             [
              0.4444444444444444,
              "#bd3786"
             ],
             [
              0.5555555555555556,
              "#d8576b"
             ],
             [
              0.6666666666666666,
              "#ed7953"
             ],
             [
              0.7777777777777778,
              "#fb9f3a"
             ],
             [
              0.8888888888888888,
              "#fdca26"
             ],
             [
              1.0,
              "#f0f921"
             ]
            ]
           }
          ],
          "choropleth": [
           {
            "type": "choropleth",
            "colorbar": {
             "outlinewidth": 0,
             "ticks": ""
            }
           }
          ],
          "histogram2d": [
           {
            "type": "histogram2d",
            "colorbar": {
             "outlinewidth": 0,
             "ticks": ""
            },
            "colorscale": [
             [
              0.0,
              "#0d0887"
             ],
             [
              0.1111111111111111,
              "#46039f"
             ],
             [
              0.2222222222222222,
              "#7201a8"
             ],
             [
              0.3333333333333333,
              "#9c179e"
             ],
             [
              0.4444444444444444,
              "#bd3786"
             ],
             [
              0.5555555555555556,
              "#d8576b"
             ],
             [
              0.6666666666666666,
              "#ed7953"
             ],
             [
              0.7777777777777778,
              "#fb9f3a"
             ],
             [
              0.8888888888888888,
              "#fdca26"
             ],
             [
              1.0,
              "#f0f921"
             ]
            ]
           }
          ],
          "heatmap": [
           {
            "type": "heatmap",
            "colorbar": {
             "outlinewidth": 0,
             "ticks": ""
            },
            "colorscale": [
             [
              0.0,
              "#0d0887"
             ],
             [
              0.1111111111111111,
              "#46039f"
             ],
             [
              0.2222222222222222,
              "#7201a8"
             ],
             [
              0.3333333333333333,
              "#9c179e"
             ],
             [
              0.4444444444444444,
              "#bd3786"
             ],
             [
              0.5555555555555556,
              "#d8576b"
             ],
             [
              0.6666666666666666,
              "#ed7953"
             ],
             [
              0.7777777777777778,
              "#fb9f3a"
             ],
             [
              0.8888888888888888,
              "#fdca26"
             ],
             [
              1.0,
              "#f0f921"
             ]
            ]
           }
          ],
          "contourcarpet": [
           {
            "type": "contourcarpet",
            "colorbar": {
             "outlinewidth": 0,
             "ticks": ""
            }
           }
          ],
          "contour": [
           {
            "type": "contour",
            "colorbar": {
             "outlinewidth": 0,
             "ticks": ""
            },
            "colorscale": [
             [
              0.0,
              "#0d0887"
             ],
             [
              0.1111111111111111,
              "#46039f"
             ],
             [
              0.2222222222222222,
              "#7201a8"
             ],
             [
              0.3333333333333333,
              "#9c179e"
             ],
             [
              0.4444444444444444,
              "#bd3786"
             ],
             [
              0.5555555555555556,
              "#d8576b"
             ],
             [
              0.6666666666666666,
              "#ed7953"
             ],
             [
              0.7777777777777778,
              "#fb9f3a"
             ],
             [
              0.8888888888888888,
              "#fdca26"
             ],
             [
              1.0,
              "#f0f921"
             ]
            ]
           }
          ],
          "surface": [
           {
            "type": "surface",
            "colorbar": {
             "outlinewidth": 0,
             "ticks": ""
            },
            "colorscale": [
             [
              0.0,
              "#0d0887"
             ],
             [
              0.1111111111111111,
              "#46039f"
             ],
             [
              0.2222222222222222,
              "#7201a8"
             ],
             [
              0.3333333333333333,
              "#9c179e"
             ],
             [
              0.4444444444444444,
              "#bd3786"
             ],
             [
              0.5555555555555556,
              "#d8576b"
             ],
             [
              0.6666666666666666,
              "#ed7953"
             ],
             [
              0.7777777777777778,
              "#fb9f3a"
             ],
             [
              0.8888888888888888,
              "#fdca26"
             ],
             [
              1.0,
              "#f0f921"
             ]
            ]
           }
          ],
          "mesh3d": [
           {
            "type": "mesh3d",
            "colorbar": {
             "outlinewidth": 0,
             "ticks": ""
            }
           }
          ],
          "scatter": [
           {
            "marker": {
             "line": {
              "color": "#283442"
             }
            },
            "type": "scatter"
           }
          ],
          "parcoords": [
           {
            "type": "parcoords",
            "line": {
             "colorbar": {
              "outlinewidth": 0,
              "ticks": ""
             }
            }
           }
          ],
          "scatterpolargl": [
           {
            "type": "scatterpolargl",
            "marker": {
             "colorbar": {
              "outlinewidth": 0,
              "ticks": ""
             }
            }
           }
          ],
          "bar": [
           {
            "error_x": {
             "color": "#f2f5fa"
            },
            "error_y": {
             "color": "#f2f5fa"
            },
            "marker": {
             "line": {
              "color": "rgb(17,17,17)",
              "width": 0.5
             },
             "pattern": {
              "fillmode": "overlay",
              "size": 10,
              "solidity": 0.2
             }
            },
            "type": "bar"
           }
          ],
          "scattergeo": [
           {
            "type": "scattergeo",
            "marker": {
             "colorbar": {
              "outlinewidth": 0,
              "ticks": ""
             }
            }
           }
          ],
          "scatterpolar": [
           {
            "type": "scatterpolar",
            "marker": {
             "colorbar": {
              "outlinewidth": 0,
              "ticks": ""
             }
            }
           }
          ],
          "histogram": [
           {
            "marker": {
             "pattern": {
              "fillmode": "overlay",
              "size": 10,
              "solidity": 0.2
             }
            },
            "type": "histogram"
           }
          ],
          "scattergl": [
           {
            "marker": {
             "line": {
              "color": "#283442"
             }
            },
            "type": "scattergl"
           }
          ],
          "scatter3d": [
           {
            "type": "scatter3d",
            "line": {
             "colorbar": {
              "outlinewidth": 0,
              "ticks": ""
             }
            },
            "marker": {
             "colorbar": {
              "outlinewidth": 0,
              "ticks": ""
             }
            }
           }
          ],
          "scattermap": [
           {
            "type": "scattermap",
            "marker": {
             "colorbar": {
              "outlinewidth": 0,
              "ticks": ""
             }
            }
           }
          ],
          "scattermapbox": [
           {
            "type": "scattermapbox",
            "marker": {
             "colorbar": {
              "outlinewidth": 0,
              "ticks": ""
             }
            }
           }
          ],
          "scatterternary": [
           {
            "type": "scatterternary",
            "marker": {
             "colorbar": {
              "outlinewidth": 0,
              "ticks": ""
             }
            }
           }
          ],
          "scattercarpet": [
           {
            "type": "scattercarpet",
            "marker": {
             "colorbar": {
              "outlinewidth": 0,
              "ticks": ""
             }
            }
           }
          ],
          "carpet": [
           {
            "aaxis": {
             "endlinecolor": "#A2B1C6",
             "gridcolor": "#506784",
             "linecolor": "#506784",
             "minorgridcolor": "#506784",
             "startlinecolor": "#A2B1C6"
            },
            "baxis": {
             "endlinecolor": "#A2B1C6",
             "gridcolor": "#506784",
             "linecolor": "#506784",
             "minorgridcolor": "#506784",
             "startlinecolor": "#A2B1C6"
            },
            "type": "carpet"
           }
          ],
          "table": [
           {
            "cells": {
             "fill": {
              "color": "#506784"
             },
             "line": {
              "color": "rgb(17,17,17)"
             }
            },
            "header": {
             "fill": {
              "color": "#2a3f5f"
             },
             "line": {
              "color": "rgb(17,17,17)"
             }
            },
            "type": "table"
           }
          ],
          "barpolar": [
           {
            "marker": {
             "line": {
              "color": "rgb(17,17,17)",
              "width": 0.5
             },
             "pattern": {
              "fillmode": "overlay",
              "size": 10,
              "solidity": 0.2
             }
            },
            "type": "barpolar"
           }
          ],
          "pie": [
           {
            "automargin": true,
            "type": "pie"
           }
          ]
         },
         "layout": {
          "autotypenumbers": "strict",
          "colorway": [
           "#636efa",
           "#EF553B",
           "#00cc96",
           "#ab63fa",
           "#FFA15A",
           "#19d3f3",
           "#FF6692",
           "#B6E880",
           "#FF97FF",
           "#FECB52"
          ],
          "font": {
           "color": "#f2f5fa"
          },
          "hovermode": "closest",
          "hoverlabel": {
           "align": "left"
          },
          "paper_bgcolor": "rgb(17,17,17)",
          "plot_bgcolor": "rgb(17,17,17)",
          "polar": {
           "bgcolor": "rgb(17,17,17)",
           "angularaxis": {
            "gridcolor": "#506784",
            "linecolor": "#506784",
            "ticks": ""
           },
           "radialaxis": {
            "gridcolor": "#506784",
            "linecolor": "#506784",
            "ticks": ""
           }
          },
          "ternary": {
           "bgcolor": "rgb(17,17,17)",
           "aaxis": {
            "gridcolor": "#506784",
            "linecolor": "#506784",
            "ticks": ""
           },
           "baxis": {
            "gridcolor": "#506784",
            "linecolor": "#506784",
            "ticks": ""
           },
           "caxis": {
            "gridcolor": "#506784",
            "linecolor": "#506784",
            "ticks": ""
           }
          },
          "coloraxis": {
           "colorbar": {
            "outlinewidth": 0,
            "ticks": ""
           }
          },
          "colorscale": {
           "sequential": [
            [
             0.0,
             "#0d0887"
            ],
            [
             0.1111111111111111,
             "#46039f"
            ],
            [
             0.2222222222222222,
             "#7201a8"
            ],
            [
             0.3333333333333333,
             "#9c179e"
            ],
            [
             0.4444444444444444,
             "#bd3786"
            ],
            [
             0.5555555555555556,
             "#d8576b"
            ],
            [
             0.6666666666666666,
             "#ed7953"
            ],
            [
             0.7777777777777778,
             "#fb9f3a"
            ],
            [
             0.8888888888888888,
             "#fdca26"
            ],
            [
             1.0,
             "#f0f921"
            ]
           ],
           "sequentialminus": [
            [
             0.0,
             "#0d0887"
            ],
            [
             0.1111111111111111,
             "#46039f"
            ],
            [
             0.2222222222222222,
             "#7201a8"
            ],
            [
             0.3333333333333333,
             "#9c179e"
            ],
            [
             0.4444444444444444,
             "#bd3786"
            ],
            [
             0.5555555555555556,
             "#d8576b"
            ],
            [
             0.6666666666666666,
             "#ed7953"
            ],
            [
             0.7777777777777778,
             "#fb9f3a"
            ],
            [
             0.8888888888888888,
             "#fdca26"
            ],
            [
             1.0,
             "#f0f921"
            ]
           ],
           "diverging": [
            [
             0,
             "#8e0152"
            ],
            [
             0.1,
             "#c51b7d"
            ],
            [
             0.2,
             "#de77ae"
            ],
            [
             0.3,
             "#f1b6da"
            ],
            [
             0.4,
             "#fde0ef"
            ],
            [
             0.5,
             "#f7f7f7"
            ],
            [
             0.6,
             "#e6f5d0"
            ],
            [
             0.7,
             "#b8e186"
            ],
            [
             0.8,
             "#7fbc41"
            ],
            [
             0.9,
             "#4d9221"
            ],
            [
             1,
             "#276419"
            ]
           ]
          },
          "xaxis": {
           "gridcolor": "#283442",
           "linecolor": "#506784",
           "ticks": "",
           "title": {
            "standoff": 15
           },
           "zerolinecolor": "#283442",
           "automargin": true,
           "zerolinewidth": 2
          },
          "yaxis": {
           "gridcolor": "#283442",
           "linecolor": "#506784",
           "ticks": "",
           "title": {
            "standoff": 15
           },
           "zerolinecolor": "#283442",
           "automargin": true,
           "zerolinewidth": 2
          },
          "scene": {
           "xaxis": {
            "backgroundcolor": "rgb(17,17,17)",
            "gridcolor": "#506784",
            "linecolor": "#506784",
            "showbackground": true,
            "ticks": "",
            "zerolinecolor": "#C8D4E3",
            "gridwidth": 2
           },
           "yaxis": {
            "backgroundcolor": "rgb(17,17,17)",
            "gridcolor": "#506784",
            "linecolor": "#506784",
            "showbackground": true,
            "ticks": "",
            "zerolinecolor": "#C8D4E3",
            "gridwidth": 2
           },
           "zaxis": {
            "backgroundcolor": "rgb(17,17,17)",
            "gridcolor": "#506784",
            "linecolor": "#506784",
            "showbackground": true,
            "ticks": "",
            "zerolinecolor": "#C8D4E3",
            "gridwidth": 2
           }
          },
          "shapedefaults": {
           "line": {
            "color": "#f2f5fa"
           }
          },
          "annotationdefaults": {
           "arrowcolor": "#f2f5fa",
           "arrowhead": 0,
           "arrowwidth": 1
          },
          "geo": {
           "bgcolor": "rgb(17,17,17)",
           "landcolor": "rgb(17,17,17)",
           "subunitcolor": "#506784",
           "showland": true,
           "showlakes": true,
           "lakecolor": "rgb(17,17,17)"
          },
          "title": {
           "x": 0.05
          },
          "updatemenudefaults": {
           "bgcolor": "#506784",
           "borderwidth": 0
          },
          "sliderdefaults": {
           "bgcolor": "#C8D4E3",
           "borderwidth": 1,
           "bordercolor": "rgb(17,17,17)",
           "tickwidth": 0
          },
          "mapbox": {
           "style": "dark"
          }
         }
        },
        "xaxis": {
         "anchor": "y",
         "domain": [
          0.0,
          0.7363
         ],
         "title": {
          "text": "x"
         }
        },
        "yaxis": {
         "anchor": "x",
         "domain": [
          0.0,
          1.0
         ],
         "title": {
          "text": "total_time_per_output_token"
         }
        },
        "xaxis2": {
         "anchor": "y2",
         "domain": [
          0.7413,
          1.0
         ],
         "matches": "x2",
         "showticklabels": false,
         "showline": false,
         "ticks": "",
         "showgrid": false
        },
        "yaxis2": {
         "anchor": "x2",
         "domain": [
          0.0,
          1.0
         ],
         "matches": "y",
         "showticklabels": false,
         "showgrid": true
        },
        "legend": {
         "title": {
          "text": "prompt_complexity"
         },
         "tracegroupgap": 0,
         "itemsizing": "constant"
        },
        "margin": {
         "t": 60
        }
       },
       "config": {
        "plotlyServerURL": "https://plot.ly"
       }
      }
     },
     "metadata": {},
     "output_type": "display_data",
     "jetTransient": {
      "display_id": null
     }
    },
    {
     "data": {
      "application/vnd.plotly.v1+json": {
       "data": [
        {
         "hovertemplate": "prompt_complexity=easy<br>x=%{x}<br>output_tokens=%{y}<extra></extra>",
         "legendgroup": "easy",
         "marker": {
          "color": "#636efa",
          "symbol": "circle"
         },
         "mode": "markers",
         "name": "easy",
         "orientation": "v",
         "showlegend": true,
         "x": {
          "dtype": "i2",
          "bdata": "AAABAAIAAwAEAAUABgAHAAgACQAKAAsADAANAA4ADwAQABEAEgATABQAFQAWABcAGAAZABoAGwAcAB0AHgAfACAAIQAiACMAJAAlACYAJwAoACkAKgArACwALQAuAC8AMAAxADIAMwA0ADUANgA3ADgAOQA6ADsAPAA9AD4APwBAAEEAQgBDAEQARQBGAEcASABJAEoASwBMAE0ATgBPAFAAUQBSAFMAVABVAFYAVwBYAFkAWgBbAFwAXQBeAF8AYABhAGIAYwBkAGUAZgBnAGgAaQBqAGsAbABtAG4AbwBwAHEAcgBzAHQAdQB2AHcAeAB5AHoAewB8AH0AfgB/AIAAgQCCAIMAhACFAIYAhwCIAIkAigCLAIwAjQCOAI8AkACRAJIAkwCUAJUAlgCXAJgAmQCaAJsAnACdAJ4AnwCgAKEAogCjAKQApQCmAKcAqACpAKoAqwCsAK0ArgCvALAAsQCyALMAtAC1ALYAtwC4ALkAugC7ALwAvQC+AL8AwADBAMIAwwDEAMUAxgDHAMgAyQDKAMsAzADNAM4AzwDQANEA0gDTAA=="
         },
         "xaxis": "x",
         "y": {
          "dtype": "i2",
          "bdata": "JwAeAToAzQE2ANECJwDaACkAYgEfAPAANQB9AQkAjwAZAAEBCQBFASMACAFMAHwBFgA2AR0AYgArAGYBOgCXAS4AxQFDABUCMAChAhoAKQEFAIoAIAAMAA8AJgEMAFkBPwBwATgAJQI1AHkBKQB0AQsANAFDAAYCLgBsAhUAZgHEAB0CjQBrAh8BtwH9AAYDDgFVAocAhwLVABcC8wDKAtgA5AGUAAsDqAD8AQMBZQPEAD4CWwBpAasA+QH/AIIDSgNcBWYDWQfMA3cDDQPNBH0AfgAKAAoAMQCWAgMAcQEyAP0BBAA2AQMACQAtAHMCHACyADAA1gAyAFgCLgCdAAwABwAzAPEBBAAMAQUAxQAXAIUBCgAbAQkAZwA7AH0BKwALATkA+gExAHoBNgDxAScAiwALANQALgB8AQ4AKwEUABkBMQAUAjoAHwI6AOMBJQBoAaoAeAKhADMCegDSAZsALQKUAOUBvQAaA4sAFAO+ABkDrwDzAbUADQS7AEoEmQA5A30A9gBtACoC0gDbAncAsgA8AosEtwAgA8gBHwaRATcCWwGEAQ=="
         },
         "yaxis": "y",
         "type": "scatter"
        },
        {
         "alignmentgroup": "True",
         "hovertemplate": "prompt_complexity=easy<br>output_tokens=%{y}<extra></extra>",
         "legendgroup": "easy",
         "marker": {
          "color": "#636efa",
          "symbol": "circle"
         },
         "name": "easy",
         "offsetgroup": "easy",
         "scalegroup": "y",
         "showlegend": false,
         "xaxis": "x2",
         "y": {
          "dtype": "i2",
          "bdata": "JwAeAToAzQE2ANECJwDaACkAYgEfAPAANQB9AQkAjwAZAAEBCQBFASMACAFMAHwBFgA2AR0AYgArAGYBOgCXAS4AxQFDABUCMAChAhoAKQEFAIoAIAAMAA8AJgEMAFkBPwBwATgAJQI1AHkBKQB0AQsANAFDAAYCLgBsAhUAZgHEAB0CjQBrAh8BtwH9AAYDDgFVAocAhwLVABcC8wDKAtgA5AGUAAsDqAD8AQMBZQPEAD4CWwBpAasA+QH/AIIDSgNcBWYDWQfMA3cDDQPNBH0AfgAKAAoAMQCWAgMAcQEyAP0BBAA2AQMACQAtAHMCHACyADAA1gAyAFgCLgCdAAwABwAzAPEBBAAMAQUAxQAXAIUBCgAbAQkAZwA7AH0BKwALATkA+gExAHoBNgDxAScAiwALANQALgB8AQ4AKwEUABkBMQAUAjoAHwI6AOMBJQBoAaoAeAKhADMCegDSAZsALQKUAOUBvQAaA4sAFAO+ABkDrwDzAbUADQS7AEoEmQA5A30A9gBtACoC0gDbAncAsgA8AosEtwAgA8gBHwaRATcCWwGEAQ=="
         },
         "yaxis": "y2",
         "type": "violin"
        },
        {
         "hovertemplate": "prompt_complexity=hard<br>x=%{x}<br>output_tokens=%{y}<extra></extra>",
         "legendgroup": "hard",
         "marker": {
          "color": "#EF553B",
          "symbol": "circle"
         },
         "mode": "markers",
         "name": "hard",
         "orientation": "v",
         "showlegend": true,
         "x": {
          "dtype": "i2",
          "bdata": "1ADVANYA1wDYANkA2gDbANwA3QDeAN8A4ADhAOIA4wDkAOUA5gDnAOgA6QDqAOsA7ADtAO4A7wDwAPEA8gDzAPQA9QD2APcA+AD5APoA+wD8AP0A/gD/AAABAQECAQMBBAEFAQYBBwEIAQkBCgELAQwBDQEOAQ8BEAERARIBEwEUARUBFgEXARgBGQEaARsBHAEdAR4BHwEgASEBIgEjASQBJQEmAScBKAEpASoBKwEsAS0BLgEvATABMQEyATMBNAE1ATYBNwE4ATkBOgE7ATwBPQE+AT8BQAFBAUIBQwFEAUUBRgFHAUgBSQFKAUsBTAFNAU4BTwFQAVEBUgFTAVQBVQFWAVcBWAFZAVoBWwFcAV0BXgFfAWABYQFiAWMBZAFlAWYBZwFoAWkBagFrAWwBbQFuAW8BcAFxAXIBcwF0AXUBdgF3AXgBeQF6AXsBfAF9AX4BfwGAAYEBggGDAYQBhQGGAYcBiAGJAYoBiwGMAY0BjgGPAZABkQGSAZMBlAGVAZYBlwGYAZkBmgGbAZwBnQGeAZ8BoAGhAaIBowGkAaUBpgGnAQ=="
         },
         "xaxis": "x",
         "y": {
          "dtype": "i2",
          "bdata": "OwCCAmYAGAJNAJwCQAB7AkEA0AE/AD8CPwAPAzYAqgI9AJgCOwBEAlMA2QJZAOsBNwCmAU4AuAJLADcCPwBOAnEA2AFHAFUCUQA8AjQAZgJIAE0CNQDAAkQAaQI2AE4CNQCzAWAADgJOAN0COQAMAkEAAgJNAFwCTQAjAjUAGQKKAdwGKQFMBTkBFgMoAS8GdQHTBhEB3QTCAbgEVAFmB4MBbggwAdEFrgHDBBsBdwU4AVsGEwGgBE4BTgVbAcMFDQWWEI8FTA+wBJ8L5wXBEuoARgFHAB0CRQDZAUUAhAJJAPMBPgClAkIAywE5ADkCNACmAT4AuQFWANwBQwDsATcA3QFMAEoCLwBIAk0APwItALABKgBAATIAUwI8AEMCKQC3AjQAbQI5AOoBMgAfAjoArgFHACcCMAAQAjwACwIxAD8BKgC+ATwAlQJNAF0BMwBhAlwBVgV9AVIGbgGlBU4B/AWFAUAFcwFcBYsBZAVlAbsEAQELBHUBgQZfATAGYgG2BncBbQVfAfkG6gClA/AAKAXLAzgKvgTNC0kDugqlAyQQoADYBQ=="
         },
         "yaxis": "y",
         "type": "scatter"
        },
        {
         "alignmentgroup": "True",
         "hovertemplate": "prompt_complexity=hard<br>output_tokens=%{y}<extra></extra>",
         "legendgroup": "hard",
         "marker": {
          "color": "#EF553B",
          "symbol": "circle"
         },
         "name": "hard",
         "offsetgroup": "hard",
         "scalegroup": "y",
         "showlegend": false,
         "xaxis": "x2",
         "y": {
          "dtype": "i2",
          "bdata": "OwCCAmYAGAJNAJwCQAB7AkEA0AE/AD8CPwAPAzYAqgI9AJgCOwBEAlMA2QJZAOsBNwCmAU4AuAJLADcCPwBOAnEA2AFHAFUCUQA8AjQAZgJIAE0CNQDAAkQAaQI2AE4CNQCzAWAADgJOAN0COQAMAkEAAgJNAFwCTQAjAjUAGQKKAdwGKQFMBTkBFgMoAS8GdQHTBhEB3QTCAbgEVAFmB4MBbggwAdEFrgHDBBsBdwU4AVsGEwGgBE4BTgVbAcMFDQWWEI8FTA+wBJ8L5wXBEuoARgFHAB0CRQDZAUUAhAJJAPMBPgClAkIAywE5ADkCNACmAT4AuQFWANwBQwDsATcA3QFMAEoCLwBIAk0APwItALABKgBAATIAUwI8AEMCKQC3AjQAbQI5AOoBMgAfAjoArgFHACcCMAAQAjwACwIxAD8BKgC+ATwAlQJNAF0BMwBhAlwBVgV9AVIGbgGlBU4B/AWFAUAFcwFcBYsBZAVlAbsEAQELBHUBgQZfATAGYgG2BncBbQVfAfkG6gClA/AAKAXLAzgKvgTNC0kDugqlAyQQoADYBQ=="
         },
         "yaxis": "y2",
         "type": "violin"
        }
       ],
       "layout": {
        "template": {
         "data": {
          "histogram2dcontour": [
           {
            "type": "histogram2dcontour",
            "colorbar": {
             "outlinewidth": 0,
             "ticks": ""
            },
            "colorscale": [
             [
              0.0,
              "#0d0887"
             ],
             [
              0.1111111111111111,
              "#46039f"
             ],
             [
              0.2222222222222222,
              "#7201a8"
             ],
             [
              0.3333333333333333,
              "#9c179e"
             ],
             [
              0.4444444444444444,
              "#bd3786"
             ],
             [
              0.5555555555555556,
              "#d8576b"
             ],
             [
              0.6666666666666666,
              "#ed7953"
             ],
             [
              0.7777777777777778,
              "#fb9f3a"
             ],
             [
              0.8888888888888888,
              "#fdca26"
             ],
             [
              1.0,
              "#f0f921"
             ]
            ]
           }
          ],
          "choropleth": [
           {
            "type": "choropleth",
            "colorbar": {
             "outlinewidth": 0,
             "ticks": ""
            }
           }
          ],
          "histogram2d": [
           {
            "type": "histogram2d",
            "colorbar": {
             "outlinewidth": 0,
             "ticks": ""
            },
            "colorscale": [
             [
              0.0,
              "#0d0887"
             ],
             [
              0.1111111111111111,
              "#46039f"
             ],
             [
              0.2222222222222222,
              "#7201a8"
             ],
             [
              0.3333333333333333,
              "#9c179e"
             ],
             [
              0.4444444444444444,
              "#bd3786"
             ],
             [
              0.5555555555555556,
              "#d8576b"
             ],
             [
              0.6666666666666666,
              "#ed7953"
             ],
             [
              0.7777777777777778,
              "#fb9f3a"
             ],
             [
              0.8888888888888888,
              "#fdca26"
             ],
             [
              1.0,
              "#f0f921"
             ]
            ]
           }
          ],
          "heatmap": [
           {
            "type": "heatmap",
            "colorbar": {
             "outlinewidth": 0,
             "ticks": ""
            },
            "colorscale": [
             [
              0.0,
              "#0d0887"
             ],
             [
              0.1111111111111111,
              "#46039f"
             ],
             [
              0.2222222222222222,
              "#7201a8"
             ],
             [
              0.3333333333333333,
              "#9c179e"
             ],
             [
              0.4444444444444444,
              "#bd3786"
             ],
             [
              0.5555555555555556,
              "#d8576b"
             ],
             [
              0.6666666666666666,
              "#ed7953"
             ],
             [
              0.7777777777777778,
              "#fb9f3a"
             ],
             [
              0.8888888888888888,
              "#fdca26"
             ],
             [
              1.0,
              "#f0f921"
             ]
            ]
           }
          ],
          "contourcarpet": [
           {
            "type": "contourcarpet",
            "colorbar": {
             "outlinewidth": 0,
             "ticks": ""
            }
           }
          ],
          "contour": [
           {
            "type": "contour",
            "colorbar": {
             "outlinewidth": 0,
             "ticks": ""
            },
            "colorscale": [
             [
              0.0,
              "#0d0887"
             ],
             [
              0.1111111111111111,
              "#46039f"
             ],
             [
              0.2222222222222222,
              "#7201a8"
             ],
             [
              0.3333333333333333,
              "#9c179e"
             ],
             [
              0.4444444444444444,
              "#bd3786"
             ],
             [
              0.5555555555555556,
              "#d8576b"
             ],
             [
              0.6666666666666666,
              "#ed7953"
             ],
             [
              0.7777777777777778,
              "#fb9f3a"
             ],
             [
              0.8888888888888888,
              "#fdca26"
             ],
             [
              1.0,
              "#f0f921"
             ]
            ]
           }
          ],
          "surface": [
           {
            "type": "surface",
            "colorbar": {
             "outlinewidth": 0,
             "ticks": ""
            },
            "colorscale": [
             [
              0.0,
              "#0d0887"
             ],
             [
              0.1111111111111111,
              "#46039f"
             ],
             [
              0.2222222222222222,
              "#7201a8"
             ],
             [
              0.3333333333333333,
              "#9c179e"
             ],
             [
              0.4444444444444444,
              "#bd3786"
             ],
             [
              0.5555555555555556,
              "#d8576b"
             ],
             [
              0.6666666666666666,
              "#ed7953"
             ],
             [
              0.7777777777777778,
              "#fb9f3a"
             ],
             [
              0.8888888888888888,
              "#fdca26"
             ],
             [
              1.0,
              "#f0f921"
             ]
            ]
           }
          ],
          "mesh3d": [
           {
            "type": "mesh3d",
            "colorbar": {
             "outlinewidth": 0,
             "ticks": ""
            }
           }
          ],
          "scatter": [
           {
            "marker": {
             "line": {
              "color": "#283442"
             }
            },
            "type": "scatter"
           }
          ],
          "parcoords": [
           {
            "type": "parcoords",
            "line": {
             "colorbar": {
              "outlinewidth": 0,
              "ticks": ""
             }
            }
           }
          ],
          "scatterpolargl": [
           {
            "type": "scatterpolargl",
            "marker": {
             "colorbar": {
              "outlinewidth": 0,
              "ticks": ""
             }
            }
           }
          ],
          "bar": [
           {
            "error_x": {
             "color": "#f2f5fa"
            },
            "error_y": {
             "color": "#f2f5fa"
            },
            "marker": {
             "line": {
              "color": "rgb(17,17,17)",
              "width": 0.5
             },
             "pattern": {
              "fillmode": "overlay",
              "size": 10,
              "solidity": 0.2
             }
            },
            "type": "bar"
           }
          ],
          "scattergeo": [
           {
            "type": "scattergeo",
            "marker": {
             "colorbar": {
              "outlinewidth": 0,
              "ticks": ""
             }
            }
           }
          ],
          "scatterpolar": [
           {
            "type": "scatterpolar",
            "marker": {
             "colorbar": {
              "outlinewidth": 0,
              "ticks": ""
             }
            }
           }
          ],
          "histogram": [
           {
            "marker": {
             "pattern": {
              "fillmode": "overlay",
              "size": 10,
              "solidity": 0.2
             }
            },
            "type": "histogram"
           }
          ],
          "scattergl": [
           {
            "marker": {
             "line": {
              "color": "#283442"
             }
            },
            "type": "scattergl"
           }
          ],
          "scatter3d": [
           {
            "type": "scatter3d",
            "line": {
             "colorbar": {
              "outlinewidth": 0,
              "ticks": ""
             }
            },
            "marker": {
             "colorbar": {
              "outlinewidth": 0,
              "ticks": ""
             }
            }
           }
          ],
          "scattermap": [
           {
            "type": "scattermap",
            "marker": {
             "colorbar": {
              "outlinewidth": 0,
              "ticks": ""
             }
            }
           }
          ],
          "scattermapbox": [
           {
            "type": "scattermapbox",
            "marker": {
             "colorbar": {
              "outlinewidth": 0,
              "ticks": ""
             }
            }
           }
          ],
          "scatterternary": [
           {
            "type": "scatterternary",
            "marker": {
             "colorbar": {
              "outlinewidth": 0,
              "ticks": ""
             }
            }
           }
          ],
          "scattercarpet": [
           {
            "type": "scattercarpet",
            "marker": {
             "colorbar": {
              "outlinewidth": 0,
              "ticks": ""
             }
            }
           }
          ],
          "carpet": [
           {
            "aaxis": {
             "endlinecolor": "#A2B1C6",
             "gridcolor": "#506784",
             "linecolor": "#506784",
             "minorgridcolor": "#506784",
             "startlinecolor": "#A2B1C6"
            },
            "baxis": {
             "endlinecolor": "#A2B1C6",
             "gridcolor": "#506784",
             "linecolor": "#506784",
             "minorgridcolor": "#506784",
             "startlinecolor": "#A2B1C6"
            },
            "type": "carpet"
           }
          ],
          "table": [
           {
            "cells": {
             "fill": {
              "color": "#506784"
             },
             "line": {
              "color": "rgb(17,17,17)"
             }
            },
            "header": {
             "fill": {
              "color": "#2a3f5f"
             },
             "line": {
              "color": "rgb(17,17,17)"
             }
            },
            "type": "table"
           }
          ],
          "barpolar": [
           {
            "marker": {
             "line": {
              "color": "rgb(17,17,17)",
              "width": 0.5
             },
             "pattern": {
              "fillmode": "overlay",
              "size": 10,
              "solidity": 0.2
             }
            },
            "type": "barpolar"
           }
          ],
          "pie": [
           {
            "automargin": true,
            "type": "pie"
           }
          ]
         },
         "layout": {
          "autotypenumbers": "strict",
          "colorway": [
           "#636efa",
           "#EF553B",
           "#00cc96",
           "#ab63fa",
           "#FFA15A",
           "#19d3f3",
           "#FF6692",
           "#B6E880",
           "#FF97FF",
           "#FECB52"
          ],
          "font": {
           "color": "#f2f5fa"
          },
          "hovermode": "closest",
          "hoverlabel": {
           "align": "left"
          },
          "paper_bgcolor": "rgb(17,17,17)",
          "plot_bgcolor": "rgb(17,17,17)",
          "polar": {
           "bgcolor": "rgb(17,17,17)",
           "angularaxis": {
            "gridcolor": "#506784",
            "linecolor": "#506784",
            "ticks": ""
           },
           "radialaxis": {
            "gridcolor": "#506784",
            "linecolor": "#506784",
            "ticks": ""
           }
          },
          "ternary": {
           "bgcolor": "rgb(17,17,17)",
           "aaxis": {
            "gridcolor": "#506784",
            "linecolor": "#506784",
            "ticks": ""
           },
           "baxis": {
            "gridcolor": "#506784",
            "linecolor": "#506784",
            "ticks": ""
           },
           "caxis": {
            "gridcolor": "#506784",
            "linecolor": "#506784",
            "ticks": ""
           }
          },
          "coloraxis": {
           "colorbar": {
            "outlinewidth": 0,
            "ticks": ""
           }
          },
          "colorscale": {
           "sequential": [
            [
             0.0,
             "#0d0887"
            ],
            [
             0.1111111111111111,
             "#46039f"
            ],
            [
             0.2222222222222222,
             "#7201a8"
            ],
            [
             0.3333333333333333,
             "#9c179e"
            ],
            [
             0.4444444444444444,
             "#bd3786"
            ],
            [
             0.5555555555555556,
             "#d8576b"
            ],
            [
             0.6666666666666666,
             "#ed7953"
            ],
            [
             0.7777777777777778,
             "#fb9f3a"
            ],
            [
             0.8888888888888888,
             "#fdca26"
            ],
            [
             1.0,
             "#f0f921"
            ]
           ],
           "sequentialminus": [
            [
             0.0,
             "#0d0887"
            ],
            [
             0.1111111111111111,
             "#46039f"
            ],
            [
             0.2222222222222222,
             "#7201a8"
            ],
            [
             0.3333333333333333,
             "#9c179e"
            ],
            [
             0.4444444444444444,
             "#bd3786"
            ],
            [
             0.5555555555555556,
             "#d8576b"
            ],
            [
             0.6666666666666666,
             "#ed7953"
            ],
            [
             0.7777777777777778,
             "#fb9f3a"
            ],
            [
             0.8888888888888888,
             "#fdca26"
            ],
            [
             1.0,
             "#f0f921"
            ]
           ],
           "diverging": [
            [
             0,
             "#8e0152"
            ],
            [
             0.1,
             "#c51b7d"
            ],
            [
             0.2,
             "#de77ae"
            ],
            [
             0.3,
             "#f1b6da"
            ],
            [
             0.4,
             "#fde0ef"
            ],
            [
             0.5,
             "#f7f7f7"
            ],
            [
             0.6,
             "#e6f5d0"
            ],
            [
             0.7,
             "#b8e186"
            ],
            [
             0.8,
             "#7fbc41"
            ],
            [
             0.9,
             "#4d9221"
            ],
            [
             1,
             "#276419"
            ]
           ]
          },
          "xaxis": {
           "gridcolor": "#283442",
           "linecolor": "#506784",
           "ticks": "",
           "title": {
            "standoff": 15
           },
           "zerolinecolor": "#283442",
           "automargin": true,
           "zerolinewidth": 2
          },
          "yaxis": {
           "gridcolor": "#283442",
           "linecolor": "#506784",
           "ticks": "",
           "title": {
            "standoff": 15
           },
           "zerolinecolor": "#283442",
           "automargin": true,
           "zerolinewidth": 2
          },
          "scene": {
           "xaxis": {
            "backgroundcolor": "rgb(17,17,17)",
            "gridcolor": "#506784",
            "linecolor": "#506784",
            "showbackground": true,
            "ticks": "",
            "zerolinecolor": "#C8D4E3",
            "gridwidth": 2
           },
           "yaxis": {
            "backgroundcolor": "rgb(17,17,17)",
            "gridcolor": "#506784",
            "linecolor": "#506784",
            "showbackground": true,
            "ticks": "",
            "zerolinecolor": "#C8D4E3",
            "gridwidth": 2
           },
           "zaxis": {
            "backgroundcolor": "rgb(17,17,17)",
            "gridcolor": "#506784",
            "linecolor": "#506784",
            "showbackground": true,
            "ticks": "",
            "zerolinecolor": "#C8D4E3",
            "gridwidth": 2
           }
          },
          "shapedefaults": {
           "line": {
            "color": "#f2f5fa"
           }
          },
          "annotationdefaults": {
           "arrowcolor": "#f2f5fa",
           "arrowhead": 0,
           "arrowwidth": 1
          },
          "geo": {
           "bgcolor": "rgb(17,17,17)",
           "landcolor": "rgb(17,17,17)",
           "subunitcolor": "#506784",
           "showland": true,
           "showlakes": true,
           "lakecolor": "rgb(17,17,17)"
          },
          "title": {
           "x": 0.05
          },
          "updatemenudefaults": {
           "bgcolor": "#506784",
           "borderwidth": 0
          },
          "sliderdefaults": {
           "bgcolor": "#C8D4E3",
           "borderwidth": 1,
           "bordercolor": "rgb(17,17,17)",
           "tickwidth": 0
          },
          "mapbox": {
           "style": "dark"
          }
         }
        },
        "xaxis": {
         "anchor": "y",
         "domain": [
          0.0,
          0.7363
         ],
         "title": {
          "text": "x"
         }
        },
        "yaxis": {
         "anchor": "x",
         "domain": [
          0.0,
          1.0
         ],
         "title": {
          "text": "output_tokens"
         }
        },
        "xaxis2": {
         "anchor": "y2",
         "domain": [
          0.7413,
          1.0
         ],
         "matches": "x2",
         "showticklabels": false,
         "showline": false,
         "ticks": "",
         "showgrid": false
        },
        "yaxis2": {
         "anchor": "x2",
         "domain": [
          0.0,
          1.0
         ],
         "matches": "y",
         "showticklabels": false,
         "showgrid": true
        },
        "legend": {
         "title": {
          "text": "prompt_complexity"
         },
         "tracegroupgap": 0
        },
        "margin": {
         "t": 60
        }
       },
       "config": {
        "plotlyServerURL": "https://plot.ly"
       }
      }
     },
     "metadata": {},
     "output_type": "display_data",
     "jetTransient": {
      "display_id": null
     }
    }
   ],
   "execution_count": 183
  },
  {
   "metadata": {
    "ExecuteTime": {
     "end_time": "2025-10-11T19:37:16.143558Z",
     "start_time": "2025-10-11T19:37:15.999119Z"
    }
   },
   "cell_type": "code",
   "source": [
    "rtx_df = process(\"RTX4060\")\n",
    "u9_df = process(\"Ultra9-185H\")\n",
    "m3_df = process(\"M3\")\n",
    "\n",
    "all_df = pd.concat([rtx_df, u9_df, m3_df], ignore_index=True)\n",
    "device_df = all_df.groupby(\"device\")\n",
    "\n",
    "merged = pd.concat([device_df[\"load_time\"].mean(),device_df[\"load_time\"].var(),device_df[\"load_time_per_input_token\"].mean(), device_df[\"prompt_eval_time_per_input_token\"].mean(), device_df[\"output_eval_time_per_output_token\"].mean()], axis=1)\n",
    "merged.columns = [\"load_time_mean\", \"load_time_var\",\"load_time_per_input_token_mean\",\"prompt_eval_time_per_token_mean\", \"output_eval_time_per_token_mean\"]\n",
    "\n",
    "fig = px.bar(merged, y=[\"load_time_mean\", \"load_time_var\"])\n",
    "fig.show()\n",
    "\n",
    "fig = px.bar(merged, y=[\"load_time_per_input_token_mean\",\"prompt_eval_time_per_token_mean\", \"output_eval_time_per_token_mean\"])\n",
    "fig.show()"
   ],
   "id": "8c74dca65e2b5d03",
   "outputs": [
    {
     "name": "stdout",
     "output_type": "stream",
     "text": [
      "Index(['prompts', 'input_tokens', 'output_tokens', 'total_time', 'load_time',\n",
      "       'prompt_eval_time', 'output_eval_time', 'prompt_complexity',\n",
      "       'prompt_length', 'output_length', 'device', 'input_tokens_per_prompt',\n",
      "       'output_tokens_per_prompt', 'load_time_per_input_token',\n",
      "       'prompt_eval_time_per_input_token', 'output_eval_time_per_output_token',\n",
      "       'total_time_per_input_token', 'total_time_per_output_token'],\n",
      "      dtype='object')\n"
     ]
    },
    {
     "data": {
      "application/vnd.plotly.v1+json": {
       "data": [
        {
         "hovertemplate": "variable=load_time_mean<br>device=%{x}<br>value=%{y}<extra></extra>",
         "legendgroup": "load_time_mean",
         "marker": {
          "color": "#636efa",
          "pattern": {
           "shape": ""
          }
         },
         "name": "load_time_mean",
         "orientation": "v",
         "showlegend": true,
         "textposition": "auto",
         "x": [
          "M3",
          "RTX4060",
          "Ultra9-185H"
         ],
         "xaxis": "x",
         "y": {
          "dtype": "f8",
          "bdata": "HURfISK3pz/kVjne/3W/P4KjnKxpl8M/"
         },
         "yaxis": "y",
         "type": "bar"
        },
        {
         "hovertemplate": "variable=load_time_var<br>device=%{x}<br>value=%{y}<extra></extra>",
         "legendgroup": "load_time_var",
         "marker": {
          "color": "#EF553B",
          "pattern": {
           "shape": ""
          }
         },
         "name": "load_time_var",
         "orientation": "v",
         "showlegend": true,
         "textposition": "auto",
         "x": [
          "M3",
          "RTX4060",
          "Ultra9-185H"
         ],
         "xaxis": "x",
         "y": {
          "dtype": "f8",
          "bdata": "5cL4EtZ8/T7ExkNRrzslP1qKoVug5FU/"
         },
         "yaxis": "y",
         "type": "bar"
        }
       ],
       "layout": {
        "template": {
         "data": {
          "histogram2dcontour": [
           {
            "type": "histogram2dcontour",
            "colorbar": {
             "outlinewidth": 0,
             "ticks": ""
            },
            "colorscale": [
             [
              0.0,
              "#0d0887"
             ],
             [
              0.1111111111111111,
              "#46039f"
             ],
             [
              0.2222222222222222,
              "#7201a8"
             ],
             [
              0.3333333333333333,
              "#9c179e"
             ],
             [
              0.4444444444444444,
              "#bd3786"
             ],
             [
              0.5555555555555556,
              "#d8576b"
             ],
             [
              0.6666666666666666,
              "#ed7953"
             ],
             [
              0.7777777777777778,
              "#fb9f3a"
             ],
             [
              0.8888888888888888,
              "#fdca26"
             ],
             [
              1.0,
              "#f0f921"
             ]
            ]
           }
          ],
          "choropleth": [
           {
            "type": "choropleth",
            "colorbar": {
             "outlinewidth": 0,
             "ticks": ""
            }
           }
          ],
          "histogram2d": [
           {
            "type": "histogram2d",
            "colorbar": {
             "outlinewidth": 0,
             "ticks": ""
            },
            "colorscale": [
             [
              0.0,
              "#0d0887"
             ],
             [
              0.1111111111111111,
              "#46039f"
             ],
             [
              0.2222222222222222,
              "#7201a8"
             ],
             [
              0.3333333333333333,
              "#9c179e"
             ],
             [
              0.4444444444444444,
              "#bd3786"
             ],
             [
              0.5555555555555556,
              "#d8576b"
             ],
             [
              0.6666666666666666,
              "#ed7953"
             ],
             [
              0.7777777777777778,
              "#fb9f3a"
             ],
             [
              0.8888888888888888,
              "#fdca26"
             ],
             [
              1.0,
              "#f0f921"
             ]
            ]
           }
          ],
          "heatmap": [
           {
            "type": "heatmap",
            "colorbar": {
             "outlinewidth": 0,
             "ticks": ""
            },
            "colorscale": [
             [
              0.0,
              "#0d0887"
             ],
             [
              0.1111111111111111,
              "#46039f"
             ],
             [
              0.2222222222222222,
              "#7201a8"
             ],
             [
              0.3333333333333333,
              "#9c179e"
             ],
             [
              0.4444444444444444,
              "#bd3786"
             ],
             [
              0.5555555555555556,
              "#d8576b"
             ],
             [
              0.6666666666666666,
              "#ed7953"
             ],
             [
              0.7777777777777778,
              "#fb9f3a"
             ],
             [
              0.8888888888888888,
              "#fdca26"
             ],
             [
              1.0,
              "#f0f921"
             ]
            ]
           }
          ],
          "contourcarpet": [
           {
            "type": "contourcarpet",
            "colorbar": {
             "outlinewidth": 0,
             "ticks": ""
            }
           }
          ],
          "contour": [
           {
            "type": "contour",
            "colorbar": {
             "outlinewidth": 0,
             "ticks": ""
            },
            "colorscale": [
             [
              0.0,
              "#0d0887"
             ],
             [
              0.1111111111111111,
              "#46039f"
             ],
             [
              0.2222222222222222,
              "#7201a8"
             ],
             [
              0.3333333333333333,
              "#9c179e"
             ],
             [
              0.4444444444444444,
              "#bd3786"
             ],
             [
              0.5555555555555556,
              "#d8576b"
             ],
             [
              0.6666666666666666,
              "#ed7953"
             ],
             [
              0.7777777777777778,
              "#fb9f3a"
             ],
             [
              0.8888888888888888,
              "#fdca26"
             ],
             [
              1.0,
              "#f0f921"
             ]
            ]
           }
          ],
          "surface": [
           {
            "type": "surface",
            "colorbar": {
             "outlinewidth": 0,
             "ticks": ""
            },
            "colorscale": [
             [
              0.0,
              "#0d0887"
             ],
             [
              0.1111111111111111,
              "#46039f"
             ],
             [
              0.2222222222222222,
              "#7201a8"
             ],
             [
              0.3333333333333333,
              "#9c179e"
             ],
             [
              0.4444444444444444,
              "#bd3786"
             ],
             [
              0.5555555555555556,
              "#d8576b"
             ],
             [
              0.6666666666666666,
              "#ed7953"
             ],
             [
              0.7777777777777778,
              "#fb9f3a"
             ],
             [
              0.8888888888888888,
              "#fdca26"
             ],
             [
              1.0,
              "#f0f921"
             ]
            ]
           }
          ],
          "mesh3d": [
           {
            "type": "mesh3d",
            "colorbar": {
             "outlinewidth": 0,
             "ticks": ""
            }
           }
          ],
          "scatter": [
           {
            "marker": {
             "line": {
              "color": "#283442"
             }
            },
            "type": "scatter"
           }
          ],
          "parcoords": [
           {
            "type": "parcoords",
            "line": {
             "colorbar": {
              "outlinewidth": 0,
              "ticks": ""
             }
            }
           }
          ],
          "scatterpolargl": [
           {
            "type": "scatterpolargl",
            "marker": {
             "colorbar": {
              "outlinewidth": 0,
              "ticks": ""
             }
            }
           }
          ],
          "bar": [
           {
            "error_x": {
             "color": "#f2f5fa"
            },
            "error_y": {
             "color": "#f2f5fa"
            },
            "marker": {
             "line": {
              "color": "rgb(17,17,17)",
              "width": 0.5
             },
             "pattern": {
              "fillmode": "overlay",
              "size": 10,
              "solidity": 0.2
             }
            },
            "type": "bar"
           }
          ],
          "scattergeo": [
           {
            "type": "scattergeo",
            "marker": {
             "colorbar": {
              "outlinewidth": 0,
              "ticks": ""
             }
            }
           }
          ],
          "scatterpolar": [
           {
            "type": "scatterpolar",
            "marker": {
             "colorbar": {
              "outlinewidth": 0,
              "ticks": ""
             }
            }
           }
          ],
          "histogram": [
           {
            "marker": {
             "pattern": {
              "fillmode": "overlay",
              "size": 10,
              "solidity": 0.2
             }
            },
            "type": "histogram"
           }
          ],
          "scattergl": [
           {
            "marker": {
             "line": {
              "color": "#283442"
             }
            },
            "type": "scattergl"
           }
          ],
          "scatter3d": [
           {
            "type": "scatter3d",
            "line": {
             "colorbar": {
              "outlinewidth": 0,
              "ticks": ""
             }
            },
            "marker": {
             "colorbar": {
              "outlinewidth": 0,
              "ticks": ""
             }
            }
           }
          ],
          "scattermap": [
           {
            "type": "scattermap",
            "marker": {
             "colorbar": {
              "outlinewidth": 0,
              "ticks": ""
             }
            }
           }
          ],
          "scattermapbox": [
           {
            "type": "scattermapbox",
            "marker": {
             "colorbar": {
              "outlinewidth": 0,
              "ticks": ""
             }
            }
           }
          ],
          "scatterternary": [
           {
            "type": "scatterternary",
            "marker": {
             "colorbar": {
              "outlinewidth": 0,
              "ticks": ""
             }
            }
           }
          ],
          "scattercarpet": [
           {
            "type": "scattercarpet",
            "marker": {
             "colorbar": {
              "outlinewidth": 0,
              "ticks": ""
             }
            }
           }
          ],
          "carpet": [
           {
            "aaxis": {
             "endlinecolor": "#A2B1C6",
             "gridcolor": "#506784",
             "linecolor": "#506784",
             "minorgridcolor": "#506784",
             "startlinecolor": "#A2B1C6"
            },
            "baxis": {
             "endlinecolor": "#A2B1C6",
             "gridcolor": "#506784",
             "linecolor": "#506784",
             "minorgridcolor": "#506784",
             "startlinecolor": "#A2B1C6"
            },
            "type": "carpet"
           }
          ],
          "table": [
           {
            "cells": {
             "fill": {
              "color": "#506784"
             },
             "line": {
              "color": "rgb(17,17,17)"
             }
            },
            "header": {
             "fill": {
              "color": "#2a3f5f"
             },
             "line": {
              "color": "rgb(17,17,17)"
             }
            },
            "type": "table"
           }
          ],
          "barpolar": [
           {
            "marker": {
             "line": {
              "color": "rgb(17,17,17)",
              "width": 0.5
             },
             "pattern": {
              "fillmode": "overlay",
              "size": 10,
              "solidity": 0.2
             }
            },
            "type": "barpolar"
           }
          ],
          "pie": [
           {
            "automargin": true,
            "type": "pie"
           }
          ]
         },
         "layout": {
          "autotypenumbers": "strict",
          "colorway": [
           "#636efa",
           "#EF553B",
           "#00cc96",
           "#ab63fa",
           "#FFA15A",
           "#19d3f3",
           "#FF6692",
           "#B6E880",
           "#FF97FF",
           "#FECB52"
          ],
          "font": {
           "color": "#f2f5fa"
          },
          "hovermode": "closest",
          "hoverlabel": {
           "align": "left"
          },
          "paper_bgcolor": "rgb(17,17,17)",
          "plot_bgcolor": "rgb(17,17,17)",
          "polar": {
           "bgcolor": "rgb(17,17,17)",
           "angularaxis": {
            "gridcolor": "#506784",
            "linecolor": "#506784",
            "ticks": ""
           },
           "radialaxis": {
            "gridcolor": "#506784",
            "linecolor": "#506784",
            "ticks": ""
           }
          },
          "ternary": {
           "bgcolor": "rgb(17,17,17)",
           "aaxis": {
            "gridcolor": "#506784",
            "linecolor": "#506784",
            "ticks": ""
           },
           "baxis": {
            "gridcolor": "#506784",
            "linecolor": "#506784",
            "ticks": ""
           },
           "caxis": {
            "gridcolor": "#506784",
            "linecolor": "#506784",
            "ticks": ""
           }
          },
          "coloraxis": {
           "colorbar": {
            "outlinewidth": 0,
            "ticks": ""
           }
          },
          "colorscale": {
           "sequential": [
            [
             0.0,
             "#0d0887"
            ],
            [
             0.1111111111111111,
             "#46039f"
            ],
            [
             0.2222222222222222,
             "#7201a8"
            ],
            [
             0.3333333333333333,
             "#9c179e"
            ],
            [
             0.4444444444444444,
             "#bd3786"
            ],
            [
             0.5555555555555556,
             "#d8576b"
            ],
            [
             0.6666666666666666,
             "#ed7953"
            ],
            [
             0.7777777777777778,
             "#fb9f3a"
            ],
            [
             0.8888888888888888,
             "#fdca26"
            ],
            [
             1.0,
             "#f0f921"
            ]
           ],
           "sequentialminus": [
            [
             0.0,
             "#0d0887"
            ],
            [
             0.1111111111111111,
             "#46039f"
            ],
            [
             0.2222222222222222,
             "#7201a8"
            ],
            [
             0.3333333333333333,
             "#9c179e"
            ],
            [
             0.4444444444444444,
             "#bd3786"
            ],
            [
             0.5555555555555556,
             "#d8576b"
            ],
            [
             0.6666666666666666,
             "#ed7953"
            ],
            [
             0.7777777777777778,
             "#fb9f3a"
            ],
            [
             0.8888888888888888,
             "#fdca26"
            ],
            [
             1.0,
             "#f0f921"
            ]
           ],
           "diverging": [
            [
             0,
             "#8e0152"
            ],
            [
             0.1,
             "#c51b7d"
            ],
            [
             0.2,
             "#de77ae"
            ],
            [
             0.3,
             "#f1b6da"
            ],
            [
             0.4,
             "#fde0ef"
            ],
            [
             0.5,
             "#f7f7f7"
            ],
            [
             0.6,
             "#e6f5d0"
            ],
            [
             0.7,
             "#b8e186"
            ],
            [
             0.8,
             "#7fbc41"
            ],
            [
             0.9,
             "#4d9221"
            ],
            [
             1,
             "#276419"
            ]
           ]
          },
          "xaxis": {
           "gridcolor": "#283442",
           "linecolor": "#506784",
           "ticks": "",
           "title": {
            "standoff": 15
           },
           "zerolinecolor": "#283442",
           "automargin": true,
           "zerolinewidth": 2
          },
          "yaxis": {
           "gridcolor": "#283442",
           "linecolor": "#506784",
           "ticks": "",
           "title": {
            "standoff": 15
           },
           "zerolinecolor": "#283442",
           "automargin": true,
           "zerolinewidth": 2
          },
          "scene": {
           "xaxis": {
            "backgroundcolor": "rgb(17,17,17)",
            "gridcolor": "#506784",
            "linecolor": "#506784",
            "showbackground": true,
            "ticks": "",
            "zerolinecolor": "#C8D4E3",
            "gridwidth": 2
           },
           "yaxis": {
            "backgroundcolor": "rgb(17,17,17)",
            "gridcolor": "#506784",
            "linecolor": "#506784",
            "showbackground": true,
            "ticks": "",
            "zerolinecolor": "#C8D4E3",
            "gridwidth": 2
           },
           "zaxis": {
            "backgroundcolor": "rgb(17,17,17)",
            "gridcolor": "#506784",
            "linecolor": "#506784",
            "showbackground": true,
            "ticks": "",
            "zerolinecolor": "#C8D4E3",
            "gridwidth": 2
           }
          },
          "shapedefaults": {
           "line": {
            "color": "#f2f5fa"
           }
          },
          "annotationdefaults": {
           "arrowcolor": "#f2f5fa",
           "arrowhead": 0,
           "arrowwidth": 1
          },
          "geo": {
           "bgcolor": "rgb(17,17,17)",
           "landcolor": "rgb(17,17,17)",
           "subunitcolor": "#506784",
           "showland": true,
           "showlakes": true,
           "lakecolor": "rgb(17,17,17)"
          },
          "title": {
           "x": 0.05
          },
          "updatemenudefaults": {
           "bgcolor": "#506784",
           "borderwidth": 0
          },
          "sliderdefaults": {
           "bgcolor": "#C8D4E3",
           "borderwidth": 1,
           "bordercolor": "rgb(17,17,17)",
           "tickwidth": 0
          },
          "mapbox": {
           "style": "dark"
          }
         }
        },
        "xaxis": {
         "anchor": "y",
         "domain": [
          0.0,
          1.0
         ],
         "title": {
          "text": "device"
         }
        },
        "yaxis": {
         "anchor": "x",
         "domain": [
          0.0,
          1.0
         ],
         "title": {
          "text": "value"
         }
        },
        "legend": {
         "title": {
          "text": "variable"
         },
         "tracegroupgap": 0
        },
        "margin": {
         "t": 60
        },
        "barmode": "relative"
       },
       "config": {
        "plotlyServerURL": "https://plot.ly"
       }
      }
     },
     "metadata": {},
     "output_type": "display_data",
     "jetTransient": {
      "display_id": null
     }
    },
    {
     "data": {
      "application/vnd.plotly.v1+json": {
       "data": [
        {
         "hovertemplate": "variable=load_time_per_input_token_mean<br>device=%{x}<br>value=%{y}<extra></extra>",
         "legendgroup": "load_time_per_input_token_mean",
         "marker": {
          "color": "#636efa",
          "pattern": {
           "shape": ""
          }
         },
         "name": "load_time_per_input_token_mean",
         "orientation": "v",
         "showlegend": true,
         "textposition": "auto",
         "x": [
          "M3",
          "RTX4060",
          "Ultra9-185H"
         ],
         "xaxis": "x",
         "y": {
          "dtype": "f8",
          "bdata": "uaE7Mv58Qz8S07RI7ypcP4p1DfRvWmE/"
         },
         "yaxis": "y",
         "type": "bar"
        },
        {
         "hovertemplate": "variable=prompt_eval_time_per_token_mean<br>device=%{x}<br>value=%{y}<extra></extra>",
         "legendgroup": "prompt_eval_time_per_token_mean",
         "marker": {
          "color": "#EF553B",
          "pattern": {
           "shape": ""
          }
         },
         "name": "prompt_eval_time_per_token_mean",
         "orientation": "v",
         "showlegend": true,
         "textposition": "auto",
         "x": [
          "M3",
          "RTX4060",
          "Ultra9-185H"
         ],
         "xaxis": "x",
         "y": {
          "dtype": "f8",
          "bdata": "0saxL4ROgj+/i5t5B1gtP8382I7ESKk/"
         },
         "yaxis": "y",
         "type": "bar"
        },
        {
         "hovertemplate": "variable=output_eval_time_per_token_mean<br>device=%{x}<br>value=%{y}<extra></extra>",
         "legendgroup": "output_eval_time_per_token_mean",
         "marker": {
          "color": "#00cc96",
          "pattern": {
           "shape": ""
          }
         },
         "name": "output_eval_time_per_token_mean",
         "orientation": "v",
         "showlegend": true,
         "textposition": "auto",
         "x": [
          "M3",
          "RTX4060",
          "Ultra9-185H"
         ],
         "xaxis": "x",
         "y": {
          "dtype": "f8",
          "bdata": "XEWaz26Erz+H1WGsAgCWP+83lIcKnL0/"
         },
         "yaxis": "y",
         "type": "bar"
        }
       ],
       "layout": {
        "template": {
         "data": {
          "histogram2dcontour": [
           {
            "type": "histogram2dcontour",
            "colorbar": {
             "outlinewidth": 0,
             "ticks": ""
            },
            "colorscale": [
             [
              0.0,
              "#0d0887"
             ],
             [
              0.1111111111111111,
              "#46039f"
             ],
             [
              0.2222222222222222,
              "#7201a8"
             ],
             [
              0.3333333333333333,
              "#9c179e"
             ],
             [
              0.4444444444444444,
              "#bd3786"
             ],
             [
              0.5555555555555556,
              "#d8576b"
             ],
             [
              0.6666666666666666,
              "#ed7953"
             ],
             [
              0.7777777777777778,
              "#fb9f3a"
             ],
             [
              0.8888888888888888,
              "#fdca26"
             ],
             [
              1.0,
              "#f0f921"
             ]
            ]
           }
          ],
          "choropleth": [
           {
            "type": "choropleth",
            "colorbar": {
             "outlinewidth": 0,
             "ticks": ""
            }
           }
          ],
          "histogram2d": [
           {
            "type": "histogram2d",
            "colorbar": {
             "outlinewidth": 0,
             "ticks": ""
            },
            "colorscale": [
             [
              0.0,
              "#0d0887"
             ],
             [
              0.1111111111111111,
              "#46039f"
             ],
             [
              0.2222222222222222,
              "#7201a8"
             ],
             [
              0.3333333333333333,
              "#9c179e"
             ],
             [
              0.4444444444444444,
              "#bd3786"
             ],
             [
              0.5555555555555556,
              "#d8576b"
             ],
             [
              0.6666666666666666,
              "#ed7953"
             ],
             [
              0.7777777777777778,
              "#fb9f3a"
             ],
             [
              0.8888888888888888,
              "#fdca26"
             ],
             [
              1.0,
              "#f0f921"
             ]
            ]
           }
          ],
          "heatmap": [
           {
            "type": "heatmap",
            "colorbar": {
             "outlinewidth": 0,
             "ticks": ""
            },
            "colorscale": [
             [
              0.0,
              "#0d0887"
             ],
             [
              0.1111111111111111,
              "#46039f"
             ],
             [
              0.2222222222222222,
              "#7201a8"
             ],
             [
              0.3333333333333333,
              "#9c179e"
             ],
             [
              0.4444444444444444,
              "#bd3786"
             ],
             [
              0.5555555555555556,
              "#d8576b"
             ],
             [
              0.6666666666666666,
              "#ed7953"
             ],
             [
              0.7777777777777778,
              "#fb9f3a"
             ],
             [
              0.8888888888888888,
              "#fdca26"
             ],
             [
              1.0,
              "#f0f921"
             ]
            ]
           }
          ],
          "contourcarpet": [
           {
            "type": "contourcarpet",
            "colorbar": {
             "outlinewidth": 0,
             "ticks": ""
            }
           }
          ],
          "contour": [
           {
            "type": "contour",
            "colorbar": {
             "outlinewidth": 0,
             "ticks": ""
            },
            "colorscale": [
             [
              0.0,
              "#0d0887"
             ],
             [
              0.1111111111111111,
              "#46039f"
             ],
             [
              0.2222222222222222,
              "#7201a8"
             ],
             [
              0.3333333333333333,
              "#9c179e"
             ],
             [
              0.4444444444444444,
              "#bd3786"
             ],
             [
              0.5555555555555556,
              "#d8576b"
             ],
             [
              0.6666666666666666,
              "#ed7953"
             ],
             [
              0.7777777777777778,
              "#fb9f3a"
             ],
             [
              0.8888888888888888,
              "#fdca26"
             ],
             [
              1.0,
              "#f0f921"
             ]
            ]
           }
          ],
          "surface": [
           {
            "type": "surface",
            "colorbar": {
             "outlinewidth": 0,
             "ticks": ""
            },
            "colorscale": [
             [
              0.0,
              "#0d0887"
             ],
             [
              0.1111111111111111,
              "#46039f"
             ],
             [
              0.2222222222222222,
              "#7201a8"
             ],
             [
              0.3333333333333333,
              "#9c179e"
             ],
             [
              0.4444444444444444,
              "#bd3786"
             ],
             [
              0.5555555555555556,
              "#d8576b"
             ],
             [
              0.6666666666666666,
              "#ed7953"
             ],
             [
              0.7777777777777778,
              "#fb9f3a"
             ],
             [
              0.8888888888888888,
              "#fdca26"
             ],
             [
              1.0,
              "#f0f921"
             ]
            ]
           }
          ],
          "mesh3d": [
           {
            "type": "mesh3d",
            "colorbar": {
             "outlinewidth": 0,
             "ticks": ""
            }
           }
          ],
          "scatter": [
           {
            "marker": {
             "line": {
              "color": "#283442"
             }
            },
            "type": "scatter"
           }
          ],
          "parcoords": [
           {
            "type": "parcoords",
            "line": {
             "colorbar": {
              "outlinewidth": 0,
              "ticks": ""
             }
            }
           }
          ],
          "scatterpolargl": [
           {
            "type": "scatterpolargl",
            "marker": {
             "colorbar": {
              "outlinewidth": 0,
              "ticks": ""
             }
            }
           }
          ],
          "bar": [
           {
            "error_x": {
             "color": "#f2f5fa"
            },
            "error_y": {
             "color": "#f2f5fa"
            },
            "marker": {
             "line": {
              "color": "rgb(17,17,17)",
              "width": 0.5
             },
             "pattern": {
              "fillmode": "overlay",
              "size": 10,
              "solidity": 0.2
             }
            },
            "type": "bar"
           }
          ],
          "scattergeo": [
           {
            "type": "scattergeo",
            "marker": {
             "colorbar": {
              "outlinewidth": 0,
              "ticks": ""
             }
            }
           }
          ],
          "scatterpolar": [
           {
            "type": "scatterpolar",
            "marker": {
             "colorbar": {
              "outlinewidth": 0,
              "ticks": ""
             }
            }
           }
          ],
          "histogram": [
           {
            "marker": {
             "pattern": {
              "fillmode": "overlay",
              "size": 10,
              "solidity": 0.2
             }
            },
            "type": "histogram"
           }
          ],
          "scattergl": [
           {
            "marker": {
             "line": {
              "color": "#283442"
             }
            },
            "type": "scattergl"
           }
          ],
          "scatter3d": [
           {
            "type": "scatter3d",
            "line": {
             "colorbar": {
              "outlinewidth": 0,
              "ticks": ""
             }
            },
            "marker": {
             "colorbar": {
              "outlinewidth": 0,
              "ticks": ""
             }
            }
           }
          ],
          "scattermap": [
           {
            "type": "scattermap",
            "marker": {
             "colorbar": {
              "outlinewidth": 0,
              "ticks": ""
             }
            }
           }
          ],
          "scattermapbox": [
           {
            "type": "scattermapbox",
            "marker": {
             "colorbar": {
              "outlinewidth": 0,
              "ticks": ""
             }
            }
           }
          ],
          "scatterternary": [
           {
            "type": "scatterternary",
            "marker": {
             "colorbar": {
              "outlinewidth": 0,
              "ticks": ""
             }
            }
           }
          ],
          "scattercarpet": [
           {
            "type": "scattercarpet",
            "marker": {
             "colorbar": {
              "outlinewidth": 0,
              "ticks": ""
             }
            }
           }
          ],
          "carpet": [
           {
            "aaxis": {
             "endlinecolor": "#A2B1C6",
             "gridcolor": "#506784",
             "linecolor": "#506784",
             "minorgridcolor": "#506784",
             "startlinecolor": "#A2B1C6"
            },
            "baxis": {
             "endlinecolor": "#A2B1C6",
             "gridcolor": "#506784",
             "linecolor": "#506784",
             "minorgridcolor": "#506784",
             "startlinecolor": "#A2B1C6"
            },
            "type": "carpet"
           }
          ],
          "table": [
           {
            "cells": {
             "fill": {
              "color": "#506784"
             },
             "line": {
              "color": "rgb(17,17,17)"
             }
            },
            "header": {
             "fill": {
              "color": "#2a3f5f"
             },
             "line": {
              "color": "rgb(17,17,17)"
             }
            },
            "type": "table"
           }
          ],
          "barpolar": [
           {
            "marker": {
             "line": {
              "color": "rgb(17,17,17)",
              "width": 0.5
             },
             "pattern": {
              "fillmode": "overlay",
              "size": 10,
              "solidity": 0.2
             }
            },
            "type": "barpolar"
           }
          ],
          "pie": [
           {
            "automargin": true,
            "type": "pie"
           }
          ]
         },
         "layout": {
          "autotypenumbers": "strict",
          "colorway": [
           "#636efa",
           "#EF553B",
           "#00cc96",
           "#ab63fa",
           "#FFA15A",
           "#19d3f3",
           "#FF6692",
           "#B6E880",
           "#FF97FF",
           "#FECB52"
          ],
          "font": {
           "color": "#f2f5fa"
          },
          "hovermode": "closest",
          "hoverlabel": {
           "align": "left"
          },
          "paper_bgcolor": "rgb(17,17,17)",
          "plot_bgcolor": "rgb(17,17,17)",
          "polar": {
           "bgcolor": "rgb(17,17,17)",
           "angularaxis": {
            "gridcolor": "#506784",
            "linecolor": "#506784",
            "ticks": ""
           },
           "radialaxis": {
            "gridcolor": "#506784",
            "linecolor": "#506784",
            "ticks": ""
           }
          },
          "ternary": {
           "bgcolor": "rgb(17,17,17)",
           "aaxis": {
            "gridcolor": "#506784",
            "linecolor": "#506784",
            "ticks": ""
           },
           "baxis": {
            "gridcolor": "#506784",
            "linecolor": "#506784",
            "ticks": ""
           },
           "caxis": {
            "gridcolor": "#506784",
            "linecolor": "#506784",
            "ticks": ""
           }
          },
          "coloraxis": {
           "colorbar": {
            "outlinewidth": 0,
            "ticks": ""
           }
          },
          "colorscale": {
           "sequential": [
            [
             0.0,
             "#0d0887"
            ],
            [
             0.1111111111111111,
             "#46039f"
            ],
            [
             0.2222222222222222,
             "#7201a8"
            ],
            [
             0.3333333333333333,
             "#9c179e"
            ],
            [
             0.4444444444444444,
             "#bd3786"
            ],
            [
             0.5555555555555556,
             "#d8576b"
            ],
            [
             0.6666666666666666,
             "#ed7953"
            ],
            [
             0.7777777777777778,
             "#fb9f3a"
            ],
            [
             0.8888888888888888,
             "#fdca26"
            ],
            [
             1.0,
             "#f0f921"
            ]
           ],
           "sequentialminus": [
            [
             0.0,
             "#0d0887"
            ],
            [
             0.1111111111111111,
             "#46039f"
            ],
            [
             0.2222222222222222,
             "#7201a8"
            ],
            [
             0.3333333333333333,
             "#9c179e"
            ],
            [
             0.4444444444444444,
             "#bd3786"
            ],
            [
             0.5555555555555556,
             "#d8576b"
            ],
            [
             0.6666666666666666,
             "#ed7953"
            ],
            [
             0.7777777777777778,
             "#fb9f3a"
            ],
            [
             0.8888888888888888,
             "#fdca26"
            ],
            [
             1.0,
             "#f0f921"
            ]
           ],
           "diverging": [
            [
             0,
             "#8e0152"
            ],
            [
             0.1,
             "#c51b7d"
            ],
            [
             0.2,
             "#de77ae"
            ],
            [
             0.3,
             "#f1b6da"
            ],
            [
             0.4,
             "#fde0ef"
            ],
            [
             0.5,
             "#f7f7f7"
            ],
            [
             0.6,
             "#e6f5d0"
            ],
            [
             0.7,
             "#b8e186"
            ],
            [
             0.8,
             "#7fbc41"
            ],
            [
             0.9,
             "#4d9221"
            ],
            [
             1,
             "#276419"
            ]
           ]
          },
          "xaxis": {
           "gridcolor": "#283442",
           "linecolor": "#506784",
           "ticks": "",
           "title": {
            "standoff": 15
           },
           "zerolinecolor": "#283442",
           "automargin": true,
           "zerolinewidth": 2
          },
          "yaxis": {
           "gridcolor": "#283442",
           "linecolor": "#506784",
           "ticks": "",
           "title": {
            "standoff": 15
           },
           "zerolinecolor": "#283442",
           "automargin": true,
           "zerolinewidth": 2
          },
          "scene": {
           "xaxis": {
            "backgroundcolor": "rgb(17,17,17)",
            "gridcolor": "#506784",
            "linecolor": "#506784",
            "showbackground": true,
            "ticks": "",
            "zerolinecolor": "#C8D4E3",
            "gridwidth": 2
           },
           "yaxis": {
            "backgroundcolor": "rgb(17,17,17)",
            "gridcolor": "#506784",
            "linecolor": "#506784",
            "showbackground": true,
            "ticks": "",
            "zerolinecolor": "#C8D4E3",
            "gridwidth": 2
           },
           "zaxis": {
            "backgroundcolor": "rgb(17,17,17)",
            "gridcolor": "#506784",
            "linecolor": "#506784",
            "showbackground": true,
            "ticks": "",
            "zerolinecolor": "#C8D4E3",
            "gridwidth": 2
           }
          },
          "shapedefaults": {
           "line": {
            "color": "#f2f5fa"
           }
          },
          "annotationdefaults": {
           "arrowcolor": "#f2f5fa",
           "arrowhead": 0,
           "arrowwidth": 1
          },
          "geo": {
           "bgcolor": "rgb(17,17,17)",
           "landcolor": "rgb(17,17,17)",
           "subunitcolor": "#506784",
           "showland": true,
           "showlakes": true,
           "lakecolor": "rgb(17,17,17)"
          },
          "title": {
           "x": 0.05
          },
          "updatemenudefaults": {
           "bgcolor": "#506784",
           "borderwidth": 0
          },
          "sliderdefaults": {
           "bgcolor": "#C8D4E3",
           "borderwidth": 1,
           "bordercolor": "rgb(17,17,17)",
           "tickwidth": 0
          },
          "mapbox": {
           "style": "dark"
          }
         }
        },
        "xaxis": {
         "anchor": "y",
         "domain": [
          0.0,
          1.0
         ],
         "title": {
          "text": "device"
         }
        },
        "yaxis": {
         "anchor": "x",
         "domain": [
          0.0,
          1.0
         ],
         "title": {
          "text": "value"
         }
        },
        "legend": {
         "title": {
          "text": "variable"
         },
         "tracegroupgap": 0
        },
        "margin": {
         "t": 60
        },
        "barmode": "relative"
       },
       "config": {
        "plotlyServerURL": "https://plot.ly"
       }
      }
     },
     "metadata": {},
     "output_type": "display_data",
     "jetTransient": {
      "display_id": null
     }
    }
   ],
   "execution_count": 184
  }
 ],
 "metadata": {
  "kernelspec": {
   "display_name": "Python 3",
   "language": "python",
   "name": "python3"
  },
  "language_info": {
   "codemirror_mode": {
    "name": "ipython",
    "version": 2
   },
   "file_extension": ".py",
   "mimetype": "text/x-python",
   "name": "python",
   "nbconvert_exporter": "python",
   "pygments_lexer": "ipython2",
   "version": "2.7.6"
  }
 },
 "nbformat": 4,
 "nbformat_minor": 5
}
