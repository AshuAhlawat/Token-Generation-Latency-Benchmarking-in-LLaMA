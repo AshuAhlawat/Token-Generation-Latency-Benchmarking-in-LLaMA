{
 "cells": [
  {
   "cell_type": "markdown",
   "id": "92343fd0a312ecea",
   "metadata": {},
   "source": [
    "# Visualizing the Benchmarks\n",
    "- make sense of the data\n",
    "- get insights\n",
    "- detect patterns"
   ]
  },
  {
   "cell_type": "code",
   "execution_count": 7,
   "id": "6077fc2c2a7cc32",
   "metadata": {},
   "outputs": [],
   "source": [
    "import pandas as pd\n",
    "import plotly.express as px"
   ]
  },
  {
   "cell_type": "markdown",
   "id": "63dcc9ca03303312",
   "metadata": {},
   "source": [
    "## Understanding the data gathered\n",
    "- INPUTS : `./prompts/`\n",
    "    - device\n",
    "    - prompts (1, 8, 32, 128)\n",
    "    - length of prompt (, input tokens)\n",
    "    - complexity of prompt\n",
    "    - output length expected (concise, detail)\n",
    "- OUTPUTS :\n",
    "    - output tokens\n",
    "    - time (milliseconds)\n",
    "    - load time\n",
    "    - prompt evaluation time\n",
    "    - output evaluation time\n",
    "    - answers `./answers/`\n",
    "    - logs `./logs/`\n",
    "- Derived Outputs"
   ]
  },
  {
   "cell_type": "code",
   "execution_count": 8,
   "id": "a171ac2351cc8342",
   "metadata": {},
   "outputs": [],
   "source": [
    "def process(device):\n",
    "    df = pd.read_csv(f\"./data/{device}_outputs.csv\")\n",
    "\n",
    "    df[\"input_tokens_per_prompt\"] = df[\"input_tokens\"] / df[\"prompts\"]\n",
    "    df[\"output_tokens_per_prompt\"] = df[\"output_tokens\"] / df[\"prompts\"]\n",
    "    df[\"prompts\"] = df[\"prompts\"].astype(str)\n",
    "\n",
    "    df[\"load_time\"] = df[\"load_time\"]/1000\n",
    "    df[\"prompt_eval_time\"] = df[\"prompt_eval_time\"]/1000\n",
    "    df[\"output_eval_time\"] = df[\"output_eval_time\"]/1000\n",
    "    df[\"total_time\"] = df[\"total_time\"]/1000\n",
    "\n",
    "    df[\"load_time_per_input_token\"] = df[\"load_time\"] / df[\"input_tokens\"]\n",
    "    df[\"prompt_eval_time_per_input_token\"] = df[\"prompt_eval_time\"] / df[\"input_tokens\"]\n",
    "    df[\"output_eval_time_per_output_token\"] = df[\"output_eval_time\"] / df[\"output_tokens\"]\n",
    "    df[\"total_time_per_input_token\"] = df[\"total_time\"] / df[\"input_tokens\"]\n",
    "    df[\"total_time_per_output_token\"] = df[\"total_time\"] / df[\"output_tokens\"]\n",
    "\n",
    "\n",
    "    return df\n",
    "\n",
    "devices = [\"M3\", \"RTX4060\", \"Ultra9-185H\"]\n",
    "data_df = process(devices[1])"
   ]
  },
  {
   "cell_type": "markdown",
   "id": "72f11bce2d6cf472",
   "metadata": {},
   "source": [
    "## Analyzing Batch Size effects\n",
    "- on load time\n",
    "- on total time"
   ]
  },
  {
   "cell_type": "code",
   "execution_count": 9,
   "id": "63a990aae41df126",
   "metadata": {
    "ExecuteTime": {
     "end_time": "2025-10-12T18:19:15.089075Z",
     "start_time": "2025-10-12T18:19:14.674764Z"
    }
   },
   "outputs": [
    {
     "data": {
      "application/vnd.plotly.v1+json": {
       "config": {
        "plotlyServerURL": "https://plot.ly"
       },
       "data": [
        {
         "hovertemplate": "x=%{x}<br>load_time=%{y}<extra></extra>",
         "legendgroup": "",
         "marker": {
          "color": "#636efa",
          "symbol": "circle"
         },
         "mode": "markers",
         "name": "",
         "orientation": "v",
         "showlegend": false,
         "type": "scatter",
         "x": {
          "bdata": "AAABAAIAAwAEAAUABgAHAAgACQAKAAsADAANAA4ADwAQABEAEgATABQAFQAWABcAGAAZABoAGwAcAB0AHgAfACAAIQAiACMAJAAlACYAJwAoACkAKgArACwALQAuAC8AMAAxADIAMwA0ADUANgA3ADgAOQA6ADsAPAA9AD4APwBAAEEAQgBDAEQARQBGAEcASABJAEoASwBMAE0ATgBPAFAAUQBSAFMAVABVAFYAVwBYAFkAWgBbAFwAXQBeAF8AYABhAGIAYwBkAGUAZgBnAGgAaQBqAGsAbABtAG4AbwBwAHEAcgBzAHQAdQB2AHcAeAB5AHoAewB8AH0AfgB/AIAAgQCCAIMAhACFAIYAhwCIAIkAigCLAIwAjQCOAI8AkACRAJIAkwCUAJUAlgCXAJgAmQCaAJsAnACdAJ4AnwCgAKEAogCjAKQApQCmAKcAqACpAKoAqwCsAK0ArgCvALAAsQCyALMAtAC1ALYAtwC4ALkAugC7ALwAvQC+AL8AwADBAMIAwwDEAMUAxgDHAMgAyQDKAMsAzADNAM4AzwDQANEA0gDTANQA1QDWANcA2ADZANoA2wDcAN0A3gDfAOAA4QDiAOMA5ADlAOYA5wDoAOkA6gDrAOwA7QDuAO8A8ADxAPIA8wD0APUA9gD3APgA+QD6APsA/AD9AP4A/wAAAQEBAgEDAQQBBQEGAQcBCAEJAQoBCwEMAQ0BDgEPARABEQESARMBFAEVARYBFwEYARkBGgEbARwBHQEeAR8BIAEhASIBIwEkASUBJgEnASgBKQEqASsBLAEtAS4BLwEwATEBMgEzATQBNQE2ATcBOAE5AToBOwE8AT0BPgE/AUABQQFCAUMBRAFFAUYBRwFIAUkBSgFLAUwBTQFOAU8BUAFRAVIBUwFUAVUBVgFXAVgBWQFaAVsBXAFdAV4BXwFgAWEBYgFjAWQBZQFmAWcBaAFpAWoBawFsAW0BbgFvAXABcQFyAXMBdAF1AXYBdwF4AXkBegF7AXwBfQF+AX8BgAGBAYIBgwGEAYUBhgGHAYgBiQGKAYsBjAGNAY4BjwGQAZEBkgGTAZQBlQGWAZcBmAGZAZoBmwGcAZ0BngGfAaABoQGiAaMBpAGlAaYBpwE=",
          "dtype": "i2"
         },
         "xaxis": "x",
         "y": {
          "bdata": "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",
          "dtype": "f8"
         },
         "yaxis": "y"
        },
        {
         "bingroup": "y",
         "hovertemplate": "load_time=%{y}<br>count=%{x}<extra></extra>",
         "legendgroup": "",
         "marker": {
          "color": "#636efa"
         },
         "name": "",
         "opacity": 0.5,
         "showlegend": false,
         "type": "histogram",
         "xaxis": "x2",
         "y": {
          "bdata": "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",
          "dtype": "f8"
         },
         "yaxis": "y2"
        }
       ],
       "layout": {
        "barmode": "overlay",
        "legend": {
         "tracegroupgap": 0
        },
        "margin": {
         "t": 60
        },
        "template": {
         "data": {
          "bar": [
           {
            "error_x": {
             "color": "#2a3f5f"
            },
            "error_y": {
             "color": "#2a3f5f"
            },
            "marker": {
             "line": {
              "color": "#E5ECF6",
              "width": 0.5
             },
             "pattern": {
              "fillmode": "overlay",
              "size": 10,
              "solidity": 0.2
             }
            },
            "type": "bar"
           }
          ],
          "barpolar": [
           {
            "marker": {
             "line": {
              "color": "#E5ECF6",
              "width": 0.5
             },
             "pattern": {
              "fillmode": "overlay",
              "size": 10,
              "solidity": 0.2
             }
            },
            "type": "barpolar"
           }
          ],
          "carpet": [
           {
            "aaxis": {
             "endlinecolor": "#2a3f5f",
             "gridcolor": "white",
             "linecolor": "white",
             "minorgridcolor": "white",
             "startlinecolor": "#2a3f5f"
            },
            "baxis": {
             "endlinecolor": "#2a3f5f",
             "gridcolor": "white",
             "linecolor": "white",
             "minorgridcolor": "white",
             "startlinecolor": "#2a3f5f"
            },
            "type": "carpet"
           }
          ],
          "choropleth": [
           {
            "colorbar": {
             "outlinewidth": 0,
             "ticks": ""
            },
            "type": "choropleth"
           }
          ],
          "contour": [
           {
            "colorbar": {
             "outlinewidth": 0,
             "ticks": ""
            },
            "colorscale": [
             [
              0,
              "#0d0887"
             ],
             [
              0.1111111111111111,
              "#46039f"
             ],
             [
              0.2222222222222222,
              "#7201a8"
             ],
             [
              0.3333333333333333,
              "#9c179e"
             ],
             [
              0.4444444444444444,
              "#bd3786"
             ],
             [
              0.5555555555555556,
              "#d8576b"
             ],
             [
              0.6666666666666666,
              "#ed7953"
             ],
             [
              0.7777777777777778,
              "#fb9f3a"
             ],
             [
              0.8888888888888888,
              "#fdca26"
             ],
             [
              1,
              "#f0f921"
             ]
            ],
            "type": "contour"
           }
          ],
          "contourcarpet": [
           {
            "colorbar": {
             "outlinewidth": 0,
             "ticks": ""
            },
            "type": "contourcarpet"
           }
          ],
          "heatmap": [
           {
            "colorbar": {
             "outlinewidth": 0,
             "ticks": ""
            },
            "colorscale": [
             [
              0,
              "#0d0887"
             ],
             [
              0.1111111111111111,
              "#46039f"
             ],
             [
              0.2222222222222222,
              "#7201a8"
             ],
             [
              0.3333333333333333,
              "#9c179e"
             ],
             [
              0.4444444444444444,
              "#bd3786"
             ],
             [
              0.5555555555555556,
              "#d8576b"
             ],
             [
              0.6666666666666666,
              "#ed7953"
             ],
             [
              0.7777777777777778,
              "#fb9f3a"
             ],
             [
              0.8888888888888888,
              "#fdca26"
             ],
             [
              1,
              "#f0f921"
             ]
            ],
            "type": "heatmap"
           }
          ],
          "histogram": [
           {
            "marker": {
             "pattern": {
              "fillmode": "overlay",
              "size": 10,
              "solidity": 0.2
             }
            },
            "type": "histogram"
           }
          ],
          "histogram2d": [
           {
            "colorbar": {
             "outlinewidth": 0,
             "ticks": ""
            },
            "colorscale": [
             [
              0,
              "#0d0887"
             ],
             [
              0.1111111111111111,
              "#46039f"
             ],
             [
              0.2222222222222222,
              "#7201a8"
             ],
             [
              0.3333333333333333,
              "#9c179e"
             ],
             [
              0.4444444444444444,
              "#bd3786"
             ],
             [
              0.5555555555555556,
              "#d8576b"
             ],
             [
              0.6666666666666666,
              "#ed7953"
             ],
             [
              0.7777777777777778,
              "#fb9f3a"
             ],
             [
              0.8888888888888888,
              "#fdca26"
             ],
             [
              1,
              "#f0f921"
             ]
            ],
            "type": "histogram2d"
           }
          ],
          "histogram2dcontour": [
           {
            "colorbar": {
             "outlinewidth": 0,
             "ticks": ""
            },
            "colorscale": [
             [
              0,
              "#0d0887"
             ],
             [
              0.1111111111111111,
              "#46039f"
             ],
             [
              0.2222222222222222,
              "#7201a8"
             ],
             [
              0.3333333333333333,
              "#9c179e"
             ],
             [
              0.4444444444444444,
              "#bd3786"
             ],
             [
              0.5555555555555556,
              "#d8576b"
             ],
             [
              0.6666666666666666,
              "#ed7953"
             ],
             [
              0.7777777777777778,
              "#fb9f3a"
             ],
             [
              0.8888888888888888,
              "#fdca26"
             ],
             [
              1,
              "#f0f921"
             ]
            ],
            "type": "histogram2dcontour"
           }
          ],
          "mesh3d": [
           {
            "colorbar": {
             "outlinewidth": 0,
             "ticks": ""
            },
            "type": "mesh3d"
           }
          ],
          "parcoords": [
           {
            "line": {
             "colorbar": {
              "outlinewidth": 0,
              "ticks": ""
             }
            },
            "type": "parcoords"
           }
          ],
          "pie": [
           {
            "automargin": true,
            "type": "pie"
           }
          ],
          "scatter": [
           {
            "fillpattern": {
             "fillmode": "overlay",
             "size": 10,
             "solidity": 0.2
            },
            "type": "scatter"
           }
          ],
          "scatter3d": [
           {
            "line": {
             "colorbar": {
              "outlinewidth": 0,
              "ticks": ""
             }
            },
            "marker": {
             "colorbar": {
              "outlinewidth": 0,
              "ticks": ""
             }
            },
            "type": "scatter3d"
           }
          ],
          "scattercarpet": [
           {
            "marker": {
             "colorbar": {
              "outlinewidth": 0,
              "ticks": ""
             }
            },
            "type": "scattercarpet"
           }
          ],
          "scattergeo": [
           {
            "marker": {
             "colorbar": {
              "outlinewidth": 0,
              "ticks": ""
             }
            },
            "type": "scattergeo"
           }
          ],
          "scattergl": [
           {
            "marker": {
             "colorbar": {
              "outlinewidth": 0,
              "ticks": ""
             }
            },
            "type": "scattergl"
           }
          ],
          "scattermap": [
           {
            "marker": {
             "colorbar": {
              "outlinewidth": 0,
              "ticks": ""
             }
            },
            "type": "scattermap"
           }
          ],
          "scattermapbox": [
           {
            "marker": {
             "colorbar": {
              "outlinewidth": 0,
              "ticks": ""
             }
            },
            "type": "scattermapbox"
           }
          ],
          "scatterpolar": [
           {
            "marker": {
             "colorbar": {
              "outlinewidth": 0,
              "ticks": ""
             }
            },
            "type": "scatterpolar"
           }
          ],
          "scatterpolargl": [
           {
            "marker": {
             "colorbar": {
              "outlinewidth": 0,
              "ticks": ""
             }
            },
            "type": "scatterpolargl"
           }
          ],
          "scatterternary": [
           {
            "marker": {
             "colorbar": {
              "outlinewidth": 0,
              "ticks": ""
             }
            },
            "type": "scatterternary"
           }
          ],
          "surface": [
           {
            "colorbar": {
             "outlinewidth": 0,
             "ticks": ""
            },
            "colorscale": [
             [
              0,
              "#0d0887"
             ],
             [
              0.1111111111111111,
              "#46039f"
             ],
             [
              0.2222222222222222,
              "#7201a8"
             ],
             [
              0.3333333333333333,
              "#9c179e"
             ],
             [
              0.4444444444444444,
              "#bd3786"
             ],
             [
              0.5555555555555556,
              "#d8576b"
             ],
             [
              0.6666666666666666,
              "#ed7953"
             ],
             [
              0.7777777777777778,
              "#fb9f3a"
             ],
             [
              0.8888888888888888,
              "#fdca26"
             ],
             [
              1,
              "#f0f921"
             ]
            ],
            "type": "surface"
           }
          ],
          "table": [
           {
            "cells": {
             "fill": {
              "color": "#EBF0F8"
             },
             "line": {
              "color": "white"
             }
            },
            "header": {
             "fill": {
              "color": "#C8D4E3"
             },
             "line": {
              "color": "white"
             }
            },
            "type": "table"
           }
          ]
         },
         "layout": {
          "annotationdefaults": {
           "arrowcolor": "#2a3f5f",
           "arrowhead": 0,
           "arrowwidth": 1
          },
          "autotypenumbers": "strict",
          "coloraxis": {
           "colorbar": {
            "outlinewidth": 0,
            "ticks": ""
           }
          },
          "colorscale": {
           "diverging": [
            [
             0,
             "#8e0152"
            ],
            [
             0.1,
             "#c51b7d"
            ],
            [
             0.2,
             "#de77ae"
            ],
            [
             0.3,
             "#f1b6da"
            ],
            [
             0.4,
             "#fde0ef"
            ],
            [
             0.5,
             "#f7f7f7"
            ],
            [
             0.6,
             "#e6f5d0"
            ],
            [
             0.7,
             "#b8e186"
            ],
            [
             0.8,
             "#7fbc41"
            ],
            [
             0.9,
             "#4d9221"
            ],
            [
             1,
             "#276419"
            ]
           ],
           "sequential": [
            [
             0,
             "#0d0887"
            ],
            [
             0.1111111111111111,
             "#46039f"
            ],
            [
             0.2222222222222222,
             "#7201a8"
            ],
            [
             0.3333333333333333,
             "#9c179e"
            ],
            [
             0.4444444444444444,
             "#bd3786"
            ],
            [
             0.5555555555555556,
             "#d8576b"
            ],
            [
             0.6666666666666666,
             "#ed7953"
            ],
            [
             0.7777777777777778,
             "#fb9f3a"
            ],
            [
             0.8888888888888888,
             "#fdca26"
            ],
            [
             1,
             "#f0f921"
            ]
           ],
           "sequentialminus": [
            [
             0,
             "#0d0887"
            ],
            [
             0.1111111111111111,
             "#46039f"
            ],
            [
             0.2222222222222222,
             "#7201a8"
            ],
            [
             0.3333333333333333,
             "#9c179e"
            ],
            [
             0.4444444444444444,
             "#bd3786"
            ],
            [
             0.5555555555555556,
             "#d8576b"
            ],
            [
             0.6666666666666666,
             "#ed7953"
            ],
            [
             0.7777777777777778,
             "#fb9f3a"
            ],
            [
             0.8888888888888888,
             "#fdca26"
            ],
            [
             1,
             "#f0f921"
            ]
           ]
          },
          "colorway": [
           "#636efa",
           "#EF553B",
           "#00cc96",
           "#ab63fa",
           "#FFA15A",
           "#19d3f3",
           "#FF6692",
           "#B6E880",
           "#FF97FF",
           "#FECB52"
          ],
          "font": {
           "color": "#2a3f5f"
          },
          "geo": {
           "bgcolor": "white",
           "lakecolor": "white",
           "landcolor": "#E5ECF6",
           "showlakes": true,
           "showland": true,
           "subunitcolor": "white"
          },
          "hoverlabel": {
           "align": "left"
          },
          "hovermode": "closest",
          "mapbox": {
           "style": "light"
          },
          "paper_bgcolor": "white",
          "plot_bgcolor": "#E5ECF6",
          "polar": {
           "angularaxis": {
            "gridcolor": "white",
            "linecolor": "white",
            "ticks": ""
           },
           "bgcolor": "#E5ECF6",
           "radialaxis": {
            "gridcolor": "white",
            "linecolor": "white",
            "ticks": ""
           }
          },
          "scene": {
           "xaxis": {
            "backgroundcolor": "#E5ECF6",
            "gridcolor": "white",
            "gridwidth": 2,
            "linecolor": "white",
            "showbackground": true,
            "ticks": "",
            "zerolinecolor": "white"
           },
           "yaxis": {
            "backgroundcolor": "#E5ECF6",
            "gridcolor": "white",
            "gridwidth": 2,
            "linecolor": "white",
            "showbackground": true,
            "ticks": "",
            "zerolinecolor": "white"
           },
           "zaxis": {
            "backgroundcolor": "#E5ECF6",
            "gridcolor": "white",
            "gridwidth": 2,
            "linecolor": "white",
            "showbackground": true,
            "ticks": "",
            "zerolinecolor": "white"
           }
          },
          "shapedefaults": {
           "line": {
            "color": "#2a3f5f"
           }
          },
          "ternary": {
           "aaxis": {
            "gridcolor": "white",
            "linecolor": "white",
            "ticks": ""
           },
           "baxis": {
            "gridcolor": "white",
            "linecolor": "white",
            "ticks": ""
           },
           "bgcolor": "#E5ECF6",
           "caxis": {
            "gridcolor": "white",
            "linecolor": "white",
            "ticks": ""
           }
          },
          "title": {
           "x": 0.05
          },
          "xaxis": {
           "automargin": true,
           "gridcolor": "white",
           "linecolor": "white",
           "ticks": "",
           "title": {
            "standoff": 15
           },
           "zerolinecolor": "white",
           "zerolinewidth": 2
          },
          "yaxis": {
           "automargin": true,
           "gridcolor": "white",
           "linecolor": "white",
           "ticks": "",
           "title": {
            "standoff": 15
           },
           "zerolinecolor": "white",
           "zerolinewidth": 2
          }
         }
        },
        "xaxis": {
         "anchor": "y",
         "domain": [
          0,
          0.7363
         ],
         "title": {
          "text": "x"
         }
        },
        "xaxis2": {
         "anchor": "y2",
         "domain": [
          0.7413,
          1
         ],
         "matches": "x2",
         "showgrid": true,
         "showline": false,
         "showticklabels": false,
         "ticks": ""
        },
        "yaxis": {
         "anchor": "x",
         "domain": [
          0,
          1
         ],
         "title": {
          "text": "load_time"
         }
        },
        "yaxis2": {
         "anchor": "x2",
         "domain": [
          0,
          1
         ],
         "matches": "y",
         "showgrid": true,
         "showticklabels": false
        }
       }
      }
     },
     "metadata": {},
     "output_type": "display_data"
    },
    {
     "data": {
      "application/vnd.plotly.v1+json": {
       "config": {
        "plotlyServerURL": "https://plot.ly"
       },
       "data": [
        {
         "hovertemplate": "prompts=1<br>x=%{x}<br>load_time_per_input_token=%{y}<br>input_tokens=%{marker.size}<extra></extra>",
         "legendgroup": "1",
         "marker": {
          "color": "#636efa",
          "size": {
           "bdata": "WFtXWkxPWVxNUFRXUFNXWlZZUlVZXE5RS05YW1FUUVROUU9SUFNWWVFUUVRbXlRXT1JSVVFUUlVUV05RVFdUVyIlICMgIyEkISQhJCAjIyYkJyAjIyYjJiEkICMgIyIlISQjJh8iISQgIx8iICMiJSUoICMjJiEkICMgIyAjHyJnalRXXWBWWVNWU1ZPUlZZWFtPUlRXU1ZXWlBTTlFLTlJVTVBUV1JVW15PUk1QS05IS1FUUFNOUUtOTE9KTUtOJikhJCUoIiUiJSQnISQhJCIlISQkJyQnIyYkJyMmLTAkJyIlIiUhJCIlIyYhJCQnJSgiJSQnIyYjJiQnJyojJg==",
           "dtype": "i1"
          },
          "sizemode": "area",
          "sizeref": 19.125,
          "symbol": "circle"
         },
         "mode": "markers",
         "name": "1",
         "orientation": "v",
         "showlegend": true,
         "type": "scatter",
         "x": {
          "bdata": "AAABAAIAAwAEAAUABgAHAAgACQAKAAsADAANAA4ADwAQABEAEgATABQAFQAWABcAGAAZABoAGwAcAB0AHgAfACAAIQAiACMAJAAlACYAJwAoACkAKgArACwALQAuAC8AMAAxADIAMwA0ADUANgA3ADgAOQA6ADsAPAA9AD4APwBqAGsAbABtAG4AbwBwAHEAcgBzAHQAdQB2AHcAeAB5AHoAewB8AH0AfgB/AIAAgQCCAIMAhACFAIYAhwCIAIkAigCLAIwAjQCOAI8AkACRAJIAkwCUAJUAlgCXAJgAmQCaAJsAnACdAJ4AnwCgAKEAogCjAKQApQCmAKcAqACpANQA1QDWANcA2ADZANoA2wDcAN0A3gDfAOAA4QDiAOMA5ADlAOYA5wDoAOkA6gDrAOwA7QDuAO8A8ADxAPIA8wD0APUA9gD3APgA+QD6APsA/AD9AP4A/wAAAQEBAgEDAQQBBQEGAQcBCAEJAQoBCwEMAQ0BDgEPARABEQESARMBPgE/AUABQQFCAUMBRAFFAUYBRwFIAUkBSgFLAUwBTQFOAU8BUAFRAVIBUwFUAVUBVgFXAVgBWQFaAVsBXAFdAV4BXwFgAWEBYgFjAWQBZQFmAWcBaAFpAWoBawFsAW0BbgFvAXABcQFyAXMBdAF1AXYBdwF4AXkBegF7AXwBfQE=",
          "dtype": "i2"
         },
         "xaxis": "x",
         "y": {
          "bdata": "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",
          "dtype": "f8"
         },
         "yaxis": "y"
        },
        {
         "alignmentgroup": "True",
         "hovertemplate": "prompts=1<br>load_time_per_input_token=%{y}<extra></extra>",
         "legendgroup": "1",
         "marker": {
          "color": "#636efa",
          "symbol": "circle"
         },
         "name": "1",
         "notched": true,
         "offsetgroup": "1",
         "showlegend": false,
         "type": "box",
         "xaxis": "x2",
         "y": {
          "bdata": "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",
          "dtype": "f8"
         },
         "yaxis": "y2"
        },
        {
         "hovertemplate": "prompts=8<br>x=%{x}<br>load_time_per_input_token=%{y}<br>input_tokens=%{marker.size}<extra></extra>",
         "legendgroup": "8",
         "marker": {
          "color": "#EF553B",
          "size": {
           "bdata": "+wH+AfMB9gHzAfYB7QHwAfsB/gHzAfYB8wH2Ae0B8AH7Af4B8wH2AfMB9gHtAfAB+wH+AfMB9gHzAfYB7QHwAWcAagBsAG8AZABnAGcAagBpAGwAZQBoAGMAZgBnAGoAZQBoAGQAZwBnAGoAYABjAGUAaABoAGsAYQBkAGoAbQAYAhsC7QHwAeYB6QHCAcUBGAIbAu0B8AHmAekBwgHFARgCGwLtAfAB5gHpAcIBxQEYAhsC7QHwAeYB6QHCAcUBdQB4AIEAhAByAHUAfgCBAHsAfgB3AHoAdAB3AHoAfQB5AHwAdgB5AHIAdQB9AIAAdQB4AG4AcQB1AHgAeAB7AA==",
           "dtype": "i2"
          },
          "sizemode": "area",
          "sizeref": 19.125,
          "symbol": "circle"
         },
         "mode": "markers",
         "name": "8",
         "orientation": "v",
         "showlegend": true,
         "type": "scatter",
         "x": {
          "bdata": "QABBAEIAQwBEAEUARgBHAEgASQBKAEsATABNAE4ATwBQAFEAUgBTAFQAVQBWAFcAWABZAFoAWwBcAF0AXgBfAKoAqwCsAK0ArgCvALAAsQCyALMAtAC1ALYAtwC4ALkAugC7ALwAvQC+AL8AwADBAMIAwwDEAMUAxgDHAMgAyQAUARUBFgEXARgBGQEaARsBHAEdAR4BHwEgASEBIgEjASQBJQEmAScBKAEpASoBKwEsAS0BLgEvATABMQEyATMBfgF/AYABgQGCAYMBhAGFAYYBhwGIAYkBigGLAYwBjQGOAY8BkAGRAZIBkwGUAZUBlgGXAZgBmQGaAZsBnAGdAQ==",
          "dtype": "i2"
         },
         "xaxis": "x",
         "y": {
          "bdata": "1TNUOPLiLz+0B+m4qRAuP/NRojTK0i0/veGqss4PMj/uB3E4ldsvPyd3Z5EHFS4/vO1EGd+1Lj+5dDkjU3MwP6Z8T6yuXC4/dm4adg7vLj9bIOlAUsswPwdZiU7UkS4/NnoAKg4XMD/ERWs1K/IsP7/plu59EzA/R7zfFgYoLz/ElnJn8fwtP98mdNSzpzA/6tCDfFx+Lj8i9LRaAbwwP/pRQ/G0PTA/u8GEGkQDLz9S8pfDm+IuPxmlM6hgfy0/X3B9D4RyLj8C88Pg3h4yP0TFpqKMHjM/jhdH8XxVNj8L+b7rTwEwP6KKUbq7KS8/31MxwjyNMD/1tqv6CqwvPwhipecCKVI/nyXRt2bOUT99EC7n4NhQP5ZBQWJlY1A/zGcW9CA1VD8GJINwOvtRP9NgQ5cwGk8//3KAlllxUj+FOzDAJ6VWP2vjSiUR3FA/bC8IfKHLUj/I58+svQlTP0gR1zptAFM/qJwl92p2Uz+G0BEGGp5SPx5zhCU+plE/xtte6EQrVT9H2x/Qb4ZTP2UiW0wisVM/uiacoN7WVD83fuosVf1SP0iWxININFI/2484iPqBUz+/DgkUzbtSPzqYLjErnFI/yWvDXX5FUz+h4rZ6He9SPxCwr8qf4VE/4RxIpSdIVD99PmKllm5RP3CUgKVKhFI/kqUIbeOUUT91OgVPaT8uP7javrJO2y0/U61c4WbFMD+d3NRobdMuP25YtdIUADA/nr9YxYu9MD8wZXL84uQwP8/j6R159jA/Y9BEuSbXLj+TYEPykygrPyR/4uT9zjA/ZEBGbyqXMD8le8XWRREwP/jAKyQ0FS8/uJ14thyqMT+rBFU/ZRQwP3Wp8VjK0TI/J/OlU67TND81gHHH7ygvP9ywTAKn/DE/pie+c412Mj/y8hFfJAIwP/87Cw5v1DA/4BHoeYbsMD9El4qRzGctP7lYm1e45C0/C8hxVH/LMT/sf2or69ItP5PY3gZclDA/xkIJ81vxLz8FKQ5rY5MxP392jjoPFS8/9Y4Oh5YwUj8vjPeLJglQP+d+LbeLPE4/Ob8/RQslTT/aoeKA3pxSP4FKibrgAFA/WNJo4fdNUD8shgI4xvdOP9MG8D4BzVY/kWCcGFqPSz/xbwLAoo1QP8pIquLwYE4//ThbNwNQUT84AXwnWBJQP8fxP/zcJk0/fKXc1yLdTz94q8UYtTRQPwqs/BOWFkw/3C5ZzlP/UD+6sk3di/NOP7B86VgZ71Q/khKf0bZ+UD8/XStBSfhTP6LzdXS3Rk8/U8Xy4/DnUD/5P5fbgzFOP1sSIKWhLlE/um1gMK16UT+xFASUD3xRP8m2nrOX/1I/VGRF74AoTz+f5M+zouJNPw==",
          "dtype": "f8"
         },
         "yaxis": "y"
        },
        {
         "alignmentgroup": "True",
         "hovertemplate": "prompts=8<br>load_time_per_input_token=%{y}<extra></extra>",
         "legendgroup": "8",
         "marker": {
          "color": "#EF553B",
          "symbol": "circle"
         },
         "name": "8",
         "notched": true,
         "offsetgroup": "8",
         "showlegend": false,
         "type": "box",
         "xaxis": "x2",
         "y": {
          "bdata": "1TNUOPLiLz+0B+m4qRAuP/NRojTK0i0/veGqss4PMj/uB3E4ldsvPyd3Z5EHFS4/vO1EGd+1Lj+5dDkjU3MwP6Z8T6yuXC4/dm4adg7vLj9bIOlAUsswPwdZiU7UkS4/NnoAKg4XMD/ERWs1K/IsP7/plu59EzA/R7zfFgYoLz/ElnJn8fwtP98mdNSzpzA/6tCDfFx+Lj8i9LRaAbwwP/pRQ/G0PTA/u8GEGkQDLz9S8pfDm+IuPxmlM6hgfy0/X3B9D4RyLj8C88Pg3h4yP0TFpqKMHjM/jhdH8XxVNj8L+b7rTwEwP6KKUbq7KS8/31MxwjyNMD/1tqv6CqwvPwhipecCKVI/nyXRt2bOUT99EC7n4NhQP5ZBQWJlY1A/zGcW9CA1VD8GJINwOvtRP9NgQ5cwGk8//3KAlllxUj+FOzDAJ6VWP2vjSiUR3FA/bC8IfKHLUj/I58+svQlTP0gR1zptAFM/qJwl92p2Uz+G0BEGGp5SPx5zhCU+plE/xtte6EQrVT9H2x/Qb4ZTP2UiW0wisVM/uiacoN7WVD83fuosVf1SP0iWxININFI/2484iPqBUz+/DgkUzbtSPzqYLjErnFI/yWvDXX5FUz+h4rZ6He9SPxCwr8qf4VE/4RxIpSdIVD99PmKllm5RP3CUgKVKhFI/kqUIbeOUUT91OgVPaT8uP7javrJO2y0/U61c4WbFMD+d3NRobdMuP25YtdIUADA/nr9YxYu9MD8wZXL84uQwP8/j6R159jA/Y9BEuSbXLj+TYEPykygrPyR/4uT9zjA/ZEBGbyqXMD8le8XWRREwP/jAKyQ0FS8/uJ14thyqMT+rBFU/ZRQwP3Wp8VjK0TI/J/OlU67TND81gHHH7ygvP9ywTAKn/DE/pie+c412Mj/y8hFfJAIwP/87Cw5v1DA/4BHoeYbsMD9El4qRzGctP7lYm1e45C0/C8hxVH/LMT/sf2or69ItP5PY3gZclDA/xkIJ81vxLz8FKQ5rY5MxP392jjoPFS8/9Y4Oh5YwUj8vjPeLJglQP+d+LbeLPE4/Ob8/RQslTT/aoeKA3pxSP4FKibrgAFA/WNJo4fdNUD8shgI4xvdOP9MG8D4BzVY/kWCcGFqPSz/xbwLAoo1QP8pIquLwYE4//ThbNwNQUT84AXwnWBJQP8fxP/zcJk0/fKXc1yLdTz94q8UYtTRQPwqs/BOWFkw/3C5ZzlP/UD+6sk3di/NOP7B86VgZ71Q/khKf0bZ+UD8/XStBSfhTP6LzdXS3Rk8/U8Xy4/DnUD/5P5fbgzFOP1sSIKWhLlE/um1gMK16UT+xFASUD3xRP8m2nrOX/1I/VGRF74AoTz+f5M+zouJNPw==",
          "dtype": "f8"
         },
         "yaxis": "y2"
        },
        {
         "hovertemplate": "prompts=32<br>x=%{x}<br>load_time_per_input_token=%{y}<br>input_tokens=%{marker.size}<extra></extra>",
         "legendgroup": "32",
         "marker": {
          "color": "#00cc96",
          "size": {
           "bdata": "iQeMB4kHjAeJB4wHiQeMB1kBXAFTAVYBSwFOAVMBVgFoB2sHaAdrB2gHawdoB2sHoQGkAZsBngGZAZwBiwGOAQ==",
           "dtype": "i2"
          },
          "sizemode": "area",
          "sizeref": 19.125,
          "symbol": "circle"
         },
         "mode": "markers",
         "name": "32",
         "orientation": "v",
         "showlegend": true,
         "type": "scatter",
         "x": {
          "bdata": "YABhAGIAYwBkAGUAZgBnAMoAywDMAM0AzgDPANAA0QA0ATUBNgE3ATgBOQE6ATsBngGfAaABoQGiAaMBpAGlAQ==",
          "dtype": "i2"
         },
         "xaxis": "x",
         "y": {
          "bdata": "PBqbXHMPDz8OZUQEFM8RPyU+SjTLWA8/qjxMMfPJDj8MpoTSE7IPP+sk6CvULBA/s4gZHfHMDz/RdyfCkjAQP9/cSNdkAzY/sioDE5AGND/lG0tOazk0P/x0HZ4sljY/JPGYouS8Nj81+Y7enqc3P9YyzKDfQzY/zK/KYk00Nj80fmOd1QsPP5VgMYD7PBA/zfQeXsQvED8dg5WuXC8SP3SYflH+VA0/Y27p9aS4ED+/S3BO+j4NP9dZvQnJuxI/mRtdTHntMT/pJ/aS7CEyP3O5BuHpEDE/29FTiuvaMT95tUqTR4IyP8bAJyV6dTM/uuweqdvyMj9veGMBe6E3Pw==",
          "dtype": "f8"
         },
         "yaxis": "y"
        },
        {
         "alignmentgroup": "True",
         "hovertemplate": "prompts=32<br>load_time_per_input_token=%{y}<extra></extra>",
         "legendgroup": "32",
         "marker": {
          "color": "#00cc96",
          "symbol": "circle"
         },
         "name": "32",
         "notched": true,
         "offsetgroup": "32",
         "showlegend": false,
         "type": "box",
         "xaxis": "x2",
         "y": {
          "bdata": "PBqbXHMPDz8OZUQEFM8RPyU+SjTLWA8/qjxMMfPJDj8MpoTSE7IPP+sk6CvULBA/s4gZHfHMDz/RdyfCkjAQP9/cSNdkAzY/sioDE5AGND/lG0tOazk0P/x0HZ4sljY/JPGYouS8Nj81+Y7enqc3P9YyzKDfQzY/zK/KYk00Nj80fmOd1QsPP5VgMYD7PBA/zfQeXsQvED8dg5WuXC8SP3SYflH+VA0/Y27p9aS4ED+/S3BO+j4NP9dZvQnJuxI/mRtdTHntMT/pJ/aS7CEyP3O5BuHpEDE/29FTiuvaMT95tUqTR4IyP8bAJyV6dTM/uuweqdvyMj9veGMBe6E3Pw==",
          "dtype": "f8"
         },
         "yaxis": "y2"
        },
        {
         "hovertemplate": "prompts=128<br>x=%{x}<br>load_time_per_input_token=%{y}<br>input_tokens=%{marker.size}<extra></extra>",
         "legendgroup": "128",
         "marker": {
          "color": "#ab63fa",
          "size": {
           "bdata": "3x3iHQUFCAVbHV4dGwYeBg==",
           "dtype": "i2"
          },
          "sizemode": "area",
          "sizeref": 19.125,
          "symbol": "circle"
         },
         "mode": "markers",
         "name": "128",
         "orientation": "v",
         "showlegend": true,
         "type": "scatter",
         "x": {
          "bdata": "aABpANIA0wA8AT0BpgGnAQ==",
          "dtype": "i2"
         },
         "xaxis": "x",
         "y": {
          "bdata": "Z3E8kFu+7j562lKnwcbxPu1sEZXq2hY/TP9392TeGT85HOitlejxPvEnXCswcPA+1u/rhwc3FD+CCw5llokXPw==",
          "dtype": "f8"
         },
         "yaxis": "y"
        },
        {
         "alignmentgroup": "True",
         "hovertemplate": "prompts=128<br>load_time_per_input_token=%{y}<extra></extra>",
         "legendgroup": "128",
         "marker": {
          "color": "#ab63fa",
          "symbol": "circle"
         },
         "name": "128",
         "notched": true,
         "offsetgroup": "128",
         "showlegend": false,
         "type": "box",
         "xaxis": "x2",
         "y": {
          "bdata": "Z3E8kFu+7j562lKnwcbxPu1sEZXq2hY/TP9392TeGT85HOitlejxPvEnXCswcPA+1u/rhwc3FD+CCw5llokXPw==",
          "dtype": "f8"
         },
         "yaxis": "y2"
        }
       ],
       "layout": {
        "legend": {
         "itemsizing": "constant",
         "title": {
          "text": "prompts"
         },
         "tracegroupgap": 0
        },
        "margin": {
         "t": 60
        },
        "template": {
         "data": {
          "bar": [
           {
            "error_x": {
             "color": "#2a3f5f"
            },
            "error_y": {
             "color": "#2a3f5f"
            },
            "marker": {
             "line": {
              "color": "#E5ECF6",
              "width": 0.5
             },
             "pattern": {
              "fillmode": "overlay",
              "size": 10,
              "solidity": 0.2
             }
            },
            "type": "bar"
           }
          ],
          "barpolar": [
           {
            "marker": {
             "line": {
              "color": "#E5ECF6",
              "width": 0.5
             },
             "pattern": {
              "fillmode": "overlay",
              "size": 10,
              "solidity": 0.2
             }
            },
            "type": "barpolar"
           }
          ],
          "carpet": [
           {
            "aaxis": {
             "endlinecolor": "#2a3f5f",
             "gridcolor": "white",
             "linecolor": "white",
             "minorgridcolor": "white",
             "startlinecolor": "#2a3f5f"
            },
            "baxis": {
             "endlinecolor": "#2a3f5f",
             "gridcolor": "white",
             "linecolor": "white",
             "minorgridcolor": "white",
             "startlinecolor": "#2a3f5f"
            },
            "type": "carpet"
           }
          ],
          "choropleth": [
           {
            "colorbar": {
             "outlinewidth": 0,
             "ticks": ""
            },
            "type": "choropleth"
           }
          ],
          "contour": [
           {
            "colorbar": {
             "outlinewidth": 0,
             "ticks": ""
            },
            "colorscale": [
             [
              0,
              "#0d0887"
             ],
             [
              0.1111111111111111,
              "#46039f"
             ],
             [
              0.2222222222222222,
              "#7201a8"
             ],
             [
              0.3333333333333333,
              "#9c179e"
             ],
             [
              0.4444444444444444,
              "#bd3786"
             ],
             [
              0.5555555555555556,
              "#d8576b"
             ],
             [
              0.6666666666666666,
              "#ed7953"
             ],
             [
              0.7777777777777778,
              "#fb9f3a"
             ],
             [
              0.8888888888888888,
              "#fdca26"
             ],
             [
              1,
              "#f0f921"
             ]
            ],
            "type": "contour"
           }
          ],
          "contourcarpet": [
           {
            "colorbar": {
             "outlinewidth": 0,
             "ticks": ""
            },
            "type": "contourcarpet"
           }
          ],
          "heatmap": [
           {
            "colorbar": {
             "outlinewidth": 0,
             "ticks": ""
            },
            "colorscale": [
             [
              0,
              "#0d0887"
             ],
             [
              0.1111111111111111,
              "#46039f"
             ],
             [
              0.2222222222222222,
              "#7201a8"
             ],
             [
              0.3333333333333333,
              "#9c179e"
             ],
             [
              0.4444444444444444,
              "#bd3786"
             ],
             [
              0.5555555555555556,
              "#d8576b"
             ],
             [
              0.6666666666666666,
              "#ed7953"
             ],
             [
              0.7777777777777778,
              "#fb9f3a"
             ],
             [
              0.8888888888888888,
              "#fdca26"
             ],
             [
              1,
              "#f0f921"
             ]
            ],
            "type": "heatmap"
           }
          ],
          "histogram": [
           {
            "marker": {
             "pattern": {
              "fillmode": "overlay",
              "size": 10,
              "solidity": 0.2
             }
            },
            "type": "histogram"
           }
          ],
          "histogram2d": [
           {
            "colorbar": {
             "outlinewidth": 0,
             "ticks": ""
            },
            "colorscale": [
             [
              0,
              "#0d0887"
             ],
             [
              0.1111111111111111,
              "#46039f"
             ],
             [
              0.2222222222222222,
              "#7201a8"
             ],
             [
              0.3333333333333333,
              "#9c179e"
             ],
             [
              0.4444444444444444,
              "#bd3786"
             ],
             [
              0.5555555555555556,
              "#d8576b"
             ],
             [
              0.6666666666666666,
              "#ed7953"
             ],
             [
              0.7777777777777778,
              "#fb9f3a"
             ],
             [
              0.8888888888888888,
              "#fdca26"
             ],
             [
              1,
              "#f0f921"
             ]
            ],
            "type": "histogram2d"
           }
          ],
          "histogram2dcontour": [
           {
            "colorbar": {
             "outlinewidth": 0,
             "ticks": ""
            },
            "colorscale": [
             [
              0,
              "#0d0887"
             ],
             [
              0.1111111111111111,
              "#46039f"
             ],
             [
              0.2222222222222222,
              "#7201a8"
             ],
             [
              0.3333333333333333,
              "#9c179e"
             ],
             [
              0.4444444444444444,
              "#bd3786"
             ],
             [
              0.5555555555555556,
              "#d8576b"
             ],
             [
              0.6666666666666666,
              "#ed7953"
             ],
             [
              0.7777777777777778,
              "#fb9f3a"
             ],
             [
              0.8888888888888888,
              "#fdca26"
             ],
             [
              1,
              "#f0f921"
             ]
            ],
            "type": "histogram2dcontour"
           }
          ],
          "mesh3d": [
           {
            "colorbar": {
             "outlinewidth": 0,
             "ticks": ""
            },
            "type": "mesh3d"
           }
          ],
          "parcoords": [
           {
            "line": {
             "colorbar": {
              "outlinewidth": 0,
              "ticks": ""
             }
            },
            "type": "parcoords"
           }
          ],
          "pie": [
           {
            "automargin": true,
            "type": "pie"
           }
          ],
          "scatter": [
           {
            "fillpattern": {
             "fillmode": "overlay",
             "size": 10,
             "solidity": 0.2
            },
            "type": "scatter"
           }
          ],
          "scatter3d": [
           {
            "line": {
             "colorbar": {
              "outlinewidth": 0,
              "ticks": ""
             }
            },
            "marker": {
             "colorbar": {
              "outlinewidth": 0,
              "ticks": ""
             }
            },
            "type": "scatter3d"
           }
          ],
          "scattercarpet": [
           {
            "marker": {
             "colorbar": {
              "outlinewidth": 0,
              "ticks": ""
             }
            },
            "type": "scattercarpet"
           }
          ],
          "scattergeo": [
           {
            "marker": {
             "colorbar": {
              "outlinewidth": 0,
              "ticks": ""
             }
            },
            "type": "scattergeo"
           }
          ],
          "scattergl": [
           {
            "marker": {
             "colorbar": {
              "outlinewidth": 0,
              "ticks": ""
             }
            },
            "type": "scattergl"
           }
          ],
          "scattermap": [
           {
            "marker": {
             "colorbar": {
              "outlinewidth": 0,
              "ticks": ""
             }
            },
            "type": "scattermap"
           }
          ],
          "scattermapbox": [
           {
            "marker": {
             "colorbar": {
              "outlinewidth": 0,
              "ticks": ""
             }
            },
            "type": "scattermapbox"
           }
          ],
          "scatterpolar": [
           {
            "marker": {
             "colorbar": {
              "outlinewidth": 0,
              "ticks": ""
             }
            },
            "type": "scatterpolar"
           }
          ],
          "scatterpolargl": [
           {
            "marker": {
             "colorbar": {
              "outlinewidth": 0,
              "ticks": ""
             }
            },
            "type": "scatterpolargl"
           }
          ],
          "scatterternary": [
           {
            "marker": {
             "colorbar": {
              "outlinewidth": 0,
              "ticks": ""
             }
            },
            "type": "scatterternary"
           }
          ],
          "surface": [
           {
            "colorbar": {
             "outlinewidth": 0,
             "ticks": ""
            },
            "colorscale": [
             [
              0,
              "#0d0887"
             ],
             [
              0.1111111111111111,
              "#46039f"
             ],
             [
              0.2222222222222222,
              "#7201a8"
             ],
             [
              0.3333333333333333,
              "#9c179e"
             ],
             [
              0.4444444444444444,
              "#bd3786"
             ],
             [
              0.5555555555555556,
              "#d8576b"
             ],
             [
              0.6666666666666666,
              "#ed7953"
             ],
             [
              0.7777777777777778,
              "#fb9f3a"
             ],
             [
              0.8888888888888888,
              "#fdca26"
             ],
             [
              1,
              "#f0f921"
             ]
            ],
            "type": "surface"
           }
          ],
          "table": [
           {
            "cells": {
             "fill": {
              "color": "#EBF0F8"
             },
             "line": {
              "color": "white"
             }
            },
            "header": {
             "fill": {
              "color": "#C8D4E3"
             },
             "line": {
              "color": "white"
             }
            },
            "type": "table"
           }
          ]
         },
         "layout": {
          "annotationdefaults": {
           "arrowcolor": "#2a3f5f",
           "arrowhead": 0,
           "arrowwidth": 1
          },
          "autotypenumbers": "strict",
          "coloraxis": {
           "colorbar": {
            "outlinewidth": 0,
            "ticks": ""
           }
          },
          "colorscale": {
           "diverging": [
            [
             0,
             "#8e0152"
            ],
            [
             0.1,
             "#c51b7d"
            ],
            [
             0.2,
             "#de77ae"
            ],
            [
             0.3,
             "#f1b6da"
            ],
            [
             0.4,
             "#fde0ef"
            ],
            [
             0.5,
             "#f7f7f7"
            ],
            [
             0.6,
             "#e6f5d0"
            ],
            [
             0.7,
             "#b8e186"
            ],
            [
             0.8,
             "#7fbc41"
            ],
            [
             0.9,
             "#4d9221"
            ],
            [
             1,
             "#276419"
            ]
           ],
           "sequential": [
            [
             0,
             "#0d0887"
            ],
            [
             0.1111111111111111,
             "#46039f"
            ],
            [
             0.2222222222222222,
             "#7201a8"
            ],
            [
             0.3333333333333333,
             "#9c179e"
            ],
            [
             0.4444444444444444,
             "#bd3786"
            ],
            [
             0.5555555555555556,
             "#d8576b"
            ],
            [
             0.6666666666666666,
             "#ed7953"
            ],
            [
             0.7777777777777778,
             "#fb9f3a"
            ],
            [
             0.8888888888888888,
             "#fdca26"
            ],
            [
             1,
             "#f0f921"
            ]
           ],
           "sequentialminus": [
            [
             0,
             "#0d0887"
            ],
            [
             0.1111111111111111,
             "#46039f"
            ],
            [
             0.2222222222222222,
             "#7201a8"
            ],
            [
             0.3333333333333333,
             "#9c179e"
            ],
            [
             0.4444444444444444,
             "#bd3786"
            ],
            [
             0.5555555555555556,
             "#d8576b"
            ],
            [
             0.6666666666666666,
             "#ed7953"
            ],
            [
             0.7777777777777778,
             "#fb9f3a"
            ],
            [
             0.8888888888888888,
             "#fdca26"
            ],
            [
             1,
             "#f0f921"
            ]
           ]
          },
          "colorway": [
           "#636efa",
           "#EF553B",
           "#00cc96",
           "#ab63fa",
           "#FFA15A",
           "#19d3f3",
           "#FF6692",
           "#B6E880",
           "#FF97FF",
           "#FECB52"
          ],
          "font": {
           "color": "#2a3f5f"
          },
          "geo": {
           "bgcolor": "white",
           "lakecolor": "white",
           "landcolor": "#E5ECF6",
           "showlakes": true,
           "showland": true,
           "subunitcolor": "white"
          },
          "hoverlabel": {
           "align": "left"
          },
          "hovermode": "closest",
          "mapbox": {
           "style": "light"
          },
          "paper_bgcolor": "white",
          "plot_bgcolor": "#E5ECF6",
          "polar": {
           "angularaxis": {
            "gridcolor": "white",
            "linecolor": "white",
            "ticks": ""
           },
           "bgcolor": "#E5ECF6",
           "radialaxis": {
            "gridcolor": "white",
            "linecolor": "white",
            "ticks": ""
           }
          },
          "scene": {
           "xaxis": {
            "backgroundcolor": "#E5ECF6",
            "gridcolor": "white",
            "gridwidth": 2,
            "linecolor": "white",
            "showbackground": true,
            "ticks": "",
            "zerolinecolor": "white"
           },
           "yaxis": {
            "backgroundcolor": "#E5ECF6",
            "gridcolor": "white",
            "gridwidth": 2,
            "linecolor": "white",
            "showbackground": true,
            "ticks": "",
            "zerolinecolor": "white"
           },
           "zaxis": {
            "backgroundcolor": "#E5ECF6",
            "gridcolor": "white",
            "gridwidth": 2,
            "linecolor": "white",
            "showbackground": true,
            "ticks": "",
            "zerolinecolor": "white"
           }
          },
          "shapedefaults": {
           "line": {
            "color": "#2a3f5f"
           }
          },
          "ternary": {
           "aaxis": {
            "gridcolor": "white",
            "linecolor": "white",
            "ticks": ""
           },
           "baxis": {
            "gridcolor": "white",
            "linecolor": "white",
            "ticks": ""
           },
           "bgcolor": "#E5ECF6",
           "caxis": {
            "gridcolor": "white",
            "linecolor": "white",
            "ticks": ""
           }
          },
          "title": {
           "x": 0.05
          },
          "xaxis": {
           "automargin": true,
           "gridcolor": "white",
           "linecolor": "white",
           "ticks": "",
           "title": {
            "standoff": 15
           },
           "zerolinecolor": "white",
           "zerolinewidth": 2
          },
          "yaxis": {
           "automargin": true,
           "gridcolor": "white",
           "linecolor": "white",
           "ticks": "",
           "title": {
            "standoff": 15
           },
           "zerolinecolor": "white",
           "zerolinewidth": 2
          }
         }
        },
        "xaxis": {
         "anchor": "y",
         "domain": [
          0,
          0.7363
         ],
         "title": {
          "text": "x"
         }
        },
        "xaxis2": {
         "anchor": "y2",
         "domain": [
          0.7413,
          1
         ],
         "matches": "x2",
         "showgrid": false,
         "showline": false,
         "showticklabels": false,
         "ticks": ""
        },
        "yaxis": {
         "anchor": "x",
         "domain": [
          0,
          1
         ],
         "title": {
          "text": "load_time_per_input_token"
         }
        },
        "yaxis2": {
         "anchor": "x2",
         "domain": [
          0,
          1
         ],
         "matches": "y",
         "showgrid": true,
         "showticklabels": false
        }
       }
      }
     },
     "metadata": {},
     "output_type": "display_data"
    },
    {
     "data": {
      "application/vnd.plotly.v1+json": {
       "config": {
        "plotlyServerURL": "https://plot.ly"
       },
       "data": [
        {
         "hovertemplate": "prompts=1<br>x=%{x}<br>total_time_per_output_token=%{y}<extra></extra>",
         "legendgroup": "1",
         "marker": {
          "color": "#636efa",
          "symbol": "circle"
         },
         "mode": "markers",
         "name": "1",
         "orientation": "v",
         "showlegend": true,
         "type": "scatter",
         "x": {
          "bdata": "AAABAAIAAwAEAAUABgAHAAgACQAKAAsADAANAA4ADwAQABEAEgATABQAFQAWABcAGAAZABoAGwAcAB0AHgAfACAAIQAiACMAJAAlACYAJwAoACkAKgArACwALQAuAC8AMAAxADIAMwA0ADUANgA3ADgAOQA6ADsAPAA9AD4APwBqAGsAbABtAG4AbwBwAHEAcgBzAHQAdQB2AHcAeAB5AHoAewB8AH0AfgB/AIAAgQCCAIMAhACFAIYAhwCIAIkAigCLAIwAjQCOAI8AkACRAJIAkwCUAJUAlgCXAJgAmQCaAJsAnACdAJ4AnwCgAKEAogCjAKQApQCmAKcAqACpANQA1QDWANcA2ADZANoA2wDcAN0A3gDfAOAA4QDiAOMA5ADlAOYA5wDoAOkA6gDrAOwA7QDuAO8A8ADxAPIA8wD0APUA9gD3APgA+QD6APsA/AD9AP4A/wAAAQEBAgEDAQQBBQEGAQcBCAEJAQoBCwEMAQ0BDgEPARABEQESARMBPgE/AUABQQFCAUMBRAFFAUYBRwFIAUkBSgFLAUwBTQFOAU8BUAFRAVIBUwFUAVUBVgFXAVgBWQFaAVsBXAFdAV4BXwFgAWEBYgFjAWQBZQFmAWcBaAFpAWoBawFsAW0BbgFvAXABcQFyAXMBdAF1AXYBdwF4AXkBegF7AXwBfQE=",
          "dtype": "i2"
         },
         "xaxis": "x",
         "y": {
          "bdata": "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",
          "dtype": "f8"
         },
         "yaxis": "y"
        },
        {
         "alignmentgroup": "True",
         "hovertemplate": "prompts=1<br>total_time_per_output_token=%{y}<extra></extra>",
         "legendgroup": "1",
         "marker": {
          "color": "#636efa",
          "symbol": "circle"
         },
         "name": "1",
         "offsetgroup": "1",
         "scalegroup": "y",
         "showlegend": false,
         "type": "violin",
         "xaxis": "x2",
         "y": {
          "bdata": "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",
          "dtype": "f8"
         },
         "yaxis": "y2"
        },
        {
         "hovertemplate": "prompts=8<br>x=%{x}<br>total_time_per_output_token=%{y}<extra></extra>",
         "legendgroup": "8",
         "marker": {
          "color": "#EF553B",
          "symbol": "circle"
         },
         "mode": "markers",
         "name": "8",
         "orientation": "v",
         "showlegend": true,
         "type": "scatter",
         "x": {
          "bdata": "QABBAEIAQwBEAEUARgBHAEgASQBKAEsATABNAE4ATwBQAFEAUgBTAFQAVQBWAFcAWABZAFoAWwBcAF0AXgBfAKoAqwCsAK0ArgCvALAAsQCyALMAtAC1ALYAtwC4ALkAugC7ALwAvQC+AL8AwADBAMIAwwDEAMUAxgDHAMgAyQAUARUBFgEXARgBGQEaARsBHAEdAR4BHwEgASEBIgEjASQBJQEmAScBKAEpASoBKwEsAS0BLgEvATABMQEyATMBfgF/AYABgQGCAYMBhAGFAYYBhwGIAYkBigGLAYwBjQGOAY8BkAGRAZIBkwGUAZUBlgGXAZgBmQGaAZsBnAGdAQ==",
          "dtype": "i2"
         },
         "xaxis": "x",
         "y": {
          "bdata": "BTmY6GZtlz8mIR+tH1+WP/DdjG72I5g/2bJp6VfUlj/TVdBgHSGXPxW8WspOk5Y/ClJASrwZlz98PUj2ULaWP4kAlJL9BJc/TSUMl9NJlj/oWMeLvROYP/yc6sqZqpY/29MvpUV4lz/mZ6AAZoqWP0TI4foZCpc/FV8qMrR3lj8+6MWxpSCXP2Ko/8Vo1JY/Urcyi1T+lz8Z84UAd3qWP8q+3QdUsZc/30UNM023lj9Ofad4QFaXP5qaOoiMd5Y/5n6NYMxblz9xixLJPNCWP6x0HV8grpk/3ScNgAjSlj9kwVwAnH+XP3IMn1Q7xZY/E14c5Z8Olz9j8I9wyY6WP2eSXX9yhZY/MrLYkXSWlj8K9/bKAmeWP+Fl2n55K5Y/F4cwnuu6lj/Tfdb4mj6WP8DMBCFFRJY/9d4C+DxDlj+pK+lylM2WP/wMYNTVNJY/uDtPvuYTlj+VP8E8WOqVP+Tr2EX1f5Y/PrpOkzYilj+jagjS4r6WP8+LsvbeHpY/l9BHgWk7lj+RnjnvdCOWP57hR3FqV5Y/pAKEc4cElj9zfKYxP0iWPzc5qrIgD5Y/uvMlj/U1lj8PD2NkKNuVP6Ipix97ZpY/cv/UM18rlj+M3XW6F4iXP9sJqG6OPJY/lM0YpcmIlj87FyaJMAKWP/xqyLigeJY/gn+eijszlj+OC4DWqUGXPyIGGkFKwpY/bV8q7HX4lj+TpZUlj7OWP1w1Q8V70pY/wCtyOxpzlj/RohsMcw+XP6tHk9Qpn5Y/yyCJFag5lz/UuqawBbKWPyvJUAR9OJc/YY20RlOjlj8W/+CF6rKWP5riIUWGX5Y/qVEVe+valj8P+aZbF72WPz536dixIpc/ukuNEE/vlj/quqxs7TyXPznDMOHtjJY/nM2XTv3Elj8mEfBak5+WP3uAng4zPpc/SyxAqGLIlj/KE0U07DSXP3LzuOhmw5Y/ZV1cRQ75lj/DyPCg05qWP7VMrvl40ZY/jhdtGHttlj+XFIktCNSWP3VEfnEqp5Y/xuWti3ZJlj+H8Y5eYBOWP5rDAQgXXJY/jHk7ZzyClj8Bm2E2sLGWP2SmvG5yaZY/YZm5TOBylj8NfJ6GG16WPyfa8VCZtZY/Hrr3ikdAlj/SA0dWylmWP14hjxfoSZY/hPvIeMLPlj/y8J+ISS6WP6EAr7ODb5Y/dFBJZ6E+lj8wSge0q1mWP7lA4WOdRJY/eWC2xANglj/+C09TgmSWP7+IhMZ6XpY/9lEbQIJalj9Y4fpI8FaWPwOlFjX+VpY/be7WFj6flj9MKchn4iaWP0/wQ6fEkZY/19xV6k5Flj/TaQ6SQR+WPxQEC9gL7ZU/dWkClYtclj80PNFsJFyWPw==",
          "dtype": "f8"
         },
         "yaxis": "y"
        },
        {
         "alignmentgroup": "True",
         "hovertemplate": "prompts=8<br>total_time_per_output_token=%{y}<extra></extra>",
         "legendgroup": "8",
         "marker": {
          "color": "#EF553B",
          "symbol": "circle"
         },
         "name": "8",
         "offsetgroup": "8",
         "scalegroup": "y",
         "showlegend": false,
         "type": "violin",
         "xaxis": "x2",
         "y": {
          "bdata": "BTmY6GZtlz8mIR+tH1+WP/DdjG72I5g/2bJp6VfUlj/TVdBgHSGXPxW8WspOk5Y/ClJASrwZlz98PUj2ULaWP4kAlJL9BJc/TSUMl9NJlj/oWMeLvROYP/yc6sqZqpY/29MvpUV4lz/mZ6AAZoqWP0TI4foZCpc/FV8qMrR3lj8+6MWxpSCXP2Ko/8Vo1JY/Urcyi1T+lz8Z84UAd3qWP8q+3QdUsZc/30UNM023lj9Ofad4QFaXP5qaOoiMd5Y/5n6NYMxblz9xixLJPNCWP6x0HV8grpk/3ScNgAjSlj9kwVwAnH+XP3IMn1Q7xZY/E14c5Z8Olz9j8I9wyY6WP2eSXX9yhZY/MrLYkXSWlj8K9/bKAmeWP+Fl2n55K5Y/F4cwnuu6lj/Tfdb4mj6WP8DMBCFFRJY/9d4C+DxDlj+pK+lylM2WP/wMYNTVNJY/uDtPvuYTlj+VP8E8WOqVP+Tr2EX1f5Y/PrpOkzYilj+jagjS4r6WP8+LsvbeHpY/l9BHgWk7lj+RnjnvdCOWP57hR3FqV5Y/pAKEc4cElj9zfKYxP0iWPzc5qrIgD5Y/uvMlj/U1lj8PD2NkKNuVP6Ipix97ZpY/cv/UM18rlj+M3XW6F4iXP9sJqG6OPJY/lM0YpcmIlj87FyaJMAKWP/xqyLigeJY/gn+eijszlj+OC4DWqUGXPyIGGkFKwpY/bV8q7HX4lj+TpZUlj7OWP1w1Q8V70pY/wCtyOxpzlj/RohsMcw+XP6tHk9Qpn5Y/yyCJFag5lz/UuqawBbKWPyvJUAR9OJc/YY20RlOjlj8W/+CF6rKWP5riIUWGX5Y/qVEVe+valj8P+aZbF72WPz536dixIpc/ukuNEE/vlj/quqxs7TyXPznDMOHtjJY/nM2XTv3Elj8mEfBak5+WP3uAng4zPpc/SyxAqGLIlj/KE0U07DSXP3LzuOhmw5Y/ZV1cRQ75lj/DyPCg05qWP7VMrvl40ZY/jhdtGHttlj+XFIktCNSWP3VEfnEqp5Y/xuWti3ZJlj+H8Y5eYBOWP5rDAQgXXJY/jHk7ZzyClj8Bm2E2sLGWP2SmvG5yaZY/YZm5TOBylj8NfJ6GG16WPyfa8VCZtZY/Hrr3ikdAlj/SA0dWylmWP14hjxfoSZY/hPvIeMLPlj/y8J+ISS6WP6EAr7ODb5Y/dFBJZ6E+lj8wSge0q1mWP7lA4WOdRJY/eWC2xANglj/+C09TgmSWP7+IhMZ6XpY/9lEbQIJalj9Y4fpI8FaWPwOlFjX+VpY/be7WFj6flj9MKchn4iaWP0/wQ6fEkZY/19xV6k5Flj/TaQ6SQR+WPxQEC9gL7ZU/dWkClYtclj80PNFsJFyWPw==",
          "dtype": "f8"
         },
         "yaxis": "y2"
        },
        {
         "hovertemplate": "prompts=32<br>x=%{x}<br>total_time_per_output_token=%{y}<extra></extra>",
         "legendgroup": "32",
         "marker": {
          "color": "#00cc96",
          "symbol": "circle"
         },
         "mode": "markers",
         "name": "32",
         "orientation": "v",
         "showlegend": true,
         "type": "scatter",
         "x": {
          "bdata": "YABhAGIAYwBkAGUAZgBnAMoAywDMAM0AzgDPANAA0QA0ATUBNgE3ATgBOQE6ATsBngGfAaABoQGiAaMBpAGlAQ==",
          "dtype": "i2"
         },
         "xaxis": "x",
         "y": {
          "bdata": "dFPmCsBhmD/55gQ1N/SXP2bhqQiRl5g/xSngt2YLmD8mfcH0ZFCYP54VvYqKo5g/gVPk+EiXmD/mgYfyvBCYP7ax+Bh2dZY/rUEwn8V0lj8t3Wt4q6iXP6AvICh1UZY/dhzW3Hevlj8eqSCHUXKWP/AUqKxM4JY/bfSE7OCNlj9y0PeseAWYPx+PzuilpZg/UXz3CVAemD88VCzjuHWYPxpDVVf/F5g/tIwf2BM9mD/w5hyYWBOYPwxYJgdC35g/H6dJqr2Klj9W+I7CPeOWPwkGybZidpY/ES5zN0f5lj/3DyK0wVeWP8FKKKJwz5Y/aLwso1h5lj8XDFDl6FKXPw==",
          "dtype": "f8"
         },
         "yaxis": "y"
        },
        {
         "alignmentgroup": "True",
         "hovertemplate": "prompts=32<br>total_time_per_output_token=%{y}<extra></extra>",
         "legendgroup": "32",
         "marker": {
          "color": "#00cc96",
          "symbol": "circle"
         },
         "name": "32",
         "offsetgroup": "32",
         "scalegroup": "y",
         "showlegend": false,
         "type": "violin",
         "xaxis": "x2",
         "y": {
          "bdata": "dFPmCsBhmD/55gQ1N/SXP2bhqQiRl5g/xSngt2YLmD8mfcH0ZFCYP54VvYqKo5g/gVPk+EiXmD/mgYfyvBCYP7ax+Bh2dZY/rUEwn8V0lj8t3Wt4q6iXP6AvICh1UZY/dhzW3Hevlj8eqSCHUXKWP/AUqKxM4JY/bfSE7OCNlj9y0PeseAWYPx+PzuilpZg/UXz3CVAemD88VCzjuHWYPxpDVVf/F5g/tIwf2BM9mD/w5hyYWBOYPwxYJgdC35g/H6dJqr2Klj9W+I7CPeOWPwkGybZidpY/ES5zN0f5lj/3DyK0wVeWP8FKKKJwz5Y/aLwso1h5lj8XDFDl6FKXPw==",
          "dtype": "f8"
         },
         "yaxis": "y2"
        },
        {
         "hovertemplate": "prompts=128<br>x=%{x}<br>total_time_per_output_token=%{y}<extra></extra>",
         "legendgroup": "128",
         "marker": {
          "color": "#ab63fa",
          "symbol": "circle"
         },
         "mode": "markers",
         "name": "128",
         "orientation": "v",
         "showlegend": true,
         "type": "scatter",
         "x": {
          "bdata": "aABpANIA0wA8AT0BpgGnAQ==",
          "dtype": "i2"
         },
         "xaxis": "x",
         "y": {
          "bdata": "NN4kru1ytD94G9bn02W0P8u7FJAA0Jg/qEDGzgHYmD/HVZ8T+z6sP/G9XmOP46c/fVXbC9S7nT/8851eR++XPw==",
          "dtype": "f8"
         },
         "yaxis": "y"
        },
        {
         "alignmentgroup": "True",
         "hovertemplate": "prompts=128<br>total_time_per_output_token=%{y}<extra></extra>",
         "legendgroup": "128",
         "marker": {
          "color": "#ab63fa",
          "symbol": "circle"
         },
         "name": "128",
         "offsetgroup": "128",
         "scalegroup": "y",
         "showlegend": false,
         "type": "violin",
         "xaxis": "x2",
         "y": {
          "bdata": "NN4kru1ytD94G9bn02W0P8u7FJAA0Jg/qEDGzgHYmD/HVZ8T+z6sP/G9XmOP46c/fVXbC9S7nT/8851eR++XPw==",
          "dtype": "f8"
         },
         "yaxis": "y2"
        }
       ],
       "layout": {
        "legend": {
         "title": {
          "text": "prompts"
         },
         "tracegroupgap": 0
        },
        "margin": {
         "t": 60
        },
        "template": {
         "data": {
          "bar": [
           {
            "error_x": {
             "color": "#2a3f5f"
            },
            "error_y": {
             "color": "#2a3f5f"
            },
            "marker": {
             "line": {
              "color": "#E5ECF6",
              "width": 0.5
             },
             "pattern": {
              "fillmode": "overlay",
              "size": 10,
              "solidity": 0.2
             }
            },
            "type": "bar"
           }
          ],
          "barpolar": [
           {
            "marker": {
             "line": {
              "color": "#E5ECF6",
              "width": 0.5
             },
             "pattern": {
              "fillmode": "overlay",
              "size": 10,
              "solidity": 0.2
             }
            },
            "type": "barpolar"
           }
          ],
          "carpet": [
           {
            "aaxis": {
             "endlinecolor": "#2a3f5f",
             "gridcolor": "white",
             "linecolor": "white",
             "minorgridcolor": "white",
             "startlinecolor": "#2a3f5f"
            },
            "baxis": {
             "endlinecolor": "#2a3f5f",
             "gridcolor": "white",
             "linecolor": "white",
             "minorgridcolor": "white",
             "startlinecolor": "#2a3f5f"
            },
            "type": "carpet"
           }
          ],
          "choropleth": [
           {
            "colorbar": {
             "outlinewidth": 0,
             "ticks": ""
            },
            "type": "choropleth"
           }
          ],
          "contour": [
           {
            "colorbar": {
             "outlinewidth": 0,
             "ticks": ""
            },
            "colorscale": [
             [
              0,
              "#0d0887"
             ],
             [
              0.1111111111111111,
              "#46039f"
             ],
             [
              0.2222222222222222,
              "#7201a8"
             ],
             [
              0.3333333333333333,
              "#9c179e"
             ],
             [
              0.4444444444444444,
              "#bd3786"
             ],
             [
              0.5555555555555556,
              "#d8576b"
             ],
             [
              0.6666666666666666,
              "#ed7953"
             ],
             [
              0.7777777777777778,
              "#fb9f3a"
             ],
             [
              0.8888888888888888,
              "#fdca26"
             ],
             [
              1,
              "#f0f921"
             ]
            ],
            "type": "contour"
           }
          ],
          "contourcarpet": [
           {
            "colorbar": {
             "outlinewidth": 0,
             "ticks": ""
            },
            "type": "contourcarpet"
           }
          ],
          "heatmap": [
           {
            "colorbar": {
             "outlinewidth": 0,
             "ticks": ""
            },
            "colorscale": [
             [
              0,
              "#0d0887"
             ],
             [
              0.1111111111111111,
              "#46039f"
             ],
             [
              0.2222222222222222,
              "#7201a8"
             ],
             [
              0.3333333333333333,
              "#9c179e"
             ],
             [
              0.4444444444444444,
              "#bd3786"
             ],
             [
              0.5555555555555556,
              "#d8576b"
             ],
             [
              0.6666666666666666,
              "#ed7953"
             ],
             [
              0.7777777777777778,
              "#fb9f3a"
             ],
             [
              0.8888888888888888,
              "#fdca26"
             ],
             [
              1,
              "#f0f921"
             ]
            ],
            "type": "heatmap"
           }
          ],
          "histogram": [
           {
            "marker": {
             "pattern": {
              "fillmode": "overlay",
              "size": 10,
              "solidity": 0.2
             }
            },
            "type": "histogram"
           }
          ],
          "histogram2d": [
           {
            "colorbar": {
             "outlinewidth": 0,
             "ticks": ""
            },
            "colorscale": [
             [
              0,
              "#0d0887"
             ],
             [
              0.1111111111111111,
              "#46039f"
             ],
             [
              0.2222222222222222,
              "#7201a8"
             ],
             [
              0.3333333333333333,
              "#9c179e"
             ],
             [
              0.4444444444444444,
              "#bd3786"
             ],
             [
              0.5555555555555556,
              "#d8576b"
             ],
             [
              0.6666666666666666,
              "#ed7953"
             ],
             [
              0.7777777777777778,
              "#fb9f3a"
             ],
             [
              0.8888888888888888,
              "#fdca26"
             ],
             [
              1,
              "#f0f921"
             ]
            ],
            "type": "histogram2d"
           }
          ],
          "histogram2dcontour": [
           {
            "colorbar": {
             "outlinewidth": 0,
             "ticks": ""
            },
            "colorscale": [
             [
              0,
              "#0d0887"
             ],
             [
              0.1111111111111111,
              "#46039f"
             ],
             [
              0.2222222222222222,
              "#7201a8"
             ],
             [
              0.3333333333333333,
              "#9c179e"
             ],
             [
              0.4444444444444444,
              "#bd3786"
             ],
             [
              0.5555555555555556,
              "#d8576b"
             ],
             [
              0.6666666666666666,
              "#ed7953"
             ],
             [
              0.7777777777777778,
              "#fb9f3a"
             ],
             [
              0.8888888888888888,
              "#fdca26"
             ],
             [
              1,
              "#f0f921"
             ]
            ],
            "type": "histogram2dcontour"
           }
          ],
          "mesh3d": [
           {
            "colorbar": {
             "outlinewidth": 0,
             "ticks": ""
            },
            "type": "mesh3d"
           }
          ],
          "parcoords": [
           {
            "line": {
             "colorbar": {
              "outlinewidth": 0,
              "ticks": ""
             }
            },
            "type": "parcoords"
           }
          ],
          "pie": [
           {
            "automargin": true,
            "type": "pie"
           }
          ],
          "scatter": [
           {
            "fillpattern": {
             "fillmode": "overlay",
             "size": 10,
             "solidity": 0.2
            },
            "type": "scatter"
           }
          ],
          "scatter3d": [
           {
            "line": {
             "colorbar": {
              "outlinewidth": 0,
              "ticks": ""
             }
            },
            "marker": {
             "colorbar": {
              "outlinewidth": 0,
              "ticks": ""
             }
            },
            "type": "scatter3d"
           }
          ],
          "scattercarpet": [
           {
            "marker": {
             "colorbar": {
              "outlinewidth": 0,
              "ticks": ""
             }
            },
            "type": "scattercarpet"
           }
          ],
          "scattergeo": [
           {
            "marker": {
             "colorbar": {
              "outlinewidth": 0,
              "ticks": ""
             }
            },
            "type": "scattergeo"
           }
          ],
          "scattergl": [
           {
            "marker": {
             "colorbar": {
              "outlinewidth": 0,
              "ticks": ""
             }
            },
            "type": "scattergl"
           }
          ],
          "scattermap": [
           {
            "marker": {
             "colorbar": {
              "outlinewidth": 0,
              "ticks": ""
             }
            },
            "type": "scattermap"
           }
          ],
          "scattermapbox": [
           {
            "marker": {
             "colorbar": {
              "outlinewidth": 0,
              "ticks": ""
             }
            },
            "type": "scattermapbox"
           }
          ],
          "scatterpolar": [
           {
            "marker": {
             "colorbar": {
              "outlinewidth": 0,
              "ticks": ""
             }
            },
            "type": "scatterpolar"
           }
          ],
          "scatterpolargl": [
           {
            "marker": {
             "colorbar": {
              "outlinewidth": 0,
              "ticks": ""
             }
            },
            "type": "scatterpolargl"
           }
          ],
          "scatterternary": [
           {
            "marker": {
             "colorbar": {
              "outlinewidth": 0,
              "ticks": ""
             }
            },
            "type": "scatterternary"
           }
          ],
          "surface": [
           {
            "colorbar": {
             "outlinewidth": 0,
             "ticks": ""
            },
            "colorscale": [
             [
              0,
              "#0d0887"
             ],
             [
              0.1111111111111111,
              "#46039f"
             ],
             [
              0.2222222222222222,
              "#7201a8"
             ],
             [
              0.3333333333333333,
              "#9c179e"
             ],
             [
              0.4444444444444444,
              "#bd3786"
             ],
             [
              0.5555555555555556,
              "#d8576b"
             ],
             [
              0.6666666666666666,
              "#ed7953"
             ],
             [
              0.7777777777777778,
              "#fb9f3a"
             ],
             [
              0.8888888888888888,
              "#fdca26"
             ],
             [
              1,
              "#f0f921"
             ]
            ],
            "type": "surface"
           }
          ],
          "table": [
           {
            "cells": {
             "fill": {
              "color": "#EBF0F8"
             },
             "line": {
              "color": "white"
             }
            },
            "header": {
             "fill": {
              "color": "#C8D4E3"
             },
             "line": {
              "color": "white"
             }
            },
            "type": "table"
           }
          ]
         },
         "layout": {
          "annotationdefaults": {
           "arrowcolor": "#2a3f5f",
           "arrowhead": 0,
           "arrowwidth": 1
          },
          "autotypenumbers": "strict",
          "coloraxis": {
           "colorbar": {
            "outlinewidth": 0,
            "ticks": ""
           }
          },
          "colorscale": {
           "diverging": [
            [
             0,
             "#8e0152"
            ],
            [
             0.1,
             "#c51b7d"
            ],
            [
             0.2,
             "#de77ae"
            ],
            [
             0.3,
             "#f1b6da"
            ],
            [
             0.4,
             "#fde0ef"
            ],
            [
             0.5,
             "#f7f7f7"
            ],
            [
             0.6,
             "#e6f5d0"
            ],
            [
             0.7,
             "#b8e186"
            ],
            [
             0.8,
             "#7fbc41"
            ],
            [
             0.9,
             "#4d9221"
            ],
            [
             1,
             "#276419"
            ]
           ],
           "sequential": [
            [
             0,
             "#0d0887"
            ],
            [
             0.1111111111111111,
             "#46039f"
            ],
            [
             0.2222222222222222,
             "#7201a8"
            ],
            [
             0.3333333333333333,
             "#9c179e"
            ],
            [
             0.4444444444444444,
             "#bd3786"
            ],
            [
             0.5555555555555556,
             "#d8576b"
            ],
            [
             0.6666666666666666,
             "#ed7953"
            ],
            [
             0.7777777777777778,
             "#fb9f3a"
            ],
            [
             0.8888888888888888,
             "#fdca26"
            ],
            [
             1,
             "#f0f921"
            ]
           ],
           "sequentialminus": [
            [
             0,
             "#0d0887"
            ],
            [
             0.1111111111111111,
             "#46039f"
            ],
            [
             0.2222222222222222,
             "#7201a8"
            ],
            [
             0.3333333333333333,
             "#9c179e"
            ],
            [
             0.4444444444444444,
             "#bd3786"
            ],
            [
             0.5555555555555556,
             "#d8576b"
            ],
            [
             0.6666666666666666,
             "#ed7953"
            ],
            [
             0.7777777777777778,
             "#fb9f3a"
            ],
            [
             0.8888888888888888,
             "#fdca26"
            ],
            [
             1,
             "#f0f921"
            ]
           ]
          },
          "colorway": [
           "#636efa",
           "#EF553B",
           "#00cc96",
           "#ab63fa",
           "#FFA15A",
           "#19d3f3",
           "#FF6692",
           "#B6E880",
           "#FF97FF",
           "#FECB52"
          ],
          "font": {
           "color": "#2a3f5f"
          },
          "geo": {
           "bgcolor": "white",
           "lakecolor": "white",
           "landcolor": "#E5ECF6",
           "showlakes": true,
           "showland": true,
           "subunitcolor": "white"
          },
          "hoverlabel": {
           "align": "left"
          },
          "hovermode": "closest",
          "mapbox": {
           "style": "light"
          },
          "paper_bgcolor": "white",
          "plot_bgcolor": "#E5ECF6",
          "polar": {
           "angularaxis": {
            "gridcolor": "white",
            "linecolor": "white",
            "ticks": ""
           },
           "bgcolor": "#E5ECF6",
           "radialaxis": {
            "gridcolor": "white",
            "linecolor": "white",
            "ticks": ""
           }
          },
          "scene": {
           "xaxis": {
            "backgroundcolor": "#E5ECF6",
            "gridcolor": "white",
            "gridwidth": 2,
            "linecolor": "white",
            "showbackground": true,
            "ticks": "",
            "zerolinecolor": "white"
           },
           "yaxis": {
            "backgroundcolor": "#E5ECF6",
            "gridcolor": "white",
            "gridwidth": 2,
            "linecolor": "white",
            "showbackground": true,
            "ticks": "",
            "zerolinecolor": "white"
           },
           "zaxis": {
            "backgroundcolor": "#E5ECF6",
            "gridcolor": "white",
            "gridwidth": 2,
            "linecolor": "white",
            "showbackground": true,
            "ticks": "",
            "zerolinecolor": "white"
           }
          },
          "shapedefaults": {
           "line": {
            "color": "#2a3f5f"
           }
          },
          "ternary": {
           "aaxis": {
            "gridcolor": "white",
            "linecolor": "white",
            "ticks": ""
           },
           "baxis": {
            "gridcolor": "white",
            "linecolor": "white",
            "ticks": ""
           },
           "bgcolor": "#E5ECF6",
           "caxis": {
            "gridcolor": "white",
            "linecolor": "white",
            "ticks": ""
           }
          },
          "title": {
           "x": 0.05
          },
          "xaxis": {
           "automargin": true,
           "gridcolor": "white",
           "linecolor": "white",
           "ticks": "",
           "title": {
            "standoff": 15
           },
           "zerolinecolor": "white",
           "zerolinewidth": 2
          },
          "yaxis": {
           "automargin": true,
           "gridcolor": "white",
           "linecolor": "white",
           "ticks": "",
           "title": {
            "standoff": 15
           },
           "zerolinecolor": "white",
           "zerolinewidth": 2
          }
         }
        },
        "xaxis": {
         "anchor": "y",
         "domain": [
          0,
          0.7363
         ],
         "title": {
          "text": "x"
         }
        },
        "xaxis2": {
         "anchor": "y2",
         "domain": [
          0.7413,
          1
         ],
         "matches": "x2",
         "showgrid": false,
         "showline": false,
         "showticklabels": false,
         "ticks": ""
        },
        "yaxis": {
         "anchor": "x",
         "domain": [
          0,
          1
         ],
         "title": {
          "text": "total_time_per_output_token"
         }
        },
        "yaxis2": {
         "anchor": "x2",
         "domain": [
          0,
          1
         ],
         "matches": "y",
         "showgrid": true,
         "showticklabels": false
        }
       }
      }
     },
     "metadata": {},
     "output_type": "display_data"
    },
    {
     "data": {
      "application/vnd.plotly.v1+json": {
       "config": {
        "plotlyServerURL": "https://plot.ly"
       },
       "data": [
        {
         "hovertemplate": "prompts=1<br>x=%{x}<br>total_time=%{y}<extra></extra>",
         "legendgroup": "1",
         "marker": {
          "color": "#636efa",
          "symbol": "circle"
         },
         "mode": "markers",
         "name": "1",
         "orientation": "v",
         "showlegend": true,
         "type": "scatter",
         "x": {
          "bdata": "AAABAAIAAwAEAAUABgAHAAgACQAKAAsADAANAA4ADwAQABEAEgATABQAFQAWABcAGAAZABoAGwAcAB0AHgAfACAAIQAiACMAJAAlACYAJwAoACkAKgArACwALQAuAC8AMAAxADIAMwA0ADUANgA3ADgAOQA6ADsAPAA9AD4APwBqAGsAbABtAG4AbwBwAHEAcgBzAHQAdQB2AHcAeAB5AHoAewB8AH0AfgB/AIAAgQCCAIMAhACFAIYAhwCIAIkAigCLAIwAjQCOAI8AkACRAJIAkwCUAJUAlgCXAJgAmQCaAJsAnACdAJ4AnwCgAKEAogCjAKQApQCmAKcAqACpANQA1QDWANcA2ADZANoA2wDcAN0A3gDfAOAA4QDiAOMA5ADlAOYA5wDoAOkA6gDrAOwA7QDuAO8A8ADxAPIA8wD0APUA9gD3APgA+QD6APsA/AD9AP4A/wAAAQEBAgEDAQQBBQEGAQcBCAEJAQoBCwEMAQ0BDgEPARABEQESARMBPgE/AUABQQFCAUMBRAFFAUYBRwFIAUkBSgFLAUwBTQFOAU8BUAFRAVIBUwFUAVUBVgFXAVgBWQFaAVsBXAFdAV4BXwFgAWEBYgFjAWQBZQFmAWcBaAFpAWoBawFsAW0BbgFvAXABcQFyAXMBdAF1AXYBdwF4AXkBegF7AXwBfQE=",
          "dtype": "i2"
         },
         "xaxis": "x",
         "y": {
          "bdata": "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",
          "dtype": "f8"
         },
         "yaxis": "y"
        },
        {
         "alignmentgroup": "True",
         "hovertemplate": "prompts=1<br>total_time=%{y}<extra></extra>",
         "legendgroup": "1",
         "marker": {
          "color": "#636efa",
          "symbol": "circle"
         },
         "name": "1",
         "offsetgroup": "1",
         "scalegroup": "y",
         "showlegend": false,
         "type": "violin",
         "xaxis": "x2",
         "y": {
          "bdata": "CQMqd/qc7j+v+m2ZHdMYQCwyldl7jPU/F0eKbffzI0CCInHqXkL0P7RWtDnOCS9AMzvmlxxS7j/l7nN8tOASQIQM5Nnlm/A/3H2OjxbHHkAHV+XnK63pPxuTtNHvyRRA5hHtdDHX8z99Gdaeo3sgQHne15KfntY/fqWYKOfwCECD/p1Ii47lP1R4K6YtsRZAeuerPx3q1T/59xkXDmQcQEW6n1OQX+w/5cXTPJEBF0BXtDnObYL7P6MCzCFOeCBAS/swjAVP5D+SSmcWV6saQNxkVBnGnec/0luXdVpSAUCXDoxyH4/wP5jBGJEo5B5AcbmwJC/B9T+0z75N2sshQHT0U3fAkPE/et+dIcGhI0CSqpJthXX4P7pL4qyI/iZARkzk3eyK8j+IhEq3gOssQLa3W5IDNuY/bLmOzH4gGkATpAhfTr/OP3wkyoOZiwhAarnYWZnV6j+KbmLtlDPbP5Jb7ie+Nd8/43lfS36yGUCm1ZC4x1LbPxGu2/uvVh5A4KtnUlTn9z+lngWhvCMgQEM8Ei9PZ/U/8oCyKVfEJ0A+9y9akQL0P6/e8qLAUCBAd7temiLA7z9Bo8+i0hMgQOO6zitDQdg/cqsgBrrmGkCaCvFIvLz4P8oPpnIkgSZAC+Hi8mlf8T/hkR3Ax8kqQNWoLK8BduI//cXHgh06H0A0eKkiJvLYP1aCIJs/Adc/r2mU5G+x8j+h9IWQ85YsQI+JlGbzOMk/w3esY6b+H0DF35tLFrzyP31WPnA6EiZA5X6HokCfzD/cirPY3J8aQAoHjD+bZsg/LFVYXxOI1D8PGaB+YWPxP/v3KkNm5CpA2xZlNsik5j+3bL5bap4OQH0cctgizvE/gcWGEz1FEkBKin4jcJryPzUHCObokSlA4RgTrLtD8T8NqJJcWf0KQNBb4QJ179g/fI9EeTDz0j/f1bz0QDXzPzb0BeOWfSVAZoUi3c8pyz+hJ6/fXSAXQGC6/37nzc8/UBX4L7UaEUDTizW3nZHkP662Yn/Z7SBAW7QAbavZ1z/UcxyJ4YwYQOmqirogbNU/zvv/OGGCAkD9FwgCZEj2P7N78rBQwyBAe+C+aVWm8D9jKlg+Ji0XQCuDD8qgH/U/jpSIS+n8JUCv6xfshk3yP3iOEgVEfiBAcyGgDJ8e9D9BRuXLsNIlQLpaOFofIO4/NN93wgEjCEDn85vTdt3WP7oX8878VRJAE0sll1pK8j+8UGW9vYQgQJ5c+GZA4to/cjYdAdw0GkAd9FsqJTrjP20jnuxmlhhAit5OxwhN8j8kxiHRuiwnQDwGddvPU/U/v8nbtpSEJ0AdFN4vsFj1P9X71wP39SRA6U/RR8+j7D8nKVVHM9MeQBSVaCSdHPY/lNi1vd3CK0Dw/nivWkkCQP6Hqk69LCdA2osNgjPd+z8UoFwJk6wsQFA0tKYebvc/ZUaJp2hqK0Cs2RTZGAX4P4qYyLvZISRA8IdERqwK9z/37X/bbtEoQB5nP/eK8/Y/dB30tuOzMECO/6eHDRv0PyYRK+0eUi1AZnrTPmd89j834iQo2RUtQGjWCLO/QvY/AKq4cYuNKUBbV3FP/J3+Pyyvpvy1CjBAFyb4SzAhAEA7dNWXAD8lQOn++503n/Q/Vih3RCpZIkBI/8u1aIH8P5YZgFcVsy1AXEx9agYi+z/Zoyaw750oQG+e6pCbAfc/vzT78rhCKUBUvgxrz+EDQFwIzQk1aiRAWvfqPlsi+j+LTGX2HucpQO1GxDmP7/w/8HRCQ1riKED3Z/XEKenzPx+CTxg5lCpAIZc48kAk+j9UMqWa/mUpQB3g7lEkxPM/eeFzzB4JLkAY2SmxxrT4P6DPNu0Y/SpAo4RPKWUo9D9SV4hYDnopQFbRxOAGgfM/oNZ+fFPGIkBselBQijYBQLTTxVwIBCdA7Wu4I/cv/D/XvbrPllQvQN1CVyJQHfU/XlJrUOrxJkA8k0eBTx34P632sBcKNCZA21g/7Du1+z9YuQZsvfUpQBZajHBJZPw/Bhz4B4DEJ0DHrv4Z7zj0P2QW62UlUydApj3KLVLN+T9k9VhEXlwnQCgmFMcmHvk/NEqX/iWBJECo7RXMTtX4P3hgAOFD/StAyOByBpCL+z/2JcBVQ5MlQNq8u9+yNPc/jcWANoNBLUAMUwAxrv33P+KGKdvR3SNAndGgsqsa9T/ig+haxXgoQDfzUIDNXvM/AsOoWsFlIkD6EK9G0T73P3i++tOhHiNAU/7/SY2a/j86zV2mgcYkQLTWYZaH9vg/ndA13fxIJUDuYvWi0Rj1P5ks7j8yzSRAOwlbomk/+z8d6+I2GkApQMu/lleul/E/KPOPvkmjKUBgoouXuN/7P5OzZhoDtShAhDth05Tu8D/G1+jmLM0iQPfvVYbMsO8/0AAokCN3G0D6/Oa0XZfyP6WqZFthnSlAE5oklpQb9j921U1zPBApQE3/7Q0Zqu8/R3lBnyPJLUD+pDVhViPzPyFNq9fjCCtAS5Uoe0tZ9T/Ps6OC1GslQID/nDhv8vI/oWQXsfTCJ0Bo1DIIYk/1P785bdeVbCJAjzEcdK6N+T969gHts6cnQMwgiD3+vPE/SGBi4kXtJkDyNRXzvRD2P7gehetRpCZApzAAnv4d8j/qsYi8QIwbQK3oxT8iHPA/CPU+nxJVI0Age7374/31PwKetHBZRSxAY+E1+Xen+z8Hb1nPWtsdQM464/viEvM/AgLn1rU7KkA=",
          "dtype": "f8"
         },
         "yaxis": "y2"
        },
        {
         "hovertemplate": "prompts=8<br>x=%{x}<br>total_time=%{y}<extra></extra>",
         "legendgroup": "8",
         "marker": {
          "color": "#EF553B",
          "symbol": "circle"
         },
         "mode": "markers",
         "name": "8",
         "orientation": "v",
         "showlegend": true,
         "type": "scatter",
         "x": {
          "bdata": "QABBAEIAQwBEAEUARgBHAEgASQBKAEsATABNAE4ATwBQAFEAUgBTAFQAVQBWAFcAWABZAFoAWwBcAF0AXgBfAKoAqwCsAK0ArgCvALAAsQCyALMAtAC1ALYAtwC4ALkAugC7ALwAvQC+AL8AwADBAMIAwwDEAMUAxgDHAMgAyQAUARUBFgEXARgBGQEaARsBHAEdAR4BHwEgASEBIgEjASQBJQEmAScBKAEpASoBKwEsAS0BLgEvATABMQEyATMBfgF/AYABgQGCAYMBhAGFAYYBhwGIAYkBigGLAYwBjQGOAY8BkAGRAZIBkwGUAZUBlgGXAZgBmQGaAZsBnAGdAQ==",
          "dtype": "i2"
         },
         "xaxis": "x",
         "y": {
          "bdata": "qIsUysLvEUCHZG34gqMnQHosx3WdlwpAuUmxSLiZK0A3kInvH+4ZQETMgA5OWyNAFJFhFW/UFkB5micyzioxQJAYmHBDRxhAfqmfNxX9KUDFP2zp0WQJQGB561eVpCxARctw8hGHE0CRnKeVnY0nQBlRJKmW3hVAmBb1Se5UL0D0+/7Ni4MTQC2tKwvLlCVA96PywBG+C0Cv5qUHqhkxQGkKU0q+GA9AUyunmN6JJkDGcxE6Q5wXQLO7mwL0EDNAKFXseUjiEUBUymsldJMpQPLwngPLQQJAm0ZJ/hYXIEBc6ntoemQPQMbf9gSJdSZAtUE3RZH3FkBPOjanN8gzQHFGKBE86Q1A9nsH5LfhK0C7okqDkS0MQAcn/RjOYChAwkDGkiiqBUCFOHsM+z4kQPDP+7Wr9gpAjR/P0yU4KEB7mt2ks10KQE38rI0MCSVAF3+AWrFMEEDN1xtrNf4wQCqQ2Vn0bghAUpVb/1MIMUAlP+JXrOEQQMXEiypoITFALy/APjplDkAKqCZ3jpMlQAmlL4Sclw9ArW+7KxZMNkDonEQpxkYQQFqGk484pzdAVF0bhX+MCkDizuBK0ZsxQKjmzTwU4AVAeK3Oe61NFUCpXsg05AkEQKrSux2GDyhAo1huaTV8EkAr4s9LIGwvQHZTymsl5ARAUWnEzD7fDkDkiBCyh+UhQELQ0aqWg0NAtSj9zkCmGkBCKsWOxg8+QD0sL1RZ5xtAwZTcvMxRMUBC9P8F3akaQAVXL3VGfEFAZGaw84DrIECfOZCaG1xDQIcmmlE9wxhA5AS3/xKGO0AywKofQPMjQFL5jWWwZDpAdFB4v8BaHkDVqgJaXwdFQKF3dG25fCFAi+Kwj6kqSED2HQ3xWZgbQPCTWXM2ZUBArn0BvXAfI0BqSIGqdu46QAg4KXHCsRlAg6xdyUQgP0AeMLTff0gcQGfuIeF7FUJAVDiCVIqtGEAiaBayBCM6QBRowdVLxR1AvazkvjC+PUDpzrgVZ/EeQI5QfTGlUEBAWWTgJd1LHkAyryMO2XI9QA5QdSOHoyBAx7yOOGTIQUDOxd/2BDkgQM21w7pMoD9AHCYapOBJHUDMjTOXZbtAQD/A//v4QCFARyRl5l00PUBFdYQdEDIgQLXFkPcF3T1ACg4viEiZIUC2ix8ZYeQ9QOELk6mCSR9A5fPlYJFOOkB6UbtfBXAWQCvssxTagTZASN3OvvJMIECgo/pzdjRCQH63L1aKqx5AZCGVvQBKQUCc6+pEOOQeQOy+CL95vUJAoWu6+aGRIEAEQkabPgw+QH0mVqHc8R5AGxb+ZyhpQ0C7LIHvkTgUQHcJmAo7+jNA3kKy28L2FECbt0X0xtI8QA==",
          "dtype": "f8"
         },
         "yaxis": "y"
        },
        {
         "alignmentgroup": "True",
         "hovertemplate": "prompts=8<br>total_time=%{y}<extra></extra>",
         "legendgroup": "8",
         "marker": {
          "color": "#EF553B",
          "symbol": "circle"
         },
         "name": "8",
         "offsetgroup": "8",
         "scalegroup": "y",
         "showlegend": false,
         "type": "violin",
         "xaxis": "x2",
         "y": {
          "bdata": "qIsUysLvEUCHZG34gqMnQHosx3WdlwpAuUmxSLiZK0A3kInvH+4ZQETMgA5OWyNAFJFhFW/UFkB5micyzioxQJAYmHBDRxhAfqmfNxX9KUDFP2zp0WQJQGB561eVpCxARctw8hGHE0CRnKeVnY0nQBlRJKmW3hVAmBb1Se5UL0D0+/7Ni4MTQC2tKwvLlCVA96PywBG+C0Cv5qUHqhkxQGkKU0q+GA9AUyunmN6JJkDGcxE6Q5wXQLO7mwL0EDNAKFXseUjiEUBUymsldJMpQPLwngPLQQJAm0ZJ/hYXIEBc6ntoemQPQMbf9gSJdSZAtUE3RZH3FkBPOjanN8gzQHFGKBE86Q1A9nsH5LfhK0C7okqDkS0MQAcn/RjOYChAwkDGkiiqBUCFOHsM+z4kQPDP+7Wr9gpAjR/P0yU4KEB7mt2ks10KQE38rI0MCSVAF3+AWrFMEEDN1xtrNf4wQCqQ2Vn0bghAUpVb/1MIMUAlP+JXrOEQQMXEiypoITFALy/APjplDkAKqCZ3jpMlQAmlL4Sclw9ArW+7KxZMNkDonEQpxkYQQFqGk484pzdAVF0bhX+MCkDizuBK0ZsxQKjmzTwU4AVAeK3Oe61NFUCpXsg05AkEQKrSux2GDyhAo1huaTV8EkAr4s9LIGwvQHZTymsl5ARAUWnEzD7fDkDkiBCyh+UhQELQ0aqWg0NAtSj9zkCmGkBCKsWOxg8+QD0sL1RZ5xtAwZTcvMxRMUBC9P8F3akaQAVXL3VGfEFAZGaw84DrIECfOZCaG1xDQIcmmlE9wxhA5AS3/xKGO0AywKofQPMjQFL5jWWwZDpAdFB4v8BaHkDVqgJaXwdFQKF3dG25fCFAi+Kwj6kqSED2HQ3xWZgbQPCTWXM2ZUBArn0BvXAfI0BqSIGqdu46QAg4KXHCsRlAg6xdyUQgP0AeMLTff0gcQGfuIeF7FUJAVDiCVIqtGEAiaBayBCM6QBRowdVLxR1AvazkvjC+PUDpzrgVZ/EeQI5QfTGlUEBAWWTgJd1LHkAyryMO2XI9QA5QdSOHoyBAx7yOOGTIQUDOxd/2BDkgQM21w7pMoD9AHCYapOBJHUDMjTOXZbtAQD/A//v4QCFARyRl5l00PUBFdYQdEDIgQLXFkPcF3T1ACg4viEiZIUC2ix8ZYeQ9QOELk6mCSR9A5fPlYJFOOkB6UbtfBXAWQCvssxTagTZASN3OvvJMIECgo/pzdjRCQH63L1aKqx5AZCGVvQBKQUCc6+pEOOQeQOy+CL95vUJAoWu6+aGRIEAEQkabPgw+QH0mVqHc8R5AGxb+ZyhpQ0C7LIHvkTgUQHcJmAo7+jNA3kKy28L2FECbt0X0xtI8QA==",
          "dtype": "f8"
         },
         "yaxis": "y2"
        },
        {
         "hovertemplate": "prompts=32<br>x=%{x}<br>total_time=%{y}<extra></extra>",
         "legendgroup": "32",
         "marker": {
          "color": "#00cc96",
          "symbol": "circle"
         },
         "mode": "markers",
         "name": "32",
         "orientation": "v",
         "showlegend": true,
         "type": "scatter",
         "x": {
          "bdata": "YABhAGIAYwBkAGUAZgBnAMoAywDMAM0AzgDPANAA0QA0ATUBNgE3ATgBOQE6ATsBngGfAaABoQGiAaMBpAGlAQ==",
          "dtype": "i2"
         },
         "xaxis": "x",
         "y": {
          "bdata": "n2P2aGAMNEC8yAT8GgxAQABV3LjF5DRAXcKht3gVRkDLqVPUTxQ3QHpJrUGpVzVAsCTUZ2LBMkCnIhXGFuI8QInW5e85FylAlw6Mch+BOUAbGxWTkukQQDUlWYejbzFAWbGuwEY0JEBmHUQhuCxBQGakOQ2s6iFArzztlR76KED06Weg6FQ+QJ0fNdy2jFlAgdXs3A/CQECIoTCDjGJXQKPqVzofPDxAQmrJmdyaUUDiUjr9RcNBQJRhgVQvJ11AOVc5WQ9gNUA2n4TjQzxNQKhSswdaoTpAaqOV1rrxUECd+TDWklkyQDuGbMWjlU5AqoKsAhB6NEAyAFRxY4dXQA==",
          "dtype": "f8"
         },
         "yaxis": "y"
        },
        {
         "alignmentgroup": "True",
         "hovertemplate": "prompts=32<br>total_time=%{y}<extra></extra>",
         "legendgroup": "32",
         "marker": {
          "color": "#00cc96",
          "symbol": "circle"
         },
         "name": "32",
         "offsetgroup": "32",
         "scalegroup": "y",
         "showlegend": false,
         "type": "violin",
         "xaxis": "x2",
         "y": {
          "bdata": "n2P2aGAMNEC8yAT8GgxAQABV3LjF5DRAXcKht3gVRkDLqVPUTxQ3QHpJrUGpVzVAsCTUZ2LBMkCnIhXGFuI8QInW5e85FylAlw6Mch+BOUAbGxWTkukQQDUlWYejbzFAWbGuwEY0JEBmHUQhuCxBQGakOQ2s6iFArzztlR76KED06Weg6FQ+QJ0fNdy2jFlAgdXs3A/CQECIoTCDjGJXQKPqVzofPDxAQmrJmdyaUUDiUjr9RcNBQJRhgVQvJ11AOVc5WQ9gNUA2n4TjQzxNQKhSswdaoTpAaqOV1rrxUECd+TDWklkyQDuGbMWjlU5AqoKsAhB6NEAyAFRxY4dXQA==",
          "dtype": "f8"
         },
         "yaxis": "y2"
        },
        {
         "hovertemplate": "prompts=128<br>x=%{x}<br>total_time=%{y}<extra></extra>",
         "legendgroup": "128",
         "marker": {
          "color": "#ab63fa",
          "symbol": "circle"
         },
         "mode": "markers",
         "name": "128",
         "orientation": "v",
         "showlegend": true,
         "type": "scatter",
         "x": {
          "bdata": "aABpANIA0wA8AT0BpgGnAQ==",
          "dtype": "i2"
         },
         "xaxis": "x",
         "y": {
          "bdata": "/wAQHDz4I0AKwzaYPBQkQEYNpmH40CBA/zyyXrHTIkBopO9/kdEpQOGlipjIay5AbhVph2SVEkA5YR0iyXtBQA==",
          "dtype": "f8"
         },
         "yaxis": "y"
        },
        {
         "alignmentgroup": "True",
         "hovertemplate": "prompts=128<br>total_time=%{y}<extra></extra>",
         "legendgroup": "128",
         "marker": {
          "color": "#ab63fa",
          "symbol": "circle"
         },
         "name": "128",
         "offsetgroup": "128",
         "scalegroup": "y",
         "showlegend": false,
         "type": "violin",
         "xaxis": "x2",
         "y": {
          "bdata": "/wAQHDz4I0AKwzaYPBQkQEYNpmH40CBA/zyyXrHTIkBopO9/kdEpQOGlipjIay5AbhVph2SVEkA5YR0iyXtBQA==",
          "dtype": "f8"
         },
         "yaxis": "y2"
        }
       ],
       "layout": {
        "legend": {
         "title": {
          "text": "prompts"
         },
         "tracegroupgap": 0
        },
        "margin": {
         "t": 60
        },
        "template": {
         "data": {
          "bar": [
           {
            "error_x": {
             "color": "#2a3f5f"
            },
            "error_y": {
             "color": "#2a3f5f"
            },
            "marker": {
             "line": {
              "color": "#E5ECF6",
              "width": 0.5
             },
             "pattern": {
              "fillmode": "overlay",
              "size": 10,
              "solidity": 0.2
             }
            },
            "type": "bar"
           }
          ],
          "barpolar": [
           {
            "marker": {
             "line": {
              "color": "#E5ECF6",
              "width": 0.5
             },
             "pattern": {
              "fillmode": "overlay",
              "size": 10,
              "solidity": 0.2
             }
            },
            "type": "barpolar"
           }
          ],
          "carpet": [
           {
            "aaxis": {
             "endlinecolor": "#2a3f5f",
             "gridcolor": "white",
             "linecolor": "white",
             "minorgridcolor": "white",
             "startlinecolor": "#2a3f5f"
            },
            "baxis": {
             "endlinecolor": "#2a3f5f",
             "gridcolor": "white",
             "linecolor": "white",
             "minorgridcolor": "white",
             "startlinecolor": "#2a3f5f"
            },
            "type": "carpet"
           }
          ],
          "choropleth": [
           {
            "colorbar": {
             "outlinewidth": 0,
             "ticks": ""
            },
            "type": "choropleth"
           }
          ],
          "contour": [
           {
            "colorbar": {
             "outlinewidth": 0,
             "ticks": ""
            },
            "colorscale": [
             [
              0,
              "#0d0887"
             ],
             [
              0.1111111111111111,
              "#46039f"
             ],
             [
              0.2222222222222222,
              "#7201a8"
             ],
             [
              0.3333333333333333,
              "#9c179e"
             ],
             [
              0.4444444444444444,
              "#bd3786"
             ],
             [
              0.5555555555555556,
              "#d8576b"
             ],
             [
              0.6666666666666666,
              "#ed7953"
             ],
             [
              0.7777777777777778,
              "#fb9f3a"
             ],
             [
              0.8888888888888888,
              "#fdca26"
             ],
             [
              1,
              "#f0f921"
             ]
            ],
            "type": "contour"
           }
          ],
          "contourcarpet": [
           {
            "colorbar": {
             "outlinewidth": 0,
             "ticks": ""
            },
            "type": "contourcarpet"
           }
          ],
          "heatmap": [
           {
            "colorbar": {
             "outlinewidth": 0,
             "ticks": ""
            },
            "colorscale": [
             [
              0,
              "#0d0887"
             ],
             [
              0.1111111111111111,
              "#46039f"
             ],
             [
              0.2222222222222222,
              "#7201a8"
             ],
             [
              0.3333333333333333,
              "#9c179e"
             ],
             [
              0.4444444444444444,
              "#bd3786"
             ],
             [
              0.5555555555555556,
              "#d8576b"
             ],
             [
              0.6666666666666666,
              "#ed7953"
             ],
             [
              0.7777777777777778,
              "#fb9f3a"
             ],
             [
              0.8888888888888888,
              "#fdca26"
             ],
             [
              1,
              "#f0f921"
             ]
            ],
            "type": "heatmap"
           }
          ],
          "histogram": [
           {
            "marker": {
             "pattern": {
              "fillmode": "overlay",
              "size": 10,
              "solidity": 0.2
             }
            },
            "type": "histogram"
           }
          ],
          "histogram2d": [
           {
            "colorbar": {
             "outlinewidth": 0,
             "ticks": ""
            },
            "colorscale": [
             [
              0,
              "#0d0887"
             ],
             [
              0.1111111111111111,
              "#46039f"
             ],
             [
              0.2222222222222222,
              "#7201a8"
             ],
             [
              0.3333333333333333,
              "#9c179e"
             ],
             [
              0.4444444444444444,
              "#bd3786"
             ],
             [
              0.5555555555555556,
              "#d8576b"
             ],
             [
              0.6666666666666666,
              "#ed7953"
             ],
             [
              0.7777777777777778,
              "#fb9f3a"
             ],
             [
              0.8888888888888888,
              "#fdca26"
             ],
             [
              1,
              "#f0f921"
             ]
            ],
            "type": "histogram2d"
           }
          ],
          "histogram2dcontour": [
           {
            "colorbar": {
             "outlinewidth": 0,
             "ticks": ""
            },
            "colorscale": [
             [
              0,
              "#0d0887"
             ],
             [
              0.1111111111111111,
              "#46039f"
             ],
             [
              0.2222222222222222,
              "#7201a8"
             ],
             [
              0.3333333333333333,
              "#9c179e"
             ],
             [
              0.4444444444444444,
              "#bd3786"
             ],
             [
              0.5555555555555556,
              "#d8576b"
             ],
             [
              0.6666666666666666,
              "#ed7953"
             ],
             [
              0.7777777777777778,
              "#fb9f3a"
             ],
             [
              0.8888888888888888,
              "#fdca26"
             ],
             [
              1,
              "#f0f921"
             ]
            ],
            "type": "histogram2dcontour"
           }
          ],
          "mesh3d": [
           {
            "colorbar": {
             "outlinewidth": 0,
             "ticks": ""
            },
            "type": "mesh3d"
           }
          ],
          "parcoords": [
           {
            "line": {
             "colorbar": {
              "outlinewidth": 0,
              "ticks": ""
             }
            },
            "type": "parcoords"
           }
          ],
          "pie": [
           {
            "automargin": true,
            "type": "pie"
           }
          ],
          "scatter": [
           {
            "fillpattern": {
             "fillmode": "overlay",
             "size": 10,
             "solidity": 0.2
            },
            "type": "scatter"
           }
          ],
          "scatter3d": [
           {
            "line": {
             "colorbar": {
              "outlinewidth": 0,
              "ticks": ""
             }
            },
            "marker": {
             "colorbar": {
              "outlinewidth": 0,
              "ticks": ""
             }
            },
            "type": "scatter3d"
           }
          ],
          "scattercarpet": [
           {
            "marker": {
             "colorbar": {
              "outlinewidth": 0,
              "ticks": ""
             }
            },
            "type": "scattercarpet"
           }
          ],
          "scattergeo": [
           {
            "marker": {
             "colorbar": {
              "outlinewidth": 0,
              "ticks": ""
             }
            },
            "type": "scattergeo"
           }
          ],
          "scattergl": [
           {
            "marker": {
             "colorbar": {
              "outlinewidth": 0,
              "ticks": ""
             }
            },
            "type": "scattergl"
           }
          ],
          "scattermap": [
           {
            "marker": {
             "colorbar": {
              "outlinewidth": 0,
              "ticks": ""
             }
            },
            "type": "scattermap"
           }
          ],
          "scattermapbox": [
           {
            "marker": {
             "colorbar": {
              "outlinewidth": 0,
              "ticks": ""
             }
            },
            "type": "scattermapbox"
           }
          ],
          "scatterpolar": [
           {
            "marker": {
             "colorbar": {
              "outlinewidth": 0,
              "ticks": ""
             }
            },
            "type": "scatterpolar"
           }
          ],
          "scatterpolargl": [
           {
            "marker": {
             "colorbar": {
              "outlinewidth": 0,
              "ticks": ""
             }
            },
            "type": "scatterpolargl"
           }
          ],
          "scatterternary": [
           {
            "marker": {
             "colorbar": {
              "outlinewidth": 0,
              "ticks": ""
             }
            },
            "type": "scatterternary"
           }
          ],
          "surface": [
           {
            "colorbar": {
             "outlinewidth": 0,
             "ticks": ""
            },
            "colorscale": [
             [
              0,
              "#0d0887"
             ],
             [
              0.1111111111111111,
              "#46039f"
             ],
             [
              0.2222222222222222,
              "#7201a8"
             ],
             [
              0.3333333333333333,
              "#9c179e"
             ],
             [
              0.4444444444444444,
              "#bd3786"
             ],
             [
              0.5555555555555556,
              "#d8576b"
             ],
             [
              0.6666666666666666,
              "#ed7953"
             ],
             [
              0.7777777777777778,
              "#fb9f3a"
             ],
             [
              0.8888888888888888,
              "#fdca26"
             ],
             [
              1,
              "#f0f921"
             ]
            ],
            "type": "surface"
           }
          ],
          "table": [
           {
            "cells": {
             "fill": {
              "color": "#EBF0F8"
             },
             "line": {
              "color": "white"
             }
            },
            "header": {
             "fill": {
              "color": "#C8D4E3"
             },
             "line": {
              "color": "white"
             }
            },
            "type": "table"
           }
          ]
         },
         "layout": {
          "annotationdefaults": {
           "arrowcolor": "#2a3f5f",
           "arrowhead": 0,
           "arrowwidth": 1
          },
          "autotypenumbers": "strict",
          "coloraxis": {
           "colorbar": {
            "outlinewidth": 0,
            "ticks": ""
           }
          },
          "colorscale": {
           "diverging": [
            [
             0,
             "#8e0152"
            ],
            [
             0.1,
             "#c51b7d"
            ],
            [
             0.2,
             "#de77ae"
            ],
            [
             0.3,
             "#f1b6da"
            ],
            [
             0.4,
             "#fde0ef"
            ],
            [
             0.5,
             "#f7f7f7"
            ],
            [
             0.6,
             "#e6f5d0"
            ],
            [
             0.7,
             "#b8e186"
            ],
            [
             0.8,
             "#7fbc41"
            ],
            [
             0.9,
             "#4d9221"
            ],
            [
             1,
             "#276419"
            ]
           ],
           "sequential": [
            [
             0,
             "#0d0887"
            ],
            [
             0.1111111111111111,
             "#46039f"
            ],
            [
             0.2222222222222222,
             "#7201a8"
            ],
            [
             0.3333333333333333,
             "#9c179e"
            ],
            [
             0.4444444444444444,
             "#bd3786"
            ],
            [
             0.5555555555555556,
             "#d8576b"
            ],
            [
             0.6666666666666666,
             "#ed7953"
            ],
            [
             0.7777777777777778,
             "#fb9f3a"
            ],
            [
             0.8888888888888888,
             "#fdca26"
            ],
            [
             1,
             "#f0f921"
            ]
           ],
           "sequentialminus": [
            [
             0,
             "#0d0887"
            ],
            [
             0.1111111111111111,
             "#46039f"
            ],
            [
             0.2222222222222222,
             "#7201a8"
            ],
            [
             0.3333333333333333,
             "#9c179e"
            ],
            [
             0.4444444444444444,
             "#bd3786"
            ],
            [
             0.5555555555555556,
             "#d8576b"
            ],
            [
             0.6666666666666666,
             "#ed7953"
            ],
            [
             0.7777777777777778,
             "#fb9f3a"
            ],
            [
             0.8888888888888888,
             "#fdca26"
            ],
            [
             1,
             "#f0f921"
            ]
           ]
          },
          "colorway": [
           "#636efa",
           "#EF553B",
           "#00cc96",
           "#ab63fa",
           "#FFA15A",
           "#19d3f3",
           "#FF6692",
           "#B6E880",
           "#FF97FF",
           "#FECB52"
          ],
          "font": {
           "color": "#2a3f5f"
          },
          "geo": {
           "bgcolor": "white",
           "lakecolor": "white",
           "landcolor": "#E5ECF6",
           "showlakes": true,
           "showland": true,
           "subunitcolor": "white"
          },
          "hoverlabel": {
           "align": "left"
          },
          "hovermode": "closest",
          "mapbox": {
           "style": "light"
          },
          "paper_bgcolor": "white",
          "plot_bgcolor": "#E5ECF6",
          "polar": {
           "angularaxis": {
            "gridcolor": "white",
            "linecolor": "white",
            "ticks": ""
           },
           "bgcolor": "#E5ECF6",
           "radialaxis": {
            "gridcolor": "white",
            "linecolor": "white",
            "ticks": ""
           }
          },
          "scene": {
           "xaxis": {
            "backgroundcolor": "#E5ECF6",
            "gridcolor": "white",
            "gridwidth": 2,
            "linecolor": "white",
            "showbackground": true,
            "ticks": "",
            "zerolinecolor": "white"
           },
           "yaxis": {
            "backgroundcolor": "#E5ECF6",
            "gridcolor": "white",
            "gridwidth": 2,
            "linecolor": "white",
            "showbackground": true,
            "ticks": "",
            "zerolinecolor": "white"
           },
           "zaxis": {
            "backgroundcolor": "#E5ECF6",
            "gridcolor": "white",
            "gridwidth": 2,
            "linecolor": "white",
            "showbackground": true,
            "ticks": "",
            "zerolinecolor": "white"
           }
          },
          "shapedefaults": {
           "line": {
            "color": "#2a3f5f"
           }
          },
          "ternary": {
           "aaxis": {
            "gridcolor": "white",
            "linecolor": "white",
            "ticks": ""
           },
           "baxis": {
            "gridcolor": "white",
            "linecolor": "white",
            "ticks": ""
           },
           "bgcolor": "#E5ECF6",
           "caxis": {
            "gridcolor": "white",
            "linecolor": "white",
            "ticks": ""
           }
          },
          "title": {
           "x": 0.05
          },
          "xaxis": {
           "automargin": true,
           "gridcolor": "white",
           "linecolor": "white",
           "ticks": "",
           "title": {
            "standoff": 15
           },
           "zerolinecolor": "white",
           "zerolinewidth": 2
          },
          "yaxis": {
           "automargin": true,
           "gridcolor": "white",
           "linecolor": "white",
           "ticks": "",
           "title": {
            "standoff": 15
           },
           "zerolinecolor": "white",
           "zerolinewidth": 2
          }
         }
        },
        "xaxis": {
         "anchor": "y",
         "domain": [
          0,
          0.7363
         ],
         "title": {
          "text": "x"
         }
        },
        "xaxis2": {
         "anchor": "y2",
         "domain": [
          0.7413,
          1
         ],
         "matches": "x2",
         "showgrid": false,
         "showline": false,
         "showticklabels": false,
         "ticks": ""
        },
        "yaxis": {
         "anchor": "x",
         "domain": [
          0,
          1
         ],
         "title": {
          "text": "total_time"
         }
        },
        "yaxis2": {
         "anchor": "x2",
         "domain": [
          0,
          1
         ],
         "matches": "y",
         "showgrid": true,
         "showticklabels": false
        }
       }
      }
     },
     "metadata": {},
     "output_type": "display_data"
    }
   ],
   "source": [
    "# remove color from the fig below and run again\n",
    "fig = px.scatter(data_df, x= range(len(data_df)), y= \"load_time\", marginal_y=\"histogram\")\n",
    "fig.show()\n",
    "fig = px.scatter(data_df, x= range(len(data_df)), y= \"load_time_per_input_token\", color=\"prompts\", size=\"input_tokens\", marginal_y=\"box\")\n",
    "fig.show()\n",
    "fig = px.scatter(data_df, x= range(len(data_df)), y= \"total_time_per_output_token\", color = 'prompts', marginal_y=\"violin\")\n",
    "fig.show()\n",
    "fig = px.scatter(data_df, x= range(len(data_df)), y= \"total_time\", color = 'prompts', marginal_y=\"violin\")\n",
    "fig.show()"
   ]
  },
  {
   "cell_type": "markdown",
   "id": "83ae30d2f8dd77f8",
   "metadata": {},
   "source": [
    "caveat of Total time for batch size of 128"
   ]
  },
  {
   "cell_type": "markdown",
   "id": "722ae80fc67ddfc0",
   "metadata": {},
   "source": [
    "## Analyze effect of Prompt Length\n",
    "- time per output token\n",
    "- on number of output tokens p\n",
    "\n",
    "`Output length is a categorical field`"
   ]
  },
  {
   "cell_type": "code",
   "execution_count": 10,
   "id": "f451991520bd8920",
   "metadata": {
    "ExecuteTime": {
     "end_time": "2025-10-12T18:19:20.976650Z",
     "start_time": "2025-10-12T18:19:20.713627Z"
    }
   },
   "outputs": [
    {
     "data": {
      "application/vnd.plotly.v1+json": {
       "config": {
        "plotlyServerURL": "https://plot.ly"
       },
       "data": [
        {
         "hovertemplate": "prompt_length=long<br>x=%{x}<br>total_time_per_output_token=%{y}<extra></extra>",
         "legendgroup": "long",
         "marker": {
          "color": "#636efa",
          "symbol": "circle"
         },
         "mode": "markers",
         "name": "long",
         "orientation": "v",
         "showlegend": true,
         "type": "scatter",
         "x": {
          "bdata": "AAABAAIAAwAEAAUABgAHAAgACQAKAAsADAANAA4ADwAQABEAEgATABQAFQAWABcAGAAZABoAGwAcAB0AHgAfACAAIQAiACMAJAAlACYAJwAoACkAKgArACwALQAuAC8AMAAxADIAMwA0ADUANgA3ADgAOQA6ADsAPAA9AD4APwBAAEEAQgBDAEQARQBGAEcASABJAEoASwBMAE0ATgBPAFAAUQBSAFMAVABVAFYAVwBYAFkAWgBbAFwAXQBeAF8AYABhAGIAYwBkAGUAZgBnAGgAaQDUANUA1gDXANgA2QDaANsA3ADdAN4A3wDgAOEA4gDjAOQA5QDmAOcA6ADpAOoA6wDsAO0A7gDvAPAA8QDyAPMA9AD1APYA9wD4APkA+gD7APwA/QD+AP8AAAEBAQIBAwEEAQUBBgEHAQgBCQEKAQsBDAENAQ4BDwEQAREBEgETARQBFQEWARcBGAEZARoBGwEcAR0BHgEfASABIQEiASMBJAElASYBJwEoASkBKgErASwBLQEuAS8BMAExATIBMwE0ATUBNgE3ATgBOQE6ATsBPAE9AQ==",
          "dtype": "i2"
         },
         "xaxis": "x",
         "y": {
          "bdata": "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",
          "dtype": "f8"
         },
         "yaxis": "y"
        },
        {
         "alignmentgroup": "True",
         "hovertemplate": "prompt_length=long<br>total_time_per_output_token=%{y}<extra></extra>",
         "legendgroup": "long",
         "marker": {
          "color": "#636efa",
          "symbol": "circle"
         },
         "name": "long",
         "offsetgroup": "long",
         "scalegroup": "y",
         "showlegend": false,
         "type": "violin",
         "xaxis": "x2",
         "y": {
          "bdata": "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",
          "dtype": "f8"
         },
         "yaxis": "y2"
        },
        {
         "hovertemplate": "prompt_length=short<br>x=%{x}<br>total_time_per_output_token=%{y}<extra></extra>",
         "legendgroup": "short",
         "marker": {
          "color": "#EF553B",
          "symbol": "circle"
         },
         "mode": "markers",
         "name": "short",
         "orientation": "v",
         "showlegend": true,
         "type": "scatter",
         "x": {
          "bdata": "agBrAGwAbQBuAG8AcABxAHIAcwB0AHUAdgB3AHgAeQB6AHsAfAB9AH4AfwCAAIEAggCDAIQAhQCGAIcAiACJAIoAiwCMAI0AjgCPAJAAkQCSAJMAlACVAJYAlwCYAJkAmgCbAJwAnQCeAJ8AoAChAKIAowCkAKUApgCnAKgAqQCqAKsArACtAK4ArwCwALEAsgCzALQAtQC2ALcAuAC5ALoAuwC8AL0AvgC/AMAAwQDCAMMAxADFAMYAxwDIAMkAygDLAMwAzQDOAM8A0ADRANIA0wA+AT8BQAFBAUIBQwFEAUUBRgFHAUgBSQFKAUsBTAFNAU4BTwFQAVEBUgFTAVQBVQFWAVcBWAFZAVoBWwFcAV0BXgFfAWABYQFiAWMBZAFlAWYBZwFoAWkBagFrAWwBbQFuAW8BcAFxAXIBcwF0AXUBdgF3AXgBeQF6AXsBfAF9AX4BfwGAAYEBggGDAYQBhQGGAYcBiAGJAYoBiwGMAY0BjgGPAZABkQGSAZMBlAGVAZYBlwGYAZkBmgGbAZwBnQGeAZ8BoAGhAaIBowGkAaUBpgGnAQ==",
          "dtype": "i2"
         },
         "xaxis": "x",
         "y": {
          "bdata": "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",
          "dtype": "f8"
         },
         "yaxis": "y"
        },
        {
         "alignmentgroup": "True",
         "hovertemplate": "prompt_length=short<br>total_time_per_output_token=%{y}<extra></extra>",
         "legendgroup": "short",
         "marker": {
          "color": "#EF553B",
          "symbol": "circle"
         },
         "name": "short",
         "offsetgroup": "short",
         "scalegroup": "y",
         "showlegend": false,
         "type": "violin",
         "xaxis": "x2",
         "y": {
          "bdata": "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",
          "dtype": "f8"
         },
         "yaxis": "y2"
        }
       ],
       "layout": {
        "legend": {
         "title": {
          "text": "prompt_length"
         },
         "tracegroupgap": 0
        },
        "margin": {
         "t": 60
        },
        "template": {
         "data": {
          "bar": [
           {
            "error_x": {
             "color": "#2a3f5f"
            },
            "error_y": {
             "color": "#2a3f5f"
            },
            "marker": {
             "line": {
              "color": "#E5ECF6",
              "width": 0.5
             },
             "pattern": {
              "fillmode": "overlay",
              "size": 10,
              "solidity": 0.2
             }
            },
            "type": "bar"
           }
          ],
          "barpolar": [
           {
            "marker": {
             "line": {
              "color": "#E5ECF6",
              "width": 0.5
             },
             "pattern": {
              "fillmode": "overlay",
              "size": 10,
              "solidity": 0.2
             }
            },
            "type": "barpolar"
           }
          ],
          "carpet": [
           {
            "aaxis": {
             "endlinecolor": "#2a3f5f",
             "gridcolor": "white",
             "linecolor": "white",
             "minorgridcolor": "white",
             "startlinecolor": "#2a3f5f"
            },
            "baxis": {
             "endlinecolor": "#2a3f5f",
             "gridcolor": "white",
             "linecolor": "white",
             "minorgridcolor": "white",
             "startlinecolor": "#2a3f5f"
            },
            "type": "carpet"
           }
          ],
          "choropleth": [
           {
            "colorbar": {
             "outlinewidth": 0,
             "ticks": ""
            },
            "type": "choropleth"
           }
          ],
          "contour": [
           {
            "colorbar": {
             "outlinewidth": 0,
             "ticks": ""
            },
            "colorscale": [
             [
              0,
              "#0d0887"
             ],
             [
              0.1111111111111111,
              "#46039f"
             ],
             [
              0.2222222222222222,
              "#7201a8"
             ],
             [
              0.3333333333333333,
              "#9c179e"
             ],
             [
              0.4444444444444444,
              "#bd3786"
             ],
             [
              0.5555555555555556,
              "#d8576b"
             ],
             [
              0.6666666666666666,
              "#ed7953"
             ],
             [
              0.7777777777777778,
              "#fb9f3a"
             ],
             [
              0.8888888888888888,
              "#fdca26"
             ],
             [
              1,
              "#f0f921"
             ]
            ],
            "type": "contour"
           }
          ],
          "contourcarpet": [
           {
            "colorbar": {
             "outlinewidth": 0,
             "ticks": ""
            },
            "type": "contourcarpet"
           }
          ],
          "heatmap": [
           {
            "colorbar": {
             "outlinewidth": 0,
             "ticks": ""
            },
            "colorscale": [
             [
              0,
              "#0d0887"
             ],
             [
              0.1111111111111111,
              "#46039f"
             ],
             [
              0.2222222222222222,
              "#7201a8"
             ],
             [
              0.3333333333333333,
              "#9c179e"
             ],
             [
              0.4444444444444444,
              "#bd3786"
             ],
             [
              0.5555555555555556,
              "#d8576b"
             ],
             [
              0.6666666666666666,
              "#ed7953"
             ],
             [
              0.7777777777777778,
              "#fb9f3a"
             ],
             [
              0.8888888888888888,
              "#fdca26"
             ],
             [
              1,
              "#f0f921"
             ]
            ],
            "type": "heatmap"
           }
          ],
          "histogram": [
           {
            "marker": {
             "pattern": {
              "fillmode": "overlay",
              "size": 10,
              "solidity": 0.2
             }
            },
            "type": "histogram"
           }
          ],
          "histogram2d": [
           {
            "colorbar": {
             "outlinewidth": 0,
             "ticks": ""
            },
            "colorscale": [
             [
              0,
              "#0d0887"
             ],
             [
              0.1111111111111111,
              "#46039f"
             ],
             [
              0.2222222222222222,
              "#7201a8"
             ],
             [
              0.3333333333333333,
              "#9c179e"
             ],
             [
              0.4444444444444444,
              "#bd3786"
             ],
             [
              0.5555555555555556,
              "#d8576b"
             ],
             [
              0.6666666666666666,
              "#ed7953"
             ],
             [
              0.7777777777777778,
              "#fb9f3a"
             ],
             [
              0.8888888888888888,
              "#fdca26"
             ],
             [
              1,
              "#f0f921"
             ]
            ],
            "type": "histogram2d"
           }
          ],
          "histogram2dcontour": [
           {
            "colorbar": {
             "outlinewidth": 0,
             "ticks": ""
            },
            "colorscale": [
             [
              0,
              "#0d0887"
             ],
             [
              0.1111111111111111,
              "#46039f"
             ],
             [
              0.2222222222222222,
              "#7201a8"
             ],
             [
              0.3333333333333333,
              "#9c179e"
             ],
             [
              0.4444444444444444,
              "#bd3786"
             ],
             [
              0.5555555555555556,
              "#d8576b"
             ],
             [
              0.6666666666666666,
              "#ed7953"
             ],
             [
              0.7777777777777778,
              "#fb9f3a"
             ],
             [
              0.8888888888888888,
              "#fdca26"
             ],
             [
              1,
              "#f0f921"
             ]
            ],
            "type": "histogram2dcontour"
           }
          ],
          "mesh3d": [
           {
            "colorbar": {
             "outlinewidth": 0,
             "ticks": ""
            },
            "type": "mesh3d"
           }
          ],
          "parcoords": [
           {
            "line": {
             "colorbar": {
              "outlinewidth": 0,
              "ticks": ""
             }
            },
            "type": "parcoords"
           }
          ],
          "pie": [
           {
            "automargin": true,
            "type": "pie"
           }
          ],
          "scatter": [
           {
            "fillpattern": {
             "fillmode": "overlay",
             "size": 10,
             "solidity": 0.2
            },
            "type": "scatter"
           }
          ],
          "scatter3d": [
           {
            "line": {
             "colorbar": {
              "outlinewidth": 0,
              "ticks": ""
             }
            },
            "marker": {
             "colorbar": {
              "outlinewidth": 0,
              "ticks": ""
             }
            },
            "type": "scatter3d"
           }
          ],
          "scattercarpet": [
           {
            "marker": {
             "colorbar": {
              "outlinewidth": 0,
              "ticks": ""
             }
            },
            "type": "scattercarpet"
           }
          ],
          "scattergeo": [
           {
            "marker": {
             "colorbar": {
              "outlinewidth": 0,
              "ticks": ""
             }
            },
            "type": "scattergeo"
           }
          ],
          "scattergl": [
           {
            "marker": {
             "colorbar": {
              "outlinewidth": 0,
              "ticks": ""
             }
            },
            "type": "scattergl"
           }
          ],
          "scattermap": [
           {
            "marker": {
             "colorbar": {
              "outlinewidth": 0,
              "ticks": ""
             }
            },
            "type": "scattermap"
           }
          ],
          "scattermapbox": [
           {
            "marker": {
             "colorbar": {
              "outlinewidth": 0,
              "ticks": ""
             }
            },
            "type": "scattermapbox"
           }
          ],
          "scatterpolar": [
           {
            "marker": {
             "colorbar": {
              "outlinewidth": 0,
              "ticks": ""
             }
            },
            "type": "scatterpolar"
           }
          ],
          "scatterpolargl": [
           {
            "marker": {
             "colorbar": {
              "outlinewidth": 0,
              "ticks": ""
             }
            },
            "type": "scatterpolargl"
           }
          ],
          "scatterternary": [
           {
            "marker": {
             "colorbar": {
              "outlinewidth": 0,
              "ticks": ""
             }
            },
            "type": "scatterternary"
           }
          ],
          "surface": [
           {
            "colorbar": {
             "outlinewidth": 0,
             "ticks": ""
            },
            "colorscale": [
             [
              0,
              "#0d0887"
             ],
             [
              0.1111111111111111,
              "#46039f"
             ],
             [
              0.2222222222222222,
              "#7201a8"
             ],
             [
              0.3333333333333333,
              "#9c179e"
             ],
             [
              0.4444444444444444,
              "#bd3786"
             ],
             [
              0.5555555555555556,
              "#d8576b"
             ],
             [
              0.6666666666666666,
              "#ed7953"
             ],
             [
              0.7777777777777778,
              "#fb9f3a"
             ],
             [
              0.8888888888888888,
              "#fdca26"
             ],
             [
              1,
              "#f0f921"
             ]
            ],
            "type": "surface"
           }
          ],
          "table": [
           {
            "cells": {
             "fill": {
              "color": "#EBF0F8"
             },
             "line": {
              "color": "white"
             }
            },
            "header": {
             "fill": {
              "color": "#C8D4E3"
             },
             "line": {
              "color": "white"
             }
            },
            "type": "table"
           }
          ]
         },
         "layout": {
          "annotationdefaults": {
           "arrowcolor": "#2a3f5f",
           "arrowhead": 0,
           "arrowwidth": 1
          },
          "autotypenumbers": "strict",
          "coloraxis": {
           "colorbar": {
            "outlinewidth": 0,
            "ticks": ""
           }
          },
          "colorscale": {
           "diverging": [
            [
             0,
             "#8e0152"
            ],
            [
             0.1,
             "#c51b7d"
            ],
            [
             0.2,
             "#de77ae"
            ],
            [
             0.3,
             "#f1b6da"
            ],
            [
             0.4,
             "#fde0ef"
            ],
            [
             0.5,
             "#f7f7f7"
            ],
            [
             0.6,
             "#e6f5d0"
            ],
            [
             0.7,
             "#b8e186"
            ],
            [
             0.8,
             "#7fbc41"
            ],
            [
             0.9,
             "#4d9221"
            ],
            [
             1,
             "#276419"
            ]
           ],
           "sequential": [
            [
             0,
             "#0d0887"
            ],
            [
             0.1111111111111111,
             "#46039f"
            ],
            [
             0.2222222222222222,
             "#7201a8"
            ],
            [
             0.3333333333333333,
             "#9c179e"
            ],
            [
             0.4444444444444444,
             "#bd3786"
            ],
            [
             0.5555555555555556,
             "#d8576b"
            ],
            [
             0.6666666666666666,
             "#ed7953"
            ],
            [
             0.7777777777777778,
             "#fb9f3a"
            ],
            [
             0.8888888888888888,
             "#fdca26"
            ],
            [
             1,
             "#f0f921"
            ]
           ],
           "sequentialminus": [
            [
             0,
             "#0d0887"
            ],
            [
             0.1111111111111111,
             "#46039f"
            ],
            [
             0.2222222222222222,
             "#7201a8"
            ],
            [
             0.3333333333333333,
             "#9c179e"
            ],
            [
             0.4444444444444444,
             "#bd3786"
            ],
            [
             0.5555555555555556,
             "#d8576b"
            ],
            [
             0.6666666666666666,
             "#ed7953"
            ],
            [
             0.7777777777777778,
             "#fb9f3a"
            ],
            [
             0.8888888888888888,
             "#fdca26"
            ],
            [
             1,
             "#f0f921"
            ]
           ]
          },
          "colorway": [
           "#636efa",
           "#EF553B",
           "#00cc96",
           "#ab63fa",
           "#FFA15A",
           "#19d3f3",
           "#FF6692",
           "#B6E880",
           "#FF97FF",
           "#FECB52"
          ],
          "font": {
           "color": "#2a3f5f"
          },
          "geo": {
           "bgcolor": "white",
           "lakecolor": "white",
           "landcolor": "#E5ECF6",
           "showlakes": true,
           "showland": true,
           "subunitcolor": "white"
          },
          "hoverlabel": {
           "align": "left"
          },
          "hovermode": "closest",
          "mapbox": {
           "style": "light"
          },
          "paper_bgcolor": "white",
          "plot_bgcolor": "#E5ECF6",
          "polar": {
           "angularaxis": {
            "gridcolor": "white",
            "linecolor": "white",
            "ticks": ""
           },
           "bgcolor": "#E5ECF6",
           "radialaxis": {
            "gridcolor": "white",
            "linecolor": "white",
            "ticks": ""
           }
          },
          "scene": {
           "xaxis": {
            "backgroundcolor": "#E5ECF6",
            "gridcolor": "white",
            "gridwidth": 2,
            "linecolor": "white",
            "showbackground": true,
            "ticks": "",
            "zerolinecolor": "white"
           },
           "yaxis": {
            "backgroundcolor": "#E5ECF6",
            "gridcolor": "white",
            "gridwidth": 2,
            "linecolor": "white",
            "showbackground": true,
            "ticks": "",
            "zerolinecolor": "white"
           },
           "zaxis": {
            "backgroundcolor": "#E5ECF6",
            "gridcolor": "white",
            "gridwidth": 2,
            "linecolor": "white",
            "showbackground": true,
            "ticks": "",
            "zerolinecolor": "white"
           }
          },
          "shapedefaults": {
           "line": {
            "color": "#2a3f5f"
           }
          },
          "ternary": {
           "aaxis": {
            "gridcolor": "white",
            "linecolor": "white",
            "ticks": ""
           },
           "baxis": {
            "gridcolor": "white",
            "linecolor": "white",
            "ticks": ""
           },
           "bgcolor": "#E5ECF6",
           "caxis": {
            "gridcolor": "white",
            "linecolor": "white",
            "ticks": ""
           }
          },
          "title": {
           "x": 0.05
          },
          "xaxis": {
           "automargin": true,
           "gridcolor": "white",
           "linecolor": "white",
           "ticks": "",
           "title": {
            "standoff": 15
           },
           "zerolinecolor": "white",
           "zerolinewidth": 2
          },
          "yaxis": {
           "automargin": true,
           "gridcolor": "white",
           "linecolor": "white",
           "ticks": "",
           "title": {
            "standoff": 15
           },
           "zerolinecolor": "white",
           "zerolinewidth": 2
          }
         }
        },
        "xaxis": {
         "anchor": "y",
         "domain": [
          0,
          0.7363
         ],
         "title": {
          "text": "x"
         }
        },
        "xaxis2": {
         "anchor": "y2",
         "domain": [
          0.7413,
          1
         ],
         "matches": "x2",
         "showgrid": false,
         "showline": false,
         "showticklabels": false,
         "ticks": ""
        },
        "yaxis": {
         "anchor": "x",
         "domain": [
          0,
          1
         ],
         "title": {
          "text": "total_time_per_output_token"
         }
        },
        "yaxis2": {
         "anchor": "x2",
         "domain": [
          0,
          1
         ],
         "matches": "y",
         "showgrid": true,
         "showticklabels": false
        }
       }
      }
     },
     "metadata": {},
     "output_type": "display_data"
    },
    {
     "data": {
      "application/vnd.plotly.v1+json": {
       "config": {
        "plotlyServerURL": "https://plot.ly"
       },
       "data": [
        {
         "hovertemplate": "prompt_length=long<br>x=%{x}<br>output_tokens_per_prompt=%{y}<extra></extra>",
         "legendgroup": "long",
         "marker": {
          "color": "#636efa",
          "symbol": "circle"
         },
         "mode": "markers",
         "name": "long",
         "orientation": "v",
         "showlegend": true,
         "type": "scatter",
         "x": {
          "bdata": "AAABAAIAAwAEAAUABgAHAAgACQAKAAsADAANAA4ADwAQABEAEgATABQAFQAWABcAGAAZABoAGwAcAB0AHgAfACAAIQAiACMAJAAlACYAJwAoACkAKgArACwALQAuAC8AMAAxADIAMwA0ADUANgA3ADgAOQA6ADsAPAA9AD4APwBAAEEAQgBDAEQARQBGAEcASABJAEoASwBMAE0ATgBPAFAAUQBSAFMAVABVAFYAVwBYAFkAWgBbAFwAXQBeAF8AYABhAGIAYwBkAGUAZgBnAGgAaQDUANUA1gDXANgA2QDaANsA3ADdAN4A3wDgAOEA4gDjAOQA5QDmAOcA6ADpAOoA6wDsAO0A7gDvAPAA8QDyAPMA9AD1APYA9wD4APkA+gD7APwA/QD+AP8AAAEBAQIBAwEEAQUBBgEHAQgBCQEKAQsBDAENAQ4BDwEQAREBEgETARQBFQEWARcBGAEZARoBGwEcAR0BHgEfASABIQEiASMBJAElASYBJwEoASkBKgErASwBLQEuAS8BMAExATIBMwE0ATUBNgE3ATgBOQE6ATsBPAE9AQ==",
          "dtype": "i2"
         },
         "xaxis": "x",
         "y": {
          "bdata": "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",
          "dtype": "f8"
         },
         "yaxis": "y"
        },
        {
         "alignmentgroup": "True",
         "hovertemplate": "prompt_length=long<br>output_tokens_per_prompt=%{y}<extra></extra>",
         "legendgroup": "long",
         "marker": {
          "color": "#636efa",
          "symbol": "circle"
         },
         "name": "long",
         "offsetgroup": "long",
         "scalegroup": "y",
         "showlegend": false,
         "type": "violin",
         "xaxis": "x2",
         "y": {
          "bdata": "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",
          "dtype": "f8"
         },
         "yaxis": "y2"
        },
        {
         "hovertemplate": "prompt_length=short<br>x=%{x}<br>output_tokens_per_prompt=%{y}<extra></extra>",
         "legendgroup": "short",
         "marker": {
          "color": "#EF553B",
          "symbol": "circle"
         },
         "mode": "markers",
         "name": "short",
         "orientation": "v",
         "showlegend": true,
         "type": "scatter",
         "x": {
          "bdata": "agBrAGwAbQBuAG8AcABxAHIAcwB0AHUAdgB3AHgAeQB6AHsAfAB9AH4AfwCAAIEAggCDAIQAhQCGAIcAiACJAIoAiwCMAI0AjgCPAJAAkQCSAJMAlACVAJYAlwCYAJkAmgCbAJwAnQCeAJ8AoAChAKIAowCkAKUApgCnAKgAqQCqAKsArACtAK4ArwCwALEAsgCzALQAtQC2ALcAuAC5ALoAuwC8AL0AvgC/AMAAwQDCAMMAxADFAMYAxwDIAMkAygDLAMwAzQDOAM8A0ADRANIA0wA+AT8BQAFBAUIBQwFEAUUBRgFHAUgBSQFKAUsBTAFNAU4BTwFQAVEBUgFTAVQBVQFWAVcBWAFZAVoBWwFcAV0BXgFfAWABYQFiAWMBZAFlAWYBZwFoAWkBagFrAWwBbQFuAW8BcAFxAXIBcwF0AXUBdgF3AXgBeQF6AXsBfAF9AX4BfwGAAYEBggGDAYQBhQGGAYcBiAGJAYoBiwGMAY0BjgGPAZABkQGSAZMBlAGVAZYBlwGYAZkBmgGbAZwBnQGeAZ8BoAGhAaIBowGkAaUBpgGnAQ==",
          "dtype": "i2"
         },
         "xaxis": "x",
         "y": {
          "bdata": "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",
          "dtype": "f8"
         },
         "yaxis": "y"
        },
        {
         "alignmentgroup": "True",
         "hovertemplate": "prompt_length=short<br>output_tokens_per_prompt=%{y}<extra></extra>",
         "legendgroup": "short",
         "marker": {
          "color": "#EF553B",
          "symbol": "circle"
         },
         "name": "short",
         "offsetgroup": "short",
         "scalegroup": "y",
         "showlegend": false,
         "type": "violin",
         "xaxis": "x2",
         "y": {
          "bdata": "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",
          "dtype": "f8"
         },
         "yaxis": "y2"
        }
       ],
       "layout": {
        "legend": {
         "title": {
          "text": "prompt_length"
         },
         "tracegroupgap": 0
        },
        "margin": {
         "t": 60
        },
        "template": {
         "data": {
          "bar": [
           {
            "error_x": {
             "color": "#2a3f5f"
            },
            "error_y": {
             "color": "#2a3f5f"
            },
            "marker": {
             "line": {
              "color": "#E5ECF6",
              "width": 0.5
             },
             "pattern": {
              "fillmode": "overlay",
              "size": 10,
              "solidity": 0.2
             }
            },
            "type": "bar"
           }
          ],
          "barpolar": [
           {
            "marker": {
             "line": {
              "color": "#E5ECF6",
              "width": 0.5
             },
             "pattern": {
              "fillmode": "overlay",
              "size": 10,
              "solidity": 0.2
             }
            },
            "type": "barpolar"
           }
          ],
          "carpet": [
           {
            "aaxis": {
             "endlinecolor": "#2a3f5f",
             "gridcolor": "white",
             "linecolor": "white",
             "minorgridcolor": "white",
             "startlinecolor": "#2a3f5f"
            },
            "baxis": {
             "endlinecolor": "#2a3f5f",
             "gridcolor": "white",
             "linecolor": "white",
             "minorgridcolor": "white",
             "startlinecolor": "#2a3f5f"
            },
            "type": "carpet"
           }
          ],
          "choropleth": [
           {
            "colorbar": {
             "outlinewidth": 0,
             "ticks": ""
            },
            "type": "choropleth"
           }
          ],
          "contour": [
           {
            "colorbar": {
             "outlinewidth": 0,
             "ticks": ""
            },
            "colorscale": [
             [
              0,
              "#0d0887"
             ],
             [
              0.1111111111111111,
              "#46039f"
             ],
             [
              0.2222222222222222,
              "#7201a8"
             ],
             [
              0.3333333333333333,
              "#9c179e"
             ],
             [
              0.4444444444444444,
              "#bd3786"
             ],
             [
              0.5555555555555556,
              "#d8576b"
             ],
             [
              0.6666666666666666,
              "#ed7953"
             ],
             [
              0.7777777777777778,
              "#fb9f3a"
             ],
             [
              0.8888888888888888,
              "#fdca26"
             ],
             [
              1,
              "#f0f921"
             ]
            ],
            "type": "contour"
           }
          ],
          "contourcarpet": [
           {
            "colorbar": {
             "outlinewidth": 0,
             "ticks": ""
            },
            "type": "contourcarpet"
           }
          ],
          "heatmap": [
           {
            "colorbar": {
             "outlinewidth": 0,
             "ticks": ""
            },
            "colorscale": [
             [
              0,
              "#0d0887"
             ],
             [
              0.1111111111111111,
              "#46039f"
             ],
             [
              0.2222222222222222,
              "#7201a8"
             ],
             [
              0.3333333333333333,
              "#9c179e"
             ],
             [
              0.4444444444444444,
              "#bd3786"
             ],
             [
              0.5555555555555556,
              "#d8576b"
             ],
             [
              0.6666666666666666,
              "#ed7953"
             ],
             [
              0.7777777777777778,
              "#fb9f3a"
             ],
             [
              0.8888888888888888,
              "#fdca26"
             ],
             [
              1,
              "#f0f921"
             ]
            ],
            "type": "heatmap"
           }
          ],
          "histogram": [
           {
            "marker": {
             "pattern": {
              "fillmode": "overlay",
              "size": 10,
              "solidity": 0.2
             }
            },
            "type": "histogram"
           }
          ],
          "histogram2d": [
           {
            "colorbar": {
             "outlinewidth": 0,
             "ticks": ""
            },
            "colorscale": [
             [
              0,
              "#0d0887"
             ],
             [
              0.1111111111111111,
              "#46039f"
             ],
             [
              0.2222222222222222,
              "#7201a8"
             ],
             [
              0.3333333333333333,
              "#9c179e"
             ],
             [
              0.4444444444444444,
              "#bd3786"
             ],
             [
              0.5555555555555556,
              "#d8576b"
             ],
             [
              0.6666666666666666,
              "#ed7953"
             ],
             [
              0.7777777777777778,
              "#fb9f3a"
             ],
             [
              0.8888888888888888,
              "#fdca26"
             ],
             [
              1,
              "#f0f921"
             ]
            ],
            "type": "histogram2d"
           }
          ],
          "histogram2dcontour": [
           {
            "colorbar": {
             "outlinewidth": 0,
             "ticks": ""
            },
            "colorscale": [
             [
              0,
              "#0d0887"
             ],
             [
              0.1111111111111111,
              "#46039f"
             ],
             [
              0.2222222222222222,
              "#7201a8"
             ],
             [
              0.3333333333333333,
              "#9c179e"
             ],
             [
              0.4444444444444444,
              "#bd3786"
             ],
             [
              0.5555555555555556,
              "#d8576b"
             ],
             [
              0.6666666666666666,
              "#ed7953"
             ],
             [
              0.7777777777777778,
              "#fb9f3a"
             ],
             [
              0.8888888888888888,
              "#fdca26"
             ],
             [
              1,
              "#f0f921"
             ]
            ],
            "type": "histogram2dcontour"
           }
          ],
          "mesh3d": [
           {
            "colorbar": {
             "outlinewidth": 0,
             "ticks": ""
            },
            "type": "mesh3d"
           }
          ],
          "parcoords": [
           {
            "line": {
             "colorbar": {
              "outlinewidth": 0,
              "ticks": ""
             }
            },
            "type": "parcoords"
           }
          ],
          "pie": [
           {
            "automargin": true,
            "type": "pie"
           }
          ],
          "scatter": [
           {
            "fillpattern": {
             "fillmode": "overlay",
             "size": 10,
             "solidity": 0.2
            },
            "type": "scatter"
           }
          ],
          "scatter3d": [
           {
            "line": {
             "colorbar": {
              "outlinewidth": 0,
              "ticks": ""
             }
            },
            "marker": {
             "colorbar": {
              "outlinewidth": 0,
              "ticks": ""
             }
            },
            "type": "scatter3d"
           }
          ],
          "scattercarpet": [
           {
            "marker": {
             "colorbar": {
              "outlinewidth": 0,
              "ticks": ""
             }
            },
            "type": "scattercarpet"
           }
          ],
          "scattergeo": [
           {
            "marker": {
             "colorbar": {
              "outlinewidth": 0,
              "ticks": ""
             }
            },
            "type": "scattergeo"
           }
          ],
          "scattergl": [
           {
            "marker": {
             "colorbar": {
              "outlinewidth": 0,
              "ticks": ""
             }
            },
            "type": "scattergl"
           }
          ],
          "scattermap": [
           {
            "marker": {
             "colorbar": {
              "outlinewidth": 0,
              "ticks": ""
             }
            },
            "type": "scattermap"
           }
          ],
          "scattermapbox": [
           {
            "marker": {
             "colorbar": {
              "outlinewidth": 0,
              "ticks": ""
             }
            },
            "type": "scattermapbox"
           }
          ],
          "scatterpolar": [
           {
            "marker": {
             "colorbar": {
              "outlinewidth": 0,
              "ticks": ""
             }
            },
            "type": "scatterpolar"
           }
          ],
          "scatterpolargl": [
           {
            "marker": {
             "colorbar": {
              "outlinewidth": 0,
              "ticks": ""
             }
            },
            "type": "scatterpolargl"
           }
          ],
          "scatterternary": [
           {
            "marker": {
             "colorbar": {
              "outlinewidth": 0,
              "ticks": ""
             }
            },
            "type": "scatterternary"
           }
          ],
          "surface": [
           {
            "colorbar": {
             "outlinewidth": 0,
             "ticks": ""
            },
            "colorscale": [
             [
              0,
              "#0d0887"
             ],
             [
              0.1111111111111111,
              "#46039f"
             ],
             [
              0.2222222222222222,
              "#7201a8"
             ],
             [
              0.3333333333333333,
              "#9c179e"
             ],
             [
              0.4444444444444444,
              "#bd3786"
             ],
             [
              0.5555555555555556,
              "#d8576b"
             ],
             [
              0.6666666666666666,
              "#ed7953"
             ],
             [
              0.7777777777777778,
              "#fb9f3a"
             ],
             [
              0.8888888888888888,
              "#fdca26"
             ],
             [
              1,
              "#f0f921"
             ]
            ],
            "type": "surface"
           }
          ],
          "table": [
           {
            "cells": {
             "fill": {
              "color": "#EBF0F8"
             },
             "line": {
              "color": "white"
             }
            },
            "header": {
             "fill": {
              "color": "#C8D4E3"
             },
             "line": {
              "color": "white"
             }
            },
            "type": "table"
           }
          ]
         },
         "layout": {
          "annotationdefaults": {
           "arrowcolor": "#2a3f5f",
           "arrowhead": 0,
           "arrowwidth": 1
          },
          "autotypenumbers": "strict",
          "coloraxis": {
           "colorbar": {
            "outlinewidth": 0,
            "ticks": ""
           }
          },
          "colorscale": {
           "diverging": [
            [
             0,
             "#8e0152"
            ],
            [
             0.1,
             "#c51b7d"
            ],
            [
             0.2,
             "#de77ae"
            ],
            [
             0.3,
             "#f1b6da"
            ],
            [
             0.4,
             "#fde0ef"
            ],
            [
             0.5,
             "#f7f7f7"
            ],
            [
             0.6,
             "#e6f5d0"
            ],
            [
             0.7,
             "#b8e186"
            ],
            [
             0.8,
             "#7fbc41"
            ],
            [
             0.9,
             "#4d9221"
            ],
            [
             1,
             "#276419"
            ]
           ],
           "sequential": [
            [
             0,
             "#0d0887"
            ],
            [
             0.1111111111111111,
             "#46039f"
            ],
            [
             0.2222222222222222,
             "#7201a8"
            ],
            [
             0.3333333333333333,
             "#9c179e"
            ],
            [
             0.4444444444444444,
             "#bd3786"
            ],
            [
             0.5555555555555556,
             "#d8576b"
            ],
            [
             0.6666666666666666,
             "#ed7953"
            ],
            [
             0.7777777777777778,
             "#fb9f3a"
            ],
            [
             0.8888888888888888,
             "#fdca26"
            ],
            [
             1,
             "#f0f921"
            ]
           ],
           "sequentialminus": [
            [
             0,
             "#0d0887"
            ],
            [
             0.1111111111111111,
             "#46039f"
            ],
            [
             0.2222222222222222,
             "#7201a8"
            ],
            [
             0.3333333333333333,
             "#9c179e"
            ],
            [
             0.4444444444444444,
             "#bd3786"
            ],
            [
             0.5555555555555556,
             "#d8576b"
            ],
            [
             0.6666666666666666,
             "#ed7953"
            ],
            [
             0.7777777777777778,
             "#fb9f3a"
            ],
            [
             0.8888888888888888,
             "#fdca26"
            ],
            [
             1,
             "#f0f921"
            ]
           ]
          },
          "colorway": [
           "#636efa",
           "#EF553B",
           "#00cc96",
           "#ab63fa",
           "#FFA15A",
           "#19d3f3",
           "#FF6692",
           "#B6E880",
           "#FF97FF",
           "#FECB52"
          ],
          "font": {
           "color": "#2a3f5f"
          },
          "geo": {
           "bgcolor": "white",
           "lakecolor": "white",
           "landcolor": "#E5ECF6",
           "showlakes": true,
           "showland": true,
           "subunitcolor": "white"
          },
          "hoverlabel": {
           "align": "left"
          },
          "hovermode": "closest",
          "mapbox": {
           "style": "light"
          },
          "paper_bgcolor": "white",
          "plot_bgcolor": "#E5ECF6",
          "polar": {
           "angularaxis": {
            "gridcolor": "white",
            "linecolor": "white",
            "ticks": ""
           },
           "bgcolor": "#E5ECF6",
           "radialaxis": {
            "gridcolor": "white",
            "linecolor": "white",
            "ticks": ""
           }
          },
          "scene": {
           "xaxis": {
            "backgroundcolor": "#E5ECF6",
            "gridcolor": "white",
            "gridwidth": 2,
            "linecolor": "white",
            "showbackground": true,
            "ticks": "",
            "zerolinecolor": "white"
           },
           "yaxis": {
            "backgroundcolor": "#E5ECF6",
            "gridcolor": "white",
            "gridwidth": 2,
            "linecolor": "white",
            "showbackground": true,
            "ticks": "",
            "zerolinecolor": "white"
           },
           "zaxis": {
            "backgroundcolor": "#E5ECF6",
            "gridcolor": "white",
            "gridwidth": 2,
            "linecolor": "white",
            "showbackground": true,
            "ticks": "",
            "zerolinecolor": "white"
           }
          },
          "shapedefaults": {
           "line": {
            "color": "#2a3f5f"
           }
          },
          "ternary": {
           "aaxis": {
            "gridcolor": "white",
            "linecolor": "white",
            "ticks": ""
           },
           "baxis": {
            "gridcolor": "white",
            "linecolor": "white",
            "ticks": ""
           },
           "bgcolor": "#E5ECF6",
           "caxis": {
            "gridcolor": "white",
            "linecolor": "white",
            "ticks": ""
           }
          },
          "title": {
           "x": 0.05
          },
          "xaxis": {
           "automargin": true,
           "gridcolor": "white",
           "linecolor": "white",
           "ticks": "",
           "title": {
            "standoff": 15
           },
           "zerolinecolor": "white",
           "zerolinewidth": 2
          },
          "yaxis": {
           "automargin": true,
           "gridcolor": "white",
           "linecolor": "white",
           "ticks": "",
           "title": {
            "standoff": 15
           },
           "zerolinecolor": "white",
           "zerolinewidth": 2
          }
         }
        },
        "xaxis": {
         "anchor": "y",
         "domain": [
          0,
          0.7363
         ],
         "title": {
          "text": "x"
         }
        },
        "xaxis2": {
         "anchor": "y2",
         "domain": [
          0.7413,
          1
         ],
         "matches": "x2",
         "showgrid": false,
         "showline": false,
         "showticklabels": false,
         "ticks": ""
        },
        "yaxis": {
         "anchor": "x",
         "domain": [
          0,
          1
         ],
         "title": {
          "text": "output_tokens_per_prompt"
         }
        },
        "yaxis2": {
         "anchor": "x2",
         "domain": [
          0,
          1
         ],
         "matches": "y",
         "showgrid": true,
         "showticklabels": false
        }
       }
      }
     },
     "metadata": {},
     "output_type": "display_data"
    },
    {
     "data": {
      "application/vnd.plotly.v1+json": {
       "config": {
        "plotlyServerURL": "https://plot.ly"
       },
       "data": [
        {
         "hovertemplate": "output_length=short<br>x=%{x}<br>output_tokens_per_prompt=%{y}<extra></extra>",
         "legendgroup": "short",
         "marker": {
          "color": "#636efa",
          "symbol": "circle"
         },
         "mode": "markers",
         "name": "short",
         "orientation": "v",
         "showlegend": true,
         "type": "scatter",
         "x": {
          "bdata": "AAACAAQABgAIAAoADAAOABAAEgAUABYAGAAaABwAHgAgACIAJAAmACgAKgAsAC4AMAAyADQANgA4ADoAPAA+AEAAQgBEAEYASABKAEwATgBQAFIAVABWAFgAWgBcAF4AYABiAGQAZgBoAGoAbABuAHAAcgB0AHYAeAB6AHwAfgCAAIIAhACGAIgAigCMAI4AkACSAJQAlgCYAJoAnACeAKAAogCkAKYAqACqAKwArgCwALIAtAC2ALgAugC8AL4AwADCAMQAxgDIAMoAzADOANAA0gDUANYA2ADaANwA3gDgAOIA5ADmAOgA6gDsAO4A8ADyAPQA9gD4APoA/AD+AAABAgEEAQYBCAEKAQwBDgEQARIBFAEWARgBGgEcAR4BIAEiASQBJgEoASoBLAEuATABMgE0ATYBOAE6ATwBPgFAAUIBRAFGAUgBSgFMAU4BUAFSAVQBVgFYAVoBXAFeAWABYgFkAWYBaAFqAWwBbgFwAXIBdAF2AXgBegF8AX4BgAGCAYQBhgGIAYoBjAGOAZABkgGUAZYBmAGaAZwBngGgAaIBpAGmAQ==",
          "dtype": "i2"
         },
         "xaxis": "x",
         "y": {
          "bdata": "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",
          "dtype": "f8"
         },
         "yaxis": "y"
        },
        {
         "alignmentgroup": "True",
         "hovertemplate": "output_length=short<br>output_tokens_per_prompt=%{y}<extra></extra>",
         "legendgroup": "short",
         "marker": {
          "color": "#636efa",
          "symbol": "circle"
         },
         "name": "short",
         "notched": true,
         "offsetgroup": "short",
         "showlegend": false,
         "type": "box",
         "xaxis": "x2",
         "y": {
          "bdata": "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",
          "dtype": "f8"
         },
         "yaxis": "y2"
        },
        {
         "hovertemplate": "output_length=long<br>x=%{x}<br>output_tokens_per_prompt=%{y}<extra></extra>",
         "legendgroup": "long",
         "marker": {
          "color": "#EF553B",
          "symbol": "circle"
         },
         "mode": "markers",
         "name": "long",
         "orientation": "v",
         "showlegend": true,
         "type": "scatter",
         "x": {
          "bdata": "AQADAAUABwAJAAsADQAPABEAEwAVABcAGQAbAB0AHwAhACMAJQAnACkAKwAtAC8AMQAzADUANwA5ADsAPQA/AEEAQwBFAEcASQBLAE0ATwBRAFMAVQBXAFkAWwBdAF8AYQBjAGUAZwBpAGsAbQBvAHEAcwB1AHcAeQB7AH0AfwCBAIMAhQCHAIkAiwCNAI8AkQCTAJUAlwCZAJsAnQCfAKEAowClAKcAqQCrAK0ArwCxALMAtQC3ALkAuwC9AL8AwQDDAMUAxwDJAMsAzQDPANEA0wDVANcA2QDbAN0A3wDhAOMA5QDnAOkA6wDtAO8A8QDzAPUA9wD5APsA/QD/AAEBAwEFAQcBCQELAQ0BDwERARMBFQEXARkBGwEdAR8BIQEjASUBJwEpASsBLQEvATEBMwE1ATcBOQE7AT0BPwFBAUMBRQFHAUkBSwFNAU8BUQFTAVUBVwFZAVsBXQFfAWEBYwFlAWcBaQFrAW0BbwFxAXMBdQF3AXkBewF9AX8BgQGDAYUBhwGJAYsBjQGPAZEBkwGVAZcBmQGbAZ0BnwGhAaMBpQGnAQ==",
          "dtype": "i2"
         },
         "xaxis": "x",
         "y": {
          "bdata": "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",
          "dtype": "f8"
         },
         "yaxis": "y"
        },
        {
         "alignmentgroup": "True",
         "hovertemplate": "output_length=long<br>output_tokens_per_prompt=%{y}<extra></extra>",
         "legendgroup": "long",
         "marker": {
          "color": "#EF553B",
          "symbol": "circle"
         },
         "name": "long",
         "notched": true,
         "offsetgroup": "long",
         "showlegend": false,
         "type": "box",
         "xaxis": "x2",
         "y": {
          "bdata": "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",
          "dtype": "f8"
         },
         "yaxis": "y2"
        }
       ],
       "layout": {
        "legend": {
         "title": {
          "text": "output_length"
         },
         "tracegroupgap": 0
        },
        "margin": {
         "t": 60
        },
        "template": {
         "data": {
          "bar": [
           {
            "error_x": {
             "color": "#2a3f5f"
            },
            "error_y": {
             "color": "#2a3f5f"
            },
            "marker": {
             "line": {
              "color": "#E5ECF6",
              "width": 0.5
             },
             "pattern": {
              "fillmode": "overlay",
              "size": 10,
              "solidity": 0.2
             }
            },
            "type": "bar"
           }
          ],
          "barpolar": [
           {
            "marker": {
             "line": {
              "color": "#E5ECF6",
              "width": 0.5
             },
             "pattern": {
              "fillmode": "overlay",
              "size": 10,
              "solidity": 0.2
             }
            },
            "type": "barpolar"
           }
          ],
          "carpet": [
           {
            "aaxis": {
             "endlinecolor": "#2a3f5f",
             "gridcolor": "white",
             "linecolor": "white",
             "minorgridcolor": "white",
             "startlinecolor": "#2a3f5f"
            },
            "baxis": {
             "endlinecolor": "#2a3f5f",
             "gridcolor": "white",
             "linecolor": "white",
             "minorgridcolor": "white",
             "startlinecolor": "#2a3f5f"
            },
            "type": "carpet"
           }
          ],
          "choropleth": [
           {
            "colorbar": {
             "outlinewidth": 0,
             "ticks": ""
            },
            "type": "choropleth"
           }
          ],
          "contour": [
           {
            "colorbar": {
             "outlinewidth": 0,
             "ticks": ""
            },
            "colorscale": [
             [
              0,
              "#0d0887"
             ],
             [
              0.1111111111111111,
              "#46039f"
             ],
             [
              0.2222222222222222,
              "#7201a8"
             ],
             [
              0.3333333333333333,
              "#9c179e"
             ],
             [
              0.4444444444444444,
              "#bd3786"
             ],
             [
              0.5555555555555556,
              "#d8576b"
             ],
             [
              0.6666666666666666,
              "#ed7953"
             ],
             [
              0.7777777777777778,
              "#fb9f3a"
             ],
             [
              0.8888888888888888,
              "#fdca26"
             ],
             [
              1,
              "#f0f921"
             ]
            ],
            "type": "contour"
           }
          ],
          "contourcarpet": [
           {
            "colorbar": {
             "outlinewidth": 0,
             "ticks": ""
            },
            "type": "contourcarpet"
           }
          ],
          "heatmap": [
           {
            "colorbar": {
             "outlinewidth": 0,
             "ticks": ""
            },
            "colorscale": [
             [
              0,
              "#0d0887"
             ],
             [
              0.1111111111111111,
              "#46039f"
             ],
             [
              0.2222222222222222,
              "#7201a8"
             ],
             [
              0.3333333333333333,
              "#9c179e"
             ],
             [
              0.4444444444444444,
              "#bd3786"
             ],
             [
              0.5555555555555556,
              "#d8576b"
             ],
             [
              0.6666666666666666,
              "#ed7953"
             ],
             [
              0.7777777777777778,
              "#fb9f3a"
             ],
             [
              0.8888888888888888,
              "#fdca26"
             ],
             [
              1,
              "#f0f921"
             ]
            ],
            "type": "heatmap"
           }
          ],
          "histogram": [
           {
            "marker": {
             "pattern": {
              "fillmode": "overlay",
              "size": 10,
              "solidity": 0.2
             }
            },
            "type": "histogram"
           }
          ],
          "histogram2d": [
           {
            "colorbar": {
             "outlinewidth": 0,
             "ticks": ""
            },
            "colorscale": [
             [
              0,
              "#0d0887"
             ],
             [
              0.1111111111111111,
              "#46039f"
             ],
             [
              0.2222222222222222,
              "#7201a8"
             ],
             [
              0.3333333333333333,
              "#9c179e"
             ],
             [
              0.4444444444444444,
              "#bd3786"
             ],
             [
              0.5555555555555556,
              "#d8576b"
             ],
             [
              0.6666666666666666,
              "#ed7953"
             ],
             [
              0.7777777777777778,
              "#fb9f3a"
             ],
             [
              0.8888888888888888,
              "#fdca26"
             ],
             [
              1,
              "#f0f921"
             ]
            ],
            "type": "histogram2d"
           }
          ],
          "histogram2dcontour": [
           {
            "colorbar": {
             "outlinewidth": 0,
             "ticks": ""
            },
            "colorscale": [
             [
              0,
              "#0d0887"
             ],
             [
              0.1111111111111111,
              "#46039f"
             ],
             [
              0.2222222222222222,
              "#7201a8"
             ],
             [
              0.3333333333333333,
              "#9c179e"
             ],
             [
              0.4444444444444444,
              "#bd3786"
             ],
             [
              0.5555555555555556,
              "#d8576b"
             ],
             [
              0.6666666666666666,
              "#ed7953"
             ],
             [
              0.7777777777777778,
              "#fb9f3a"
             ],
             [
              0.8888888888888888,
              "#fdca26"
             ],
             [
              1,
              "#f0f921"
             ]
            ],
            "type": "histogram2dcontour"
           }
          ],
          "mesh3d": [
           {
            "colorbar": {
             "outlinewidth": 0,
             "ticks": ""
            },
            "type": "mesh3d"
           }
          ],
          "parcoords": [
           {
            "line": {
             "colorbar": {
              "outlinewidth": 0,
              "ticks": ""
             }
            },
            "type": "parcoords"
           }
          ],
          "pie": [
           {
            "automargin": true,
            "type": "pie"
           }
          ],
          "scatter": [
           {
            "fillpattern": {
             "fillmode": "overlay",
             "size": 10,
             "solidity": 0.2
            },
            "type": "scatter"
           }
          ],
          "scatter3d": [
           {
            "line": {
             "colorbar": {
              "outlinewidth": 0,
              "ticks": ""
             }
            },
            "marker": {
             "colorbar": {
              "outlinewidth": 0,
              "ticks": ""
             }
            },
            "type": "scatter3d"
           }
          ],
          "scattercarpet": [
           {
            "marker": {
             "colorbar": {
              "outlinewidth": 0,
              "ticks": ""
             }
            },
            "type": "scattercarpet"
           }
          ],
          "scattergeo": [
           {
            "marker": {
             "colorbar": {
              "outlinewidth": 0,
              "ticks": ""
             }
            },
            "type": "scattergeo"
           }
          ],
          "scattergl": [
           {
            "marker": {
             "colorbar": {
              "outlinewidth": 0,
              "ticks": ""
             }
            },
            "type": "scattergl"
           }
          ],
          "scattermap": [
           {
            "marker": {
             "colorbar": {
              "outlinewidth": 0,
              "ticks": ""
             }
            },
            "type": "scattermap"
           }
          ],
          "scattermapbox": [
           {
            "marker": {
             "colorbar": {
              "outlinewidth": 0,
              "ticks": ""
             }
            },
            "type": "scattermapbox"
           }
          ],
          "scatterpolar": [
           {
            "marker": {
             "colorbar": {
              "outlinewidth": 0,
              "ticks": ""
             }
            },
            "type": "scatterpolar"
           }
          ],
          "scatterpolargl": [
           {
            "marker": {
             "colorbar": {
              "outlinewidth": 0,
              "ticks": ""
             }
            },
            "type": "scatterpolargl"
           }
          ],
          "scatterternary": [
           {
            "marker": {
             "colorbar": {
              "outlinewidth": 0,
              "ticks": ""
             }
            },
            "type": "scatterternary"
           }
          ],
          "surface": [
           {
            "colorbar": {
             "outlinewidth": 0,
             "ticks": ""
            },
            "colorscale": [
             [
              0,
              "#0d0887"
             ],
             [
              0.1111111111111111,
              "#46039f"
             ],
             [
              0.2222222222222222,
              "#7201a8"
             ],
             [
              0.3333333333333333,
              "#9c179e"
             ],
             [
              0.4444444444444444,
              "#bd3786"
             ],
             [
              0.5555555555555556,
              "#d8576b"
             ],
             [
              0.6666666666666666,
              "#ed7953"
             ],
             [
              0.7777777777777778,
              "#fb9f3a"
             ],
             [
              0.8888888888888888,
              "#fdca26"
             ],
             [
              1,
              "#f0f921"
             ]
            ],
            "type": "surface"
           }
          ],
          "table": [
           {
            "cells": {
             "fill": {
              "color": "#EBF0F8"
             },
             "line": {
              "color": "white"
             }
            },
            "header": {
             "fill": {
              "color": "#C8D4E3"
             },
             "line": {
              "color": "white"
             }
            },
            "type": "table"
           }
          ]
         },
         "layout": {
          "annotationdefaults": {
           "arrowcolor": "#2a3f5f",
           "arrowhead": 0,
           "arrowwidth": 1
          },
          "autotypenumbers": "strict",
          "coloraxis": {
           "colorbar": {
            "outlinewidth": 0,
            "ticks": ""
           }
          },
          "colorscale": {
           "diverging": [
            [
             0,
             "#8e0152"
            ],
            [
             0.1,
             "#c51b7d"
            ],
            [
             0.2,
             "#de77ae"
            ],
            [
             0.3,
             "#f1b6da"
            ],
            [
             0.4,
             "#fde0ef"
            ],
            [
             0.5,
             "#f7f7f7"
            ],
            [
             0.6,
             "#e6f5d0"
            ],
            [
             0.7,
             "#b8e186"
            ],
            [
             0.8,
             "#7fbc41"
            ],
            [
             0.9,
             "#4d9221"
            ],
            [
             1,
             "#276419"
            ]
           ],
           "sequential": [
            [
             0,
             "#0d0887"
            ],
            [
             0.1111111111111111,
             "#46039f"
            ],
            [
             0.2222222222222222,
             "#7201a8"
            ],
            [
             0.3333333333333333,
             "#9c179e"
            ],
            [
             0.4444444444444444,
             "#bd3786"
            ],
            [
             0.5555555555555556,
             "#d8576b"
            ],
            [
             0.6666666666666666,
             "#ed7953"
            ],
            [
             0.7777777777777778,
             "#fb9f3a"
            ],
            [
             0.8888888888888888,
             "#fdca26"
            ],
            [
             1,
             "#f0f921"
            ]
           ],
           "sequentialminus": [
            [
             0,
             "#0d0887"
            ],
            [
             0.1111111111111111,
             "#46039f"
            ],
            [
             0.2222222222222222,
             "#7201a8"
            ],
            [
             0.3333333333333333,
             "#9c179e"
            ],
            [
             0.4444444444444444,
             "#bd3786"
            ],
            [
             0.5555555555555556,
             "#d8576b"
            ],
            [
             0.6666666666666666,
             "#ed7953"
            ],
            [
             0.7777777777777778,
             "#fb9f3a"
            ],
            [
             0.8888888888888888,
             "#fdca26"
            ],
            [
             1,
             "#f0f921"
            ]
           ]
          },
          "colorway": [
           "#636efa",
           "#EF553B",
           "#00cc96",
           "#ab63fa",
           "#FFA15A",
           "#19d3f3",
           "#FF6692",
           "#B6E880",
           "#FF97FF",
           "#FECB52"
          ],
          "font": {
           "color": "#2a3f5f"
          },
          "geo": {
           "bgcolor": "white",
           "lakecolor": "white",
           "landcolor": "#E5ECF6",
           "showlakes": true,
           "showland": true,
           "subunitcolor": "white"
          },
          "hoverlabel": {
           "align": "left"
          },
          "hovermode": "closest",
          "mapbox": {
           "style": "light"
          },
          "paper_bgcolor": "white",
          "plot_bgcolor": "#E5ECF6",
          "polar": {
           "angularaxis": {
            "gridcolor": "white",
            "linecolor": "white",
            "ticks": ""
           },
           "bgcolor": "#E5ECF6",
           "radialaxis": {
            "gridcolor": "white",
            "linecolor": "white",
            "ticks": ""
           }
          },
          "scene": {
           "xaxis": {
            "backgroundcolor": "#E5ECF6",
            "gridcolor": "white",
            "gridwidth": 2,
            "linecolor": "white",
            "showbackground": true,
            "ticks": "",
            "zerolinecolor": "white"
           },
           "yaxis": {
            "backgroundcolor": "#E5ECF6",
            "gridcolor": "white",
            "gridwidth": 2,
            "linecolor": "white",
            "showbackground": true,
            "ticks": "",
            "zerolinecolor": "white"
           },
           "zaxis": {
            "backgroundcolor": "#E5ECF6",
            "gridcolor": "white",
            "gridwidth": 2,
            "linecolor": "white",
            "showbackground": true,
            "ticks": "",
            "zerolinecolor": "white"
           }
          },
          "shapedefaults": {
           "line": {
            "color": "#2a3f5f"
           }
          },
          "ternary": {
           "aaxis": {
            "gridcolor": "white",
            "linecolor": "white",
            "ticks": ""
           },
           "baxis": {
            "gridcolor": "white",
            "linecolor": "white",
            "ticks": ""
           },
           "bgcolor": "#E5ECF6",
           "caxis": {
            "gridcolor": "white",
            "linecolor": "white",
            "ticks": ""
           }
          },
          "title": {
           "x": 0.05
          },
          "xaxis": {
           "automargin": true,
           "gridcolor": "white",
           "linecolor": "white",
           "ticks": "",
           "title": {
            "standoff": 15
           },
           "zerolinecolor": "white",
           "zerolinewidth": 2
          },
          "yaxis": {
           "automargin": true,
           "gridcolor": "white",
           "linecolor": "white",
           "ticks": "",
           "title": {
            "standoff": 15
           },
           "zerolinecolor": "white",
           "zerolinewidth": 2
          }
         }
        },
        "xaxis": {
         "anchor": "y",
         "domain": [
          0,
          0.7363
         ],
         "title": {
          "text": "x"
         }
        },
        "xaxis2": {
         "anchor": "y2",
         "domain": [
          0.7413,
          1
         ],
         "matches": "x2",
         "showgrid": false,
         "showline": false,
         "showticklabels": false,
         "ticks": ""
        },
        "yaxis": {
         "anchor": "x",
         "domain": [
          0,
          1
         ],
         "title": {
          "text": "output_tokens_per_prompt"
         }
        },
        "yaxis2": {
         "anchor": "x2",
         "domain": [
          0,
          1
         ],
         "matches": "y",
         "showgrid": true,
         "showticklabels": false
        }
       }
      }
     },
     "metadata": {},
     "output_type": "display_data"
    }
   ],
   "source": [
    "fig = px.scatter(data_df, x= range(len(data_df)), y= \"total_time_per_output_token\", color = 'prompt_length', marginal_y=\"violin\")\n",
    "fig.show()\n",
    "fig = px.scatter(data_df, x= range(len(data_df)), y= \"output_tokens_per_prompt\", color = 'prompt_length', marginal_y=\"violin\")\n",
    "fig.show()\n",
    "fig = px.scatter(data_df, x= range(len(data_df)), y= \"output_tokens_per_prompt\", color = 'output_length', marginal_y=\"box\")\n",
    "fig.show()"
   ]
  },
  {
   "cell_type": "markdown",
   "id": "4a1c39afdbded299",
   "metadata": {},
   "source": [
    "# Analyzing the most important thing\n",
    "- time w.r.t inputs\n",
    "- time w.r.t outputs"
   ]
  },
  {
   "cell_type": "code",
   "execution_count": 11,
   "id": "68dc32ab4eedab5",
   "metadata": {
    "ExecuteTime": {
     "end_time": "2025-10-12T18:40:18.494010Z",
     "start_time": "2025-10-12T18:40:09.071941Z"
    }
   },
   "outputs": [
    {
     "data": {
      "application/vnd.plotly.v1+json": {
       "config": {
        "plotlyServerURL": "https://plot.ly"
       },
       "data": [
        {
         "hovertemplate": "output_length=short<br>x=%{x}<br>total_time=%{y}<br>output_tokens=%{marker.size}<extra></extra>",
         "legendgroup": "short",
         "marker": {
          "color": "#636efa",
          "size": {
           "bdata": "JwA6ADYAJwApAB8ANQAJABkACQAjAEwAFgAdACsAOgAuAEMAMAAaAAUAIAAPAAwAPwA4ADUAKQALAEMALgAVAMQAjQAfAf0ADgGHANUA8wDYAJQAqAADAcQAWwCrAP8ASgNmA8wDDQN9AAoAMQADADIABAADAC0AHAAwADIALgAMADMABAAFABcACgAJADsAKwA5ADEANgAnAAsALgAOABQAMQA6ADoAJQCqAKEAegCbAJQAvQCLAL4ArwC1ALsAmQB9AG0A0gB3ADwCtwDIAZEBWwE7AGYATQBAAEEAPwA/ADYAPQA7AFMAWQA3AE4ASwA/AHEARwBRADQASAA1AEQANgA1AGAATgA5AEEATQBNADUAigEpATkBKAF1AREBwgFUAYMBMAGuARsBOAETAU4BWwENBY8FsATnBeoARwBFAEUASQA+AEIAOQA0AD4AVgBDADcATAAvAE0ALQAqADIAPAApADQAOQAyADoARwAwADwAMQAqADwATQAzAFwBfQFuAU4BhQFzAYsBZQEBAXUBXwFiAXcBXwHqAPAAywO+BEkDpQOgAA==",
           "dtype": "i2"
          },
          "sizemode": "area",
          "sizeref": 12.0025,
          "symbol": "circle"
         },
         "mode": "markers",
         "name": "short",
         "orientation": "v",
         "showlegend": true,
         "type": "scatter",
         "x": {
          "bdata": "AAACAAQABgAIAAoADAAOABAAEgAUABYAGAAaABwAHgAgACIAJAAmACgAKgAsAC4AMAAyADQANgA4ADoAPAA+AEAAQgBEAEYASABKAEwATgBQAFIAVABWAFgAWgBcAF4AYABiAGQAZgBoAGoAbABuAHAAcgB0AHYAeAB6AHwAfgCAAIIAhACGAIgAigCMAI4AkACSAJQAlgCYAJoAnACeAKAAogCkAKYAqACqAKwArgCwALIAtAC2ALgAugC8AL4AwADCAMQAxgDIAMoAzADOANAA0gDUANYA2ADaANwA3gDgAOIA5ADmAOgA6gDsAO4A8ADyAPQA9gD4APoA/AD+AAABAgEEAQYBCAEKAQwBDgEQARIBFAEWARgBGgEcAR4BIAEiASQBJgEoASoBLAEuATABMgE0ATYBOAE6ATwBPgFAAUIBRAFGAUgBSgFMAU4BUAFSAVQBVgFYAVoBXAFeAWABYgFkAWYBaAFqAWwBbgFwAXIBdAF2AXgBegF8AX4BgAGCAYQBhgGIAYoBjAGOAZABkgGUAZYBmAGaAZwBngGgAaIBpAGmAQ==",
          "dtype": "i2"
         },
         "xaxis": "x",
         "y": {
          "bdata": "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",
          "dtype": "f8"
         },
         "yaxis": "y"
        },
        {
         "alignmentgroup": "True",
         "hovertemplate": "output_length=short<br>total_time=%{y}<extra></extra>",
         "legendgroup": "short",
         "marker": {
          "color": "#636efa",
          "symbol": "circle"
         },
         "name": "short",
         "offsetgroup": "short",
         "scalegroup": "y",
         "showlegend": false,
         "type": "violin",
         "xaxis": "x2",
         "y": {
          "bdata": "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",
          "dtype": "f8"
         },
         "yaxis": "y2"
        },
        {
         "hovertemplate": "output_length=long<br>x=%{x}<br>total_time=%{y}<br>output_tokens=%{marker.size}<extra></extra>",
         "legendgroup": "long",
         "marker": {
          "color": "#EF553B",
          "size": {
           "bdata": "HgHNAdEC2gBiAfAAfQGPAAEBRQEIAXwBNgFiAGYBlwHFARUCoQIpAYoADAAmAVkBcAElAnkBdAE0AQYCbAJmAR0CawK3AQYDVQKHAhcCygLkAQsD/AFlAz4CaQH5AYIDXAVZB3cDzQR+AAoAlgJxAf0BNgEJAHMCsgDWAFgCnQAHAPEBDAHFAIUBGwFnAH0BCwH6AXoB8QGLANQAfAErARkBFAIfAuMBaAF4AjMC0gEtAuUBGgMUAxkD8wENBEoEOQP2ACoC2wKyAIsEIAMfBjcChAGCAhgCnAJ7AtABPwIPA6oCmAJEAtkC6wGmAbgCNwJOAtgBVQI8AmYCTQLAAmkCTgKzAQ4C3QIMAgICXAIjAhkC3AZMBRYDLwbTBt0EuARmB24I0QXDBHcFWwagBE4FwwWWEEwPnwvBEkYBHQLZAYQC8wGlAssBOQKmAbkB3AHsAd0BSgJIAj8CsAFAAVMCQwK3Am0C6gEfAq4BJwIQAgsCPwG+AZUCXQFhAlYFUgalBfwFQAVcBWQFuwQLBIEGMAa2Bm0F+QalAygFOArNC7oKJBDYBQ==",
           "dtype": "i2"
          },
          "sizemode": "area",
          "sizeref": 12.0025,
          "symbol": "circle"
         },
         "mode": "markers",
         "name": "long",
         "orientation": "v",
         "showlegend": true,
         "type": "scatter",
         "x": {
          "bdata": "AQADAAUABwAJAAsADQAPABEAEwAVABcAGQAbAB0AHwAhACMAJQAnACkAKwAtAC8AMQAzADUANwA5ADsAPQA/AEEAQwBFAEcASQBLAE0ATwBRAFMAVQBXAFkAWwBdAF8AYQBjAGUAZwBpAGsAbQBvAHEAcwB1AHcAeQB7AH0AfwCBAIMAhQCHAIkAiwCNAI8AkQCTAJUAlwCZAJsAnQCfAKEAowClAKcAqQCrAK0ArwCxALMAtQC3ALkAuwC9AL8AwQDDAMUAxwDJAMsAzQDPANEA0wDVANcA2QDbAN0A3wDhAOMA5QDnAOkA6wDtAO8A8QDzAPUA9wD5APsA/QD/AAEBAwEFAQcBCQELAQ0BDwERARMBFQEXARkBGwEdAR8BIQEjASUBJwEpASsBLQEvATEBMwE1ATcBOQE7AT0BPwFBAUMBRQFHAUkBSwFNAU8BUQFTAVUBVwFZAVsBXQFfAWEBYwFlAWcBaQFrAW0BbwFxAXMBdQF3AXkBewF9AX8BgQGDAYUBhwGJAYsBjQGPAZEBkwGVAZcBmQGbAZ0BnwGhAaMBpQGnAQ==",
          "dtype": "i2"
         },
         "xaxis": "x",
         "y": {
          "bdata": "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",
          "dtype": "f8"
         },
         "yaxis": "y"
        },
        {
         "alignmentgroup": "True",
         "hovertemplate": "output_length=long<br>total_time=%{y}<extra></extra>",
         "legendgroup": "long",
         "marker": {
          "color": "#EF553B",
          "symbol": "circle"
         },
         "name": "long",
         "offsetgroup": "long",
         "scalegroup": "y",
         "showlegend": false,
         "type": "violin",
         "xaxis": "x2",
         "y": {
          "bdata": "r/ptmR3TGEAXR4pt9/MjQLRWtDnOCS9A5e5zfLTgEkDcfY6PFsceQBuTtNHvyRRAfRnWnqN7IEB+pZgo5/AIQFR4K6YtsRZA+fcZFw5kHEDlxdM8kQEXQKMCzCFOeCBAkkpnFlerGkDSW5d1WlIBQJjBGJEo5B5AtM++TdrLIUB6350hwaEjQLpL4qyI/iZAiIRKt4DrLEBsuY7MfiAaQHwkyoOZiwhAim5i7ZQz2z/jeV9LfrIZQBGu2/uvVh5ApZ4FobwjIEDygLIpV8QnQK/e8qLAUCBAQaPPotITIEByqyAGuuYaQMoPpnIkgSZA4ZEdwMfJKkD9xceCHTofQIdkbfiCoydAuUmxSLiZK0BEzIAOTlsjQHmaJzLOKjFAfqmfNxX9KUBgeetXlaQsQJGcp5WdjSdAmBb1Se5UL0AtrSsLy5QlQK/mpQeqGTFAUyunmN6JJkCzu5sC9BAzQFTKayV0kylAm0ZJ/hYXIEDG3/YEiXUmQE86Nqc3yDNAvMgE/BoMQEBdwqG3eBVGQHpJrUGpVzVApyIVxhbiPEAKwzaYPBQkQFaCIJs/Adc/ofSFkPOWLEDDd6xjpv4fQH1WPnA6EiZA3Iqz2NyfGkAsVVhfE4jUP/v3KkNm5CpAt2y+W2qeDkCBxYYTPUUSQDUHCObokSlADaiSXFn9CkB8j0R5MPPSPzb0BeOWfSVAoSev310gF0BQFfgvtRoRQK62Yn/Z7SBA1HMcieGMGEDO+/84YYICQLN78rBQwyBAYypYPiYtF0COlIhL6fwlQHiOEgVEfiBAQUbly7DSJUA033fCASMIQLoX8878VRJAvFBlvb2EIEByNh0B3DQaQG0jnuxmlhhAJMYh0bosJ0C/ydu2lIQnQNX71wP39SRAJylVRzPTHkD2ewfkt+ErQAcn/RjOYChAhTh7DPs+JECNH8/TJTgoQE38rI0MCSVAzdcbazX+MEBSlVv/UwgxQMXEiypoITFACqgmd46TJUCtb7srFkw2QFqGk484pzdA4s7gStGbMUB4rc57rU0VQKrSux2GDyhAK+LPSyBsL0BRacTMPt8OQJcOjHIfgTlANSVZh6NvMUBmHUQhuCxBQK887ZUe+ihA/zyyXrHTIkCU2LW93cIrQP6Hqk69LCdAFKBcCZOsLEBlRomnaGorQIqYyLvZISRA9+1/227RKEB0HfS247MwQCYRK+0eUi1AN+IkKNkVLUAAqrhxi40pQCyvpvy1CjBAO3TVlwA/JUBWKHdEKlkiQJYZgFcVsy1A2aMmsO+dKEC/NPvyuEIpQFwIzQk1aiRAi0xl9h7nKUDwdEJDWuIoQB+CTxg5lCpAVDKlmv5lKUB54XPMHgkuQKDPNu0Y/SpAUleIWA56KUCg1n58U8YiQLTTxVwIBCdA1726z5ZUL0BeUmtQ6vEmQK32sBcKNCZAWLkGbL31KUAGHPgHgMQnQGQW62UlUydAQtDRqpaDQ0BCKsWOxg8+QMGU3LzMUTFABVcvdUZ8QUCfOZCaG1xDQOQEt/8ShjtAUvmNZbBkOkDVqgJaXwdFQIvisI+pKkhA8JNZczZlQEBqSIGqdu46QIOsXclEID9AZ+4h4XsVQkAiaBayBCM6QL2s5L4wvj1AjlB9MaVQQECdHzXctoxZQIihMIOMYldAQmrJmdyaUUCUYYFULyddQOGlipjIay5AZPVYRF5cJ0A0Spf+JYEkQHhgAOFD/StA9iXAVUOTJUCNxYA2g0EtQOKGKdvR3SNA4oPoWsV4KEACw6hawWUiQHi++tOhHiNAOs1dpoHGJECd0DXd/EglQJks7j8yzSRAHeviNhpAKUAo84++SaMpQJOzZhoDtShAxtfo5izNIkDQACiQI3cbQKWqZFthnSlAdtVNczwQKUBHeUGfI8ktQCFNq9fjCCtAz7OjgtRrJUChZBex9MInQL85bdeVbCJAevYB7bOnJ0BIYGLiRe0mQLgehetRpCZA6rGIvECMG0AI9T6fElUjQAKetHBZRSxAB29Zz1rbHUACAufWtTsqQDKvIw7Zcj1Ax7yOOGTIQUDNtcO6TKA/QMyNM5dlu0BARyRl5l00PUC1xZD3Bd09QLaLHxlh5D1A5fPlYJFOOkAr7LMU2oE2QKCj+nN2NEJAZCGVvQBKQUDsvgi/eb1CQARCRps+DD5AGxb+ZyhpQ0B3CZgKO/ozQJu3RfTG0jxANp+E40M8TUBqo5XWuvFQQDuGbMWjlU5AMgBUcWOHV0A5YR0iyXtBQA==",
          "dtype": "f8"
         },
         "yaxis": "y2"
        }
       ],
       "layout": {
        "legend": {
         "itemsizing": "constant",
         "title": {
          "text": "output_length"
         },
         "tracegroupgap": 0
        },
        "margin": {
         "t": 60
        },
        "template": {
         "data": {
          "bar": [
           {
            "error_x": {
             "color": "#2a3f5f"
            },
            "error_y": {
             "color": "#2a3f5f"
            },
            "marker": {
             "line": {
              "color": "#E5ECF6",
              "width": 0.5
             },
             "pattern": {
              "fillmode": "overlay",
              "size": 10,
              "solidity": 0.2
             }
            },
            "type": "bar"
           }
          ],
          "barpolar": [
           {
            "marker": {
             "line": {
              "color": "#E5ECF6",
              "width": 0.5
             },
             "pattern": {
              "fillmode": "overlay",
              "size": 10,
              "solidity": 0.2
             }
            },
            "type": "barpolar"
           }
          ],
          "carpet": [
           {
            "aaxis": {
             "endlinecolor": "#2a3f5f",
             "gridcolor": "white",
             "linecolor": "white",
             "minorgridcolor": "white",
             "startlinecolor": "#2a3f5f"
            },
            "baxis": {
             "endlinecolor": "#2a3f5f",
             "gridcolor": "white",
             "linecolor": "white",
             "minorgridcolor": "white",
             "startlinecolor": "#2a3f5f"
            },
            "type": "carpet"
           }
          ],
          "choropleth": [
           {
            "colorbar": {
             "outlinewidth": 0,
             "ticks": ""
            },
            "type": "choropleth"
           }
          ],
          "contour": [
           {
            "colorbar": {
             "outlinewidth": 0,
             "ticks": ""
            },
            "colorscale": [
             [
              0,
              "#0d0887"
             ],
             [
              0.1111111111111111,
              "#46039f"
             ],
             [
              0.2222222222222222,
              "#7201a8"
             ],
             [
              0.3333333333333333,
              "#9c179e"
             ],
             [
              0.4444444444444444,
              "#bd3786"
             ],
             [
              0.5555555555555556,
              "#d8576b"
             ],
             [
              0.6666666666666666,
              "#ed7953"
             ],
             [
              0.7777777777777778,
              "#fb9f3a"
             ],
             [
              0.8888888888888888,
              "#fdca26"
             ],
             [
              1,
              "#f0f921"
             ]
            ],
            "type": "contour"
           }
          ],
          "contourcarpet": [
           {
            "colorbar": {
             "outlinewidth": 0,
             "ticks": ""
            },
            "type": "contourcarpet"
           }
          ],
          "heatmap": [
           {
            "colorbar": {
             "outlinewidth": 0,
             "ticks": ""
            },
            "colorscale": [
             [
              0,
              "#0d0887"
             ],
             [
              0.1111111111111111,
              "#46039f"
             ],
             [
              0.2222222222222222,
              "#7201a8"
             ],
             [
              0.3333333333333333,
              "#9c179e"
             ],
             [
              0.4444444444444444,
              "#bd3786"
             ],
             [
              0.5555555555555556,
              "#d8576b"
             ],
             [
              0.6666666666666666,
              "#ed7953"
             ],
             [
              0.7777777777777778,
              "#fb9f3a"
             ],
             [
              0.8888888888888888,
              "#fdca26"
             ],
             [
              1,
              "#f0f921"
             ]
            ],
            "type": "heatmap"
           }
          ],
          "histogram": [
           {
            "marker": {
             "pattern": {
              "fillmode": "overlay",
              "size": 10,
              "solidity": 0.2
             }
            },
            "type": "histogram"
           }
          ],
          "histogram2d": [
           {
            "colorbar": {
             "outlinewidth": 0,
             "ticks": ""
            },
            "colorscale": [
             [
              0,
              "#0d0887"
             ],
             [
              0.1111111111111111,
              "#46039f"
             ],
             [
              0.2222222222222222,
              "#7201a8"
             ],
             [
              0.3333333333333333,
              "#9c179e"
             ],
             [
              0.4444444444444444,
              "#bd3786"
             ],
             [
              0.5555555555555556,
              "#d8576b"
             ],
             [
              0.6666666666666666,
              "#ed7953"
             ],
             [
              0.7777777777777778,
              "#fb9f3a"
             ],
             [
              0.8888888888888888,
              "#fdca26"
             ],
             [
              1,
              "#f0f921"
             ]
            ],
            "type": "histogram2d"
           }
          ],
          "histogram2dcontour": [
           {
            "colorbar": {
             "outlinewidth": 0,
             "ticks": ""
            },
            "colorscale": [
             [
              0,
              "#0d0887"
             ],
             [
              0.1111111111111111,
              "#46039f"
             ],
             [
              0.2222222222222222,
              "#7201a8"
             ],
             [
              0.3333333333333333,
              "#9c179e"
             ],
             [
              0.4444444444444444,
              "#bd3786"
             ],
             [
              0.5555555555555556,
              "#d8576b"
             ],
             [
              0.6666666666666666,
              "#ed7953"
             ],
             [
              0.7777777777777778,
              "#fb9f3a"
             ],
             [
              0.8888888888888888,
              "#fdca26"
             ],
             [
              1,
              "#f0f921"
             ]
            ],
            "type": "histogram2dcontour"
           }
          ],
          "mesh3d": [
           {
            "colorbar": {
             "outlinewidth": 0,
             "ticks": ""
            },
            "type": "mesh3d"
           }
          ],
          "parcoords": [
           {
            "line": {
             "colorbar": {
              "outlinewidth": 0,
              "ticks": ""
             }
            },
            "type": "parcoords"
           }
          ],
          "pie": [
           {
            "automargin": true,
            "type": "pie"
           }
          ],
          "scatter": [
           {
            "fillpattern": {
             "fillmode": "overlay",
             "size": 10,
             "solidity": 0.2
            },
            "type": "scatter"
           }
          ],
          "scatter3d": [
           {
            "line": {
             "colorbar": {
              "outlinewidth": 0,
              "ticks": ""
             }
            },
            "marker": {
             "colorbar": {
              "outlinewidth": 0,
              "ticks": ""
             }
            },
            "type": "scatter3d"
           }
          ],
          "scattercarpet": [
           {
            "marker": {
             "colorbar": {
              "outlinewidth": 0,
              "ticks": ""
             }
            },
            "type": "scattercarpet"
           }
          ],
          "scattergeo": [
           {
            "marker": {
             "colorbar": {
              "outlinewidth": 0,
              "ticks": ""
             }
            },
            "type": "scattergeo"
           }
          ],
          "scattergl": [
           {
            "marker": {
             "colorbar": {
              "outlinewidth": 0,
              "ticks": ""
             }
            },
            "type": "scattergl"
           }
          ],
          "scattermap": [
           {
            "marker": {
             "colorbar": {
              "outlinewidth": 0,
              "ticks": ""
             }
            },
            "type": "scattermap"
           }
          ],
          "scattermapbox": [
           {
            "marker": {
             "colorbar": {
              "outlinewidth": 0,
              "ticks": ""
             }
            },
            "type": "scattermapbox"
           }
          ],
          "scatterpolar": [
           {
            "marker": {
             "colorbar": {
              "outlinewidth": 0,
              "ticks": ""
             }
            },
            "type": "scatterpolar"
           }
          ],
          "scatterpolargl": [
           {
            "marker": {
             "colorbar": {
              "outlinewidth": 0,
              "ticks": ""
             }
            },
            "type": "scatterpolargl"
           }
          ],
          "scatterternary": [
           {
            "marker": {
             "colorbar": {
              "outlinewidth": 0,
              "ticks": ""
             }
            },
            "type": "scatterternary"
           }
          ],
          "surface": [
           {
            "colorbar": {
             "outlinewidth": 0,
             "ticks": ""
            },
            "colorscale": [
             [
              0,
              "#0d0887"
             ],
             [
              0.1111111111111111,
              "#46039f"
             ],
             [
              0.2222222222222222,
              "#7201a8"
             ],
             [
              0.3333333333333333,
              "#9c179e"
             ],
             [
              0.4444444444444444,
              "#bd3786"
             ],
             [
              0.5555555555555556,
              "#d8576b"
             ],
             [
              0.6666666666666666,
              "#ed7953"
             ],
             [
              0.7777777777777778,
              "#fb9f3a"
             ],
             [
              0.8888888888888888,
              "#fdca26"
             ],
             [
              1,
              "#f0f921"
             ]
            ],
            "type": "surface"
           }
          ],
          "table": [
           {
            "cells": {
             "fill": {
              "color": "#EBF0F8"
             },
             "line": {
              "color": "white"
             }
            },
            "header": {
             "fill": {
              "color": "#C8D4E3"
             },
             "line": {
              "color": "white"
             }
            },
            "type": "table"
           }
          ]
         },
         "layout": {
          "annotationdefaults": {
           "arrowcolor": "#2a3f5f",
           "arrowhead": 0,
           "arrowwidth": 1
          },
          "autotypenumbers": "strict",
          "coloraxis": {
           "colorbar": {
            "outlinewidth": 0,
            "ticks": ""
           }
          },
          "colorscale": {
           "diverging": [
            [
             0,
             "#8e0152"
            ],
            [
             0.1,
             "#c51b7d"
            ],
            [
             0.2,
             "#de77ae"
            ],
            [
             0.3,
             "#f1b6da"
            ],
            [
             0.4,
             "#fde0ef"
            ],
            [
             0.5,
             "#f7f7f7"
            ],
            [
             0.6,
             "#e6f5d0"
            ],
            [
             0.7,
             "#b8e186"
            ],
            [
             0.8,
             "#7fbc41"
            ],
            [
             0.9,
             "#4d9221"
            ],
            [
             1,
             "#276419"
            ]
           ],
           "sequential": [
            [
             0,
             "#0d0887"
            ],
            [
             0.1111111111111111,
             "#46039f"
            ],
            [
             0.2222222222222222,
             "#7201a8"
            ],
            [
             0.3333333333333333,
             "#9c179e"
            ],
            [
             0.4444444444444444,
             "#bd3786"
            ],
            [
             0.5555555555555556,
             "#d8576b"
            ],
            [
             0.6666666666666666,
             "#ed7953"
            ],
            [
             0.7777777777777778,
             "#fb9f3a"
            ],
            [
             0.8888888888888888,
             "#fdca26"
            ],
            [
             1,
             "#f0f921"
            ]
           ],
           "sequentialminus": [
            [
             0,
             "#0d0887"
            ],
            [
             0.1111111111111111,
             "#46039f"
            ],
            [
             0.2222222222222222,
             "#7201a8"
            ],
            [
             0.3333333333333333,
             "#9c179e"
            ],
            [
             0.4444444444444444,
             "#bd3786"
            ],
            [
             0.5555555555555556,
             "#d8576b"
            ],
            [
             0.6666666666666666,
             "#ed7953"
            ],
            [
             0.7777777777777778,
             "#fb9f3a"
            ],
            [
             0.8888888888888888,
             "#fdca26"
            ],
            [
             1,
             "#f0f921"
            ]
           ]
          },
          "colorway": [
           "#636efa",
           "#EF553B",
           "#00cc96",
           "#ab63fa",
           "#FFA15A",
           "#19d3f3",
           "#FF6692",
           "#B6E880",
           "#FF97FF",
           "#FECB52"
          ],
          "font": {
           "color": "#2a3f5f"
          },
          "geo": {
           "bgcolor": "white",
           "lakecolor": "white",
           "landcolor": "#E5ECF6",
           "showlakes": true,
           "showland": true,
           "subunitcolor": "white"
          },
          "hoverlabel": {
           "align": "left"
          },
          "hovermode": "closest",
          "mapbox": {
           "style": "light"
          },
          "paper_bgcolor": "white",
          "plot_bgcolor": "#E5ECF6",
          "polar": {
           "angularaxis": {
            "gridcolor": "white",
            "linecolor": "white",
            "ticks": ""
           },
           "bgcolor": "#E5ECF6",
           "radialaxis": {
            "gridcolor": "white",
            "linecolor": "white",
            "ticks": ""
           }
          },
          "scene": {
           "xaxis": {
            "backgroundcolor": "#E5ECF6",
            "gridcolor": "white",
            "gridwidth": 2,
            "linecolor": "white",
            "showbackground": true,
            "ticks": "",
            "zerolinecolor": "white"
           },
           "yaxis": {
            "backgroundcolor": "#E5ECF6",
            "gridcolor": "white",
            "gridwidth": 2,
            "linecolor": "white",
            "showbackground": true,
            "ticks": "",
            "zerolinecolor": "white"
           },
           "zaxis": {
            "backgroundcolor": "#E5ECF6",
            "gridcolor": "white",
            "gridwidth": 2,
            "linecolor": "white",
            "showbackground": true,
            "ticks": "",
            "zerolinecolor": "white"
           }
          },
          "shapedefaults": {
           "line": {
            "color": "#2a3f5f"
           }
          },
          "ternary": {
           "aaxis": {
            "gridcolor": "white",
            "linecolor": "white",
            "ticks": ""
           },
           "baxis": {
            "gridcolor": "white",
            "linecolor": "white",
            "ticks": ""
           },
           "bgcolor": "#E5ECF6",
           "caxis": {
            "gridcolor": "white",
            "linecolor": "white",
            "ticks": ""
           }
          },
          "title": {
           "x": 0.05
          },
          "xaxis": {
           "automargin": true,
           "gridcolor": "white",
           "linecolor": "white",
           "ticks": "",
           "title": {
            "standoff": 15
           },
           "zerolinecolor": "white",
           "zerolinewidth": 2
          },
          "yaxis": {
           "automargin": true,
           "gridcolor": "white",
           "linecolor": "white",
           "ticks": "",
           "title": {
            "standoff": 15
           },
           "zerolinecolor": "white",
           "zerolinewidth": 2
          }
         }
        },
        "xaxis": {
         "anchor": "y",
         "domain": [
          0,
          0.7363
         ],
         "title": {
          "text": "x"
         }
        },
        "xaxis2": {
         "anchor": "y2",
         "domain": [
          0.7413,
          1
         ],
         "matches": "x2",
         "showgrid": false,
         "showline": false,
         "showticklabels": false,
         "ticks": ""
        },
        "yaxis": {
         "anchor": "x",
         "domain": [
          0,
          1
         ],
         "title": {
          "text": "total_time"
         }
        },
        "yaxis2": {
         "anchor": "x2",
         "domain": [
          0,
          1
         ],
         "matches": "y",
         "showgrid": true,
         "showticklabels": false
        }
       }
      }
     },
     "metadata": {},
     "output_type": "display_data"
    },
    {
     "data": {
      "application/vnd.plotly.v1+json": {
       "config": {
        "plotlyServerURL": "https://plot.ly"
       },
       "data": [
        {
         "hovertemplate": "variable=total_time<br>output_tokens=%{x}<br>value=%{y}<extra></extra>",
         "legendgroup": "total_time",
         "marker": {
          "color": "#636efa",
          "symbol": "circle"
         },
         "mode": "markers",
         "name": "total_time",
         "showlegend": true,
         "type": "scattergl",
         "x": {
          "bdata": "JwAeAToAzQE2ANECJwDaACkAYgEfAPAANQB9AQkAjwAZAAEBCQBFASMACAFMAHwBFgA2AR0AYgArAGYBOgCXAS4AxQFDABUCMAChAhoAKQEFAIoAIAAMAA8AJgEMAFkBPwBwATgAJQI1AHkBKQB0AQsANAFDAAYCLgBsAhUAZgHEAB0CjQBrAh8BtwH9AAYDDgFVAocAhwLVABcC8wDKAtgA5AGUAAsDqAD8AQMBZQPEAD4CWwBpAasA+QH/AIIDSgNcBWYDWQfMA3cDDQPNBH0AfgAKAAoAMQCWAgMAcQEyAP0BBAA2AQMACQAtAHMCHACyADAA1gAyAFgCLgCdAAwABwAzAPEBBAAMAQUAxQAXAIUBCgAbAQkAZwA7AH0BKwALATkA+gExAHoBNgDxAScAiwALANQALgB8AQ4AKwEUABkBMQAUAjoAHwI6AOMBJQBoAaoAeAKhADMCegDSAZsALQKUAOUBvQAaA4sAFAO+ABkDrwDzAbUADQS7AEoEmQA5A30A9gBtACoC0gDbAncAsgA8AosEtwAgA8gBHwaRATcCWwGEATsAggJmABgCTQCcAkAAewJBANABPwA/Aj8ADwM2AKoCPQCYAjsARAJTANkCWQDrATcApgFOALgCSwA3Aj8ATgJxANgBRwBVAlEAPAI0AGYCSABNAjUAwAJEAGkCNgBOAjUAswFgAA4CTgDdAjkADAJBAAICTQBcAk0AIwI1ABkCigHcBikBTAU5ARYDKAEvBnUB0wYRAd0EwgG4BFQBZgeDAW4IMAHRBa4BwwQbAXcFOAFbBhMBoAROAU4FWwHDBQ0FlhCPBUwPsASfC+cFwRLqAEYBRwAdAkUA2QFFAIQCSQDzAT4ApQJCAMsBOQA5AjQApgE+ALkBVgDcAUMA7AE3AN0BTABKAi8ASAJNAD8CLQCwASoAQAEyAFMCPABDAikAtwI0AG0COQDqATIAHwI6AK4BRwAnAjAAEAI8AAsCMQA/ASoAvgE8AJUCTQBdATMAYQJcAVYFfQFSBm4BpQVOAfwFhQFABXMBXAWLAWQFZQG7BAEBCwR1AYEGXwEwBmIBtgZ3AW0FXwH5BuoApQPwACgFywM4Cr4EzQtJA7oKpQMkEKAA2AU=",
          "dtype": "i2"
         },
         "xaxis": "x",
         "y": {
          "bdata": "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",
          "dtype": "f8"
         },
         "yaxis": "y"
        },
        {
         "hovertemplate": "<b>LOWESS trendline</b><br><br>variable=total_time<br>output_tokens=%{x}<br>value=%{y} <b>(trend)</b><extra></extra>",
         "legendgroup": "total_time",
         "marker": {
          "color": "#636efa",
          "symbol": "circle"
         },
         "mode": "lines",
         "name": "total_time",
         "showlegend": false,
         "type": "scattergl",
         "x": {
          "bdata": "AwADAAQABAAFAAUABwAJAAkACQAJAAoACgAKAAsACwAMAAwADAAOAA8AFAAVABYAFwAZABoAHAAdAB8AIAAjACUAJwAnACcAKQApACkAKgAqACsAKwAtAC0ALgAuAC4ALgAvADAAMAAwADEAMQAxADEAMgAyADIAMgAzADMANAA0ADQANQA1ADUANQA1ADYANgA2ADYANwA3ADgAOQA5ADkAOQA6ADoAOgA6ADoAOwA7ADsAPAA8ADwAPQA+AD4APwA/AD8APwBAAEEAQQBCAEMAQwBDAEQARQBFAEcARwBHAEgASQBLAEwATABNAE0ATQBNAE0ATgBOAFEAUwBWAFkAWwBgAGIAZgBnAG0AcQB3AHoAfQB9AH4AhwCKAIsAiwCNAI8AlACUAJkAmwCdAKAAoQCoAKoAqwCvALIAsgC1ALcAuwC9AL4AxADEAMUA0gDUANUA1gDYANoA6gDqAPAA8ADzAPYA/QD/AAEBAQEDAQgBCwEMAQ4BEQETARkBGwEbAR4BHwEmASgBKQEpASsBMAE0ATYBNgE4ATkBPwFAAUUBRgFOAU4BVAFZAVsBWwFcAV0BXwFfAWIBYgFlAWYBZgFoAWkBbgFwAXEBcwF0AXUBdQF3AXkBegF8AXwBfQF9AX0BgwGEAYUBhQGKAYsBkQGXAaYBpgGuAa4BsAGzAbcBuQG+AcIBxQHIAcsBzQHQAdIB2AHZAdwB3QHjAeQB5QHqAesB7AHxAfEB8wHzAfkB+gH8Af0BAgIGAgsCDAIOAhACFAIVAhcCGAIZAh0CHQIfAh8CIwIlAicCKgItAjMCNwI3AjkCPAI8Aj4CPwI/AkMCRAJIAkoCTQJOAk4CUwJVAlUCWAJcAmECZgJpAmsCbAJtAnMCeAJ7AoIChAKHApUClgKYApwCoQKlAqoCtwK4AsACygLRAtkC2wLdAgYDCwMNAw8DFAMWAxkDGgMgAzkDSQNKA2UDZgN3A4IDpQOlA8sDzAMLBA0ESgSLBKAEsAS4BLsEvgTDBM0E3QQNBSgFQAVMBU4FVgVcBVwFZAVtBXcFjwWlBcMF0QXYBecF/AUfBi8GMAZSBlsGgQa2BtMG3Ab5BlkHZgduCDgKugqfC80LTA8kEJYQwRI=",
          "dtype": "i2"
         },
         "xaxis": "x",
         "y": {
          "bdata": "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",
          "dtype": "f8"
         },
         "yaxis": "y"
        },
        {
         "hovertemplate": "variable=load_time<br>output_tokens=%{x}<br>value=%{y}<extra></extra>",
         "legendgroup": "load_time",
         "marker": {
          "color": "#EF553B",
          "symbol": "circle"
         },
         "mode": "markers",
         "name": "load_time",
         "showlegend": true,
         "type": "scattergl",
         "x": {
          "bdata": "JwAeAToAzQE2ANECJwDaACkAYgEfAPAANQB9AQkAjwAZAAEBCQBFASMACAFMAHwBFgA2AR0AYgArAGYBOgCXAS4AxQFDABUCMAChAhoAKQEFAIoAIAAMAA8AJgEMAFkBPwBwATgAJQI1AHkBKQB0AQsANAFDAAYCLgBsAhUAZgHEAB0CjQBrAh8BtwH9AAYDDgFVAocAhwLVABcC8wDKAtgA5AGUAAsDqAD8AQMBZQPEAD4CWwBpAasA+QH/AIIDSgNcBWYDWQfMA3cDDQPNBH0AfgAKAAoAMQCWAgMAcQEyAP0BBAA2AQMACQAtAHMCHACyADAA1gAyAFgCLgCdAAwABwAzAPEBBAAMAQUAxQAXAIUBCgAbAQkAZwA7AH0BKwALATkA+gExAHoBNgDxAScAiwALANQALgB8AQ4AKwEUABkBMQAUAjoAHwI6AOMBJQBoAaoAeAKhADMCegDSAZsALQKUAOUBvQAaA4sAFAO+ABkDrwDzAbUADQS7AEoEmQA5A30A9gBtACoC0gDbAncAsgA8AosEtwAgA8gBHwaRATcCWwGEATsAggJmABgCTQCcAkAAewJBANABPwA/Aj8ADwM2AKoCPQCYAjsARAJTANkCWQDrATcApgFOALgCSwA3Aj8ATgJxANgBRwBVAlEAPAI0AGYCSABNAjUAwAJEAGkCNgBOAjUAswFgAA4CTgDdAjkADAJBAAICTQBcAk0AIwI1ABkCigHcBikBTAU5ARYDKAEvBnUB0wYRAd0EwgG4BFQBZgeDAW4IMAHRBa4BwwQbAXcFOAFbBhMBoAROAU4FWwHDBQ0FlhCPBUwPsASfC+cFwRLqAEYBRwAdAkUA2QFFAIQCSQDzAT4ApQJCAMsBOQA5AjQApgE+ALkBVgDcAUMA7AE3AN0BTABKAi8ASAJNAD8CLQCwASoAQAEyAFMCPABDAikAtwI0AG0COQDqATIAHwI6AK4BRwAnAjAAEAI8AAsCMQA/ASoAvgE8AJUCTQBdATMAYQJcAVYFfQFSBm4BpQVOAfwFhQFABXMBXAWLAWQFZQG7BAEBCwR1AYEGXwEwBmIBtgZ3AW0FXwH5BuoApQPwACgFywM4Cr4EzQtJA7oKpQMkEKAA2AU=",
          "dtype": "i2"
         },
         "xaxis": "x",
         "y": {
          "bdata": "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",
          "dtype": "f8"
         },
         "yaxis": "y"
        },
        {
         "hovertemplate": "<b>LOWESS trendline</b><br><br>variable=load_time<br>output_tokens=%{x}<br>value=%{y} <b>(trend)</b><extra></extra>",
         "legendgroup": "load_time",
         "marker": {
          "color": "#EF553B",
          "symbol": "circle"
         },
         "mode": "lines",
         "name": "load_time",
         "showlegend": false,
         "type": "scattergl",
         "x": {
          "bdata": "AwADAAQABAAFAAUABwAJAAkACQAJAAoACgAKAAsACwAMAAwADAAOAA8AFAAVABYAFwAZABoAHAAdAB8AIAAjACUAJwAnACcAKQApACkAKgAqACsAKwAtAC0ALgAuAC4ALgAvADAAMAAwADEAMQAxADEAMgAyADIAMgAzADMANAA0ADQANQA1ADUANQA1ADYANgA2ADYANwA3ADgAOQA5ADkAOQA6ADoAOgA6ADoAOwA7ADsAPAA8ADwAPQA+AD4APwA/AD8APwBAAEEAQQBCAEMAQwBDAEQARQBFAEcARwBHAEgASQBLAEwATABNAE0ATQBNAE0ATgBOAFEAUwBWAFkAWwBgAGIAZgBnAG0AcQB3AHoAfQB9AH4AhwCKAIsAiwCNAI8AlACUAJkAmwCdAKAAoQCoAKoAqwCvALIAsgC1ALcAuwC9AL4AxADEAMUA0gDUANUA1gDYANoA6gDqAPAA8ADzAPYA/QD/AAEBAQEDAQgBCwEMAQ4BEQETARkBGwEbAR4BHwEmASgBKQEpASsBMAE0ATYBNgE4ATkBPwFAAUUBRgFOAU4BVAFZAVsBWwFcAV0BXwFfAWIBYgFlAWYBZgFoAWkBbgFwAXEBcwF0AXUBdQF3AXkBegF8AXwBfQF9AX0BgwGEAYUBhQGKAYsBkQGXAaYBpgGuAa4BsAGzAbcBuQG+AcIBxQHIAcsBzQHQAdIB2AHZAdwB3QHjAeQB5QHqAesB7AHxAfEB8wHzAfkB+gH8Af0BAgIGAgsCDAIOAhACFAIVAhcCGAIZAh0CHQIfAh8CIwIlAicCKgItAjMCNwI3AjkCPAI8Aj4CPwI/AkMCRAJIAkoCTQJOAk4CUwJVAlUCWAJcAmECZgJpAmsCbAJtAnMCeAJ7AoIChAKHApUClgKYApwCoQKlAqoCtwK4AsACygLRAtkC2wLdAgYDCwMNAw8DFAMWAxkDGgMgAzkDSQNKA2UDZgN3A4IDpQOlA8sDzAMLBA0ESgSLBKAEsAS4BLsEvgTDBM0E3QQNBSgFQAVMBU4FVgVcBVwFZAVtBXcFjwWlBcMF0QXYBecF/AUfBi8GMAZSBlsGgQa2BtMG3Ab5BlkHZgduCDgKugqfC80LTA8kEJYQwRI=",
          "dtype": "i2"
         },
         "xaxis": "x",
         "y": {
          "bdata": "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",
          "dtype": "f8"
         },
         "yaxis": "y"
        },
        {
         "hovertemplate": "variable=prompt_eval_time<br>output_tokens=%{x}<br>value=%{y}<extra></extra>",
         "legendgroup": "prompt_eval_time",
         "marker": {
          "color": "#00cc96",
          "symbol": "circle"
         },
         "mode": "markers",
         "name": "prompt_eval_time",
         "showlegend": true,
         "type": "scattergl",
         "x": {
          "bdata": "JwAeAToAzQE2ANECJwDaACkAYgEfAPAANQB9AQkAjwAZAAEBCQBFASMACAFMAHwBFgA2AR0AYgArAGYBOgCXAS4AxQFDABUCMAChAhoAKQEFAIoAIAAMAA8AJgEMAFkBPwBwATgAJQI1AHkBKQB0AQsANAFDAAYCLgBsAhUAZgHEAB0CjQBrAh8BtwH9AAYDDgFVAocAhwLVABcC8wDKAtgA5AGUAAsDqAD8AQMBZQPEAD4CWwBpAasA+QH/AIIDSgNcBWYDWQfMA3cDDQPNBH0AfgAKAAoAMQCWAgMAcQEyAP0BBAA2AQMACQAtAHMCHACyADAA1gAyAFgCLgCdAAwABwAzAPEBBAAMAQUAxQAXAIUBCgAbAQkAZwA7AH0BKwALATkA+gExAHoBNgDxAScAiwALANQALgB8AQ4AKwEUABkBMQAUAjoAHwI6AOMBJQBoAaoAeAKhADMCegDSAZsALQKUAOUBvQAaA4sAFAO+ABkDrwDzAbUADQS7AEoEmQA5A30A9gBtACoC0gDbAncAsgA8AosEtwAgA8gBHwaRATcCWwGEATsAggJmABgCTQCcAkAAewJBANABPwA/Aj8ADwM2AKoCPQCYAjsARAJTANkCWQDrATcApgFOALgCSwA3Aj8ATgJxANgBRwBVAlEAPAI0AGYCSABNAjUAwAJEAGkCNgBOAjUAswFgAA4CTgDdAjkADAJBAAICTQBcAk0AIwI1ABkCigHcBikBTAU5ARYDKAEvBnUB0wYRAd0EwgG4BFQBZgeDAW4IMAHRBa4BwwQbAXcFOAFbBhMBoAROAU4FWwHDBQ0FlhCPBUwPsASfC+cFwRLqAEYBRwAdAkUA2QFFAIQCSQDzAT4ApQJCAMsBOQA5AjQApgE+ALkBVgDcAUMA7AE3AN0BTABKAi8ASAJNAD8CLQCwASoAQAEyAFMCPABDAikAtwI0AG0COQDqATIAHwI6AK4BRwAnAjAAEAI8AAsCMQA/ASoAvgE8AJUCTQBdATMAYQJcAVYFfQFSBm4BpQVOAfwFhQFABXMBXAWLAWQFZQG7BAEBCwR1AYEGXwEwBmIBtgZ3AW0FXwH5BuoApQPwACgFywM4Cr4EzQtJA7oKpQMkEKAA2AU=",
          "dtype": "i2"
         },
         "xaxis": "x",
         "y": {
          "bdata": "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",
          "dtype": "f8"
         },
         "yaxis": "y"
        },
        {
         "hovertemplate": "<b>LOWESS trendline</b><br><br>variable=prompt_eval_time<br>output_tokens=%{x}<br>value=%{y} <b>(trend)</b><extra></extra>",
         "legendgroup": "prompt_eval_time",
         "marker": {
          "color": "#00cc96",
          "symbol": "circle"
         },
         "mode": "lines",
         "name": "prompt_eval_time",
         "showlegend": false,
         "type": "scattergl",
         "x": {
          "bdata": "AwADAAQABAAFAAUABwAJAAkACQAJAAoACgAKAAsACwAMAAwADAAOAA8AFAAVABYAFwAZABoAHAAdAB8AIAAjACUAJwAnACcAKQApACkAKgAqACsAKwAtAC0ALgAuAC4ALgAvADAAMAAwADEAMQAxADEAMgAyADIAMgAzADMANAA0ADQANQA1ADUANQA1ADYANgA2ADYANwA3ADgAOQA5ADkAOQA6ADoAOgA6ADoAOwA7ADsAPAA8ADwAPQA+AD4APwA/AD8APwBAAEEAQQBCAEMAQwBDAEQARQBFAEcARwBHAEgASQBLAEwATABNAE0ATQBNAE0ATgBOAFEAUwBWAFkAWwBgAGIAZgBnAG0AcQB3AHoAfQB9AH4AhwCKAIsAiwCNAI8AlACUAJkAmwCdAKAAoQCoAKoAqwCvALIAsgC1ALcAuwC9AL4AxADEAMUA0gDUANUA1gDYANoA6gDqAPAA8ADzAPYA/QD/AAEBAQEDAQgBCwEMAQ4BEQETARkBGwEbAR4BHwEmASgBKQEpASsBMAE0ATYBNgE4ATkBPwFAAUUBRgFOAU4BVAFZAVsBWwFcAV0BXwFfAWIBYgFlAWYBZgFoAWkBbgFwAXEBcwF0AXUBdQF3AXkBegF8AXwBfQF9AX0BgwGEAYUBhQGKAYsBkQGXAaYBpgGuAa4BsAGzAbcBuQG+AcIBxQHIAcsBzQHQAdIB2AHZAdwB3QHjAeQB5QHqAesB7AHxAfEB8wHzAfkB+gH8Af0BAgIGAgsCDAIOAhACFAIVAhcCGAIZAh0CHQIfAh8CIwIlAicCKgItAjMCNwI3AjkCPAI8Aj4CPwI/AkMCRAJIAkoCTQJOAk4CUwJVAlUCWAJcAmECZgJpAmsCbAJtAnMCeAJ7AoIChAKHApUClgKYApwCoQKlAqoCtwK4AsACygLRAtkC2wLdAgYDCwMNAw8DFAMWAxkDGgMgAzkDSQNKA2UDZgN3A4IDpQOlA8sDzAMLBA0ESgSLBKAEsAS4BLsEvgTDBM0E3QQNBSgFQAVMBU4FVgVcBVwFZAVtBXcFjwWlBcMF0QXYBecF/AUfBi8GMAZSBlsGgQa2BtMG3Ab5BlkHZgduCDgKugqfC80LTA8kEJYQwRI=",
          "dtype": "i2"
         },
         "xaxis": "x",
         "y": {
          "bdata": "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",
          "dtype": "f8"
         },
         "yaxis": "y"
        },
        {
         "hovertemplate": "variable=output_eval_time<br>output_tokens=%{x}<br>value=%{y}<extra></extra>",
         "legendgroup": "output_eval_time",
         "marker": {
          "color": "#ab63fa",
          "symbol": "circle"
         },
         "mode": "markers",
         "name": "output_eval_time",
         "showlegend": true,
         "type": "scattergl",
         "x": {
          "bdata": "JwAeAToAzQE2ANECJwDaACkAYgEfAPAANQB9AQkAjwAZAAEBCQBFASMACAFMAHwBFgA2AR0AYgArAGYBOgCXAS4AxQFDABUCMAChAhoAKQEFAIoAIAAMAA8AJgEMAFkBPwBwATgAJQI1AHkBKQB0AQsANAFDAAYCLgBsAhUAZgHEAB0CjQBrAh8BtwH9AAYDDgFVAocAhwLVABcC8wDKAtgA5AGUAAsDqAD8AQMBZQPEAD4CWwBpAasA+QH/AIIDSgNcBWYDWQfMA3cDDQPNBH0AfgAKAAoAMQCWAgMAcQEyAP0BBAA2AQMACQAtAHMCHACyADAA1gAyAFgCLgCdAAwABwAzAPEBBAAMAQUAxQAXAIUBCgAbAQkAZwA7AH0BKwALATkA+gExAHoBNgDxAScAiwALANQALgB8AQ4AKwEUABkBMQAUAjoAHwI6AOMBJQBoAaoAeAKhADMCegDSAZsALQKUAOUBvQAaA4sAFAO+ABkDrwDzAbUADQS7AEoEmQA5A30A9gBtACoC0gDbAncAsgA8AosEtwAgA8gBHwaRATcCWwGEATsAggJmABgCTQCcAkAAewJBANABPwA/Aj8ADwM2AKoCPQCYAjsARAJTANkCWQDrATcApgFOALgCSwA3Aj8ATgJxANgBRwBVAlEAPAI0AGYCSABNAjUAwAJEAGkCNgBOAjUAswFgAA4CTgDdAjkADAJBAAICTQBcAk0AIwI1ABkCigHcBikBTAU5ARYDKAEvBnUB0wYRAd0EwgG4BFQBZgeDAW4IMAHRBa4BwwQbAXcFOAFbBhMBoAROAU4FWwHDBQ0FlhCPBUwPsASfC+cFwRLqAEYBRwAdAkUA2QFFAIQCSQDzAT4ApQJCAMsBOQA5AjQApgE+ALkBVgDcAUMA7AE3AN0BTABKAi8ASAJNAD8CLQCwASoAQAEyAFMCPABDAikAtwI0AG0COQDqATIAHwI6AK4BRwAnAjAAEAI8AAsCMQA/ASoAvgE8AJUCTQBdATMAYQJcAVYFfQFSBm4BpQVOAfwFhQFABXMBXAWLAWQFZQG7BAEBCwR1AYEGXwEwBmIBtgZ3AW0FXwH5BuoApQPwACgFywM4Cr4EzQtJA7oKpQMkEKAA2AU=",
          "dtype": "i2"
         },
         "xaxis": "x",
         "y": {
          "bdata": "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",
          "dtype": "f8"
         },
         "yaxis": "y"
        },
        {
         "hovertemplate": "<b>LOWESS trendline</b><br><br>variable=output_eval_time<br>output_tokens=%{x}<br>value=%{y} <b>(trend)</b><extra></extra>",
         "legendgroup": "output_eval_time",
         "marker": {
          "color": "#ab63fa",
          "symbol": "circle"
         },
         "mode": "lines",
         "name": "output_eval_time",
         "showlegend": false,
         "type": "scattergl",
         "x": {
          "bdata": "AwADAAQABAAFAAUABwAJAAkACQAJAAoACgAKAAsACwAMAAwADAAOAA8AFAAVABYAFwAZABoAHAAdAB8AIAAjACUAJwAnACcAKQApACkAKgAqACsAKwAtAC0ALgAuAC4ALgAvADAAMAAwADEAMQAxADEAMgAyADIAMgAzADMANAA0ADQANQA1ADUANQA1ADYANgA2ADYANwA3ADgAOQA5ADkAOQA6ADoAOgA6ADoAOwA7ADsAPAA8ADwAPQA+AD4APwA/AD8APwBAAEEAQQBCAEMAQwBDAEQARQBFAEcARwBHAEgASQBLAEwATABNAE0ATQBNAE0ATgBOAFEAUwBWAFkAWwBgAGIAZgBnAG0AcQB3AHoAfQB9AH4AhwCKAIsAiwCNAI8AlACUAJkAmwCdAKAAoQCoAKoAqwCvALIAsgC1ALcAuwC9AL4AxADEAMUA0gDUANUA1gDYANoA6gDqAPAA8ADzAPYA/QD/AAEBAQEDAQgBCwEMAQ4BEQETARkBGwEbAR4BHwEmASgBKQEpASsBMAE0ATYBNgE4ATkBPwFAAUUBRgFOAU4BVAFZAVsBWwFcAV0BXwFfAWIBYgFlAWYBZgFoAWkBbgFwAXEBcwF0AXUBdQF3AXkBegF8AXwBfQF9AX0BgwGEAYUBhQGKAYsBkQGXAaYBpgGuAa4BsAGzAbcBuQG+AcIBxQHIAcsBzQHQAdIB2AHZAdwB3QHjAeQB5QHqAesB7AHxAfEB8wHzAfkB+gH8Af0BAgIGAgsCDAIOAhACFAIVAhcCGAIZAh0CHQIfAh8CIwIlAicCKgItAjMCNwI3AjkCPAI8Aj4CPwI/AkMCRAJIAkoCTQJOAk4CUwJVAlUCWAJcAmECZgJpAmsCbAJtAnMCeAJ7AoIChAKHApUClgKYApwCoQKlAqoCtwK4AsACygLRAtkC2wLdAgYDCwMNAw8DFAMWAxkDGgMgAzkDSQNKA2UDZgN3A4IDpQOlA8sDzAMLBA0ESgSLBKAEsAS4BLsEvgTDBM0E3QQNBSgFQAVMBU4FVgVcBVwFZAVtBXcFjwWlBcMF0QXYBecF/AUfBi8GMAZSBlsGgQa2BtMG3Ab5BlkHZgduCDgKugqfC80LTA8kEJYQwRI=",
          "dtype": "i2"
         },
         "xaxis": "x",
         "y": {
          "bdata": "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",
          "dtype": "f8"
         },
         "yaxis": "y"
        }
       ],
       "layout": {
        "legend": {
         "title": {
          "text": "variable"
         },
         "tracegroupgap": 0
        },
        "margin": {
         "t": 60
        },
        "template": {
         "data": {
          "bar": [
           {
            "error_x": {
             "color": "#2a3f5f"
            },
            "error_y": {
             "color": "#2a3f5f"
            },
            "marker": {
             "line": {
              "color": "#E5ECF6",
              "width": 0.5
             },
             "pattern": {
              "fillmode": "overlay",
              "size": 10,
              "solidity": 0.2
             }
            },
            "type": "bar"
           }
          ],
          "barpolar": [
           {
            "marker": {
             "line": {
              "color": "#E5ECF6",
              "width": 0.5
             },
             "pattern": {
              "fillmode": "overlay",
              "size": 10,
              "solidity": 0.2
             }
            },
            "type": "barpolar"
           }
          ],
          "carpet": [
           {
            "aaxis": {
             "endlinecolor": "#2a3f5f",
             "gridcolor": "white",
             "linecolor": "white",
             "minorgridcolor": "white",
             "startlinecolor": "#2a3f5f"
            },
            "baxis": {
             "endlinecolor": "#2a3f5f",
             "gridcolor": "white",
             "linecolor": "white",
             "minorgridcolor": "white",
             "startlinecolor": "#2a3f5f"
            },
            "type": "carpet"
           }
          ],
          "choropleth": [
           {
            "colorbar": {
             "outlinewidth": 0,
             "ticks": ""
            },
            "type": "choropleth"
           }
          ],
          "contour": [
           {
            "colorbar": {
             "outlinewidth": 0,
             "ticks": ""
            },
            "colorscale": [
             [
              0,
              "#0d0887"
             ],
             [
              0.1111111111111111,
              "#46039f"
             ],
             [
              0.2222222222222222,
              "#7201a8"
             ],
             [
              0.3333333333333333,
              "#9c179e"
             ],
             [
              0.4444444444444444,
              "#bd3786"
             ],
             [
              0.5555555555555556,
              "#d8576b"
             ],
             [
              0.6666666666666666,
              "#ed7953"
             ],
             [
              0.7777777777777778,
              "#fb9f3a"
             ],
             [
              0.8888888888888888,
              "#fdca26"
             ],
             [
              1,
              "#f0f921"
             ]
            ],
            "type": "contour"
           }
          ],
          "contourcarpet": [
           {
            "colorbar": {
             "outlinewidth": 0,
             "ticks": ""
            },
            "type": "contourcarpet"
           }
          ],
          "heatmap": [
           {
            "colorbar": {
             "outlinewidth": 0,
             "ticks": ""
            },
            "colorscale": [
             [
              0,
              "#0d0887"
             ],
             [
              0.1111111111111111,
              "#46039f"
             ],
             [
              0.2222222222222222,
              "#7201a8"
             ],
             [
              0.3333333333333333,
              "#9c179e"
             ],
             [
              0.4444444444444444,
              "#bd3786"
             ],
             [
              0.5555555555555556,
              "#d8576b"
             ],
             [
              0.6666666666666666,
              "#ed7953"
             ],
             [
              0.7777777777777778,
              "#fb9f3a"
             ],
             [
              0.8888888888888888,
              "#fdca26"
             ],
             [
              1,
              "#f0f921"
             ]
            ],
            "type": "heatmap"
           }
          ],
          "histogram": [
           {
            "marker": {
             "pattern": {
              "fillmode": "overlay",
              "size": 10,
              "solidity": 0.2
             }
            },
            "type": "histogram"
           }
          ],
          "histogram2d": [
           {
            "colorbar": {
             "outlinewidth": 0,
             "ticks": ""
            },
            "colorscale": [
             [
              0,
              "#0d0887"
             ],
             [
              0.1111111111111111,
              "#46039f"
             ],
             [
              0.2222222222222222,
              "#7201a8"
             ],
             [
              0.3333333333333333,
              "#9c179e"
             ],
             [
              0.4444444444444444,
              "#bd3786"
             ],
             [
              0.5555555555555556,
              "#d8576b"
             ],
             [
              0.6666666666666666,
              "#ed7953"
             ],
             [
              0.7777777777777778,
              "#fb9f3a"
             ],
             [
              0.8888888888888888,
              "#fdca26"
             ],
             [
              1,
              "#f0f921"
             ]
            ],
            "type": "histogram2d"
           }
          ],
          "histogram2dcontour": [
           {
            "colorbar": {
             "outlinewidth": 0,
             "ticks": ""
            },
            "colorscale": [
             [
              0,
              "#0d0887"
             ],
             [
              0.1111111111111111,
              "#46039f"
             ],
             [
              0.2222222222222222,
              "#7201a8"
             ],
             [
              0.3333333333333333,
              "#9c179e"
             ],
             [
              0.4444444444444444,
              "#bd3786"
             ],
             [
              0.5555555555555556,
              "#d8576b"
             ],
             [
              0.6666666666666666,
              "#ed7953"
             ],
             [
              0.7777777777777778,
              "#fb9f3a"
             ],
             [
              0.8888888888888888,
              "#fdca26"
             ],
             [
              1,
              "#f0f921"
             ]
            ],
            "type": "histogram2dcontour"
           }
          ],
          "mesh3d": [
           {
            "colorbar": {
             "outlinewidth": 0,
             "ticks": ""
            },
            "type": "mesh3d"
           }
          ],
          "parcoords": [
           {
            "line": {
             "colorbar": {
              "outlinewidth": 0,
              "ticks": ""
             }
            },
            "type": "parcoords"
           }
          ],
          "pie": [
           {
            "automargin": true,
            "type": "pie"
           }
          ],
          "scatter": [
           {
            "fillpattern": {
             "fillmode": "overlay",
             "size": 10,
             "solidity": 0.2
            },
            "type": "scatter"
           }
          ],
          "scatter3d": [
           {
            "line": {
             "colorbar": {
              "outlinewidth": 0,
              "ticks": ""
             }
            },
            "marker": {
             "colorbar": {
              "outlinewidth": 0,
              "ticks": ""
             }
            },
            "type": "scatter3d"
           }
          ],
          "scattercarpet": [
           {
            "marker": {
             "colorbar": {
              "outlinewidth": 0,
              "ticks": ""
             }
            },
            "type": "scattercarpet"
           }
          ],
          "scattergeo": [
           {
            "marker": {
             "colorbar": {
              "outlinewidth": 0,
              "ticks": ""
             }
            },
            "type": "scattergeo"
           }
          ],
          "scattergl": [
           {
            "marker": {
             "colorbar": {
              "outlinewidth": 0,
              "ticks": ""
             }
            },
            "type": "scattergl"
           }
          ],
          "scattermap": [
           {
            "marker": {
             "colorbar": {
              "outlinewidth": 0,
              "ticks": ""
             }
            },
            "type": "scattermap"
           }
          ],
          "scattermapbox": [
           {
            "marker": {
             "colorbar": {
              "outlinewidth": 0,
              "ticks": ""
             }
            },
            "type": "scattermapbox"
           }
          ],
          "scatterpolar": [
           {
            "marker": {
             "colorbar": {
              "outlinewidth": 0,
              "ticks": ""
             }
            },
            "type": "scatterpolar"
           }
          ],
          "scatterpolargl": [
           {
            "marker": {
             "colorbar": {
              "outlinewidth": 0,
              "ticks": ""
             }
            },
            "type": "scatterpolargl"
           }
          ],
          "scatterternary": [
           {
            "marker": {
             "colorbar": {
              "outlinewidth": 0,
              "ticks": ""
             }
            },
            "type": "scatterternary"
           }
          ],
          "surface": [
           {
            "colorbar": {
             "outlinewidth": 0,
             "ticks": ""
            },
            "colorscale": [
             [
              0,
              "#0d0887"
             ],
             [
              0.1111111111111111,
              "#46039f"
             ],
             [
              0.2222222222222222,
              "#7201a8"
             ],
             [
              0.3333333333333333,
              "#9c179e"
             ],
             [
              0.4444444444444444,
              "#bd3786"
             ],
             [
              0.5555555555555556,
              "#d8576b"
             ],
             [
              0.6666666666666666,
              "#ed7953"
             ],
             [
              0.7777777777777778,
              "#fb9f3a"
             ],
             [
              0.8888888888888888,
              "#fdca26"
             ],
             [
              1,
              "#f0f921"
             ]
            ],
            "type": "surface"
           }
          ],
          "table": [
           {
            "cells": {
             "fill": {
              "color": "#EBF0F8"
             },
             "line": {
              "color": "white"
             }
            },
            "header": {
             "fill": {
              "color": "#C8D4E3"
             },
             "line": {
              "color": "white"
             }
            },
            "type": "table"
           }
          ]
         },
         "layout": {
          "annotationdefaults": {
           "arrowcolor": "#2a3f5f",
           "arrowhead": 0,
           "arrowwidth": 1
          },
          "autotypenumbers": "strict",
          "coloraxis": {
           "colorbar": {
            "outlinewidth": 0,
            "ticks": ""
           }
          },
          "colorscale": {
           "diverging": [
            [
             0,
             "#8e0152"
            ],
            [
             0.1,
             "#c51b7d"
            ],
            [
             0.2,
             "#de77ae"
            ],
            [
             0.3,
             "#f1b6da"
            ],
            [
             0.4,
             "#fde0ef"
            ],
            [
             0.5,
             "#f7f7f7"
            ],
            [
             0.6,
             "#e6f5d0"
            ],
            [
             0.7,
             "#b8e186"
            ],
            [
             0.8,
             "#7fbc41"
            ],
            [
             0.9,
             "#4d9221"
            ],
            [
             1,
             "#276419"
            ]
           ],
           "sequential": [
            [
             0,
             "#0d0887"
            ],
            [
             0.1111111111111111,
             "#46039f"
            ],
            [
             0.2222222222222222,
             "#7201a8"
            ],
            [
             0.3333333333333333,
             "#9c179e"
            ],
            [
             0.4444444444444444,
             "#bd3786"
            ],
            [
             0.5555555555555556,
             "#d8576b"
            ],
            [
             0.6666666666666666,
             "#ed7953"
            ],
            [
             0.7777777777777778,
             "#fb9f3a"
            ],
            [
             0.8888888888888888,
             "#fdca26"
            ],
            [
             1,
             "#f0f921"
            ]
           ],
           "sequentialminus": [
            [
             0,
             "#0d0887"
            ],
            [
             0.1111111111111111,
             "#46039f"
            ],
            [
             0.2222222222222222,
             "#7201a8"
            ],
            [
             0.3333333333333333,
             "#9c179e"
            ],
            [
             0.4444444444444444,
             "#bd3786"
            ],
            [
             0.5555555555555556,
             "#d8576b"
            ],
            [
             0.6666666666666666,
             "#ed7953"
            ],
            [
             0.7777777777777778,
             "#fb9f3a"
            ],
            [
             0.8888888888888888,
             "#fdca26"
            ],
            [
             1,
             "#f0f921"
            ]
           ]
          },
          "colorway": [
           "#636efa",
           "#EF553B",
           "#00cc96",
           "#ab63fa",
           "#FFA15A",
           "#19d3f3",
           "#FF6692",
           "#B6E880",
           "#FF97FF",
           "#FECB52"
          ],
          "font": {
           "color": "#2a3f5f"
          },
          "geo": {
           "bgcolor": "white",
           "lakecolor": "white",
           "landcolor": "#E5ECF6",
           "showlakes": true,
           "showland": true,
           "subunitcolor": "white"
          },
          "hoverlabel": {
           "align": "left"
          },
          "hovermode": "closest",
          "mapbox": {
           "style": "light"
          },
          "paper_bgcolor": "white",
          "plot_bgcolor": "#E5ECF6",
          "polar": {
           "angularaxis": {
            "gridcolor": "white",
            "linecolor": "white",
            "ticks": ""
           },
           "bgcolor": "#E5ECF6",
           "radialaxis": {
            "gridcolor": "white",
            "linecolor": "white",
            "ticks": ""
           }
          },
          "scene": {
           "xaxis": {
            "backgroundcolor": "#E5ECF6",
            "gridcolor": "white",
            "gridwidth": 2,
            "linecolor": "white",
            "showbackground": true,
            "ticks": "",
            "zerolinecolor": "white"
           },
           "yaxis": {
            "backgroundcolor": "#E5ECF6",
            "gridcolor": "white",
            "gridwidth": 2,
            "linecolor": "white",
            "showbackground": true,
            "ticks": "",
            "zerolinecolor": "white"
           },
           "zaxis": {
            "backgroundcolor": "#E5ECF6",
            "gridcolor": "white",
            "gridwidth": 2,
            "linecolor": "white",
            "showbackground": true,
            "ticks": "",
            "zerolinecolor": "white"
           }
          },
          "shapedefaults": {
           "line": {
            "color": "#2a3f5f"
           }
          },
          "ternary": {
           "aaxis": {
            "gridcolor": "white",
            "linecolor": "white",
            "ticks": ""
           },
           "baxis": {
            "gridcolor": "white",
            "linecolor": "white",
            "ticks": ""
           },
           "bgcolor": "#E5ECF6",
           "caxis": {
            "gridcolor": "white",
            "linecolor": "white",
            "ticks": ""
           }
          },
          "title": {
           "x": 0.05
          },
          "xaxis": {
           "automargin": true,
           "gridcolor": "white",
           "linecolor": "white",
           "ticks": "",
           "title": {
            "standoff": 15
           },
           "zerolinecolor": "white",
           "zerolinewidth": 2
          },
          "yaxis": {
           "automargin": true,
           "gridcolor": "white",
           "linecolor": "white",
           "ticks": "",
           "title": {
            "standoff": 15
           },
           "zerolinecolor": "white",
           "zerolinewidth": 2
          }
         }
        },
        "xaxis": {
         "anchor": "y",
         "domain": [
          0,
          1
         ],
         "title": {
          "text": "output_tokens"
         }
        },
        "yaxis": {
         "anchor": "x",
         "domain": [
          0,
          1
         ],
         "title": {
          "text": "value"
         }
        }
       }
      }
     },
     "metadata": {},
     "output_type": "display_data"
    },
    {
     "data": {
      "application/vnd.plotly.v1+json": {
       "config": {
        "plotlyServerURL": "https://plot.ly"
       },
       "data": [
        {
         "hovertemplate": "variable=total_time<br>input_tokens=%{x}<br>value=%{y}<extra></extra>",
         "legendgroup": "total_time",
         "marker": {
          "color": "#636efa",
          "symbol": "circle"
         },
         "mode": "markers",
         "name": "total_time",
         "showlegend": true,
         "type": "scattergl",
         "x": {
          "bdata": "WABbAFcAWgBMAE8AWQBcAE0AUABUAFcAUABTAFcAWgBWAFkAUgBVAFkAXABOAFEASwBOAFgAWwBRAFQAUQBUAE4AUQBPAFIAUABTAFYAWQBRAFQAUQBUAFsAXgBUAFcATwBSAFIAVQBRAFQAUgBVAFQAVwBOAFEAVABXAFQAVwD7Af4B8wH2AfMB9gHtAfAB+wH+AfMB9gHzAfYB7QHwAfsB/gHzAfYB8wH2Ae0B8AH7Af4B8wH2AfMB9gHtAfABiQeMB4kHjAeJB4wHiQeMB98d4h0iACUAIAAjACAAIwAhACQAIQAkACEAJAAgACMAIwAmACQAJwAgACMAIwAmACMAJgAhACQAIAAjACAAIwAiACUAIQAkACMAJgAfACIAIQAkACAAIwAfACIAIAAjACIAJQAlACgAIAAjACMAJgAhACQAIAAjACAAIwAgACMAHwAiAGcAagBsAG8AZABnAGcAagBpAGwAZQBoAGMAZgBnAGoAZQBoAGQAZwBnAGoAYABjAGUAaABoAGsAYQBkAGoAbQBZAVwBUwFWAUsBTgFTAVYBBQUIBWcAagBUAFcAXQBgAFYAWQBTAFYAUwBWAE8AUgBWAFkAWABbAE8AUgBUAFcAUwBWAFcAWgBQAFMATgBRAEsATgBSAFUATQBQAFQAVwBSAFUAWwBeAE8AUgBNAFAASwBOAEgASwBRAFQAUABTAE4AUQBLAE4ATABPAEoATQBLAE4AGAIbAu0B8AHmAekBwgHFARgCGwLtAfAB5gHpAcIBxQEYAhsC7QHwAeYB6QHCAcUBGAIbAu0B8AHmAekBwgHFAWgHawdoB2sHaAdrB2gHawdbHV4dJgApACEAJAAlACgAIgAlACIAJQAkACcAIQAkACEAJAAiACUAIQAkACQAJwAkACcAIwAmACQAJwAjACYALQAwACQAJwAiACUAIgAlACEAJAAiACUAIwAmACEAJAAkACcAJQAoACIAJQAkACcAIwAmACMAJgAkACcAJwAqACMAJgB1AHgAgQCEAHIAdQB+AIEAewB+AHcAegB0AHcAegB9AHkAfAB2AHkAcgB1AH0AgAB1AHgAbgBxAHUAeAB4AHsAoQGkAZsBngGZAZwBiwGOARsGHgY=",
          "dtype": "i2"
         },
         "xaxis": "x",
         "y": {
          "bdata": "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",
          "dtype": "f8"
         },
         "yaxis": "y"
        },
        {
         "hovertemplate": "<b>LOWESS trendline</b><br><br>variable=total_time<br>input_tokens=%{x}<br>value=%{y} <b>(trend)</b><extra></extra>",
         "legendgroup": "total_time",
         "marker": {
          "color": "#636efa",
          "symbol": "circle"
         },
         "mode": "lines",
         "name": "total_time",
         "showlegend": false,
         "type": "scattergl",
         "x": {
          "bdata": "HwAfAB8AIAAgACAAIAAgACAAIAAgACAAIAAgACAAIQAhACEAIQAhACEAIQAhACEAIQAhACEAIQAiACIAIgAiACIAIgAiACIAIgAiACIAIgAiACMAIwAjACMAIwAjACMAIwAjACMAIwAjACMAIwAjACMAIwAjACMAIwAjACMAIwAkACQAJAAkACQAJAAkACQAJAAkACQAJAAkACQAJAAkACQAJAAkACQAJAAkACUAJQAlACUAJQAlACUAJQAlACUAJQAlACUAJgAmACYAJgAmACYAJgAmACYAJgAmACYAJwAnACcAJwAnACcAJwAnACcAJwAoACgAKAApACoALQAwAEgASgBLAEsASwBLAEsASwBMAEwATQBNAE0ATQBOAE4ATgBOAE4ATgBOAE4ATgBOAE8ATwBPAE8ATwBPAE8AUABQAFAAUABQAFAAUABRAFEAUQBRAFEAUQBRAFEAUQBRAFEAUgBSAFIAUgBSAFIAUgBSAFIAUgBTAFMAUwBTAFMAUwBTAFQAVABUAFQAVABUAFQAVABUAFQAVABUAFQAVABVAFUAVQBVAFUAVgBWAFYAVgBWAFYAVgBXAFcAVwBXAFcAVwBXAFcAVwBXAFcAWABYAFgAWQBZAFkAWQBZAFkAWgBaAFoAWwBbAFsAWwBbAFwAXABdAF4AXgBgAGAAYQBjAGMAZABkAGQAZQBlAGUAZgBnAGcAZwBnAGcAZwBnAGgAaABoAGgAaQBqAGoAagBqAGoAagBrAGwAbABtAG4AbwBxAHIAcgB0AHUAdQB1AHUAdQB2AHcAdwB4AHgAeAB4AHkAeQB6AHoAewB7AHwAfQB9AH4AfgCAAIEAgQCEAEsBTgFTAVMBVgFWAVkBXAGLAY4BmQGbAZwBngGhAaQBwgHCAcIBwgHFAcUBxQHFAeYB5gHmAeYB6QHpAekB6QHtAe0B7QHtAe0B7QHtAe0B8AHwAfAB8AHwAfAB8AHwAfMB8wHzAfMB8wHzAfMB8wH2AfYB9gH2AfYB9gH2AfYB+wH7AfsB+wH+Af4B/gH+ARgCGAIYAhgCGwIbAhsCGwIFBQgFGwYeBmgHaAdoB2gHawdrB2sHaweJB4kHiQeJB4wHjAeMB4wHWx1eHd8d4h0=",
          "dtype": "i2"
         },
         "xaxis": "x",
         "y": {
          "bdata": "CPRYSH7iEkAI9FhIfuISQAj0WEh+4hJAlWB8S+j3EkCVYHxL6PcSQJVgfEvo9xJAlWB8S+j3EkCVYHxL6PcSQJVgfEvo9xJAlWB8S+j3EkCVYHxL6PcSQJVgfEvo9xJAlWB8S+j3EkCVYHxL6PcSQJVgfEvo9xJAK2LDELkME0ArYsMQuQwTQCtiwxC5DBNAK2LDELkME0ArYsMQuQwTQCtiwxC5DBNAK2LDELkME0ArYsMQuQwTQCtiwxC5DBNAK2LDELkME0ArYsMQuQwTQCtiwxC5DBNAK2LDELkME0BRM29+/SATQFEzb379IBNAUTNvfv0gE0BRM29+/SATQFEzb379IBNAUTNvfv0gE0BRM29+/SATQFEzb379IBNAUTNvfv0gE0BRM29+/SATQFEzb379IBNAUTNvfv0gE0BRM29+/SATQMwNV4PNNBNAzA1Xg800E0DMDVeDzTQTQMwNV4PNNBNAzA1Xg800E0DMDVeDzTQTQMwNV4PNNBNAzA1Xg800E0DMDVeDzTQTQMwNV4PNNBNAzA1Xg800E0DMDVeDzTQTQMwNV4PNNBNAzA1Xg800E0DMDVeDzTQTQMwNV4PNNBNAzA1Xg800E0DMDVeDzTQTQMwNV4PNNBNAzA1Xg800E0DMDVeDzTQTQMwNV4PNNBNAzA1Xg800E0C+ewIGSEgTQL57AgZISBNAvnsCBkhIE0C+ewIGSEgTQL57AgZISBNAvnsCBkhIE0C+ewIGSEgTQL57AgZISBNAvnsCBkhIE0C+ewIGSEgTQL57AgZISBNAvnsCBkhIE0C+ewIGSEgTQL57AgZISBNAvnsCBkhIE0C+ewIGSEgTQL57AgZISBNAvnsCBkhIE0C+ewIGSEgTQL57AgZISBNAvnsCBkhIE0C+ewIGSEgTQNuHhAOMWxNA24eEA4xbE0Dbh4QDjFsTQNuHhAOMWxNA24eEA4xbE0Dbh4QDjFsTQNuHhAOMWxNA24eEA4xbE0Dbh4QDjFsTQNuHhAOMWxNA24eEA4xbE0Dbh4QDjFsTQNuHhAOMWxNAYR6TYbZuE0BhHpNhtm4TQGEek2G2bhNAYR6TYbZuE0BhHpNhtm4TQGEek2G2bhNAYR6TYbZuE0BhHpNhtm4TQGEek2G2bhNAYR6TYbZuE0BhHpNhtm4TQGEek2G2bhNA5eLiyt+BE0Dl4uLK34ETQOXi4srfgRNA5eLiyt+BE0Dl4uLK34ETQOXi4srfgRNA5eLiyt+BE0Dl4uLK34ETQOXi4srfgRNA5eLiyt+BE0BkeeV7HJUTQGR55XsclRNAZHnlexyVE0AfArFoeqgTQLCJHQUEvBNA0dwA0fv3E0AqvBlZojYUQNiy0pBcSRVAaSj51RsRFUCVsRfscmYUQJWxF+xyZhRAlbEX7HJmFECVsRfscmYUQJWxF+xyZhRAlbEX7HJmFEArrFLxVX4UQCusUvFVfhRAwSv3pGOoFEDBK/ekY6gUQMEr96RjqBRAwSv3pGOoFECgdxuGBeAUQKB3G4YF4BRAoHcbhgXgFECgdxuGBeAUQKB3G4YF4BRAoHcbhgXgFECgdxuGBeAUQKB3G4YF4BRAoHcbhgXgFECgdxuGBeAUQPLBc8vHrxRA8sFzy8evFEDywXPLx68UQPLBc8vHrxRA8sFzy8evFEDywXPLx68UQPLBc8vHrxRAnps2sfAMFUCemzax8AwVQJ6bNrHwDBVAnps2sfAMFUCemzax8AwVQJ6bNrHwDBVAnps2sfAMFUANNhzSonQVQA02HNKidBVADTYc0qJ0FUANNhzSonQVQA02HNKidBVADTYc0qJ0FUANNhzSonQVQA02HNKidBVADTYc0qJ0FUANNhzSonQVQA02HNKidBVABT58BxDpFUAFPnwHEOkVQAU+fAcQ6RVABT58BxDpFUAFPnwHEOkVQAU+fAcQ6RVABT58BxDpFUAFPnwHEOkVQAU+fAcQ6RVABT58BxDpFUDa+als82sWQNr5qWzzaxZA2vmpbPNrFkDa+als82sWQNr5qWzzaxZA2vmpbPNrFkDa+als82sWQFcCDpv8/RZAVwIOm/z9FkBXAg6b/P0WQFcCDpv8/RZAVwIOm/z9FkBXAg6b/P0WQFcCDpv8/RZAVwIOm/z9FkBXAg6b/P0WQFcCDpv8/RZAVwIOm/z9FkBXAg6b/P0WQFcCDpv8/RZAVwIOm/z9FkB5lhUnz54XQHmWFSfPnhdAeZYVJ8+eF0B5lhUnz54XQHmWFSfPnhdA1U/ClHdNGEDVT8KUd00YQNVPwpR3TRhA1U/ClHdNGEDVT8KUd00YQNVPwpR3TRhA1U/ClHdNGEDQ8yfGjggZQNDzJ8aOCBlA0PMnxo4IGUDQ8yfGjggZQNDzJ8aOCBlA0PMnxo4IGUDQ8yfGjggZQNDzJ8aOCBlA0PMnxo4IGUDQ8yfGjggZQNDzJ8aOCBlAIdH4knvOGUAh0fiSe84ZQCHR+JJ7zhlAuwCyxKSdGkC7ALLEpJ0aQLsAssSknRpAuwCyxKSdGkC7ALLEpJ0aQLsAssSknRpAvOldAZN0G0C86V0Bk3QbQLzpXQGTdBtA/dYuTfpRHED91i5N+lEcQP3WLk36URxA/dYuTfpRHED91i5N+lEcQDdYEDi8NB1AN1gQOLw0HUAdaS5R5xseQHDO9Y6xBh9AcM71jrEGH0DR9vtHTnIgQNH2+0dOciBAWcqo0lzrIED0W7hCqd8hQPRbuEKp3yFA90i/PZxaIkD3SL89nFoiQPdIvz2cWiJArXuIEPDVIkCte4gQ8NUiQK17iBDw1SJAnUyKAI5RI0A0iFrCZM0jQDSIWsJkzSNANIhawmTNI0A0iFrCZM0jQDSIWsJkzSNANIhawmTNI0A0iFrCZM0jQCSIH5xmSSRAJIgfnGZJJEAkiB+cZkkkQCSIH5xmSSRAm3W/d4rFJEASAPKNykElQBIA8o3KQSVAEgDyjcpBJUASAPKNykElQBIA8o3KQSVAEgDyjcpBJUC97cFHI74lQOZf5jCROiZA5l/mMJE6JkDmD1DlEbcmQB/qCQ6lMydAbFUCP0ywJ0CE42bs4qkoQG/pGuLZJilAb+ka4tkmKUAerccENiEqQLKSLTmnnipAspItOaeeKkCyki05p54qQLKSLTmnnipAspItOaeeKkA4ByRSThwrQO1xVzszmitA7XFXOzOaK0Diu42KXhgsQOK7jYpeGCxA4ruNil4YLEDiu42KXhgsQB9TfOnXlixAH1N86deWLEAIdiirpBUtQAh2KKukFS1A66tmwMmULUDrq2bAyZQtQCJ2DpFLFC5AehDLji2ULkB6EMuOLZQuQJ+PKdNxFC9An48p03EUL0AoDosZEwswQGTBtebLSzBAZMG15stLMEDNppzOIg8xQCC2uXziNCZAjg6ICkQvJkDE0hiMjCgmQMTSGIyMKCZAqykXNs8lJkCrKRc2zyUmQEqH4GvbIyZAX4t8D5IiJkBa18yhBjImQHgt486DMyZAsAEx1Wc4JkCGQ37QKzkmQOuinoCJOSZA2y9Jyjs6JkDJp50WLzsmQBPYY0EDPCZAD4GGsc87JkAPgYaxzzsmQA+BhrHPOyZAD4GGsc87JkB2gPEtzTomQHaA8S3NOiZAdoDxLc06JkB2gPEtzTomQHXhfITiISZAdeF8hOIhJkB14XyE4iEmQHXhfITiISZAtpYHykseJkC2lgfKSx4mQLaWB8pLHiZAtpYHykseJkDhVgqnJxkmQOFWCqcnGSZA4VYKpycZJkDhVgqnJxkmQOFWCqcnGSZA4VYKpycZJkDhVgqnJxkmQOFWCqcnGSZAIMXTXAcVJkAgxdNcBxUmQCDF01wHFSZAIMXTXAcVJkAgxdNcBxUmQCDF01wHFSZAIMXTXAcVJkAgxdNcBxUmQAXtE3KrECZABe0TcqsQJkAF7RNyqxAmQAXtE3KrECZABe0TcqsQJkAF7RNyqxAmQAXtE3KrECZABe0TcqsQJkCk0PgnEwwmQKTQ+CcTDCZApND4JxMMJkCk0PgnEwwmQKTQ+CcTDCZApND4JxMMJkCk0PgnEwwmQKTQ+CcTDCZAeIIPHuQDJkB4gg8e5AMmQHiCDx7kAyZAeIIPHuQDJkBto0dNqv4lQG2jR02q/iVAbaNHTar+JUBto0dNqv4lQPc8nj+oxyVA9zyeP6jHJUD3PJ4/qMclQPc8nj+oxyVAgw5LQjbAJUCDDktCNsAlQIMOS0I2wCVAgw5LQjbAJUCN1S38Q5czQLaw3z7xoDNA0XFAW0jiNkA4k08SOOs2QGLtGwy/zjpAYu0bDL/OOkBi7RsMv846QGLtGwy/zjpAty8Np/HXOkC3Lw2n8dc6QLcvDafx1zpAty8Np/HXOkCvpkb2EDQ7QK+mRvYQNDtAr6ZG9hA0O0Cvpkb2EDQ7QG5wHK1KPTtAbnAcrUo9O0BucBytSj07QG5wHK1KPTtAEFah8BHbKED+NUw6ntcoQBoGKeH3QihAisR5joE/KEA=",
          "dtype": "f8"
         },
         "yaxis": "y"
        },
        {
         "hovertemplate": "variable=load_time<br>input_tokens=%{x}<br>value=%{y}<extra></extra>",
         "legendgroup": "load_time",
         "marker": {
          "color": "#EF553B",
          "symbol": "circle"
         },
         "mode": "markers",
         "name": "load_time",
         "showlegend": true,
         "type": "scattergl",
         "x": {
          "bdata": "WABbAFcAWgBMAE8AWQBcAE0AUABUAFcAUABTAFcAWgBWAFkAUgBVAFkAXABOAFEASwBOAFgAWwBRAFQAUQBUAE4AUQBPAFIAUABTAFYAWQBRAFQAUQBUAFsAXgBUAFcATwBSAFIAVQBRAFQAUgBVAFQAVwBOAFEAVABXAFQAVwD7Af4B8wH2AfMB9gHtAfAB+wH+AfMB9gHzAfYB7QHwAfsB/gHzAfYB8wH2Ae0B8AH7Af4B8wH2AfMB9gHtAfABiQeMB4kHjAeJB4wHiQeMB98d4h0iACUAIAAjACAAIwAhACQAIQAkACEAJAAgACMAIwAmACQAJwAgACMAIwAmACMAJgAhACQAIAAjACAAIwAiACUAIQAkACMAJgAfACIAIQAkACAAIwAfACIAIAAjACIAJQAlACgAIAAjACMAJgAhACQAIAAjACAAIwAgACMAHwAiAGcAagBsAG8AZABnAGcAagBpAGwAZQBoAGMAZgBnAGoAZQBoAGQAZwBnAGoAYABjAGUAaABoAGsAYQBkAGoAbQBZAVwBUwFWAUsBTgFTAVYBBQUIBWcAagBUAFcAXQBgAFYAWQBTAFYAUwBWAE8AUgBWAFkAWABbAE8AUgBUAFcAUwBWAFcAWgBQAFMATgBRAEsATgBSAFUATQBQAFQAVwBSAFUAWwBeAE8AUgBNAFAASwBOAEgASwBRAFQAUABTAE4AUQBLAE4ATABPAEoATQBLAE4AGAIbAu0B8AHmAekBwgHFARgCGwLtAfAB5gHpAcIBxQEYAhsC7QHwAeYB6QHCAcUBGAIbAu0B8AHmAekBwgHFAWgHawdoB2sHaAdrB2gHawdbHV4dJgApACEAJAAlACgAIgAlACIAJQAkACcAIQAkACEAJAAiACUAIQAkACQAJwAkACcAIwAmACQAJwAjACYALQAwACQAJwAiACUAIgAlACEAJAAiACUAIwAmACEAJAAkACcAJQAoACIAJQAkACcAIwAmACMAJgAkACcAJwAqACMAJgB1AHgAgQCEAHIAdQB+AIEAewB+AHcAegB0AHcAegB9AHkAfAB2AHkAcgB1AH0AgAB1AHgAbgBxAHUAeAB4AHsAoQGkAZsBngGZAZwBiwGOARsGHgY=",
          "dtype": "i2"
         },
         "xaxis": "x",
         "y": {
          "bdata": "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",
          "dtype": "f8"
         },
         "yaxis": "y"
        },
        {
         "hovertemplate": "<b>LOWESS trendline</b><br><br>variable=load_time<br>input_tokens=%{x}<br>value=%{y} <b>(trend)</b><extra></extra>",
         "legendgroup": "load_time",
         "marker": {
          "color": "#EF553B",
          "symbol": "circle"
         },
         "mode": "lines",
         "name": "load_time",
         "showlegend": false,
         "type": "scattergl",
         "x": {
          "bdata": "HwAfAB8AIAAgACAAIAAgACAAIAAgACAAIAAgACAAIQAhACEAIQAhACEAIQAhACEAIQAhACEAIQAiACIAIgAiACIAIgAiACIAIgAiACIAIgAiACMAIwAjACMAIwAjACMAIwAjACMAIwAjACMAIwAjACMAIwAjACMAIwAjACMAIwAkACQAJAAkACQAJAAkACQAJAAkACQAJAAkACQAJAAkACQAJAAkACQAJAAkACUAJQAlACUAJQAlACUAJQAlACUAJQAlACUAJgAmACYAJgAmACYAJgAmACYAJgAmACYAJwAnACcAJwAnACcAJwAnACcAJwAoACgAKAApACoALQAwAEgASgBLAEsASwBLAEsASwBMAEwATQBNAE0ATQBOAE4ATgBOAE4ATgBOAE4ATgBOAE8ATwBPAE8ATwBPAE8AUABQAFAAUABQAFAAUABRAFEAUQBRAFEAUQBRAFEAUQBRAFEAUgBSAFIAUgBSAFIAUgBSAFIAUgBTAFMAUwBTAFMAUwBTAFQAVABUAFQAVABUAFQAVABUAFQAVABUAFQAVABVAFUAVQBVAFUAVgBWAFYAVgBWAFYAVgBXAFcAVwBXAFcAVwBXAFcAVwBXAFcAWABYAFgAWQBZAFkAWQBZAFkAWgBaAFoAWwBbAFsAWwBbAFwAXABdAF4AXgBgAGAAYQBjAGMAZABkAGQAZQBlAGUAZgBnAGcAZwBnAGcAZwBnAGgAaABoAGgAaQBqAGoAagBqAGoAagBrAGwAbABtAG4AbwBxAHIAcgB0AHUAdQB1AHUAdQB2AHcAdwB4AHgAeAB4AHkAeQB6AHoAewB7AHwAfQB9AH4AfgCAAIEAgQCEAEsBTgFTAVMBVgFWAVkBXAGLAY4BmQGbAZwBngGhAaQBwgHCAcIBwgHFAcUBxQHFAeYB5gHmAeYB6QHpAekB6QHtAe0B7QHtAe0B7QHtAe0B8AHwAfAB8AHwAfAB8AHwAfMB8wHzAfMB8wHzAfMB8wH2AfYB9gH2AfYB9gH2AfYB+wH7AfsB+wH+Af4B/gH+ARgCGAIYAhgCGwIbAhsCGwIFBQgFGwYeBmgHaAdoB2gHawdrB2sHaweJB4kHiQeJB4wHjAeMB4wHWx1eHd8d4h0=",
          "dtype": "i2"
         },
         "xaxis": "x",
         "y": {
          "bdata": "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",
          "dtype": "f8"
         },
         "yaxis": "y"
        },
        {
         "hovertemplate": "variable=prompt_eval_time<br>input_tokens=%{x}<br>value=%{y}<extra></extra>",
         "legendgroup": "prompt_eval_time",
         "marker": {
          "color": "#00cc96",
          "symbol": "circle"
         },
         "mode": "markers",
         "name": "prompt_eval_time",
         "showlegend": true,
         "type": "scattergl",
         "x": {
          "bdata": "WABbAFcAWgBMAE8AWQBcAE0AUABUAFcAUABTAFcAWgBWAFkAUgBVAFkAXABOAFEASwBOAFgAWwBRAFQAUQBUAE4AUQBPAFIAUABTAFYAWQBRAFQAUQBUAFsAXgBUAFcATwBSAFIAVQBRAFQAUgBVAFQAVwBOAFEAVABXAFQAVwD7Af4B8wH2AfMB9gHtAfAB+wH+AfMB9gHzAfYB7QHwAfsB/gHzAfYB8wH2Ae0B8AH7Af4B8wH2AfMB9gHtAfABiQeMB4kHjAeJB4wHiQeMB98d4h0iACUAIAAjACAAIwAhACQAIQAkACEAJAAgACMAIwAmACQAJwAgACMAIwAmACMAJgAhACQAIAAjACAAIwAiACUAIQAkACMAJgAfACIAIQAkACAAIwAfACIAIAAjACIAJQAlACgAIAAjACMAJgAhACQAIAAjACAAIwAgACMAHwAiAGcAagBsAG8AZABnAGcAagBpAGwAZQBoAGMAZgBnAGoAZQBoAGQAZwBnAGoAYABjAGUAaABoAGsAYQBkAGoAbQBZAVwBUwFWAUsBTgFTAVYBBQUIBWcAagBUAFcAXQBgAFYAWQBTAFYAUwBWAE8AUgBWAFkAWABbAE8AUgBUAFcAUwBWAFcAWgBQAFMATgBRAEsATgBSAFUATQBQAFQAVwBSAFUAWwBeAE8AUgBNAFAASwBOAEgASwBRAFQAUABTAE4AUQBLAE4ATABPAEoATQBLAE4AGAIbAu0B8AHmAekBwgHFARgCGwLtAfAB5gHpAcIBxQEYAhsC7QHwAeYB6QHCAcUBGAIbAu0B8AHmAekBwgHFAWgHawdoB2sHaAdrB2gHawdbHV4dJgApACEAJAAlACgAIgAlACIAJQAkACcAIQAkACEAJAAiACUAIQAkACQAJwAkACcAIwAmACQAJwAjACYALQAwACQAJwAiACUAIgAlACEAJAAiACUAIwAmACEAJAAkACcAJQAoACIAJQAkACcAIwAmACMAJgAkACcAJwAqACMAJgB1AHgAgQCEAHIAdQB+AIEAewB+AHcAegB0AHcAegB9AHkAfAB2AHkAcgB1AH0AgAB1AHgAbgBxAHUAeAB4AHsAoQGkAZsBngGZAZwBiwGOARsGHgY=",
          "dtype": "i2"
         },
         "xaxis": "x",
         "y": {
          "bdata": "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",
          "dtype": "f8"
         },
         "yaxis": "y"
        },
        {
         "hovertemplate": "<b>LOWESS trendline</b><br><br>variable=prompt_eval_time<br>input_tokens=%{x}<br>value=%{y} <b>(trend)</b><extra></extra>",
         "legendgroup": "prompt_eval_time",
         "marker": {
          "color": "#00cc96",
          "symbol": "circle"
         },
         "mode": "lines",
         "name": "prompt_eval_time",
         "showlegend": false,
         "type": "scattergl",
         "x": {
          "bdata": "HwAfAB8AIAAgACAAIAAgACAAIAAgACAAIAAgACAAIQAhACEAIQAhACEAIQAhACEAIQAhACEAIQAiACIAIgAiACIAIgAiACIAIgAiACIAIgAiACMAIwAjACMAIwAjACMAIwAjACMAIwAjACMAIwAjACMAIwAjACMAIwAjACMAIwAkACQAJAAkACQAJAAkACQAJAAkACQAJAAkACQAJAAkACQAJAAkACQAJAAkACUAJQAlACUAJQAlACUAJQAlACUAJQAlACUAJgAmACYAJgAmACYAJgAmACYAJgAmACYAJwAnACcAJwAnACcAJwAnACcAJwAoACgAKAApACoALQAwAEgASgBLAEsASwBLAEsASwBMAEwATQBNAE0ATQBOAE4ATgBOAE4ATgBOAE4ATgBOAE8ATwBPAE8ATwBPAE8AUABQAFAAUABQAFAAUABRAFEAUQBRAFEAUQBRAFEAUQBRAFEAUgBSAFIAUgBSAFIAUgBSAFIAUgBTAFMAUwBTAFMAUwBTAFQAVABUAFQAVABUAFQAVABUAFQAVABUAFQAVABVAFUAVQBVAFUAVgBWAFYAVgBWAFYAVgBXAFcAVwBXAFcAVwBXAFcAVwBXAFcAWABYAFgAWQBZAFkAWQBZAFkAWgBaAFoAWwBbAFsAWwBbAFwAXABdAF4AXgBgAGAAYQBjAGMAZABkAGQAZQBlAGUAZgBnAGcAZwBnAGcAZwBnAGgAaABoAGgAaQBqAGoAagBqAGoAagBrAGwAbABtAG4AbwBxAHIAcgB0AHUAdQB1AHUAdQB2AHcAdwB4AHgAeAB4AHkAeQB6AHoAewB7AHwAfQB9AH4AfgCAAIEAgQCEAEsBTgFTAVMBVgFWAVkBXAGLAY4BmQGbAZwBngGhAaQBwgHCAcIBwgHFAcUBxQHFAeYB5gHmAeYB6QHpAekB6QHtAe0B7QHtAe0B7QHtAe0B8AHwAfAB8AHwAfAB8AHwAfMB8wHzAfMB8wHzAfMB8wH2AfYB9gH2AfYB9gH2AfYB+wH7AfsB+wH+Af4B/gH+ARgCGAIYAhgCGwIbAhsCGwIFBQgFGwYeBmgHaAdoB2gHawdrB2sHaweJB4kHiQeJB4wHjAeMB4wHWx1eHd8d4h0=",
          "dtype": "i2"
         },
         "xaxis": "x",
         "y": {
          "bdata": "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",
          "dtype": "f8"
         },
         "yaxis": "y"
        },
        {
         "hovertemplate": "variable=output_eval_time<br>input_tokens=%{x}<br>value=%{y}<extra></extra>",
         "legendgroup": "output_eval_time",
         "marker": {
          "color": "#ab63fa",
          "symbol": "circle"
         },
         "mode": "markers",
         "name": "output_eval_time",
         "showlegend": true,
         "type": "scattergl",
         "x": {
          "bdata": "WABbAFcAWgBMAE8AWQBcAE0AUABUAFcAUABTAFcAWgBWAFkAUgBVAFkAXABOAFEASwBOAFgAWwBRAFQAUQBUAE4AUQBPAFIAUABTAFYAWQBRAFQAUQBUAFsAXgBUAFcATwBSAFIAVQBRAFQAUgBVAFQAVwBOAFEAVABXAFQAVwD7Af4B8wH2AfMB9gHtAfAB+wH+AfMB9gHzAfYB7QHwAfsB/gHzAfYB8wH2Ae0B8AH7Af4B8wH2AfMB9gHtAfABiQeMB4kHjAeJB4wHiQeMB98d4h0iACUAIAAjACAAIwAhACQAIQAkACEAJAAgACMAIwAmACQAJwAgACMAIwAmACMAJgAhACQAIAAjACAAIwAiACUAIQAkACMAJgAfACIAIQAkACAAIwAfACIAIAAjACIAJQAlACgAIAAjACMAJgAhACQAIAAjACAAIwAgACMAHwAiAGcAagBsAG8AZABnAGcAagBpAGwAZQBoAGMAZgBnAGoAZQBoAGQAZwBnAGoAYABjAGUAaABoAGsAYQBkAGoAbQBZAVwBUwFWAUsBTgFTAVYBBQUIBWcAagBUAFcAXQBgAFYAWQBTAFYAUwBWAE8AUgBWAFkAWABbAE8AUgBUAFcAUwBWAFcAWgBQAFMATgBRAEsATgBSAFUATQBQAFQAVwBSAFUAWwBeAE8AUgBNAFAASwBOAEgASwBRAFQAUABTAE4AUQBLAE4ATABPAEoATQBLAE4AGAIbAu0B8AHmAekBwgHFARgCGwLtAfAB5gHpAcIBxQEYAhsC7QHwAeYB6QHCAcUBGAIbAu0B8AHmAekBwgHFAWgHawdoB2sHaAdrB2gHawdbHV4dJgApACEAJAAlACgAIgAlACIAJQAkACcAIQAkACEAJAAiACUAIQAkACQAJwAkACcAIwAmACQAJwAjACYALQAwACQAJwAiACUAIgAlACEAJAAiACUAIwAmACEAJAAkACcAJQAoACIAJQAkACcAIwAmACMAJgAkACcAJwAqACMAJgB1AHgAgQCEAHIAdQB+AIEAewB+AHcAegB0AHcAegB9AHkAfAB2AHkAcgB1AH0AgAB1AHgAbgBxAHUAeAB4AHsAoQGkAZsBngGZAZwBiwGOARsGHgY=",
          "dtype": "i2"
         },
         "xaxis": "x",
         "y": {
          "bdata": "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",
          "dtype": "f8"
         },
         "yaxis": "y"
        },
        {
         "hovertemplate": "<b>LOWESS trendline</b><br><br>variable=output_eval_time<br>input_tokens=%{x}<br>value=%{y} <b>(trend)</b><extra></extra>",
         "legendgroup": "output_eval_time",
         "marker": {
          "color": "#ab63fa",
          "symbol": "circle"
         },
         "mode": "lines",
         "name": "output_eval_time",
         "showlegend": false,
         "type": "scattergl",
         "x": {
          "bdata": "HwAfAB8AIAAgACAAIAAgACAAIAAgACAAIAAgACAAIQAhACEAIQAhACEAIQAhACEAIQAhACEAIQAiACIAIgAiACIAIgAiACIAIgAiACIAIgAiACMAIwAjACMAIwAjACMAIwAjACMAIwAjACMAIwAjACMAIwAjACMAIwAjACMAIwAkACQAJAAkACQAJAAkACQAJAAkACQAJAAkACQAJAAkACQAJAAkACQAJAAkACUAJQAlACUAJQAlACUAJQAlACUAJQAlACUAJgAmACYAJgAmACYAJgAmACYAJgAmACYAJwAnACcAJwAnACcAJwAnACcAJwAoACgAKAApACoALQAwAEgASgBLAEsASwBLAEsASwBMAEwATQBNAE0ATQBOAE4ATgBOAE4ATgBOAE4ATgBOAE8ATwBPAE8ATwBPAE8AUABQAFAAUABQAFAAUABRAFEAUQBRAFEAUQBRAFEAUQBRAFEAUgBSAFIAUgBSAFIAUgBSAFIAUgBTAFMAUwBTAFMAUwBTAFQAVABUAFQAVABUAFQAVABUAFQAVABUAFQAVABVAFUAVQBVAFUAVgBWAFYAVgBWAFYAVgBXAFcAVwBXAFcAVwBXAFcAVwBXAFcAWABYAFgAWQBZAFkAWQBZAFkAWgBaAFoAWwBbAFsAWwBbAFwAXABdAF4AXgBgAGAAYQBjAGMAZABkAGQAZQBlAGUAZgBnAGcAZwBnAGcAZwBnAGgAaABoAGgAaQBqAGoAagBqAGoAagBrAGwAbABtAG4AbwBxAHIAcgB0AHUAdQB1AHUAdQB2AHcAdwB4AHgAeAB4AHkAeQB6AHoAewB7AHwAfQB9AH4AfgCAAIEAgQCEAEsBTgFTAVMBVgFWAVkBXAGLAY4BmQGbAZwBngGhAaQBwgHCAcIBwgHFAcUBxQHFAeYB5gHmAeYB6QHpAekB6QHtAe0B7QHtAe0B7QHtAe0B8AHwAfAB8AHwAfAB8AHwAfMB8wHzAfMB8wHzAfMB8wH2AfYB9gH2AfYB9gH2AfYB+wH7AfsB+wH+Af4B/gH+ARgCGAIYAhgCGwIbAhsCGwIFBQgFGwYeBmgHaAdoB2gHawdrB2sHaweJB4kHiQeJB4wHjAeMB4wHWx1eHd8d4h0=",
          "dtype": "i2"
         },
         "xaxis": "x",
         "y": {
          "bdata": "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",
          "dtype": "f8"
         },
         "yaxis": "y"
        }
       ],
       "layout": {
        "legend": {
         "title": {
          "text": "variable"
         },
         "tracegroupgap": 0
        },
        "margin": {
         "t": 60
        },
        "template": {
         "data": {
          "bar": [
           {
            "error_x": {
             "color": "#2a3f5f"
            },
            "error_y": {
             "color": "#2a3f5f"
            },
            "marker": {
             "line": {
              "color": "#E5ECF6",
              "width": 0.5
             },
             "pattern": {
              "fillmode": "overlay",
              "size": 10,
              "solidity": 0.2
             }
            },
            "type": "bar"
           }
          ],
          "barpolar": [
           {
            "marker": {
             "line": {
              "color": "#E5ECF6",
              "width": 0.5
             },
             "pattern": {
              "fillmode": "overlay",
              "size": 10,
              "solidity": 0.2
             }
            },
            "type": "barpolar"
           }
          ],
          "carpet": [
           {
            "aaxis": {
             "endlinecolor": "#2a3f5f",
             "gridcolor": "white",
             "linecolor": "white",
             "minorgridcolor": "white",
             "startlinecolor": "#2a3f5f"
            },
            "baxis": {
             "endlinecolor": "#2a3f5f",
             "gridcolor": "white",
             "linecolor": "white",
             "minorgridcolor": "white",
             "startlinecolor": "#2a3f5f"
            },
            "type": "carpet"
           }
          ],
          "choropleth": [
           {
            "colorbar": {
             "outlinewidth": 0,
             "ticks": ""
            },
            "type": "choropleth"
           }
          ],
          "contour": [
           {
            "colorbar": {
             "outlinewidth": 0,
             "ticks": ""
            },
            "colorscale": [
             [
              0,
              "#0d0887"
             ],
             [
              0.1111111111111111,
              "#46039f"
             ],
             [
              0.2222222222222222,
              "#7201a8"
             ],
             [
              0.3333333333333333,
              "#9c179e"
             ],
             [
              0.4444444444444444,
              "#bd3786"
             ],
             [
              0.5555555555555556,
              "#d8576b"
             ],
             [
              0.6666666666666666,
              "#ed7953"
             ],
             [
              0.7777777777777778,
              "#fb9f3a"
             ],
             [
              0.8888888888888888,
              "#fdca26"
             ],
             [
              1,
              "#f0f921"
             ]
            ],
            "type": "contour"
           }
          ],
          "contourcarpet": [
           {
            "colorbar": {
             "outlinewidth": 0,
             "ticks": ""
            },
            "type": "contourcarpet"
           }
          ],
          "heatmap": [
           {
            "colorbar": {
             "outlinewidth": 0,
             "ticks": ""
            },
            "colorscale": [
             [
              0,
              "#0d0887"
             ],
             [
              0.1111111111111111,
              "#46039f"
             ],
             [
              0.2222222222222222,
              "#7201a8"
             ],
             [
              0.3333333333333333,
              "#9c179e"
             ],
             [
              0.4444444444444444,
              "#bd3786"
             ],
             [
              0.5555555555555556,
              "#d8576b"
             ],
             [
              0.6666666666666666,
              "#ed7953"
             ],
             [
              0.7777777777777778,
              "#fb9f3a"
             ],
             [
              0.8888888888888888,
              "#fdca26"
             ],
             [
              1,
              "#f0f921"
             ]
            ],
            "type": "heatmap"
           }
          ],
          "histogram": [
           {
            "marker": {
             "pattern": {
              "fillmode": "overlay",
              "size": 10,
              "solidity": 0.2
             }
            },
            "type": "histogram"
           }
          ],
          "histogram2d": [
           {
            "colorbar": {
             "outlinewidth": 0,
             "ticks": ""
            },
            "colorscale": [
             [
              0,
              "#0d0887"
             ],
             [
              0.1111111111111111,
              "#46039f"
             ],
             [
              0.2222222222222222,
              "#7201a8"
             ],
             [
              0.3333333333333333,
              "#9c179e"
             ],
             [
              0.4444444444444444,
              "#bd3786"
             ],
             [
              0.5555555555555556,
              "#d8576b"
             ],
             [
              0.6666666666666666,
              "#ed7953"
             ],
             [
              0.7777777777777778,
              "#fb9f3a"
             ],
             [
              0.8888888888888888,
              "#fdca26"
             ],
             [
              1,
              "#f0f921"
             ]
            ],
            "type": "histogram2d"
           }
          ],
          "histogram2dcontour": [
           {
            "colorbar": {
             "outlinewidth": 0,
             "ticks": ""
            },
            "colorscale": [
             [
              0,
              "#0d0887"
             ],
             [
              0.1111111111111111,
              "#46039f"
             ],
             [
              0.2222222222222222,
              "#7201a8"
             ],
             [
              0.3333333333333333,
              "#9c179e"
             ],
             [
              0.4444444444444444,
              "#bd3786"
             ],
             [
              0.5555555555555556,
              "#d8576b"
             ],
             [
              0.6666666666666666,
              "#ed7953"
             ],
             [
              0.7777777777777778,
              "#fb9f3a"
             ],
             [
              0.8888888888888888,
              "#fdca26"
             ],
             [
              1,
              "#f0f921"
             ]
            ],
            "type": "histogram2dcontour"
           }
          ],
          "mesh3d": [
           {
            "colorbar": {
             "outlinewidth": 0,
             "ticks": ""
            },
            "type": "mesh3d"
           }
          ],
          "parcoords": [
           {
            "line": {
             "colorbar": {
              "outlinewidth": 0,
              "ticks": ""
             }
            },
            "type": "parcoords"
           }
          ],
          "pie": [
           {
            "automargin": true,
            "type": "pie"
           }
          ],
          "scatter": [
           {
            "fillpattern": {
             "fillmode": "overlay",
             "size": 10,
             "solidity": 0.2
            },
            "type": "scatter"
           }
          ],
          "scatter3d": [
           {
            "line": {
             "colorbar": {
              "outlinewidth": 0,
              "ticks": ""
             }
            },
            "marker": {
             "colorbar": {
              "outlinewidth": 0,
              "ticks": ""
             }
            },
            "type": "scatter3d"
           }
          ],
          "scattercarpet": [
           {
            "marker": {
             "colorbar": {
              "outlinewidth": 0,
              "ticks": ""
             }
            },
            "type": "scattercarpet"
           }
          ],
          "scattergeo": [
           {
            "marker": {
             "colorbar": {
              "outlinewidth": 0,
              "ticks": ""
             }
            },
            "type": "scattergeo"
           }
          ],
          "scattergl": [
           {
            "marker": {
             "colorbar": {
              "outlinewidth": 0,
              "ticks": ""
             }
            },
            "type": "scattergl"
           }
          ],
          "scattermap": [
           {
            "marker": {
             "colorbar": {
              "outlinewidth": 0,
              "ticks": ""
             }
            },
            "type": "scattermap"
           }
          ],
          "scattermapbox": [
           {
            "marker": {
             "colorbar": {
              "outlinewidth": 0,
              "ticks": ""
             }
            },
            "type": "scattermapbox"
           }
          ],
          "scatterpolar": [
           {
            "marker": {
             "colorbar": {
              "outlinewidth": 0,
              "ticks": ""
             }
            },
            "type": "scatterpolar"
           }
          ],
          "scatterpolargl": [
           {
            "marker": {
             "colorbar": {
              "outlinewidth": 0,
              "ticks": ""
             }
            },
            "type": "scatterpolargl"
           }
          ],
          "scatterternary": [
           {
            "marker": {
             "colorbar": {
              "outlinewidth": 0,
              "ticks": ""
             }
            },
            "type": "scatterternary"
           }
          ],
          "surface": [
           {
            "colorbar": {
             "outlinewidth": 0,
             "ticks": ""
            },
            "colorscale": [
             [
              0,
              "#0d0887"
             ],
             [
              0.1111111111111111,
              "#46039f"
             ],
             [
              0.2222222222222222,
              "#7201a8"
             ],
             [
              0.3333333333333333,
              "#9c179e"
             ],
             [
              0.4444444444444444,
              "#bd3786"
             ],
             [
              0.5555555555555556,
              "#d8576b"
             ],
             [
              0.6666666666666666,
              "#ed7953"
             ],
             [
              0.7777777777777778,
              "#fb9f3a"
             ],
             [
              0.8888888888888888,
              "#fdca26"
             ],
             [
              1,
              "#f0f921"
             ]
            ],
            "type": "surface"
           }
          ],
          "table": [
           {
            "cells": {
             "fill": {
              "color": "#EBF0F8"
             },
             "line": {
              "color": "white"
             }
            },
            "header": {
             "fill": {
              "color": "#C8D4E3"
             },
             "line": {
              "color": "white"
             }
            },
            "type": "table"
           }
          ]
         },
         "layout": {
          "annotationdefaults": {
           "arrowcolor": "#2a3f5f",
           "arrowhead": 0,
           "arrowwidth": 1
          },
          "autotypenumbers": "strict",
          "coloraxis": {
           "colorbar": {
            "outlinewidth": 0,
            "ticks": ""
           }
          },
          "colorscale": {
           "diverging": [
            [
             0,
             "#8e0152"
            ],
            [
             0.1,
             "#c51b7d"
            ],
            [
             0.2,
             "#de77ae"
            ],
            [
             0.3,
             "#f1b6da"
            ],
            [
             0.4,
             "#fde0ef"
            ],
            [
             0.5,
             "#f7f7f7"
            ],
            [
             0.6,
             "#e6f5d0"
            ],
            [
             0.7,
             "#b8e186"
            ],
            [
             0.8,
             "#7fbc41"
            ],
            [
             0.9,
             "#4d9221"
            ],
            [
             1,
             "#276419"
            ]
           ],
           "sequential": [
            [
             0,
             "#0d0887"
            ],
            [
             0.1111111111111111,
             "#46039f"
            ],
            [
             0.2222222222222222,
             "#7201a8"
            ],
            [
             0.3333333333333333,
             "#9c179e"
            ],
            [
             0.4444444444444444,
             "#bd3786"
            ],
            [
             0.5555555555555556,
             "#d8576b"
            ],
            [
             0.6666666666666666,
             "#ed7953"
            ],
            [
             0.7777777777777778,
             "#fb9f3a"
            ],
            [
             0.8888888888888888,
             "#fdca26"
            ],
            [
             1,
             "#f0f921"
            ]
           ],
           "sequentialminus": [
            [
             0,
             "#0d0887"
            ],
            [
             0.1111111111111111,
             "#46039f"
            ],
            [
             0.2222222222222222,
             "#7201a8"
            ],
            [
             0.3333333333333333,
             "#9c179e"
            ],
            [
             0.4444444444444444,
             "#bd3786"
            ],
            [
             0.5555555555555556,
             "#d8576b"
            ],
            [
             0.6666666666666666,
             "#ed7953"
            ],
            [
             0.7777777777777778,
             "#fb9f3a"
            ],
            [
             0.8888888888888888,
             "#fdca26"
            ],
            [
             1,
             "#f0f921"
            ]
           ]
          },
          "colorway": [
           "#636efa",
           "#EF553B",
           "#00cc96",
           "#ab63fa",
           "#FFA15A",
           "#19d3f3",
           "#FF6692",
           "#B6E880",
           "#FF97FF",
           "#FECB52"
          ],
          "font": {
           "color": "#2a3f5f"
          },
          "geo": {
           "bgcolor": "white",
           "lakecolor": "white",
           "landcolor": "#E5ECF6",
           "showlakes": true,
           "showland": true,
           "subunitcolor": "white"
          },
          "hoverlabel": {
           "align": "left"
          },
          "hovermode": "closest",
          "mapbox": {
           "style": "light"
          },
          "paper_bgcolor": "white",
          "plot_bgcolor": "#E5ECF6",
          "polar": {
           "angularaxis": {
            "gridcolor": "white",
            "linecolor": "white",
            "ticks": ""
           },
           "bgcolor": "#E5ECF6",
           "radialaxis": {
            "gridcolor": "white",
            "linecolor": "white",
            "ticks": ""
           }
          },
          "scene": {
           "xaxis": {
            "backgroundcolor": "#E5ECF6",
            "gridcolor": "white",
            "gridwidth": 2,
            "linecolor": "white",
            "showbackground": true,
            "ticks": "",
            "zerolinecolor": "white"
           },
           "yaxis": {
            "backgroundcolor": "#E5ECF6",
            "gridcolor": "white",
            "gridwidth": 2,
            "linecolor": "white",
            "showbackground": true,
            "ticks": "",
            "zerolinecolor": "white"
           },
           "zaxis": {
            "backgroundcolor": "#E5ECF6",
            "gridcolor": "white",
            "gridwidth": 2,
            "linecolor": "white",
            "showbackground": true,
            "ticks": "",
            "zerolinecolor": "white"
           }
          },
          "shapedefaults": {
           "line": {
            "color": "#2a3f5f"
           }
          },
          "ternary": {
           "aaxis": {
            "gridcolor": "white",
            "linecolor": "white",
            "ticks": ""
           },
           "baxis": {
            "gridcolor": "white",
            "linecolor": "white",
            "ticks": ""
           },
           "bgcolor": "#E5ECF6",
           "caxis": {
            "gridcolor": "white",
            "linecolor": "white",
            "ticks": ""
           }
          },
          "title": {
           "x": 0.05
          },
          "xaxis": {
           "automargin": true,
           "gridcolor": "white",
           "linecolor": "white",
           "ticks": "",
           "title": {
            "standoff": 15
           },
           "zerolinecolor": "white",
           "zerolinewidth": 2
          },
          "yaxis": {
           "automargin": true,
           "gridcolor": "white",
           "linecolor": "white",
           "ticks": "",
           "title": {
            "standoff": 15
           },
           "zerolinecolor": "white",
           "zerolinewidth": 2
          }
         }
        },
        "xaxis": {
         "anchor": "y",
         "domain": [
          0,
          1
         ],
         "title": {
          "text": "input_tokens"
         }
        },
        "yaxis": {
         "anchor": "x",
         "domain": [
          0,
          1
         ],
         "title": {
          "text": "value"
         }
        }
       }
      }
     },
     "metadata": {},
     "output_type": "display_data"
    },
    {
     "data": {
      "application/vnd.plotly.v1+json": {
       "config": {
        "plotlyServerURL": "https://plot.ly"
       },
       "data": [
        {
         "hovertemplate": "output_tokens=%{x}<br>output_eval_time_per_output_token=%{y}<extra></extra>",
         "legendgroup": "",
         "marker": {
          "color": "#636efa",
          "symbol": "circle"
         },
         "mode": "markers",
         "name": "",
         "orientation": "v",
         "showlegend": false,
         "type": "scatter",
         "x": {
          "bdata": "JwAeAToAzQE2ANECJwDaACkAYgEfAPAANQB9AQkAjwAZAAEBCQBFASMACAFMAHwBFgA2AR0AYgArAGYBOgCXAS4AxQFDABUCMAChAhoAKQEFAIoAIAAMAA8AJgEMAFkBPwBwATgAJQI1AHkBKQB0AQsANAFDAAYCLgBsAhUAZgHEAB0CjQBrAh8BtwH9AAYDDgFVAocAhwLVABcC8wDKAtgA5AGUAAsDqAD8AQMBZQPEAD4CWwBpAasA+QH/AIIDSgNcBWYDWQfMA3cDDQPNBH0AfgAKAAoAMQCWAgMAcQEyAP0BBAA2AQMACQAtAHMCHACyADAA1gAyAFgCLgCdAAwABwAzAPEBBAAMAQUAxQAXAIUBCgAbAQkAZwA7AH0BKwALATkA+gExAHoBNgDxAScAiwALANQALgB8AQ4AKwEUABkBMQAUAjoAHwI6AOMBJQBoAaoAeAKhADMCegDSAZsALQKUAOUBvQAaA4sAFAO+ABkDrwDzAbUADQS7AEoEmQA5A30A9gBtACoC0gDbAncAsgA8AosEtwAgA8gBHwaRATcCWwGEATsAggJmABgCTQCcAkAAewJBANABPwA/Aj8ADwM2AKoCPQCYAjsARAJTANkCWQDrATcApgFOALgCSwA3Aj8ATgJxANgBRwBVAlEAPAI0AGYCSABNAjUAwAJEAGkCNgBOAjUAswFgAA4CTgDdAjkADAJBAAICTQBcAk0AIwI1ABkCigHcBikBTAU5ARYDKAEvBnUB0wYRAd0EwgG4BFQBZgeDAW4IMAHRBa4BwwQbAXcFOAFbBhMBoAROAU4FWwHDBQ0FlhCPBUwPsASfC+cFwRLqAEYBRwAdAkUA2QFFAIQCSQDzAT4ApQJCAMsBOQA5AjQApgE+ALkBVgDcAUMA7AE3AN0BTABKAi8ASAJNAD8CLQCwASoAQAEyAFMCPABDAikAtwI0AG0COQDqATIAHwI6AK4BRwAnAjAAEAI8AAsCMQA/ASoAvgE8AJUCTQBdATMAYQJcAVYFfQFSBm4BpQVOAfwFhQFABXMBXAWLAWQFZQG7BAEBCwR1AYEGXwEwBmIBtgZ3AW0FXwH5BuoApQPwACgFywM4Cr4EzQtJA7oKpQMkEKAA2AU=",
          "dtype": "i2"
         },
         "xaxis": "x",
         "y": {
          "bdata": "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",
          "dtype": "f8"
         },
         "yaxis": "y"
        },
        {
         "bingroup": "y",
         "hovertemplate": "output_eval_time_per_output_token=%{y}<br>count=%{x}<extra></extra>",
         "legendgroup": "",
         "marker": {
          "color": "#636efa"
         },
         "name": "",
         "opacity": 0.5,
         "showlegend": false,
         "type": "histogram",
         "xaxis": "x2",
         "y": {
          "bdata": "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",
          "dtype": "f8"
         },
         "yaxis": "y2"
        },
        {
         "hovertemplate": "<b>LOWESS trendline</b><br><br>output_tokens=%{x}<br>output_eval_time_per_output_token=%{y} <b>(trend)</b><extra></extra>",
         "legendgroup": "",
         "marker": {
          "color": "#636efa",
          "symbol": "circle"
         },
         "mode": "lines",
         "name": "",
         "showlegend": false,
         "type": "scatter",
         "x": {
          "bdata": "AwADAAQABAAFAAUABwAJAAkACQAJAAoACgAKAAsACwAMAAwADAAOAA8AFAAVABYAFwAZABoAHAAdAB8AIAAjACUAJwAnACcAKQApACkAKgAqACsAKwAtAC0ALgAuAC4ALgAvADAAMAAwADEAMQAxADEAMgAyADIAMgAzADMANAA0ADQANQA1ADUANQA1ADYANgA2ADYANwA3ADgAOQA5ADkAOQA6ADoAOgA6ADoAOwA7ADsAPAA8ADwAPQA+AD4APwA/AD8APwBAAEEAQQBCAEMAQwBDAEQARQBFAEcARwBHAEgASQBLAEwATABNAE0ATQBNAE0ATgBOAFEAUwBWAFkAWwBgAGIAZgBnAG0AcQB3AHoAfQB9AH4AhwCKAIsAiwCNAI8AlACUAJkAmwCdAKAAoQCoAKoAqwCvALIAsgC1ALcAuwC9AL4AxADEAMUA0gDUANUA1gDYANoA6gDqAPAA8ADzAPYA/QD/AAEBAQEDAQgBCwEMAQ4BEQETARkBGwEbAR4BHwEmASgBKQEpASsBMAE0ATYBNgE4ATkBPwFAAUUBRgFOAU4BVAFZAVsBWwFcAV0BXwFfAWIBYgFlAWYBZgFoAWkBbgFwAXEBcwF0AXUBdQF3AXkBegF8AXwBfQF9AX0BgwGEAYUBhQGKAYsBkQGXAaYBpgGuAa4BsAGzAbcBuQG+AcIBxQHIAcsBzQHQAdIB2AHZAdwB3QHjAeQB5QHqAesB7AHxAfEB8wHzAfkB+gH8Af0BAgIGAgsCDAIOAhACFAIVAhcCGAIZAh0CHQIfAh8CIwIlAicCKgItAjMCNwI3AjkCPAI8Aj4CPwI/AkMCRAJIAkoCTQJOAk4CUwJVAlUCWAJcAmECZgJpAmsCbAJtAnMCeAJ7AoIChAKHApUClgKYApwCoQKlAqoCtwK4AsACygLRAtkC2wLdAgYDCwMNAw8DFAMWAxkDGgMgAzkDSQNKA2UDZgN3A4IDpQOlA8sDzAMLBA0ESgSLBKAEsAS4BLsEvgTDBM0E3QQNBSgFQAVMBU4FVgVcBVwFZAVtBXcFjwWlBcMF0QXYBecF/AUfBi8GMAZSBlsGgQa2BtMG3Ab5BlkHZgduCDgKugqfC80LTA8kEJYQwRI=",
          "dtype": "i2"
         },
         "xaxis": "x",
         "y": {
          "bdata": "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",
          "dtype": "f8"
         },
         "yaxis": "y"
        }
       ],
       "layout": {
        "barmode": "overlay",
        "legend": {
         "tracegroupgap": 0
        },
        "margin": {
         "t": 60
        },
        "template": {
         "data": {
          "bar": [
           {
            "error_x": {
             "color": "#2a3f5f"
            },
            "error_y": {
             "color": "#2a3f5f"
            },
            "marker": {
             "line": {
              "color": "#E5ECF6",
              "width": 0.5
             },
             "pattern": {
              "fillmode": "overlay",
              "size": 10,
              "solidity": 0.2
             }
            },
            "type": "bar"
           }
          ],
          "barpolar": [
           {
            "marker": {
             "line": {
              "color": "#E5ECF6",
              "width": 0.5
             },
             "pattern": {
              "fillmode": "overlay",
              "size": 10,
              "solidity": 0.2
             }
            },
            "type": "barpolar"
           }
          ],
          "carpet": [
           {
            "aaxis": {
             "endlinecolor": "#2a3f5f",
             "gridcolor": "white",
             "linecolor": "white",
             "minorgridcolor": "white",
             "startlinecolor": "#2a3f5f"
            },
            "baxis": {
             "endlinecolor": "#2a3f5f",
             "gridcolor": "white",
             "linecolor": "white",
             "minorgridcolor": "white",
             "startlinecolor": "#2a3f5f"
            },
            "type": "carpet"
           }
          ],
          "choropleth": [
           {
            "colorbar": {
             "outlinewidth": 0,
             "ticks": ""
            },
            "type": "choropleth"
           }
          ],
          "contour": [
           {
            "colorbar": {
             "outlinewidth": 0,
             "ticks": ""
            },
            "colorscale": [
             [
              0,
              "#0d0887"
             ],
             [
              0.1111111111111111,
              "#46039f"
             ],
             [
              0.2222222222222222,
              "#7201a8"
             ],
             [
              0.3333333333333333,
              "#9c179e"
             ],
             [
              0.4444444444444444,
              "#bd3786"
             ],
             [
              0.5555555555555556,
              "#d8576b"
             ],
             [
              0.6666666666666666,
              "#ed7953"
             ],
             [
              0.7777777777777778,
              "#fb9f3a"
             ],
             [
              0.8888888888888888,
              "#fdca26"
             ],
             [
              1,
              "#f0f921"
             ]
            ],
            "type": "contour"
           }
          ],
          "contourcarpet": [
           {
            "colorbar": {
             "outlinewidth": 0,
             "ticks": ""
            },
            "type": "contourcarpet"
           }
          ],
          "heatmap": [
           {
            "colorbar": {
             "outlinewidth": 0,
             "ticks": ""
            },
            "colorscale": [
             [
              0,
              "#0d0887"
             ],
             [
              0.1111111111111111,
              "#46039f"
             ],
             [
              0.2222222222222222,
              "#7201a8"
             ],
             [
              0.3333333333333333,
              "#9c179e"
             ],
             [
              0.4444444444444444,
              "#bd3786"
             ],
             [
              0.5555555555555556,
              "#d8576b"
             ],
             [
              0.6666666666666666,
              "#ed7953"
             ],
             [
              0.7777777777777778,
              "#fb9f3a"
             ],
             [
              0.8888888888888888,
              "#fdca26"
             ],
             [
              1,
              "#f0f921"
             ]
            ],
            "type": "heatmap"
           }
          ],
          "histogram": [
           {
            "marker": {
             "pattern": {
              "fillmode": "overlay",
              "size": 10,
              "solidity": 0.2
             }
            },
            "type": "histogram"
           }
          ],
          "histogram2d": [
           {
            "colorbar": {
             "outlinewidth": 0,
             "ticks": ""
            },
            "colorscale": [
             [
              0,
              "#0d0887"
             ],
             [
              0.1111111111111111,
              "#46039f"
             ],
             [
              0.2222222222222222,
              "#7201a8"
             ],
             [
              0.3333333333333333,
              "#9c179e"
             ],
             [
              0.4444444444444444,
              "#bd3786"
             ],
             [
              0.5555555555555556,
              "#d8576b"
             ],
             [
              0.6666666666666666,
              "#ed7953"
             ],
             [
              0.7777777777777778,
              "#fb9f3a"
             ],
             [
              0.8888888888888888,
              "#fdca26"
             ],
             [
              1,
              "#f0f921"
             ]
            ],
            "type": "histogram2d"
           }
          ],
          "histogram2dcontour": [
           {
            "colorbar": {
             "outlinewidth": 0,
             "ticks": ""
            },
            "colorscale": [
             [
              0,
              "#0d0887"
             ],
             [
              0.1111111111111111,
              "#46039f"
             ],
             [
              0.2222222222222222,
              "#7201a8"
             ],
             [
              0.3333333333333333,
              "#9c179e"
             ],
             [
              0.4444444444444444,
              "#bd3786"
             ],
             [
              0.5555555555555556,
              "#d8576b"
             ],
             [
              0.6666666666666666,
              "#ed7953"
             ],
             [
              0.7777777777777778,
              "#fb9f3a"
             ],
             [
              0.8888888888888888,
              "#fdca26"
             ],
             [
              1,
              "#f0f921"
             ]
            ],
            "type": "histogram2dcontour"
           }
          ],
          "mesh3d": [
           {
            "colorbar": {
             "outlinewidth": 0,
             "ticks": ""
            },
            "type": "mesh3d"
           }
          ],
          "parcoords": [
           {
            "line": {
             "colorbar": {
              "outlinewidth": 0,
              "ticks": ""
             }
            },
            "type": "parcoords"
           }
          ],
          "pie": [
           {
            "automargin": true,
            "type": "pie"
           }
          ],
          "scatter": [
           {
            "fillpattern": {
             "fillmode": "overlay",
             "size": 10,
             "solidity": 0.2
            },
            "type": "scatter"
           }
          ],
          "scatter3d": [
           {
            "line": {
             "colorbar": {
              "outlinewidth": 0,
              "ticks": ""
             }
            },
            "marker": {
             "colorbar": {
              "outlinewidth": 0,
              "ticks": ""
             }
            },
            "type": "scatter3d"
           }
          ],
          "scattercarpet": [
           {
            "marker": {
             "colorbar": {
              "outlinewidth": 0,
              "ticks": ""
             }
            },
            "type": "scattercarpet"
           }
          ],
          "scattergeo": [
           {
            "marker": {
             "colorbar": {
              "outlinewidth": 0,
              "ticks": ""
             }
            },
            "type": "scattergeo"
           }
          ],
          "scattergl": [
           {
            "marker": {
             "colorbar": {
              "outlinewidth": 0,
              "ticks": ""
             }
            },
            "type": "scattergl"
           }
          ],
          "scattermap": [
           {
            "marker": {
             "colorbar": {
              "outlinewidth": 0,
              "ticks": ""
             }
            },
            "type": "scattermap"
           }
          ],
          "scattermapbox": [
           {
            "marker": {
             "colorbar": {
              "outlinewidth": 0,
              "ticks": ""
             }
            },
            "type": "scattermapbox"
           }
          ],
          "scatterpolar": [
           {
            "marker": {
             "colorbar": {
              "outlinewidth": 0,
              "ticks": ""
             }
            },
            "type": "scatterpolar"
           }
          ],
          "scatterpolargl": [
           {
            "marker": {
             "colorbar": {
              "outlinewidth": 0,
              "ticks": ""
             }
            },
            "type": "scatterpolargl"
           }
          ],
          "scatterternary": [
           {
            "marker": {
             "colorbar": {
              "outlinewidth": 0,
              "ticks": ""
             }
            },
            "type": "scatterternary"
           }
          ],
          "surface": [
           {
            "colorbar": {
             "outlinewidth": 0,
             "ticks": ""
            },
            "colorscale": [
             [
              0,
              "#0d0887"
             ],
             [
              0.1111111111111111,
              "#46039f"
             ],
             [
              0.2222222222222222,
              "#7201a8"
             ],
             [
              0.3333333333333333,
              "#9c179e"
             ],
             [
              0.4444444444444444,
              "#bd3786"
             ],
             [
              0.5555555555555556,
              "#d8576b"
             ],
             [
              0.6666666666666666,
              "#ed7953"
             ],
             [
              0.7777777777777778,
              "#fb9f3a"
             ],
             [
              0.8888888888888888,
              "#fdca26"
             ],
             [
              1,
              "#f0f921"
             ]
            ],
            "type": "surface"
           }
          ],
          "table": [
           {
            "cells": {
             "fill": {
              "color": "#EBF0F8"
             },
             "line": {
              "color": "white"
             }
            },
            "header": {
             "fill": {
              "color": "#C8D4E3"
             },
             "line": {
              "color": "white"
             }
            },
            "type": "table"
           }
          ]
         },
         "layout": {
          "annotationdefaults": {
           "arrowcolor": "#2a3f5f",
           "arrowhead": 0,
           "arrowwidth": 1
          },
          "autotypenumbers": "strict",
          "coloraxis": {
           "colorbar": {
            "outlinewidth": 0,
            "ticks": ""
           }
          },
          "colorscale": {
           "diverging": [
            [
             0,
             "#8e0152"
            ],
            [
             0.1,
             "#c51b7d"
            ],
            [
             0.2,
             "#de77ae"
            ],
            [
             0.3,
             "#f1b6da"
            ],
            [
             0.4,
             "#fde0ef"
            ],
            [
             0.5,
             "#f7f7f7"
            ],
            [
             0.6,
             "#e6f5d0"
            ],
            [
             0.7,
             "#b8e186"
            ],
            [
             0.8,
             "#7fbc41"
            ],
            [
             0.9,
             "#4d9221"
            ],
            [
             1,
             "#276419"
            ]
           ],
           "sequential": [
            [
             0,
             "#0d0887"
            ],
            [
             0.1111111111111111,
             "#46039f"
            ],
            [
             0.2222222222222222,
             "#7201a8"
            ],
            [
             0.3333333333333333,
             "#9c179e"
            ],
            [
             0.4444444444444444,
             "#bd3786"
            ],
            [
             0.5555555555555556,
             "#d8576b"
            ],
            [
             0.6666666666666666,
             "#ed7953"
            ],
            [
             0.7777777777777778,
             "#fb9f3a"
            ],
            [
             0.8888888888888888,
             "#fdca26"
            ],
            [
             1,
             "#f0f921"
            ]
           ],
           "sequentialminus": [
            [
             0,
             "#0d0887"
            ],
            [
             0.1111111111111111,
             "#46039f"
            ],
            [
             0.2222222222222222,
             "#7201a8"
            ],
            [
             0.3333333333333333,
             "#9c179e"
            ],
            [
             0.4444444444444444,
             "#bd3786"
            ],
            [
             0.5555555555555556,
             "#d8576b"
            ],
            [
             0.6666666666666666,
             "#ed7953"
            ],
            [
             0.7777777777777778,
             "#fb9f3a"
            ],
            [
             0.8888888888888888,
             "#fdca26"
            ],
            [
             1,
             "#f0f921"
            ]
           ]
          },
          "colorway": [
           "#636efa",
           "#EF553B",
           "#00cc96",
           "#ab63fa",
           "#FFA15A",
           "#19d3f3",
           "#FF6692",
           "#B6E880",
           "#FF97FF",
           "#FECB52"
          ],
          "font": {
           "color": "#2a3f5f"
          },
          "geo": {
           "bgcolor": "white",
           "lakecolor": "white",
           "landcolor": "#E5ECF6",
           "showlakes": true,
           "showland": true,
           "subunitcolor": "white"
          },
          "hoverlabel": {
           "align": "left"
          },
          "hovermode": "closest",
          "mapbox": {
           "style": "light"
          },
          "paper_bgcolor": "white",
          "plot_bgcolor": "#E5ECF6",
          "polar": {
           "angularaxis": {
            "gridcolor": "white",
            "linecolor": "white",
            "ticks": ""
           },
           "bgcolor": "#E5ECF6",
           "radialaxis": {
            "gridcolor": "white",
            "linecolor": "white",
            "ticks": ""
           }
          },
          "scene": {
           "xaxis": {
            "backgroundcolor": "#E5ECF6",
            "gridcolor": "white",
            "gridwidth": 2,
            "linecolor": "white",
            "showbackground": true,
            "ticks": "",
            "zerolinecolor": "white"
           },
           "yaxis": {
            "backgroundcolor": "#E5ECF6",
            "gridcolor": "white",
            "gridwidth": 2,
            "linecolor": "white",
            "showbackground": true,
            "ticks": "",
            "zerolinecolor": "white"
           },
           "zaxis": {
            "backgroundcolor": "#E5ECF6",
            "gridcolor": "white",
            "gridwidth": 2,
            "linecolor": "white",
            "showbackground": true,
            "ticks": "",
            "zerolinecolor": "white"
           }
          },
          "shapedefaults": {
           "line": {
            "color": "#2a3f5f"
           }
          },
          "ternary": {
           "aaxis": {
            "gridcolor": "white",
            "linecolor": "white",
            "ticks": ""
           },
           "baxis": {
            "gridcolor": "white",
            "linecolor": "white",
            "ticks": ""
           },
           "bgcolor": "#E5ECF6",
           "caxis": {
            "gridcolor": "white",
            "linecolor": "white",
            "ticks": ""
           }
          },
          "title": {
           "x": 0.05
          },
          "xaxis": {
           "automargin": true,
           "gridcolor": "white",
           "linecolor": "white",
           "ticks": "",
           "title": {
            "standoff": 15
           },
           "zerolinecolor": "white",
           "zerolinewidth": 2
          },
          "yaxis": {
           "automargin": true,
           "gridcolor": "white",
           "linecolor": "white",
           "ticks": "",
           "title": {
            "standoff": 15
           },
           "zerolinecolor": "white",
           "zerolinewidth": 2
          }
         }
        },
        "xaxis": {
         "anchor": "y",
         "domain": [
          0,
          0.7363
         ],
         "title": {
          "text": "output_tokens"
         }
        },
        "xaxis2": {
         "anchor": "y2",
         "domain": [
          0.7413,
          1
         ],
         "matches": "x2",
         "showgrid": true,
         "showline": false,
         "showticklabels": false,
         "ticks": ""
        },
        "yaxis": {
         "anchor": "x",
         "domain": [
          0,
          1
         ],
         "title": {
          "text": "output_eval_time_per_output_token"
         }
        },
        "yaxis2": {
         "anchor": "x2",
         "domain": [
          0,
          1
         ],
         "matches": "y",
         "showgrid": true,
         "showticklabels": false
        }
       }
      }
     },
     "metadata": {},
     "output_type": "display_data"
    }
   ],
   "source": [
    "fig = px.scatter(data_df, x= range(len(data_df)), y= \"total_time\", size=\"output_tokens\", color = 'output_length', marginal_y=\"violin\")\n",
    "fig.show()\n",
    "fig = px.scatter(data_df, x= \"output_tokens\" , y= [\"total_time\", \"load_time\", \"prompt_eval_time\", \"output_eval_time\"], trendline=\"lowess\")\n",
    "fig.show()\n",
    "fig = px.scatter(data_df, x= \"input_tokens\", y= [\"total_time\", \"load_time\", \"prompt_eval_time\", \"output_eval_time\"], trendline=\"lowess\")\n",
    "fig.show()\n",
    "fig = px.scatter(data_df, y= \"output_eval_time_per_output_token\" , x= \"output_tokens\", trendline=\"lowess\", marginal_y=\"histogram\")\n",
    "fig.show()"
   ]
  },
  {
   "cell_type": "markdown",
   "id": "95a58317e65b37c6",
   "metadata": {},
   "source": [
    "# Analyzing effects of Prompt complexity\n",
    "- time\n",
    "- output tokens"
   ]
  },
  {
   "cell_type": "code",
   "execution_count": 12,
   "id": "be5faa5edd95f3f1",
   "metadata": {
    "ExecuteTime": {
     "end_time": "2025-10-12T18:44:35.351695Z",
     "start_time": "2025-10-12T18:44:34.837655Z"
    }
   },
   "outputs": [
    {
     "data": {
      "application/vnd.plotly.v1+json": {
       "config": {
        "plotlyServerURL": "https://plot.ly"
       },
       "data": [
        {
         "hovertemplate": "prompt_complexity=easy<br>x=%{x}<br>total_time_per_input_token=%{y}<br>input_tokens=%{marker.size}<extra></extra>",
         "legendgroup": "easy",
         "marker": {
          "color": "#636efa",
          "size": {
           "bdata": "WABbAFcAWgBMAE8AWQBcAE0AUABUAFcAUABTAFcAWgBWAFkAUgBVAFkAXABOAFEASwBOAFgAWwBRAFQAUQBUAE4AUQBPAFIAUABTAFYAWQBRAFQAUQBUAFsAXgBUAFcATwBSAFIAVQBRAFQAUgBVAFQAVwBOAFEAVABXAFQAVwD7Af4B8wH2AfMB9gHtAfAB+wH+AfMB9gHzAfYB7QHwAfsB/gHzAfYB8wH2Ae0B8AH7Af4B8wH2AfMB9gHtAfABiQeMB4kHjAeJB4wHiQeMB98d4h0iACUAIAAjACAAIwAhACQAIQAkACEAJAAgACMAIwAmACQAJwAgACMAIwAmACMAJgAhACQAIAAjACAAIwAiACUAIQAkACMAJgAfACIAIQAkACAAIwAfACIAIAAjACIAJQAlACgAIAAjACMAJgAhACQAIAAjACAAIwAgACMAHwAiAGcAagBsAG8AZABnAGcAagBpAGwAZQBoAGMAZgBnAGoAZQBoAGQAZwBnAGoAYABjAGUAaABoAGsAYQBkAGoAbQBZAVwBUwFWAUsBTgFTAVYBBQUIBQ==",
           "dtype": "i2"
          },
          "sizemode": "area",
          "sizeref": 19.125,
          "symbol": "circle"
         },
         "mode": "markers",
         "name": "easy",
         "orientation": "v",
         "showlegend": true,
         "type": "scatter",
         "x": {
          "bdata": "AAABAAIAAwAEAAUABgAHAAgACQAKAAsADAANAA4ADwAQABEAEgATABQAFQAWABcAGAAZABoAGwAcAB0AHgAfACAAIQAiACMAJAAlACYAJwAoACkAKgArACwALQAuAC8AMAAxADIAMwA0ADUANgA3ADgAOQA6ADsAPAA9AD4APwBAAEEAQgBDAEQARQBGAEcASABJAEoASwBMAE0ATgBPAFAAUQBSAFMAVABVAFYAVwBYAFkAWgBbAFwAXQBeAF8AYABhAGIAYwBkAGUAZgBnAGgAaQBqAGsAbABtAG4AbwBwAHEAcgBzAHQAdQB2AHcAeAB5AHoAewB8AH0AfgB/AIAAgQCCAIMAhACFAIYAhwCIAIkAigCLAIwAjQCOAI8AkACRAJIAkwCUAJUAlgCXAJgAmQCaAJsAnACdAJ4AnwCgAKEAogCjAKQApQCmAKcAqACpAKoAqwCsAK0ArgCvALAAsQCyALMAtAC1ALYAtwC4ALkAugC7ALwAvQC+AL8AwADBAMIAwwDEAMUAxgDHAMgAyQDKAMsAzADNAM4AzwDQANEA0gDTAA==",
          "dtype": "i2"
         },
         "xaxis": "x",
         "y": {
          "bdata": "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",
          "dtype": "f8"
         },
         "yaxis": "y"
        },
        {
         "alignmentgroup": "True",
         "hovertemplate": "prompt_complexity=easy<br>total_time_per_input_token=%{y}<extra></extra>",
         "legendgroup": "easy",
         "marker": {
          "color": "#636efa",
          "symbol": "circle"
         },
         "name": "easy",
         "offsetgroup": "easy",
         "scalegroup": "y",
         "showlegend": false,
         "type": "violin",
         "xaxis": "x2",
         "y": {
          "bdata": "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",
          "dtype": "f8"
         },
         "yaxis": "y2"
        },
        {
         "hovertemplate": "prompt_complexity=hard<br>x=%{x}<br>total_time_per_input_token=%{y}<br>input_tokens=%{marker.size}<extra></extra>",
         "legendgroup": "hard",
         "marker": {
          "color": "#EF553B",
          "size": {
           "bdata": "ZwBqAFQAVwBdAGAAVgBZAFMAVgBTAFYATwBSAFYAWQBYAFsATwBSAFQAVwBTAFYAVwBaAFAAUwBOAFEASwBOAFIAVQBNAFAAVABXAFIAVQBbAF4ATwBSAE0AUABLAE4ASABLAFEAVABQAFMATgBRAEsATgBMAE8ASgBNAEsATgAYAhsC7QHwAeYB6QHCAcUBGAIbAu0B8AHmAekBwgHFARgCGwLtAfAB5gHpAcIBxQEYAhsC7QHwAeYB6QHCAcUBaAdrB2gHawdoB2sHaAdrB1sdXh0mACkAIQAkACUAKAAiACUAIgAlACQAJwAhACQAIQAkACIAJQAhACQAJAAnACQAJwAjACYAJAAnACMAJgAtADAAJAAnACIAJQAiACUAIQAkACIAJQAjACYAIQAkACQAJwAlACgAIgAlACQAJwAjACYAIwAmACQAJwAnACoAIwAmAHUAeACBAIQAcgB1AH4AgQB7AH4AdwB6AHQAdwB6AH0AeQB8AHYAeQByAHUAfQCAAHUAeABuAHEAdQB4AHgAewChAaQBmwGeAZkBnAGLAY4BGwYeBg==",
           "dtype": "i2"
          },
          "sizemode": "area",
          "sizeref": 19.125,
          "symbol": "circle"
         },
         "mode": "markers",
         "name": "hard",
         "orientation": "v",
         "showlegend": true,
         "type": "scatter",
         "x": {
          "bdata": "1ADVANYA1wDYANkA2gDbANwA3QDeAN8A4ADhAOIA4wDkAOUA5gDnAOgA6QDqAOsA7ADtAO4A7wDwAPEA8gDzAPQA9QD2APcA+AD5APoA+wD8AP0A/gD/AAABAQECAQMBBAEFAQYBBwEIAQkBCgELAQwBDQEOAQ8BEAERARIBEwEUARUBFgEXARgBGQEaARsBHAEdAR4BHwEgASEBIgEjASQBJQEmAScBKAEpASoBKwEsAS0BLgEvATABMQEyATMBNAE1ATYBNwE4ATkBOgE7ATwBPQE+AT8BQAFBAUIBQwFEAUUBRgFHAUgBSQFKAUsBTAFNAU4BTwFQAVEBUgFTAVQBVQFWAVcBWAFZAVoBWwFcAV0BXgFfAWABYQFiAWMBZAFlAWYBZwFoAWkBagFrAWwBbQFuAW8BcAFxAXIBcwF0AXUBdgF3AXgBeQF6AXsBfAF9AX4BfwGAAYEBggGDAYQBhQGGAYcBiAGJAYoBiwGMAY0BjgGPAZABkQGSAZMBlAGVAZYBlwGYAZkBmgGbAZwBnQGeAZ8BoAGhAaIBowGkAaUBpgGnAQ==",
          "dtype": "i2"
         },
         "xaxis": "x",
         "y": {
          "bdata": "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",
          "dtype": "f8"
         },
         "yaxis": "y"
        },
        {
         "alignmentgroup": "True",
         "hovertemplate": "prompt_complexity=hard<br>total_time_per_input_token=%{y}<extra></extra>",
         "legendgroup": "hard",
         "marker": {
          "color": "#EF553B",
          "symbol": "circle"
         },
         "name": "hard",
         "offsetgroup": "hard",
         "scalegroup": "y",
         "showlegend": false,
         "type": "violin",
         "xaxis": "x2",
         "y": {
          "bdata": "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",
          "dtype": "f8"
         },
         "yaxis": "y2"
        }
       ],
       "layout": {
        "legend": {
         "itemsizing": "constant",
         "title": {
          "text": "prompt_complexity"
         },
         "tracegroupgap": 0
        },
        "margin": {
         "t": 60
        },
        "template": {
         "data": {
          "bar": [
           {
            "error_x": {
             "color": "#2a3f5f"
            },
            "error_y": {
             "color": "#2a3f5f"
            },
            "marker": {
             "line": {
              "color": "#E5ECF6",
              "width": 0.5
             },
             "pattern": {
              "fillmode": "overlay",
              "size": 10,
              "solidity": 0.2
             }
            },
            "type": "bar"
           }
          ],
          "barpolar": [
           {
            "marker": {
             "line": {
              "color": "#E5ECF6",
              "width": 0.5
             },
             "pattern": {
              "fillmode": "overlay",
              "size": 10,
              "solidity": 0.2
             }
            },
            "type": "barpolar"
           }
          ],
          "carpet": [
           {
            "aaxis": {
             "endlinecolor": "#2a3f5f",
             "gridcolor": "white",
             "linecolor": "white",
             "minorgridcolor": "white",
             "startlinecolor": "#2a3f5f"
            },
            "baxis": {
             "endlinecolor": "#2a3f5f",
             "gridcolor": "white",
             "linecolor": "white",
             "minorgridcolor": "white",
             "startlinecolor": "#2a3f5f"
            },
            "type": "carpet"
           }
          ],
          "choropleth": [
           {
            "colorbar": {
             "outlinewidth": 0,
             "ticks": ""
            },
            "type": "choropleth"
           }
          ],
          "contour": [
           {
            "colorbar": {
             "outlinewidth": 0,
             "ticks": ""
            },
            "colorscale": [
             [
              0,
              "#0d0887"
             ],
             [
              0.1111111111111111,
              "#46039f"
             ],
             [
              0.2222222222222222,
              "#7201a8"
             ],
             [
              0.3333333333333333,
              "#9c179e"
             ],
             [
              0.4444444444444444,
              "#bd3786"
             ],
             [
              0.5555555555555556,
              "#d8576b"
             ],
             [
              0.6666666666666666,
              "#ed7953"
             ],
             [
              0.7777777777777778,
              "#fb9f3a"
             ],
             [
              0.8888888888888888,
              "#fdca26"
             ],
             [
              1,
              "#f0f921"
             ]
            ],
            "type": "contour"
           }
          ],
          "contourcarpet": [
           {
            "colorbar": {
             "outlinewidth": 0,
             "ticks": ""
            },
            "type": "contourcarpet"
           }
          ],
          "heatmap": [
           {
            "colorbar": {
             "outlinewidth": 0,
             "ticks": ""
            },
            "colorscale": [
             [
              0,
              "#0d0887"
             ],
             [
              0.1111111111111111,
              "#46039f"
             ],
             [
              0.2222222222222222,
              "#7201a8"
             ],
             [
              0.3333333333333333,
              "#9c179e"
             ],
             [
              0.4444444444444444,
              "#bd3786"
             ],
             [
              0.5555555555555556,
              "#d8576b"
             ],
             [
              0.6666666666666666,
              "#ed7953"
             ],
             [
              0.7777777777777778,
              "#fb9f3a"
             ],
             [
              0.8888888888888888,
              "#fdca26"
             ],
             [
              1,
              "#f0f921"
             ]
            ],
            "type": "heatmap"
           }
          ],
          "histogram": [
           {
            "marker": {
             "pattern": {
              "fillmode": "overlay",
              "size": 10,
              "solidity": 0.2
             }
            },
            "type": "histogram"
           }
          ],
          "histogram2d": [
           {
            "colorbar": {
             "outlinewidth": 0,
             "ticks": ""
            },
            "colorscale": [
             [
              0,
              "#0d0887"
             ],
             [
              0.1111111111111111,
              "#46039f"
             ],
             [
              0.2222222222222222,
              "#7201a8"
             ],
             [
              0.3333333333333333,
              "#9c179e"
             ],
             [
              0.4444444444444444,
              "#bd3786"
             ],
             [
              0.5555555555555556,
              "#d8576b"
             ],
             [
              0.6666666666666666,
              "#ed7953"
             ],
             [
              0.7777777777777778,
              "#fb9f3a"
             ],
             [
              0.8888888888888888,
              "#fdca26"
             ],
             [
              1,
              "#f0f921"
             ]
            ],
            "type": "histogram2d"
           }
          ],
          "histogram2dcontour": [
           {
            "colorbar": {
             "outlinewidth": 0,
             "ticks": ""
            },
            "colorscale": [
             [
              0,
              "#0d0887"
             ],
             [
              0.1111111111111111,
              "#46039f"
             ],
             [
              0.2222222222222222,
              "#7201a8"
             ],
             [
              0.3333333333333333,
              "#9c179e"
             ],
             [
              0.4444444444444444,
              "#bd3786"
             ],
             [
              0.5555555555555556,
              "#d8576b"
             ],
             [
              0.6666666666666666,
              "#ed7953"
             ],
             [
              0.7777777777777778,
              "#fb9f3a"
             ],
             [
              0.8888888888888888,
              "#fdca26"
             ],
             [
              1,
              "#f0f921"
             ]
            ],
            "type": "histogram2dcontour"
           }
          ],
          "mesh3d": [
           {
            "colorbar": {
             "outlinewidth": 0,
             "ticks": ""
            },
            "type": "mesh3d"
           }
          ],
          "parcoords": [
           {
            "line": {
             "colorbar": {
              "outlinewidth": 0,
              "ticks": ""
             }
            },
            "type": "parcoords"
           }
          ],
          "pie": [
           {
            "automargin": true,
            "type": "pie"
           }
          ],
          "scatter": [
           {
            "fillpattern": {
             "fillmode": "overlay",
             "size": 10,
             "solidity": 0.2
            },
            "type": "scatter"
           }
          ],
          "scatter3d": [
           {
            "line": {
             "colorbar": {
              "outlinewidth": 0,
              "ticks": ""
             }
            },
            "marker": {
             "colorbar": {
              "outlinewidth": 0,
              "ticks": ""
             }
            },
            "type": "scatter3d"
           }
          ],
          "scattercarpet": [
           {
            "marker": {
             "colorbar": {
              "outlinewidth": 0,
              "ticks": ""
             }
            },
            "type": "scattercarpet"
           }
          ],
          "scattergeo": [
           {
            "marker": {
             "colorbar": {
              "outlinewidth": 0,
              "ticks": ""
             }
            },
            "type": "scattergeo"
           }
          ],
          "scattergl": [
           {
            "marker": {
             "colorbar": {
              "outlinewidth": 0,
              "ticks": ""
             }
            },
            "type": "scattergl"
           }
          ],
          "scattermap": [
           {
            "marker": {
             "colorbar": {
              "outlinewidth": 0,
              "ticks": ""
             }
            },
            "type": "scattermap"
           }
          ],
          "scattermapbox": [
           {
            "marker": {
             "colorbar": {
              "outlinewidth": 0,
              "ticks": ""
             }
            },
            "type": "scattermapbox"
           }
          ],
          "scatterpolar": [
           {
            "marker": {
             "colorbar": {
              "outlinewidth": 0,
              "ticks": ""
             }
            },
            "type": "scatterpolar"
           }
          ],
          "scatterpolargl": [
           {
            "marker": {
             "colorbar": {
              "outlinewidth": 0,
              "ticks": ""
             }
            },
            "type": "scatterpolargl"
           }
          ],
          "scatterternary": [
           {
            "marker": {
             "colorbar": {
              "outlinewidth": 0,
              "ticks": ""
             }
            },
            "type": "scatterternary"
           }
          ],
          "surface": [
           {
            "colorbar": {
             "outlinewidth": 0,
             "ticks": ""
            },
            "colorscale": [
             [
              0,
              "#0d0887"
             ],
             [
              0.1111111111111111,
              "#46039f"
             ],
             [
              0.2222222222222222,
              "#7201a8"
             ],
             [
              0.3333333333333333,
              "#9c179e"
             ],
             [
              0.4444444444444444,
              "#bd3786"
             ],
             [
              0.5555555555555556,
              "#d8576b"
             ],
             [
              0.6666666666666666,
              "#ed7953"
             ],
             [
              0.7777777777777778,
              "#fb9f3a"
             ],
             [
              0.8888888888888888,
              "#fdca26"
             ],
             [
              1,
              "#f0f921"
             ]
            ],
            "type": "surface"
           }
          ],
          "table": [
           {
            "cells": {
             "fill": {
              "color": "#EBF0F8"
             },
             "line": {
              "color": "white"
             }
            },
            "header": {
             "fill": {
              "color": "#C8D4E3"
             },
             "line": {
              "color": "white"
             }
            },
            "type": "table"
           }
          ]
         },
         "layout": {
          "annotationdefaults": {
           "arrowcolor": "#2a3f5f",
           "arrowhead": 0,
           "arrowwidth": 1
          },
          "autotypenumbers": "strict",
          "coloraxis": {
           "colorbar": {
            "outlinewidth": 0,
            "ticks": ""
           }
          },
          "colorscale": {
           "diverging": [
            [
             0,
             "#8e0152"
            ],
            [
             0.1,
             "#c51b7d"
            ],
            [
             0.2,
             "#de77ae"
            ],
            [
             0.3,
             "#f1b6da"
            ],
            [
             0.4,
             "#fde0ef"
            ],
            [
             0.5,
             "#f7f7f7"
            ],
            [
             0.6,
             "#e6f5d0"
            ],
            [
             0.7,
             "#b8e186"
            ],
            [
             0.8,
             "#7fbc41"
            ],
            [
             0.9,
             "#4d9221"
            ],
            [
             1,
             "#276419"
            ]
           ],
           "sequential": [
            [
             0,
             "#0d0887"
            ],
            [
             0.1111111111111111,
             "#46039f"
            ],
            [
             0.2222222222222222,
             "#7201a8"
            ],
            [
             0.3333333333333333,
             "#9c179e"
            ],
            [
             0.4444444444444444,
             "#bd3786"
            ],
            [
             0.5555555555555556,
             "#d8576b"
            ],
            [
             0.6666666666666666,
             "#ed7953"
            ],
            [
             0.7777777777777778,
             "#fb9f3a"
            ],
            [
             0.8888888888888888,
             "#fdca26"
            ],
            [
             1,
             "#f0f921"
            ]
           ],
           "sequentialminus": [
            [
             0,
             "#0d0887"
            ],
            [
             0.1111111111111111,
             "#46039f"
            ],
            [
             0.2222222222222222,
             "#7201a8"
            ],
            [
             0.3333333333333333,
             "#9c179e"
            ],
            [
             0.4444444444444444,
             "#bd3786"
            ],
            [
             0.5555555555555556,
             "#d8576b"
            ],
            [
             0.6666666666666666,
             "#ed7953"
            ],
            [
             0.7777777777777778,
             "#fb9f3a"
            ],
            [
             0.8888888888888888,
             "#fdca26"
            ],
            [
             1,
             "#f0f921"
            ]
           ]
          },
          "colorway": [
           "#636efa",
           "#EF553B",
           "#00cc96",
           "#ab63fa",
           "#FFA15A",
           "#19d3f3",
           "#FF6692",
           "#B6E880",
           "#FF97FF",
           "#FECB52"
          ],
          "font": {
           "color": "#2a3f5f"
          },
          "geo": {
           "bgcolor": "white",
           "lakecolor": "white",
           "landcolor": "#E5ECF6",
           "showlakes": true,
           "showland": true,
           "subunitcolor": "white"
          },
          "hoverlabel": {
           "align": "left"
          },
          "hovermode": "closest",
          "mapbox": {
           "style": "light"
          },
          "paper_bgcolor": "white",
          "plot_bgcolor": "#E5ECF6",
          "polar": {
           "angularaxis": {
            "gridcolor": "white",
            "linecolor": "white",
            "ticks": ""
           },
           "bgcolor": "#E5ECF6",
           "radialaxis": {
            "gridcolor": "white",
            "linecolor": "white",
            "ticks": ""
           }
          },
          "scene": {
           "xaxis": {
            "backgroundcolor": "#E5ECF6",
            "gridcolor": "white",
            "gridwidth": 2,
            "linecolor": "white",
            "showbackground": true,
            "ticks": "",
            "zerolinecolor": "white"
           },
           "yaxis": {
            "backgroundcolor": "#E5ECF6",
            "gridcolor": "white",
            "gridwidth": 2,
            "linecolor": "white",
            "showbackground": true,
            "ticks": "",
            "zerolinecolor": "white"
           },
           "zaxis": {
            "backgroundcolor": "#E5ECF6",
            "gridcolor": "white",
            "gridwidth": 2,
            "linecolor": "white",
            "showbackground": true,
            "ticks": "",
            "zerolinecolor": "white"
           }
          },
          "shapedefaults": {
           "line": {
            "color": "#2a3f5f"
           }
          },
          "ternary": {
           "aaxis": {
            "gridcolor": "white",
            "linecolor": "white",
            "ticks": ""
           },
           "baxis": {
            "gridcolor": "white",
            "linecolor": "white",
            "ticks": ""
           },
           "bgcolor": "#E5ECF6",
           "caxis": {
            "gridcolor": "white",
            "linecolor": "white",
            "ticks": ""
           }
          },
          "title": {
           "x": 0.05
          },
          "xaxis": {
           "automargin": true,
           "gridcolor": "white",
           "linecolor": "white",
           "ticks": "",
           "title": {
            "standoff": 15
           },
           "zerolinecolor": "white",
           "zerolinewidth": 2
          },
          "yaxis": {
           "automargin": true,
           "gridcolor": "white",
           "linecolor": "white",
           "ticks": "",
           "title": {
            "standoff": 15
           },
           "zerolinecolor": "white",
           "zerolinewidth": 2
          }
         }
        },
        "xaxis": {
         "anchor": "y",
         "domain": [
          0,
          0.7363
         ],
         "title": {
          "text": "x"
         }
        },
        "xaxis2": {
         "anchor": "y2",
         "domain": [
          0.7413,
          1
         ],
         "matches": "x2",
         "showgrid": false,
         "showline": false,
         "showticklabels": false,
         "ticks": ""
        },
        "yaxis": {
         "anchor": "x",
         "domain": [
          0,
          1
         ],
         "title": {
          "text": "total_time_per_input_token"
         }
        },
        "yaxis2": {
         "anchor": "x2",
         "domain": [
          0,
          1
         ],
         "matches": "y",
         "showgrid": true,
         "showticklabels": false
        }
       }
      }
     },
     "metadata": {},
     "output_type": "display_data"
    },
    {
     "data": {
      "application/vnd.plotly.v1+json": {
       "config": {
        "plotlyServerURL": "https://plot.ly"
       },
       "data": [
        {
         "hovertemplate": "prompt_complexity=easy<br>x=%{x}<br>total_time_per_output_token=%{y}<br>output_tokens=%{marker.size}<extra></extra>",
         "legendgroup": "easy",
         "marker": {
          "color": "#636efa",
          "size": {
           "bdata": "JwAeAToAzQE2ANECJwDaACkAYgEfAPAANQB9AQkAjwAZAAEBCQBFASMACAFMAHwBFgA2AR0AYgArAGYBOgCXAS4AxQFDABUCMAChAhoAKQEFAIoAIAAMAA8AJgEMAFkBPwBwATgAJQI1AHkBKQB0AQsANAFDAAYCLgBsAhUAZgHEAB0CjQBrAh8BtwH9AAYDDgFVAocAhwLVABcC8wDKAtgA5AGUAAsDqAD8AQMBZQPEAD4CWwBpAasA+QH/AIIDSgNcBWYDWQfMA3cDDQPNBH0AfgAKAAoAMQCWAgMAcQEyAP0BBAA2AQMACQAtAHMCHACyADAA1gAyAFgCLgCdAAwABwAzAPEBBAAMAQUAxQAXAIUBCgAbAQkAZwA7AH0BKwALATkA+gExAHoBNgDxAScAiwALANQALgB8AQ4AKwEUABkBMQAUAjoAHwI6AOMBJQBoAaoAeAKhADMCegDSAZsALQKUAOUBvQAaA4sAFAO+ABkDrwDzAbUADQS7AEoEmQA5A30A9gBtACoC0gDbAncAsgA8AosEtwAgA8gBHwaRATcCWwGEAQ==",
           "dtype": "i2"
          },
          "sizemode": "area",
          "sizeref": 12.0025,
          "symbol": "circle"
         },
         "mode": "markers",
         "name": "easy",
         "orientation": "v",
         "showlegend": true,
         "type": "scatter",
         "x": {
          "bdata": "AAABAAIAAwAEAAUABgAHAAgACQAKAAsADAANAA4ADwAQABEAEgATABQAFQAWABcAGAAZABoAGwAcAB0AHgAfACAAIQAiACMAJAAlACYAJwAoACkAKgArACwALQAuAC8AMAAxADIAMwA0ADUANgA3ADgAOQA6ADsAPAA9AD4APwBAAEEAQgBDAEQARQBGAEcASABJAEoASwBMAE0ATgBPAFAAUQBSAFMAVABVAFYAVwBYAFkAWgBbAFwAXQBeAF8AYABhAGIAYwBkAGUAZgBnAGgAaQBqAGsAbABtAG4AbwBwAHEAcgBzAHQAdQB2AHcAeAB5AHoAewB8AH0AfgB/AIAAgQCCAIMAhACFAIYAhwCIAIkAigCLAIwAjQCOAI8AkACRAJIAkwCUAJUAlgCXAJgAmQCaAJsAnACdAJ4AnwCgAKEAogCjAKQApQCmAKcAqACpAKoAqwCsAK0ArgCvALAAsQCyALMAtAC1ALYAtwC4ALkAugC7ALwAvQC+AL8AwADBAMIAwwDEAMUAxgDHAMgAyQDKAMsAzADNAM4AzwDQANEA0gDTAA==",
          "dtype": "i2"
         },
         "xaxis": "x",
         "y": {
          "bdata": "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",
          "dtype": "f8"
         },
         "yaxis": "y"
        },
        {
         "alignmentgroup": "True",
         "hovertemplate": "prompt_complexity=easy<br>total_time_per_output_token=%{y}<extra></extra>",
         "legendgroup": "easy",
         "marker": {
          "color": "#636efa",
          "symbol": "circle"
         },
         "name": "easy",
         "offsetgroup": "easy",
         "scalegroup": "y",
         "showlegend": false,
         "type": "violin",
         "xaxis": "x2",
         "y": {
          "bdata": "4Ck2W1cemT8BuQq/fjiWP+rn/I4nx5c/juarWw4plj9++b5OzwKYP/Q4fYiDCpY/wQ8zg+ngmD9yCt9nGiuWP1H0fN0b7Zk/e2nWI99Blj8opImUNYGaP4M2Woq7LJY/yBBdiF31lz/Gj2F3fCaWP6T+hoI4G6Q/yUHyayhTlj/b8+iFvJebP/RfGBOTmpY/NOpfqsR6oz9Exz+1/VyWPz/A//v48Jk/kGoLeRhPlj9kiktqdyqXP4hBt57qMJY/yoRenTaKnT+gODnDDwaWP6woKN4yD5o/HR+h986flj/n/QtjZKWYP1Mmovn+FpY/lwHDgE4BmD8yqIwSMmOWP87kJrFZcJg/MBP5p1Iwlj/gTrKSJ12XP7BuLU6bFpY/CLuF0ju5mD/7/HDsYQCWP0JY08crVps/2ten7CqFlj/cHDp/C5moP1VoCTBExJY/arnYWZnVmj+xSexIYyKiP7QObjcypaA/VNslPjZglj9vjmDQLzeiPz3XbHEbg5Y/z/sTK3ZImD+Y0QfggHSWP7r7XVoRdpg/Q3Ej5Ugqlj9jL6QCvimYPwE8TRRoKJY/2mxWDunHmD//FFLSySCWPwLlxMLTo6E/c6LiVAhclj9LcXcfLqGXP6QMATdpPpY/lQxdzLQrmD8nm3H+Mh+WP76faKmIIZw/BZmoWnZUlj8FOZjoZm2XPyYhH60fX5Y/8N2MbvYjmD/ZsmnpV9SWP9NV0GAdIZc/Fbxayk6Tlj8KUkBKvBmXP3w9SPZQtpY/iQCUkv0Elz9NJQyX00mWP+hYx4u9E5g//Jzqypmqlj/b0y+lRXiXP+ZnoABmipY/RMjh+hkKlz8VXyoytHeWPz7oxbGlIJc/Yqj/xWjUlj9StzKLVP6XPxnzhQB3epY/yr7dB1Sxlz/fRQ0zTbeWP059p3hAVpc/mpo6iIx3lj/mfo1gzFuXP3GLEsk80JY/rHQdXyCumT/dJw2ACNKWP2TBXACcf5c/cgyfVDvFlj8TXhzlnw6XP2Pwj3DJjpY/dFPmCsBhmD/55gQ1N/SXP2bhqQiRl5g/xSngt2YLmD8mfcH0ZFCYP54VvYqKo5g/gVPk+EiXmD/mgYfyvBCYPzTeJK7tcrQ/eBvW59NltD/D+e1O6/SjP3ibsxVmZ6I/ln+i5l1qmD/2SZ8olByWP18GY0Si0LA/1ZCX8mYylj/dW2vR/fqXP6Ua2LuHM5Y/5X6HokCfrD/mWR1YlfyVP1yvsn9nRLA/mYROOBFAoj+pfrBN2rqYPzqzo+e19ZU/1odz0OTgmT9WkJEFnQSWP6fQQsuDvZc/EK7OhzPblT/PfY2y68+XP6+OiM7X0ZU/cb5+oTEFmD9FjJaRGQGWP+DnQFejn6A/RTYFZjeopT8s1cndqxqYP2/UDCOiI5Y/ZoUi3c8pqz9GcuSQRheWP4D7Mv+Fcak/aAAR7xg6lj+VGykVE56cP3q6qloxSJY/SZAAJIkUoz/C2qZsQzWWPwhfQsLHCqM/VfME0ngAlz/epKBH0CuYPzj6/4jOhpY/nwwiPvDHmD8jeuFntjiWP4oMzga5t5c/TpVVRKg/lj894NA+3+eXP2LwoTcMV5Y/T9KqpnDYlz9cv6mRTXuWP8efVTblt5g/V6HITQU6lj+oyOWZEKGgP5hzths2JJY/lXO5TJRymT829tMcrEGWP2uOiSxuuZ4/ckcpRwpwlj/IuSyqbsOeP984reBmZpY/Mul7fDrnlz+tWHHesU2WP5quMb2eiJc/pkN8UN0slj/rvdE0AI6XP6mkCx4lOJY/CEzzSwbFmD/XWwktheuVP2eSXX9yhZY/MrLYkXSWlj8K9/bKAmeWP+Fl2n55K5Y/F4cwnuu6lj/Tfdb4mj6WP8DMBCFFRJY/9d4C+DxDlj+pK+lylM2WP/wMYNTVNJY/uDtPvuYTlj+VP8E8WOqVP+Tr2EX1f5Y/PrpOkzYilj+jagjS4r6WP8+LsvbeHpY/l9BHgWk7lj+RnjnvdCOWP57hR3FqV5Y/pAKEc4cElj9zfKYxP0iWPzc5qrIgD5Y/uvMlj/U1lj8PD2NkKNuVP6Ipix97ZpY/cv/UM18rlj+M3XW6F4iXP9sJqG6OPJY/lM0YpcmIlj87FyaJMAKWP/xqyLigeJY/gn+eijszlj+2sfgYdnWWP61BMJ/FdJY/Ld1reKuolz+gLyAodVGWP3Yc1tx3r5Y/Hqkgh1Fylj/wFKisTOCWP230hOzgjZY/y7sUkADQmD+oQMbOAdiYPw==",
          "dtype": "f8"
         },
         "yaxis": "y2"
        },
        {
         "hovertemplate": "prompt_complexity=hard<br>x=%{x}<br>total_time_per_output_token=%{y}<br>output_tokens=%{marker.size}<extra></extra>",
         "legendgroup": "hard",
         "marker": {
          "color": "#EF553B",
          "size": {
           "bdata": "OwCCAmYAGAJNAJwCQAB7AkEA0AE/AD8CPwAPAzYAqgI9AJgCOwBEAlMA2QJZAOsBNwCmAU4AuAJLADcCPwBOAnEA2AFHAFUCUQA8AjQAZgJIAE0CNQDAAkQAaQI2AE4CNQCzAWAADgJOAN0COQAMAkEAAgJNAFwCTQAjAjUAGQKKAdwGKQFMBTkBFgMoAS8GdQHTBhEB3QTCAbgEVAFmB4MBbggwAdEFrgHDBBsBdwU4AVsGEwGgBE4BTgVbAcMFDQWWEI8FTA+wBJ8L5wXBEuoARgFHAB0CRQDZAUUAhAJJAPMBPgClAkIAywE5ADkCNACmAT4AuQFWANwBQwDsATcA3QFMAEoCLwBIAk0APwItALABKgBAATIAUwI8AEMCKQC3AjQAbQI5AOoBMgAfAjoArgFHACcCMAAQAjwACwIxAD8BKgC+ATwAlQJNAF0BMwBhAlwBVgV9AVIGbgGlBU4B/AWFAUAFcwFcBYsBZAVlAbsEAQELBHUBgQZfATAGYgG2BncBbQVfAfkG6gClA/AAKAXLAzgKvgTNC0kDugqlAyQQoADYBQ==",
           "dtype": "i2"
          },
          "sizemode": "area",
          "sizeref": 12.0025,
          "symbol": "circle"
         },
         "mode": "markers",
         "name": "hard",
         "orientation": "v",
         "showlegend": true,
         "type": "scatter",
         "x": {
          "bdata": "1ADVANYA1wDYANkA2gDbANwA3QDeAN8A4ADhAOIA4wDkAOUA5gDnAOgA6QDqAOsA7ADtAO4A7wDwAPEA8gDzAPQA9QD2APcA+AD5APoA+wD8AP0A/gD/AAABAQECAQMBBAEFAQYBBwEIAQkBCgELAQwBDQEOAQ8BEAERARIBEwEUARUBFgEXARgBGQEaARsBHAEdAR4BHwEgASEBIgEjASQBJQEmAScBKAEpASoBKwEsAS0BLgEvATABMQEyATMBNAE1ATYBNwE4ATkBOgE7ATwBPQE+AT8BQAFBAUIBQwFEAUUBRgFHAUgBSQFKAUsBTAFNAU4BTwFQAVEBUgFTAVQBVQFWAVcBWAFZAVoBWwFcAV0BXgFfAWABYQFiAWMBZAFlAWYBZwFoAWkBagFrAWwBbQFuAW8BcAFxAXIBcwF0AXUBdgF3AXgBeQF6AXsBfAF9AX4BfwGAAYEBggGDAYQBhQGGAYcBiAGJAYoBiwGMAY0BjgGPAZABkQGSAZMBlAGVAZYBlwGYAZkBmgGbAZwBnQGeAZ8BoAGhAaIBowGkAaUBpgGnAQ==",
          "dtype": "i2"
         },
         "xaxis": "x",
         "y": {
          "bdata": "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",
          "dtype": "f8"
         },
         "yaxis": "y"
        },
        {
         "alignmentgroup": "True",
         "hovertemplate": "prompt_complexity=hard<br>total_time_per_output_token=%{y}<extra></extra>",
         "legendgroup": "hard",
         "marker": {
          "color": "#EF553B",
          "symbol": "circle"
         },
         "name": "hard",
         "offsetgroup": "hard",
         "scalegroup": "y",
         "showlegend": false,
         "type": "violin",
         "xaxis": "x2",
         "y": {
          "bdata": "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",
          "dtype": "f8"
         },
         "yaxis": "y2"
        }
       ],
       "layout": {
        "legend": {
         "itemsizing": "constant",
         "title": {
          "text": "prompt_complexity"
         },
         "tracegroupgap": 0
        },
        "margin": {
         "t": 60
        },
        "template": {
         "data": {
          "bar": [
           {
            "error_x": {
             "color": "#2a3f5f"
            },
            "error_y": {
             "color": "#2a3f5f"
            },
            "marker": {
             "line": {
              "color": "#E5ECF6",
              "width": 0.5
             },
             "pattern": {
              "fillmode": "overlay",
              "size": 10,
              "solidity": 0.2
             }
            },
            "type": "bar"
           }
          ],
          "barpolar": [
           {
            "marker": {
             "line": {
              "color": "#E5ECF6",
              "width": 0.5
             },
             "pattern": {
              "fillmode": "overlay",
              "size": 10,
              "solidity": 0.2
             }
            },
            "type": "barpolar"
           }
          ],
          "carpet": [
           {
            "aaxis": {
             "endlinecolor": "#2a3f5f",
             "gridcolor": "white",
             "linecolor": "white",
             "minorgridcolor": "white",
             "startlinecolor": "#2a3f5f"
            },
            "baxis": {
             "endlinecolor": "#2a3f5f",
             "gridcolor": "white",
             "linecolor": "white",
             "minorgridcolor": "white",
             "startlinecolor": "#2a3f5f"
            },
            "type": "carpet"
           }
          ],
          "choropleth": [
           {
            "colorbar": {
             "outlinewidth": 0,
             "ticks": ""
            },
            "type": "choropleth"
           }
          ],
          "contour": [
           {
            "colorbar": {
             "outlinewidth": 0,
             "ticks": ""
            },
            "colorscale": [
             [
              0,
              "#0d0887"
             ],
             [
              0.1111111111111111,
              "#46039f"
             ],
             [
              0.2222222222222222,
              "#7201a8"
             ],
             [
              0.3333333333333333,
              "#9c179e"
             ],
             [
              0.4444444444444444,
              "#bd3786"
             ],
             [
              0.5555555555555556,
              "#d8576b"
             ],
             [
              0.6666666666666666,
              "#ed7953"
             ],
             [
              0.7777777777777778,
              "#fb9f3a"
             ],
             [
              0.8888888888888888,
              "#fdca26"
             ],
             [
              1,
              "#f0f921"
             ]
            ],
            "type": "contour"
           }
          ],
          "contourcarpet": [
           {
            "colorbar": {
             "outlinewidth": 0,
             "ticks": ""
            },
            "type": "contourcarpet"
           }
          ],
          "heatmap": [
           {
            "colorbar": {
             "outlinewidth": 0,
             "ticks": ""
            },
            "colorscale": [
             [
              0,
              "#0d0887"
             ],
             [
              0.1111111111111111,
              "#46039f"
             ],
             [
              0.2222222222222222,
              "#7201a8"
             ],
             [
              0.3333333333333333,
              "#9c179e"
             ],
             [
              0.4444444444444444,
              "#bd3786"
             ],
             [
              0.5555555555555556,
              "#d8576b"
             ],
             [
              0.6666666666666666,
              "#ed7953"
             ],
             [
              0.7777777777777778,
              "#fb9f3a"
             ],
             [
              0.8888888888888888,
              "#fdca26"
             ],
             [
              1,
              "#f0f921"
             ]
            ],
            "type": "heatmap"
           }
          ],
          "histogram": [
           {
            "marker": {
             "pattern": {
              "fillmode": "overlay",
              "size": 10,
              "solidity": 0.2
             }
            },
            "type": "histogram"
           }
          ],
          "histogram2d": [
           {
            "colorbar": {
             "outlinewidth": 0,
             "ticks": ""
            },
            "colorscale": [
             [
              0,
              "#0d0887"
             ],
             [
              0.1111111111111111,
              "#46039f"
             ],
             [
              0.2222222222222222,
              "#7201a8"
             ],
             [
              0.3333333333333333,
              "#9c179e"
             ],
             [
              0.4444444444444444,
              "#bd3786"
             ],
             [
              0.5555555555555556,
              "#d8576b"
             ],
             [
              0.6666666666666666,
              "#ed7953"
             ],
             [
              0.7777777777777778,
              "#fb9f3a"
             ],
             [
              0.8888888888888888,
              "#fdca26"
             ],
             [
              1,
              "#f0f921"
             ]
            ],
            "type": "histogram2d"
           }
          ],
          "histogram2dcontour": [
           {
            "colorbar": {
             "outlinewidth": 0,
             "ticks": ""
            },
            "colorscale": [
             [
              0,
              "#0d0887"
             ],
             [
              0.1111111111111111,
              "#46039f"
             ],
             [
              0.2222222222222222,
              "#7201a8"
             ],
             [
              0.3333333333333333,
              "#9c179e"
             ],
             [
              0.4444444444444444,
              "#bd3786"
             ],
             [
              0.5555555555555556,
              "#d8576b"
             ],
             [
              0.6666666666666666,
              "#ed7953"
             ],
             [
              0.7777777777777778,
              "#fb9f3a"
             ],
             [
              0.8888888888888888,
              "#fdca26"
             ],
             [
              1,
              "#f0f921"
             ]
            ],
            "type": "histogram2dcontour"
           }
          ],
          "mesh3d": [
           {
            "colorbar": {
             "outlinewidth": 0,
             "ticks": ""
            },
            "type": "mesh3d"
           }
          ],
          "parcoords": [
           {
            "line": {
             "colorbar": {
              "outlinewidth": 0,
              "ticks": ""
             }
            },
            "type": "parcoords"
           }
          ],
          "pie": [
           {
            "automargin": true,
            "type": "pie"
           }
          ],
          "scatter": [
           {
            "fillpattern": {
             "fillmode": "overlay",
             "size": 10,
             "solidity": 0.2
            },
            "type": "scatter"
           }
          ],
          "scatter3d": [
           {
            "line": {
             "colorbar": {
              "outlinewidth": 0,
              "ticks": ""
             }
            },
            "marker": {
             "colorbar": {
              "outlinewidth": 0,
              "ticks": ""
             }
            },
            "type": "scatter3d"
           }
          ],
          "scattercarpet": [
           {
            "marker": {
             "colorbar": {
              "outlinewidth": 0,
              "ticks": ""
             }
            },
            "type": "scattercarpet"
           }
          ],
          "scattergeo": [
           {
            "marker": {
             "colorbar": {
              "outlinewidth": 0,
              "ticks": ""
             }
            },
            "type": "scattergeo"
           }
          ],
          "scattergl": [
           {
            "marker": {
             "colorbar": {
              "outlinewidth": 0,
              "ticks": ""
             }
            },
            "type": "scattergl"
           }
          ],
          "scattermap": [
           {
            "marker": {
             "colorbar": {
              "outlinewidth": 0,
              "ticks": ""
             }
            },
            "type": "scattermap"
           }
          ],
          "scattermapbox": [
           {
            "marker": {
             "colorbar": {
              "outlinewidth": 0,
              "ticks": ""
             }
            },
            "type": "scattermapbox"
           }
          ],
          "scatterpolar": [
           {
            "marker": {
             "colorbar": {
              "outlinewidth": 0,
              "ticks": ""
             }
            },
            "type": "scatterpolar"
           }
          ],
          "scatterpolargl": [
           {
            "marker": {
             "colorbar": {
              "outlinewidth": 0,
              "ticks": ""
             }
            },
            "type": "scatterpolargl"
           }
          ],
          "scatterternary": [
           {
            "marker": {
             "colorbar": {
              "outlinewidth": 0,
              "ticks": ""
             }
            },
            "type": "scatterternary"
           }
          ],
          "surface": [
           {
            "colorbar": {
             "outlinewidth": 0,
             "ticks": ""
            },
            "colorscale": [
             [
              0,
              "#0d0887"
             ],
             [
              0.1111111111111111,
              "#46039f"
             ],
             [
              0.2222222222222222,
              "#7201a8"
             ],
             [
              0.3333333333333333,
              "#9c179e"
             ],
             [
              0.4444444444444444,
              "#bd3786"
             ],
             [
              0.5555555555555556,
              "#d8576b"
             ],
             [
              0.6666666666666666,
              "#ed7953"
             ],
             [
              0.7777777777777778,
              "#fb9f3a"
             ],
             [
              0.8888888888888888,
              "#fdca26"
             ],
             [
              1,
              "#f0f921"
             ]
            ],
            "type": "surface"
           }
          ],
          "table": [
           {
            "cells": {
             "fill": {
              "color": "#EBF0F8"
             },
             "line": {
              "color": "white"
             }
            },
            "header": {
             "fill": {
              "color": "#C8D4E3"
             },
             "line": {
              "color": "white"
             }
            },
            "type": "table"
           }
          ]
         },
         "layout": {
          "annotationdefaults": {
           "arrowcolor": "#2a3f5f",
           "arrowhead": 0,
           "arrowwidth": 1
          },
          "autotypenumbers": "strict",
          "coloraxis": {
           "colorbar": {
            "outlinewidth": 0,
            "ticks": ""
           }
          },
          "colorscale": {
           "diverging": [
            [
             0,
             "#8e0152"
            ],
            [
             0.1,
             "#c51b7d"
            ],
            [
             0.2,
             "#de77ae"
            ],
            [
             0.3,
             "#f1b6da"
            ],
            [
             0.4,
             "#fde0ef"
            ],
            [
             0.5,
             "#f7f7f7"
            ],
            [
             0.6,
             "#e6f5d0"
            ],
            [
             0.7,
             "#b8e186"
            ],
            [
             0.8,
             "#7fbc41"
            ],
            [
             0.9,
             "#4d9221"
            ],
            [
             1,
             "#276419"
            ]
           ],
           "sequential": [
            [
             0,
             "#0d0887"
            ],
            [
             0.1111111111111111,
             "#46039f"
            ],
            [
             0.2222222222222222,
             "#7201a8"
            ],
            [
             0.3333333333333333,
             "#9c179e"
            ],
            [
             0.4444444444444444,
             "#bd3786"
            ],
            [
             0.5555555555555556,
             "#d8576b"
            ],
            [
             0.6666666666666666,
             "#ed7953"
            ],
            [
             0.7777777777777778,
             "#fb9f3a"
            ],
            [
             0.8888888888888888,
             "#fdca26"
            ],
            [
             1,
             "#f0f921"
            ]
           ],
           "sequentialminus": [
            [
             0,
             "#0d0887"
            ],
            [
             0.1111111111111111,
             "#46039f"
            ],
            [
             0.2222222222222222,
             "#7201a8"
            ],
            [
             0.3333333333333333,
             "#9c179e"
            ],
            [
             0.4444444444444444,
             "#bd3786"
            ],
            [
             0.5555555555555556,
             "#d8576b"
            ],
            [
             0.6666666666666666,
             "#ed7953"
            ],
            [
             0.7777777777777778,
             "#fb9f3a"
            ],
            [
             0.8888888888888888,
             "#fdca26"
            ],
            [
             1,
             "#f0f921"
            ]
           ]
          },
          "colorway": [
           "#636efa",
           "#EF553B",
           "#00cc96",
           "#ab63fa",
           "#FFA15A",
           "#19d3f3",
           "#FF6692",
           "#B6E880",
           "#FF97FF",
           "#FECB52"
          ],
          "font": {
           "color": "#2a3f5f"
          },
          "geo": {
           "bgcolor": "white",
           "lakecolor": "white",
           "landcolor": "#E5ECF6",
           "showlakes": true,
           "showland": true,
           "subunitcolor": "white"
          },
          "hoverlabel": {
           "align": "left"
          },
          "hovermode": "closest",
          "mapbox": {
           "style": "light"
          },
          "paper_bgcolor": "white",
          "plot_bgcolor": "#E5ECF6",
          "polar": {
           "angularaxis": {
            "gridcolor": "white",
            "linecolor": "white",
            "ticks": ""
           },
           "bgcolor": "#E5ECF6",
           "radialaxis": {
            "gridcolor": "white",
            "linecolor": "white",
            "ticks": ""
           }
          },
          "scene": {
           "xaxis": {
            "backgroundcolor": "#E5ECF6",
            "gridcolor": "white",
            "gridwidth": 2,
            "linecolor": "white",
            "showbackground": true,
            "ticks": "",
            "zerolinecolor": "white"
           },
           "yaxis": {
            "backgroundcolor": "#E5ECF6",
            "gridcolor": "white",
            "gridwidth": 2,
            "linecolor": "white",
            "showbackground": true,
            "ticks": "",
            "zerolinecolor": "white"
           },
           "zaxis": {
            "backgroundcolor": "#E5ECF6",
            "gridcolor": "white",
            "gridwidth": 2,
            "linecolor": "white",
            "showbackground": true,
            "ticks": "",
            "zerolinecolor": "white"
           }
          },
          "shapedefaults": {
           "line": {
            "color": "#2a3f5f"
           }
          },
          "ternary": {
           "aaxis": {
            "gridcolor": "white",
            "linecolor": "white",
            "ticks": ""
           },
           "baxis": {
            "gridcolor": "white",
            "linecolor": "white",
            "ticks": ""
           },
           "bgcolor": "#E5ECF6",
           "caxis": {
            "gridcolor": "white",
            "linecolor": "white",
            "ticks": ""
           }
          },
          "title": {
           "x": 0.05
          },
          "xaxis": {
           "automargin": true,
           "gridcolor": "white",
           "linecolor": "white",
           "ticks": "",
           "title": {
            "standoff": 15
           },
           "zerolinecolor": "white",
           "zerolinewidth": 2
          },
          "yaxis": {
           "automargin": true,
           "gridcolor": "white",
           "linecolor": "white",
           "ticks": "",
           "title": {
            "standoff": 15
           },
           "zerolinecolor": "white",
           "zerolinewidth": 2
          }
         }
        },
        "xaxis": {
         "anchor": "y",
         "domain": [
          0,
          0.7363
         ],
         "title": {
          "text": "x"
         }
        },
        "xaxis2": {
         "anchor": "y2",
         "domain": [
          0.7413,
          1
         ],
         "matches": "x2",
         "showgrid": false,
         "showline": false,
         "showticklabels": false,
         "ticks": ""
        },
        "yaxis": {
         "anchor": "x",
         "domain": [
          0,
          1
         ],
         "title": {
          "text": "total_time_per_output_token"
         }
        },
        "yaxis2": {
         "anchor": "x2",
         "domain": [
          0,
          1
         ],
         "matches": "y",
         "showgrid": true,
         "showticklabels": false
        }
       }
      }
     },
     "metadata": {},
     "output_type": "display_data"
    }
   ],
   "source": [
    "fig = px.scatter(data_df, x= range(len(data_df)), y= \"total_time_per_input_token\", size= \"input_tokens\", color = 'prompt_complexity', marginal_y=\"violin\")\n",
    "fig.show()\n",
    "fig = px.scatter(data_df, x= range(len(data_df)), y= \"total_time_per_output_token\", size= \"output_tokens\", color = 'prompt_complexity', marginal_y=\"violin\")\n",
    "fig.show()\n",
    "# prompt complexity has no effect on latency, ignore the outliers"
   ]
  },
  {
   "cell_type": "markdown",
   "id": "75b049eeebf07375",
   "metadata": {},
   "source": [
    "# The single most Important Graph\n",
    "- devices\n",
    "- time"
   ]
  },
  {
   "cell_type": "code",
   "execution_count": 16,
   "id": "8c74dca65e2b5d03",
   "metadata": {
    "ExecuteTime": {
     "end_time": "2025-10-11T19:37:16.143558Z",
     "start_time": "2025-10-11T19:37:15.999119Z"
    }
   },
   "outputs": [
    {
     "data": {
      "application/vnd.plotly.v1+json": {
       "config": {
        "plotlyServerURL": "https://plot.ly"
       },
       "data": [
        {
         "hovertemplate": "variable=load_time_mean<br>device=%{x}<br>value=%{y}<extra></extra>",
         "legendgroup": "load_time_mean",
         "marker": {
          "color": "#636efa",
          "pattern": {
           "shape": ""
          }
         },
         "name": "load_time_mean",
         "orientation": "v",
         "showlegend": true,
         "textposition": "auto",
         "type": "bar",
         "x": [
          "M3",
          "RTX4060",
          "Ultra9-185H"
         ],
         "xaxis": "x",
         "y": {
          "bdata": "HURfISK3pz/kVjne/3W/P4KjnKxpl8M/",
          "dtype": "f8"
         },
         "yaxis": "y"
        },
        {
         "hovertemplate": "variable=load_time_var<br>device=%{x}<br>value=%{y}<extra></extra>",
         "legendgroup": "load_time_var",
         "marker": {
          "color": "#EF553B",
          "pattern": {
           "shape": ""
          }
         },
         "name": "load_time_var",
         "orientation": "v",
         "showlegend": true,
         "textposition": "auto",
         "type": "bar",
         "x": [
          "M3",
          "RTX4060",
          "Ultra9-185H"
         ],
         "xaxis": "x",
         "y": {
          "bdata": "5cL4EtZ8/T7ExkNRrzslP1qKoVug5FU/",
          "dtype": "f8"
         },
         "yaxis": "y"
        }
       ],
       "layout": {
        "barmode": "relative",
        "legend": {
         "title": {
          "text": "variable"
         },
         "tracegroupgap": 0
        },
        "margin": {
         "t": 60
        },
        "template": {
         "data": {
          "bar": [
           {
            "error_x": {
             "color": "#2a3f5f"
            },
            "error_y": {
             "color": "#2a3f5f"
            },
            "marker": {
             "line": {
              "color": "#E5ECF6",
              "width": 0.5
             },
             "pattern": {
              "fillmode": "overlay",
              "size": 10,
              "solidity": 0.2
             }
            },
            "type": "bar"
           }
          ],
          "barpolar": [
           {
            "marker": {
             "line": {
              "color": "#E5ECF6",
              "width": 0.5
             },
             "pattern": {
              "fillmode": "overlay",
              "size": 10,
              "solidity": 0.2
             }
            },
            "type": "barpolar"
           }
          ],
          "carpet": [
           {
            "aaxis": {
             "endlinecolor": "#2a3f5f",
             "gridcolor": "white",
             "linecolor": "white",
             "minorgridcolor": "white",
             "startlinecolor": "#2a3f5f"
            },
            "baxis": {
             "endlinecolor": "#2a3f5f",
             "gridcolor": "white",
             "linecolor": "white",
             "minorgridcolor": "white",
             "startlinecolor": "#2a3f5f"
            },
            "type": "carpet"
           }
          ],
          "choropleth": [
           {
            "colorbar": {
             "outlinewidth": 0,
             "ticks": ""
            },
            "type": "choropleth"
           }
          ],
          "contour": [
           {
            "colorbar": {
             "outlinewidth": 0,
             "ticks": ""
            },
            "colorscale": [
             [
              0,
              "#0d0887"
             ],
             [
              0.1111111111111111,
              "#46039f"
             ],
             [
              0.2222222222222222,
              "#7201a8"
             ],
             [
              0.3333333333333333,
              "#9c179e"
             ],
             [
              0.4444444444444444,
              "#bd3786"
             ],
             [
              0.5555555555555556,
              "#d8576b"
             ],
             [
              0.6666666666666666,
              "#ed7953"
             ],
             [
              0.7777777777777778,
              "#fb9f3a"
             ],
             [
              0.8888888888888888,
              "#fdca26"
             ],
             [
              1,
              "#f0f921"
             ]
            ],
            "type": "contour"
           }
          ],
          "contourcarpet": [
           {
            "colorbar": {
             "outlinewidth": 0,
             "ticks": ""
            },
            "type": "contourcarpet"
           }
          ],
          "heatmap": [
           {
            "colorbar": {
             "outlinewidth": 0,
             "ticks": ""
            },
            "colorscale": [
             [
              0,
              "#0d0887"
             ],
             [
              0.1111111111111111,
              "#46039f"
             ],
             [
              0.2222222222222222,
              "#7201a8"
             ],
             [
              0.3333333333333333,
              "#9c179e"
             ],
             [
              0.4444444444444444,
              "#bd3786"
             ],
             [
              0.5555555555555556,
              "#d8576b"
             ],
             [
              0.6666666666666666,
              "#ed7953"
             ],
             [
              0.7777777777777778,
              "#fb9f3a"
             ],
             [
              0.8888888888888888,
              "#fdca26"
             ],
             [
              1,
              "#f0f921"
             ]
            ],
            "type": "heatmap"
           }
          ],
          "histogram": [
           {
            "marker": {
             "pattern": {
              "fillmode": "overlay",
              "size": 10,
              "solidity": 0.2
             }
            },
            "type": "histogram"
           }
          ],
          "histogram2d": [
           {
            "colorbar": {
             "outlinewidth": 0,
             "ticks": ""
            },
            "colorscale": [
             [
              0,
              "#0d0887"
             ],
             [
              0.1111111111111111,
              "#46039f"
             ],
             [
              0.2222222222222222,
              "#7201a8"
             ],
             [
              0.3333333333333333,
              "#9c179e"
             ],
             [
              0.4444444444444444,
              "#bd3786"
             ],
             [
              0.5555555555555556,
              "#d8576b"
             ],
             [
              0.6666666666666666,
              "#ed7953"
             ],
             [
              0.7777777777777778,
              "#fb9f3a"
             ],
             [
              0.8888888888888888,
              "#fdca26"
             ],
             [
              1,
              "#f0f921"
             ]
            ],
            "type": "histogram2d"
           }
          ],
          "histogram2dcontour": [
           {
            "colorbar": {
             "outlinewidth": 0,
             "ticks": ""
            },
            "colorscale": [
             [
              0,
              "#0d0887"
             ],
             [
              0.1111111111111111,
              "#46039f"
             ],
             [
              0.2222222222222222,
              "#7201a8"
             ],
             [
              0.3333333333333333,
              "#9c179e"
             ],
             [
              0.4444444444444444,
              "#bd3786"
             ],
             [
              0.5555555555555556,
              "#d8576b"
             ],
             [
              0.6666666666666666,
              "#ed7953"
             ],
             [
              0.7777777777777778,
              "#fb9f3a"
             ],
             [
              0.8888888888888888,
              "#fdca26"
             ],
             [
              1,
              "#f0f921"
             ]
            ],
            "type": "histogram2dcontour"
           }
          ],
          "mesh3d": [
           {
            "colorbar": {
             "outlinewidth": 0,
             "ticks": ""
            },
            "type": "mesh3d"
           }
          ],
          "parcoords": [
           {
            "line": {
             "colorbar": {
              "outlinewidth": 0,
              "ticks": ""
             }
            },
            "type": "parcoords"
           }
          ],
          "pie": [
           {
            "automargin": true,
            "type": "pie"
           }
          ],
          "scatter": [
           {
            "fillpattern": {
             "fillmode": "overlay",
             "size": 10,
             "solidity": 0.2
            },
            "type": "scatter"
           }
          ],
          "scatter3d": [
           {
            "line": {
             "colorbar": {
              "outlinewidth": 0,
              "ticks": ""
             }
            },
            "marker": {
             "colorbar": {
              "outlinewidth": 0,
              "ticks": ""
             }
            },
            "type": "scatter3d"
           }
          ],
          "scattercarpet": [
           {
            "marker": {
             "colorbar": {
              "outlinewidth": 0,
              "ticks": ""
             }
            },
            "type": "scattercarpet"
           }
          ],
          "scattergeo": [
           {
            "marker": {
             "colorbar": {
              "outlinewidth": 0,
              "ticks": ""
             }
            },
            "type": "scattergeo"
           }
          ],
          "scattergl": [
           {
            "marker": {
             "colorbar": {
              "outlinewidth": 0,
              "ticks": ""
             }
            },
            "type": "scattergl"
           }
          ],
          "scattermap": [
           {
            "marker": {
             "colorbar": {
              "outlinewidth": 0,
              "ticks": ""
             }
            },
            "type": "scattermap"
           }
          ],
          "scattermapbox": [
           {
            "marker": {
             "colorbar": {
              "outlinewidth": 0,
              "ticks": ""
             }
            },
            "type": "scattermapbox"
           }
          ],
          "scatterpolar": [
           {
            "marker": {
             "colorbar": {
              "outlinewidth": 0,
              "ticks": ""
             }
            },
            "type": "scatterpolar"
           }
          ],
          "scatterpolargl": [
           {
            "marker": {
             "colorbar": {
              "outlinewidth": 0,
              "ticks": ""
             }
            },
            "type": "scatterpolargl"
           }
          ],
          "scatterternary": [
           {
            "marker": {
             "colorbar": {
              "outlinewidth": 0,
              "ticks": ""
             }
            },
            "type": "scatterternary"
           }
          ],
          "surface": [
           {
            "colorbar": {
             "outlinewidth": 0,
             "ticks": ""
            },
            "colorscale": [
             [
              0,
              "#0d0887"
             ],
             [
              0.1111111111111111,
              "#46039f"
             ],
             [
              0.2222222222222222,
              "#7201a8"
             ],
             [
              0.3333333333333333,
              "#9c179e"
             ],
             [
              0.4444444444444444,
              "#bd3786"
             ],
             [
              0.5555555555555556,
              "#d8576b"
             ],
             [
              0.6666666666666666,
              "#ed7953"
             ],
             [
              0.7777777777777778,
              "#fb9f3a"
             ],
             [
              0.8888888888888888,
              "#fdca26"
             ],
             [
              1,
              "#f0f921"
             ]
            ],
            "type": "surface"
           }
          ],
          "table": [
           {
            "cells": {
             "fill": {
              "color": "#EBF0F8"
             },
             "line": {
              "color": "white"
             }
            },
            "header": {
             "fill": {
              "color": "#C8D4E3"
             },
             "line": {
              "color": "white"
             }
            },
            "type": "table"
           }
          ]
         },
         "layout": {
          "annotationdefaults": {
           "arrowcolor": "#2a3f5f",
           "arrowhead": 0,
           "arrowwidth": 1
          },
          "autotypenumbers": "strict",
          "coloraxis": {
           "colorbar": {
            "outlinewidth": 0,
            "ticks": ""
           }
          },
          "colorscale": {
           "diverging": [
            [
             0,
             "#8e0152"
            ],
            [
             0.1,
             "#c51b7d"
            ],
            [
             0.2,
             "#de77ae"
            ],
            [
             0.3,
             "#f1b6da"
            ],
            [
             0.4,
             "#fde0ef"
            ],
            [
             0.5,
             "#f7f7f7"
            ],
            [
             0.6,
             "#e6f5d0"
            ],
            [
             0.7,
             "#b8e186"
            ],
            [
             0.8,
             "#7fbc41"
            ],
            [
             0.9,
             "#4d9221"
            ],
            [
             1,
             "#276419"
            ]
           ],
           "sequential": [
            [
             0,
             "#0d0887"
            ],
            [
             0.1111111111111111,
             "#46039f"
            ],
            [
             0.2222222222222222,
             "#7201a8"
            ],
            [
             0.3333333333333333,
             "#9c179e"
            ],
            [
             0.4444444444444444,
             "#bd3786"
            ],
            [
             0.5555555555555556,
             "#d8576b"
            ],
            [
             0.6666666666666666,
             "#ed7953"
            ],
            [
             0.7777777777777778,
             "#fb9f3a"
            ],
            [
             0.8888888888888888,
             "#fdca26"
            ],
            [
             1,
             "#f0f921"
            ]
           ],
           "sequentialminus": [
            [
             0,
             "#0d0887"
            ],
            [
             0.1111111111111111,
             "#46039f"
            ],
            [
             0.2222222222222222,
             "#7201a8"
            ],
            [
             0.3333333333333333,
             "#9c179e"
            ],
            [
             0.4444444444444444,
             "#bd3786"
            ],
            [
             0.5555555555555556,
             "#d8576b"
            ],
            [
             0.6666666666666666,
             "#ed7953"
            ],
            [
             0.7777777777777778,
             "#fb9f3a"
            ],
            [
             0.8888888888888888,
             "#fdca26"
            ],
            [
             1,
             "#f0f921"
            ]
           ]
          },
          "colorway": [
           "#636efa",
           "#EF553B",
           "#00cc96",
           "#ab63fa",
           "#FFA15A",
           "#19d3f3",
           "#FF6692",
           "#B6E880",
           "#FF97FF",
           "#FECB52"
          ],
          "font": {
           "color": "#2a3f5f"
          },
          "geo": {
           "bgcolor": "white",
           "lakecolor": "white",
           "landcolor": "#E5ECF6",
           "showlakes": true,
           "showland": true,
           "subunitcolor": "white"
          },
          "hoverlabel": {
           "align": "left"
          },
          "hovermode": "closest",
          "mapbox": {
           "style": "light"
          },
          "paper_bgcolor": "white",
          "plot_bgcolor": "#E5ECF6",
          "polar": {
           "angularaxis": {
            "gridcolor": "white",
            "linecolor": "white",
            "ticks": ""
           },
           "bgcolor": "#E5ECF6",
           "radialaxis": {
            "gridcolor": "white",
            "linecolor": "white",
            "ticks": ""
           }
          },
          "scene": {
           "xaxis": {
            "backgroundcolor": "#E5ECF6",
            "gridcolor": "white",
            "gridwidth": 2,
            "linecolor": "white",
            "showbackground": true,
            "ticks": "",
            "zerolinecolor": "white"
           },
           "yaxis": {
            "backgroundcolor": "#E5ECF6",
            "gridcolor": "white",
            "gridwidth": 2,
            "linecolor": "white",
            "showbackground": true,
            "ticks": "",
            "zerolinecolor": "white"
           },
           "zaxis": {
            "backgroundcolor": "#E5ECF6",
            "gridcolor": "white",
            "gridwidth": 2,
            "linecolor": "white",
            "showbackground": true,
            "ticks": "",
            "zerolinecolor": "white"
           }
          },
          "shapedefaults": {
           "line": {
            "color": "#2a3f5f"
           }
          },
          "ternary": {
           "aaxis": {
            "gridcolor": "white",
            "linecolor": "white",
            "ticks": ""
           },
           "baxis": {
            "gridcolor": "white",
            "linecolor": "white",
            "ticks": ""
           },
           "bgcolor": "#E5ECF6",
           "caxis": {
            "gridcolor": "white",
            "linecolor": "white",
            "ticks": ""
           }
          },
          "title": {
           "x": 0.05
          },
          "xaxis": {
           "automargin": true,
           "gridcolor": "white",
           "linecolor": "white",
           "ticks": "",
           "title": {
            "standoff": 15
           },
           "zerolinecolor": "white",
           "zerolinewidth": 2
          },
          "yaxis": {
           "automargin": true,
           "gridcolor": "white",
           "linecolor": "white",
           "ticks": "",
           "title": {
            "standoff": 15
           },
           "zerolinecolor": "white",
           "zerolinewidth": 2
          }
         }
        },
        "xaxis": {
         "anchor": "y",
         "domain": [
          0,
          1
         ],
         "title": {
          "text": "device"
         }
        },
        "yaxis": {
         "anchor": "x",
         "domain": [
          0,
          1
         ],
         "title": {
          "text": "value"
         }
        }
       }
      }
     },
     "metadata": {},
     "output_type": "display_data"
    },
    {
     "data": {
      "application/vnd.plotly.v1+json": {
       "config": {
        "plotlyServerURL": "https://plot.ly"
       },
       "data": [
        {
         "hovertemplate": "variable=prompt_eval_time_per_token_mean<br>device=%{x}<br>value=%{y}<extra></extra>",
         "legendgroup": "prompt_eval_time_per_token_mean",
         "marker": {
          "color": "#636efa",
          "pattern": {
           "shape": ""
          }
         },
         "name": "prompt_eval_time_per_token_mean",
         "orientation": "v",
         "showlegend": true,
         "textposition": "auto",
         "type": "bar",
         "x": [
          "M3",
          "RTX4060",
          "Ultra9-185H"
         ],
         "xaxis": "x",
         "y": {
          "bdata": "0saxL4ROgj+/i5t5B1gtP8382I7ESKk/",
          "dtype": "f8"
         },
         "yaxis": "y"
        },
        {
         "hovertemplate": "variable=prompt_eval_time_per_token_var<br>device=%{x}<br>value=%{y}<extra></extra>",
         "legendgroup": "prompt_eval_time_per_token_var",
         "marker": {
          "color": "#EF553B",
          "pattern": {
           "shape": ""
          }
         },
         "name": "prompt_eval_time_per_token_var",
         "orientation": "v",
         "showlegend": true,
         "textposition": "auto",
         "type": "bar",
         "x": [
          "M3",
          "RTX4060",
          "Ultra9-185H"
         ],
         "xaxis": "x",
         "y": {
          "bdata": "mV/QSQYy1j7DhU8iwxNWPhAjbSNljDE/",
          "dtype": "f8"
         },
         "yaxis": "y"
        }
       ],
       "layout": {
        "barmode": "relative",
        "legend": {
         "title": {
          "text": "variable"
         },
         "tracegroupgap": 0
        },
        "margin": {
         "t": 60
        },
        "template": {
         "data": {
          "bar": [
           {
            "error_x": {
             "color": "#2a3f5f"
            },
            "error_y": {
             "color": "#2a3f5f"
            },
            "marker": {
             "line": {
              "color": "#E5ECF6",
              "width": 0.5
             },
             "pattern": {
              "fillmode": "overlay",
              "size": 10,
              "solidity": 0.2
             }
            },
            "type": "bar"
           }
          ],
          "barpolar": [
           {
            "marker": {
             "line": {
              "color": "#E5ECF6",
              "width": 0.5
             },
             "pattern": {
              "fillmode": "overlay",
              "size": 10,
              "solidity": 0.2
             }
            },
            "type": "barpolar"
           }
          ],
          "carpet": [
           {
            "aaxis": {
             "endlinecolor": "#2a3f5f",
             "gridcolor": "white",
             "linecolor": "white",
             "minorgridcolor": "white",
             "startlinecolor": "#2a3f5f"
            },
            "baxis": {
             "endlinecolor": "#2a3f5f",
             "gridcolor": "white",
             "linecolor": "white",
             "minorgridcolor": "white",
             "startlinecolor": "#2a3f5f"
            },
            "type": "carpet"
           }
          ],
          "choropleth": [
           {
            "colorbar": {
             "outlinewidth": 0,
             "ticks": ""
            },
            "type": "choropleth"
           }
          ],
          "contour": [
           {
            "colorbar": {
             "outlinewidth": 0,
             "ticks": ""
            },
            "colorscale": [
             [
              0,
              "#0d0887"
             ],
             [
              0.1111111111111111,
              "#46039f"
             ],
             [
              0.2222222222222222,
              "#7201a8"
             ],
             [
              0.3333333333333333,
              "#9c179e"
             ],
             [
              0.4444444444444444,
              "#bd3786"
             ],
             [
              0.5555555555555556,
              "#d8576b"
             ],
             [
              0.6666666666666666,
              "#ed7953"
             ],
             [
              0.7777777777777778,
              "#fb9f3a"
             ],
             [
              0.8888888888888888,
              "#fdca26"
             ],
             [
              1,
              "#f0f921"
             ]
            ],
            "type": "contour"
           }
          ],
          "contourcarpet": [
           {
            "colorbar": {
             "outlinewidth": 0,
             "ticks": ""
            },
            "type": "contourcarpet"
           }
          ],
          "heatmap": [
           {
            "colorbar": {
             "outlinewidth": 0,
             "ticks": ""
            },
            "colorscale": [
             [
              0,
              "#0d0887"
             ],
             [
              0.1111111111111111,
              "#46039f"
             ],
             [
              0.2222222222222222,
              "#7201a8"
             ],
             [
              0.3333333333333333,
              "#9c179e"
             ],
             [
              0.4444444444444444,
              "#bd3786"
             ],
             [
              0.5555555555555556,
              "#d8576b"
             ],
             [
              0.6666666666666666,
              "#ed7953"
             ],
             [
              0.7777777777777778,
              "#fb9f3a"
             ],
             [
              0.8888888888888888,
              "#fdca26"
             ],
             [
              1,
              "#f0f921"
             ]
            ],
            "type": "heatmap"
           }
          ],
          "histogram": [
           {
            "marker": {
             "pattern": {
              "fillmode": "overlay",
              "size": 10,
              "solidity": 0.2
             }
            },
            "type": "histogram"
           }
          ],
          "histogram2d": [
           {
            "colorbar": {
             "outlinewidth": 0,
             "ticks": ""
            },
            "colorscale": [
             [
              0,
              "#0d0887"
             ],
             [
              0.1111111111111111,
              "#46039f"
             ],
             [
              0.2222222222222222,
              "#7201a8"
             ],
             [
              0.3333333333333333,
              "#9c179e"
             ],
             [
              0.4444444444444444,
              "#bd3786"
             ],
             [
              0.5555555555555556,
              "#d8576b"
             ],
             [
              0.6666666666666666,
              "#ed7953"
             ],
             [
              0.7777777777777778,
              "#fb9f3a"
             ],
             [
              0.8888888888888888,
              "#fdca26"
             ],
             [
              1,
              "#f0f921"
             ]
            ],
            "type": "histogram2d"
           }
          ],
          "histogram2dcontour": [
           {
            "colorbar": {
             "outlinewidth": 0,
             "ticks": ""
            },
            "colorscale": [
             [
              0,
              "#0d0887"
             ],
             [
              0.1111111111111111,
              "#46039f"
             ],
             [
              0.2222222222222222,
              "#7201a8"
             ],
             [
              0.3333333333333333,
              "#9c179e"
             ],
             [
              0.4444444444444444,
              "#bd3786"
             ],
             [
              0.5555555555555556,
              "#d8576b"
             ],
             [
              0.6666666666666666,
              "#ed7953"
             ],
             [
              0.7777777777777778,
              "#fb9f3a"
             ],
             [
              0.8888888888888888,
              "#fdca26"
             ],
             [
              1,
              "#f0f921"
             ]
            ],
            "type": "histogram2dcontour"
           }
          ],
          "mesh3d": [
           {
            "colorbar": {
             "outlinewidth": 0,
             "ticks": ""
            },
            "type": "mesh3d"
           }
          ],
          "parcoords": [
           {
            "line": {
             "colorbar": {
              "outlinewidth": 0,
              "ticks": ""
             }
            },
            "type": "parcoords"
           }
          ],
          "pie": [
           {
            "automargin": true,
            "type": "pie"
           }
          ],
          "scatter": [
           {
            "fillpattern": {
             "fillmode": "overlay",
             "size": 10,
             "solidity": 0.2
            },
            "type": "scatter"
           }
          ],
          "scatter3d": [
           {
            "line": {
             "colorbar": {
              "outlinewidth": 0,
              "ticks": ""
             }
            },
            "marker": {
             "colorbar": {
              "outlinewidth": 0,
              "ticks": ""
             }
            },
            "type": "scatter3d"
           }
          ],
          "scattercarpet": [
           {
            "marker": {
             "colorbar": {
              "outlinewidth": 0,
              "ticks": ""
             }
            },
            "type": "scattercarpet"
           }
          ],
          "scattergeo": [
           {
            "marker": {
             "colorbar": {
              "outlinewidth": 0,
              "ticks": ""
             }
            },
            "type": "scattergeo"
           }
          ],
          "scattergl": [
           {
            "marker": {
             "colorbar": {
              "outlinewidth": 0,
              "ticks": ""
             }
            },
            "type": "scattergl"
           }
          ],
          "scattermap": [
           {
            "marker": {
             "colorbar": {
              "outlinewidth": 0,
              "ticks": ""
             }
            },
            "type": "scattermap"
           }
          ],
          "scattermapbox": [
           {
            "marker": {
             "colorbar": {
              "outlinewidth": 0,
              "ticks": ""
             }
            },
            "type": "scattermapbox"
           }
          ],
          "scatterpolar": [
           {
            "marker": {
             "colorbar": {
              "outlinewidth": 0,
              "ticks": ""
             }
            },
            "type": "scatterpolar"
           }
          ],
          "scatterpolargl": [
           {
            "marker": {
             "colorbar": {
              "outlinewidth": 0,
              "ticks": ""
             }
            },
            "type": "scatterpolargl"
           }
          ],
          "scatterternary": [
           {
            "marker": {
             "colorbar": {
              "outlinewidth": 0,
              "ticks": ""
             }
            },
            "type": "scatterternary"
           }
          ],
          "surface": [
           {
            "colorbar": {
             "outlinewidth": 0,
             "ticks": ""
            },
            "colorscale": [
             [
              0,
              "#0d0887"
             ],
             [
              0.1111111111111111,
              "#46039f"
             ],
             [
              0.2222222222222222,
              "#7201a8"
             ],
             [
              0.3333333333333333,
              "#9c179e"
             ],
             [
              0.4444444444444444,
              "#bd3786"
             ],
             [
              0.5555555555555556,
              "#d8576b"
             ],
             [
              0.6666666666666666,
              "#ed7953"
             ],
             [
              0.7777777777777778,
              "#fb9f3a"
             ],
             [
              0.8888888888888888,
              "#fdca26"
             ],
             [
              1,
              "#f0f921"
             ]
            ],
            "type": "surface"
           }
          ],
          "table": [
           {
            "cells": {
             "fill": {
              "color": "#EBF0F8"
             },
             "line": {
              "color": "white"
             }
            },
            "header": {
             "fill": {
              "color": "#C8D4E3"
             },
             "line": {
              "color": "white"
             }
            },
            "type": "table"
           }
          ]
         },
         "layout": {
          "annotationdefaults": {
           "arrowcolor": "#2a3f5f",
           "arrowhead": 0,
           "arrowwidth": 1
          },
          "autotypenumbers": "strict",
          "coloraxis": {
           "colorbar": {
            "outlinewidth": 0,
            "ticks": ""
           }
          },
          "colorscale": {
           "diverging": [
            [
             0,
             "#8e0152"
            ],
            [
             0.1,
             "#c51b7d"
            ],
            [
             0.2,
             "#de77ae"
            ],
            [
             0.3,
             "#f1b6da"
            ],
            [
             0.4,
             "#fde0ef"
            ],
            [
             0.5,
             "#f7f7f7"
            ],
            [
             0.6,
             "#e6f5d0"
            ],
            [
             0.7,
             "#b8e186"
            ],
            [
             0.8,
             "#7fbc41"
            ],
            [
             0.9,
             "#4d9221"
            ],
            [
             1,
             "#276419"
            ]
           ],
           "sequential": [
            [
             0,
             "#0d0887"
            ],
            [
             0.1111111111111111,
             "#46039f"
            ],
            [
             0.2222222222222222,
             "#7201a8"
            ],
            [
             0.3333333333333333,
             "#9c179e"
            ],
            [
             0.4444444444444444,
             "#bd3786"
            ],
            [
             0.5555555555555556,
             "#d8576b"
            ],
            [
             0.6666666666666666,
             "#ed7953"
            ],
            [
             0.7777777777777778,
             "#fb9f3a"
            ],
            [
             0.8888888888888888,
             "#fdca26"
            ],
            [
             1,
             "#f0f921"
            ]
           ],
           "sequentialminus": [
            [
             0,
             "#0d0887"
            ],
            [
             0.1111111111111111,
             "#46039f"
            ],
            [
             0.2222222222222222,
             "#7201a8"
            ],
            [
             0.3333333333333333,
             "#9c179e"
            ],
            [
             0.4444444444444444,
             "#bd3786"
            ],
            [
             0.5555555555555556,
             "#d8576b"
            ],
            [
             0.6666666666666666,
             "#ed7953"
            ],
            [
             0.7777777777777778,
             "#fb9f3a"
            ],
            [
             0.8888888888888888,
             "#fdca26"
            ],
            [
             1,
             "#f0f921"
            ]
           ]
          },
          "colorway": [
           "#636efa",
           "#EF553B",
           "#00cc96",
           "#ab63fa",
           "#FFA15A",
           "#19d3f3",
           "#FF6692",
           "#B6E880",
           "#FF97FF",
           "#FECB52"
          ],
          "font": {
           "color": "#2a3f5f"
          },
          "geo": {
           "bgcolor": "white",
           "lakecolor": "white",
           "landcolor": "#E5ECF6",
           "showlakes": true,
           "showland": true,
           "subunitcolor": "white"
          },
          "hoverlabel": {
           "align": "left"
          },
          "hovermode": "closest",
          "mapbox": {
           "style": "light"
          },
          "paper_bgcolor": "white",
          "plot_bgcolor": "#E5ECF6",
          "polar": {
           "angularaxis": {
            "gridcolor": "white",
            "linecolor": "white",
            "ticks": ""
           },
           "bgcolor": "#E5ECF6",
           "radialaxis": {
            "gridcolor": "white",
            "linecolor": "white",
            "ticks": ""
           }
          },
          "scene": {
           "xaxis": {
            "backgroundcolor": "#E5ECF6",
            "gridcolor": "white",
            "gridwidth": 2,
            "linecolor": "white",
            "showbackground": true,
            "ticks": "",
            "zerolinecolor": "white"
           },
           "yaxis": {
            "backgroundcolor": "#E5ECF6",
            "gridcolor": "white",
            "gridwidth": 2,
            "linecolor": "white",
            "showbackground": true,
            "ticks": "",
            "zerolinecolor": "white"
           },
           "zaxis": {
            "backgroundcolor": "#E5ECF6",
            "gridcolor": "white",
            "gridwidth": 2,
            "linecolor": "white",
            "showbackground": true,
            "ticks": "",
            "zerolinecolor": "white"
           }
          },
          "shapedefaults": {
           "line": {
            "color": "#2a3f5f"
           }
          },
          "ternary": {
           "aaxis": {
            "gridcolor": "white",
            "linecolor": "white",
            "ticks": ""
           },
           "baxis": {
            "gridcolor": "white",
            "linecolor": "white",
            "ticks": ""
           },
           "bgcolor": "#E5ECF6",
           "caxis": {
            "gridcolor": "white",
            "linecolor": "white",
            "ticks": ""
           }
          },
          "title": {
           "x": 0.05
          },
          "xaxis": {
           "automargin": true,
           "gridcolor": "white",
           "linecolor": "white",
           "ticks": "",
           "title": {
            "standoff": 15
           },
           "zerolinecolor": "white",
           "zerolinewidth": 2
          },
          "yaxis": {
           "automargin": true,
           "gridcolor": "white",
           "linecolor": "white",
           "ticks": "",
           "title": {
            "standoff": 15
           },
           "zerolinecolor": "white",
           "zerolinewidth": 2
          }
         }
        },
        "xaxis": {
         "anchor": "y",
         "domain": [
          0,
          1
         ],
         "title": {
          "text": "device"
         }
        },
        "yaxis": {
         "anchor": "x",
         "domain": [
          0,
          1
         ],
         "title": {
          "text": "value"
         }
        }
       }
      }
     },
     "metadata": {},
     "output_type": "display_data"
    },
    {
     "data": {
      "application/vnd.plotly.v1+json": {
       "config": {
        "plotlyServerURL": "https://plot.ly"
       },
       "data": [
        {
         "hovertemplate": "variable=output_eval_time_per_token_mean<br>device=%{x}<br>value=%{y}<extra></extra>",
         "legendgroup": "output_eval_time_per_token_mean",
         "marker": {
          "color": "#636efa",
          "pattern": {
           "shape": ""
          }
         },
         "name": "output_eval_time_per_token_mean",
         "orientation": "v",
         "showlegend": true,
         "textposition": "auto",
         "type": "bar",
         "x": [
          "M3",
          "RTX4060",
          "Ultra9-185H"
         ],
         "xaxis": "x",
         "y": {
          "bdata": "XEWaz26Erz+H1WGsAgCWP+83lIcKnL0/",
          "dtype": "f8"
         },
         "yaxis": "y"
        },
        {
         "hovertemplate": "variable=output_eval_time_per_token_var<br>device=%{x}<br>value=%{y}<extra></extra>",
         "legendgroup": "output_eval_time_per_token_var",
         "marker": {
          "color": "#EF553B",
          "pattern": {
           "shape": ""
          }
         },
         "name": "output_eval_time_per_token_var",
         "orientation": "v",
         "showlegend": true,
         "textposition": "auto",
         "type": "bar",
         "x": [
          "M3",
          "RTX4060",
          "Ultra9-185H"
         ],
         "xaxis": "x",
         "y": {
          "bdata": "iATzHeuKKT9Kv8qiL12uPpM1XtjZ/Rs/",
          "dtype": "f8"
         },
         "yaxis": "y"
        }
       ],
       "layout": {
        "barmode": "relative",
        "legend": {
         "title": {
          "text": "variable"
         },
         "tracegroupgap": 0
        },
        "margin": {
         "t": 60
        },
        "template": {
         "data": {
          "bar": [
           {
            "error_x": {
             "color": "#2a3f5f"
            },
            "error_y": {
             "color": "#2a3f5f"
            },
            "marker": {
             "line": {
              "color": "#E5ECF6",
              "width": 0.5
             },
             "pattern": {
              "fillmode": "overlay",
              "size": 10,
              "solidity": 0.2
             }
            },
            "type": "bar"
           }
          ],
          "barpolar": [
           {
            "marker": {
             "line": {
              "color": "#E5ECF6",
              "width": 0.5
             },
             "pattern": {
              "fillmode": "overlay",
              "size": 10,
              "solidity": 0.2
             }
            },
            "type": "barpolar"
           }
          ],
          "carpet": [
           {
            "aaxis": {
             "endlinecolor": "#2a3f5f",
             "gridcolor": "white",
             "linecolor": "white",
             "minorgridcolor": "white",
             "startlinecolor": "#2a3f5f"
            },
            "baxis": {
             "endlinecolor": "#2a3f5f",
             "gridcolor": "white",
             "linecolor": "white",
             "minorgridcolor": "white",
             "startlinecolor": "#2a3f5f"
            },
            "type": "carpet"
           }
          ],
          "choropleth": [
           {
            "colorbar": {
             "outlinewidth": 0,
             "ticks": ""
            },
            "type": "choropleth"
           }
          ],
          "contour": [
           {
            "colorbar": {
             "outlinewidth": 0,
             "ticks": ""
            },
            "colorscale": [
             [
              0,
              "#0d0887"
             ],
             [
              0.1111111111111111,
              "#46039f"
             ],
             [
              0.2222222222222222,
              "#7201a8"
             ],
             [
              0.3333333333333333,
              "#9c179e"
             ],
             [
              0.4444444444444444,
              "#bd3786"
             ],
             [
              0.5555555555555556,
              "#d8576b"
             ],
             [
              0.6666666666666666,
              "#ed7953"
             ],
             [
              0.7777777777777778,
              "#fb9f3a"
             ],
             [
              0.8888888888888888,
              "#fdca26"
             ],
             [
              1,
              "#f0f921"
             ]
            ],
            "type": "contour"
           }
          ],
          "contourcarpet": [
           {
            "colorbar": {
             "outlinewidth": 0,
             "ticks": ""
            },
            "type": "contourcarpet"
           }
          ],
          "heatmap": [
           {
            "colorbar": {
             "outlinewidth": 0,
             "ticks": ""
            },
            "colorscale": [
             [
              0,
              "#0d0887"
             ],
             [
              0.1111111111111111,
              "#46039f"
             ],
             [
              0.2222222222222222,
              "#7201a8"
             ],
             [
              0.3333333333333333,
              "#9c179e"
             ],
             [
              0.4444444444444444,
              "#bd3786"
             ],
             [
              0.5555555555555556,
              "#d8576b"
             ],
             [
              0.6666666666666666,
              "#ed7953"
             ],
             [
              0.7777777777777778,
              "#fb9f3a"
             ],
             [
              0.8888888888888888,
              "#fdca26"
             ],
             [
              1,
              "#f0f921"
             ]
            ],
            "type": "heatmap"
           }
          ],
          "histogram": [
           {
            "marker": {
             "pattern": {
              "fillmode": "overlay",
              "size": 10,
              "solidity": 0.2
             }
            },
            "type": "histogram"
           }
          ],
          "histogram2d": [
           {
            "colorbar": {
             "outlinewidth": 0,
             "ticks": ""
            },
            "colorscale": [
             [
              0,
              "#0d0887"
             ],
             [
              0.1111111111111111,
              "#46039f"
             ],
             [
              0.2222222222222222,
              "#7201a8"
             ],
             [
              0.3333333333333333,
              "#9c179e"
             ],
             [
              0.4444444444444444,
              "#bd3786"
             ],
             [
              0.5555555555555556,
              "#d8576b"
             ],
             [
              0.6666666666666666,
              "#ed7953"
             ],
             [
              0.7777777777777778,
              "#fb9f3a"
             ],
             [
              0.8888888888888888,
              "#fdca26"
             ],
             [
              1,
              "#f0f921"
             ]
            ],
            "type": "histogram2d"
           }
          ],
          "histogram2dcontour": [
           {
            "colorbar": {
             "outlinewidth": 0,
             "ticks": ""
            },
            "colorscale": [
             [
              0,
              "#0d0887"
             ],
             [
              0.1111111111111111,
              "#46039f"
             ],
             [
              0.2222222222222222,
              "#7201a8"
             ],
             [
              0.3333333333333333,
              "#9c179e"
             ],
             [
              0.4444444444444444,
              "#bd3786"
             ],
             [
              0.5555555555555556,
              "#d8576b"
             ],
             [
              0.6666666666666666,
              "#ed7953"
             ],
             [
              0.7777777777777778,
              "#fb9f3a"
             ],
             [
              0.8888888888888888,
              "#fdca26"
             ],
             [
              1,
              "#f0f921"
             ]
            ],
            "type": "histogram2dcontour"
           }
          ],
          "mesh3d": [
           {
            "colorbar": {
             "outlinewidth": 0,
             "ticks": ""
            },
            "type": "mesh3d"
           }
          ],
          "parcoords": [
           {
            "line": {
             "colorbar": {
              "outlinewidth": 0,
              "ticks": ""
             }
            },
            "type": "parcoords"
           }
          ],
          "pie": [
           {
            "automargin": true,
            "type": "pie"
           }
          ],
          "scatter": [
           {
            "fillpattern": {
             "fillmode": "overlay",
             "size": 10,
             "solidity": 0.2
            },
            "type": "scatter"
           }
          ],
          "scatter3d": [
           {
            "line": {
             "colorbar": {
              "outlinewidth": 0,
              "ticks": ""
             }
            },
            "marker": {
             "colorbar": {
              "outlinewidth": 0,
              "ticks": ""
             }
            },
            "type": "scatter3d"
           }
          ],
          "scattercarpet": [
           {
            "marker": {
             "colorbar": {
              "outlinewidth": 0,
              "ticks": ""
             }
            },
            "type": "scattercarpet"
           }
          ],
          "scattergeo": [
           {
            "marker": {
             "colorbar": {
              "outlinewidth": 0,
              "ticks": ""
             }
            },
            "type": "scattergeo"
           }
          ],
          "scattergl": [
           {
            "marker": {
             "colorbar": {
              "outlinewidth": 0,
              "ticks": ""
             }
            },
            "type": "scattergl"
           }
          ],
          "scattermap": [
           {
            "marker": {
             "colorbar": {
              "outlinewidth": 0,
              "ticks": ""
             }
            },
            "type": "scattermap"
           }
          ],
          "scattermapbox": [
           {
            "marker": {
             "colorbar": {
              "outlinewidth": 0,
              "ticks": ""
             }
            },
            "type": "scattermapbox"
           }
          ],
          "scatterpolar": [
           {
            "marker": {
             "colorbar": {
              "outlinewidth": 0,
              "ticks": ""
             }
            },
            "type": "scatterpolar"
           }
          ],
          "scatterpolargl": [
           {
            "marker": {
             "colorbar": {
              "outlinewidth": 0,
              "ticks": ""
             }
            },
            "type": "scatterpolargl"
           }
          ],
          "scatterternary": [
           {
            "marker": {
             "colorbar": {
              "outlinewidth": 0,
              "ticks": ""
             }
            },
            "type": "scatterternary"
           }
          ],
          "surface": [
           {
            "colorbar": {
             "outlinewidth": 0,
             "ticks": ""
            },
            "colorscale": [
             [
              0,
              "#0d0887"
             ],
             [
              0.1111111111111111,
              "#46039f"
             ],
             [
              0.2222222222222222,
              "#7201a8"
             ],
             [
              0.3333333333333333,
              "#9c179e"
             ],
             [
              0.4444444444444444,
              "#bd3786"
             ],
             [
              0.5555555555555556,
              "#d8576b"
             ],
             [
              0.6666666666666666,
              "#ed7953"
             ],
             [
              0.7777777777777778,
              "#fb9f3a"
             ],
             [
              0.8888888888888888,
              "#fdca26"
             ],
             [
              1,
              "#f0f921"
             ]
            ],
            "type": "surface"
           }
          ],
          "table": [
           {
            "cells": {
             "fill": {
              "color": "#EBF0F8"
             },
             "line": {
              "color": "white"
             }
            },
            "header": {
             "fill": {
              "color": "#C8D4E3"
             },
             "line": {
              "color": "white"
             }
            },
            "type": "table"
           }
          ]
         },
         "layout": {
          "annotationdefaults": {
           "arrowcolor": "#2a3f5f",
           "arrowhead": 0,
           "arrowwidth": 1
          },
          "autotypenumbers": "strict",
          "coloraxis": {
           "colorbar": {
            "outlinewidth": 0,
            "ticks": ""
           }
          },
          "colorscale": {
           "diverging": [
            [
             0,
             "#8e0152"
            ],
            [
             0.1,
             "#c51b7d"
            ],
            [
             0.2,
             "#de77ae"
            ],
            [
             0.3,
             "#f1b6da"
            ],
            [
             0.4,
             "#fde0ef"
            ],
            [
             0.5,
             "#f7f7f7"
            ],
            [
             0.6,
             "#e6f5d0"
            ],
            [
             0.7,
             "#b8e186"
            ],
            [
             0.8,
             "#7fbc41"
            ],
            [
             0.9,
             "#4d9221"
            ],
            [
             1,
             "#276419"
            ]
           ],
           "sequential": [
            [
             0,
             "#0d0887"
            ],
            [
             0.1111111111111111,
             "#46039f"
            ],
            [
             0.2222222222222222,
             "#7201a8"
            ],
            [
             0.3333333333333333,
             "#9c179e"
            ],
            [
             0.4444444444444444,
             "#bd3786"
            ],
            [
             0.5555555555555556,
             "#d8576b"
            ],
            [
             0.6666666666666666,
             "#ed7953"
            ],
            [
             0.7777777777777778,
             "#fb9f3a"
            ],
            [
             0.8888888888888888,
             "#fdca26"
            ],
            [
             1,
             "#f0f921"
            ]
           ],
           "sequentialminus": [
            [
             0,
             "#0d0887"
            ],
            [
             0.1111111111111111,
             "#46039f"
            ],
            [
             0.2222222222222222,
             "#7201a8"
            ],
            [
             0.3333333333333333,
             "#9c179e"
            ],
            [
             0.4444444444444444,
             "#bd3786"
            ],
            [
             0.5555555555555556,
             "#d8576b"
            ],
            [
             0.6666666666666666,
             "#ed7953"
            ],
            [
             0.7777777777777778,
             "#fb9f3a"
            ],
            [
             0.8888888888888888,
             "#fdca26"
            ],
            [
             1,
             "#f0f921"
            ]
           ]
          },
          "colorway": [
           "#636efa",
           "#EF553B",
           "#00cc96",
           "#ab63fa",
           "#FFA15A",
           "#19d3f3",
           "#FF6692",
           "#B6E880",
           "#FF97FF",
           "#FECB52"
          ],
          "font": {
           "color": "#2a3f5f"
          },
          "geo": {
           "bgcolor": "white",
           "lakecolor": "white",
           "landcolor": "#E5ECF6",
           "showlakes": true,
           "showland": true,
           "subunitcolor": "white"
          },
          "hoverlabel": {
           "align": "left"
          },
          "hovermode": "closest",
          "mapbox": {
           "style": "light"
          },
          "paper_bgcolor": "white",
          "plot_bgcolor": "#E5ECF6",
          "polar": {
           "angularaxis": {
            "gridcolor": "white",
            "linecolor": "white",
            "ticks": ""
           },
           "bgcolor": "#E5ECF6",
           "radialaxis": {
            "gridcolor": "white",
            "linecolor": "white",
            "ticks": ""
           }
          },
          "scene": {
           "xaxis": {
            "backgroundcolor": "#E5ECF6",
            "gridcolor": "white",
            "gridwidth": 2,
            "linecolor": "white",
            "showbackground": true,
            "ticks": "",
            "zerolinecolor": "white"
           },
           "yaxis": {
            "backgroundcolor": "#E5ECF6",
            "gridcolor": "white",
            "gridwidth": 2,
            "linecolor": "white",
            "showbackground": true,
            "ticks": "",
            "zerolinecolor": "white"
           },
           "zaxis": {
            "backgroundcolor": "#E5ECF6",
            "gridcolor": "white",
            "gridwidth": 2,
            "linecolor": "white",
            "showbackground": true,
            "ticks": "",
            "zerolinecolor": "white"
           }
          },
          "shapedefaults": {
           "line": {
            "color": "#2a3f5f"
           }
          },
          "ternary": {
           "aaxis": {
            "gridcolor": "white",
            "linecolor": "white",
            "ticks": ""
           },
           "baxis": {
            "gridcolor": "white",
            "linecolor": "white",
            "ticks": ""
           },
           "bgcolor": "#E5ECF6",
           "caxis": {
            "gridcolor": "white",
            "linecolor": "white",
            "ticks": ""
           }
          },
          "title": {
           "x": 0.05
          },
          "xaxis": {
           "automargin": true,
           "gridcolor": "white",
           "linecolor": "white",
           "ticks": "",
           "title": {
            "standoff": 15
           },
           "zerolinecolor": "white",
           "zerolinewidth": 2
          },
          "yaxis": {
           "automargin": true,
           "gridcolor": "white",
           "linecolor": "white",
           "ticks": "",
           "title": {
            "standoff": 15
           },
           "zerolinecolor": "white",
           "zerolinewidth": 2
          }
         }
        },
        "xaxis": {
         "anchor": "y",
         "domain": [
          0,
          1
         ],
         "title": {
          "text": "device"
         }
        },
        "yaxis": {
         "anchor": "x",
         "domain": [
          0,
          1
         ],
         "title": {
          "text": "value"
         }
        }
       }
      }
     },
     "metadata": {},
     "output_type": "display_data"
    },
    {
     "data": {
      "application/vnd.plotly.v1+json": {
       "config": {
        "plotlyServerURL": "https://plot.ly"
       },
       "data": [
        {
         "hovertemplate": "variable=load_time_per_input_token_mean<br>device=%{x}<br>value=%{y}<extra></extra>",
         "legendgroup": "load_time_per_input_token_mean",
         "marker": {
          "color": "#636efa",
          "pattern": {
           "shape": ""
          }
         },
         "name": "load_time_per_input_token_mean",
         "orientation": "v",
         "showlegend": true,
         "textposition": "auto",
         "type": "bar",
         "x": [
          "M3",
          "RTX4060",
          "Ultra9-185H"
         ],
         "xaxis": "x",
         "y": {
          "bdata": "uaE7Mv58Qz8S07RI7ypcP4p1DfRvWmE/",
          "dtype": "f8"
         },
         "yaxis": "y"
        },
        {
         "hovertemplate": "variable=prompt_eval_time_per_token_mean<br>device=%{x}<br>value=%{y}<extra></extra>",
         "legendgroup": "prompt_eval_time_per_token_mean",
         "marker": {
          "color": "#EF553B",
          "pattern": {
           "shape": ""
          }
         },
         "name": "prompt_eval_time_per_token_mean",
         "orientation": "v",
         "showlegend": true,
         "textposition": "auto",
         "type": "bar",
         "x": [
          "M3",
          "RTX4060",
          "Ultra9-185H"
         ],
         "xaxis": "x",
         "y": {
          "bdata": "0saxL4ROgj+/i5t5B1gtP8382I7ESKk/",
          "dtype": "f8"
         },
         "yaxis": "y"
        },
        {
         "hovertemplate": "variable=output_eval_time_per_token_mean<br>device=%{x}<br>value=%{y}<extra></extra>",
         "legendgroup": "output_eval_time_per_token_mean",
         "marker": {
          "color": "#00cc96",
          "pattern": {
           "shape": ""
          }
         },
         "name": "output_eval_time_per_token_mean",
         "orientation": "v",
         "showlegend": true,
         "textposition": "auto",
         "type": "bar",
         "x": [
          "M3",
          "RTX4060",
          "Ultra9-185H"
         ],
         "xaxis": "x",
         "y": {
          "bdata": "XEWaz26Erz+H1WGsAgCWP+83lIcKnL0/",
          "dtype": "f8"
         },
         "yaxis": "y"
        }
       ],
       "layout": {
        "barmode": "relative",
        "legend": {
         "title": {
          "text": "variable"
         },
         "tracegroupgap": 0
        },
        "margin": {
         "t": 60
        },
        "template": {
         "data": {
          "bar": [
           {
            "error_x": {
             "color": "#2a3f5f"
            },
            "error_y": {
             "color": "#2a3f5f"
            },
            "marker": {
             "line": {
              "color": "#E5ECF6",
              "width": 0.5
             },
             "pattern": {
              "fillmode": "overlay",
              "size": 10,
              "solidity": 0.2
             }
            },
            "type": "bar"
           }
          ],
          "barpolar": [
           {
            "marker": {
             "line": {
              "color": "#E5ECF6",
              "width": 0.5
             },
             "pattern": {
              "fillmode": "overlay",
              "size": 10,
              "solidity": 0.2
             }
            },
            "type": "barpolar"
           }
          ],
          "carpet": [
           {
            "aaxis": {
             "endlinecolor": "#2a3f5f",
             "gridcolor": "white",
             "linecolor": "white",
             "minorgridcolor": "white",
             "startlinecolor": "#2a3f5f"
            },
            "baxis": {
             "endlinecolor": "#2a3f5f",
             "gridcolor": "white",
             "linecolor": "white",
             "minorgridcolor": "white",
             "startlinecolor": "#2a3f5f"
            },
            "type": "carpet"
           }
          ],
          "choropleth": [
           {
            "colorbar": {
             "outlinewidth": 0,
             "ticks": ""
            },
            "type": "choropleth"
           }
          ],
          "contour": [
           {
            "colorbar": {
             "outlinewidth": 0,
             "ticks": ""
            },
            "colorscale": [
             [
              0,
              "#0d0887"
             ],
             [
              0.1111111111111111,
              "#46039f"
             ],
             [
              0.2222222222222222,
              "#7201a8"
             ],
             [
              0.3333333333333333,
              "#9c179e"
             ],
             [
              0.4444444444444444,
              "#bd3786"
             ],
             [
              0.5555555555555556,
              "#d8576b"
             ],
             [
              0.6666666666666666,
              "#ed7953"
             ],
             [
              0.7777777777777778,
              "#fb9f3a"
             ],
             [
              0.8888888888888888,
              "#fdca26"
             ],
             [
              1,
              "#f0f921"
             ]
            ],
            "type": "contour"
           }
          ],
          "contourcarpet": [
           {
            "colorbar": {
             "outlinewidth": 0,
             "ticks": ""
            },
            "type": "contourcarpet"
           }
          ],
          "heatmap": [
           {
            "colorbar": {
             "outlinewidth": 0,
             "ticks": ""
            },
            "colorscale": [
             [
              0,
              "#0d0887"
             ],
             [
              0.1111111111111111,
              "#46039f"
             ],
             [
              0.2222222222222222,
              "#7201a8"
             ],
             [
              0.3333333333333333,
              "#9c179e"
             ],
             [
              0.4444444444444444,
              "#bd3786"
             ],
             [
              0.5555555555555556,
              "#d8576b"
             ],
             [
              0.6666666666666666,
              "#ed7953"
             ],
             [
              0.7777777777777778,
              "#fb9f3a"
             ],
             [
              0.8888888888888888,
              "#fdca26"
             ],
             [
              1,
              "#f0f921"
             ]
            ],
            "type": "heatmap"
           }
          ],
          "histogram": [
           {
            "marker": {
             "pattern": {
              "fillmode": "overlay",
              "size": 10,
              "solidity": 0.2
             }
            },
            "type": "histogram"
           }
          ],
          "histogram2d": [
           {
            "colorbar": {
             "outlinewidth": 0,
             "ticks": ""
            },
            "colorscale": [
             [
              0,
              "#0d0887"
             ],
             [
              0.1111111111111111,
              "#46039f"
             ],
             [
              0.2222222222222222,
              "#7201a8"
             ],
             [
              0.3333333333333333,
              "#9c179e"
             ],
             [
              0.4444444444444444,
              "#bd3786"
             ],
             [
              0.5555555555555556,
              "#d8576b"
             ],
             [
              0.6666666666666666,
              "#ed7953"
             ],
             [
              0.7777777777777778,
              "#fb9f3a"
             ],
             [
              0.8888888888888888,
              "#fdca26"
             ],
             [
              1,
              "#f0f921"
             ]
            ],
            "type": "histogram2d"
           }
          ],
          "histogram2dcontour": [
           {
            "colorbar": {
             "outlinewidth": 0,
             "ticks": ""
            },
            "colorscale": [
             [
              0,
              "#0d0887"
             ],
             [
              0.1111111111111111,
              "#46039f"
             ],
             [
              0.2222222222222222,
              "#7201a8"
             ],
             [
              0.3333333333333333,
              "#9c179e"
             ],
             [
              0.4444444444444444,
              "#bd3786"
             ],
             [
              0.5555555555555556,
              "#d8576b"
             ],
             [
              0.6666666666666666,
              "#ed7953"
             ],
             [
              0.7777777777777778,
              "#fb9f3a"
             ],
             [
              0.8888888888888888,
              "#fdca26"
             ],
             [
              1,
              "#f0f921"
             ]
            ],
            "type": "histogram2dcontour"
           }
          ],
          "mesh3d": [
           {
            "colorbar": {
             "outlinewidth": 0,
             "ticks": ""
            },
            "type": "mesh3d"
           }
          ],
          "parcoords": [
           {
            "line": {
             "colorbar": {
              "outlinewidth": 0,
              "ticks": ""
             }
            },
            "type": "parcoords"
           }
          ],
          "pie": [
           {
            "automargin": true,
            "type": "pie"
           }
          ],
          "scatter": [
           {
            "fillpattern": {
             "fillmode": "overlay",
             "size": 10,
             "solidity": 0.2
            },
            "type": "scatter"
           }
          ],
          "scatter3d": [
           {
            "line": {
             "colorbar": {
              "outlinewidth": 0,
              "ticks": ""
             }
            },
            "marker": {
             "colorbar": {
              "outlinewidth": 0,
              "ticks": ""
             }
            },
            "type": "scatter3d"
           }
          ],
          "scattercarpet": [
           {
            "marker": {
             "colorbar": {
              "outlinewidth": 0,
              "ticks": ""
             }
            },
            "type": "scattercarpet"
           }
          ],
          "scattergeo": [
           {
            "marker": {
             "colorbar": {
              "outlinewidth": 0,
              "ticks": ""
             }
            },
            "type": "scattergeo"
           }
          ],
          "scattergl": [
           {
            "marker": {
             "colorbar": {
              "outlinewidth": 0,
              "ticks": ""
             }
            },
            "type": "scattergl"
           }
          ],
          "scattermap": [
           {
            "marker": {
             "colorbar": {
              "outlinewidth": 0,
              "ticks": ""
             }
            },
            "type": "scattermap"
           }
          ],
          "scattermapbox": [
           {
            "marker": {
             "colorbar": {
              "outlinewidth": 0,
              "ticks": ""
             }
            },
            "type": "scattermapbox"
           }
          ],
          "scatterpolar": [
           {
            "marker": {
             "colorbar": {
              "outlinewidth": 0,
              "ticks": ""
             }
            },
            "type": "scatterpolar"
           }
          ],
          "scatterpolargl": [
           {
            "marker": {
             "colorbar": {
              "outlinewidth": 0,
              "ticks": ""
             }
            },
            "type": "scatterpolargl"
           }
          ],
          "scatterternary": [
           {
            "marker": {
             "colorbar": {
              "outlinewidth": 0,
              "ticks": ""
             }
            },
            "type": "scatterternary"
           }
          ],
          "surface": [
           {
            "colorbar": {
             "outlinewidth": 0,
             "ticks": ""
            },
            "colorscale": [
             [
              0,
              "#0d0887"
             ],
             [
              0.1111111111111111,
              "#46039f"
             ],
             [
              0.2222222222222222,
              "#7201a8"
             ],
             [
              0.3333333333333333,
              "#9c179e"
             ],
             [
              0.4444444444444444,
              "#bd3786"
             ],
             [
              0.5555555555555556,
              "#d8576b"
             ],
             [
              0.6666666666666666,
              "#ed7953"
             ],
             [
              0.7777777777777778,
              "#fb9f3a"
             ],
             [
              0.8888888888888888,
              "#fdca26"
             ],
             [
              1,
              "#f0f921"
             ]
            ],
            "type": "surface"
           }
          ],
          "table": [
           {
            "cells": {
             "fill": {
              "color": "#EBF0F8"
             },
             "line": {
              "color": "white"
             }
            },
            "header": {
             "fill": {
              "color": "#C8D4E3"
             },
             "line": {
              "color": "white"
             }
            },
            "type": "table"
           }
          ]
         },
         "layout": {
          "annotationdefaults": {
           "arrowcolor": "#2a3f5f",
           "arrowhead": 0,
           "arrowwidth": 1
          },
          "autotypenumbers": "strict",
          "coloraxis": {
           "colorbar": {
            "outlinewidth": 0,
            "ticks": ""
           }
          },
          "colorscale": {
           "diverging": [
            [
             0,
             "#8e0152"
            ],
            [
             0.1,
             "#c51b7d"
            ],
            [
             0.2,
             "#de77ae"
            ],
            [
             0.3,
             "#f1b6da"
            ],
            [
             0.4,
             "#fde0ef"
            ],
            [
             0.5,
             "#f7f7f7"
            ],
            [
             0.6,
             "#e6f5d0"
            ],
            [
             0.7,
             "#b8e186"
            ],
            [
             0.8,
             "#7fbc41"
            ],
            [
             0.9,
             "#4d9221"
            ],
            [
             1,
             "#276419"
            ]
           ],
           "sequential": [
            [
             0,
             "#0d0887"
            ],
            [
             0.1111111111111111,
             "#46039f"
            ],
            [
             0.2222222222222222,
             "#7201a8"
            ],
            [
             0.3333333333333333,
             "#9c179e"
            ],
            [
             0.4444444444444444,
             "#bd3786"
            ],
            [
             0.5555555555555556,
             "#d8576b"
            ],
            [
             0.6666666666666666,
             "#ed7953"
            ],
            [
             0.7777777777777778,
             "#fb9f3a"
            ],
            [
             0.8888888888888888,
             "#fdca26"
            ],
            [
             1,
             "#f0f921"
            ]
           ],
           "sequentialminus": [
            [
             0,
             "#0d0887"
            ],
            [
             0.1111111111111111,
             "#46039f"
            ],
            [
             0.2222222222222222,
             "#7201a8"
            ],
            [
             0.3333333333333333,
             "#9c179e"
            ],
            [
             0.4444444444444444,
             "#bd3786"
            ],
            [
             0.5555555555555556,
             "#d8576b"
            ],
            [
             0.6666666666666666,
             "#ed7953"
            ],
            [
             0.7777777777777778,
             "#fb9f3a"
            ],
            [
             0.8888888888888888,
             "#fdca26"
            ],
            [
             1,
             "#f0f921"
            ]
           ]
          },
          "colorway": [
           "#636efa",
           "#EF553B",
           "#00cc96",
           "#ab63fa",
           "#FFA15A",
           "#19d3f3",
           "#FF6692",
           "#B6E880",
           "#FF97FF",
           "#FECB52"
          ],
          "font": {
           "color": "#2a3f5f"
          },
          "geo": {
           "bgcolor": "white",
           "lakecolor": "white",
           "landcolor": "#E5ECF6",
           "showlakes": true,
           "showland": true,
           "subunitcolor": "white"
          },
          "hoverlabel": {
           "align": "left"
          },
          "hovermode": "closest",
          "mapbox": {
           "style": "light"
          },
          "paper_bgcolor": "white",
          "plot_bgcolor": "#E5ECF6",
          "polar": {
           "angularaxis": {
            "gridcolor": "white",
            "linecolor": "white",
            "ticks": ""
           },
           "bgcolor": "#E5ECF6",
           "radialaxis": {
            "gridcolor": "white",
            "linecolor": "white",
            "ticks": ""
           }
          },
          "scene": {
           "xaxis": {
            "backgroundcolor": "#E5ECF6",
            "gridcolor": "white",
            "gridwidth": 2,
            "linecolor": "white",
            "showbackground": true,
            "ticks": "",
            "zerolinecolor": "white"
           },
           "yaxis": {
            "backgroundcolor": "#E5ECF6",
            "gridcolor": "white",
            "gridwidth": 2,
            "linecolor": "white",
            "showbackground": true,
            "ticks": "",
            "zerolinecolor": "white"
           },
           "zaxis": {
            "backgroundcolor": "#E5ECF6",
            "gridcolor": "white",
            "gridwidth": 2,
            "linecolor": "white",
            "showbackground": true,
            "ticks": "",
            "zerolinecolor": "white"
           }
          },
          "shapedefaults": {
           "line": {
            "color": "#2a3f5f"
           }
          },
          "ternary": {
           "aaxis": {
            "gridcolor": "white",
            "linecolor": "white",
            "ticks": ""
           },
           "baxis": {
            "gridcolor": "white",
            "linecolor": "white",
            "ticks": ""
           },
           "bgcolor": "#E5ECF6",
           "caxis": {
            "gridcolor": "white",
            "linecolor": "white",
            "ticks": ""
           }
          },
          "title": {
           "x": 0.05
          },
          "xaxis": {
           "automargin": true,
           "gridcolor": "white",
           "linecolor": "white",
           "ticks": "",
           "title": {
            "standoff": 15
           },
           "zerolinecolor": "white",
           "zerolinewidth": 2
          },
          "yaxis": {
           "automargin": true,
           "gridcolor": "white",
           "linecolor": "white",
           "ticks": "",
           "title": {
            "standoff": 15
           },
           "zerolinecolor": "white",
           "zerolinewidth": 2
          }
         }
        },
        "xaxis": {
         "anchor": "y",
         "domain": [
          0,
          1
         ],
         "title": {
          "text": "device"
         }
        },
        "yaxis": {
         "anchor": "x",
         "domain": [
          0,
          1
         ],
         "title": {
          "text": "value"
         }
        }
       }
      }
     },
     "metadata": {},
     "output_type": "display_data"
    }
   ],
   "source": [
    "rtx_df = process(\"RTX4060\")\n",
    "u9_df = process(\"Ultra9-185H\")\n",
    "m3_df = process(\"M3\")\n",
    "\n",
    "all_df = pd.concat([rtx_df, u9_df, m3_df], ignore_index=True)\n",
    "device_df = all_df.groupby(\"device\")\n",
    "\n",
    "merged = pd.concat([device_df[\"load_time\"].mean(),device_df[\"load_time\"].var(),device_df[\"load_time_per_input_token\"].mean(), device_df[\"prompt_eval_time_per_input_token\"].mean(), device_df[\"prompt_eval_time_per_input_token\"].var(), device_df[\"output_eval_time_per_output_token\"].mean(), device_df[\"output_eval_time_per_output_token\"].var()], axis=1)\n",
    "\n",
    "merged.columns = [\"load_time_mean\", \"load_time_var\",\"load_time_per_input_token_mean\",\"prompt_eval_time_per_token_mean\",\"prompt_eval_time_per_token_var\", \"output_eval_time_per_token_mean\", \"output_eval_time_per_token_var\"]\n",
    "\n",
    "fig = px.bar(merged, y=[\"load_time_mean\", \"load_time_var\"])\n",
    "fig.show()\n",
    "\n",
    "fig = px.bar(merged, y=[\"prompt_eval_time_per_token_mean\", \"prompt_eval_time_per_token_var\"])\n",
    "fig.show()\n",
    "\n",
    "fig = px.bar(merged, y=[\"output_eval_time_per_token_mean\", \"output_eval_time_per_token_var\"])\n",
    "fig.show()\n",
    "\n",
    "fig = px.bar(merged, y=[\"load_time_per_input_token_mean\",\"prompt_eval_time_per_token_mean\", \"output_eval_time_per_token_mean\"])\n",
    "fig.show()"
   ]
  }
 ],
 "metadata": {
  "kernelspec": {
   "display_name": "Python 3",
   "language": "python",
   "name": "python3"
  },
  "language_info": {
   "codemirror_mode": {
    "name": "ipython",
    "version": 3
   },
   "file_extension": ".py",
   "mimetype": "text/x-python",
   "name": "python",
   "nbconvert_exporter": "python",
   "pygments_lexer": "ipython3",
   "version": "3.13.7"
  }
 },
 "nbformat": 4,
 "nbformat_minor": 5
}
