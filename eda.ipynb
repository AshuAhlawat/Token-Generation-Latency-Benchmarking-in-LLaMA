{
 "cells": [
  {
   "cell_type": "code",
   "id": "initial_id",
   "metadata": {
    "collapsed": true,
    "ExecuteTime": {
     "end_time": "2025-10-11T05:32:16.340648Z",
     "start_time": "2025-10-11T05:32:16.335998Z"
    }
   },
   "source": [
    "import pandas as pd\n",
    "import plotly.express as px\n",
    "import plotly.graph_objects as go"
   ],
   "outputs": [],
   "execution_count": 25
  },
  {
   "metadata": {
    "ExecuteTime": {
     "end_time": "2025-10-11T05:32:16.372298Z",
     "start_time": "2025-10-11T05:32:16.356611Z"
    }
   },
   "cell_type": "code",
   "source": [
    "data_df = pd.read_csv(\"./data/RTX4060_outputs.csv\")\n",
    "\n",
    "data_df[\"prompts\"] = data_df[\"prompts\"].astype(str)\n",
    "data_df[\"load_time\"] = data_df[\"load_time\"]/1000\n",
    "data_df[\"prompt_eval_time\"] = data_df[\"prompt_eval_time\"]/1000\n",
    "data_df[\"output_eval_time\"] = data_df[\"output_eval_time\"]/1000\n",
    "data_df[\"total_time\"] = data_df[\"total_time\"]/1000\n",
    "\n",
    "data_df[\"load_time_per_input_token\"] = data_df[\"load_time\"] / data_df[\"input_tokens\"]\n",
    "data_df[\"prompt_eval_time_per_input_token\"] = data_df[\"prompt_eval_time\"] / data_df[\"input_tokens\"]\n",
    "data_df[\"output_eval_time_per_output_token\"] = data_df[\"output_eval_time\"] / data_df[\"output_tokens\"]\n",
    "data_df[\"total_time_per_input_token\"] = data_df[\"total_time\"] / data_df[\"input_tokens\"]\n",
    "data_df[\"total_time_per_output_token\"] = data_df[\"total_time\"] / data_df[\"output_tokens\"]\n",
    "\n",
    "data_df.columns"
   ],
   "id": "caca6fe54cffec14",
   "outputs": [
    {
     "data": {
      "text/plain": [
       "Index(['prompts', 'input_tokens', 'output_tokens', 'total_time', 'load_time',\n",
       "       'prompt_eval_time', 'output_eval_time', 'prompt_complexity',\n",
       "       'prompt_length', 'output_length', 'device', 'load_time_per_input_token',\n",
       "       'prompt_eval_time_per_input_token', 'output_eval_time_per_output_token',\n",
       "       'total_time_per_input_token', 'total_time_per_output_token'],\n",
       "      dtype='object')"
      ]
     },
     "execution_count": 26,
     "metadata": {},
     "output_type": "execute_result"
    }
   ],
   "execution_count": 26
  },
  {
   "metadata": {
    "ExecuteTime": {
     "end_time": "2025-10-11T05:42:40.485600Z",
     "start_time": "2025-10-11T05:42:40.359048Z"
    }
   },
   "cell_type": "code",
   "source": [
    "# remove color from the fig below and run again\n",
    "fig = px.scatter(data_df, x= range(len(data_df)), y= \"load_time\", marginal_y=\"violin\")\n",
    "fig.show()\n",
    "fig = px.scatter(data_df, x= range(len(data_df)), y= \"load_time_per_input_token\", color=\"prompts\", size=\"input_tokens\", marginal_y=\"box\")\n",
    "fig.show()"
   ],
   "id": "63a990aae41df126",
   "outputs": [
    {
     "data": {
      "application/vnd.plotly.v1+json": {
       "data": [
        {
         "hovertemplate": "x=%{x}<br>load_time=%{y}<extra></extra>",
         "legendgroup": "",
         "marker": {
          "color": "#636efa",
          "symbol": "circle"
         },
         "mode": "markers",
         "name": "",
         "orientation": "v",
         "showlegend": false,
         "x": {
          "dtype": "i2",
          "bdata": "AAABAAIAAwAEAAUABgAHAAgACQAKAAsADAANAA4ADwAQABEAEgATABQAFQAWABcAGAAZABoAGwAcAB0AHgAfACAAIQAiACMAJAAlACYAJwAoACkAKgArACwALQAuAC8AMAAxADIAMwA0ADUANgA3ADgAOQA6ADsAPAA9AD4APwBAAEEAQgBDAEQARQBGAEcASABJAEoASwBMAE0ATgBPAFAAUQBSAFMAVABVAFYAVwBYAFkAWgBbAFwAXQBeAF8AYABhAGIAYwBkAGUAZgBnAGgAaQBqAGsAbABtAG4AbwBwAHEAcgBzAHQAdQB2AHcAeAB5AHoAewB8AH0AfgB/AIAAgQCCAIMAhACFAIYAhwCIAIkAigCLAIwAjQCOAI8AkACRAJIAkwCUAJUAlgCXAJgAmQCaAJsAnACdAJ4AnwCgAKEAogCjAKQApQCmAKcAqACpAKoAqwCsAK0ArgCvALAAsQCyALMAtAC1ALYAtwC4ALkAugC7ALwAvQC+AL8AwADBAMIAwwDEAMUAxgDHAMgAyQDKAMsAzADNAM4AzwDQANEA0gDTANQA1QDWANcA2ADZANoA2wDcAN0A3gDfAOAA4QDiAOMA5ADlAOYA5wDoAOkA6gDrAOwA7QDuAO8A8ADxAPIA8wD0APUA9gD3APgA+QD6APsA/AD9AP4A/wAAAQEBAgEDAQQBBQEGAQcBCAEJAQoBCwEMAQ0BDgEPARABEQESARMBFAEVARYBFwEYARkBGgEbARwBHQEeAR8BIAEhASIBIwEkASUBJgEnASgBKQEqASsBLAEtAS4BLwEwATEBMgEzATQBNQE2ATcBOAE5AToBOwE8AT0BPgE/AUABQQFCAUMBRAFFAUYBRwFIAUkBSgFLAUwBTQFOAU8BUAFRAVIBUwFUAVUBVgFXAVgBWQFaAVsBXAFdAV4BXwFgAWEBYgFjAWQBZQFmAWcBaAFpAWoBawFsAW0BbgFvAXABcQFyAXMBdAF1AXYBdwF4AXkBegF7AXwBfQF+AX8BgAGBAYIBgwGEAYUBhgGHAYgBiQGKAYsBjAGNAY4BjwGQAZEBkgGTAZQBlQGWAZcBmAGZAZoBmwGcAZ0BngGfAaABoQGiAaMBpAGlAaYBpwE="
         },
         "xaxis": "x",
         "y": {
          "dtype": "f8",
          "bdata": "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"
         },
         "yaxis": "y",
         "type": "scatter"
        },
        {
         "alignmentgroup": "True",
         "hovertemplate": "load_time=%{y}<extra></extra>",
         "legendgroup": "",
         "marker": {
          "color": "#636efa",
          "symbol": "circle"
         },
         "name": "",
         "offsetgroup": "",
         "scalegroup": "y",
         "showlegend": false,
         "xaxis": "x2",
         "y": {
          "dtype": "f8",
          "bdata": "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"
         },
         "yaxis": "y2",
         "type": "violin"
        }
       ],
       "layout": {
        "template": {
         "data": {
          "histogram2dcontour": [
           {
            "type": "histogram2dcontour",
            "colorbar": {
             "outlinewidth": 0,
             "ticks": ""
            },
            "colorscale": [
             [
              0.0,
              "#0d0887"
             ],
             [
              0.1111111111111111,
              "#46039f"
             ],
             [
              0.2222222222222222,
              "#7201a8"
             ],
             [
              0.3333333333333333,
              "#9c179e"
             ],
             [
              0.4444444444444444,
              "#bd3786"
             ],
             [
              0.5555555555555556,
              "#d8576b"
             ],
             [
              0.6666666666666666,
              "#ed7953"
             ],
             [
              0.7777777777777778,
              "#fb9f3a"
             ],
             [
              0.8888888888888888,
              "#fdca26"
             ],
             [
              1.0,
              "#f0f921"
             ]
            ]
           }
          ],
          "choropleth": [
           {
            "type": "choropleth",
            "colorbar": {
             "outlinewidth": 0,
             "ticks": ""
            }
           }
          ],
          "histogram2d": [
           {
            "type": "histogram2d",
            "colorbar": {
             "outlinewidth": 0,
             "ticks": ""
            },
            "colorscale": [
             [
              0.0,
              "#0d0887"
             ],
             [
              0.1111111111111111,
              "#46039f"
             ],
             [
              0.2222222222222222,
              "#7201a8"
             ],
             [
              0.3333333333333333,
              "#9c179e"
             ],
             [
              0.4444444444444444,
              "#bd3786"
             ],
             [
              0.5555555555555556,
              "#d8576b"
             ],
             [
              0.6666666666666666,
              "#ed7953"
             ],
             [
              0.7777777777777778,
              "#fb9f3a"
             ],
             [
              0.8888888888888888,
              "#fdca26"
             ],
             [
              1.0,
              "#f0f921"
             ]
            ]
           }
          ],
          "heatmap": [
           {
            "type": "heatmap",
            "colorbar": {
             "outlinewidth": 0,
             "ticks": ""
            },
            "colorscale": [
             [
              0.0,
              "#0d0887"
             ],
             [
              0.1111111111111111,
              "#46039f"
             ],
             [
              0.2222222222222222,
              "#7201a8"
             ],
             [
              0.3333333333333333,
              "#9c179e"
             ],
             [
              0.4444444444444444,
              "#bd3786"
             ],
             [
              0.5555555555555556,
              "#d8576b"
             ],
             [
              0.6666666666666666,
              "#ed7953"
             ],
             [
              0.7777777777777778,
              "#fb9f3a"
             ],
             [
              0.8888888888888888,
              "#fdca26"
             ],
             [
              1.0,
              "#f0f921"
             ]
            ]
           }
          ],
          "contourcarpet": [
           {
            "type": "contourcarpet",
            "colorbar": {
             "outlinewidth": 0,
             "ticks": ""
            }
           }
          ],
          "contour": [
           {
            "type": "contour",
            "colorbar": {
             "outlinewidth": 0,
             "ticks": ""
            },
            "colorscale": [
             [
              0.0,
              "#0d0887"
             ],
             [
              0.1111111111111111,
              "#46039f"
             ],
             [
              0.2222222222222222,
              "#7201a8"
             ],
             [
              0.3333333333333333,
              "#9c179e"
             ],
             [
              0.4444444444444444,
              "#bd3786"
             ],
             [
              0.5555555555555556,
              "#d8576b"
             ],
             [
              0.6666666666666666,
              "#ed7953"
             ],
             [
              0.7777777777777778,
              "#fb9f3a"
             ],
             [
              0.8888888888888888,
              "#fdca26"
             ],
             [
              1.0,
              "#f0f921"
             ]
            ]
           }
          ],
          "surface": [
           {
            "type": "surface",
            "colorbar": {
             "outlinewidth": 0,
             "ticks": ""
            },
            "colorscale": [
             [
              0.0,
              "#0d0887"
             ],
             [
              0.1111111111111111,
              "#46039f"
             ],
             [
              0.2222222222222222,
              "#7201a8"
             ],
             [
              0.3333333333333333,
              "#9c179e"
             ],
             [
              0.4444444444444444,
              "#bd3786"
             ],
             [
              0.5555555555555556,
              "#d8576b"
             ],
             [
              0.6666666666666666,
              "#ed7953"
             ],
             [
              0.7777777777777778,
              "#fb9f3a"
             ],
             [
              0.8888888888888888,
              "#fdca26"
             ],
             [
              1.0,
              "#f0f921"
             ]
            ]
           }
          ],
          "mesh3d": [
           {
            "type": "mesh3d",
            "colorbar": {
             "outlinewidth": 0,
             "ticks": ""
            }
           }
          ],
          "scatter": [
           {
            "marker": {
             "line": {
              "color": "#283442"
             }
            },
            "type": "scatter"
           }
          ],
          "parcoords": [
           {
            "type": "parcoords",
            "line": {
             "colorbar": {
              "outlinewidth": 0,
              "ticks": ""
             }
            }
           }
          ],
          "scatterpolargl": [
           {
            "type": "scatterpolargl",
            "marker": {
             "colorbar": {
              "outlinewidth": 0,
              "ticks": ""
             }
            }
           }
          ],
          "bar": [
           {
            "error_x": {
             "color": "#f2f5fa"
            },
            "error_y": {
             "color": "#f2f5fa"
            },
            "marker": {
             "line": {
              "color": "rgb(17,17,17)",
              "width": 0.5
             },
             "pattern": {
              "fillmode": "overlay",
              "size": 10,
              "solidity": 0.2
             }
            },
            "type": "bar"
           }
          ],
          "scattergeo": [
           {
            "type": "scattergeo",
            "marker": {
             "colorbar": {
              "outlinewidth": 0,
              "ticks": ""
             }
            }
           }
          ],
          "scatterpolar": [
           {
            "type": "scatterpolar",
            "marker": {
             "colorbar": {
              "outlinewidth": 0,
              "ticks": ""
             }
            }
           }
          ],
          "histogram": [
           {
            "marker": {
             "pattern": {
              "fillmode": "overlay",
              "size": 10,
              "solidity": 0.2
             }
            },
            "type": "histogram"
           }
          ],
          "scattergl": [
           {
            "marker": {
             "line": {
              "color": "#283442"
             }
            },
            "type": "scattergl"
           }
          ],
          "scatter3d": [
           {
            "type": "scatter3d",
            "line": {
             "colorbar": {
              "outlinewidth": 0,
              "ticks": ""
             }
            },
            "marker": {
             "colorbar": {
              "outlinewidth": 0,
              "ticks": ""
             }
            }
           }
          ],
          "scattermap": [
           {
            "type": "scattermap",
            "marker": {
             "colorbar": {
              "outlinewidth": 0,
              "ticks": ""
             }
            }
           }
          ],
          "scattermapbox": [
           {
            "type": "scattermapbox",
            "marker": {
             "colorbar": {
              "outlinewidth": 0,
              "ticks": ""
             }
            }
           }
          ],
          "scatterternary": [
           {
            "type": "scatterternary",
            "marker": {
             "colorbar": {
              "outlinewidth": 0,
              "ticks": ""
             }
            }
           }
          ],
          "scattercarpet": [
           {
            "type": "scattercarpet",
            "marker": {
             "colorbar": {
              "outlinewidth": 0,
              "ticks": ""
             }
            }
           }
          ],
          "carpet": [
           {
            "aaxis": {
             "endlinecolor": "#A2B1C6",
             "gridcolor": "#506784",
             "linecolor": "#506784",
             "minorgridcolor": "#506784",
             "startlinecolor": "#A2B1C6"
            },
            "baxis": {
             "endlinecolor": "#A2B1C6",
             "gridcolor": "#506784",
             "linecolor": "#506784",
             "minorgridcolor": "#506784",
             "startlinecolor": "#A2B1C6"
            },
            "type": "carpet"
           }
          ],
          "table": [
           {
            "cells": {
             "fill": {
              "color": "#506784"
             },
             "line": {
              "color": "rgb(17,17,17)"
             }
            },
            "header": {
             "fill": {
              "color": "#2a3f5f"
             },
             "line": {
              "color": "rgb(17,17,17)"
             }
            },
            "type": "table"
           }
          ],
          "barpolar": [
           {
            "marker": {
             "line": {
              "color": "rgb(17,17,17)",
              "width": 0.5
             },
             "pattern": {
              "fillmode": "overlay",
              "size": 10,
              "solidity": 0.2
             }
            },
            "type": "barpolar"
           }
          ],
          "pie": [
           {
            "automargin": true,
            "type": "pie"
           }
          ]
         },
         "layout": {
          "autotypenumbers": "strict",
          "colorway": [
           "#636efa",
           "#EF553B",
           "#00cc96",
           "#ab63fa",
           "#FFA15A",
           "#19d3f3",
           "#FF6692",
           "#B6E880",
           "#FF97FF",
           "#FECB52"
          ],
          "font": {
           "color": "#f2f5fa"
          },
          "hovermode": "closest",
          "hoverlabel": {
           "align": "left"
          },
          "paper_bgcolor": "rgb(17,17,17)",
          "plot_bgcolor": "rgb(17,17,17)",
          "polar": {
           "bgcolor": "rgb(17,17,17)",
           "angularaxis": {
            "gridcolor": "#506784",
            "linecolor": "#506784",
            "ticks": ""
           },
           "radialaxis": {
            "gridcolor": "#506784",
            "linecolor": "#506784",
            "ticks": ""
           }
          },
          "ternary": {
           "bgcolor": "rgb(17,17,17)",
           "aaxis": {
            "gridcolor": "#506784",
            "linecolor": "#506784",
            "ticks": ""
           },
           "baxis": {
            "gridcolor": "#506784",
            "linecolor": "#506784",
            "ticks": ""
           },
           "caxis": {
            "gridcolor": "#506784",
            "linecolor": "#506784",
            "ticks": ""
           }
          },
          "coloraxis": {
           "colorbar": {
            "outlinewidth": 0,
            "ticks": ""
           }
          },
          "colorscale": {
           "sequential": [
            [
             0.0,
             "#0d0887"
            ],
            [
             0.1111111111111111,
             "#46039f"
            ],
            [
             0.2222222222222222,
             "#7201a8"
            ],
            [
             0.3333333333333333,
             "#9c179e"
            ],
            [
             0.4444444444444444,
             "#bd3786"
            ],
            [
             0.5555555555555556,
             "#d8576b"
            ],
            [
             0.6666666666666666,
             "#ed7953"
            ],
            [
             0.7777777777777778,
             "#fb9f3a"
            ],
            [
             0.8888888888888888,
             "#fdca26"
            ],
            [
             1.0,
             "#f0f921"
            ]
           ],
           "sequentialminus": [
            [
             0.0,
             "#0d0887"
            ],
            [
             0.1111111111111111,
             "#46039f"
            ],
            [
             0.2222222222222222,
             "#7201a8"
            ],
            [
             0.3333333333333333,
             "#9c179e"
            ],
            [
             0.4444444444444444,
             "#bd3786"
            ],
            [
             0.5555555555555556,
             "#d8576b"
            ],
            [
             0.6666666666666666,
             "#ed7953"
            ],
            [
             0.7777777777777778,
             "#fb9f3a"
            ],
            [
             0.8888888888888888,
             "#fdca26"
            ],
            [
             1.0,
             "#f0f921"
            ]
           ],
           "diverging": [
            [
             0,
             "#8e0152"
            ],
            [
             0.1,
             "#c51b7d"
            ],
            [
             0.2,
             "#de77ae"
            ],
            [
             0.3,
             "#f1b6da"
            ],
            [
             0.4,
             "#fde0ef"
            ],
            [
             0.5,
             "#f7f7f7"
            ],
            [
             0.6,
             "#e6f5d0"
            ],
            [
             0.7,
             "#b8e186"
            ],
            [
             0.8,
             "#7fbc41"
            ],
            [
             0.9,
             "#4d9221"
            ],
            [
             1,
             "#276419"
            ]
           ]
          },
          "xaxis": {
           "gridcolor": "#283442",
           "linecolor": "#506784",
           "ticks": "",
           "title": {
            "standoff": 15
           },
           "zerolinecolor": "#283442",
           "automargin": true,
           "zerolinewidth": 2
          },
          "yaxis": {
           "gridcolor": "#283442",
           "linecolor": "#506784",
           "ticks": "",
           "title": {
            "standoff": 15
           },
           "zerolinecolor": "#283442",
           "automargin": true,
           "zerolinewidth": 2
          },
          "scene": {
           "xaxis": {
            "backgroundcolor": "rgb(17,17,17)",
            "gridcolor": "#506784",
            "linecolor": "#506784",
            "showbackground": true,
            "ticks": "",
            "zerolinecolor": "#C8D4E3",
            "gridwidth": 2
           },
           "yaxis": {
            "backgroundcolor": "rgb(17,17,17)",
            "gridcolor": "#506784",
            "linecolor": "#506784",
            "showbackground": true,
            "ticks": "",
            "zerolinecolor": "#C8D4E3",
            "gridwidth": 2
           },
           "zaxis": {
            "backgroundcolor": "rgb(17,17,17)",
            "gridcolor": "#506784",
            "linecolor": "#506784",
            "showbackground": true,
            "ticks": "",
            "zerolinecolor": "#C8D4E3",
            "gridwidth": 2
           }
          },
          "shapedefaults": {
           "line": {
            "color": "#f2f5fa"
           }
          },
          "annotationdefaults": {
           "arrowcolor": "#f2f5fa",
           "arrowhead": 0,
           "arrowwidth": 1
          },
          "geo": {
           "bgcolor": "rgb(17,17,17)",
           "landcolor": "rgb(17,17,17)",
           "subunitcolor": "#506784",
           "showland": true,
           "showlakes": true,
           "lakecolor": "rgb(17,17,17)"
          },
          "title": {
           "x": 0.05
          },
          "updatemenudefaults": {
           "bgcolor": "#506784",
           "borderwidth": 0
          },
          "sliderdefaults": {
           "bgcolor": "#C8D4E3",
           "borderwidth": 1,
           "bordercolor": "rgb(17,17,17)",
           "tickwidth": 0
          },
          "mapbox": {
           "style": "dark"
          }
         }
        },
        "xaxis": {
         "anchor": "y",
         "domain": [
          0.0,
          0.8358
         ],
         "title": {
          "text": "x"
         }
        },
        "yaxis": {
         "anchor": "x",
         "domain": [
          0.0,
          1.0
         ],
         "title": {
          "text": "load_time"
         }
        },
        "xaxis2": {
         "anchor": "y2",
         "domain": [
          0.8408,
          1.0
         ],
         "matches": "x2",
         "showticklabels": false,
         "showline": false,
         "ticks": "",
         "showgrid": false
        },
        "yaxis2": {
         "anchor": "x2",
         "domain": [
          0.0,
          1.0
         ],
         "matches": "y",
         "showticklabels": false,
         "showgrid": true
        },
        "legend": {
         "tracegroupgap": 0
        },
        "margin": {
         "t": 60
        }
       },
       "config": {
        "plotlyServerURL": "https://plot.ly"
       }
      }
     },
     "metadata": {},
     "output_type": "display_data",
     "jetTransient": {
      "display_id": null
     }
    },
    {
     "data": {
      "application/vnd.plotly.v1+json": {
       "data": [
        {
         "hovertemplate": "prompts=1<br>x=%{x}<br>load_time_per_input_token=%{y}<br>input_tokens=%{marker.size}<extra></extra>",
         "legendgroup": "1",
         "marker": {
          "color": "#636efa",
          "size": {
           "dtype": "i1",
           "bdata": "WFtXWkxPWVxNUFRXUFNXWlZZUlVZXE5RS05YW1FUUVROUU9SUFNWWVFUUVRbXlRXT1JSVVFUUlVUV05RVFdUVyIlICMgIyEkISQhJCAjIyYkJyAjIyYjJiEkICMgIyIlISQjJh8iISQgIx8iICMiJSUoICMjJiEkICMgIyAjHyJnalRXXWBWWVNWU1ZPUlZZWFtPUlRXU1ZXWlBTTlFLTlJVTVBUV1JVW15PUk1QS05IS1FUUFNOUUtOTE9KTUtOJikhJCUoIiUiJSQnISQhJCIlISQkJyQnIyYkJyMmLTAkJyIlIiUhJCIlIyYhJCQnJSgiJSQnIyYjJiQnJyojJg=="
          },
          "sizemode": "area",
          "sizeref": 19.125,
          "symbol": "circle"
         },
         "mode": "markers",
         "name": "1",
         "orientation": "v",
         "showlegend": true,
         "x": {
          "dtype": "i2",
          "bdata": "AAABAAIAAwAEAAUABgAHAAgACQAKAAsADAANAA4ADwAQABEAEgATABQAFQAWABcAGAAZABoAGwAcAB0AHgAfACAAIQAiACMAJAAlACYAJwAoACkAKgArACwALQAuAC8AMAAxADIAMwA0ADUANgA3ADgAOQA6ADsAPAA9AD4APwBqAGsAbABtAG4AbwBwAHEAcgBzAHQAdQB2AHcAeAB5AHoAewB8AH0AfgB/AIAAgQCCAIMAhACFAIYAhwCIAIkAigCLAIwAjQCOAI8AkACRAJIAkwCUAJUAlgCXAJgAmQCaAJsAnACdAJ4AnwCgAKEAogCjAKQApQCmAKcAqACpANQA1QDWANcA2ADZANoA2wDcAN0A3gDfAOAA4QDiAOMA5ADlAOYA5wDoAOkA6gDrAOwA7QDuAO8A8ADxAPIA8wD0APUA9gD3APgA+QD6APsA/AD9AP4A/wAAAQEBAgEDAQQBBQEGAQcBCAEJAQoBCwEMAQ0BDgEPARABEQESARMBPgE/AUABQQFCAUMBRAFFAUYBRwFIAUkBSgFLAUwBTQFOAU8BUAFRAVIBUwFUAVUBVgFXAVgBWQFaAVsBXAFdAV4BXwFgAWEBYgFjAWQBZQFmAWcBaAFpAWoBawFsAW0BbgFvAXABcQFyAXMBdAF1AXYBdwF4AXkBegF7AXwBfQE="
         },
         "xaxis": "x",
         "y": {
          "dtype": "f8",
          "bdata": "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"
         },
         "yaxis": "y",
         "type": "scatter"
        },
        {
         "alignmentgroup": "True",
         "hovertemplate": "prompts=1<br>load_time_per_input_token=%{y}<extra></extra>",
         "legendgroup": "1",
         "marker": {
          "color": "#636efa",
          "symbol": "circle"
         },
         "name": "1",
         "notched": true,
         "offsetgroup": "1",
         "showlegend": false,
         "xaxis": "x2",
         "y": {
          "dtype": "f8",
          "bdata": "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"
         },
         "yaxis": "y2",
         "type": "box"
        },
        {
         "hovertemplate": "prompts=8<br>x=%{x}<br>load_time_per_input_token=%{y}<br>input_tokens=%{marker.size}<extra></extra>",
         "legendgroup": "8",
         "marker": {
          "color": "#EF553B",
          "size": {
           "dtype": "i2",
           "bdata": "+wH+AfMB9gHzAfYB7QHwAfsB/gHzAfYB8wH2Ae0B8AH7Af4B8wH2AfMB9gHtAfAB+wH+AfMB9gHzAfYB7QHwAWcAagBsAG8AZABnAGcAagBpAGwAZQBoAGMAZgBnAGoAZQBoAGQAZwBnAGoAYABjAGUAaABoAGsAYQBkAGoAbQAYAhsC7QHwAeYB6QHCAcUBGAIbAu0B8AHmAekBwgHFARgCGwLtAfAB5gHpAcIBxQEYAhsC7QHwAeYB6QHCAcUBdQB4AIEAhAByAHUAfgCBAHsAfgB3AHoAdAB3AHoAfQB5AHwAdgB5AHIAdQB9AIAAdQB4AG4AcQB1AHgAeAB7AA=="
          },
          "sizemode": "area",
          "sizeref": 19.125,
          "symbol": "circle"
         },
         "mode": "markers",
         "name": "8",
         "orientation": "v",
         "showlegend": true,
         "x": {
          "dtype": "i2",
          "bdata": "QABBAEIAQwBEAEUARgBHAEgASQBKAEsATABNAE4ATwBQAFEAUgBTAFQAVQBWAFcAWABZAFoAWwBcAF0AXgBfAKoAqwCsAK0ArgCvALAAsQCyALMAtAC1ALYAtwC4ALkAugC7ALwAvQC+AL8AwADBAMIAwwDEAMUAxgDHAMgAyQAUARUBFgEXARgBGQEaARsBHAEdAR4BHwEgASEBIgEjASQBJQEmAScBKAEpASoBKwEsAS0BLgEvATABMQEyATMBfgF/AYABgQGCAYMBhAGFAYYBhwGIAYkBigGLAYwBjQGOAY8BkAGRAZIBkwGUAZUBlgGXAZgBmQGaAZsBnAGdAQ=="
         },
         "xaxis": "x",
         "y": {
          "dtype": "f8",
          "bdata": "1TNUOPLiLz+0B+m4qRAuP/NRojTK0i0/veGqss4PMj/uB3E4ldsvPyd3Z5EHFS4/vO1EGd+1Lj+5dDkjU3MwP6Z8T6yuXC4/dm4adg7vLj9bIOlAUsswPwdZiU7UkS4/NnoAKg4XMD/ERWs1K/IsP7/plu59EzA/R7zfFgYoLz/ElnJn8fwtP98mdNSzpzA/6tCDfFx+Lj8i9LRaAbwwP/pRQ/G0PTA/u8GEGkQDLz9S8pfDm+IuPxmlM6hgfy0/X3B9D4RyLj8C88Pg3h4yP0TFpqKMHjM/jhdH8XxVNj8L+b7rTwEwP6KKUbq7KS8/31MxwjyNMD/1tqv6CqwvPwhipecCKVI/nyXRt2bOUT99EC7n4NhQP5ZBQWJlY1A/zGcW9CA1VD8GJINwOvtRP9NgQ5cwGk8//3KAlllxUj+FOzDAJ6VWP2vjSiUR3FA/bC8IfKHLUj/I58+svQlTP0gR1zptAFM/qJwl92p2Uz+G0BEGGp5SPx5zhCU+plE/xtte6EQrVT9H2x/Qb4ZTP2UiW0wisVM/uiacoN7WVD83fuosVf1SP0iWxININFI/2484iPqBUz+/DgkUzbtSPzqYLjErnFI/yWvDXX5FUz+h4rZ6He9SPxCwr8qf4VE/4RxIpSdIVD99PmKllm5RP3CUgKVKhFI/kqUIbeOUUT91OgVPaT8uP7javrJO2y0/U61c4WbFMD+d3NRobdMuP25YtdIUADA/nr9YxYu9MD8wZXL84uQwP8/j6R159jA/Y9BEuSbXLj+TYEPykygrPyR/4uT9zjA/ZEBGbyqXMD8le8XWRREwP/jAKyQ0FS8/uJ14thyqMT+rBFU/ZRQwP3Wp8VjK0TI/J/OlU67TND81gHHH7ygvP9ywTAKn/DE/pie+c412Mj/y8hFfJAIwP/87Cw5v1DA/4BHoeYbsMD9El4qRzGctP7lYm1e45C0/C8hxVH/LMT/sf2or69ItP5PY3gZclDA/xkIJ81vxLz8FKQ5rY5MxP392jjoPFS8/9Y4Oh5YwUj8vjPeLJglQP+d+LbeLPE4/Ob8/RQslTT/aoeKA3pxSP4FKibrgAFA/WNJo4fdNUD8shgI4xvdOP9MG8D4BzVY/kWCcGFqPSz/xbwLAoo1QP8pIquLwYE4//ThbNwNQUT84AXwnWBJQP8fxP/zcJk0/fKXc1yLdTz94q8UYtTRQPwqs/BOWFkw/3C5ZzlP/UD+6sk3di/NOP7B86VgZ71Q/khKf0bZ+UD8/XStBSfhTP6LzdXS3Rk8/U8Xy4/DnUD/5P5fbgzFOP1sSIKWhLlE/um1gMK16UT+xFASUD3xRP8m2nrOX/1I/VGRF74AoTz+f5M+zouJNPw=="
         },
         "yaxis": "y",
         "type": "scatter"
        },
        {
         "alignmentgroup": "True",
         "hovertemplate": "prompts=8<br>load_time_per_input_token=%{y}<extra></extra>",
         "legendgroup": "8",
         "marker": {
          "color": "#EF553B",
          "symbol": "circle"
         },
         "name": "8",
         "notched": true,
         "offsetgroup": "8",
         "showlegend": false,
         "xaxis": "x2",
         "y": {
          "dtype": "f8",
          "bdata": "1TNUOPLiLz+0B+m4qRAuP/NRojTK0i0/veGqss4PMj/uB3E4ldsvPyd3Z5EHFS4/vO1EGd+1Lj+5dDkjU3MwP6Z8T6yuXC4/dm4adg7vLj9bIOlAUsswPwdZiU7UkS4/NnoAKg4XMD/ERWs1K/IsP7/plu59EzA/R7zfFgYoLz/ElnJn8fwtP98mdNSzpzA/6tCDfFx+Lj8i9LRaAbwwP/pRQ/G0PTA/u8GEGkQDLz9S8pfDm+IuPxmlM6hgfy0/X3B9D4RyLj8C88Pg3h4yP0TFpqKMHjM/jhdH8XxVNj8L+b7rTwEwP6KKUbq7KS8/31MxwjyNMD/1tqv6CqwvPwhipecCKVI/nyXRt2bOUT99EC7n4NhQP5ZBQWJlY1A/zGcW9CA1VD8GJINwOvtRP9NgQ5cwGk8//3KAlllxUj+FOzDAJ6VWP2vjSiUR3FA/bC8IfKHLUj/I58+svQlTP0gR1zptAFM/qJwl92p2Uz+G0BEGGp5SPx5zhCU+plE/xtte6EQrVT9H2x/Qb4ZTP2UiW0wisVM/uiacoN7WVD83fuosVf1SP0iWxININFI/2484iPqBUz+/DgkUzbtSPzqYLjErnFI/yWvDXX5FUz+h4rZ6He9SPxCwr8qf4VE/4RxIpSdIVD99PmKllm5RP3CUgKVKhFI/kqUIbeOUUT91OgVPaT8uP7javrJO2y0/U61c4WbFMD+d3NRobdMuP25YtdIUADA/nr9YxYu9MD8wZXL84uQwP8/j6R159jA/Y9BEuSbXLj+TYEPykygrPyR/4uT9zjA/ZEBGbyqXMD8le8XWRREwP/jAKyQ0FS8/uJ14thyqMT+rBFU/ZRQwP3Wp8VjK0TI/J/OlU67TND81gHHH7ygvP9ywTAKn/DE/pie+c412Mj/y8hFfJAIwP/87Cw5v1DA/4BHoeYbsMD9El4qRzGctP7lYm1e45C0/C8hxVH/LMT/sf2or69ItP5PY3gZclDA/xkIJ81vxLz8FKQ5rY5MxP392jjoPFS8/9Y4Oh5YwUj8vjPeLJglQP+d+LbeLPE4/Ob8/RQslTT/aoeKA3pxSP4FKibrgAFA/WNJo4fdNUD8shgI4xvdOP9MG8D4BzVY/kWCcGFqPSz/xbwLAoo1QP8pIquLwYE4//ThbNwNQUT84AXwnWBJQP8fxP/zcJk0/fKXc1yLdTz94q8UYtTRQPwqs/BOWFkw/3C5ZzlP/UD+6sk3di/NOP7B86VgZ71Q/khKf0bZ+UD8/XStBSfhTP6LzdXS3Rk8/U8Xy4/DnUD/5P5fbgzFOP1sSIKWhLlE/um1gMK16UT+xFASUD3xRP8m2nrOX/1I/VGRF74AoTz+f5M+zouJNPw=="
         },
         "yaxis": "y2",
         "type": "box"
        },
        {
         "hovertemplate": "prompts=32<br>x=%{x}<br>load_time_per_input_token=%{y}<br>input_tokens=%{marker.size}<extra></extra>",
         "legendgroup": "32",
         "marker": {
          "color": "#00cc96",
          "size": {
           "dtype": "i2",
           "bdata": "iQeMB4kHjAeJB4wHiQeMB1kBXAFTAVYBSwFOAVMBVgFoB2sHaAdrB2gHawdoB2sHoQGkAZsBngGZAZwBiwGOAQ=="
          },
          "sizemode": "area",
          "sizeref": 19.125,
          "symbol": "circle"
         },
         "mode": "markers",
         "name": "32",
         "orientation": "v",
         "showlegend": true,
         "x": {
          "dtype": "i2",
          "bdata": "YABhAGIAYwBkAGUAZgBnAMoAywDMAM0AzgDPANAA0QA0ATUBNgE3ATgBOQE6ATsBngGfAaABoQGiAaMBpAGlAQ=="
         },
         "xaxis": "x",
         "y": {
          "dtype": "f8",
          "bdata": "PBqbXHMPDz8OZUQEFM8RPyU+SjTLWA8/qjxMMfPJDj8MpoTSE7IPP+sk6CvULBA/s4gZHfHMDz/RdyfCkjAQP9/cSNdkAzY/sioDE5AGND/lG0tOazk0P/x0HZ4sljY/JPGYouS8Nj81+Y7enqc3P9YyzKDfQzY/zK/KYk00Nj80fmOd1QsPP5VgMYD7PBA/zfQeXsQvED8dg5WuXC8SP3SYflH+VA0/Y27p9aS4ED+/S3BO+j4NP9dZvQnJuxI/mRtdTHntMT/pJ/aS7CEyP3O5BuHpEDE/29FTiuvaMT95tUqTR4IyP8bAJyV6dTM/uuweqdvyMj9veGMBe6E3Pw=="
         },
         "yaxis": "y",
         "type": "scatter"
        },
        {
         "alignmentgroup": "True",
         "hovertemplate": "prompts=32<br>load_time_per_input_token=%{y}<extra></extra>",
         "legendgroup": "32",
         "marker": {
          "color": "#00cc96",
          "symbol": "circle"
         },
         "name": "32",
         "notched": true,
         "offsetgroup": "32",
         "showlegend": false,
         "xaxis": "x2",
         "y": {
          "dtype": "f8",
          "bdata": "PBqbXHMPDz8OZUQEFM8RPyU+SjTLWA8/qjxMMfPJDj8MpoTSE7IPP+sk6CvULBA/s4gZHfHMDz/RdyfCkjAQP9/cSNdkAzY/sioDE5AGND/lG0tOazk0P/x0HZ4sljY/JPGYouS8Nj81+Y7enqc3P9YyzKDfQzY/zK/KYk00Nj80fmOd1QsPP5VgMYD7PBA/zfQeXsQvED8dg5WuXC8SP3SYflH+VA0/Y27p9aS4ED+/S3BO+j4NP9dZvQnJuxI/mRtdTHntMT/pJ/aS7CEyP3O5BuHpEDE/29FTiuvaMT95tUqTR4IyP8bAJyV6dTM/uuweqdvyMj9veGMBe6E3Pw=="
         },
         "yaxis": "y2",
         "type": "box"
        },
        {
         "hovertemplate": "prompts=128<br>x=%{x}<br>load_time_per_input_token=%{y}<br>input_tokens=%{marker.size}<extra></extra>",
         "legendgroup": "128",
         "marker": {
          "color": "#ab63fa",
          "size": {
           "dtype": "i2",
           "bdata": "3x3iHQUFCAVbHV4dGwYeBg=="
          },
          "sizemode": "area",
          "sizeref": 19.125,
          "symbol": "circle"
         },
         "mode": "markers",
         "name": "128",
         "orientation": "v",
         "showlegend": true,
         "x": {
          "dtype": "i2",
          "bdata": "aABpANIA0wA8AT0BpgGnAQ=="
         },
         "xaxis": "x",
         "y": {
          "dtype": "f8",
          "bdata": "Z3E8kFu+7j562lKnwcbxPu1sEZXq2hY/TP9392TeGT85HOitlejxPvEnXCswcPA+1u/rhwc3FD+CCw5llokXPw=="
         },
         "yaxis": "y",
         "type": "scatter"
        },
        {
         "alignmentgroup": "True",
         "hovertemplate": "prompts=128<br>load_time_per_input_token=%{y}<extra></extra>",
         "legendgroup": "128",
         "marker": {
          "color": "#ab63fa",
          "symbol": "circle"
         },
         "name": "128",
         "notched": true,
         "offsetgroup": "128",
         "showlegend": false,
         "xaxis": "x2",
         "y": {
          "dtype": "f8",
          "bdata": "Z3E8kFu+7j562lKnwcbxPu1sEZXq2hY/TP9392TeGT85HOitlejxPvEnXCswcPA+1u/rhwc3FD+CCw5llokXPw=="
         },
         "yaxis": "y2",
         "type": "box"
        }
       ],
       "layout": {
        "template": {
         "data": {
          "histogram2dcontour": [
           {
            "type": "histogram2dcontour",
            "colorbar": {
             "outlinewidth": 0,
             "ticks": ""
            },
            "colorscale": [
             [
              0.0,
              "#0d0887"
             ],
             [
              0.1111111111111111,
              "#46039f"
             ],
             [
              0.2222222222222222,
              "#7201a8"
             ],
             [
              0.3333333333333333,
              "#9c179e"
             ],
             [
              0.4444444444444444,
              "#bd3786"
             ],
             [
              0.5555555555555556,
              "#d8576b"
             ],
             [
              0.6666666666666666,
              "#ed7953"
             ],
             [
              0.7777777777777778,
              "#fb9f3a"
             ],
             [
              0.8888888888888888,
              "#fdca26"
             ],
             [
              1.0,
              "#f0f921"
             ]
            ]
           }
          ],
          "choropleth": [
           {
            "type": "choropleth",
            "colorbar": {
             "outlinewidth": 0,
             "ticks": ""
            }
           }
          ],
          "histogram2d": [
           {
            "type": "histogram2d",
            "colorbar": {
             "outlinewidth": 0,
             "ticks": ""
            },
            "colorscale": [
             [
              0.0,
              "#0d0887"
             ],
             [
              0.1111111111111111,
              "#46039f"
             ],
             [
              0.2222222222222222,
              "#7201a8"
             ],
             [
              0.3333333333333333,
              "#9c179e"
             ],
             [
              0.4444444444444444,
              "#bd3786"
             ],
             [
              0.5555555555555556,
              "#d8576b"
             ],
             [
              0.6666666666666666,
              "#ed7953"
             ],
             [
              0.7777777777777778,
              "#fb9f3a"
             ],
             [
              0.8888888888888888,
              "#fdca26"
             ],
             [
              1.0,
              "#f0f921"
             ]
            ]
           }
          ],
          "heatmap": [
           {
            "type": "heatmap",
            "colorbar": {
             "outlinewidth": 0,
             "ticks": ""
            },
            "colorscale": [
             [
              0.0,
              "#0d0887"
             ],
             [
              0.1111111111111111,
              "#46039f"
             ],
             [
              0.2222222222222222,
              "#7201a8"
             ],
             [
              0.3333333333333333,
              "#9c179e"
             ],
             [
              0.4444444444444444,
              "#bd3786"
             ],
             [
              0.5555555555555556,
              "#d8576b"
             ],
             [
              0.6666666666666666,
              "#ed7953"
             ],
             [
              0.7777777777777778,
              "#fb9f3a"
             ],
             [
              0.8888888888888888,
              "#fdca26"
             ],
             [
              1.0,
              "#f0f921"
             ]
            ]
           }
          ],
          "contourcarpet": [
           {
            "type": "contourcarpet",
            "colorbar": {
             "outlinewidth": 0,
             "ticks": ""
            }
           }
          ],
          "contour": [
           {
            "type": "contour",
            "colorbar": {
             "outlinewidth": 0,
             "ticks": ""
            },
            "colorscale": [
             [
              0.0,
              "#0d0887"
             ],
             [
              0.1111111111111111,
              "#46039f"
             ],
             [
              0.2222222222222222,
              "#7201a8"
             ],
             [
              0.3333333333333333,
              "#9c179e"
             ],
             [
              0.4444444444444444,
              "#bd3786"
             ],
             [
              0.5555555555555556,
              "#d8576b"
             ],
             [
              0.6666666666666666,
              "#ed7953"
             ],
             [
              0.7777777777777778,
              "#fb9f3a"
             ],
             [
              0.8888888888888888,
              "#fdca26"
             ],
             [
              1.0,
              "#f0f921"
             ]
            ]
           }
          ],
          "surface": [
           {
            "type": "surface",
            "colorbar": {
             "outlinewidth": 0,
             "ticks": ""
            },
            "colorscale": [
             [
              0.0,
              "#0d0887"
             ],
             [
              0.1111111111111111,
              "#46039f"
             ],
             [
              0.2222222222222222,
              "#7201a8"
             ],
             [
              0.3333333333333333,
              "#9c179e"
             ],
             [
              0.4444444444444444,
              "#bd3786"
             ],
             [
              0.5555555555555556,
              "#d8576b"
             ],
             [
              0.6666666666666666,
              "#ed7953"
             ],
             [
              0.7777777777777778,
              "#fb9f3a"
             ],
             [
              0.8888888888888888,
              "#fdca26"
             ],
             [
              1.0,
              "#f0f921"
             ]
            ]
           }
          ],
          "mesh3d": [
           {
            "type": "mesh3d",
            "colorbar": {
             "outlinewidth": 0,
             "ticks": ""
            }
           }
          ],
          "scatter": [
           {
            "marker": {
             "line": {
              "color": "#283442"
             }
            },
            "type": "scatter"
           }
          ],
          "parcoords": [
           {
            "type": "parcoords",
            "line": {
             "colorbar": {
              "outlinewidth": 0,
              "ticks": ""
             }
            }
           }
          ],
          "scatterpolargl": [
           {
            "type": "scatterpolargl",
            "marker": {
             "colorbar": {
              "outlinewidth": 0,
              "ticks": ""
             }
            }
           }
          ],
          "bar": [
           {
            "error_x": {
             "color": "#f2f5fa"
            },
            "error_y": {
             "color": "#f2f5fa"
            },
            "marker": {
             "line": {
              "color": "rgb(17,17,17)",
              "width": 0.5
             },
             "pattern": {
              "fillmode": "overlay",
              "size": 10,
              "solidity": 0.2
             }
            },
            "type": "bar"
           }
          ],
          "scattergeo": [
           {
            "type": "scattergeo",
            "marker": {
             "colorbar": {
              "outlinewidth": 0,
              "ticks": ""
             }
            }
           }
          ],
          "scatterpolar": [
           {
            "type": "scatterpolar",
            "marker": {
             "colorbar": {
              "outlinewidth": 0,
              "ticks": ""
             }
            }
           }
          ],
          "histogram": [
           {
            "marker": {
             "pattern": {
              "fillmode": "overlay",
              "size": 10,
              "solidity": 0.2
             }
            },
            "type": "histogram"
           }
          ],
          "scattergl": [
           {
            "marker": {
             "line": {
              "color": "#283442"
             }
            },
            "type": "scattergl"
           }
          ],
          "scatter3d": [
           {
            "type": "scatter3d",
            "line": {
             "colorbar": {
              "outlinewidth": 0,
              "ticks": ""
             }
            },
            "marker": {
             "colorbar": {
              "outlinewidth": 0,
              "ticks": ""
             }
            }
           }
          ],
          "scattermap": [
           {
            "type": "scattermap",
            "marker": {
             "colorbar": {
              "outlinewidth": 0,
              "ticks": ""
             }
            }
           }
          ],
          "scattermapbox": [
           {
            "type": "scattermapbox",
            "marker": {
             "colorbar": {
              "outlinewidth": 0,
              "ticks": ""
             }
            }
           }
          ],
          "scatterternary": [
           {
            "type": "scatterternary",
            "marker": {
             "colorbar": {
              "outlinewidth": 0,
              "ticks": ""
             }
            }
           }
          ],
          "scattercarpet": [
           {
            "type": "scattercarpet",
            "marker": {
             "colorbar": {
              "outlinewidth": 0,
              "ticks": ""
             }
            }
           }
          ],
          "carpet": [
           {
            "aaxis": {
             "endlinecolor": "#A2B1C6",
             "gridcolor": "#506784",
             "linecolor": "#506784",
             "minorgridcolor": "#506784",
             "startlinecolor": "#A2B1C6"
            },
            "baxis": {
             "endlinecolor": "#A2B1C6",
             "gridcolor": "#506784",
             "linecolor": "#506784",
             "minorgridcolor": "#506784",
             "startlinecolor": "#A2B1C6"
            },
            "type": "carpet"
           }
          ],
          "table": [
           {
            "cells": {
             "fill": {
              "color": "#506784"
             },
             "line": {
              "color": "rgb(17,17,17)"
             }
            },
            "header": {
             "fill": {
              "color": "#2a3f5f"
             },
             "line": {
              "color": "rgb(17,17,17)"
             }
            },
            "type": "table"
           }
          ],
          "barpolar": [
           {
            "marker": {
             "line": {
              "color": "rgb(17,17,17)",
              "width": 0.5
             },
             "pattern": {
              "fillmode": "overlay",
              "size": 10,
              "solidity": 0.2
             }
            },
            "type": "barpolar"
           }
          ],
          "pie": [
           {
            "automargin": true,
            "type": "pie"
           }
          ]
         },
         "layout": {
          "autotypenumbers": "strict",
          "colorway": [
           "#636efa",
           "#EF553B",
           "#00cc96",
           "#ab63fa",
           "#FFA15A",
           "#19d3f3",
           "#FF6692",
           "#B6E880",
           "#FF97FF",
           "#FECB52"
          ],
          "font": {
           "color": "#f2f5fa"
          },
          "hovermode": "closest",
          "hoverlabel": {
           "align": "left"
          },
          "paper_bgcolor": "rgb(17,17,17)",
          "plot_bgcolor": "rgb(17,17,17)",
          "polar": {
           "bgcolor": "rgb(17,17,17)",
           "angularaxis": {
            "gridcolor": "#506784",
            "linecolor": "#506784",
            "ticks": ""
           },
           "radialaxis": {
            "gridcolor": "#506784",
            "linecolor": "#506784",
            "ticks": ""
           }
          },
          "ternary": {
           "bgcolor": "rgb(17,17,17)",
           "aaxis": {
            "gridcolor": "#506784",
            "linecolor": "#506784",
            "ticks": ""
           },
           "baxis": {
            "gridcolor": "#506784",
            "linecolor": "#506784",
            "ticks": ""
           },
           "caxis": {
            "gridcolor": "#506784",
            "linecolor": "#506784",
            "ticks": ""
           }
          },
          "coloraxis": {
           "colorbar": {
            "outlinewidth": 0,
            "ticks": ""
           }
          },
          "colorscale": {
           "sequential": [
            [
             0.0,
             "#0d0887"
            ],
            [
             0.1111111111111111,
             "#46039f"
            ],
            [
             0.2222222222222222,
             "#7201a8"
            ],
            [
             0.3333333333333333,
             "#9c179e"
            ],
            [
             0.4444444444444444,
             "#bd3786"
            ],
            [
             0.5555555555555556,
             "#d8576b"
            ],
            [
             0.6666666666666666,
             "#ed7953"
            ],
            [
             0.7777777777777778,
             "#fb9f3a"
            ],
            [
             0.8888888888888888,
             "#fdca26"
            ],
            [
             1.0,
             "#f0f921"
            ]
           ],
           "sequentialminus": [
            [
             0.0,
             "#0d0887"
            ],
            [
             0.1111111111111111,
             "#46039f"
            ],
            [
             0.2222222222222222,
             "#7201a8"
            ],
            [
             0.3333333333333333,
             "#9c179e"
            ],
            [
             0.4444444444444444,
             "#bd3786"
            ],
            [
             0.5555555555555556,
             "#d8576b"
            ],
            [
             0.6666666666666666,
             "#ed7953"
            ],
            [
             0.7777777777777778,
             "#fb9f3a"
            ],
            [
             0.8888888888888888,
             "#fdca26"
            ],
            [
             1.0,
             "#f0f921"
            ]
           ],
           "diverging": [
            [
             0,
             "#8e0152"
            ],
            [
             0.1,
             "#c51b7d"
            ],
            [
             0.2,
             "#de77ae"
            ],
            [
             0.3,
             "#f1b6da"
            ],
            [
             0.4,
             "#fde0ef"
            ],
            [
             0.5,
             "#f7f7f7"
            ],
            [
             0.6,
             "#e6f5d0"
            ],
            [
             0.7,
             "#b8e186"
            ],
            [
             0.8,
             "#7fbc41"
            ],
            [
             0.9,
             "#4d9221"
            ],
            [
             1,
             "#276419"
            ]
           ]
          },
          "xaxis": {
           "gridcolor": "#283442",
           "linecolor": "#506784",
           "ticks": "",
           "title": {
            "standoff": 15
           },
           "zerolinecolor": "#283442",
           "automargin": true,
           "zerolinewidth": 2
          },
          "yaxis": {
           "gridcolor": "#283442",
           "linecolor": "#506784",
           "ticks": "",
           "title": {
            "standoff": 15
           },
           "zerolinecolor": "#283442",
           "automargin": true,
           "zerolinewidth": 2
          },
          "scene": {
           "xaxis": {
            "backgroundcolor": "rgb(17,17,17)",
            "gridcolor": "#506784",
            "linecolor": "#506784",
            "showbackground": true,
            "ticks": "",
            "zerolinecolor": "#C8D4E3",
            "gridwidth": 2
           },
           "yaxis": {
            "backgroundcolor": "rgb(17,17,17)",
            "gridcolor": "#506784",
            "linecolor": "#506784",
            "showbackground": true,
            "ticks": "",
            "zerolinecolor": "#C8D4E3",
            "gridwidth": 2
           },
           "zaxis": {
            "backgroundcolor": "rgb(17,17,17)",
            "gridcolor": "#506784",
            "linecolor": "#506784",
            "showbackground": true,
            "ticks": "",
            "zerolinecolor": "#C8D4E3",
            "gridwidth": 2
           }
          },
          "shapedefaults": {
           "line": {
            "color": "#f2f5fa"
           }
          },
          "annotationdefaults": {
           "arrowcolor": "#f2f5fa",
           "arrowhead": 0,
           "arrowwidth": 1
          },
          "geo": {
           "bgcolor": "rgb(17,17,17)",
           "landcolor": "rgb(17,17,17)",
           "subunitcolor": "#506784",
           "showland": true,
           "showlakes": true,
           "lakecolor": "rgb(17,17,17)"
          },
          "title": {
           "x": 0.05
          },
          "updatemenudefaults": {
           "bgcolor": "#506784",
           "borderwidth": 0
          },
          "sliderdefaults": {
           "bgcolor": "#C8D4E3",
           "borderwidth": 1,
           "bordercolor": "rgb(17,17,17)",
           "tickwidth": 0
          },
          "mapbox": {
           "style": "dark"
          }
         }
        },
        "xaxis": {
         "anchor": "y",
         "domain": [
          0.0,
          0.7363
         ],
         "title": {
          "text": "x"
         }
        },
        "yaxis": {
         "anchor": "x",
         "domain": [
          0.0,
          1.0
         ],
         "title": {
          "text": "load_time_per_input_token"
         }
        },
        "xaxis2": {
         "anchor": "y2",
         "domain": [
          0.7413,
          1.0
         ],
         "matches": "x2",
         "showticklabels": false,
         "showline": false,
         "ticks": "",
         "showgrid": false
        },
        "yaxis2": {
         "anchor": "x2",
         "domain": [
          0.0,
          1.0
         ],
         "matches": "y",
         "showticklabels": false,
         "showgrid": true
        },
        "legend": {
         "title": {
          "text": "prompts"
         },
         "tracegroupgap": 0,
         "itemsizing": "constant"
        },
        "margin": {
         "t": 60
        }
       },
       "config": {
        "plotlyServerURL": "https://plot.ly"
       }
      }
     },
     "metadata": {},
     "output_type": "display_data",
     "jetTransient": {
      "display_id": null
     }
    }
   ],
   "execution_count": 42
  },
  {
   "metadata": {
    "ExecuteTime": {
     "end_time": "2025-10-11T05:44:55.707736Z",
     "start_time": "2025-10-11T05:44:55.558270Z"
    }
   },
   "cell_type": "code",
   "source": [
    "fig = px.scatter(data_df, x= range(len(data_df)), y= \"total_time\", color = 'prompts', marginal_y=\"violin\")\n",
    "fig.show()\n",
    "fig = px.scatter(data_df, x= range(len(data_df)), y= \"total_time_per_output_token\", color = 'prompt_length', marginal_y=\"histogram\")\n",
    "fig.show()"
   ],
   "id": "eea3e80f39c0d8e7",
   "outputs": [
    {
     "data": {
      "application/vnd.plotly.v1+json": {
       "data": [
        {
         "hovertemplate": "prompts=1<br>x=%{x}<br>total_time=%{y}<extra></extra>",
         "legendgroup": "1",
         "marker": {
          "color": "#636efa",
          "symbol": "circle"
         },
         "mode": "markers",
         "name": "1",
         "orientation": "v",
         "showlegend": true,
         "x": {
          "dtype": "i2",
          "bdata": "AAABAAIAAwAEAAUABgAHAAgACQAKAAsADAANAA4ADwAQABEAEgATABQAFQAWABcAGAAZABoAGwAcAB0AHgAfACAAIQAiACMAJAAlACYAJwAoACkAKgArACwALQAuAC8AMAAxADIAMwA0ADUANgA3ADgAOQA6ADsAPAA9AD4APwBqAGsAbABtAG4AbwBwAHEAcgBzAHQAdQB2AHcAeAB5AHoAewB8AH0AfgB/AIAAgQCCAIMAhACFAIYAhwCIAIkAigCLAIwAjQCOAI8AkACRAJIAkwCUAJUAlgCXAJgAmQCaAJsAnACdAJ4AnwCgAKEAogCjAKQApQCmAKcAqACpANQA1QDWANcA2ADZANoA2wDcAN0A3gDfAOAA4QDiAOMA5ADlAOYA5wDoAOkA6gDrAOwA7QDuAO8A8ADxAPIA8wD0APUA9gD3APgA+QD6APsA/AD9AP4A/wAAAQEBAgEDAQQBBQEGAQcBCAEJAQoBCwEMAQ0BDgEPARABEQESARMBPgE/AUABQQFCAUMBRAFFAUYBRwFIAUkBSgFLAUwBTQFOAU8BUAFRAVIBUwFUAVUBVgFXAVgBWQFaAVsBXAFdAV4BXwFgAWEBYgFjAWQBZQFmAWcBaAFpAWoBawFsAW0BbgFvAXABcQFyAXMBdAF1AXYBdwF4AXkBegF7AXwBfQE="
         },
         "xaxis": "x",
         "y": {
          "dtype": "f8",
          "bdata": "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"
         },
         "yaxis": "y",
         "type": "scatter"
        },
        {
         "alignmentgroup": "True",
         "hovertemplate": "prompts=1<br>total_time=%{y}<extra></extra>",
         "legendgroup": "1",
         "marker": {
          "color": "#636efa",
          "symbol": "circle"
         },
         "name": "1",
         "offsetgroup": "1",
         "scalegroup": "y",
         "showlegend": false,
         "xaxis": "x2",
         "y": {
          "dtype": "f8",
          "bdata": "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"
         },
         "yaxis": "y2",
         "type": "violin"
        },
        {
         "hovertemplate": "prompts=8<br>x=%{x}<br>total_time=%{y}<extra></extra>",
         "legendgroup": "8",
         "marker": {
          "color": "#EF553B",
          "symbol": "circle"
         },
         "mode": "markers",
         "name": "8",
         "orientation": "v",
         "showlegend": true,
         "x": {
          "dtype": "i2",
          "bdata": "QABBAEIAQwBEAEUARgBHAEgASQBKAEsATABNAE4ATwBQAFEAUgBTAFQAVQBWAFcAWABZAFoAWwBcAF0AXgBfAKoAqwCsAK0ArgCvALAAsQCyALMAtAC1ALYAtwC4ALkAugC7ALwAvQC+AL8AwADBAMIAwwDEAMUAxgDHAMgAyQAUARUBFgEXARgBGQEaARsBHAEdAR4BHwEgASEBIgEjASQBJQEmAScBKAEpASoBKwEsAS0BLgEvATABMQEyATMBfgF/AYABgQGCAYMBhAGFAYYBhwGIAYkBigGLAYwBjQGOAY8BkAGRAZIBkwGUAZUBlgGXAZgBmQGaAZsBnAGdAQ=="
         },
         "xaxis": "x",
         "y": {
          "dtype": "f8",
          "bdata": "qIsUysLvEUCHZG34gqMnQHosx3WdlwpAuUmxSLiZK0A3kInvH+4ZQETMgA5OWyNAFJFhFW/UFkB5micyzioxQJAYmHBDRxhAfqmfNxX9KUDFP2zp0WQJQGB561eVpCxARctw8hGHE0CRnKeVnY0nQBlRJKmW3hVAmBb1Se5UL0D0+/7Ni4MTQC2tKwvLlCVA96PywBG+C0Cv5qUHqhkxQGkKU0q+GA9AUyunmN6JJkDGcxE6Q5wXQLO7mwL0EDNAKFXseUjiEUBUymsldJMpQPLwngPLQQJAm0ZJ/hYXIEBc6ntoemQPQMbf9gSJdSZAtUE3RZH3FkBPOjanN8gzQHFGKBE86Q1A9nsH5LfhK0C7okqDkS0MQAcn/RjOYChAwkDGkiiqBUCFOHsM+z4kQPDP+7Wr9gpAjR/P0yU4KEB7mt2ks10KQE38rI0MCSVAF3+AWrFMEEDN1xtrNf4wQCqQ2Vn0bghAUpVb/1MIMUAlP+JXrOEQQMXEiypoITFALy/APjplDkAKqCZ3jpMlQAmlL4Sclw9ArW+7KxZMNkDonEQpxkYQQFqGk484pzdAVF0bhX+MCkDizuBK0ZsxQKjmzTwU4AVAeK3Oe61NFUCpXsg05AkEQKrSux2GDyhAo1huaTV8EkAr4s9LIGwvQHZTymsl5ARAUWnEzD7fDkDkiBCyh+UhQELQ0aqWg0NAtSj9zkCmGkBCKsWOxg8+QD0sL1RZ5xtAwZTcvMxRMUBC9P8F3akaQAVXL3VGfEFAZGaw84DrIECfOZCaG1xDQIcmmlE9wxhA5AS3/xKGO0AywKofQPMjQFL5jWWwZDpAdFB4v8BaHkDVqgJaXwdFQKF3dG25fCFAi+Kwj6kqSED2HQ3xWZgbQPCTWXM2ZUBArn0BvXAfI0BqSIGqdu46QAg4KXHCsRlAg6xdyUQgP0AeMLTff0gcQGfuIeF7FUJAVDiCVIqtGEAiaBayBCM6QBRowdVLxR1AvazkvjC+PUDpzrgVZ/EeQI5QfTGlUEBAWWTgJd1LHkAyryMO2XI9QA5QdSOHoyBAx7yOOGTIQUDOxd/2BDkgQM21w7pMoD9AHCYapOBJHUDMjTOXZbtAQD/A//v4QCFARyRl5l00PUBFdYQdEDIgQLXFkPcF3T1ACg4viEiZIUC2ix8ZYeQ9QOELk6mCSR9A5fPlYJFOOkB6UbtfBXAWQCvssxTagTZASN3OvvJMIECgo/pzdjRCQH63L1aKqx5AZCGVvQBKQUCc6+pEOOQeQOy+CL95vUJAoWu6+aGRIEAEQkabPgw+QH0mVqHc8R5AGxb+ZyhpQ0C7LIHvkTgUQHcJmAo7+jNA3kKy28L2FECbt0X0xtI8QA=="
         },
         "yaxis": "y",
         "type": "scatter"
        },
        {
         "alignmentgroup": "True",
         "hovertemplate": "prompts=8<br>total_time=%{y}<extra></extra>",
         "legendgroup": "8",
         "marker": {
          "color": "#EF553B",
          "symbol": "circle"
         },
         "name": "8",
         "offsetgroup": "8",
         "scalegroup": "y",
         "showlegend": false,
         "xaxis": "x2",
         "y": {
          "dtype": "f8",
          "bdata": "qIsUysLvEUCHZG34gqMnQHosx3WdlwpAuUmxSLiZK0A3kInvH+4ZQETMgA5OWyNAFJFhFW/UFkB5micyzioxQJAYmHBDRxhAfqmfNxX9KUDFP2zp0WQJQGB561eVpCxARctw8hGHE0CRnKeVnY0nQBlRJKmW3hVAmBb1Se5UL0D0+/7Ni4MTQC2tKwvLlCVA96PywBG+C0Cv5qUHqhkxQGkKU0q+GA9AUyunmN6JJkDGcxE6Q5wXQLO7mwL0EDNAKFXseUjiEUBUymsldJMpQPLwngPLQQJAm0ZJ/hYXIEBc6ntoemQPQMbf9gSJdSZAtUE3RZH3FkBPOjanN8gzQHFGKBE86Q1A9nsH5LfhK0C7okqDkS0MQAcn/RjOYChAwkDGkiiqBUCFOHsM+z4kQPDP+7Wr9gpAjR/P0yU4KEB7mt2ks10KQE38rI0MCSVAF3+AWrFMEEDN1xtrNf4wQCqQ2Vn0bghAUpVb/1MIMUAlP+JXrOEQQMXEiypoITFALy/APjplDkAKqCZ3jpMlQAmlL4Sclw9ArW+7KxZMNkDonEQpxkYQQFqGk484pzdAVF0bhX+MCkDizuBK0ZsxQKjmzTwU4AVAeK3Oe61NFUCpXsg05AkEQKrSux2GDyhAo1huaTV8EkAr4s9LIGwvQHZTymsl5ARAUWnEzD7fDkDkiBCyh+UhQELQ0aqWg0NAtSj9zkCmGkBCKsWOxg8+QD0sL1RZ5xtAwZTcvMxRMUBC9P8F3akaQAVXL3VGfEFAZGaw84DrIECfOZCaG1xDQIcmmlE9wxhA5AS3/xKGO0AywKofQPMjQFL5jWWwZDpAdFB4v8BaHkDVqgJaXwdFQKF3dG25fCFAi+Kwj6kqSED2HQ3xWZgbQPCTWXM2ZUBArn0BvXAfI0BqSIGqdu46QAg4KXHCsRlAg6xdyUQgP0AeMLTff0gcQGfuIeF7FUJAVDiCVIqtGEAiaBayBCM6QBRowdVLxR1AvazkvjC+PUDpzrgVZ/EeQI5QfTGlUEBAWWTgJd1LHkAyryMO2XI9QA5QdSOHoyBAx7yOOGTIQUDOxd/2BDkgQM21w7pMoD9AHCYapOBJHUDMjTOXZbtAQD/A//v4QCFARyRl5l00PUBFdYQdEDIgQLXFkPcF3T1ACg4viEiZIUC2ix8ZYeQ9QOELk6mCSR9A5fPlYJFOOkB6UbtfBXAWQCvssxTagTZASN3OvvJMIECgo/pzdjRCQH63L1aKqx5AZCGVvQBKQUCc6+pEOOQeQOy+CL95vUJAoWu6+aGRIEAEQkabPgw+QH0mVqHc8R5AGxb+ZyhpQ0C7LIHvkTgUQHcJmAo7+jNA3kKy28L2FECbt0X0xtI8QA=="
         },
         "yaxis": "y2",
         "type": "violin"
        },
        {
         "hovertemplate": "prompts=32<br>x=%{x}<br>total_time=%{y}<extra></extra>",
         "legendgroup": "32",
         "marker": {
          "color": "#00cc96",
          "symbol": "circle"
         },
         "mode": "markers",
         "name": "32",
         "orientation": "v",
         "showlegend": true,
         "x": {
          "dtype": "i2",
          "bdata": "YABhAGIAYwBkAGUAZgBnAMoAywDMAM0AzgDPANAA0QA0ATUBNgE3ATgBOQE6ATsBngGfAaABoQGiAaMBpAGlAQ=="
         },
         "xaxis": "x",
         "y": {
          "dtype": "f8",
          "bdata": "n2P2aGAMNEC8yAT8GgxAQABV3LjF5DRAXcKht3gVRkDLqVPUTxQ3QHpJrUGpVzVAsCTUZ2LBMkCnIhXGFuI8QInW5e85FylAlw6Mch+BOUAbGxWTkukQQDUlWYejbzFAWbGuwEY0JEBmHUQhuCxBQGakOQ2s6iFArzztlR76KED06Weg6FQ+QJ0fNdy2jFlAgdXs3A/CQECIoTCDjGJXQKPqVzofPDxAQmrJmdyaUUDiUjr9RcNBQJRhgVQvJ11AOVc5WQ9gNUA2n4TjQzxNQKhSswdaoTpAaqOV1rrxUECd+TDWklkyQDuGbMWjlU5AqoKsAhB6NEAyAFRxY4dXQA=="
         },
         "yaxis": "y",
         "type": "scatter"
        },
        {
         "alignmentgroup": "True",
         "hovertemplate": "prompts=32<br>total_time=%{y}<extra></extra>",
         "legendgroup": "32",
         "marker": {
          "color": "#00cc96",
          "symbol": "circle"
         },
         "name": "32",
         "offsetgroup": "32",
         "scalegroup": "y",
         "showlegend": false,
         "xaxis": "x2",
         "y": {
          "dtype": "f8",
          "bdata": "n2P2aGAMNEC8yAT8GgxAQABV3LjF5DRAXcKht3gVRkDLqVPUTxQ3QHpJrUGpVzVAsCTUZ2LBMkCnIhXGFuI8QInW5e85FylAlw6Mch+BOUAbGxWTkukQQDUlWYejbzFAWbGuwEY0JEBmHUQhuCxBQGakOQ2s6iFArzztlR76KED06Weg6FQ+QJ0fNdy2jFlAgdXs3A/CQECIoTCDjGJXQKPqVzofPDxAQmrJmdyaUUDiUjr9RcNBQJRhgVQvJ11AOVc5WQ9gNUA2n4TjQzxNQKhSswdaoTpAaqOV1rrxUECd+TDWklkyQDuGbMWjlU5AqoKsAhB6NEAyAFRxY4dXQA=="
         },
         "yaxis": "y2",
         "type": "violin"
        },
        {
         "hovertemplate": "prompts=128<br>x=%{x}<br>total_time=%{y}<extra></extra>",
         "legendgroup": "128",
         "marker": {
          "color": "#ab63fa",
          "symbol": "circle"
         },
         "mode": "markers",
         "name": "128",
         "orientation": "v",
         "showlegend": true,
         "x": {
          "dtype": "i2",
          "bdata": "aABpANIA0wA8AT0BpgGnAQ=="
         },
         "xaxis": "x",
         "y": {
          "dtype": "f8",
          "bdata": "/wAQHDz4I0AKwzaYPBQkQEYNpmH40CBA/zyyXrHTIkBopO9/kdEpQOGlipjIay5AbhVph2SVEkA5YR0iyXtBQA=="
         },
         "yaxis": "y",
         "type": "scatter"
        },
        {
         "alignmentgroup": "True",
         "hovertemplate": "prompts=128<br>total_time=%{y}<extra></extra>",
         "legendgroup": "128",
         "marker": {
          "color": "#ab63fa",
          "symbol": "circle"
         },
         "name": "128",
         "offsetgroup": "128",
         "scalegroup": "y",
         "showlegend": false,
         "xaxis": "x2",
         "y": {
          "dtype": "f8",
          "bdata": "/wAQHDz4I0AKwzaYPBQkQEYNpmH40CBA/zyyXrHTIkBopO9/kdEpQOGlipjIay5AbhVph2SVEkA5YR0iyXtBQA=="
         },
         "yaxis": "y2",
         "type": "violin"
        }
       ],
       "layout": {
        "template": {
         "data": {
          "histogram2dcontour": [
           {
            "type": "histogram2dcontour",
            "colorbar": {
             "outlinewidth": 0,
             "ticks": ""
            },
            "colorscale": [
             [
              0.0,
              "#0d0887"
             ],
             [
              0.1111111111111111,
              "#46039f"
             ],
             [
              0.2222222222222222,
              "#7201a8"
             ],
             [
              0.3333333333333333,
              "#9c179e"
             ],
             [
              0.4444444444444444,
              "#bd3786"
             ],
             [
              0.5555555555555556,
              "#d8576b"
             ],
             [
              0.6666666666666666,
              "#ed7953"
             ],
             [
              0.7777777777777778,
              "#fb9f3a"
             ],
             [
              0.8888888888888888,
              "#fdca26"
             ],
             [
              1.0,
              "#f0f921"
             ]
            ]
           }
          ],
          "choropleth": [
           {
            "type": "choropleth",
            "colorbar": {
             "outlinewidth": 0,
             "ticks": ""
            }
           }
          ],
          "histogram2d": [
           {
            "type": "histogram2d",
            "colorbar": {
             "outlinewidth": 0,
             "ticks": ""
            },
            "colorscale": [
             [
              0.0,
              "#0d0887"
             ],
             [
              0.1111111111111111,
              "#46039f"
             ],
             [
              0.2222222222222222,
              "#7201a8"
             ],
             [
              0.3333333333333333,
              "#9c179e"
             ],
             [
              0.4444444444444444,
              "#bd3786"
             ],
             [
              0.5555555555555556,
              "#d8576b"
             ],
             [
              0.6666666666666666,
              "#ed7953"
             ],
             [
              0.7777777777777778,
              "#fb9f3a"
             ],
             [
              0.8888888888888888,
              "#fdca26"
             ],
             [
              1.0,
              "#f0f921"
             ]
            ]
           }
          ],
          "heatmap": [
           {
            "type": "heatmap",
            "colorbar": {
             "outlinewidth": 0,
             "ticks": ""
            },
            "colorscale": [
             [
              0.0,
              "#0d0887"
             ],
             [
              0.1111111111111111,
              "#46039f"
             ],
             [
              0.2222222222222222,
              "#7201a8"
             ],
             [
              0.3333333333333333,
              "#9c179e"
             ],
             [
              0.4444444444444444,
              "#bd3786"
             ],
             [
              0.5555555555555556,
              "#d8576b"
             ],
             [
              0.6666666666666666,
              "#ed7953"
             ],
             [
              0.7777777777777778,
              "#fb9f3a"
             ],
             [
              0.8888888888888888,
              "#fdca26"
             ],
             [
              1.0,
              "#f0f921"
             ]
            ]
           }
          ],
          "contourcarpet": [
           {
            "type": "contourcarpet",
            "colorbar": {
             "outlinewidth": 0,
             "ticks": ""
            }
           }
          ],
          "contour": [
           {
            "type": "contour",
            "colorbar": {
             "outlinewidth": 0,
             "ticks": ""
            },
            "colorscale": [
             [
              0.0,
              "#0d0887"
             ],
             [
              0.1111111111111111,
              "#46039f"
             ],
             [
              0.2222222222222222,
              "#7201a8"
             ],
             [
              0.3333333333333333,
              "#9c179e"
             ],
             [
              0.4444444444444444,
              "#bd3786"
             ],
             [
              0.5555555555555556,
              "#d8576b"
             ],
             [
              0.6666666666666666,
              "#ed7953"
             ],
             [
              0.7777777777777778,
              "#fb9f3a"
             ],
             [
              0.8888888888888888,
              "#fdca26"
             ],
             [
              1.0,
              "#f0f921"
             ]
            ]
           }
          ],
          "surface": [
           {
            "type": "surface",
            "colorbar": {
             "outlinewidth": 0,
             "ticks": ""
            },
            "colorscale": [
             [
              0.0,
              "#0d0887"
             ],
             [
              0.1111111111111111,
              "#46039f"
             ],
             [
              0.2222222222222222,
              "#7201a8"
             ],
             [
              0.3333333333333333,
              "#9c179e"
             ],
             [
              0.4444444444444444,
              "#bd3786"
             ],
             [
              0.5555555555555556,
              "#d8576b"
             ],
             [
              0.6666666666666666,
              "#ed7953"
             ],
             [
              0.7777777777777778,
              "#fb9f3a"
             ],
             [
              0.8888888888888888,
              "#fdca26"
             ],
             [
              1.0,
              "#f0f921"
             ]
            ]
           }
          ],
          "mesh3d": [
           {
            "type": "mesh3d",
            "colorbar": {
             "outlinewidth": 0,
             "ticks": ""
            }
           }
          ],
          "scatter": [
           {
            "marker": {
             "line": {
              "color": "#283442"
             }
            },
            "type": "scatter"
           }
          ],
          "parcoords": [
           {
            "type": "parcoords",
            "line": {
             "colorbar": {
              "outlinewidth": 0,
              "ticks": ""
             }
            }
           }
          ],
          "scatterpolargl": [
           {
            "type": "scatterpolargl",
            "marker": {
             "colorbar": {
              "outlinewidth": 0,
              "ticks": ""
             }
            }
           }
          ],
          "bar": [
           {
            "error_x": {
             "color": "#f2f5fa"
            },
            "error_y": {
             "color": "#f2f5fa"
            },
            "marker": {
             "line": {
              "color": "rgb(17,17,17)",
              "width": 0.5
             },
             "pattern": {
              "fillmode": "overlay",
              "size": 10,
              "solidity": 0.2
             }
            },
            "type": "bar"
           }
          ],
          "scattergeo": [
           {
            "type": "scattergeo",
            "marker": {
             "colorbar": {
              "outlinewidth": 0,
              "ticks": ""
             }
            }
           }
          ],
          "scatterpolar": [
           {
            "type": "scatterpolar",
            "marker": {
             "colorbar": {
              "outlinewidth": 0,
              "ticks": ""
             }
            }
           }
          ],
          "histogram": [
           {
            "marker": {
             "pattern": {
              "fillmode": "overlay",
              "size": 10,
              "solidity": 0.2
             }
            },
            "type": "histogram"
           }
          ],
          "scattergl": [
           {
            "marker": {
             "line": {
              "color": "#283442"
             }
            },
            "type": "scattergl"
           }
          ],
          "scatter3d": [
           {
            "type": "scatter3d",
            "line": {
             "colorbar": {
              "outlinewidth": 0,
              "ticks": ""
             }
            },
            "marker": {
             "colorbar": {
              "outlinewidth": 0,
              "ticks": ""
             }
            }
           }
          ],
          "scattermap": [
           {
            "type": "scattermap",
            "marker": {
             "colorbar": {
              "outlinewidth": 0,
              "ticks": ""
             }
            }
           }
          ],
          "scattermapbox": [
           {
            "type": "scattermapbox",
            "marker": {
             "colorbar": {
              "outlinewidth": 0,
              "ticks": ""
             }
            }
           }
          ],
          "scatterternary": [
           {
            "type": "scatterternary",
            "marker": {
             "colorbar": {
              "outlinewidth": 0,
              "ticks": ""
             }
            }
           }
          ],
          "scattercarpet": [
           {
            "type": "scattercarpet",
            "marker": {
             "colorbar": {
              "outlinewidth": 0,
              "ticks": ""
             }
            }
           }
          ],
          "carpet": [
           {
            "aaxis": {
             "endlinecolor": "#A2B1C6",
             "gridcolor": "#506784",
             "linecolor": "#506784",
             "minorgridcolor": "#506784",
             "startlinecolor": "#A2B1C6"
            },
            "baxis": {
             "endlinecolor": "#A2B1C6",
             "gridcolor": "#506784",
             "linecolor": "#506784",
             "minorgridcolor": "#506784",
             "startlinecolor": "#A2B1C6"
            },
            "type": "carpet"
           }
          ],
          "table": [
           {
            "cells": {
             "fill": {
              "color": "#506784"
             },
             "line": {
              "color": "rgb(17,17,17)"
             }
            },
            "header": {
             "fill": {
              "color": "#2a3f5f"
             },
             "line": {
              "color": "rgb(17,17,17)"
             }
            },
            "type": "table"
           }
          ],
          "barpolar": [
           {
            "marker": {
             "line": {
              "color": "rgb(17,17,17)",
              "width": 0.5
             },
             "pattern": {
              "fillmode": "overlay",
              "size": 10,
              "solidity": 0.2
             }
            },
            "type": "barpolar"
           }
          ],
          "pie": [
           {
            "automargin": true,
            "type": "pie"
           }
          ]
         },
         "layout": {
          "autotypenumbers": "strict",
          "colorway": [
           "#636efa",
           "#EF553B",
           "#00cc96",
           "#ab63fa",
           "#FFA15A",
           "#19d3f3",
           "#FF6692",
           "#B6E880",
           "#FF97FF",
           "#FECB52"
          ],
          "font": {
           "color": "#f2f5fa"
          },
          "hovermode": "closest",
          "hoverlabel": {
           "align": "left"
          },
          "paper_bgcolor": "rgb(17,17,17)",
          "plot_bgcolor": "rgb(17,17,17)",
          "polar": {
           "bgcolor": "rgb(17,17,17)",
           "angularaxis": {
            "gridcolor": "#506784",
            "linecolor": "#506784",
            "ticks": ""
           },
           "radialaxis": {
            "gridcolor": "#506784",
            "linecolor": "#506784",
            "ticks": ""
           }
          },
          "ternary": {
           "bgcolor": "rgb(17,17,17)",
           "aaxis": {
            "gridcolor": "#506784",
            "linecolor": "#506784",
            "ticks": ""
           },
           "baxis": {
            "gridcolor": "#506784",
            "linecolor": "#506784",
            "ticks": ""
           },
           "caxis": {
            "gridcolor": "#506784",
            "linecolor": "#506784",
            "ticks": ""
           }
          },
          "coloraxis": {
           "colorbar": {
            "outlinewidth": 0,
            "ticks": ""
           }
          },
          "colorscale": {
           "sequential": [
            [
             0.0,
             "#0d0887"
            ],
            [
             0.1111111111111111,
             "#46039f"
            ],
            [
             0.2222222222222222,
             "#7201a8"
            ],
            [
             0.3333333333333333,
             "#9c179e"
            ],
            [
             0.4444444444444444,
             "#bd3786"
            ],
            [
             0.5555555555555556,
             "#d8576b"
            ],
            [
             0.6666666666666666,
             "#ed7953"
            ],
            [
             0.7777777777777778,
             "#fb9f3a"
            ],
            [
             0.8888888888888888,
             "#fdca26"
            ],
            [
             1.0,
             "#f0f921"
            ]
           ],
           "sequentialminus": [
            [
             0.0,
             "#0d0887"
            ],
            [
             0.1111111111111111,
             "#46039f"
            ],
            [
             0.2222222222222222,
             "#7201a8"
            ],
            [
             0.3333333333333333,
             "#9c179e"
            ],
            [
             0.4444444444444444,
             "#bd3786"
            ],
            [
             0.5555555555555556,
             "#d8576b"
            ],
            [
             0.6666666666666666,
             "#ed7953"
            ],
            [
             0.7777777777777778,
             "#fb9f3a"
            ],
            [
             0.8888888888888888,
             "#fdca26"
            ],
            [
             1.0,
             "#f0f921"
            ]
           ],
           "diverging": [
            [
             0,
             "#8e0152"
            ],
            [
             0.1,
             "#c51b7d"
            ],
            [
             0.2,
             "#de77ae"
            ],
            [
             0.3,
             "#f1b6da"
            ],
            [
             0.4,
             "#fde0ef"
            ],
            [
             0.5,
             "#f7f7f7"
            ],
            [
             0.6,
             "#e6f5d0"
            ],
            [
             0.7,
             "#b8e186"
            ],
            [
             0.8,
             "#7fbc41"
            ],
            [
             0.9,
             "#4d9221"
            ],
            [
             1,
             "#276419"
            ]
           ]
          },
          "xaxis": {
           "gridcolor": "#283442",
           "linecolor": "#506784",
           "ticks": "",
           "title": {
            "standoff": 15
           },
           "zerolinecolor": "#283442",
           "automargin": true,
           "zerolinewidth": 2
          },
          "yaxis": {
           "gridcolor": "#283442",
           "linecolor": "#506784",
           "ticks": "",
           "title": {
            "standoff": 15
           },
           "zerolinecolor": "#283442",
           "automargin": true,
           "zerolinewidth": 2
          },
          "scene": {
           "xaxis": {
            "backgroundcolor": "rgb(17,17,17)",
            "gridcolor": "#506784",
            "linecolor": "#506784",
            "showbackground": true,
            "ticks": "",
            "zerolinecolor": "#C8D4E3",
            "gridwidth": 2
           },
           "yaxis": {
            "backgroundcolor": "rgb(17,17,17)",
            "gridcolor": "#506784",
            "linecolor": "#506784",
            "showbackground": true,
            "ticks": "",
            "zerolinecolor": "#C8D4E3",
            "gridwidth": 2
           },
           "zaxis": {
            "backgroundcolor": "rgb(17,17,17)",
            "gridcolor": "#506784",
            "linecolor": "#506784",
            "showbackground": true,
            "ticks": "",
            "zerolinecolor": "#C8D4E3",
            "gridwidth": 2
           }
          },
          "shapedefaults": {
           "line": {
            "color": "#f2f5fa"
           }
          },
          "annotationdefaults": {
           "arrowcolor": "#f2f5fa",
           "arrowhead": 0,
           "arrowwidth": 1
          },
          "geo": {
           "bgcolor": "rgb(17,17,17)",
           "landcolor": "rgb(17,17,17)",
           "subunitcolor": "#506784",
           "showland": true,
           "showlakes": true,
           "lakecolor": "rgb(17,17,17)"
          },
          "title": {
           "x": 0.05
          },
          "updatemenudefaults": {
           "bgcolor": "#506784",
           "borderwidth": 0
          },
          "sliderdefaults": {
           "bgcolor": "#C8D4E3",
           "borderwidth": 1,
           "bordercolor": "rgb(17,17,17)",
           "tickwidth": 0
          },
          "mapbox": {
           "style": "dark"
          }
         }
        },
        "xaxis": {
         "anchor": "y",
         "domain": [
          0.0,
          0.7363
         ],
         "title": {
          "text": "x"
         }
        },
        "yaxis": {
         "anchor": "x",
         "domain": [
          0.0,
          1.0
         ],
         "title": {
          "text": "total_time"
         }
        },
        "xaxis2": {
         "anchor": "y2",
         "domain": [
          0.7413,
          1.0
         ],
         "matches": "x2",
         "showticklabels": false,
         "showline": false,
         "ticks": "",
         "showgrid": false
        },
        "yaxis2": {
         "anchor": "x2",
         "domain": [
          0.0,
          1.0
         ],
         "matches": "y",
         "showticklabels": false,
         "showgrid": true
        },
        "legend": {
         "title": {
          "text": "prompts"
         },
         "tracegroupgap": 0
        },
        "margin": {
         "t": 60
        }
       },
       "config": {
        "plotlyServerURL": "https://plot.ly"
       }
      }
     },
     "metadata": {},
     "output_type": "display_data",
     "jetTransient": {
      "display_id": null
     }
    },
    {
     "data": {
      "application/vnd.plotly.v1+json": {
       "data": [
        {
         "hovertemplate": "prompt_length=long<br>x=%{x}<br>total_time_per_output_token=%{y}<extra></extra>",
         "legendgroup": "long",
         "marker": {
          "color": "#636efa",
          "symbol": "circle"
         },
         "mode": "markers",
         "name": "long",
         "orientation": "v",
         "showlegend": true,
         "x": {
          "dtype": "i2",
          "bdata": "AAABAAIAAwAEAAUABgAHAAgACQAKAAsADAANAA4ADwAQABEAEgATABQAFQAWABcAGAAZABoAGwAcAB0AHgAfACAAIQAiACMAJAAlACYAJwAoACkAKgArACwALQAuAC8AMAAxADIAMwA0ADUANgA3ADgAOQA6ADsAPAA9AD4APwBAAEEAQgBDAEQARQBGAEcASABJAEoASwBMAE0ATgBPAFAAUQBSAFMAVABVAFYAVwBYAFkAWgBbAFwAXQBeAF8AYABhAGIAYwBkAGUAZgBnAGgAaQDUANUA1gDXANgA2QDaANsA3ADdAN4A3wDgAOEA4gDjAOQA5QDmAOcA6ADpAOoA6wDsAO0A7gDvAPAA8QDyAPMA9AD1APYA9wD4APkA+gD7APwA/QD+AP8AAAEBAQIBAwEEAQUBBgEHAQgBCQEKAQsBDAENAQ4BDwEQAREBEgETARQBFQEWARcBGAEZARoBGwEcAR0BHgEfASABIQEiASMBJAElASYBJwEoASkBKgErASwBLQEuAS8BMAExATIBMwE0ATUBNgE3ATgBOQE6ATsBPAE9AQ=="
         },
         "xaxis": "x",
         "y": {
          "dtype": "f8",
          "bdata": "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"
         },
         "yaxis": "y",
         "type": "scatter"
        },
        {
         "bingroup": "y",
         "hovertemplate": "prompt_length=long<br>total_time_per_output_token=%{y}<br>count=%{x}<extra></extra>",
         "legendgroup": "long",
         "marker": {
          "color": "#636efa"
         },
         "name": "long",
         "opacity": 0.5,
         "showlegend": false,
         "xaxis": "x2",
         "y": {
          "dtype": "f8",
          "bdata": "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"
         },
         "yaxis": "y2",
         "type": "histogram"
        },
        {
         "hovertemplate": "prompt_length=short<br>x=%{x}<br>total_time_per_output_token=%{y}<extra></extra>",
         "legendgroup": "short",
         "marker": {
          "color": "#EF553B",
          "symbol": "circle"
         },
         "mode": "markers",
         "name": "short",
         "orientation": "v",
         "showlegend": true,
         "x": {
          "dtype": "i2",
          "bdata": "agBrAGwAbQBuAG8AcABxAHIAcwB0AHUAdgB3AHgAeQB6AHsAfAB9AH4AfwCAAIEAggCDAIQAhQCGAIcAiACJAIoAiwCMAI0AjgCPAJAAkQCSAJMAlACVAJYAlwCYAJkAmgCbAJwAnQCeAJ8AoAChAKIAowCkAKUApgCnAKgAqQCqAKsArACtAK4ArwCwALEAsgCzALQAtQC2ALcAuAC5ALoAuwC8AL0AvgC/AMAAwQDCAMMAxADFAMYAxwDIAMkAygDLAMwAzQDOAM8A0ADRANIA0wA+AT8BQAFBAUIBQwFEAUUBRgFHAUgBSQFKAUsBTAFNAU4BTwFQAVEBUgFTAVQBVQFWAVcBWAFZAVoBWwFcAV0BXgFfAWABYQFiAWMBZAFlAWYBZwFoAWkBagFrAWwBbQFuAW8BcAFxAXIBcwF0AXUBdgF3AXgBeQF6AXsBfAF9AX4BfwGAAYEBggGDAYQBhQGGAYcBiAGJAYoBiwGMAY0BjgGPAZABkQGSAZMBlAGVAZYBlwGYAZkBmgGbAZwBnQGeAZ8BoAGhAaIBowGkAaUBpgGnAQ=="
         },
         "xaxis": "x",
         "y": {
          "dtype": "f8",
          "bdata": "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"
         },
         "yaxis": "y",
         "type": "scatter"
        },
        {
         "bingroup": "y",
         "hovertemplate": "prompt_length=short<br>total_time_per_output_token=%{y}<br>count=%{x}<extra></extra>",
         "legendgroup": "short",
         "marker": {
          "color": "#EF553B"
         },
         "name": "short",
         "opacity": 0.5,
         "showlegend": false,
         "xaxis": "x2",
         "y": {
          "dtype": "f8",
          "bdata": "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"
         },
         "yaxis": "y2",
         "type": "histogram"
        }
       ],
       "layout": {
        "template": {
         "data": {
          "histogram2dcontour": [
           {
            "type": "histogram2dcontour",
            "colorbar": {
             "outlinewidth": 0,
             "ticks": ""
            },
            "colorscale": [
             [
              0.0,
              "#0d0887"
             ],
             [
              0.1111111111111111,
              "#46039f"
             ],
             [
              0.2222222222222222,
              "#7201a8"
             ],
             [
              0.3333333333333333,
              "#9c179e"
             ],
             [
              0.4444444444444444,
              "#bd3786"
             ],
             [
              0.5555555555555556,
              "#d8576b"
             ],
             [
              0.6666666666666666,
              "#ed7953"
             ],
             [
              0.7777777777777778,
              "#fb9f3a"
             ],
             [
              0.8888888888888888,
              "#fdca26"
             ],
             [
              1.0,
              "#f0f921"
             ]
            ]
           }
          ],
          "choropleth": [
           {
            "type": "choropleth",
            "colorbar": {
             "outlinewidth": 0,
             "ticks": ""
            }
           }
          ],
          "histogram2d": [
           {
            "type": "histogram2d",
            "colorbar": {
             "outlinewidth": 0,
             "ticks": ""
            },
            "colorscale": [
             [
              0.0,
              "#0d0887"
             ],
             [
              0.1111111111111111,
              "#46039f"
             ],
             [
              0.2222222222222222,
              "#7201a8"
             ],
             [
              0.3333333333333333,
              "#9c179e"
             ],
             [
              0.4444444444444444,
              "#bd3786"
             ],
             [
              0.5555555555555556,
              "#d8576b"
             ],
             [
              0.6666666666666666,
              "#ed7953"
             ],
             [
              0.7777777777777778,
              "#fb9f3a"
             ],
             [
              0.8888888888888888,
              "#fdca26"
             ],
             [
              1.0,
              "#f0f921"
             ]
            ]
           }
          ],
          "heatmap": [
           {
            "type": "heatmap",
            "colorbar": {
             "outlinewidth": 0,
             "ticks": ""
            },
            "colorscale": [
             [
              0.0,
              "#0d0887"
             ],
             [
              0.1111111111111111,
              "#46039f"
             ],
             [
              0.2222222222222222,
              "#7201a8"
             ],
             [
              0.3333333333333333,
              "#9c179e"
             ],
             [
              0.4444444444444444,
              "#bd3786"
             ],
             [
              0.5555555555555556,
              "#d8576b"
             ],
             [
              0.6666666666666666,
              "#ed7953"
             ],
             [
              0.7777777777777778,
              "#fb9f3a"
             ],
             [
              0.8888888888888888,
              "#fdca26"
             ],
             [
              1.0,
              "#f0f921"
             ]
            ]
           }
          ],
          "contourcarpet": [
           {
            "type": "contourcarpet",
            "colorbar": {
             "outlinewidth": 0,
             "ticks": ""
            }
           }
          ],
          "contour": [
           {
            "type": "contour",
            "colorbar": {
             "outlinewidth": 0,
             "ticks": ""
            },
            "colorscale": [
             [
              0.0,
              "#0d0887"
             ],
             [
              0.1111111111111111,
              "#46039f"
             ],
             [
              0.2222222222222222,
              "#7201a8"
             ],
             [
              0.3333333333333333,
              "#9c179e"
             ],
             [
              0.4444444444444444,
              "#bd3786"
             ],
             [
              0.5555555555555556,
              "#d8576b"
             ],
             [
              0.6666666666666666,
              "#ed7953"
             ],
             [
              0.7777777777777778,
              "#fb9f3a"
             ],
             [
              0.8888888888888888,
              "#fdca26"
             ],
             [
              1.0,
              "#f0f921"
             ]
            ]
           }
          ],
          "surface": [
           {
            "type": "surface",
            "colorbar": {
             "outlinewidth": 0,
             "ticks": ""
            },
            "colorscale": [
             [
              0.0,
              "#0d0887"
             ],
             [
              0.1111111111111111,
              "#46039f"
             ],
             [
              0.2222222222222222,
              "#7201a8"
             ],
             [
              0.3333333333333333,
              "#9c179e"
             ],
             [
              0.4444444444444444,
              "#bd3786"
             ],
             [
              0.5555555555555556,
              "#d8576b"
             ],
             [
              0.6666666666666666,
              "#ed7953"
             ],
             [
              0.7777777777777778,
              "#fb9f3a"
             ],
             [
              0.8888888888888888,
              "#fdca26"
             ],
             [
              1.0,
              "#f0f921"
             ]
            ]
           }
          ],
          "mesh3d": [
           {
            "type": "mesh3d",
            "colorbar": {
             "outlinewidth": 0,
             "ticks": ""
            }
           }
          ],
          "scatter": [
           {
            "marker": {
             "line": {
              "color": "#283442"
             }
            },
            "type": "scatter"
           }
          ],
          "parcoords": [
           {
            "type": "parcoords",
            "line": {
             "colorbar": {
              "outlinewidth": 0,
              "ticks": ""
             }
            }
           }
          ],
          "scatterpolargl": [
           {
            "type": "scatterpolargl",
            "marker": {
             "colorbar": {
              "outlinewidth": 0,
              "ticks": ""
             }
            }
           }
          ],
          "bar": [
           {
            "error_x": {
             "color": "#f2f5fa"
            },
            "error_y": {
             "color": "#f2f5fa"
            },
            "marker": {
             "line": {
              "color": "rgb(17,17,17)",
              "width": 0.5
             },
             "pattern": {
              "fillmode": "overlay",
              "size": 10,
              "solidity": 0.2
             }
            },
            "type": "bar"
           }
          ],
          "scattergeo": [
           {
            "type": "scattergeo",
            "marker": {
             "colorbar": {
              "outlinewidth": 0,
              "ticks": ""
             }
            }
           }
          ],
          "scatterpolar": [
           {
            "type": "scatterpolar",
            "marker": {
             "colorbar": {
              "outlinewidth": 0,
              "ticks": ""
             }
            }
           }
          ],
          "histogram": [
           {
            "marker": {
             "pattern": {
              "fillmode": "overlay",
              "size": 10,
              "solidity": 0.2
             }
            },
            "type": "histogram"
           }
          ],
          "scattergl": [
           {
            "marker": {
             "line": {
              "color": "#283442"
             }
            },
            "type": "scattergl"
           }
          ],
          "scatter3d": [
           {
            "type": "scatter3d",
            "line": {
             "colorbar": {
              "outlinewidth": 0,
              "ticks": ""
             }
            },
            "marker": {
             "colorbar": {
              "outlinewidth": 0,
              "ticks": ""
             }
            }
           }
          ],
          "scattermap": [
           {
            "type": "scattermap",
            "marker": {
             "colorbar": {
              "outlinewidth": 0,
              "ticks": ""
             }
            }
           }
          ],
          "scattermapbox": [
           {
            "type": "scattermapbox",
            "marker": {
             "colorbar": {
              "outlinewidth": 0,
              "ticks": ""
             }
            }
           }
          ],
          "scatterternary": [
           {
            "type": "scatterternary",
            "marker": {
             "colorbar": {
              "outlinewidth": 0,
              "ticks": ""
             }
            }
           }
          ],
          "scattercarpet": [
           {
            "type": "scattercarpet",
            "marker": {
             "colorbar": {
              "outlinewidth": 0,
              "ticks": ""
             }
            }
           }
          ],
          "carpet": [
           {
            "aaxis": {
             "endlinecolor": "#A2B1C6",
             "gridcolor": "#506784",
             "linecolor": "#506784",
             "minorgridcolor": "#506784",
             "startlinecolor": "#A2B1C6"
            },
            "baxis": {
             "endlinecolor": "#A2B1C6",
             "gridcolor": "#506784",
             "linecolor": "#506784",
             "minorgridcolor": "#506784",
             "startlinecolor": "#A2B1C6"
            },
            "type": "carpet"
           }
          ],
          "table": [
           {
            "cells": {
             "fill": {
              "color": "#506784"
             },
             "line": {
              "color": "rgb(17,17,17)"
             }
            },
            "header": {
             "fill": {
              "color": "#2a3f5f"
             },
             "line": {
              "color": "rgb(17,17,17)"
             }
            },
            "type": "table"
           }
          ],
          "barpolar": [
           {
            "marker": {
             "line": {
              "color": "rgb(17,17,17)",
              "width": 0.5
             },
             "pattern": {
              "fillmode": "overlay",
              "size": 10,
              "solidity": 0.2
             }
            },
            "type": "barpolar"
           }
          ],
          "pie": [
           {
            "automargin": true,
            "type": "pie"
           }
          ]
         },
         "layout": {
          "autotypenumbers": "strict",
          "colorway": [
           "#636efa",
           "#EF553B",
           "#00cc96",
           "#ab63fa",
           "#FFA15A",
           "#19d3f3",
           "#FF6692",
           "#B6E880",
           "#FF97FF",
           "#FECB52"
          ],
          "font": {
           "color": "#f2f5fa"
          },
          "hovermode": "closest",
          "hoverlabel": {
           "align": "left"
          },
          "paper_bgcolor": "rgb(17,17,17)",
          "plot_bgcolor": "rgb(17,17,17)",
          "polar": {
           "bgcolor": "rgb(17,17,17)",
           "angularaxis": {
            "gridcolor": "#506784",
            "linecolor": "#506784",
            "ticks": ""
           },
           "radialaxis": {
            "gridcolor": "#506784",
            "linecolor": "#506784",
            "ticks": ""
           }
          },
          "ternary": {
           "bgcolor": "rgb(17,17,17)",
           "aaxis": {
            "gridcolor": "#506784",
            "linecolor": "#506784",
            "ticks": ""
           },
           "baxis": {
            "gridcolor": "#506784",
            "linecolor": "#506784",
            "ticks": ""
           },
           "caxis": {
            "gridcolor": "#506784",
            "linecolor": "#506784",
            "ticks": ""
           }
          },
          "coloraxis": {
           "colorbar": {
            "outlinewidth": 0,
            "ticks": ""
           }
          },
          "colorscale": {
           "sequential": [
            [
             0.0,
             "#0d0887"
            ],
            [
             0.1111111111111111,
             "#46039f"
            ],
            [
             0.2222222222222222,
             "#7201a8"
            ],
            [
             0.3333333333333333,
             "#9c179e"
            ],
            [
             0.4444444444444444,
             "#bd3786"
            ],
            [
             0.5555555555555556,
             "#d8576b"
            ],
            [
             0.6666666666666666,
             "#ed7953"
            ],
            [
             0.7777777777777778,
             "#fb9f3a"
            ],
            [
             0.8888888888888888,
             "#fdca26"
            ],
            [
             1.0,
             "#f0f921"
            ]
           ],
           "sequentialminus": [
            [
             0.0,
             "#0d0887"
            ],
            [
             0.1111111111111111,
             "#46039f"
            ],
            [
             0.2222222222222222,
             "#7201a8"
            ],
            [
             0.3333333333333333,
             "#9c179e"
            ],
            [
             0.4444444444444444,
             "#bd3786"
            ],
            [
             0.5555555555555556,
             "#d8576b"
            ],
            [
             0.6666666666666666,
             "#ed7953"
            ],
            [
             0.7777777777777778,
             "#fb9f3a"
            ],
            [
             0.8888888888888888,
             "#fdca26"
            ],
            [
             1.0,
             "#f0f921"
            ]
           ],
           "diverging": [
            [
             0,
             "#8e0152"
            ],
            [
             0.1,
             "#c51b7d"
            ],
            [
             0.2,
             "#de77ae"
            ],
            [
             0.3,
             "#f1b6da"
            ],
            [
             0.4,
             "#fde0ef"
            ],
            [
             0.5,
             "#f7f7f7"
            ],
            [
             0.6,
             "#e6f5d0"
            ],
            [
             0.7,
             "#b8e186"
            ],
            [
             0.8,
             "#7fbc41"
            ],
            [
             0.9,
             "#4d9221"
            ],
            [
             1,
             "#276419"
            ]
           ]
          },
          "xaxis": {
           "gridcolor": "#283442",
           "linecolor": "#506784",
           "ticks": "",
           "title": {
            "standoff": 15
           },
           "zerolinecolor": "#283442",
           "automargin": true,
           "zerolinewidth": 2
          },
          "yaxis": {
           "gridcolor": "#283442",
           "linecolor": "#506784",
           "ticks": "",
           "title": {
            "standoff": 15
           },
           "zerolinecolor": "#283442",
           "automargin": true,
           "zerolinewidth": 2
          },
          "scene": {
           "xaxis": {
            "backgroundcolor": "rgb(17,17,17)",
            "gridcolor": "#506784",
            "linecolor": "#506784",
            "showbackground": true,
            "ticks": "",
            "zerolinecolor": "#C8D4E3",
            "gridwidth": 2
           },
           "yaxis": {
            "backgroundcolor": "rgb(17,17,17)",
            "gridcolor": "#506784",
            "linecolor": "#506784",
            "showbackground": true,
            "ticks": "",
            "zerolinecolor": "#C8D4E3",
            "gridwidth": 2
           },
           "zaxis": {
            "backgroundcolor": "rgb(17,17,17)",
            "gridcolor": "#506784",
            "linecolor": "#506784",
            "showbackground": true,
            "ticks": "",
            "zerolinecolor": "#C8D4E3",
            "gridwidth": 2
           }
          },
          "shapedefaults": {
           "line": {
            "color": "#f2f5fa"
           }
          },
          "annotationdefaults": {
           "arrowcolor": "#f2f5fa",
           "arrowhead": 0,
           "arrowwidth": 1
          },
          "geo": {
           "bgcolor": "rgb(17,17,17)",
           "landcolor": "rgb(17,17,17)",
           "subunitcolor": "#506784",
           "showland": true,
           "showlakes": true,
           "lakecolor": "rgb(17,17,17)"
          },
          "title": {
           "x": 0.05
          },
          "updatemenudefaults": {
           "bgcolor": "#506784",
           "borderwidth": 0
          },
          "sliderdefaults": {
           "bgcolor": "#C8D4E3",
           "borderwidth": 1,
           "bordercolor": "rgb(17,17,17)",
           "tickwidth": 0
          },
          "mapbox": {
           "style": "dark"
          }
         }
        },
        "xaxis": {
         "anchor": "y",
         "domain": [
          0.0,
          0.7363
         ],
         "title": {
          "text": "x"
         }
        },
        "yaxis": {
         "anchor": "x",
         "domain": [
          0.0,
          1.0
         ],
         "title": {
          "text": "total_time_per_output_token"
         }
        },
        "xaxis2": {
         "anchor": "y2",
         "domain": [
          0.7413,
          1.0
         ],
         "matches": "x2",
         "showticklabels": false,
         "showline": false,
         "ticks": "",
         "showgrid": true
        },
        "yaxis2": {
         "anchor": "x2",
         "domain": [
          0.0,
          1.0
         ],
         "matches": "y",
         "showticklabels": false,
         "showgrid": true
        },
        "legend": {
         "title": {
          "text": "prompt_length"
         },
         "tracegroupgap": 0
        },
        "margin": {
         "t": 60
        },
        "barmode": "overlay"
       },
       "config": {
        "plotlyServerURL": "https://plot.ly"
       }
      }
     },
     "metadata": {},
     "output_type": "display_data",
     "jetTransient": {
      "display_id": null
     }
    }
   ],
   "execution_count": 43
  },
  {
   "metadata": {
    "ExecuteTime": {
     "end_time": "2025-10-11T05:46:56.678649Z",
     "start_time": "2025-10-11T05:46:56.449731Z"
    }
   },
   "cell_type": "code",
   "source": [
    "fig = px.scatter(data_df, x= range(len(data_df)), y= \"total_time_per_input_token\", color = 'prompt_complexity', marginal_y=\"violin\")\n",
    "fig.show()\n",
    "fig = px.scatter(data_df, x= range(len(data_df)), y= \"total_time_per_output_token\", color = 'prompt_complexity', marginal_y=\"violin\")\n",
    "fig.show()\n",
    "fig = px.scatter(data_df, x= range(len(data_df)), y= \"output_tokens\", color = 'prompt_complexity', marginal_y=\"violin\")\n",
    "fig.show()\n",
    "# prompt complexity has no effect on latency, ignore the outliers"
   ],
   "id": "80dd17dbead0a319",
   "outputs": [
    {
     "data": {
      "application/vnd.plotly.v1+json": {
       "data": [
        {
         "hovertemplate": "prompt_complexity=easy<br>x=%{x}<br>total_time_per_input_token=%{y}<extra></extra>",
         "legendgroup": "easy",
         "marker": {
          "color": "#636efa",
          "symbol": "circle"
         },
         "mode": "markers",
         "name": "easy",
         "orientation": "v",
         "showlegend": true,
         "x": {
          "dtype": "i2",
          "bdata": "AAABAAIAAwAEAAUABgAHAAgACQAKAAsADAANAA4ADwAQABEAEgATABQAFQAWABcAGAAZABoAGwAcAB0AHgAfACAAIQAiACMAJAAlACYAJwAoACkAKgArACwALQAuAC8AMAAxADIAMwA0ADUANgA3ADgAOQA6ADsAPAA9AD4APwBAAEEAQgBDAEQARQBGAEcASABJAEoASwBMAE0ATgBPAFAAUQBSAFMAVABVAFYAVwBYAFkAWgBbAFwAXQBeAF8AYABhAGIAYwBkAGUAZgBnAGgAaQBqAGsAbABtAG4AbwBwAHEAcgBzAHQAdQB2AHcAeAB5AHoAewB8AH0AfgB/AIAAgQCCAIMAhACFAIYAhwCIAIkAigCLAIwAjQCOAI8AkACRAJIAkwCUAJUAlgCXAJgAmQCaAJsAnACdAJ4AnwCgAKEAogCjAKQApQCmAKcAqACpAKoAqwCsAK0ArgCvALAAsQCyALMAtAC1ALYAtwC4ALkAugC7ALwAvQC+AL8AwADBAMIAwwDEAMUAxgDHAMgAyQDKAMsAzADNAM4AzwDQANEA0gDTAA=="
         },
         "xaxis": "x",
         "y": {
          "dtype": "f8",
          "bdata": "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"
         },
         "yaxis": "y",
         "type": "scatter"
        },
        {
         "alignmentgroup": "True",
         "hovertemplate": "prompt_complexity=easy<br>total_time_per_input_token=%{y}<extra></extra>",
         "legendgroup": "easy",
         "marker": {
          "color": "#636efa",
          "symbol": "circle"
         },
         "name": "easy",
         "offsetgroup": "easy",
         "scalegroup": "y",
         "showlegend": false,
         "xaxis": "x2",
         "y": {
          "dtype": "f8",
          "bdata": "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"
         },
         "yaxis": "y2",
         "type": "violin"
        },
        {
         "hovertemplate": "prompt_complexity=hard<br>x=%{x}<br>total_time_per_input_token=%{y}<extra></extra>",
         "legendgroup": "hard",
         "marker": {
          "color": "#EF553B",
          "symbol": "circle"
         },
         "mode": "markers",
         "name": "hard",
         "orientation": "v",
         "showlegend": true,
         "x": {
          "dtype": "i2",
          "bdata": "1ADVANYA1wDYANkA2gDbANwA3QDeAN8A4ADhAOIA4wDkAOUA5gDnAOgA6QDqAOsA7ADtAO4A7wDwAPEA8gDzAPQA9QD2APcA+AD5APoA+wD8AP0A/gD/AAABAQECAQMBBAEFAQYBBwEIAQkBCgELAQwBDQEOAQ8BEAERARIBEwEUARUBFgEXARgBGQEaARsBHAEdAR4BHwEgASEBIgEjASQBJQEmAScBKAEpASoBKwEsAS0BLgEvATABMQEyATMBNAE1ATYBNwE4ATkBOgE7ATwBPQE+AT8BQAFBAUIBQwFEAUUBRgFHAUgBSQFKAUsBTAFNAU4BTwFQAVEBUgFTAVQBVQFWAVcBWAFZAVoBWwFcAV0BXgFfAWABYQFiAWMBZAFlAWYBZwFoAWkBagFrAWwBbQFuAW8BcAFxAXIBcwF0AXUBdgF3AXgBeQF6AXsBfAF9AX4BfwGAAYEBggGDAYQBhQGGAYcBiAGJAYoBiwGMAY0BjgGPAZABkQGSAZMBlAGVAZYBlwGYAZkBmgGbAZwBnQGeAZ8BoAGhAaIBowGkAaUBpgGnAQ=="
         },
         "xaxis": "x",
         "y": {
          "dtype": "f8",
          "bdata": "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"
         },
         "yaxis": "y",
         "type": "scatter"
        },
        {
         "alignmentgroup": "True",
         "hovertemplate": "prompt_complexity=hard<br>total_time_per_input_token=%{y}<extra></extra>",
         "legendgroup": "hard",
         "marker": {
          "color": "#EF553B",
          "symbol": "circle"
         },
         "name": "hard",
         "offsetgroup": "hard",
         "scalegroup": "y",
         "showlegend": false,
         "xaxis": "x2",
         "y": {
          "dtype": "f8",
          "bdata": "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"
         },
         "yaxis": "y2",
         "type": "violin"
        }
       ],
       "layout": {
        "template": {
         "data": {
          "histogram2dcontour": [
           {
            "type": "histogram2dcontour",
            "colorbar": {
             "outlinewidth": 0,
             "ticks": ""
            },
            "colorscale": [
             [
              0.0,
              "#0d0887"
             ],
             [
              0.1111111111111111,
              "#46039f"
             ],
             [
              0.2222222222222222,
              "#7201a8"
             ],
             [
              0.3333333333333333,
              "#9c179e"
             ],
             [
              0.4444444444444444,
              "#bd3786"
             ],
             [
              0.5555555555555556,
              "#d8576b"
             ],
             [
              0.6666666666666666,
              "#ed7953"
             ],
             [
              0.7777777777777778,
              "#fb9f3a"
             ],
             [
              0.8888888888888888,
              "#fdca26"
             ],
             [
              1.0,
              "#f0f921"
             ]
            ]
           }
          ],
          "choropleth": [
           {
            "type": "choropleth",
            "colorbar": {
             "outlinewidth": 0,
             "ticks": ""
            }
           }
          ],
          "histogram2d": [
           {
            "type": "histogram2d",
            "colorbar": {
             "outlinewidth": 0,
             "ticks": ""
            },
            "colorscale": [
             [
              0.0,
              "#0d0887"
             ],
             [
              0.1111111111111111,
              "#46039f"
             ],
             [
              0.2222222222222222,
              "#7201a8"
             ],
             [
              0.3333333333333333,
              "#9c179e"
             ],
             [
              0.4444444444444444,
              "#bd3786"
             ],
             [
              0.5555555555555556,
              "#d8576b"
             ],
             [
              0.6666666666666666,
              "#ed7953"
             ],
             [
              0.7777777777777778,
              "#fb9f3a"
             ],
             [
              0.8888888888888888,
              "#fdca26"
             ],
             [
              1.0,
              "#f0f921"
             ]
            ]
           }
          ],
          "heatmap": [
           {
            "type": "heatmap",
            "colorbar": {
             "outlinewidth": 0,
             "ticks": ""
            },
            "colorscale": [
             [
              0.0,
              "#0d0887"
             ],
             [
              0.1111111111111111,
              "#46039f"
             ],
             [
              0.2222222222222222,
              "#7201a8"
             ],
             [
              0.3333333333333333,
              "#9c179e"
             ],
             [
              0.4444444444444444,
              "#bd3786"
             ],
             [
              0.5555555555555556,
              "#d8576b"
             ],
             [
              0.6666666666666666,
              "#ed7953"
             ],
             [
              0.7777777777777778,
              "#fb9f3a"
             ],
             [
              0.8888888888888888,
              "#fdca26"
             ],
             [
              1.0,
              "#f0f921"
             ]
            ]
           }
          ],
          "contourcarpet": [
           {
            "type": "contourcarpet",
            "colorbar": {
             "outlinewidth": 0,
             "ticks": ""
            }
           }
          ],
          "contour": [
           {
            "type": "contour",
            "colorbar": {
             "outlinewidth": 0,
             "ticks": ""
            },
            "colorscale": [
             [
              0.0,
              "#0d0887"
             ],
             [
              0.1111111111111111,
              "#46039f"
             ],
             [
              0.2222222222222222,
              "#7201a8"
             ],
             [
              0.3333333333333333,
              "#9c179e"
             ],
             [
              0.4444444444444444,
              "#bd3786"
             ],
             [
              0.5555555555555556,
              "#d8576b"
             ],
             [
              0.6666666666666666,
              "#ed7953"
             ],
             [
              0.7777777777777778,
              "#fb9f3a"
             ],
             [
              0.8888888888888888,
              "#fdca26"
             ],
             [
              1.0,
              "#f0f921"
             ]
            ]
           }
          ],
          "surface": [
           {
            "type": "surface",
            "colorbar": {
             "outlinewidth": 0,
             "ticks": ""
            },
            "colorscale": [
             [
              0.0,
              "#0d0887"
             ],
             [
              0.1111111111111111,
              "#46039f"
             ],
             [
              0.2222222222222222,
              "#7201a8"
             ],
             [
              0.3333333333333333,
              "#9c179e"
             ],
             [
              0.4444444444444444,
              "#bd3786"
             ],
             [
              0.5555555555555556,
              "#d8576b"
             ],
             [
              0.6666666666666666,
              "#ed7953"
             ],
             [
              0.7777777777777778,
              "#fb9f3a"
             ],
             [
              0.8888888888888888,
              "#fdca26"
             ],
             [
              1.0,
              "#f0f921"
             ]
            ]
           }
          ],
          "mesh3d": [
           {
            "type": "mesh3d",
            "colorbar": {
             "outlinewidth": 0,
             "ticks": ""
            }
           }
          ],
          "scatter": [
           {
            "marker": {
             "line": {
              "color": "#283442"
             }
            },
            "type": "scatter"
           }
          ],
          "parcoords": [
           {
            "type": "parcoords",
            "line": {
             "colorbar": {
              "outlinewidth": 0,
              "ticks": ""
             }
            }
           }
          ],
          "scatterpolargl": [
           {
            "type": "scatterpolargl",
            "marker": {
             "colorbar": {
              "outlinewidth": 0,
              "ticks": ""
             }
            }
           }
          ],
          "bar": [
           {
            "error_x": {
             "color": "#f2f5fa"
            },
            "error_y": {
             "color": "#f2f5fa"
            },
            "marker": {
             "line": {
              "color": "rgb(17,17,17)",
              "width": 0.5
             },
             "pattern": {
              "fillmode": "overlay",
              "size": 10,
              "solidity": 0.2
             }
            },
            "type": "bar"
           }
          ],
          "scattergeo": [
           {
            "type": "scattergeo",
            "marker": {
             "colorbar": {
              "outlinewidth": 0,
              "ticks": ""
             }
            }
           }
          ],
          "scatterpolar": [
           {
            "type": "scatterpolar",
            "marker": {
             "colorbar": {
              "outlinewidth": 0,
              "ticks": ""
             }
            }
           }
          ],
          "histogram": [
           {
            "marker": {
             "pattern": {
              "fillmode": "overlay",
              "size": 10,
              "solidity": 0.2
             }
            },
            "type": "histogram"
           }
          ],
          "scattergl": [
           {
            "marker": {
             "line": {
              "color": "#283442"
             }
            },
            "type": "scattergl"
           }
          ],
          "scatter3d": [
           {
            "type": "scatter3d",
            "line": {
             "colorbar": {
              "outlinewidth": 0,
              "ticks": ""
             }
            },
            "marker": {
             "colorbar": {
              "outlinewidth": 0,
              "ticks": ""
             }
            }
           }
          ],
          "scattermap": [
           {
            "type": "scattermap",
            "marker": {
             "colorbar": {
              "outlinewidth": 0,
              "ticks": ""
             }
            }
           }
          ],
          "scattermapbox": [
           {
            "type": "scattermapbox",
            "marker": {
             "colorbar": {
              "outlinewidth": 0,
              "ticks": ""
             }
            }
           }
          ],
          "scatterternary": [
           {
            "type": "scatterternary",
            "marker": {
             "colorbar": {
              "outlinewidth": 0,
              "ticks": ""
             }
            }
           }
          ],
          "scattercarpet": [
           {
            "type": "scattercarpet",
            "marker": {
             "colorbar": {
              "outlinewidth": 0,
              "ticks": ""
             }
            }
           }
          ],
          "carpet": [
           {
            "aaxis": {
             "endlinecolor": "#A2B1C6",
             "gridcolor": "#506784",
             "linecolor": "#506784",
             "minorgridcolor": "#506784",
             "startlinecolor": "#A2B1C6"
            },
            "baxis": {
             "endlinecolor": "#A2B1C6",
             "gridcolor": "#506784",
             "linecolor": "#506784",
             "minorgridcolor": "#506784",
             "startlinecolor": "#A2B1C6"
            },
            "type": "carpet"
           }
          ],
          "table": [
           {
            "cells": {
             "fill": {
              "color": "#506784"
             },
             "line": {
              "color": "rgb(17,17,17)"
             }
            },
            "header": {
             "fill": {
              "color": "#2a3f5f"
             },
             "line": {
              "color": "rgb(17,17,17)"
             }
            },
            "type": "table"
           }
          ],
          "barpolar": [
           {
            "marker": {
             "line": {
              "color": "rgb(17,17,17)",
              "width": 0.5
             },
             "pattern": {
              "fillmode": "overlay",
              "size": 10,
              "solidity": 0.2
             }
            },
            "type": "barpolar"
           }
          ],
          "pie": [
           {
            "automargin": true,
            "type": "pie"
           }
          ]
         },
         "layout": {
          "autotypenumbers": "strict",
          "colorway": [
           "#636efa",
           "#EF553B",
           "#00cc96",
           "#ab63fa",
           "#FFA15A",
           "#19d3f3",
           "#FF6692",
           "#B6E880",
           "#FF97FF",
           "#FECB52"
          ],
          "font": {
           "color": "#f2f5fa"
          },
          "hovermode": "closest",
          "hoverlabel": {
           "align": "left"
          },
          "paper_bgcolor": "rgb(17,17,17)",
          "plot_bgcolor": "rgb(17,17,17)",
          "polar": {
           "bgcolor": "rgb(17,17,17)",
           "angularaxis": {
            "gridcolor": "#506784",
            "linecolor": "#506784",
            "ticks": ""
           },
           "radialaxis": {
            "gridcolor": "#506784",
            "linecolor": "#506784",
            "ticks": ""
           }
          },
          "ternary": {
           "bgcolor": "rgb(17,17,17)",
           "aaxis": {
            "gridcolor": "#506784",
            "linecolor": "#506784",
            "ticks": ""
           },
           "baxis": {
            "gridcolor": "#506784",
            "linecolor": "#506784",
            "ticks": ""
           },
           "caxis": {
            "gridcolor": "#506784",
            "linecolor": "#506784",
            "ticks": ""
           }
          },
          "coloraxis": {
           "colorbar": {
            "outlinewidth": 0,
            "ticks": ""
           }
          },
          "colorscale": {
           "sequential": [
            [
             0.0,
             "#0d0887"
            ],
            [
             0.1111111111111111,
             "#46039f"
            ],
            [
             0.2222222222222222,
             "#7201a8"
            ],
            [
             0.3333333333333333,
             "#9c179e"
            ],
            [
             0.4444444444444444,
             "#bd3786"
            ],
            [
             0.5555555555555556,
             "#d8576b"
            ],
            [
             0.6666666666666666,
             "#ed7953"
            ],
            [
             0.7777777777777778,
             "#fb9f3a"
            ],
            [
             0.8888888888888888,
             "#fdca26"
            ],
            [
             1.0,
             "#f0f921"
            ]
           ],
           "sequentialminus": [
            [
             0.0,
             "#0d0887"
            ],
            [
             0.1111111111111111,
             "#46039f"
            ],
            [
             0.2222222222222222,
             "#7201a8"
            ],
            [
             0.3333333333333333,
             "#9c179e"
            ],
            [
             0.4444444444444444,
             "#bd3786"
            ],
            [
             0.5555555555555556,
             "#d8576b"
            ],
            [
             0.6666666666666666,
             "#ed7953"
            ],
            [
             0.7777777777777778,
             "#fb9f3a"
            ],
            [
             0.8888888888888888,
             "#fdca26"
            ],
            [
             1.0,
             "#f0f921"
            ]
           ],
           "diverging": [
            [
             0,
             "#8e0152"
            ],
            [
             0.1,
             "#c51b7d"
            ],
            [
             0.2,
             "#de77ae"
            ],
            [
             0.3,
             "#f1b6da"
            ],
            [
             0.4,
             "#fde0ef"
            ],
            [
             0.5,
             "#f7f7f7"
            ],
            [
             0.6,
             "#e6f5d0"
            ],
            [
             0.7,
             "#b8e186"
            ],
            [
             0.8,
             "#7fbc41"
            ],
            [
             0.9,
             "#4d9221"
            ],
            [
             1,
             "#276419"
            ]
           ]
          },
          "xaxis": {
           "gridcolor": "#283442",
           "linecolor": "#506784",
           "ticks": "",
           "title": {
            "standoff": 15
           },
           "zerolinecolor": "#283442",
           "automargin": true,
           "zerolinewidth": 2
          },
          "yaxis": {
           "gridcolor": "#283442",
           "linecolor": "#506784",
           "ticks": "",
           "title": {
            "standoff": 15
           },
           "zerolinecolor": "#283442",
           "automargin": true,
           "zerolinewidth": 2
          },
          "scene": {
           "xaxis": {
            "backgroundcolor": "rgb(17,17,17)",
            "gridcolor": "#506784",
            "linecolor": "#506784",
            "showbackground": true,
            "ticks": "",
            "zerolinecolor": "#C8D4E3",
            "gridwidth": 2
           },
           "yaxis": {
            "backgroundcolor": "rgb(17,17,17)",
            "gridcolor": "#506784",
            "linecolor": "#506784",
            "showbackground": true,
            "ticks": "",
            "zerolinecolor": "#C8D4E3",
            "gridwidth": 2
           },
           "zaxis": {
            "backgroundcolor": "rgb(17,17,17)",
            "gridcolor": "#506784",
            "linecolor": "#506784",
            "showbackground": true,
            "ticks": "",
            "zerolinecolor": "#C8D4E3",
            "gridwidth": 2
           }
          },
          "shapedefaults": {
           "line": {
            "color": "#f2f5fa"
           }
          },
          "annotationdefaults": {
           "arrowcolor": "#f2f5fa",
           "arrowhead": 0,
           "arrowwidth": 1
          },
          "geo": {
           "bgcolor": "rgb(17,17,17)",
           "landcolor": "rgb(17,17,17)",
           "subunitcolor": "#506784",
           "showland": true,
           "showlakes": true,
           "lakecolor": "rgb(17,17,17)"
          },
          "title": {
           "x": 0.05
          },
          "updatemenudefaults": {
           "bgcolor": "#506784",
           "borderwidth": 0
          },
          "sliderdefaults": {
           "bgcolor": "#C8D4E3",
           "borderwidth": 1,
           "bordercolor": "rgb(17,17,17)",
           "tickwidth": 0
          },
          "mapbox": {
           "style": "dark"
          }
         }
        },
        "xaxis": {
         "anchor": "y",
         "domain": [
          0.0,
          0.7363
         ],
         "title": {
          "text": "x"
         }
        },
        "yaxis": {
         "anchor": "x",
         "domain": [
          0.0,
          1.0
         ],
         "title": {
          "text": "total_time_per_input_token"
         }
        },
        "xaxis2": {
         "anchor": "y2",
         "domain": [
          0.7413,
          1.0
         ],
         "matches": "x2",
         "showticklabels": false,
         "showline": false,
         "ticks": "",
         "showgrid": false
        },
        "yaxis2": {
         "anchor": "x2",
         "domain": [
          0.0,
          1.0
         ],
         "matches": "y",
         "showticklabels": false,
         "showgrid": true
        },
        "legend": {
         "title": {
          "text": "prompt_complexity"
         },
         "tracegroupgap": 0
        },
        "margin": {
         "t": 60
        }
       },
       "config": {
        "plotlyServerURL": "https://plot.ly"
       }
      }
     },
     "metadata": {},
     "output_type": "display_data",
     "jetTransient": {
      "display_id": null
     }
    },
    {
     "data": {
      "application/vnd.plotly.v1+json": {
       "data": [
        {
         "hovertemplate": "prompt_complexity=easy<br>x=%{x}<br>total_time_per_output_token=%{y}<extra></extra>",
         "legendgroup": "easy",
         "marker": {
          "color": "#636efa",
          "symbol": "circle"
         },
         "mode": "markers",
         "name": "easy",
         "orientation": "v",
         "showlegend": true,
         "x": {
          "dtype": "i2",
          "bdata": "AAABAAIAAwAEAAUABgAHAAgACQAKAAsADAANAA4ADwAQABEAEgATABQAFQAWABcAGAAZABoAGwAcAB0AHgAfACAAIQAiACMAJAAlACYAJwAoACkAKgArACwALQAuAC8AMAAxADIAMwA0ADUANgA3ADgAOQA6ADsAPAA9AD4APwBAAEEAQgBDAEQARQBGAEcASABJAEoASwBMAE0ATgBPAFAAUQBSAFMAVABVAFYAVwBYAFkAWgBbAFwAXQBeAF8AYABhAGIAYwBkAGUAZgBnAGgAaQBqAGsAbABtAG4AbwBwAHEAcgBzAHQAdQB2AHcAeAB5AHoAewB8AH0AfgB/AIAAgQCCAIMAhACFAIYAhwCIAIkAigCLAIwAjQCOAI8AkACRAJIAkwCUAJUAlgCXAJgAmQCaAJsAnACdAJ4AnwCgAKEAogCjAKQApQCmAKcAqACpAKoAqwCsAK0ArgCvALAAsQCyALMAtAC1ALYAtwC4ALkAugC7ALwAvQC+AL8AwADBAMIAwwDEAMUAxgDHAMgAyQDKAMsAzADNAM4AzwDQANEA0gDTAA=="
         },
         "xaxis": "x",
         "y": {
          "dtype": "f8",
          "bdata": "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"
         },
         "yaxis": "y",
         "type": "scatter"
        },
        {
         "alignmentgroup": "True",
         "hovertemplate": "prompt_complexity=easy<br>total_time_per_output_token=%{y}<extra></extra>",
         "legendgroup": "easy",
         "marker": {
          "color": "#636efa",
          "symbol": "circle"
         },
         "name": "easy",
         "offsetgroup": "easy",
         "scalegroup": "y",
         "showlegend": false,
         "xaxis": "x2",
         "y": {
          "dtype": "f8",
          "bdata": "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"
         },
         "yaxis": "y2",
         "type": "violin"
        },
        {
         "hovertemplate": "prompt_complexity=hard<br>x=%{x}<br>total_time_per_output_token=%{y}<extra></extra>",
         "legendgroup": "hard",
         "marker": {
          "color": "#EF553B",
          "symbol": "circle"
         },
         "mode": "markers",
         "name": "hard",
         "orientation": "v",
         "showlegend": true,
         "x": {
          "dtype": "i2",
          "bdata": "1ADVANYA1wDYANkA2gDbANwA3QDeAN8A4ADhAOIA4wDkAOUA5gDnAOgA6QDqAOsA7ADtAO4A7wDwAPEA8gDzAPQA9QD2APcA+AD5APoA+wD8AP0A/gD/AAABAQECAQMBBAEFAQYBBwEIAQkBCgELAQwBDQEOAQ8BEAERARIBEwEUARUBFgEXARgBGQEaARsBHAEdAR4BHwEgASEBIgEjASQBJQEmAScBKAEpASoBKwEsAS0BLgEvATABMQEyATMBNAE1ATYBNwE4ATkBOgE7ATwBPQE+AT8BQAFBAUIBQwFEAUUBRgFHAUgBSQFKAUsBTAFNAU4BTwFQAVEBUgFTAVQBVQFWAVcBWAFZAVoBWwFcAV0BXgFfAWABYQFiAWMBZAFlAWYBZwFoAWkBagFrAWwBbQFuAW8BcAFxAXIBcwF0AXUBdgF3AXgBeQF6AXsBfAF9AX4BfwGAAYEBggGDAYQBhQGGAYcBiAGJAYoBiwGMAY0BjgGPAZABkQGSAZMBlAGVAZYBlwGYAZkBmgGbAZwBnQGeAZ8BoAGhAaIBowGkAaUBpgGnAQ=="
         },
         "xaxis": "x",
         "y": {
          "dtype": "f8",
          "bdata": "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"
         },
         "yaxis": "y",
         "type": "scatter"
        },
        {
         "alignmentgroup": "True",
         "hovertemplate": "prompt_complexity=hard<br>total_time_per_output_token=%{y}<extra></extra>",
         "legendgroup": "hard",
         "marker": {
          "color": "#EF553B",
          "symbol": "circle"
         },
         "name": "hard",
         "offsetgroup": "hard",
         "scalegroup": "y",
         "showlegend": false,
         "xaxis": "x2",
         "y": {
          "dtype": "f8",
          "bdata": "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"
         },
         "yaxis": "y2",
         "type": "violin"
        }
       ],
       "layout": {
        "template": {
         "data": {
          "histogram2dcontour": [
           {
            "type": "histogram2dcontour",
            "colorbar": {
             "outlinewidth": 0,
             "ticks": ""
            },
            "colorscale": [
             [
              0.0,
              "#0d0887"
             ],
             [
              0.1111111111111111,
              "#46039f"
             ],
             [
              0.2222222222222222,
              "#7201a8"
             ],
             [
              0.3333333333333333,
              "#9c179e"
             ],
             [
              0.4444444444444444,
              "#bd3786"
             ],
             [
              0.5555555555555556,
              "#d8576b"
             ],
             [
              0.6666666666666666,
              "#ed7953"
             ],
             [
              0.7777777777777778,
              "#fb9f3a"
             ],
             [
              0.8888888888888888,
              "#fdca26"
             ],
             [
              1.0,
              "#f0f921"
             ]
            ]
           }
          ],
          "choropleth": [
           {
            "type": "choropleth",
            "colorbar": {
             "outlinewidth": 0,
             "ticks": ""
            }
           }
          ],
          "histogram2d": [
           {
            "type": "histogram2d",
            "colorbar": {
             "outlinewidth": 0,
             "ticks": ""
            },
            "colorscale": [
             [
              0.0,
              "#0d0887"
             ],
             [
              0.1111111111111111,
              "#46039f"
             ],
             [
              0.2222222222222222,
              "#7201a8"
             ],
             [
              0.3333333333333333,
              "#9c179e"
             ],
             [
              0.4444444444444444,
              "#bd3786"
             ],
             [
              0.5555555555555556,
              "#d8576b"
             ],
             [
              0.6666666666666666,
              "#ed7953"
             ],
             [
              0.7777777777777778,
              "#fb9f3a"
             ],
             [
              0.8888888888888888,
              "#fdca26"
             ],
             [
              1.0,
              "#f0f921"
             ]
            ]
           }
          ],
          "heatmap": [
           {
            "type": "heatmap",
            "colorbar": {
             "outlinewidth": 0,
             "ticks": ""
            },
            "colorscale": [
             [
              0.0,
              "#0d0887"
             ],
             [
              0.1111111111111111,
              "#46039f"
             ],
             [
              0.2222222222222222,
              "#7201a8"
             ],
             [
              0.3333333333333333,
              "#9c179e"
             ],
             [
              0.4444444444444444,
              "#bd3786"
             ],
             [
              0.5555555555555556,
              "#d8576b"
             ],
             [
              0.6666666666666666,
              "#ed7953"
             ],
             [
              0.7777777777777778,
              "#fb9f3a"
             ],
             [
              0.8888888888888888,
              "#fdca26"
             ],
             [
              1.0,
              "#f0f921"
             ]
            ]
           }
          ],
          "contourcarpet": [
           {
            "type": "contourcarpet",
            "colorbar": {
             "outlinewidth": 0,
             "ticks": ""
            }
           }
          ],
          "contour": [
           {
            "type": "contour",
            "colorbar": {
             "outlinewidth": 0,
             "ticks": ""
            },
            "colorscale": [
             [
              0.0,
              "#0d0887"
             ],
             [
              0.1111111111111111,
              "#46039f"
             ],
             [
              0.2222222222222222,
              "#7201a8"
             ],
             [
              0.3333333333333333,
              "#9c179e"
             ],
             [
              0.4444444444444444,
              "#bd3786"
             ],
             [
              0.5555555555555556,
              "#d8576b"
             ],
             [
              0.6666666666666666,
              "#ed7953"
             ],
             [
              0.7777777777777778,
              "#fb9f3a"
             ],
             [
              0.8888888888888888,
              "#fdca26"
             ],
             [
              1.0,
              "#f0f921"
             ]
            ]
           }
          ],
          "surface": [
           {
            "type": "surface",
            "colorbar": {
             "outlinewidth": 0,
             "ticks": ""
            },
            "colorscale": [
             [
              0.0,
              "#0d0887"
             ],
             [
              0.1111111111111111,
              "#46039f"
             ],
             [
              0.2222222222222222,
              "#7201a8"
             ],
             [
              0.3333333333333333,
              "#9c179e"
             ],
             [
              0.4444444444444444,
              "#bd3786"
             ],
             [
              0.5555555555555556,
              "#d8576b"
             ],
             [
              0.6666666666666666,
              "#ed7953"
             ],
             [
              0.7777777777777778,
              "#fb9f3a"
             ],
             [
              0.8888888888888888,
              "#fdca26"
             ],
             [
              1.0,
              "#f0f921"
             ]
            ]
           }
          ],
          "mesh3d": [
           {
            "type": "mesh3d",
            "colorbar": {
             "outlinewidth": 0,
             "ticks": ""
            }
           }
          ],
          "scatter": [
           {
            "marker": {
             "line": {
              "color": "#283442"
             }
            },
            "type": "scatter"
           }
          ],
          "parcoords": [
           {
            "type": "parcoords",
            "line": {
             "colorbar": {
              "outlinewidth": 0,
              "ticks": ""
             }
            }
           }
          ],
          "scatterpolargl": [
           {
            "type": "scatterpolargl",
            "marker": {
             "colorbar": {
              "outlinewidth": 0,
              "ticks": ""
             }
            }
           }
          ],
          "bar": [
           {
            "error_x": {
             "color": "#f2f5fa"
            },
            "error_y": {
             "color": "#f2f5fa"
            },
            "marker": {
             "line": {
              "color": "rgb(17,17,17)",
              "width": 0.5
             },
             "pattern": {
              "fillmode": "overlay",
              "size": 10,
              "solidity": 0.2
             }
            },
            "type": "bar"
           }
          ],
          "scattergeo": [
           {
            "type": "scattergeo",
            "marker": {
             "colorbar": {
              "outlinewidth": 0,
              "ticks": ""
             }
            }
           }
          ],
          "scatterpolar": [
           {
            "type": "scatterpolar",
            "marker": {
             "colorbar": {
              "outlinewidth": 0,
              "ticks": ""
             }
            }
           }
          ],
          "histogram": [
           {
            "marker": {
             "pattern": {
              "fillmode": "overlay",
              "size": 10,
              "solidity": 0.2
             }
            },
            "type": "histogram"
           }
          ],
          "scattergl": [
           {
            "marker": {
             "line": {
              "color": "#283442"
             }
            },
            "type": "scattergl"
           }
          ],
          "scatter3d": [
           {
            "type": "scatter3d",
            "line": {
             "colorbar": {
              "outlinewidth": 0,
              "ticks": ""
             }
            },
            "marker": {
             "colorbar": {
              "outlinewidth": 0,
              "ticks": ""
             }
            }
           }
          ],
          "scattermap": [
           {
            "type": "scattermap",
            "marker": {
             "colorbar": {
              "outlinewidth": 0,
              "ticks": ""
             }
            }
           }
          ],
          "scattermapbox": [
           {
            "type": "scattermapbox",
            "marker": {
             "colorbar": {
              "outlinewidth": 0,
              "ticks": ""
             }
            }
           }
          ],
          "scatterternary": [
           {
            "type": "scatterternary",
            "marker": {
             "colorbar": {
              "outlinewidth": 0,
              "ticks": ""
             }
            }
           }
          ],
          "scattercarpet": [
           {
            "type": "scattercarpet",
            "marker": {
             "colorbar": {
              "outlinewidth": 0,
              "ticks": ""
             }
            }
           }
          ],
          "carpet": [
           {
            "aaxis": {
             "endlinecolor": "#A2B1C6",
             "gridcolor": "#506784",
             "linecolor": "#506784",
             "minorgridcolor": "#506784",
             "startlinecolor": "#A2B1C6"
            },
            "baxis": {
             "endlinecolor": "#A2B1C6",
             "gridcolor": "#506784",
             "linecolor": "#506784",
             "minorgridcolor": "#506784",
             "startlinecolor": "#A2B1C6"
            },
            "type": "carpet"
           }
          ],
          "table": [
           {
            "cells": {
             "fill": {
              "color": "#506784"
             },
             "line": {
              "color": "rgb(17,17,17)"
             }
            },
            "header": {
             "fill": {
              "color": "#2a3f5f"
             },
             "line": {
              "color": "rgb(17,17,17)"
             }
            },
            "type": "table"
           }
          ],
          "barpolar": [
           {
            "marker": {
             "line": {
              "color": "rgb(17,17,17)",
              "width": 0.5
             },
             "pattern": {
              "fillmode": "overlay",
              "size": 10,
              "solidity": 0.2
             }
            },
            "type": "barpolar"
           }
          ],
          "pie": [
           {
            "automargin": true,
            "type": "pie"
           }
          ]
         },
         "layout": {
          "autotypenumbers": "strict",
          "colorway": [
           "#636efa",
           "#EF553B",
           "#00cc96",
           "#ab63fa",
           "#FFA15A",
           "#19d3f3",
           "#FF6692",
           "#B6E880",
           "#FF97FF",
           "#FECB52"
          ],
          "font": {
           "color": "#f2f5fa"
          },
          "hovermode": "closest",
          "hoverlabel": {
           "align": "left"
          },
          "paper_bgcolor": "rgb(17,17,17)",
          "plot_bgcolor": "rgb(17,17,17)",
          "polar": {
           "bgcolor": "rgb(17,17,17)",
           "angularaxis": {
            "gridcolor": "#506784",
            "linecolor": "#506784",
            "ticks": ""
           },
           "radialaxis": {
            "gridcolor": "#506784",
            "linecolor": "#506784",
            "ticks": ""
           }
          },
          "ternary": {
           "bgcolor": "rgb(17,17,17)",
           "aaxis": {
            "gridcolor": "#506784",
            "linecolor": "#506784",
            "ticks": ""
           },
           "baxis": {
            "gridcolor": "#506784",
            "linecolor": "#506784",
            "ticks": ""
           },
           "caxis": {
            "gridcolor": "#506784",
            "linecolor": "#506784",
            "ticks": ""
           }
          },
          "coloraxis": {
           "colorbar": {
            "outlinewidth": 0,
            "ticks": ""
           }
          },
          "colorscale": {
           "sequential": [
            [
             0.0,
             "#0d0887"
            ],
            [
             0.1111111111111111,
             "#46039f"
            ],
            [
             0.2222222222222222,
             "#7201a8"
            ],
            [
             0.3333333333333333,
             "#9c179e"
            ],
            [
             0.4444444444444444,
             "#bd3786"
            ],
            [
             0.5555555555555556,
             "#d8576b"
            ],
            [
             0.6666666666666666,
             "#ed7953"
            ],
            [
             0.7777777777777778,
             "#fb9f3a"
            ],
            [
             0.8888888888888888,
             "#fdca26"
            ],
            [
             1.0,
             "#f0f921"
            ]
           ],
           "sequentialminus": [
            [
             0.0,
             "#0d0887"
            ],
            [
             0.1111111111111111,
             "#46039f"
            ],
            [
             0.2222222222222222,
             "#7201a8"
            ],
            [
             0.3333333333333333,
             "#9c179e"
            ],
            [
             0.4444444444444444,
             "#bd3786"
            ],
            [
             0.5555555555555556,
             "#d8576b"
            ],
            [
             0.6666666666666666,
             "#ed7953"
            ],
            [
             0.7777777777777778,
             "#fb9f3a"
            ],
            [
             0.8888888888888888,
             "#fdca26"
            ],
            [
             1.0,
             "#f0f921"
            ]
           ],
           "diverging": [
            [
             0,
             "#8e0152"
            ],
            [
             0.1,
             "#c51b7d"
            ],
            [
             0.2,
             "#de77ae"
            ],
            [
             0.3,
             "#f1b6da"
            ],
            [
             0.4,
             "#fde0ef"
            ],
            [
             0.5,
             "#f7f7f7"
            ],
            [
             0.6,
             "#e6f5d0"
            ],
            [
             0.7,
             "#b8e186"
            ],
            [
             0.8,
             "#7fbc41"
            ],
            [
             0.9,
             "#4d9221"
            ],
            [
             1,
             "#276419"
            ]
           ]
          },
          "xaxis": {
           "gridcolor": "#283442",
           "linecolor": "#506784",
           "ticks": "",
           "title": {
            "standoff": 15
           },
           "zerolinecolor": "#283442",
           "automargin": true,
           "zerolinewidth": 2
          },
          "yaxis": {
           "gridcolor": "#283442",
           "linecolor": "#506784",
           "ticks": "",
           "title": {
            "standoff": 15
           },
           "zerolinecolor": "#283442",
           "automargin": true,
           "zerolinewidth": 2
          },
          "scene": {
           "xaxis": {
            "backgroundcolor": "rgb(17,17,17)",
            "gridcolor": "#506784",
            "linecolor": "#506784",
            "showbackground": true,
            "ticks": "",
            "zerolinecolor": "#C8D4E3",
            "gridwidth": 2
           },
           "yaxis": {
            "backgroundcolor": "rgb(17,17,17)",
            "gridcolor": "#506784",
            "linecolor": "#506784",
            "showbackground": true,
            "ticks": "",
            "zerolinecolor": "#C8D4E3",
            "gridwidth": 2
           },
           "zaxis": {
            "backgroundcolor": "rgb(17,17,17)",
            "gridcolor": "#506784",
            "linecolor": "#506784",
            "showbackground": true,
            "ticks": "",
            "zerolinecolor": "#C8D4E3",
            "gridwidth": 2
           }
          },
          "shapedefaults": {
           "line": {
            "color": "#f2f5fa"
           }
          },
          "annotationdefaults": {
           "arrowcolor": "#f2f5fa",
           "arrowhead": 0,
           "arrowwidth": 1
          },
          "geo": {
           "bgcolor": "rgb(17,17,17)",
           "landcolor": "rgb(17,17,17)",
           "subunitcolor": "#506784",
           "showland": true,
           "showlakes": true,
           "lakecolor": "rgb(17,17,17)"
          },
          "title": {
           "x": 0.05
          },
          "updatemenudefaults": {
           "bgcolor": "#506784",
           "borderwidth": 0
          },
          "sliderdefaults": {
           "bgcolor": "#C8D4E3",
           "borderwidth": 1,
           "bordercolor": "rgb(17,17,17)",
           "tickwidth": 0
          },
          "mapbox": {
           "style": "dark"
          }
         }
        },
        "xaxis": {
         "anchor": "y",
         "domain": [
          0.0,
          0.7363
         ],
         "title": {
          "text": "x"
         }
        },
        "yaxis": {
         "anchor": "x",
         "domain": [
          0.0,
          1.0
         ],
         "title": {
          "text": "total_time_per_output_token"
         }
        },
        "xaxis2": {
         "anchor": "y2",
         "domain": [
          0.7413,
          1.0
         ],
         "matches": "x2",
         "showticklabels": false,
         "showline": false,
         "ticks": "",
         "showgrid": false
        },
        "yaxis2": {
         "anchor": "x2",
         "domain": [
          0.0,
          1.0
         ],
         "matches": "y",
         "showticklabels": false,
         "showgrid": true
        },
        "legend": {
         "title": {
          "text": "prompt_complexity"
         },
         "tracegroupgap": 0
        },
        "margin": {
         "t": 60
        }
       },
       "config": {
        "plotlyServerURL": "https://plot.ly"
       }
      }
     },
     "metadata": {},
     "output_type": "display_data",
     "jetTransient": {
      "display_id": null
     }
    },
    {
     "data": {
      "application/vnd.plotly.v1+json": {
       "data": [
        {
         "hovertemplate": "prompt_complexity=easy<br>x=%{x}<br>output_tokens=%{y}<extra></extra>",
         "legendgroup": "easy",
         "marker": {
          "color": "#636efa",
          "symbol": "circle"
         },
         "mode": "markers",
         "name": "easy",
         "orientation": "v",
         "showlegend": true,
         "x": {
          "dtype": "i2",
          "bdata": "AAABAAIAAwAEAAUABgAHAAgACQAKAAsADAANAA4ADwAQABEAEgATABQAFQAWABcAGAAZABoAGwAcAB0AHgAfACAAIQAiACMAJAAlACYAJwAoACkAKgArACwALQAuAC8AMAAxADIAMwA0ADUANgA3ADgAOQA6ADsAPAA9AD4APwBAAEEAQgBDAEQARQBGAEcASABJAEoASwBMAE0ATgBPAFAAUQBSAFMAVABVAFYAVwBYAFkAWgBbAFwAXQBeAF8AYABhAGIAYwBkAGUAZgBnAGgAaQBqAGsAbABtAG4AbwBwAHEAcgBzAHQAdQB2AHcAeAB5AHoAewB8AH0AfgB/AIAAgQCCAIMAhACFAIYAhwCIAIkAigCLAIwAjQCOAI8AkACRAJIAkwCUAJUAlgCXAJgAmQCaAJsAnACdAJ4AnwCgAKEAogCjAKQApQCmAKcAqACpAKoAqwCsAK0ArgCvALAAsQCyALMAtAC1ALYAtwC4ALkAugC7ALwAvQC+AL8AwADBAMIAwwDEAMUAxgDHAMgAyQDKAMsAzADNAM4AzwDQANEA0gDTAA=="
         },
         "xaxis": "x",
         "y": {
          "dtype": "i2",
          "bdata": "JwAeAToAzQE2ANECJwDaACkAYgEfAPAANQB9AQkAjwAZAAEBCQBFASMACAFMAHwBFgA2AR0AYgArAGYBOgCXAS4AxQFDABUCMAChAhoAKQEFAIoAIAAMAA8AJgEMAFkBPwBwATgAJQI1AHkBKQB0AQsANAFDAAYCLgBsAhUAZgHEAB0CjQBrAh8BtwH9AAYDDgFVAocAhwLVABcC8wDKAtgA5AGUAAsDqAD8AQMBZQPEAD4CWwBpAasA+QH/AIIDSgNcBWYDWQfMA3cDDQPNBH0AfgAKAAoAMQCWAgMAcQEyAP0BBAA2AQMACQAtAHMCHACyADAA1gAyAFgCLgCdAAwABwAzAPEBBAAMAQUAxQAXAIUBCgAbAQkAZwA7AH0BKwALATkA+gExAHoBNgDxAScAiwALANQALgB8AQ4AKwEUABkBMQAUAjoAHwI6AOMBJQBoAaoAeAKhADMCegDSAZsALQKUAOUBvQAaA4sAFAO+ABkDrwDzAbUADQS7AEoEmQA5A30A9gBtACoC0gDbAncAsgA8AosEtwAgA8gBHwaRATcCWwGEAQ=="
         },
         "yaxis": "y",
         "type": "scatter"
        },
        {
         "alignmentgroup": "True",
         "hovertemplate": "prompt_complexity=easy<br>output_tokens=%{y}<extra></extra>",
         "legendgroup": "easy",
         "marker": {
          "color": "#636efa",
          "symbol": "circle"
         },
         "name": "easy",
         "offsetgroup": "easy",
         "scalegroup": "y",
         "showlegend": false,
         "xaxis": "x2",
         "y": {
          "dtype": "i2",
          "bdata": "JwAeAToAzQE2ANECJwDaACkAYgEfAPAANQB9AQkAjwAZAAEBCQBFASMACAFMAHwBFgA2AR0AYgArAGYBOgCXAS4AxQFDABUCMAChAhoAKQEFAIoAIAAMAA8AJgEMAFkBPwBwATgAJQI1AHkBKQB0AQsANAFDAAYCLgBsAhUAZgHEAB0CjQBrAh8BtwH9AAYDDgFVAocAhwLVABcC8wDKAtgA5AGUAAsDqAD8AQMBZQPEAD4CWwBpAasA+QH/AIIDSgNcBWYDWQfMA3cDDQPNBH0AfgAKAAoAMQCWAgMAcQEyAP0BBAA2AQMACQAtAHMCHACyADAA1gAyAFgCLgCdAAwABwAzAPEBBAAMAQUAxQAXAIUBCgAbAQkAZwA7AH0BKwALATkA+gExAHoBNgDxAScAiwALANQALgB8AQ4AKwEUABkBMQAUAjoAHwI6AOMBJQBoAaoAeAKhADMCegDSAZsALQKUAOUBvQAaA4sAFAO+ABkDrwDzAbUADQS7AEoEmQA5A30A9gBtACoC0gDbAncAsgA8AosEtwAgA8gBHwaRATcCWwGEAQ=="
         },
         "yaxis": "y2",
         "type": "violin"
        },
        {
         "hovertemplate": "prompt_complexity=hard<br>x=%{x}<br>output_tokens=%{y}<extra></extra>",
         "legendgroup": "hard",
         "marker": {
          "color": "#EF553B",
          "symbol": "circle"
         },
         "mode": "markers",
         "name": "hard",
         "orientation": "v",
         "showlegend": true,
         "x": {
          "dtype": "i2",
          "bdata": "1ADVANYA1wDYANkA2gDbANwA3QDeAN8A4ADhAOIA4wDkAOUA5gDnAOgA6QDqAOsA7ADtAO4A7wDwAPEA8gDzAPQA9QD2APcA+AD5APoA+wD8AP0A/gD/AAABAQECAQMBBAEFAQYBBwEIAQkBCgELAQwBDQEOAQ8BEAERARIBEwEUARUBFgEXARgBGQEaARsBHAEdAR4BHwEgASEBIgEjASQBJQEmAScBKAEpASoBKwEsAS0BLgEvATABMQEyATMBNAE1ATYBNwE4ATkBOgE7ATwBPQE+AT8BQAFBAUIBQwFEAUUBRgFHAUgBSQFKAUsBTAFNAU4BTwFQAVEBUgFTAVQBVQFWAVcBWAFZAVoBWwFcAV0BXgFfAWABYQFiAWMBZAFlAWYBZwFoAWkBagFrAWwBbQFuAW8BcAFxAXIBcwF0AXUBdgF3AXgBeQF6AXsBfAF9AX4BfwGAAYEBggGDAYQBhQGGAYcBiAGJAYoBiwGMAY0BjgGPAZABkQGSAZMBlAGVAZYBlwGYAZkBmgGbAZwBnQGeAZ8BoAGhAaIBowGkAaUBpgGnAQ=="
         },
         "xaxis": "x",
         "y": {
          "dtype": "i2",
          "bdata": "OwCCAmYAGAJNAJwCQAB7AkEA0AE/AD8CPwAPAzYAqgI9AJgCOwBEAlMA2QJZAOsBNwCmAU4AuAJLADcCPwBOAnEA2AFHAFUCUQA8AjQAZgJIAE0CNQDAAkQAaQI2AE4CNQCzAWAADgJOAN0COQAMAkEAAgJNAFwCTQAjAjUAGQKKAdwGKQFMBTkBFgMoAS8GdQHTBhEB3QTCAbgEVAFmB4MBbggwAdEFrgHDBBsBdwU4AVsGEwGgBE4BTgVbAcMFDQWWEI8FTA+wBJ8L5wXBEuoARgFHAB0CRQDZAUUAhAJJAPMBPgClAkIAywE5ADkCNACmAT4AuQFWANwBQwDsATcA3QFMAEoCLwBIAk0APwItALABKgBAATIAUwI8AEMCKQC3AjQAbQI5AOoBMgAfAjoArgFHACcCMAAQAjwACwIxAD8BKgC+ATwAlQJNAF0BMwBhAlwBVgV9AVIGbgGlBU4B/AWFAUAFcwFcBYsBZAVlAbsEAQELBHUBgQZfATAGYgG2BncBbQVfAfkG6gClA/AAKAXLAzgKvgTNC0kDugqlAyQQoADYBQ=="
         },
         "yaxis": "y",
         "type": "scatter"
        },
        {
         "alignmentgroup": "True",
         "hovertemplate": "prompt_complexity=hard<br>output_tokens=%{y}<extra></extra>",
         "legendgroup": "hard",
         "marker": {
          "color": "#EF553B",
          "symbol": "circle"
         },
         "name": "hard",
         "offsetgroup": "hard",
         "scalegroup": "y",
         "showlegend": false,
         "xaxis": "x2",
         "y": {
          "dtype": "i2",
          "bdata": "OwCCAmYAGAJNAJwCQAB7AkEA0AE/AD8CPwAPAzYAqgI9AJgCOwBEAlMA2QJZAOsBNwCmAU4AuAJLADcCPwBOAnEA2AFHAFUCUQA8AjQAZgJIAE0CNQDAAkQAaQI2AE4CNQCzAWAADgJOAN0COQAMAkEAAgJNAFwCTQAjAjUAGQKKAdwGKQFMBTkBFgMoAS8GdQHTBhEB3QTCAbgEVAFmB4MBbggwAdEFrgHDBBsBdwU4AVsGEwGgBE4BTgVbAcMFDQWWEI8FTA+wBJ8L5wXBEuoARgFHAB0CRQDZAUUAhAJJAPMBPgClAkIAywE5ADkCNACmAT4AuQFWANwBQwDsATcA3QFMAEoCLwBIAk0APwItALABKgBAATIAUwI8AEMCKQC3AjQAbQI5AOoBMgAfAjoArgFHACcCMAAQAjwACwIxAD8BKgC+ATwAlQJNAF0BMwBhAlwBVgV9AVIGbgGlBU4B/AWFAUAFcwFcBYsBZAVlAbsEAQELBHUBgQZfATAGYgG2BncBbQVfAfkG6gClA/AAKAXLAzgKvgTNC0kDugqlAyQQoADYBQ=="
         },
         "yaxis": "y2",
         "type": "violin"
        }
       ],
       "layout": {
        "template": {
         "data": {
          "histogram2dcontour": [
           {
            "type": "histogram2dcontour",
            "colorbar": {
             "outlinewidth": 0,
             "ticks": ""
            },
            "colorscale": [
             [
              0.0,
              "#0d0887"
             ],
             [
              0.1111111111111111,
              "#46039f"
             ],
             [
              0.2222222222222222,
              "#7201a8"
             ],
             [
              0.3333333333333333,
              "#9c179e"
             ],
             [
              0.4444444444444444,
              "#bd3786"
             ],
             [
              0.5555555555555556,
              "#d8576b"
             ],
             [
              0.6666666666666666,
              "#ed7953"
             ],
             [
              0.7777777777777778,
              "#fb9f3a"
             ],
             [
              0.8888888888888888,
              "#fdca26"
             ],
             [
              1.0,
              "#f0f921"
             ]
            ]
           }
          ],
          "choropleth": [
           {
            "type": "choropleth",
            "colorbar": {
             "outlinewidth": 0,
             "ticks": ""
            }
           }
          ],
          "histogram2d": [
           {
            "type": "histogram2d",
            "colorbar": {
             "outlinewidth": 0,
             "ticks": ""
            },
            "colorscale": [
             [
              0.0,
              "#0d0887"
             ],
             [
              0.1111111111111111,
              "#46039f"
             ],
             [
              0.2222222222222222,
              "#7201a8"
             ],
             [
              0.3333333333333333,
              "#9c179e"
             ],
             [
              0.4444444444444444,
              "#bd3786"
             ],
             [
              0.5555555555555556,
              "#d8576b"
             ],
             [
              0.6666666666666666,
              "#ed7953"
             ],
             [
              0.7777777777777778,
              "#fb9f3a"
             ],
             [
              0.8888888888888888,
              "#fdca26"
             ],
             [
              1.0,
              "#f0f921"
             ]
            ]
           }
          ],
          "heatmap": [
           {
            "type": "heatmap",
            "colorbar": {
             "outlinewidth": 0,
             "ticks": ""
            },
            "colorscale": [
             [
              0.0,
              "#0d0887"
             ],
             [
              0.1111111111111111,
              "#46039f"
             ],
             [
              0.2222222222222222,
              "#7201a8"
             ],
             [
              0.3333333333333333,
              "#9c179e"
             ],
             [
              0.4444444444444444,
              "#bd3786"
             ],
             [
              0.5555555555555556,
              "#d8576b"
             ],
             [
              0.6666666666666666,
              "#ed7953"
             ],
             [
              0.7777777777777778,
              "#fb9f3a"
             ],
             [
              0.8888888888888888,
              "#fdca26"
             ],
             [
              1.0,
              "#f0f921"
             ]
            ]
           }
          ],
          "contourcarpet": [
           {
            "type": "contourcarpet",
            "colorbar": {
             "outlinewidth": 0,
             "ticks": ""
            }
           }
          ],
          "contour": [
           {
            "type": "contour",
            "colorbar": {
             "outlinewidth": 0,
             "ticks": ""
            },
            "colorscale": [
             [
              0.0,
              "#0d0887"
             ],
             [
              0.1111111111111111,
              "#46039f"
             ],
             [
              0.2222222222222222,
              "#7201a8"
             ],
             [
              0.3333333333333333,
              "#9c179e"
             ],
             [
              0.4444444444444444,
              "#bd3786"
             ],
             [
              0.5555555555555556,
              "#d8576b"
             ],
             [
              0.6666666666666666,
              "#ed7953"
             ],
             [
              0.7777777777777778,
              "#fb9f3a"
             ],
             [
              0.8888888888888888,
              "#fdca26"
             ],
             [
              1.0,
              "#f0f921"
             ]
            ]
           }
          ],
          "surface": [
           {
            "type": "surface",
            "colorbar": {
             "outlinewidth": 0,
             "ticks": ""
            },
            "colorscale": [
             [
              0.0,
              "#0d0887"
             ],
             [
              0.1111111111111111,
              "#46039f"
             ],
             [
              0.2222222222222222,
              "#7201a8"
             ],
             [
              0.3333333333333333,
              "#9c179e"
             ],
             [
              0.4444444444444444,
              "#bd3786"
             ],
             [
              0.5555555555555556,
              "#d8576b"
             ],
             [
              0.6666666666666666,
              "#ed7953"
             ],
             [
              0.7777777777777778,
              "#fb9f3a"
             ],
             [
              0.8888888888888888,
              "#fdca26"
             ],
             [
              1.0,
              "#f0f921"
             ]
            ]
           }
          ],
          "mesh3d": [
           {
            "type": "mesh3d",
            "colorbar": {
             "outlinewidth": 0,
             "ticks": ""
            }
           }
          ],
          "scatter": [
           {
            "marker": {
             "line": {
              "color": "#283442"
             }
            },
            "type": "scatter"
           }
          ],
          "parcoords": [
           {
            "type": "parcoords",
            "line": {
             "colorbar": {
              "outlinewidth": 0,
              "ticks": ""
             }
            }
           }
          ],
          "scatterpolargl": [
           {
            "type": "scatterpolargl",
            "marker": {
             "colorbar": {
              "outlinewidth": 0,
              "ticks": ""
             }
            }
           }
          ],
          "bar": [
           {
            "error_x": {
             "color": "#f2f5fa"
            },
            "error_y": {
             "color": "#f2f5fa"
            },
            "marker": {
             "line": {
              "color": "rgb(17,17,17)",
              "width": 0.5
             },
             "pattern": {
              "fillmode": "overlay",
              "size": 10,
              "solidity": 0.2
             }
            },
            "type": "bar"
           }
          ],
          "scattergeo": [
           {
            "type": "scattergeo",
            "marker": {
             "colorbar": {
              "outlinewidth": 0,
              "ticks": ""
             }
            }
           }
          ],
          "scatterpolar": [
           {
            "type": "scatterpolar",
            "marker": {
             "colorbar": {
              "outlinewidth": 0,
              "ticks": ""
             }
            }
           }
          ],
          "histogram": [
           {
            "marker": {
             "pattern": {
              "fillmode": "overlay",
              "size": 10,
              "solidity": 0.2
             }
            },
            "type": "histogram"
           }
          ],
          "scattergl": [
           {
            "marker": {
             "line": {
              "color": "#283442"
             }
            },
            "type": "scattergl"
           }
          ],
          "scatter3d": [
           {
            "type": "scatter3d",
            "line": {
             "colorbar": {
              "outlinewidth": 0,
              "ticks": ""
             }
            },
            "marker": {
             "colorbar": {
              "outlinewidth": 0,
              "ticks": ""
             }
            }
           }
          ],
          "scattermap": [
           {
            "type": "scattermap",
            "marker": {
             "colorbar": {
              "outlinewidth": 0,
              "ticks": ""
             }
            }
           }
          ],
          "scattermapbox": [
           {
            "type": "scattermapbox",
            "marker": {
             "colorbar": {
              "outlinewidth": 0,
              "ticks": ""
             }
            }
           }
          ],
          "scatterternary": [
           {
            "type": "scatterternary",
            "marker": {
             "colorbar": {
              "outlinewidth": 0,
              "ticks": ""
             }
            }
           }
          ],
          "scattercarpet": [
           {
            "type": "scattercarpet",
            "marker": {
             "colorbar": {
              "outlinewidth": 0,
              "ticks": ""
             }
            }
           }
          ],
          "carpet": [
           {
            "aaxis": {
             "endlinecolor": "#A2B1C6",
             "gridcolor": "#506784",
             "linecolor": "#506784",
             "minorgridcolor": "#506784",
             "startlinecolor": "#A2B1C6"
            },
            "baxis": {
             "endlinecolor": "#A2B1C6",
             "gridcolor": "#506784",
             "linecolor": "#506784",
             "minorgridcolor": "#506784",
             "startlinecolor": "#A2B1C6"
            },
            "type": "carpet"
           }
          ],
          "table": [
           {
            "cells": {
             "fill": {
              "color": "#506784"
             },
             "line": {
              "color": "rgb(17,17,17)"
             }
            },
            "header": {
             "fill": {
              "color": "#2a3f5f"
             },
             "line": {
              "color": "rgb(17,17,17)"
             }
            },
            "type": "table"
           }
          ],
          "barpolar": [
           {
            "marker": {
             "line": {
              "color": "rgb(17,17,17)",
              "width": 0.5
             },
             "pattern": {
              "fillmode": "overlay",
              "size": 10,
              "solidity": 0.2
             }
            },
            "type": "barpolar"
           }
          ],
          "pie": [
           {
            "automargin": true,
            "type": "pie"
           }
          ]
         },
         "layout": {
          "autotypenumbers": "strict",
          "colorway": [
           "#636efa",
           "#EF553B",
           "#00cc96",
           "#ab63fa",
           "#FFA15A",
           "#19d3f3",
           "#FF6692",
           "#B6E880",
           "#FF97FF",
           "#FECB52"
          ],
          "font": {
           "color": "#f2f5fa"
          },
          "hovermode": "closest",
          "hoverlabel": {
           "align": "left"
          },
          "paper_bgcolor": "rgb(17,17,17)",
          "plot_bgcolor": "rgb(17,17,17)",
          "polar": {
           "bgcolor": "rgb(17,17,17)",
           "angularaxis": {
            "gridcolor": "#506784",
            "linecolor": "#506784",
            "ticks": ""
           },
           "radialaxis": {
            "gridcolor": "#506784",
            "linecolor": "#506784",
            "ticks": ""
           }
          },
          "ternary": {
           "bgcolor": "rgb(17,17,17)",
           "aaxis": {
            "gridcolor": "#506784",
            "linecolor": "#506784",
            "ticks": ""
           },
           "baxis": {
            "gridcolor": "#506784",
            "linecolor": "#506784",
            "ticks": ""
           },
           "caxis": {
            "gridcolor": "#506784",
            "linecolor": "#506784",
            "ticks": ""
           }
          },
          "coloraxis": {
           "colorbar": {
            "outlinewidth": 0,
            "ticks": ""
           }
          },
          "colorscale": {
           "sequential": [
            [
             0.0,
             "#0d0887"
            ],
            [
             0.1111111111111111,
             "#46039f"
            ],
            [
             0.2222222222222222,
             "#7201a8"
            ],
            [
             0.3333333333333333,
             "#9c179e"
            ],
            [
             0.4444444444444444,
             "#bd3786"
            ],
            [
             0.5555555555555556,
             "#d8576b"
            ],
            [
             0.6666666666666666,
             "#ed7953"
            ],
            [
             0.7777777777777778,
             "#fb9f3a"
            ],
            [
             0.8888888888888888,
             "#fdca26"
            ],
            [
             1.0,
             "#f0f921"
            ]
           ],
           "sequentialminus": [
            [
             0.0,
             "#0d0887"
            ],
            [
             0.1111111111111111,
             "#46039f"
            ],
            [
             0.2222222222222222,
             "#7201a8"
            ],
            [
             0.3333333333333333,
             "#9c179e"
            ],
            [
             0.4444444444444444,
             "#bd3786"
            ],
            [
             0.5555555555555556,
             "#d8576b"
            ],
            [
             0.6666666666666666,
             "#ed7953"
            ],
            [
             0.7777777777777778,
             "#fb9f3a"
            ],
            [
             0.8888888888888888,
             "#fdca26"
            ],
            [
             1.0,
             "#f0f921"
            ]
           ],
           "diverging": [
            [
             0,
             "#8e0152"
            ],
            [
             0.1,
             "#c51b7d"
            ],
            [
             0.2,
             "#de77ae"
            ],
            [
             0.3,
             "#f1b6da"
            ],
            [
             0.4,
             "#fde0ef"
            ],
            [
             0.5,
             "#f7f7f7"
            ],
            [
             0.6,
             "#e6f5d0"
            ],
            [
             0.7,
             "#b8e186"
            ],
            [
             0.8,
             "#7fbc41"
            ],
            [
             0.9,
             "#4d9221"
            ],
            [
             1,
             "#276419"
            ]
           ]
          },
          "xaxis": {
           "gridcolor": "#283442",
           "linecolor": "#506784",
           "ticks": "",
           "title": {
            "standoff": 15
           },
           "zerolinecolor": "#283442",
           "automargin": true,
           "zerolinewidth": 2
          },
          "yaxis": {
           "gridcolor": "#283442",
           "linecolor": "#506784",
           "ticks": "",
           "title": {
            "standoff": 15
           },
           "zerolinecolor": "#283442",
           "automargin": true,
           "zerolinewidth": 2
          },
          "scene": {
           "xaxis": {
            "backgroundcolor": "rgb(17,17,17)",
            "gridcolor": "#506784",
            "linecolor": "#506784",
            "showbackground": true,
            "ticks": "",
            "zerolinecolor": "#C8D4E3",
            "gridwidth": 2
           },
           "yaxis": {
            "backgroundcolor": "rgb(17,17,17)",
            "gridcolor": "#506784",
            "linecolor": "#506784",
            "showbackground": true,
            "ticks": "",
            "zerolinecolor": "#C8D4E3",
            "gridwidth": 2
           },
           "zaxis": {
            "backgroundcolor": "rgb(17,17,17)",
            "gridcolor": "#506784",
            "linecolor": "#506784",
            "showbackground": true,
            "ticks": "",
            "zerolinecolor": "#C8D4E3",
            "gridwidth": 2
           }
          },
          "shapedefaults": {
           "line": {
            "color": "#f2f5fa"
           }
          },
          "annotationdefaults": {
           "arrowcolor": "#f2f5fa",
           "arrowhead": 0,
           "arrowwidth": 1
          },
          "geo": {
           "bgcolor": "rgb(17,17,17)",
           "landcolor": "rgb(17,17,17)",
           "subunitcolor": "#506784",
           "showland": true,
           "showlakes": true,
           "lakecolor": "rgb(17,17,17)"
          },
          "title": {
           "x": 0.05
          },
          "updatemenudefaults": {
           "bgcolor": "#506784",
           "borderwidth": 0
          },
          "sliderdefaults": {
           "bgcolor": "#C8D4E3",
           "borderwidth": 1,
           "bordercolor": "rgb(17,17,17)",
           "tickwidth": 0
          },
          "mapbox": {
           "style": "dark"
          }
         }
        },
        "xaxis": {
         "anchor": "y",
         "domain": [
          0.0,
          0.7363
         ],
         "title": {
          "text": "x"
         }
        },
        "yaxis": {
         "anchor": "x",
         "domain": [
          0.0,
          1.0
         ],
         "title": {
          "text": "output_tokens"
         }
        },
        "xaxis2": {
         "anchor": "y2",
         "domain": [
          0.7413,
          1.0
         ],
         "matches": "x2",
         "showticklabels": false,
         "showline": false,
         "ticks": "",
         "showgrid": false
        },
        "yaxis2": {
         "anchor": "x2",
         "domain": [
          0.0,
          1.0
         ],
         "matches": "y",
         "showticklabels": false,
         "showgrid": true
        },
        "legend": {
         "title": {
          "text": "prompt_complexity"
         },
         "tracegroupgap": 0
        },
        "margin": {
         "t": 60
        }
       },
       "config": {
        "plotlyServerURL": "https://plot.ly"
       }
      }
     },
     "metadata": {},
     "output_type": "display_data",
     "jetTransient": {
      "display_id": null
     }
    }
   ],
   "execution_count": 47
  },
  {
   "metadata": {
    "ExecuteTime": {
     "end_time": "2025-10-11T05:32:16.762059Z",
     "start_time": "2025-10-11T05:32:16.672388Z"
    }
   },
   "cell_type": "code",
   "source": [
    "fig = px.scatter(data_df, x= range(len(data_df)), y= \"total_time\", size=\"output_tokens\", color = 'output_length', marginal_y=\"violin\")\n",
    "fig.show()"
   ],
   "id": "7d42c6f3437acf0b",
   "outputs": [
    {
     "data": {
      "application/vnd.plotly.v1+json": {
       "data": [
        {
         "hovertemplate": "output_length=short<br>x=%{x}<br>total_time=%{y}<br>output_tokens=%{marker.size}<extra></extra>",
         "legendgroup": "short",
         "marker": {
          "color": "#636efa",
          "size": {
           "dtype": "i2",
           "bdata": "JwA6ADYAJwApAB8ANQAJABkACQAjAEwAFgAdACsAOgAuAEMAMAAaAAUAIAAPAAwAPwA4ADUAKQALAEMALgAVAMQAjQAfAf0ADgGHANUA8wDYAJQAqAADAcQAWwCrAP8ASgNmA8wDDQN9AAoAMQADADIABAADAC0AHAAwADIALgAMADMABAAFABcACgAJADsAKwA5ADEANgAnAAsALgAOABQAMQA6ADoAJQCqAKEAegCbAJQAvQCLAL4ArwC1ALsAmQB9AG0A0gB3ADwCtwDIAZEBWwE7AGYATQBAAEEAPwA/ADYAPQA7AFMAWQA3AE4ASwA/AHEARwBRADQASAA1AEQANgA1AGAATgA5AEEATQBNADUAigEpATkBKAF1AREBwgFUAYMBMAGuARsBOAETAU4BWwENBY8FsATnBeoARwBFAEUASQA+AEIAOQA0AD4AVgBDADcATAAvAE0ALQAqADIAPAApADQAOQAyADoARwAwADwAMQAqADwATQAzAFwBfQFuAU4BhQFzAYsBZQEBAXUBXwFiAXcBXwHqAPAAywO+BEkDpQOgAA=="
          },
          "sizemode": "area",
          "sizeref": 12.0025,
          "symbol": "circle"
         },
         "mode": "markers",
         "name": "short",
         "orientation": "v",
         "showlegend": true,
         "x": {
          "dtype": "i2",
          "bdata": "AAACAAQABgAIAAoADAAOABAAEgAUABYAGAAaABwAHgAgACIAJAAmACgAKgAsAC4AMAAyADQANgA4ADoAPAA+AEAAQgBEAEYASABKAEwATgBQAFIAVABWAFgAWgBcAF4AYABiAGQAZgBoAGoAbABuAHAAcgB0AHYAeAB6AHwAfgCAAIIAhACGAIgAigCMAI4AkACSAJQAlgCYAJoAnACeAKAAogCkAKYAqACqAKwArgCwALIAtAC2ALgAugC8AL4AwADCAMQAxgDIAMoAzADOANAA0gDUANYA2ADaANwA3gDgAOIA5ADmAOgA6gDsAO4A8ADyAPQA9gD4APoA/AD+AAABAgEEAQYBCAEKAQwBDgEQARIBFAEWARgBGgEcAR4BIAEiASQBJgEoASoBLAEuATABMgE0ATYBOAE6ATwBPgFAAUIBRAFGAUgBSgFMAU4BUAFSAVQBVgFYAVoBXAFeAWABYgFkAWYBaAFqAWwBbgFwAXIBdAF2AXgBegF8AX4BgAGCAYQBhgGIAYoBjAGOAZABkgGUAZYBmAGaAZwBngGgAaIBpAGmAQ=="
         },
         "xaxis": "x",
         "y": {
          "dtype": "f8",
          "bdata": "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"
         },
         "yaxis": "y",
         "type": "scatter"
        },
        {
         "alignmentgroup": "True",
         "hovertemplate": "output_length=short<br>total_time=%{y}<extra></extra>",
         "legendgroup": "short",
         "marker": {
          "color": "#636efa",
          "symbol": "circle"
         },
         "name": "short",
         "offsetgroup": "short",
         "scalegroup": "y",
         "showlegend": false,
         "xaxis": "x2",
         "y": {
          "dtype": "f8",
          "bdata": "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"
         },
         "yaxis": "y2",
         "type": "violin"
        },
        {
         "hovertemplate": "output_length=long<br>x=%{x}<br>total_time=%{y}<br>output_tokens=%{marker.size}<extra></extra>",
         "legendgroup": "long",
         "marker": {
          "color": "#EF553B",
          "size": {
           "dtype": "i2",
           "bdata": "HgHNAdEC2gBiAfAAfQGPAAEBRQEIAXwBNgFiAGYBlwHFARUCoQIpAYoADAAmAVkBcAElAnkBdAE0AQYCbAJmAR0CawK3AQYDVQKHAhcCygLkAQsD/AFlAz4CaQH5AYIDXAVZB3cDzQR+AAoAlgJxAf0BNgEJAHMCsgDWAFgCnQAHAPEBDAHFAIUBGwFnAH0BCwH6AXoB8QGLANQAfAErARkBFAIfAuMBaAF4AjMC0gEtAuUBGgMUAxkD8wENBEoEOQP2ACoC2wKyAIsEIAMfBjcChAGCAhgCnAJ7AtABPwIPA6oCmAJEAtkC6wGmAbgCNwJOAtgBVQI8AmYCTQLAAmkCTgKzAQ4C3QIMAgICXAIjAhkC3AZMBRYDLwbTBt0EuARmB24I0QXDBHcFWwagBE4FwwWWEEwPnwvBEkYBHQLZAYQC8wGlAssBOQKmAbkB3AHsAd0BSgJIAj8CsAFAAVMCQwK3Am0C6gEfAq4BJwIQAgsCPwG+AZUCXQFhAlYFUgalBfwFQAVcBWQFuwQLBIEGMAa2Bm0F+QalAygFOArNC7oKJBDYBQ=="
          },
          "sizemode": "area",
          "sizeref": 12.0025,
          "symbol": "circle"
         },
         "mode": "markers",
         "name": "long",
         "orientation": "v",
         "showlegend": true,
         "x": {
          "dtype": "i2",
          "bdata": "AQADAAUABwAJAAsADQAPABEAEwAVABcAGQAbAB0AHwAhACMAJQAnACkAKwAtAC8AMQAzADUANwA5ADsAPQA/AEEAQwBFAEcASQBLAE0ATwBRAFMAVQBXAFkAWwBdAF8AYQBjAGUAZwBpAGsAbQBvAHEAcwB1AHcAeQB7AH0AfwCBAIMAhQCHAIkAiwCNAI8AkQCTAJUAlwCZAJsAnQCfAKEAowClAKcAqQCrAK0ArwCxALMAtQC3ALkAuwC9AL8AwQDDAMUAxwDJAMsAzQDPANEA0wDVANcA2QDbAN0A3wDhAOMA5QDnAOkA6wDtAO8A8QDzAPUA9wD5APsA/QD/AAEBAwEFAQcBCQELAQ0BDwERARMBFQEXARkBGwEdAR8BIQEjASUBJwEpASsBLQEvATEBMwE1ATcBOQE7AT0BPwFBAUMBRQFHAUkBSwFNAU8BUQFTAVUBVwFZAVsBXQFfAWEBYwFlAWcBaQFrAW0BbwFxAXMBdQF3AXkBewF9AX8BgQGDAYUBhwGJAYsBjQGPAZEBkwGVAZcBmQGbAZ0BnwGhAaMBpQGnAQ=="
         },
         "xaxis": "x",
         "y": {
          "dtype": "f8",
          "bdata": "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"
         },
         "yaxis": "y",
         "type": "scatter"
        },
        {
         "alignmentgroup": "True",
         "hovertemplate": "output_length=long<br>total_time=%{y}<extra></extra>",
         "legendgroup": "long",
         "marker": {
          "color": "#EF553B",
          "symbol": "circle"
         },
         "name": "long",
         "offsetgroup": "long",
         "scalegroup": "y",
         "showlegend": false,
         "xaxis": "x2",
         "y": {
          "dtype": "f8",
          "bdata": "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"
         },
         "yaxis": "y2",
         "type": "violin"
        }
       ],
       "layout": {
        "template": {
         "data": {
          "histogram2dcontour": [
           {
            "type": "histogram2dcontour",
            "colorbar": {
             "outlinewidth": 0,
             "ticks": ""
            },
            "colorscale": [
             [
              0.0,
              "#0d0887"
             ],
             [
              0.1111111111111111,
              "#46039f"
             ],
             [
              0.2222222222222222,
              "#7201a8"
             ],
             [
              0.3333333333333333,
              "#9c179e"
             ],
             [
              0.4444444444444444,
              "#bd3786"
             ],
             [
              0.5555555555555556,
              "#d8576b"
             ],
             [
              0.6666666666666666,
              "#ed7953"
             ],
             [
              0.7777777777777778,
              "#fb9f3a"
             ],
             [
              0.8888888888888888,
              "#fdca26"
             ],
             [
              1.0,
              "#f0f921"
             ]
            ]
           }
          ],
          "choropleth": [
           {
            "type": "choropleth",
            "colorbar": {
             "outlinewidth": 0,
             "ticks": ""
            }
           }
          ],
          "histogram2d": [
           {
            "type": "histogram2d",
            "colorbar": {
             "outlinewidth": 0,
             "ticks": ""
            },
            "colorscale": [
             [
              0.0,
              "#0d0887"
             ],
             [
              0.1111111111111111,
              "#46039f"
             ],
             [
              0.2222222222222222,
              "#7201a8"
             ],
             [
              0.3333333333333333,
              "#9c179e"
             ],
             [
              0.4444444444444444,
              "#bd3786"
             ],
             [
              0.5555555555555556,
              "#d8576b"
             ],
             [
              0.6666666666666666,
              "#ed7953"
             ],
             [
              0.7777777777777778,
              "#fb9f3a"
             ],
             [
              0.8888888888888888,
              "#fdca26"
             ],
             [
              1.0,
              "#f0f921"
             ]
            ]
           }
          ],
          "heatmap": [
           {
            "type": "heatmap",
            "colorbar": {
             "outlinewidth": 0,
             "ticks": ""
            },
            "colorscale": [
             [
              0.0,
              "#0d0887"
             ],
             [
              0.1111111111111111,
              "#46039f"
             ],
             [
              0.2222222222222222,
              "#7201a8"
             ],
             [
              0.3333333333333333,
              "#9c179e"
             ],
             [
              0.4444444444444444,
              "#bd3786"
             ],
             [
              0.5555555555555556,
              "#d8576b"
             ],
             [
              0.6666666666666666,
              "#ed7953"
             ],
             [
              0.7777777777777778,
              "#fb9f3a"
             ],
             [
              0.8888888888888888,
              "#fdca26"
             ],
             [
              1.0,
              "#f0f921"
             ]
            ]
           }
          ],
          "contourcarpet": [
           {
            "type": "contourcarpet",
            "colorbar": {
             "outlinewidth": 0,
             "ticks": ""
            }
           }
          ],
          "contour": [
           {
            "type": "contour",
            "colorbar": {
             "outlinewidth": 0,
             "ticks": ""
            },
            "colorscale": [
             [
              0.0,
              "#0d0887"
             ],
             [
              0.1111111111111111,
              "#46039f"
             ],
             [
              0.2222222222222222,
              "#7201a8"
             ],
             [
              0.3333333333333333,
              "#9c179e"
             ],
             [
              0.4444444444444444,
              "#bd3786"
             ],
             [
              0.5555555555555556,
              "#d8576b"
             ],
             [
              0.6666666666666666,
              "#ed7953"
             ],
             [
              0.7777777777777778,
              "#fb9f3a"
             ],
             [
              0.8888888888888888,
              "#fdca26"
             ],
             [
              1.0,
              "#f0f921"
             ]
            ]
           }
          ],
          "surface": [
           {
            "type": "surface",
            "colorbar": {
             "outlinewidth": 0,
             "ticks": ""
            },
            "colorscale": [
             [
              0.0,
              "#0d0887"
             ],
             [
              0.1111111111111111,
              "#46039f"
             ],
             [
              0.2222222222222222,
              "#7201a8"
             ],
             [
              0.3333333333333333,
              "#9c179e"
             ],
             [
              0.4444444444444444,
              "#bd3786"
             ],
             [
              0.5555555555555556,
              "#d8576b"
             ],
             [
              0.6666666666666666,
              "#ed7953"
             ],
             [
              0.7777777777777778,
              "#fb9f3a"
             ],
             [
              0.8888888888888888,
              "#fdca26"
             ],
             [
              1.0,
              "#f0f921"
             ]
            ]
           }
          ],
          "mesh3d": [
           {
            "type": "mesh3d",
            "colorbar": {
             "outlinewidth": 0,
             "ticks": ""
            }
           }
          ],
          "scatter": [
           {
            "marker": {
             "line": {
              "color": "#283442"
             }
            },
            "type": "scatter"
           }
          ],
          "parcoords": [
           {
            "type": "parcoords",
            "line": {
             "colorbar": {
              "outlinewidth": 0,
              "ticks": ""
             }
            }
           }
          ],
          "scatterpolargl": [
           {
            "type": "scatterpolargl",
            "marker": {
             "colorbar": {
              "outlinewidth": 0,
              "ticks": ""
             }
            }
           }
          ],
          "bar": [
           {
            "error_x": {
             "color": "#f2f5fa"
            },
            "error_y": {
             "color": "#f2f5fa"
            },
            "marker": {
             "line": {
              "color": "rgb(17,17,17)",
              "width": 0.5
             },
             "pattern": {
              "fillmode": "overlay",
              "size": 10,
              "solidity": 0.2
             }
            },
            "type": "bar"
           }
          ],
          "scattergeo": [
           {
            "type": "scattergeo",
            "marker": {
             "colorbar": {
              "outlinewidth": 0,
              "ticks": ""
             }
            }
           }
          ],
          "scatterpolar": [
           {
            "type": "scatterpolar",
            "marker": {
             "colorbar": {
              "outlinewidth": 0,
              "ticks": ""
             }
            }
           }
          ],
          "histogram": [
           {
            "marker": {
             "pattern": {
              "fillmode": "overlay",
              "size": 10,
              "solidity": 0.2
             }
            },
            "type": "histogram"
           }
          ],
          "scattergl": [
           {
            "marker": {
             "line": {
              "color": "#283442"
             }
            },
            "type": "scattergl"
           }
          ],
          "scatter3d": [
           {
            "type": "scatter3d",
            "line": {
             "colorbar": {
              "outlinewidth": 0,
              "ticks": ""
             }
            },
            "marker": {
             "colorbar": {
              "outlinewidth": 0,
              "ticks": ""
             }
            }
           }
          ],
          "scattermap": [
           {
            "type": "scattermap",
            "marker": {
             "colorbar": {
              "outlinewidth": 0,
              "ticks": ""
             }
            }
           }
          ],
          "scattermapbox": [
           {
            "type": "scattermapbox",
            "marker": {
             "colorbar": {
              "outlinewidth": 0,
              "ticks": ""
             }
            }
           }
          ],
          "scatterternary": [
           {
            "type": "scatterternary",
            "marker": {
             "colorbar": {
              "outlinewidth": 0,
              "ticks": ""
             }
            }
           }
          ],
          "scattercarpet": [
           {
            "type": "scattercarpet",
            "marker": {
             "colorbar": {
              "outlinewidth": 0,
              "ticks": ""
             }
            }
           }
          ],
          "carpet": [
           {
            "aaxis": {
             "endlinecolor": "#A2B1C6",
             "gridcolor": "#506784",
             "linecolor": "#506784",
             "minorgridcolor": "#506784",
             "startlinecolor": "#A2B1C6"
            },
            "baxis": {
             "endlinecolor": "#A2B1C6",
             "gridcolor": "#506784",
             "linecolor": "#506784",
             "minorgridcolor": "#506784",
             "startlinecolor": "#A2B1C6"
            },
            "type": "carpet"
           }
          ],
          "table": [
           {
            "cells": {
             "fill": {
              "color": "#506784"
             },
             "line": {
              "color": "rgb(17,17,17)"
             }
            },
            "header": {
             "fill": {
              "color": "#2a3f5f"
             },
             "line": {
              "color": "rgb(17,17,17)"
             }
            },
            "type": "table"
           }
          ],
          "barpolar": [
           {
            "marker": {
             "line": {
              "color": "rgb(17,17,17)",
              "width": 0.5
             },
             "pattern": {
              "fillmode": "overlay",
              "size": 10,
              "solidity": 0.2
             }
            },
            "type": "barpolar"
           }
          ],
          "pie": [
           {
            "automargin": true,
            "type": "pie"
           }
          ]
         },
         "layout": {
          "autotypenumbers": "strict",
          "colorway": [
           "#636efa",
           "#EF553B",
           "#00cc96",
           "#ab63fa",
           "#FFA15A",
           "#19d3f3",
           "#FF6692",
           "#B6E880",
           "#FF97FF",
           "#FECB52"
          ],
          "font": {
           "color": "#f2f5fa"
          },
          "hovermode": "closest",
          "hoverlabel": {
           "align": "left"
          },
          "paper_bgcolor": "rgb(17,17,17)",
          "plot_bgcolor": "rgb(17,17,17)",
          "polar": {
           "bgcolor": "rgb(17,17,17)",
           "angularaxis": {
            "gridcolor": "#506784",
            "linecolor": "#506784",
            "ticks": ""
           },
           "radialaxis": {
            "gridcolor": "#506784",
            "linecolor": "#506784",
            "ticks": ""
           }
          },
          "ternary": {
           "bgcolor": "rgb(17,17,17)",
           "aaxis": {
            "gridcolor": "#506784",
            "linecolor": "#506784",
            "ticks": ""
           },
           "baxis": {
            "gridcolor": "#506784",
            "linecolor": "#506784",
            "ticks": ""
           },
           "caxis": {
            "gridcolor": "#506784",
            "linecolor": "#506784",
            "ticks": ""
           }
          },
          "coloraxis": {
           "colorbar": {
            "outlinewidth": 0,
            "ticks": ""
           }
          },
          "colorscale": {
           "sequential": [
            [
             0.0,
             "#0d0887"
            ],
            [
             0.1111111111111111,
             "#46039f"
            ],
            [
             0.2222222222222222,
             "#7201a8"
            ],
            [
             0.3333333333333333,
             "#9c179e"
            ],
            [
             0.4444444444444444,
             "#bd3786"
            ],
            [
             0.5555555555555556,
             "#d8576b"
            ],
            [
             0.6666666666666666,
             "#ed7953"
            ],
            [
             0.7777777777777778,
             "#fb9f3a"
            ],
            [
             0.8888888888888888,
             "#fdca26"
            ],
            [
             1.0,
             "#f0f921"
            ]
           ],
           "sequentialminus": [
            [
             0.0,
             "#0d0887"
            ],
            [
             0.1111111111111111,
             "#46039f"
            ],
            [
             0.2222222222222222,
             "#7201a8"
            ],
            [
             0.3333333333333333,
             "#9c179e"
            ],
            [
             0.4444444444444444,
             "#bd3786"
            ],
            [
             0.5555555555555556,
             "#d8576b"
            ],
            [
             0.6666666666666666,
             "#ed7953"
            ],
            [
             0.7777777777777778,
             "#fb9f3a"
            ],
            [
             0.8888888888888888,
             "#fdca26"
            ],
            [
             1.0,
             "#f0f921"
            ]
           ],
           "diverging": [
            [
             0,
             "#8e0152"
            ],
            [
             0.1,
             "#c51b7d"
            ],
            [
             0.2,
             "#de77ae"
            ],
            [
             0.3,
             "#f1b6da"
            ],
            [
             0.4,
             "#fde0ef"
            ],
            [
             0.5,
             "#f7f7f7"
            ],
            [
             0.6,
             "#e6f5d0"
            ],
            [
             0.7,
             "#b8e186"
            ],
            [
             0.8,
             "#7fbc41"
            ],
            [
             0.9,
             "#4d9221"
            ],
            [
             1,
             "#276419"
            ]
           ]
          },
          "xaxis": {
           "gridcolor": "#283442",
           "linecolor": "#506784",
           "ticks": "",
           "title": {
            "standoff": 15
           },
           "zerolinecolor": "#283442",
           "automargin": true,
           "zerolinewidth": 2
          },
          "yaxis": {
           "gridcolor": "#283442",
           "linecolor": "#506784",
           "ticks": "",
           "title": {
            "standoff": 15
           },
           "zerolinecolor": "#283442",
           "automargin": true,
           "zerolinewidth": 2
          },
          "scene": {
           "xaxis": {
            "backgroundcolor": "rgb(17,17,17)",
            "gridcolor": "#506784",
            "linecolor": "#506784",
            "showbackground": true,
            "ticks": "",
            "zerolinecolor": "#C8D4E3",
            "gridwidth": 2
           },
           "yaxis": {
            "backgroundcolor": "rgb(17,17,17)",
            "gridcolor": "#506784",
            "linecolor": "#506784",
            "showbackground": true,
            "ticks": "",
            "zerolinecolor": "#C8D4E3",
            "gridwidth": 2
           },
           "zaxis": {
            "backgroundcolor": "rgb(17,17,17)",
            "gridcolor": "#506784",
            "linecolor": "#506784",
            "showbackground": true,
            "ticks": "",
            "zerolinecolor": "#C8D4E3",
            "gridwidth": 2
           }
          },
          "shapedefaults": {
           "line": {
            "color": "#f2f5fa"
           }
          },
          "annotationdefaults": {
           "arrowcolor": "#f2f5fa",
           "arrowhead": 0,
           "arrowwidth": 1
          },
          "geo": {
           "bgcolor": "rgb(17,17,17)",
           "landcolor": "rgb(17,17,17)",
           "subunitcolor": "#506784",
           "showland": true,
           "showlakes": true,
           "lakecolor": "rgb(17,17,17)"
          },
          "title": {
           "x": 0.05
          },
          "updatemenudefaults": {
           "bgcolor": "#506784",
           "borderwidth": 0
          },
          "sliderdefaults": {
           "bgcolor": "#C8D4E3",
           "borderwidth": 1,
           "bordercolor": "rgb(17,17,17)",
           "tickwidth": 0
          },
          "mapbox": {
           "style": "dark"
          }
         }
        },
        "xaxis": {
         "anchor": "y",
         "domain": [
          0.0,
          0.7363
         ],
         "title": {
          "text": "x"
         }
        },
        "yaxis": {
         "anchor": "x",
         "domain": [
          0.0,
          1.0
         ],
         "title": {
          "text": "total_time"
         }
        },
        "xaxis2": {
         "anchor": "y2",
         "domain": [
          0.7413,
          1.0
         ],
         "matches": "x2",
         "showticklabels": false,
         "showline": false,
         "ticks": "",
         "showgrid": false
        },
        "yaxis2": {
         "anchor": "x2",
         "domain": [
          0.0,
          1.0
         ],
         "matches": "y",
         "showticklabels": false,
         "showgrid": true
        },
        "legend": {
         "title": {
          "text": "output_length"
         },
         "tracegroupgap": 0,
         "itemsizing": "constant"
        },
        "margin": {
         "t": 60
        }
       },
       "config": {
        "plotlyServerURL": "https://plot.ly"
       }
      }
     },
     "metadata": {},
     "output_type": "display_data",
     "jetTransient": {
      "display_id": null
     }
    }
   ],
   "execution_count": 30
  },
  {
   "metadata": {
    "ExecuteTime": {
     "end_time": "2025-10-11T05:32:16.912697Z",
     "start_time": "2025-10-11T05:32:16.775906Z"
    }
   },
   "cell_type": "code",
   "source": [
    "fig = px.scatter(data_df, x= \"output_tokens\" , y= [\"total_time\", \"load_time\", \"prompt_eval_time\", \"output_eval_time\"])\n",
    "fig.show()\n",
    "fig = px.scatter(data_df, x= \"input_tokens\", y= [\"total_time\", \"load_time\", \"prompt_eval_time\", \"output_eval_time\"])\n",
    "fig.show()"
   ],
   "id": "bfe115dfd78604f6",
   "outputs": [
    {
     "data": {
      "application/vnd.plotly.v1+json": {
       "data": [
        {
         "hovertemplate": "variable=total_time<br>output_tokens=%{x}<br>value=%{y}<extra></extra>",
         "legendgroup": "total_time",
         "marker": {
          "color": "#636efa",
          "symbol": "circle"
         },
         "mode": "markers",
         "name": "total_time",
         "showlegend": true,
         "x": {
          "dtype": "i2",
          "bdata": "JwAeAToAzQE2ANECJwDaACkAYgEfAPAANQB9AQkAjwAZAAEBCQBFASMACAFMAHwBFgA2AR0AYgArAGYBOgCXAS4AxQFDABUCMAChAhoAKQEFAIoAIAAMAA8AJgEMAFkBPwBwATgAJQI1AHkBKQB0AQsANAFDAAYCLgBsAhUAZgHEAB0CjQBrAh8BtwH9AAYDDgFVAocAhwLVABcC8wDKAtgA5AGUAAsDqAD8AQMBZQPEAD4CWwBpAasA+QH/AIIDSgNcBWYDWQfMA3cDDQPNBH0AfgAKAAoAMQCWAgMAcQEyAP0BBAA2AQMACQAtAHMCHACyADAA1gAyAFgCLgCdAAwABwAzAPEBBAAMAQUAxQAXAIUBCgAbAQkAZwA7AH0BKwALATkA+gExAHoBNgDxAScAiwALANQALgB8AQ4AKwEUABkBMQAUAjoAHwI6AOMBJQBoAaoAeAKhADMCegDSAZsALQKUAOUBvQAaA4sAFAO+ABkDrwDzAbUADQS7AEoEmQA5A30A9gBtACoC0gDbAncAsgA8AosEtwAgA8gBHwaRATcCWwGEATsAggJmABgCTQCcAkAAewJBANABPwA/Aj8ADwM2AKoCPQCYAjsARAJTANkCWQDrATcApgFOALgCSwA3Aj8ATgJxANgBRwBVAlEAPAI0AGYCSABNAjUAwAJEAGkCNgBOAjUAswFgAA4CTgDdAjkADAJBAAICTQBcAk0AIwI1ABkCigHcBikBTAU5ARYDKAEvBnUB0wYRAd0EwgG4BFQBZgeDAW4IMAHRBa4BwwQbAXcFOAFbBhMBoAROAU4FWwHDBQ0FlhCPBUwPsASfC+cFwRLqAEYBRwAdAkUA2QFFAIQCSQDzAT4ApQJCAMsBOQA5AjQApgE+ALkBVgDcAUMA7AE3AN0BTABKAi8ASAJNAD8CLQCwASoAQAEyAFMCPABDAikAtwI0AG0COQDqATIAHwI6AK4BRwAnAjAAEAI8AAsCMQA/ASoAvgE8AJUCTQBdATMAYQJcAVYFfQFSBm4BpQVOAfwFhQFABXMBXAWLAWQFZQG7BAEBCwR1AYEGXwEwBmIBtgZ3AW0FXwH5BuoApQPwACgFywM4Cr4EzQtJA7oKpQMkEKAA2AU="
         },
         "xaxis": "x",
         "y": {
          "dtype": "f8",
          "bdata": "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"
         },
         "yaxis": "y",
         "type": "scattergl"
        },
        {
         "hovertemplate": "variable=load_time<br>output_tokens=%{x}<br>value=%{y}<extra></extra>",
         "legendgroup": "load_time",
         "marker": {
          "color": "#EF553B",
          "symbol": "circle"
         },
         "mode": "markers",
         "name": "load_time",
         "showlegend": true,
         "x": {
          "dtype": "i2",
          "bdata": "JwAeAToAzQE2ANECJwDaACkAYgEfAPAANQB9AQkAjwAZAAEBCQBFASMACAFMAHwBFgA2AR0AYgArAGYBOgCXAS4AxQFDABUCMAChAhoAKQEFAIoAIAAMAA8AJgEMAFkBPwBwATgAJQI1AHkBKQB0AQsANAFDAAYCLgBsAhUAZgHEAB0CjQBrAh8BtwH9AAYDDgFVAocAhwLVABcC8wDKAtgA5AGUAAsDqAD8AQMBZQPEAD4CWwBpAasA+QH/AIIDSgNcBWYDWQfMA3cDDQPNBH0AfgAKAAoAMQCWAgMAcQEyAP0BBAA2AQMACQAtAHMCHACyADAA1gAyAFgCLgCdAAwABwAzAPEBBAAMAQUAxQAXAIUBCgAbAQkAZwA7AH0BKwALATkA+gExAHoBNgDxAScAiwALANQALgB8AQ4AKwEUABkBMQAUAjoAHwI6AOMBJQBoAaoAeAKhADMCegDSAZsALQKUAOUBvQAaA4sAFAO+ABkDrwDzAbUADQS7AEoEmQA5A30A9gBtACoC0gDbAncAsgA8AosEtwAgA8gBHwaRATcCWwGEATsAggJmABgCTQCcAkAAewJBANABPwA/Aj8ADwM2AKoCPQCYAjsARAJTANkCWQDrATcApgFOALgCSwA3Aj8ATgJxANgBRwBVAlEAPAI0AGYCSABNAjUAwAJEAGkCNgBOAjUAswFgAA4CTgDdAjkADAJBAAICTQBcAk0AIwI1ABkCigHcBikBTAU5ARYDKAEvBnUB0wYRAd0EwgG4BFQBZgeDAW4IMAHRBa4BwwQbAXcFOAFbBhMBoAROAU4FWwHDBQ0FlhCPBUwPsASfC+cFwRLqAEYBRwAdAkUA2QFFAIQCSQDzAT4ApQJCAMsBOQA5AjQApgE+ALkBVgDcAUMA7AE3AN0BTABKAi8ASAJNAD8CLQCwASoAQAEyAFMCPABDAikAtwI0AG0COQDqATIAHwI6AK4BRwAnAjAAEAI8AAsCMQA/ASoAvgE8AJUCTQBdATMAYQJcAVYFfQFSBm4BpQVOAfwFhQFABXMBXAWLAWQFZQG7BAEBCwR1AYEGXwEwBmIBtgZ3AW0FXwH5BuoApQPwACgFywM4Cr4EzQtJA7oKpQMkEKAA2AU="
         },
         "xaxis": "x",
         "y": {
          "dtype": "f8",
          "bdata": "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"
         },
         "yaxis": "y",
         "type": "scattergl"
        },
        {
         "hovertemplate": "variable=prompt_eval_time<br>output_tokens=%{x}<br>value=%{y}<extra></extra>",
         "legendgroup": "prompt_eval_time",
         "marker": {
          "color": "#00cc96",
          "symbol": "circle"
         },
         "mode": "markers",
         "name": "prompt_eval_time",
         "showlegend": true,
         "x": {
          "dtype": "i2",
          "bdata": "JwAeAToAzQE2ANECJwDaACkAYgEfAPAANQB9AQkAjwAZAAEBCQBFASMACAFMAHwBFgA2AR0AYgArAGYBOgCXAS4AxQFDABUCMAChAhoAKQEFAIoAIAAMAA8AJgEMAFkBPwBwATgAJQI1AHkBKQB0AQsANAFDAAYCLgBsAhUAZgHEAB0CjQBrAh8BtwH9AAYDDgFVAocAhwLVABcC8wDKAtgA5AGUAAsDqAD8AQMBZQPEAD4CWwBpAasA+QH/AIIDSgNcBWYDWQfMA3cDDQPNBH0AfgAKAAoAMQCWAgMAcQEyAP0BBAA2AQMACQAtAHMCHACyADAA1gAyAFgCLgCdAAwABwAzAPEBBAAMAQUAxQAXAIUBCgAbAQkAZwA7AH0BKwALATkA+gExAHoBNgDxAScAiwALANQALgB8AQ4AKwEUABkBMQAUAjoAHwI6AOMBJQBoAaoAeAKhADMCegDSAZsALQKUAOUBvQAaA4sAFAO+ABkDrwDzAbUADQS7AEoEmQA5A30A9gBtACoC0gDbAncAsgA8AosEtwAgA8gBHwaRATcCWwGEATsAggJmABgCTQCcAkAAewJBANABPwA/Aj8ADwM2AKoCPQCYAjsARAJTANkCWQDrATcApgFOALgCSwA3Aj8ATgJxANgBRwBVAlEAPAI0AGYCSABNAjUAwAJEAGkCNgBOAjUAswFgAA4CTgDdAjkADAJBAAICTQBcAk0AIwI1ABkCigHcBikBTAU5ARYDKAEvBnUB0wYRAd0EwgG4BFQBZgeDAW4IMAHRBa4BwwQbAXcFOAFbBhMBoAROAU4FWwHDBQ0FlhCPBUwPsASfC+cFwRLqAEYBRwAdAkUA2QFFAIQCSQDzAT4ApQJCAMsBOQA5AjQApgE+ALkBVgDcAUMA7AE3AN0BTABKAi8ASAJNAD8CLQCwASoAQAEyAFMCPABDAikAtwI0AG0COQDqATIAHwI6AK4BRwAnAjAAEAI8AAsCMQA/ASoAvgE8AJUCTQBdATMAYQJcAVYFfQFSBm4BpQVOAfwFhQFABXMBXAWLAWQFZQG7BAEBCwR1AYEGXwEwBmIBtgZ3AW0FXwH5BuoApQPwACgFywM4Cr4EzQtJA7oKpQMkEKAA2AU="
         },
         "xaxis": "x",
         "y": {
          "dtype": "f8",
          "bdata": "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"
         },
         "yaxis": "y",
         "type": "scattergl"
        },
        {
         "hovertemplate": "variable=output_eval_time<br>output_tokens=%{x}<br>value=%{y}<extra></extra>",
         "legendgroup": "output_eval_time",
         "marker": {
          "color": "#ab63fa",
          "symbol": "circle"
         },
         "mode": "markers",
         "name": "output_eval_time",
         "showlegend": true,
         "x": {
          "dtype": "i2",
          "bdata": "JwAeAToAzQE2ANECJwDaACkAYgEfAPAANQB9AQkAjwAZAAEBCQBFASMACAFMAHwBFgA2AR0AYgArAGYBOgCXAS4AxQFDABUCMAChAhoAKQEFAIoAIAAMAA8AJgEMAFkBPwBwATgAJQI1AHkBKQB0AQsANAFDAAYCLgBsAhUAZgHEAB0CjQBrAh8BtwH9AAYDDgFVAocAhwLVABcC8wDKAtgA5AGUAAsDqAD8AQMBZQPEAD4CWwBpAasA+QH/AIIDSgNcBWYDWQfMA3cDDQPNBH0AfgAKAAoAMQCWAgMAcQEyAP0BBAA2AQMACQAtAHMCHACyADAA1gAyAFgCLgCdAAwABwAzAPEBBAAMAQUAxQAXAIUBCgAbAQkAZwA7AH0BKwALATkA+gExAHoBNgDxAScAiwALANQALgB8AQ4AKwEUABkBMQAUAjoAHwI6AOMBJQBoAaoAeAKhADMCegDSAZsALQKUAOUBvQAaA4sAFAO+ABkDrwDzAbUADQS7AEoEmQA5A30A9gBtACoC0gDbAncAsgA8AosEtwAgA8gBHwaRATcCWwGEATsAggJmABgCTQCcAkAAewJBANABPwA/Aj8ADwM2AKoCPQCYAjsARAJTANkCWQDrATcApgFOALgCSwA3Aj8ATgJxANgBRwBVAlEAPAI0AGYCSABNAjUAwAJEAGkCNgBOAjUAswFgAA4CTgDdAjkADAJBAAICTQBcAk0AIwI1ABkCigHcBikBTAU5ARYDKAEvBnUB0wYRAd0EwgG4BFQBZgeDAW4IMAHRBa4BwwQbAXcFOAFbBhMBoAROAU4FWwHDBQ0FlhCPBUwPsASfC+cFwRLqAEYBRwAdAkUA2QFFAIQCSQDzAT4ApQJCAMsBOQA5AjQApgE+ALkBVgDcAUMA7AE3AN0BTABKAi8ASAJNAD8CLQCwASoAQAEyAFMCPABDAikAtwI0AG0COQDqATIAHwI6AK4BRwAnAjAAEAI8AAsCMQA/ASoAvgE8AJUCTQBdATMAYQJcAVYFfQFSBm4BpQVOAfwFhQFABXMBXAWLAWQFZQG7BAEBCwR1AYEGXwEwBmIBtgZ3AW0FXwH5BuoApQPwACgFywM4Cr4EzQtJA7oKpQMkEKAA2AU="
         },
         "xaxis": "x",
         "y": {
          "dtype": "f8",
          "bdata": "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"
         },
         "yaxis": "y",
         "type": "scattergl"
        }
       ],
       "layout": {
        "template": {
         "data": {
          "histogram2dcontour": [
           {
            "type": "histogram2dcontour",
            "colorbar": {
             "outlinewidth": 0,
             "ticks": ""
            },
            "colorscale": [
             [
              0.0,
              "#0d0887"
             ],
             [
              0.1111111111111111,
              "#46039f"
             ],
             [
              0.2222222222222222,
              "#7201a8"
             ],
             [
              0.3333333333333333,
              "#9c179e"
             ],
             [
              0.4444444444444444,
              "#bd3786"
             ],
             [
              0.5555555555555556,
              "#d8576b"
             ],
             [
              0.6666666666666666,
              "#ed7953"
             ],
             [
              0.7777777777777778,
              "#fb9f3a"
             ],
             [
              0.8888888888888888,
              "#fdca26"
             ],
             [
              1.0,
              "#f0f921"
             ]
            ]
           }
          ],
          "choropleth": [
           {
            "type": "choropleth",
            "colorbar": {
             "outlinewidth": 0,
             "ticks": ""
            }
           }
          ],
          "histogram2d": [
           {
            "type": "histogram2d",
            "colorbar": {
             "outlinewidth": 0,
             "ticks": ""
            },
            "colorscale": [
             [
              0.0,
              "#0d0887"
             ],
             [
              0.1111111111111111,
              "#46039f"
             ],
             [
              0.2222222222222222,
              "#7201a8"
             ],
             [
              0.3333333333333333,
              "#9c179e"
             ],
             [
              0.4444444444444444,
              "#bd3786"
             ],
             [
              0.5555555555555556,
              "#d8576b"
             ],
             [
              0.6666666666666666,
              "#ed7953"
             ],
             [
              0.7777777777777778,
              "#fb9f3a"
             ],
             [
              0.8888888888888888,
              "#fdca26"
             ],
             [
              1.0,
              "#f0f921"
             ]
            ]
           }
          ],
          "heatmap": [
           {
            "type": "heatmap",
            "colorbar": {
             "outlinewidth": 0,
             "ticks": ""
            },
            "colorscale": [
             [
              0.0,
              "#0d0887"
             ],
             [
              0.1111111111111111,
              "#46039f"
             ],
             [
              0.2222222222222222,
              "#7201a8"
             ],
             [
              0.3333333333333333,
              "#9c179e"
             ],
             [
              0.4444444444444444,
              "#bd3786"
             ],
             [
              0.5555555555555556,
              "#d8576b"
             ],
             [
              0.6666666666666666,
              "#ed7953"
             ],
             [
              0.7777777777777778,
              "#fb9f3a"
             ],
             [
              0.8888888888888888,
              "#fdca26"
             ],
             [
              1.0,
              "#f0f921"
             ]
            ]
           }
          ],
          "contourcarpet": [
           {
            "type": "contourcarpet",
            "colorbar": {
             "outlinewidth": 0,
             "ticks": ""
            }
           }
          ],
          "contour": [
           {
            "type": "contour",
            "colorbar": {
             "outlinewidth": 0,
             "ticks": ""
            },
            "colorscale": [
             [
              0.0,
              "#0d0887"
             ],
             [
              0.1111111111111111,
              "#46039f"
             ],
             [
              0.2222222222222222,
              "#7201a8"
             ],
             [
              0.3333333333333333,
              "#9c179e"
             ],
             [
              0.4444444444444444,
              "#bd3786"
             ],
             [
              0.5555555555555556,
              "#d8576b"
             ],
             [
              0.6666666666666666,
              "#ed7953"
             ],
             [
              0.7777777777777778,
              "#fb9f3a"
             ],
             [
              0.8888888888888888,
              "#fdca26"
             ],
             [
              1.0,
              "#f0f921"
             ]
            ]
           }
          ],
          "surface": [
           {
            "type": "surface",
            "colorbar": {
             "outlinewidth": 0,
             "ticks": ""
            },
            "colorscale": [
             [
              0.0,
              "#0d0887"
             ],
             [
              0.1111111111111111,
              "#46039f"
             ],
             [
              0.2222222222222222,
              "#7201a8"
             ],
             [
              0.3333333333333333,
              "#9c179e"
             ],
             [
              0.4444444444444444,
              "#bd3786"
             ],
             [
              0.5555555555555556,
              "#d8576b"
             ],
             [
              0.6666666666666666,
              "#ed7953"
             ],
             [
              0.7777777777777778,
              "#fb9f3a"
             ],
             [
              0.8888888888888888,
              "#fdca26"
             ],
             [
              1.0,
              "#f0f921"
             ]
            ]
           }
          ],
          "mesh3d": [
           {
            "type": "mesh3d",
            "colorbar": {
             "outlinewidth": 0,
             "ticks": ""
            }
           }
          ],
          "scatter": [
           {
            "marker": {
             "line": {
              "color": "#283442"
             }
            },
            "type": "scatter"
           }
          ],
          "parcoords": [
           {
            "type": "parcoords",
            "line": {
             "colorbar": {
              "outlinewidth": 0,
              "ticks": ""
             }
            }
           }
          ],
          "scatterpolargl": [
           {
            "type": "scatterpolargl",
            "marker": {
             "colorbar": {
              "outlinewidth": 0,
              "ticks": ""
             }
            }
           }
          ],
          "bar": [
           {
            "error_x": {
             "color": "#f2f5fa"
            },
            "error_y": {
             "color": "#f2f5fa"
            },
            "marker": {
             "line": {
              "color": "rgb(17,17,17)",
              "width": 0.5
             },
             "pattern": {
              "fillmode": "overlay",
              "size": 10,
              "solidity": 0.2
             }
            },
            "type": "bar"
           }
          ],
          "scattergeo": [
           {
            "type": "scattergeo",
            "marker": {
             "colorbar": {
              "outlinewidth": 0,
              "ticks": ""
             }
            }
           }
          ],
          "scatterpolar": [
           {
            "type": "scatterpolar",
            "marker": {
             "colorbar": {
              "outlinewidth": 0,
              "ticks": ""
             }
            }
           }
          ],
          "histogram": [
           {
            "marker": {
             "pattern": {
              "fillmode": "overlay",
              "size": 10,
              "solidity": 0.2
             }
            },
            "type": "histogram"
           }
          ],
          "scattergl": [
           {
            "marker": {
             "line": {
              "color": "#283442"
             }
            },
            "type": "scattergl"
           }
          ],
          "scatter3d": [
           {
            "type": "scatter3d",
            "line": {
             "colorbar": {
              "outlinewidth": 0,
              "ticks": ""
             }
            },
            "marker": {
             "colorbar": {
              "outlinewidth": 0,
              "ticks": ""
             }
            }
           }
          ],
          "scattermap": [
           {
            "type": "scattermap",
            "marker": {
             "colorbar": {
              "outlinewidth": 0,
              "ticks": ""
             }
            }
           }
          ],
          "scattermapbox": [
           {
            "type": "scattermapbox",
            "marker": {
             "colorbar": {
              "outlinewidth": 0,
              "ticks": ""
             }
            }
           }
          ],
          "scatterternary": [
           {
            "type": "scatterternary",
            "marker": {
             "colorbar": {
              "outlinewidth": 0,
              "ticks": ""
             }
            }
           }
          ],
          "scattercarpet": [
           {
            "type": "scattercarpet",
            "marker": {
             "colorbar": {
              "outlinewidth": 0,
              "ticks": ""
             }
            }
           }
          ],
          "carpet": [
           {
            "aaxis": {
             "endlinecolor": "#A2B1C6",
             "gridcolor": "#506784",
             "linecolor": "#506784",
             "minorgridcolor": "#506784",
             "startlinecolor": "#A2B1C6"
            },
            "baxis": {
             "endlinecolor": "#A2B1C6",
             "gridcolor": "#506784",
             "linecolor": "#506784",
             "minorgridcolor": "#506784",
             "startlinecolor": "#A2B1C6"
            },
            "type": "carpet"
           }
          ],
          "table": [
           {
            "cells": {
             "fill": {
              "color": "#506784"
             },
             "line": {
              "color": "rgb(17,17,17)"
             }
            },
            "header": {
             "fill": {
              "color": "#2a3f5f"
             },
             "line": {
              "color": "rgb(17,17,17)"
             }
            },
            "type": "table"
           }
          ],
          "barpolar": [
           {
            "marker": {
             "line": {
              "color": "rgb(17,17,17)",
              "width": 0.5
             },
             "pattern": {
              "fillmode": "overlay",
              "size": 10,
              "solidity": 0.2
             }
            },
            "type": "barpolar"
           }
          ],
          "pie": [
           {
            "automargin": true,
            "type": "pie"
           }
          ]
         },
         "layout": {
          "autotypenumbers": "strict",
          "colorway": [
           "#636efa",
           "#EF553B",
           "#00cc96",
           "#ab63fa",
           "#FFA15A",
           "#19d3f3",
           "#FF6692",
           "#B6E880",
           "#FF97FF",
           "#FECB52"
          ],
          "font": {
           "color": "#f2f5fa"
          },
          "hovermode": "closest",
          "hoverlabel": {
           "align": "left"
          },
          "paper_bgcolor": "rgb(17,17,17)",
          "plot_bgcolor": "rgb(17,17,17)",
          "polar": {
           "bgcolor": "rgb(17,17,17)",
           "angularaxis": {
            "gridcolor": "#506784",
            "linecolor": "#506784",
            "ticks": ""
           },
           "radialaxis": {
            "gridcolor": "#506784",
            "linecolor": "#506784",
            "ticks": ""
           }
          },
          "ternary": {
           "bgcolor": "rgb(17,17,17)",
           "aaxis": {
            "gridcolor": "#506784",
            "linecolor": "#506784",
            "ticks": ""
           },
           "baxis": {
            "gridcolor": "#506784",
            "linecolor": "#506784",
            "ticks": ""
           },
           "caxis": {
            "gridcolor": "#506784",
            "linecolor": "#506784",
            "ticks": ""
           }
          },
          "coloraxis": {
           "colorbar": {
            "outlinewidth": 0,
            "ticks": ""
           }
          },
          "colorscale": {
           "sequential": [
            [
             0.0,
             "#0d0887"
            ],
            [
             0.1111111111111111,
             "#46039f"
            ],
            [
             0.2222222222222222,
             "#7201a8"
            ],
            [
             0.3333333333333333,
             "#9c179e"
            ],
            [
             0.4444444444444444,
             "#bd3786"
            ],
            [
             0.5555555555555556,
             "#d8576b"
            ],
            [
             0.6666666666666666,
             "#ed7953"
            ],
            [
             0.7777777777777778,
             "#fb9f3a"
            ],
            [
             0.8888888888888888,
             "#fdca26"
            ],
            [
             1.0,
             "#f0f921"
            ]
           ],
           "sequentialminus": [
            [
             0.0,
             "#0d0887"
            ],
            [
             0.1111111111111111,
             "#46039f"
            ],
            [
             0.2222222222222222,
             "#7201a8"
            ],
            [
             0.3333333333333333,
             "#9c179e"
            ],
            [
             0.4444444444444444,
             "#bd3786"
            ],
            [
             0.5555555555555556,
             "#d8576b"
            ],
            [
             0.6666666666666666,
             "#ed7953"
            ],
            [
             0.7777777777777778,
             "#fb9f3a"
            ],
            [
             0.8888888888888888,
             "#fdca26"
            ],
            [
             1.0,
             "#f0f921"
            ]
           ],
           "diverging": [
            [
             0,
             "#8e0152"
            ],
            [
             0.1,
             "#c51b7d"
            ],
            [
             0.2,
             "#de77ae"
            ],
            [
             0.3,
             "#f1b6da"
            ],
            [
             0.4,
             "#fde0ef"
            ],
            [
             0.5,
             "#f7f7f7"
            ],
            [
             0.6,
             "#e6f5d0"
            ],
            [
             0.7,
             "#b8e186"
            ],
            [
             0.8,
             "#7fbc41"
            ],
            [
             0.9,
             "#4d9221"
            ],
            [
             1,
             "#276419"
            ]
           ]
          },
          "xaxis": {
           "gridcolor": "#283442",
           "linecolor": "#506784",
           "ticks": "",
           "title": {
            "standoff": 15
           },
           "zerolinecolor": "#283442",
           "automargin": true,
           "zerolinewidth": 2
          },
          "yaxis": {
           "gridcolor": "#283442",
           "linecolor": "#506784",
           "ticks": "",
           "title": {
            "standoff": 15
           },
           "zerolinecolor": "#283442",
           "automargin": true,
           "zerolinewidth": 2
          },
          "scene": {
           "xaxis": {
            "backgroundcolor": "rgb(17,17,17)",
            "gridcolor": "#506784",
            "linecolor": "#506784",
            "showbackground": true,
            "ticks": "",
            "zerolinecolor": "#C8D4E3",
            "gridwidth": 2
           },
           "yaxis": {
            "backgroundcolor": "rgb(17,17,17)",
            "gridcolor": "#506784",
            "linecolor": "#506784",
            "showbackground": true,
            "ticks": "",
            "zerolinecolor": "#C8D4E3",
            "gridwidth": 2
           },
           "zaxis": {
            "backgroundcolor": "rgb(17,17,17)",
            "gridcolor": "#506784",
            "linecolor": "#506784",
            "showbackground": true,
            "ticks": "",
            "zerolinecolor": "#C8D4E3",
            "gridwidth": 2
           }
          },
          "shapedefaults": {
           "line": {
            "color": "#f2f5fa"
           }
          },
          "annotationdefaults": {
           "arrowcolor": "#f2f5fa",
           "arrowhead": 0,
           "arrowwidth": 1
          },
          "geo": {
           "bgcolor": "rgb(17,17,17)",
           "landcolor": "rgb(17,17,17)",
           "subunitcolor": "#506784",
           "showland": true,
           "showlakes": true,
           "lakecolor": "rgb(17,17,17)"
          },
          "title": {
           "x": 0.05
          },
          "updatemenudefaults": {
           "bgcolor": "#506784",
           "borderwidth": 0
          },
          "sliderdefaults": {
           "bgcolor": "#C8D4E3",
           "borderwidth": 1,
           "bordercolor": "rgb(17,17,17)",
           "tickwidth": 0
          },
          "mapbox": {
           "style": "dark"
          }
         }
        },
        "xaxis": {
         "anchor": "y",
         "domain": [
          0.0,
          1.0
         ],
         "title": {
          "text": "output_tokens"
         }
        },
        "yaxis": {
         "anchor": "x",
         "domain": [
          0.0,
          1.0
         ],
         "title": {
          "text": "value"
         }
        },
        "legend": {
         "title": {
          "text": "variable"
         },
         "tracegroupgap": 0
        },
        "margin": {
         "t": 60
        }
       },
       "config": {
        "plotlyServerURL": "https://plot.ly"
       }
      }
     },
     "metadata": {},
     "output_type": "display_data",
     "jetTransient": {
      "display_id": null
     }
    },
    {
     "data": {
      "application/vnd.plotly.v1+json": {
       "data": [
        {
         "hovertemplate": "variable=total_time<br>input_tokens=%{x}<br>value=%{y}<extra></extra>",
         "legendgroup": "total_time",
         "marker": {
          "color": "#636efa",
          "symbol": "circle"
         },
         "mode": "markers",
         "name": "total_time",
         "showlegend": true,
         "x": {
          "dtype": "i2",
          "bdata": "WABbAFcAWgBMAE8AWQBcAE0AUABUAFcAUABTAFcAWgBWAFkAUgBVAFkAXABOAFEASwBOAFgAWwBRAFQAUQBUAE4AUQBPAFIAUABTAFYAWQBRAFQAUQBUAFsAXgBUAFcATwBSAFIAVQBRAFQAUgBVAFQAVwBOAFEAVABXAFQAVwD7Af4B8wH2AfMB9gHtAfAB+wH+AfMB9gHzAfYB7QHwAfsB/gHzAfYB8wH2Ae0B8AH7Af4B8wH2AfMB9gHtAfABiQeMB4kHjAeJB4wHiQeMB98d4h0iACUAIAAjACAAIwAhACQAIQAkACEAJAAgACMAIwAmACQAJwAgACMAIwAmACMAJgAhACQAIAAjACAAIwAiACUAIQAkACMAJgAfACIAIQAkACAAIwAfACIAIAAjACIAJQAlACgAIAAjACMAJgAhACQAIAAjACAAIwAgACMAHwAiAGcAagBsAG8AZABnAGcAagBpAGwAZQBoAGMAZgBnAGoAZQBoAGQAZwBnAGoAYABjAGUAaABoAGsAYQBkAGoAbQBZAVwBUwFWAUsBTgFTAVYBBQUIBWcAagBUAFcAXQBgAFYAWQBTAFYAUwBWAE8AUgBWAFkAWABbAE8AUgBUAFcAUwBWAFcAWgBQAFMATgBRAEsATgBSAFUATQBQAFQAVwBSAFUAWwBeAE8AUgBNAFAASwBOAEgASwBRAFQAUABTAE4AUQBLAE4ATABPAEoATQBLAE4AGAIbAu0B8AHmAekBwgHFARgCGwLtAfAB5gHpAcIBxQEYAhsC7QHwAeYB6QHCAcUBGAIbAu0B8AHmAekBwgHFAWgHawdoB2sHaAdrB2gHawdbHV4dJgApACEAJAAlACgAIgAlACIAJQAkACcAIQAkACEAJAAiACUAIQAkACQAJwAkACcAIwAmACQAJwAjACYALQAwACQAJwAiACUAIgAlACEAJAAiACUAIwAmACEAJAAkACcAJQAoACIAJQAkACcAIwAmACMAJgAkACcAJwAqACMAJgB1AHgAgQCEAHIAdQB+AIEAewB+AHcAegB0AHcAegB9AHkAfAB2AHkAcgB1AH0AgAB1AHgAbgBxAHUAeAB4AHsAoQGkAZsBngGZAZwBiwGOARsGHgY="
         },
         "xaxis": "x",
         "y": {
          "dtype": "f8",
          "bdata": "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"
         },
         "yaxis": "y",
         "type": "scattergl"
        },
        {
         "hovertemplate": "variable=load_time<br>input_tokens=%{x}<br>value=%{y}<extra></extra>",
         "legendgroup": "load_time",
         "marker": {
          "color": "#EF553B",
          "symbol": "circle"
         },
         "mode": "markers",
         "name": "load_time",
         "showlegend": true,
         "x": {
          "dtype": "i2",
          "bdata": "WABbAFcAWgBMAE8AWQBcAE0AUABUAFcAUABTAFcAWgBWAFkAUgBVAFkAXABOAFEASwBOAFgAWwBRAFQAUQBUAE4AUQBPAFIAUABTAFYAWQBRAFQAUQBUAFsAXgBUAFcATwBSAFIAVQBRAFQAUgBVAFQAVwBOAFEAVABXAFQAVwD7Af4B8wH2AfMB9gHtAfAB+wH+AfMB9gHzAfYB7QHwAfsB/gHzAfYB8wH2Ae0B8AH7Af4B8wH2AfMB9gHtAfABiQeMB4kHjAeJB4wHiQeMB98d4h0iACUAIAAjACAAIwAhACQAIQAkACEAJAAgACMAIwAmACQAJwAgACMAIwAmACMAJgAhACQAIAAjACAAIwAiACUAIQAkACMAJgAfACIAIQAkACAAIwAfACIAIAAjACIAJQAlACgAIAAjACMAJgAhACQAIAAjACAAIwAgACMAHwAiAGcAagBsAG8AZABnAGcAagBpAGwAZQBoAGMAZgBnAGoAZQBoAGQAZwBnAGoAYABjAGUAaABoAGsAYQBkAGoAbQBZAVwBUwFWAUsBTgFTAVYBBQUIBWcAagBUAFcAXQBgAFYAWQBTAFYAUwBWAE8AUgBWAFkAWABbAE8AUgBUAFcAUwBWAFcAWgBQAFMATgBRAEsATgBSAFUATQBQAFQAVwBSAFUAWwBeAE8AUgBNAFAASwBOAEgASwBRAFQAUABTAE4AUQBLAE4ATABPAEoATQBLAE4AGAIbAu0B8AHmAekBwgHFARgCGwLtAfAB5gHpAcIBxQEYAhsC7QHwAeYB6QHCAcUBGAIbAu0B8AHmAekBwgHFAWgHawdoB2sHaAdrB2gHawdbHV4dJgApACEAJAAlACgAIgAlACIAJQAkACcAIQAkACEAJAAiACUAIQAkACQAJwAkACcAIwAmACQAJwAjACYALQAwACQAJwAiACUAIgAlACEAJAAiACUAIwAmACEAJAAkACcAJQAoACIAJQAkACcAIwAmACMAJgAkACcAJwAqACMAJgB1AHgAgQCEAHIAdQB+AIEAewB+AHcAegB0AHcAegB9AHkAfAB2AHkAcgB1AH0AgAB1AHgAbgBxAHUAeAB4AHsAoQGkAZsBngGZAZwBiwGOARsGHgY="
         },
         "xaxis": "x",
         "y": {
          "dtype": "f8",
          "bdata": "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"
         },
         "yaxis": "y",
         "type": "scattergl"
        },
        {
         "hovertemplate": "variable=prompt_eval_time<br>input_tokens=%{x}<br>value=%{y}<extra></extra>",
         "legendgroup": "prompt_eval_time",
         "marker": {
          "color": "#00cc96",
          "symbol": "circle"
         },
         "mode": "markers",
         "name": "prompt_eval_time",
         "showlegend": true,
         "x": {
          "dtype": "i2",
          "bdata": "WABbAFcAWgBMAE8AWQBcAE0AUABUAFcAUABTAFcAWgBWAFkAUgBVAFkAXABOAFEASwBOAFgAWwBRAFQAUQBUAE4AUQBPAFIAUABTAFYAWQBRAFQAUQBUAFsAXgBUAFcATwBSAFIAVQBRAFQAUgBVAFQAVwBOAFEAVABXAFQAVwD7Af4B8wH2AfMB9gHtAfAB+wH+AfMB9gHzAfYB7QHwAfsB/gHzAfYB8wH2Ae0B8AH7Af4B8wH2AfMB9gHtAfABiQeMB4kHjAeJB4wHiQeMB98d4h0iACUAIAAjACAAIwAhACQAIQAkACEAJAAgACMAIwAmACQAJwAgACMAIwAmACMAJgAhACQAIAAjACAAIwAiACUAIQAkACMAJgAfACIAIQAkACAAIwAfACIAIAAjACIAJQAlACgAIAAjACMAJgAhACQAIAAjACAAIwAgACMAHwAiAGcAagBsAG8AZABnAGcAagBpAGwAZQBoAGMAZgBnAGoAZQBoAGQAZwBnAGoAYABjAGUAaABoAGsAYQBkAGoAbQBZAVwBUwFWAUsBTgFTAVYBBQUIBWcAagBUAFcAXQBgAFYAWQBTAFYAUwBWAE8AUgBWAFkAWABbAE8AUgBUAFcAUwBWAFcAWgBQAFMATgBRAEsATgBSAFUATQBQAFQAVwBSAFUAWwBeAE8AUgBNAFAASwBOAEgASwBRAFQAUABTAE4AUQBLAE4ATABPAEoATQBLAE4AGAIbAu0B8AHmAekBwgHFARgCGwLtAfAB5gHpAcIBxQEYAhsC7QHwAeYB6QHCAcUBGAIbAu0B8AHmAekBwgHFAWgHawdoB2sHaAdrB2gHawdbHV4dJgApACEAJAAlACgAIgAlACIAJQAkACcAIQAkACEAJAAiACUAIQAkACQAJwAkACcAIwAmACQAJwAjACYALQAwACQAJwAiACUAIgAlACEAJAAiACUAIwAmACEAJAAkACcAJQAoACIAJQAkACcAIwAmACMAJgAkACcAJwAqACMAJgB1AHgAgQCEAHIAdQB+AIEAewB+AHcAegB0AHcAegB9AHkAfAB2AHkAcgB1AH0AgAB1AHgAbgBxAHUAeAB4AHsAoQGkAZsBngGZAZwBiwGOARsGHgY="
         },
         "xaxis": "x",
         "y": {
          "dtype": "f8",
          "bdata": "ID/A//v4kD/mHDwTmiSGP7wYb9ADxIk/eutXldgQhz/YkMnzKnyHP0PB1rZyQIw/J/c7FAX6hD9yo22h0FeFPyX9B6I4kYo//nuVITO8jj/GNxQ+WweHP172Rgjq75A/GmIGdHD6hD+sRysILwuHPzhMNEjBU4g/UtiginZwiz80/ALVmkGHP+QBdn8G5Yc/Ktn7nqI0hT8CHDFpQkmHP2j4YGOo1IY/7cxOUNTjiD9tOTwpOGGHP2NQt/08V4U/Sk7c4PpmkT/J0XcSbLeIP0VdtXxusoc/0EICRpc3hz8tTJXe7TCMPyGU93E0R4Y/ShqSSfxAiD/yPjMtVnmHP3atGAnI8ok/Xt/iPPd5hz+kwKfevx6IP4GCQYgaO4c/PgEUI0vmiD/vW60Tl+OFP9Ki4w+r5Ig/OSS1UDI5hT/IlLSHYpeNPxboyet3F44/43j0dc9wiT9HbMGc6tqIP+n2SDlOwIU/ww4IGW36iD/JTok1pnGJPxM7ZBQVu4c/d9jprLsekT97fVKSGn+HP5KRs7CnHY4/SbmgY6zbhT/P+SmOA6+GPw7PXPEesYc/p+fdWFAYhD+OvL21XbKLPxM4I5QInow/knU4ukp3hz/p6o7FNqmIP1PwbysY8I0/ZtXnaiv2hz+Fl+DUB5KHP7IpV3iXi4g/5Be5AmWuhz/7UR4nlqWnP4frBysEKKw/6i0vCsxUpj/FWRE10eerPzHE+7uIAKk/HnpB+ty/qD/Y+KevQiWpP/nGa7mOzKY/sph9w+nJqT/7ko0HW+ymP3oowGZv36U/oRbeQNwwqT/PcF73sd2sP8Oj6NxINKg/3tOLkHAQqz+7ODtjqT+sPxn9DX/yHKo/7TzgcNUrpz9V0tT8QtmlP0rSNZNvtq0/GxqqveNvpj+2B2uteZ+oP3Y25J8ZxKs/DZjR2RNuqz9aX8n6cgumP3++LViqC6g/bwllhjL5pz/WXMnpRrOpP6v5OyUxUqk/7x8L0SFwrD+DtubYi7KsPyEZF7PK8as/zkqkfiii6z+ds08R8SDrP7DWmvdJP+s/6QVELXI06z906JkDqTnrP5zavuxDQ+s/cEDwnT086z+9UMB2MCLrP4eIm1PJMBZA3fTC+MQdFkCdgZGXNbGQP4DCjyBL1Yw/8+UF2Eenjj+IKMu1DUiHP9aVKqyvCYQ/8Jx3rc57jT9SCrq9pDGKP+6el+VG7I4/8guvJHmujz9YNnNIaqGEP1I+qZswBos/k6pI4Gr4kT/lxGhn4meNPxoEscefA4Y/nAsSkVDphj9auKzCZoCLP9HjnH2KiIc/Wu/cIP9xhz/TTzi7tUyGPympuBbShog/vhR57S1Ahj+QACSJFLmGP1RlKaPbXIY/ZBjBEIMKkD+P1fcrrjuHP/wcHy3OGIY/mtU73A4Niz9Wc8rtqHuiP2WTsvtEVIc/MtWCze/qiz+cUfNV8rGLPzFPnf035ZA/J62u+acKjD9alek8z0SNP/5DnzR5b5E/NihQepVrkD88J2K2CZyRP63DLA8tDYc/2WN9XkyOhj95MHPLWH6KP/uG05ND1Yk/Ibws3KgEij/CGy1iMxuPPw3QbA1baZA/DYV0HU9whj9xlu2el+WGP44IIXsYtYY/x2JAm8GEhj+zN0JQfweQP9cp+1NPi4Y/QUFz59N0hz/oSC7/If2GP5mY0wp4PpA/qFn7lpQWkT/2SUlq/B2FP76tqk1ST4U/KqxUUFH1iz+l1MoppneGP641Sk1xC4w/YTmdv2Q+iz8oJD4cyYqGP39BHDVwUYc/VnJfGPpxhT+L4NrkSwOKPyiwpeyZyoc/Wk8IeC18iD+KUuf2Nw2GP0h5nFiWno8/BiNAl7p1iD90jHW7qCeNP4YzZOGQsoo/Alb9AFqphj+dlmlF5XCHP0swiz9ArZA/+A8zRcpghj8X83NDU3aaPy7Kx0m8l4Y/fzLGh9nLhj837RgNzwGIP7fHd867Voc/obpeP2lNiD9HW5VE9kGGPyND2DqCZYY/DaX2ItqOiT/S3K+nwkSYPzfOXJZlPoY/bOeg8H6BhT/khGRczCqHP9ebYh+u5oo/QZpWr8fpkD9dWy7RD9mGP81wqITMOog/qufuhKgMjT+TfaGRGbmIP2VYINULmYY/WgzD7Aoihz/BZQQKq2eHPzlLJCyFm4c/y8OdZtwvij/PuBVnsbmPP5815ERgUYY/10bhH1s7hj8C0Th5NlCFP+MNeoA4WYQ/UwTdAxlm4T9dq5il+NPgP9mYMsv5vYg/lLJW/sboij8DKKFPPwOFPyzoB78eXYY/AOn27X/bjj9pcoy/SMOEP1XnB2Rl6oQ/BEgjVcohiD8NnH0vz5SHPwPk8O5tn4o/GuHtQQjIhz98zFGRVPCFPwIpsWt7u4U/9vetMUM+gz+lJmZiX1eQP9bK3xhdOYY/ROYlWk0yjT9HwZ1VsNeFP4V4JF6ezoU/qui0E8pnjj+YD1IBQcqJP5cveU1Zl4Q/BwVKr3INiD+vcUdJWdCFP+q3ZXbML4k/Xn6nyYy3hT/bPpqgPOKGP5GgrqTLUYY/yEYgXtcviD+ILqhvmdOFP3vilBSzuYU/ETXR56OMiD+obi7+tieIP3HYbJuY5IY/UTpH0488hj8cApGPJ5OEPymZ95OM944/pGJSMu8niT/oww6+i1KNPyTcvw2MF4Y/6EoEqn8QiT/1Aw3s5wOIP2d8X1yq0oY/XhfZKbHGhD9zay0n/K2IP6l7rgDwmYY/VuLwOPu5hz/Jfsy9dh+GP0ndKXhlcoU/lnlQ9dDjjD++i1KdaR2QP1nO70XFSYs/r1P2p54WjT/LZ3ke3J2FP41s+CcC5os/UhhK3BlckT85c1mW+ViLP6fG8H0W8Ic/y/Gvitx4jD/akH9mEB+IP2JkyRzLu5I//B3lu+9zhz8xhb0/lB6MPxyiwPFr2pM/LDKV2XvM0D/K2eDpOnnQP5qhTP6COKo/yNUjaCfeqD/qS4Crhg6rP0quBzgpcao/jBdm/FZGpj+7NmW4SyymP7rS15h8WNA/lNFtLqP9zz9qbAq/L4mmP1M3YQz2cKc/d5X/2gsWrD9MdVzopb2sPwA6zJcXYKs/B2V1BqEXqT9FY5I2+j3QP9s4veawVtA/i+w5n/DIpj+wgikUMwypP8m2Z/G9Gqs//DyhMlk3rT/yllBmKJOnP4WQmEXN/Ks/kFkHUQgu0D+nT7wUaMHPPxqxBXOqa6c/U6dN5mkKpj/jgW1p2mqrPwZAgRw5d6g/MTyb+uU4pD+JfJdSl4yjP3ioXJfQ0+k/grS1dLvN6T+EZ51MN+TpP4b5l0l50uk/81PBTeub6T+E1VjC2tjpP4mhizz/7Ok/7HntiPno6T9Wp7nLNLgVQBpmsskryRVAfqQtUzgniz+UwheBDHiEPwsSNpd2xYc/7CV8peK1kT9zH2+ozlmFP8N0EConkIg/8d8X8mMnhz8fygaIOIyIP908emjEcYU/226Cb5o+iz+d0ftrHiyIP+NG20Khr4o/toTXiSarjT9kvzgCAueGPzqNWZtrPYg/J7Ig3oSMkT809iUbD7aQPwkUVs/uNYk/4taTr7rEhz/k63yJwniHPwD34cVnV4Y/B6v7EdCOhT+s3oa99QaEP4LlCBnIs4s/ToP9MnPchD9GLShng6eLP6ICcWjbeoc/I5tQLcfQhj8Tf28uWXCSP2gHtxA/Woc/C0J5H0dzhD8lhWhj21iPP+zLiMGyiIc/jpmfdlMlhT+j+a3ntSOGPw8XbxqR3oY/fSgsTDoliz/dBIR7CiWIP7kB+ti4WYc/8WNxpNh2jz//euC+aVWGP1b3I6Ady4Y/IId3b/vUhz+OZ+H8l7WOPxPc/ksIDIg/fPlTmRiBhz/WvV8WJMeHPwr8PKEyWYc/JqVFItnIkj+aFqu801OKP1LhvsQOGYU/+dRWkXZIhj++JhAb0eKRP4xEDUuohYc/GhnkLsIUhT9mzwqxn2qJP5sMIq2MoYc/0gjsIGV6iD8u/fCYJhGGP80f09o0toc/MzUJ3pBGhT/uXL0v05uGPzRuIBPfP4w/IYvZN5yejD8p9oaxO5OMP3edsj/1tIg/3WFuUiwSjj8rz81IztOKP1B6lWvA1os/T0QacPFLkD+m+RnNgGmHP52V/m82Z44/XHCrxUxHlT8rmEIxw5CGP1zRQfIpW5c/D7y1pz9Wiz+8AWa+g5+IP0hl1MYil4k/GtsQiHw8iT9u7TMd8K+UP7fsEP+wpYc/TQP1HEdiiD/jG2VYINWLPyMupdNfVIc/Ad2XM9sVij9+3CNA8nOIP0y1BTpJqYo/zLkUV5V9hz8JsxpchHOHPzP3NTdLbok/yT8ziA/siD8SxNTx8zqNP2pZCLzd3JE/gtDVsaWijD9JxO8BFemJPxwOpryx+5E/ogvqW+Z0pT8CZylZTkKlP7ie146Yj6o/4Reo1gy6oj+1+X/VkSOlP2dbcoFwqqY/kgYSb/g4qj+TMHg9PVuoPyoOVlLdEuo/pLFRMSkZ6j8="
         },
         "yaxis": "y",
         "type": "scattergl"
        },
        {
         "hovertemplate": "variable=output_eval_time<br>input_tokens=%{x}<br>value=%{y}<extra></extra>",
         "legendgroup": "output_eval_time",
         "marker": {
          "color": "#ab63fa",
          "symbol": "circle"
         },
         "mode": "markers",
         "name": "output_eval_time",
         "showlegend": true,
         "x": {
          "dtype": "i2",
          "bdata": "WABbAFcAWgBMAE8AWQBcAE0AUABUAFcAUABTAFcAWgBWAFkAUgBVAFkAXABOAFEASwBOAFgAWwBRAFQAUQBUAE4AUQBPAFIAUABTAFYAWQBRAFQAUQBUAFsAXgBUAFcATwBSAFIAVQBRAFQAUgBVAFQAVwBOAFEAVABXAFQAVwD7Af4B8wH2AfMB9gHtAfAB+wH+AfMB9gHzAfYB7QHwAfsB/gHzAfYB8wH2Ae0B8AH7Af4B8wH2AfMB9gHtAfABiQeMB4kHjAeJB4wHiQeMB98d4h0iACUAIAAjACAAIwAhACQAIQAkACEAJAAgACMAIwAmACQAJwAgACMAIwAmACMAJgAhACQAIAAjACAAIwAiACUAIQAkACMAJgAfACIAIQAkACAAIwAfACIAIAAjACIAJQAlACgAIAAjACMAJgAhACQAIAAjACAAIwAgACMAHwAiAGcAagBsAG8AZABnAGcAagBpAGwAZQBoAGMAZgBnAGoAZQBoAGQAZwBnAGoAYABjAGUAaABoAGsAYQBkAGoAbQBZAVwBUwFWAUsBTgFTAVYBBQUIBWcAagBUAFcAXQBgAFYAWQBTAFYAUwBWAE8AUgBWAFkAWABbAE8AUgBUAFcAUwBWAFcAWgBQAFMATgBRAEsATgBSAFUATQBQAFQAVwBSAFUAWwBeAE8AUgBNAFAASwBOAEgASwBRAFQAUABTAE4AUQBLAE4ATABPAEoATQBLAE4AGAIbAu0B8AHmAekBwgHFARgCGwLtAfAB5gHpAcIBxQEYAhsC7QHwAeYB6QHCAcUBGAIbAu0B8AHmAekBwgHFAWgHawdoB2sHaAdrB2gHawdbHV4dJgApACEAJAAlACgAIgAlACIAJQAkACcAIQAkACEAJAAiACUAIQAkACQAJwAkACcAIwAmACQAJwAjACYALQAwACQAJwAiACUAIgAlACEAJAAiACUAIwAmACEAJAAkACcAJQAoACIAJQAkACcAIwAmACMAJgAkACcAJwAqACMAJgB1AHgAgQCEAHIAdQB+AIEAewB+AHcAegB0AHcAegB9AHkAfAB2AHkAcgB1AH0AgAB1AHgAbgBxAHUAeAB4AHsAoQGkAZsBngGZAZwBiwGOARsGHgY="
         },
         "xaxis": "x",
         "y": {
          "dtype": "f8",
          "bdata": "ZirEI/Ey6j/vtfuwOVIYQMF39vDAe/M/yeDNvwKxI0A3ab9aWjLyP0MSBxp9wi5AhDmLKDfb6T+dl9QalFISQMMkplU+1ew/+AA4UaZEHkB/z1mwnuTkP7Q4Y5gTHBRAAgNSrGSx8T/BkgYSbzQgQBtloq3vaMs/RmklY2vcB0Bj6H2IshzhP9FQ7R1/KxZA8lcS6jOxyD/YwLHCiMgbQFUGxNrOrec/+HcRAeJxFkBqH+FqU2v5P8N/uoECMyBAIwUFlDyN3T++g584gB4aQJBZB1EIbuM/pjou9NIuAECGwgwybk/sPxwAu+TJXx5Ab0xPWOKh8z+tXST+cnMhQJsGRfMA1u4/ok1pWOdTI0AoUHqVa2D2P9y7Bn3puSZAYCV6dH5F8D9z7VV1oKQsQC3/a4oRk+E/d9JnrKI8GUAUw3pInSW/P88lZgemRAdAp/iu99Gf5T8YLZuU3afQP55v+mmSDtU/UJuCRvoOGUDwXM5bK5DQPyGRtvEnkh1AWCXsNgM39T/SONTvwqYfQCpHtxRGyfI/2SmxxjRuJ0AJMZdUbbfxP3TIcreQCCBAAMrfvaMG6z/PmsTF9pcfQOCEQgQcQs4/UTermRBOGkCE4+jgT2P2PyI2WDhJNyZAVgm7zcBt7j9fq04Y3oYqQItuvaYHBdw/R6xq7o22HkC+MJkqGDURQKD1lawvSydAeJs3TgpDCUCi5B/HIDUrQPG8VGzMOxlALADXX8AAI0DVhtT+GCQWQAsusY3T+zBAliDI5k+YF0CK3ePxWacpQFiYdEr2/gdA+HjXjwNNLEAOxA1TtssSQJ+40iEmOydAk0RAz7AiFUA8r8J3rPMuQAuipHZ11RJA2RR+XxI5JUC9O40PDnEKQM1nL5HB6DBAlHVJ5qK7DUD1W4XeLC8mQHE6bp0k6hZAauvxjMfkMkAE2JE0yTkRQCm9Je/SMClAESqCSTuvAEDv7fGd80YfQOb4sv7g7Q1Ap0Es9vIaJkAJTEy8qDIWQMOtceyPmjNA3VTuT/MHM0ALGG4KdRI/QN1DHbFx5DNANYkwNI2VRUCdkfdgCBM2QJTzxd6LVTRAjFzc60m9MUA9WkF4Wd47QGwkrgij3g1AVA2xsJYxDkDSzh+JTRrLP6s3D8x2Kss/ziM1o9U/8D9KWdDF8FIsQICORYlMr7E/r0OQ3stgH0A+MmfHV4zwP2M+xRYnyyVAONibGJKTtT+pekMrQSAaQFm2IKUjyrA/uTwxRn/Dxj9o7nya7tDtPzNv1XWokipAO6zLhLpj4j9u4uR+h1INQAR1yqMbYe8/OKv0yUCsEUBF7/kGyz3wP6vLKQExTSlAl/TmJiBc7j+NcnooGwAKQA8r3PKRFNA/NdSD3Qsnwz+CrRIsDgfxP+9+cJkuPyVAF3CFZo0wtT/pwllbwoMWQMo/jkGCPbs/X97SILuREED356Ih4xHgP7vhiP+FpyBAof95dem6yj9pjNZR1QQYQPUQMjWuJMg/2VfD6jRXAUCyKy0j9b7zP7zzeuabdyBAqt7QShDk7D9VufU/ZakWQLAgKBKn7vI/2z6aoDy6JUBaA6WycjnwP7QU2oNaMSBAcaHhg40B8j8v1AbM6JAlQF0EfG3sCOo/gySiTi8XB0BC1Ni5xOzMP4Tn7+990xFA4zz3eefr7z9MRt/u9jYgQFnFdlK6T9I/vT2+c96lGUBotuFmp1XcP8kJbv8lDBhAmCchouIp8D8ZqDHGLOgmQLfPKjOlVfM/7F1ykpwuJ0DWbIpsjELzPzEUZpBxsyRAOciQCDJn6D8ntzcJ70QeQJEpH4Kq4QxAXdpwWBqgK0BODp90IjELQLnEkQciHyhA0NeHUACABEBkAn6NJP0jQNgg3Rm3EgpAKdoLu970J0BcjexKyxgJQLvUY7a/xiRAnHUhsTiHD0AbUwuATNgwQFe4QN2bagdAZU48DFLlMEB5KwHne1wQQAjA5OvXADFAOEB61KksDUAthIvLp00lQFs2hHTChQ5AZh6v9mYmNkDBt59CZGcPQGXFcHUAhjdA0LP+O0eJCUBz7Oqf8XoxQJl4UQXtzwRAibZj6q60FEB9GpwtxfoCQPLlT2VizCdA148DZQnxEUBbS7fb5C4vQHIXBtH/xwNArgkO1M7VDUAE29K01dIoQOBOfXsyYDlAKOJjZlVqEEBV88HXfEsxQHGipxKv8CNAwbgKGBMbQUDcgqW6gKchQPWSEPY3tihAFFVkGYevHkCgK1s1GV8hQEcwH1p1B/Q/E3jM5at9K0Do5WZudDQBQL/8BAb/5SZAhRDr6BPU+T930mesomQsQLWc8LfiZ/U/SCLq9HIqK0Ak3BrH/qj1PwqaO5+m2yNAhT79DBT99D+6SQwCK48oQIAiYL4G7vQ/jBmXYCeTMEDZcz7hkf3xPw4gjVQpDy1Af+mjQitm9D//3UyWpNQsQAqsLYa8L/Q/Qk+5eC5GKUDHrqNgfGf8P2iV9Itt0S9ATqlc8olG/j/zw1Ju7OskQJyQMdLmk/I/tN4U+3ARIkAB07NqIfL5P6feZGVFbi1AepyzTxEx+T/4EQnwJ1woQHxGIjSC7fQ/umbyzTb3KEDTEPo+wboCQPiXkwZtKCRAc1b6v9n89z/7gWGvZqcpQBfQsL27uvo//O2hMx+eKEB8fEJ23qbxP1aLPtXXVSpAx8RBnU0i+D/YvXBCfB8pQJIVDWMcjfE/APuNGyPKLUCgaMMGsI32P6kAzkGGuCpAxFeFF44x8j/U0oFR7jMpQHcMNES6hPE/AtlGl5KAIkDu0uF8RRIAQJp1az5TtCZA+rvSjQsC+j8oYDsYsRMvQEHORY1T/vI/4eNdPw6sJkB6ZSg4Bu71P5OwJZr27yVAiMTzCCRX+T+lP0UfPbMpQJhEB27u+fk/5z7vfPVvJ0A8IYX8fdDxPyH0Isli8SZAzkWNU74dIUAO3x10ZFJDQPE8AsmF7BlA0CRW62nkPUCT1imgmjQbQJRyrawjIzFA/Q9VnXr5GUBv/U9ZqGZBQK16rxAMJiBA+SsJ9ZksQ0Bj1XuFYBAYQFud91orWTtAX2f5cH+UI0Av0P+8ujY6QLnq8MY4pR1AgZNt4A7yREA+Oa9WkqkgQDlRXJ+D80dAYfvJGB/uGkB3wNB+/0xAQGbzOAzmuyJAUpDpGnfAOkA9679zlAgZQP8FggAZ9D5Anb6er1nGGkC9iSE5meVBQNUa7zPT8hdAJBko3yL6OUCXIvlKIA0dQBBxGHGmkj1AxyMCH81KHkCPmfovxjxAQC1rrA7KXz1AkGgCRSxPWUCPgkzXuEZAQLNg4o8iJFdATjIoidtHO0BIfg4981xRQOR5ugTxSEFAxDjJoKTnXEBgksoUc5gaQLP0V37PJiJAC7xJwnSQ9z/xGHm0zBknQD2CduLN1fY/iTGfYos7JEBZHv9gO9P2PzNxBtp4uytAlgPiGkQw+T+Fs1vLZEwlQBjzzvzF5/Q/MzFdiNX3LED3aLtTS+T1P3ZpaKj2iiNAjp2mhYH98j8rNBDLZiooQMKtFjMdFfE/r0VmiSkkIkBgIAiQoQP1PwHxX8VOySJAdA6eCU1S/D+hyh/CrnwkQCjxuRPsX/Y/xEiKI2oJJUC/c5QoIFLyP5NwfEhThCRAmnFkLyU8+T90yu2oewIpQJljHp7Kzu4/6Nms+lxhKUDX6ItziqT5P2BCYECKcShArFotC4G37T806zE2GYoiQItQbAVNi+s/UO+YcJ7YGkBlxcsuc5XwPyTLk7WXUilAtvBhm/n68z99VdOai8woQHLPqRpzTes/+cvdnWuGLUBdB73t+AXxP4UZZNweyipAXmdD/pkh8z+2ErpL4iglQCs5gq9DkPA/tsB5zJt2J0CMvRdftEfzP98InLaQKSJAT5n2KLdo9z9/vWfJiGgnQAAoNWp0fe8/1HvP7cqzJkCcpJ6q5+nzP6kIgaZvZyZAx8fd1sww8D9dWVgmsgUbQEcFTraB++s/b7fJTXkRI0D8zR8ulMfzP55AfXDjAyxAqX7vgPx2+T/qUJfW8FYdQGQ4QxYO6fA/T7y5rk74KUAsgv+tZLcdQMsIuZxcUT1A0vHiDuVdIEBvCnWibrdBQFNScS2k3R9Ashb6u9J7P0DIs8u3PrwcQADt/fytqUBAM78/SpHdIEBT97e6UhU9QAd96e3PzR9Apw8Tw8S5PUA7H/neOlIhQLynFyHhwj1AoNxbNt/FHkDcPYqEACg6QAI0pVBx5xVAvisnRjthNkA7wDhduwUgQOMKOQAsJEJA9TaR9MQGHkCW5TXAFjlBQDewC/WqLB5AgPZ+/tarQkBJzWj1H0sgQH0JFRxe7D1A9ixjnvBtHkBRl9bwPldDQKjHtgw4oxNAuv2oPHDQM0CUx4ll6WkUQNRH4A8/sTxAwwnx7QI2NUCZTYBh+SZNQA/rjVphdjpAfHWfLbHnUEBkPEolPC8yQNQtln2yf05An2o++JpNNEALzRphdnpXQEtON5ptuAxA3KtF+qPwQEA="
         },
         "yaxis": "y",
         "type": "scattergl"
        }
       ],
       "layout": {
        "template": {
         "data": {
          "histogram2dcontour": [
           {
            "type": "histogram2dcontour",
            "colorbar": {
             "outlinewidth": 0,
             "ticks": ""
            },
            "colorscale": [
             [
              0.0,
              "#0d0887"
             ],
             [
              0.1111111111111111,
              "#46039f"
             ],
             [
              0.2222222222222222,
              "#7201a8"
             ],
             [
              0.3333333333333333,
              "#9c179e"
             ],
             [
              0.4444444444444444,
              "#bd3786"
             ],
             [
              0.5555555555555556,
              "#d8576b"
             ],
             [
              0.6666666666666666,
              "#ed7953"
             ],
             [
              0.7777777777777778,
              "#fb9f3a"
             ],
             [
              0.8888888888888888,
              "#fdca26"
             ],
             [
              1.0,
              "#f0f921"
             ]
            ]
           }
          ],
          "choropleth": [
           {
            "type": "choropleth",
            "colorbar": {
             "outlinewidth": 0,
             "ticks": ""
            }
           }
          ],
          "histogram2d": [
           {
            "type": "histogram2d",
            "colorbar": {
             "outlinewidth": 0,
             "ticks": ""
            },
            "colorscale": [
             [
              0.0,
              "#0d0887"
             ],
             [
              0.1111111111111111,
              "#46039f"
             ],
             [
              0.2222222222222222,
              "#7201a8"
             ],
             [
              0.3333333333333333,
              "#9c179e"
             ],
             [
              0.4444444444444444,
              "#bd3786"
             ],
             [
              0.5555555555555556,
              "#d8576b"
             ],
             [
              0.6666666666666666,
              "#ed7953"
             ],
             [
              0.7777777777777778,
              "#fb9f3a"
             ],
             [
              0.8888888888888888,
              "#fdca26"
             ],
             [
              1.0,
              "#f0f921"
             ]
            ]
           }
          ],
          "heatmap": [
           {
            "type": "heatmap",
            "colorbar": {
             "outlinewidth": 0,
             "ticks": ""
            },
            "colorscale": [
             [
              0.0,
              "#0d0887"
             ],
             [
              0.1111111111111111,
              "#46039f"
             ],
             [
              0.2222222222222222,
              "#7201a8"
             ],
             [
              0.3333333333333333,
              "#9c179e"
             ],
             [
              0.4444444444444444,
              "#bd3786"
             ],
             [
              0.5555555555555556,
              "#d8576b"
             ],
             [
              0.6666666666666666,
              "#ed7953"
             ],
             [
              0.7777777777777778,
              "#fb9f3a"
             ],
             [
              0.8888888888888888,
              "#fdca26"
             ],
             [
              1.0,
              "#f0f921"
             ]
            ]
           }
          ],
          "contourcarpet": [
           {
            "type": "contourcarpet",
            "colorbar": {
             "outlinewidth": 0,
             "ticks": ""
            }
           }
          ],
          "contour": [
           {
            "type": "contour",
            "colorbar": {
             "outlinewidth": 0,
             "ticks": ""
            },
            "colorscale": [
             [
              0.0,
              "#0d0887"
             ],
             [
              0.1111111111111111,
              "#46039f"
             ],
             [
              0.2222222222222222,
              "#7201a8"
             ],
             [
              0.3333333333333333,
              "#9c179e"
             ],
             [
              0.4444444444444444,
              "#bd3786"
             ],
             [
              0.5555555555555556,
              "#d8576b"
             ],
             [
              0.6666666666666666,
              "#ed7953"
             ],
             [
              0.7777777777777778,
              "#fb9f3a"
             ],
             [
              0.8888888888888888,
              "#fdca26"
             ],
             [
              1.0,
              "#f0f921"
             ]
            ]
           }
          ],
          "surface": [
           {
            "type": "surface",
            "colorbar": {
             "outlinewidth": 0,
             "ticks": ""
            },
            "colorscale": [
             [
              0.0,
              "#0d0887"
             ],
             [
              0.1111111111111111,
              "#46039f"
             ],
             [
              0.2222222222222222,
              "#7201a8"
             ],
             [
              0.3333333333333333,
              "#9c179e"
             ],
             [
              0.4444444444444444,
              "#bd3786"
             ],
             [
              0.5555555555555556,
              "#d8576b"
             ],
             [
              0.6666666666666666,
              "#ed7953"
             ],
             [
              0.7777777777777778,
              "#fb9f3a"
             ],
             [
              0.8888888888888888,
              "#fdca26"
             ],
             [
              1.0,
              "#f0f921"
             ]
            ]
           }
          ],
          "mesh3d": [
           {
            "type": "mesh3d",
            "colorbar": {
             "outlinewidth": 0,
             "ticks": ""
            }
           }
          ],
          "scatter": [
           {
            "marker": {
             "line": {
              "color": "#283442"
             }
            },
            "type": "scatter"
           }
          ],
          "parcoords": [
           {
            "type": "parcoords",
            "line": {
             "colorbar": {
              "outlinewidth": 0,
              "ticks": ""
             }
            }
           }
          ],
          "scatterpolargl": [
           {
            "type": "scatterpolargl",
            "marker": {
             "colorbar": {
              "outlinewidth": 0,
              "ticks": ""
             }
            }
           }
          ],
          "bar": [
           {
            "error_x": {
             "color": "#f2f5fa"
            },
            "error_y": {
             "color": "#f2f5fa"
            },
            "marker": {
             "line": {
              "color": "rgb(17,17,17)",
              "width": 0.5
             },
             "pattern": {
              "fillmode": "overlay",
              "size": 10,
              "solidity": 0.2
             }
            },
            "type": "bar"
           }
          ],
          "scattergeo": [
           {
            "type": "scattergeo",
            "marker": {
             "colorbar": {
              "outlinewidth": 0,
              "ticks": ""
             }
            }
           }
          ],
          "scatterpolar": [
           {
            "type": "scatterpolar",
            "marker": {
             "colorbar": {
              "outlinewidth": 0,
              "ticks": ""
             }
            }
           }
          ],
          "histogram": [
           {
            "marker": {
             "pattern": {
              "fillmode": "overlay",
              "size": 10,
              "solidity": 0.2
             }
            },
            "type": "histogram"
           }
          ],
          "scattergl": [
           {
            "marker": {
             "line": {
              "color": "#283442"
             }
            },
            "type": "scattergl"
           }
          ],
          "scatter3d": [
           {
            "type": "scatter3d",
            "line": {
             "colorbar": {
              "outlinewidth": 0,
              "ticks": ""
             }
            },
            "marker": {
             "colorbar": {
              "outlinewidth": 0,
              "ticks": ""
             }
            }
           }
          ],
          "scattermap": [
           {
            "type": "scattermap",
            "marker": {
             "colorbar": {
              "outlinewidth": 0,
              "ticks": ""
             }
            }
           }
          ],
          "scattermapbox": [
           {
            "type": "scattermapbox",
            "marker": {
             "colorbar": {
              "outlinewidth": 0,
              "ticks": ""
             }
            }
           }
          ],
          "scatterternary": [
           {
            "type": "scatterternary",
            "marker": {
             "colorbar": {
              "outlinewidth": 0,
              "ticks": ""
             }
            }
           }
          ],
          "scattercarpet": [
           {
            "type": "scattercarpet",
            "marker": {
             "colorbar": {
              "outlinewidth": 0,
              "ticks": ""
             }
            }
           }
          ],
          "carpet": [
           {
            "aaxis": {
             "endlinecolor": "#A2B1C6",
             "gridcolor": "#506784",
             "linecolor": "#506784",
             "minorgridcolor": "#506784",
             "startlinecolor": "#A2B1C6"
            },
            "baxis": {
             "endlinecolor": "#A2B1C6",
             "gridcolor": "#506784",
             "linecolor": "#506784",
             "minorgridcolor": "#506784",
             "startlinecolor": "#A2B1C6"
            },
            "type": "carpet"
           }
          ],
          "table": [
           {
            "cells": {
             "fill": {
              "color": "#506784"
             },
             "line": {
              "color": "rgb(17,17,17)"
             }
            },
            "header": {
             "fill": {
              "color": "#2a3f5f"
             },
             "line": {
              "color": "rgb(17,17,17)"
             }
            },
            "type": "table"
           }
          ],
          "barpolar": [
           {
            "marker": {
             "line": {
              "color": "rgb(17,17,17)",
              "width": 0.5
             },
             "pattern": {
              "fillmode": "overlay",
              "size": 10,
              "solidity": 0.2
             }
            },
            "type": "barpolar"
           }
          ],
          "pie": [
           {
            "automargin": true,
            "type": "pie"
           }
          ]
         },
         "layout": {
          "autotypenumbers": "strict",
          "colorway": [
           "#636efa",
           "#EF553B",
           "#00cc96",
           "#ab63fa",
           "#FFA15A",
           "#19d3f3",
           "#FF6692",
           "#B6E880",
           "#FF97FF",
           "#FECB52"
          ],
          "font": {
           "color": "#f2f5fa"
          },
          "hovermode": "closest",
          "hoverlabel": {
           "align": "left"
          },
          "paper_bgcolor": "rgb(17,17,17)",
          "plot_bgcolor": "rgb(17,17,17)",
          "polar": {
           "bgcolor": "rgb(17,17,17)",
           "angularaxis": {
            "gridcolor": "#506784",
            "linecolor": "#506784",
            "ticks": ""
           },
           "radialaxis": {
            "gridcolor": "#506784",
            "linecolor": "#506784",
            "ticks": ""
           }
          },
          "ternary": {
           "bgcolor": "rgb(17,17,17)",
           "aaxis": {
            "gridcolor": "#506784",
            "linecolor": "#506784",
            "ticks": ""
           },
           "baxis": {
            "gridcolor": "#506784",
            "linecolor": "#506784",
            "ticks": ""
           },
           "caxis": {
            "gridcolor": "#506784",
            "linecolor": "#506784",
            "ticks": ""
           }
          },
          "coloraxis": {
           "colorbar": {
            "outlinewidth": 0,
            "ticks": ""
           }
          },
          "colorscale": {
           "sequential": [
            [
             0.0,
             "#0d0887"
            ],
            [
             0.1111111111111111,
             "#46039f"
            ],
            [
             0.2222222222222222,
             "#7201a8"
            ],
            [
             0.3333333333333333,
             "#9c179e"
            ],
            [
             0.4444444444444444,
             "#bd3786"
            ],
            [
             0.5555555555555556,
             "#d8576b"
            ],
            [
             0.6666666666666666,
             "#ed7953"
            ],
            [
             0.7777777777777778,
             "#fb9f3a"
            ],
            [
             0.8888888888888888,
             "#fdca26"
            ],
            [
             1.0,
             "#f0f921"
            ]
           ],
           "sequentialminus": [
            [
             0.0,
             "#0d0887"
            ],
            [
             0.1111111111111111,
             "#46039f"
            ],
            [
             0.2222222222222222,
             "#7201a8"
            ],
            [
             0.3333333333333333,
             "#9c179e"
            ],
            [
             0.4444444444444444,
             "#bd3786"
            ],
            [
             0.5555555555555556,
             "#d8576b"
            ],
            [
             0.6666666666666666,
             "#ed7953"
            ],
            [
             0.7777777777777778,
             "#fb9f3a"
            ],
            [
             0.8888888888888888,
             "#fdca26"
            ],
            [
             1.0,
             "#f0f921"
            ]
           ],
           "diverging": [
            [
             0,
             "#8e0152"
            ],
            [
             0.1,
             "#c51b7d"
            ],
            [
             0.2,
             "#de77ae"
            ],
            [
             0.3,
             "#f1b6da"
            ],
            [
             0.4,
             "#fde0ef"
            ],
            [
             0.5,
             "#f7f7f7"
            ],
            [
             0.6,
             "#e6f5d0"
            ],
            [
             0.7,
             "#b8e186"
            ],
            [
             0.8,
             "#7fbc41"
            ],
            [
             0.9,
             "#4d9221"
            ],
            [
             1,
             "#276419"
            ]
           ]
          },
          "xaxis": {
           "gridcolor": "#283442",
           "linecolor": "#506784",
           "ticks": "",
           "title": {
            "standoff": 15
           },
           "zerolinecolor": "#283442",
           "automargin": true,
           "zerolinewidth": 2
          },
          "yaxis": {
           "gridcolor": "#283442",
           "linecolor": "#506784",
           "ticks": "",
           "title": {
            "standoff": 15
           },
           "zerolinecolor": "#283442",
           "automargin": true,
           "zerolinewidth": 2
          },
          "scene": {
           "xaxis": {
            "backgroundcolor": "rgb(17,17,17)",
            "gridcolor": "#506784",
            "linecolor": "#506784",
            "showbackground": true,
            "ticks": "",
            "zerolinecolor": "#C8D4E3",
            "gridwidth": 2
           },
           "yaxis": {
            "backgroundcolor": "rgb(17,17,17)",
            "gridcolor": "#506784",
            "linecolor": "#506784",
            "showbackground": true,
            "ticks": "",
            "zerolinecolor": "#C8D4E3",
            "gridwidth": 2
           },
           "zaxis": {
            "backgroundcolor": "rgb(17,17,17)",
            "gridcolor": "#506784",
            "linecolor": "#506784",
            "showbackground": true,
            "ticks": "",
            "zerolinecolor": "#C8D4E3",
            "gridwidth": 2
           }
          },
          "shapedefaults": {
           "line": {
            "color": "#f2f5fa"
           }
          },
          "annotationdefaults": {
           "arrowcolor": "#f2f5fa",
           "arrowhead": 0,
           "arrowwidth": 1
          },
          "geo": {
           "bgcolor": "rgb(17,17,17)",
           "landcolor": "rgb(17,17,17)",
           "subunitcolor": "#506784",
           "showland": true,
           "showlakes": true,
           "lakecolor": "rgb(17,17,17)"
          },
          "title": {
           "x": 0.05
          },
          "updatemenudefaults": {
           "bgcolor": "#506784",
           "borderwidth": 0
          },
          "sliderdefaults": {
           "bgcolor": "#C8D4E3",
           "borderwidth": 1,
           "bordercolor": "rgb(17,17,17)",
           "tickwidth": 0
          },
          "mapbox": {
           "style": "dark"
          }
         }
        },
        "xaxis": {
         "anchor": "y",
         "domain": [
          0.0,
          1.0
         ],
         "title": {
          "text": "input_tokens"
         }
        },
        "yaxis": {
         "anchor": "x",
         "domain": [
          0.0,
          1.0
         ],
         "title": {
          "text": "value"
         }
        },
        "legend": {
         "title": {
          "text": "variable"
         },
         "tracegroupgap": 0
        },
        "margin": {
         "t": 60
        }
       },
       "config": {
        "plotlyServerURL": "https://plot.ly"
       }
      }
     },
     "metadata": {},
     "output_type": "display_data",
     "jetTransient": {
      "display_id": null
     }
    }
   ],
   "execution_count": 31
  }
 ],
 "metadata": {
  "kernelspec": {
   "display_name": "Python 3",
   "language": "python",
   "name": "python3"
  },
  "language_info": {
   "codemirror_mode": {
    "name": "ipython",
    "version": 2
   },
   "file_extension": ".py",
   "mimetype": "text/x-python",
   "name": "python",
   "nbconvert_exporter": "python",
   "pygments_lexer": "ipython2",
   "version": "2.7.6"
  }
 },
 "nbformat": 4,
 "nbformat_minor": 5
}
