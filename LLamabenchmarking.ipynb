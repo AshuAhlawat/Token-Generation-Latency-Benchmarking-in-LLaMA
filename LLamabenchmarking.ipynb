{
 "cells": [
  {
   "cell_type": "code",
   "execution_count": 12,
   "id": "4547fc90",
   "metadata": {},
   "outputs": [],
   "source": [
    "import ollama"
   ]
  },
  {
   "cell_type": "code",
   "execution_count": 17,
   "id": "1ca2a3cf",
   "metadata": {},
   "outputs": [],
   "source": [
    "rstream = ollama.chat(\n",
    "    model=\"llama3\",\n",
    "    messages=[\n",
    "        {\"role\": \"user\", \"content\": \"what comes after a\"},\n",
    "        {\"role\": \"assistant\", \"content\": \"and after that\"},\n",
    "    ],\n",
    "    stream = True\n",
    ")"
   ]
  },
  {
   "cell_type": "code",
   "execution_count": 18,
   "id": "7a135d55",
   "metadata": {},
   "outputs": [
    {
     "name": "stdout",
     "output_type": "stream",
     "text": [
      "role='assistant' content='?\\n\\n' thinking=None images=None tool_name=None tool_calls=None\n",
      "role='assistant' content='In' thinking=None images=None tool_name=None tool_calls=None\n",
      "role='assistant' content=' the' thinking=None images=None tool_name=None tool_calls=None\n",
      "role='assistant' content=' English' thinking=None images=None tool_name=None tool_calls=None\n",
      "role='assistant' content=' alphabet' thinking=None images=None tool_name=None tool_calls=None\n",
      "role='assistant' content=',' thinking=None images=None tool_name=None tool_calls=None\n",
      "role='assistant' content=' \"' thinking=None images=None tool_name=None tool_calls=None\n",
      "role='assistant' content='a' thinking=None images=None tool_name=None tool_calls=None\n",
      "role='assistant' content='\"' thinking=None images=None tool_name=None tool_calls=None\n",
      "role='assistant' content=' is' thinking=None images=None tool_name=None tool_calls=None\n",
      "role='assistant' content=' followed' thinking=None images=None tool_name=None tool_calls=None\n",
      "role='assistant' content=' by' thinking=None images=None tool_name=None tool_calls=None\n",
      "role='assistant' content=' \"' thinking=None images=None tool_name=None tool_calls=None\n",
      "role='assistant' content='b' thinking=None images=None tool_name=None tool_calls=None\n",
      "role='assistant' content='\".' thinking=None images=None tool_name=None tool_calls=None\n",
      "role='assistant' content='' thinking=None images=None tool_name=None tool_calls=None\n"
     ]
    }
   ],
   "source": [
    "for msg in rstream:\n",
    "    print(msg.message)"
   ]
  }
 ],
 "metadata": {
  "kernelspec": {
   "display_name": "Python 3",
   "language": "python",
   "name": "python3"
  },
  "language_info": {
   "codemirror_mode": {
    "name": "ipython",
    "version": 3
   },
   "file_extension": ".py",
   "mimetype": "text/x-python",
   "name": "python",
   "nbconvert_exporter": "python",
   "pygments_lexer": "ipython3",
   "version": "3.10.8"
  }
 },
 "nbformat": 4,
 "nbformat_minor": 5
}
